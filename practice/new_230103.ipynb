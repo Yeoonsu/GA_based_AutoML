{
 "cells": [
  {
   "cell_type": "code",
   "execution_count": 2,
   "metadata": {},
   "outputs": [],
   "source": [
    "import pandas as pd\n",
    "import numpy as np\n",
    "\n",
    "from sklearn.model_selection import train_test_split\n",
    "\n",
    "from sklearn.tree import DecisionTreeClassifier\n",
    "from sklearn import tree\n",
    "from sklearn.ensemble import RandomForestClassifier\n",
    "import xgboost as xgb\n",
    "from xgboost import plot_importance\n",
    "from xgboost import XGBClassifier\n",
    "from sklearn.preprocessing import LabelEncoder\n",
    "\n",
    "from sklearn.metrics import accuracy_score\n",
    "from sklearn.metrics import precision_score\n",
    "from sklearn.metrics import recall_score\n",
    "from sklearn.metrics import f1_score\n",
    "\n",
    "import lightgbm as lgb\n"
   ]
  },
  {
   "cell_type": "code",
   "execution_count": 3,
   "metadata": {},
   "outputs": [],
   "source": [
    "# read BPIC12.csv and Add label\n",
    "# label = {'Activity' : 'O_ACCEPTED-COMPLETE'}\n",
    "\n",
    "df = pd.DataFrame()\n",
    "\n",
    "def label(self):\n",
    "    df = pd.read_csv('BPIC12.csv')\n",
    "    df = df[['Case ID', 'Activity', 'Resource', 'Complete Timestamp']]\n",
    "    df['label'] = \"\"\n",
    "    df.loc[df['Activity'] == 'O_ACCEPTED-COMPLETE', 'label'] = '1'\n",
    "    df.loc[df['Activity'] != 'O_ACCEPTED-COMPLETE', 'label'] = '0'\n",
    "    return df\n",
    "\n",
    "df = label(df)"
   ]
  },
  {
   "cell_type": "code",
   "execution_count": 4,
   "metadata": {},
   "outputs": [
    {
     "name": "stdout",
     "output_type": "stream",
     "text": [
      "2243\n"
     ]
    }
   ],
   "source": [
    "# error check\n",
    "count = len(df[df['label'] == '1'])\n",
    "print(count)"
   ]
  },
  {
   "cell_type": "code",
   "execution_count": 5,
   "metadata": {},
   "outputs": [],
   "source": [
    "# dict : drop_act, bucketing, encoding, model\n",
    "\n",
    "# drop_act = {2, 4, 6, 8}\n",
    "# bucketing = {1, 2*mean_trace_length}\n",
    "# encoding = {'aggregate', 'index'}\n",
    "# model = {'DT', 'RF', 'XGB', 'LGBM'}\n",
    "\n",
    "parameter = {'drop_act':[2,4,6,8], \n",
    "    'bucketing':[1, 2*'mean_trace_length'],\n",
    "    'encoding':['aggregate', 'index'],\n",
    "    'model':['DT', 'RF', 'XGB', 'LGBM']}\n",
    "\n",
    "     # need to modify bucketing"
   ]
  },
  {
   "cell_type": "code",
   "execution_count": 6,
   "metadata": {},
   "outputs": [
    {
     "name": "stdout",
     "output_type": "stream",
     "text": [
      "(2, 1, 'aggregate', 'RF')\n"
     ]
    }
   ],
   "source": [
    "def random_machine():\n",
    "    i = np.random.randint(0, 3)\n",
    "    j = np.random.randint(0, 1)\n",
    "    k = np.random.randint(0, 1)\n",
    "    v = np.random.randint(0, 3)\n",
    "\n",
    "    tuple = (parameter['drop_act'][i],\n",
    "            parameter['bucketing'][j],\n",
    "            parameter['encoding'][k],\n",
    "            parameter['model'][v])\n",
    "\n",
    "    return tuple\n",
    "\n",
    "print(random_machine())"
   ]
  },
  {
   "cell_type": "code",
   "execution_count": 32,
   "metadata": {},
   "outputs": [
    {
     "name": "stdout",
     "output_type": "stream",
     "text": [
      "(6, 1, 'aggregate', 'RF')\n",
      "Accuracy: 1.0\n"
     ]
    }
   ],
   "source": [
    "rand = random_machine()\n",
    "print(rand)\n",
    "\n",
    "# ['DT', 'RF', 'XGB', 'LGBM']\n",
    "\n",
    "if 'DT' in rand:\n",
    "    DT()\n",
    "\n",
    "if 'RF' in rand:\n",
    "    RF()\n",
    "\n",
    "if 'XGB' in rand:\n",
    "    XGB()\n",
    "\n",
    "if 'LGBM' in rand:\n",
    "    LGBM()"
   ]
  },
  {
   "cell_type": "code",
   "execution_count": 18,
   "metadata": {},
   "outputs": [],
   "source": [
    "# class genetic_algorithm()"
   ]
  },
  {
   "cell_type": "code",
   "execution_count": 19,
   "metadata": {},
   "outputs": [],
   "source": [
    "# Data pre-processing\n",
    "\n",
    "X = df.drop('label', axis=1)\n",
    "y = df['label']"
   ]
  },
  {
   "cell_type": "code",
   "execution_count": 20,
   "metadata": {},
   "outputs": [],
   "source": [
    "# one-hot encoding\n",
    "# train and test set for decision tree\n",
    "def train_set(self):\n",
    "    df_train = pd.get_dummies(data = X, columns = ['Activity'], prefix = 'Activity')\n",
    "    df_train['Complete Timestamp'] = pd.to_datetime(df_train['Complete Timestamp'], format='%Y/%m/%d %H:%M:%S.%f')\n",
    "\n",
    "    # datetime to float for DT\n",
    "    df_train['Complete Timestamp'] = (df_train['Complete Timestamp'] - df_train['Complete Timestamp'].min()) / np.timedelta64(1,'D')\n",
    "    df_train\n",
    "\n",
    "    # remove NaN for DT\n",
    "    df_train = df_train.fillna(0)\n",
    "    return df_train\n",
    "\n",
    "a = train_set(X)\n",
    "df_train = pd.DataFrame(a)"
   ]
  },
  {
   "cell_type": "code",
   "execution_count": 21,
   "metadata": {},
   "outputs": [],
   "source": [
    "# train test split\n",
    "X_train, X_test, y_train, y_test = train_test_split(df_train, y, test_size=0.2, random_state=2023)"
   ]
  },
  {
   "cell_type": "code",
   "execution_count": 22,
   "metadata": {},
   "outputs": [],
   "source": [
    "# machine learning\n",
    "# decision tree\n",
    "def DT():\n",
    "    clf_dt = tree.DecisionTreeClassifier()\n",
    "    clf_dt = clf_dt.fit(X_train, y_train)\n",
    "\n",
    "    # Make predictions on the test data\n",
    "    predictions = clf_dt.predict(X_test)\n",
    "\n",
    "    # Evaluate the model's performance\n",
    "    accuracy = clf_dt.score(X_test, y_test)\n",
    "    print('Accuracy:', accuracy)\n",
    "\n",
    "# random forest\n",
    "def RF(): # kernel crush was that the RAM is too small.\n",
    "    # Create a Random Forest classifier\n",
    "    clf_rf = RandomForestClassifier()\n",
    "\n",
    "    # Train the classifier on the training data\n",
    "    clf_rf.fit(X_train, y_train)\n",
    "\n",
    "    # Make predictions on the test data\n",
    "    predictions = clf_rf.predict(X_test)\n",
    "\n",
    "    # Evaluate the model's performance\n",
    "    accuracy = clf_rf.score(X_test, y_test)\n",
    "    print('Accuracy:', accuracy)\n",
    "\n",
    "# XGB\n",
    "# Encode the target variable\n",
    "    \n",
    "le = LabelEncoder()\n",
    "y = le.fit_transform(y)\n",
    "\n",
    "def XGB():\n",
    "    xgb = XGBClassifier(n_estimators=500, learning_rate=0.1, max_depth=4)\n",
    "    X_train, X_test, y_train, y_test = train_test_split(df_train, y, test_size=0.2, random_state=2023)\n",
    "    xgb.fit(X_train, y_train)\n",
    "    xgb_pred = xgb.predict(X_test)\n",
    "\n",
    "    accuracy = accuracy_score(y_test, xgb_pred)\n",
    "    precision = precision_score(y_test, xgb_pred)\n",
    "    recall = recall_score(y_test, xgb_pred)\n",
    "    f1 = f1_score(y_test, xgb_pred)\n",
    "\n",
    "    print('Accuracy:', accuracy)\n",
    "    print('Precision:', precision)\n",
    "    print('Recall:', recall)\n",
    "    print('F1 Score:', f1)\n",
    "\n",
    "# LGBM\n",
    "\n",
    "def LGBM():\n",
    "    lgb_clf = lgb.LGBMClassifier(num_leaves=31, objective='binary')\n",
    "    lgb_clf.fit(X_train, y_train)\n",
    "    y_pred = lgb_clf.predict(X_test)\n",
    "    acc_lgbm = accuracy_score(y_test, y_pred)\n",
    "    print('Accuracy', acc_lgbm)"
   ]
  },
  {
   "cell_type": "code",
   "execution_count": null,
   "metadata": {},
   "outputs": [],
   "source": []
  }
 ],
 "metadata": {
  "kernelspec": {
   "display_name": "Python 3",
   "language": "python",
   "name": "python3"
  },
  "language_info": {
   "codemirror_mode": {
    "name": "ipython",
    "version": 3
   },
   "file_extension": ".py",
   "mimetype": "text/x-python",
   "name": "python",
   "nbconvert_exporter": "python",
   "pygments_lexer": "ipython3",
   "version": "3.10.9 (tags/v3.10.9:1dd9be6, Dec  6 2022, 20:01:21) [MSC v.1934 64 bit (AMD64)]"
  },
  "orig_nbformat": 4,
  "vscode": {
   "interpreter": {
    "hash": "89ea80d57eb15db2b2c34f3c90a65f136145061d7e5ac43992953d1b221026f6"
   }
  }
 },
 "nbformat": 4,
 "nbformat_minor": 2
}
