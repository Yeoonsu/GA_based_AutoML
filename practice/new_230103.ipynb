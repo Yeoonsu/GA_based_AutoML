{
 "cells": [
  {
   "cell_type": "code",
   "execution_count": 1,
   "metadata": {},
   "outputs": [],
   "source": [
    "import pandas as pd\n",
    "import numpy as np\n",
    "\n",
    "from sklearn.model_selection import train_test_split\n",
    "\n",
    "from sklearn.tree import DecisionTreeClassifier\n",
    "from sklearn import tree\n",
    "from sklearn.ensemble import RandomForestClassifier\n",
    "import xgboost as xgb\n",
    "from xgboost import plot_importance\n",
    "from xgboost import XGBClassifier\n",
    "from sklearn.preprocessing import LabelEncoder\n",
    "\n",
    "from sklearn.metrics import accuracy_score\n",
    "from sklearn.metrics import precision_score\n",
    "from sklearn.metrics import recall_score\n",
    "from sklearn.metrics import f1_score\n",
    "\n",
    "import lightgbm as lgb\n"
   ]
  },
  {
   "cell_type": "code",
<<<<<<< HEAD
   "execution_count": 7,
   "metadata": {},
   "outputs": [],
=======
   "execution_count": 2,
   "metadata": {},
   "outputs": [
    {
     "data": {
      "text/html": [
       "<div>\n",
       "<style scoped>\n",
       "    .dataframe tbody tr th:only-of-type {\n",
       "        vertical-align: middle;\n",
       "    }\n",
       "\n",
       "    .dataframe tbody tr th {\n",
       "        vertical-align: top;\n",
       "    }\n",
       "\n",
       "    .dataframe thead th {\n",
       "        text-align: right;\n",
       "    }\n",
       "</style>\n",
       "<table border=\"1\" class=\"dataframe\">\n",
       "  <thead>\n",
       "    <tr style=\"text-align: right;\">\n",
       "      <th></th>\n",
       "      <th>Case ID</th>\n",
       "      <th>Activity</th>\n",
       "      <th>Resource</th>\n",
       "      <th>Complete Timestamp</th>\n",
       "      <th>label</th>\n",
       "    </tr>\n",
       "  </thead>\n",
       "  <tbody>\n",
       "    <tr>\n",
       "      <th>0</th>\n",
       "      <td>173688</td>\n",
       "      <td>A_SUBMITTED-COMPLETE</td>\n",
       "      <td>112.0</td>\n",
       "      <td>2011/10/01 07:38:44.546</td>\n",
       "      <td>0</td>\n",
       "    </tr>\n",
       "    <tr>\n",
       "      <th>1</th>\n",
       "      <td>173688</td>\n",
       "      <td>A_PARTLYSUBMITTED-COMPLETE</td>\n",
       "      <td>112.0</td>\n",
       "      <td>2011/10/01 07:38:44.880</td>\n",
       "      <td>0</td>\n",
       "    </tr>\n",
       "    <tr>\n",
       "      <th>2</th>\n",
       "      <td>173688</td>\n",
       "      <td>A_PREACCEPTED-COMPLETE</td>\n",
       "      <td>112.0</td>\n",
       "      <td>2011/10/01 07:39:37.906</td>\n",
       "      <td>0</td>\n",
       "    </tr>\n",
       "    <tr>\n",
       "      <th>3</th>\n",
       "      <td>173688</td>\n",
       "      <td>W_Completeren aanvraag-SCHEDULE</td>\n",
       "      <td>112.0</td>\n",
       "      <td>2011/10/01 07:39:38.875</td>\n",
       "      <td>0</td>\n",
       "    </tr>\n",
       "    <tr>\n",
       "      <th>4</th>\n",
       "      <td>173688</td>\n",
       "      <td>W_Completeren aanvraag-START</td>\n",
       "      <td>NaN</td>\n",
       "      <td>2011/10/01 18:36:46.437</td>\n",
       "      <td>0</td>\n",
       "    </tr>\n",
       "    <tr>\n",
       "      <th>...</th>\n",
       "      <td>...</td>\n",
       "      <td>...</td>\n",
       "      <td>...</td>\n",
       "      <td>...</td>\n",
       "      <td>...</td>\n",
       "    </tr>\n",
       "    <tr>\n",
       "      <th>262195</th>\n",
       "      <td>214376</td>\n",
       "      <td>A_PARTLYSUBMITTED-COMPLETE</td>\n",
       "      <td>112.0</td>\n",
       "      <td>2012/03/01 07:51:17.423</td>\n",
       "      <td>0</td>\n",
       "    </tr>\n",
       "    <tr>\n",
       "      <th>262196</th>\n",
       "      <td>214376</td>\n",
       "      <td>W_Afhandelen leads-SCHEDULE</td>\n",
       "      <td>112.0</td>\n",
       "      <td>2012/03/01 07:52:01.287</td>\n",
       "      <td>0</td>\n",
       "    </tr>\n",
       "    <tr>\n",
       "      <th>262197</th>\n",
       "      <td>214376</td>\n",
       "      <td>W_Afhandelen leads-START</td>\n",
       "      <td>11169.0</td>\n",
       "      <td>2012/03/01 17:26:46.736</td>\n",
       "      <td>0</td>\n",
       "    </tr>\n",
       "    <tr>\n",
       "      <th>262198</th>\n",
       "      <td>214376</td>\n",
       "      <td>A_DECLINED-COMPLETE</td>\n",
       "      <td>11169.0</td>\n",
       "      <td>2012/03/01 17:27:37.118</td>\n",
       "      <td>0</td>\n",
       "    </tr>\n",
       "    <tr>\n",
       "      <th>262199</th>\n",
       "      <td>214376</td>\n",
       "      <td>W_Afhandelen leads-COMPLETE</td>\n",
       "      <td>11169.0</td>\n",
       "      <td>2012/03/01 17:27:41.325</td>\n",
       "      <td>0</td>\n",
       "    </tr>\n",
       "  </tbody>\n",
       "</table>\n",
       "<p>262200 rows × 5 columns</p>\n",
       "</div>"
      ],
      "text/plain": [
       "        Case ID                         Activity  Resource  \\\n",
       "0        173688             A_SUBMITTED-COMPLETE     112.0   \n",
       "1        173688       A_PARTLYSUBMITTED-COMPLETE     112.0   \n",
       "2        173688           A_PREACCEPTED-COMPLETE     112.0   \n",
       "3        173688  W_Completeren aanvraag-SCHEDULE     112.0   \n",
       "4        173688     W_Completeren aanvraag-START       NaN   \n",
       "...         ...                              ...       ...   \n",
       "262195   214376       A_PARTLYSUBMITTED-COMPLETE     112.0   \n",
       "262196   214376      W_Afhandelen leads-SCHEDULE     112.0   \n",
       "262197   214376         W_Afhandelen leads-START   11169.0   \n",
       "262198   214376              A_DECLINED-COMPLETE   11169.0   \n",
       "262199   214376      W_Afhandelen leads-COMPLETE   11169.0   \n",
       "\n",
       "             Complete Timestamp label  \n",
       "0       2011/10/01 07:38:44.546     0  \n",
       "1       2011/10/01 07:38:44.880     0  \n",
       "2       2011/10/01 07:39:37.906     0  \n",
       "3       2011/10/01 07:39:38.875     0  \n",
       "4       2011/10/01 18:36:46.437     0  \n",
       "...                         ...   ...  \n",
       "262195  2012/03/01 07:51:17.423     0  \n",
       "262196  2012/03/01 07:52:01.287     0  \n",
       "262197  2012/03/01 17:26:46.736     0  \n",
       "262198  2012/03/01 17:27:37.118     0  \n",
       "262199  2012/03/01 17:27:41.325     0  \n",
       "\n",
       "[262200 rows x 5 columns]"
      ]
     },
     "execution_count": 2,
     "metadata": {},
     "output_type": "execute_result"
    }
   ],
>>>>>>> 1471b1372929860085d24dbbc1cc248c91593ea6
   "source": [
    "# read BPIC12.csv and Add label\n",
    "# label = {'Activity' : 'O_ACCEPTED-COMPLETE'}\n",
    "\n",
    "df = pd.DataFrame()\n",
    "\n",
    "def label(self):\n",
    "    df = pd.read_csv('BPIC12.csv')\n",
    "    df = df[['Case ID', 'Activity', 'Resource', 'Complete Timestamp']]\n",
    "    df['label'] = \"\"\n",
    "    df.loc[df['Activity'] == 'O_ACCEPTED-COMPLETE', 'label'] = '1'\n",
    "    df.loc[df['Activity'] != 'O_ACCEPTED-COMPLETE', 'label'] = '0'\n",
    "    return df\n",
    "\n",
    "df = label(df)"
   ]
  },
  {
   "cell_type": "code",
<<<<<<< HEAD
   "execution_count": 11,
=======
   "execution_count": 3,
>>>>>>> 1471b1372929860085d24dbbc1cc248c91593ea6
   "metadata": {},
   "outputs": [
    {
     "name": "stdout",
     "output_type": "stream",
     "text": [
      "2243\n"
     ]
    }
   ],
   "source": [
    "# error check\n",
    "count = len(df[df['label'] == '1'])\n",
    "print(count)"
   ]
  },
  {
   "cell_type": "code",
   "execution_count": 4,
   "metadata": {},
   "outputs": [],
   "source": [
    "# dict : drop_act, bucketing, encoding, model\n",
    "\n",
    "# drop_act = {2, 4, 6, 8}\n",
    "# bucketing = {1, 2*mean_trace_length}\n",
    "# encoding = {'aggregate', 'index'}\n",
    "# model = {'DT', 'RF', 'XGB', 'LGBM'}\n",
    "\n",
    "parameter = {'drop_act':[2,4,6,8], \n",
    "    'bucketing':[1, 2*'mean_trace_length'], # need to modify\n",
    "    'encoding':['aggregate', 'index'],\n",
    "    'model':['DT', 'RF', 'XGB', 'LGBM']}"
   ]
  },
  {
   "cell_type": "code",
<<<<<<< HEAD
   "execution_count": 14,
   "metadata": {},
   "outputs": [],
   "source": [
    "# Data pre-processing\n",
    "\n",
    "X = df.drop('label', axis=1)\n",
    "y = df['label']"
   ]
  },
  {
   "cell_type": "code",
   "execution_count": 21,
   "metadata": {},
   "outputs": [],
   "source": [
    "# one-hot encoding\n",
    "# train and test set for decision tree\n",
    "def train_set(self):\n",
    "    df_train = pd.get_dummies(data = X, columns = ['Activity'], prefix = 'Activity')\n",
    "    df_train['Complete Timestamp'] = pd.to_datetime(df_train['Complete Timestamp'], format='%Y/%m/%d %H:%M:%S.%f')\n",
    "\n",
    "    # datetime to float for DT\n",
    "    df_train['Complete Timestamp'] = (df_train['Complete Timestamp'] - df_train['Complete Timestamp'].min()) / np.timedelta64(1,'D')\n",
    "    df_train\n",
    "\n",
    "    # remove NaN for DT\n",
    "    df_train = df_train.fillna(0)\n",
    "    return df_train\n",
    "\n",
    "a = train_set(X)\n",
    "df_train = pd.DataFrame(a)"
   ]
  },
  {
   "cell_type": "code",
   "execution_count": 23,
=======
   "execution_count": 5,
>>>>>>> 1471b1372929860085d24dbbc1cc248c91593ea6
   "metadata": {},
   "outputs": [],
   "source": [
    "# train test split\n",
    "X_train, X_test, y_train, y_test = train_test_split(df_train, y, test_size=0.2, random_state=2023)"
   ]
  },
  {
   "cell_type": "code",
<<<<<<< HEAD
   "execution_count": 24,
=======
   "execution_count": 6,
>>>>>>> 1471b1372929860085d24dbbc1cc248c91593ea6
   "metadata": {},
   "outputs": [],
   "source": [
    "# machine learning\n",
    "# DT\n",
    "\n",
    "def DT():\n",
    "    clf_dt = tree.DecisionTreeClassifier()\n",
    "    clf_dt = clf_dt.fit(df_train, y)\n",
    "\n",
    "    # Make predictions on the test data\n",
    "    predictions = clf_dt.predict(X_test)\n",
    "\n",
    "    # Evaluate the model's performance\n",
    "    accuracy = clf_dt.score(X_test, y_test)\n",
    "    print('Accuracy:', accuracy)"
   ]
  },
  {
   "cell_type": "code",
<<<<<<< HEAD
   "execution_count": 25,
=======
   "execution_count": 7,
>>>>>>> 1471b1372929860085d24dbbc1cc248c91593ea6
   "metadata": {},
   "outputs": [
    {
     "name": "stdout",
     "output_type": "stream",
     "text": [
      "Accuracy: 1.0\n"
     ]
    }
   ],
   "source": [
    "DT()"
   ]
  },
  {
   "cell_type": "code",
<<<<<<< HEAD
   "execution_count": 26,
=======
   "execution_count": 8,
>>>>>>> 1471b1372929860085d24dbbc1cc248c91593ea6
   "metadata": {},
   "outputs": [],
   "source": [
    "# RF\n",
    "\n",
    "def RF():\n",
    "\n",
    "    # Create a Random Forest classifier\n",
    "    clf_rf = RandomForestClassifier()\n",
    "\n",
    "    # Train the classifier on the training data\n",
    "    clf_rf.fit(X_train, y_train)\n",
    "\n",
    "    # Make predictions on the test data\n",
    "    predictions = clf_rf.predict(X_test)\n",
    "\n",
    "    # Evaluate the model's performance\n",
    "    accuracy = clf_rf.score(X_test, y_test)\n",
    "    print('Accuracy:', accuracy)"
   ]
  },
  {
   "cell_type": "code",
<<<<<<< HEAD
   "execution_count": 27,
   "metadata": {},
   "outputs": [
    {
     "ename": "",
     "evalue": "",
     "output_type": "error",
     "traceback": [
      "\u001b[1;31mThe Kernel crashed while executing code in the the current cell or a previous cell. Please review the code in the cell(s) to identify a possible cause of the failure. Click <a href='https://aka.ms/vscodeJupyterKernelCrash'>here</a> for more info. View Jupyter <a href='command:jupyter.viewOutput'>log</a> for further details."
     ]
    },
    {
     "ename": "",
     "evalue": "",
     "output_type": "error",
     "traceback": [
      "\u001b[1;31mCanceled future for execute_request message before replies were done"
=======
   "execution_count": 9,
   "metadata": {},
   "outputs": [
    {
     "name": "stdout",
     "output_type": "stream",
     "text": [
      "Accuracy: 1.0\n"
>>>>>>> 1471b1372929860085d24dbbc1cc248c91593ea6
     ]
    }
   ],
   "source": [
    "RF()"
   ]
  },
  {
   "cell_type": "code",
   "execution_count": 10,
   "metadata": {},
   "outputs": [],
   "source": [
    "# XGB\n",
    "# Encode the target variable\n",
    "le = LabelEncoder()\n",
    "y = le.fit_transform(y)"
   ]
  },
  {
   "cell_type": "code",
   "execution_count": 16,
   "metadata": {},
   "outputs": [],
   "source": [
    "def XGB():\n",
    "    xgb = XGBClassifier(n_estimators=500, learning_rate=0.1, max_depth=4)\n",
    "    X_train, X_test, y_train, y_test = train_test_split(df_train, y, test_size=0.2, random_state=2023)\n",
    "    xgb.fit(X_train, y_train)\n",
    "    xgb_pred = xgb.predict(X_test)\n",
    "\n",
    "    accuracy = accuracy_score(y_test, xgb_pred)\n",
    "    precision = precision_score(y_test, xgb_pred)\n",
    "    recall = recall_score(y_test, xgb_pred)\n",
    "    f1 = f1_score(y_test, xgb_pred)\n",
    "\n",
    "    print('Accuracy:', accuracy)\n",
    "    print('Precision:', precision)\n",
    "    print('Recall:', recall)\n",
    "    print('F1 Score:', f1)"
   ]
  },
  {
   "cell_type": "code",
   "execution_count": 17,
   "metadata": {},
   "outputs": [
    {
     "name": "stdout",
     "output_type": "stream",
     "text": [
      "Accuracy: 1.0\n",
      "Precision: 1.0\n",
      "Recall: 1.0\n",
      "F1 Score: 1.0\n"
     ]
    }
   ],
   "source": [
    "XGB()"
   ]
  },
  {
   "cell_type": "code",
   "execution_count": 20,
   "metadata": {},
   "outputs": [],
   "source": [
    "# LGBM\n",
    "\n",
    "def LGBM():\n",
    "    lgb_clf = lgb.LGBMClassifier(num_leaves=31, objective='binary')\n",
    "    lgb_clf.fit(X_train, y_train)\n",
    "    y_pred = lgb_clf.predict(X_test)\n",
    "    acc_lgbm = accuracy_score(y_test, y_pred)\n",
    "    print(acc_lgbm)"
   ]
  },
  {
   "cell_type": "code",
   "execution_count": 21,
   "metadata": {},
   "outputs": [
    {
     "name": "stdout",
     "output_type": "stream",
     "text": [
      "1.0\n"
     ]
    }
   ],
   "source": [
    "LGBM()"
   ]
  },
  {
   "cell_type": "code",
   "execution_count": null,
   "metadata": {},
   "outputs": [],
   "source": [
    "class Index_encoding:\n",
    "    pass\n",
    "\n",
    "class aggregated_encoding:\n",
    "    \"\"\"\n",
    "    aggregated_encoding class\n",
    "    Author : Yeonsu Kim\n",
    "    Date : 2022.12.28\n",
    "    Description : empty_df, time_mean, join\n",
    "    \"\"\"\n",
    "\n",
    "    def __init__(self, df, result):\n",
    "        self.df = df\n",
    "        self.result = result\n",
    "\n",
    "    def empty_df(self):\n",
    "        list_row = pd.unique(df['Case ID'])\n",
    "        list_col = pd.unique(df['Resource'])\n",
    "\n",
    "        empty_df = pd.DataFrame(index=list_row, columns=list_col)\n",
    "        empty_df = empty_df.fillna(0)\n",
    "\n",
    "        for _, row in df.iterrows():\n",
    "            empty_df.loc[row['Case ID'], row['Resource']] += 1\n",
    "\n",
    "        agg = empty_df\n",
    "        return agg\n",
    "\n",
    "    def time_mean(self):\n",
    "        df['Complete Timestamp'] = pd.to_datetime(df['Complete Timestamp'], format='%Y/%m/%d %H:%M:%S.%f')\n",
    "        time_mean = df.groupby(['Case ID'])['Complete Timestamp'].mean().to_frame()\n",
    "        return time_mean\n",
    "\n",
    "    def join(self):\n",
    "        result = pd.concat([agg, time_mean, empty_df], axis=1, join='inner')\n",
    "        return result\n",
    "\n",
    "    def __str__(self):\n",
    "        return ''.format(self.result)"
   ]
  }
 ],
 "metadata": {
  "kernelspec": {
   "display_name": "Python 3",
   "language": "python",
   "name": "python3"
  },
  "language_info": {
   "codemirror_mode": {
    "name": "ipython",
    "version": 3
   },
   "file_extension": ".py",
   "mimetype": "text/x-python",
   "name": "python",
   "nbconvert_exporter": "python",
   "pygments_lexer": "ipython3",
   "version": "3.10.9"
  },
  "orig_nbformat": 4,
  "vscode": {
   "interpreter": {
    "hash": "89ea80d57eb15db2b2c34f3c90a65f136145061d7e5ac43992953d1b221026f6"
   }
  }
 },
 "nbformat": 4,
 "nbformat_minor": 2
}
