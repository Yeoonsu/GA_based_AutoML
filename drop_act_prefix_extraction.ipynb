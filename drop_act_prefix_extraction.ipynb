{
 "cells": [
  {
   "cell_type": "code",
   "execution_count": 18,
   "metadata": {},
   "outputs": [],
   "source": [
    "from settings import *\n",
    "\n",
    "\n",
    "## BPIC2012\n",
    "caseid = 'Case ID'\n",
    "activity = 'Activity'\n",
    "ts = 'Complete Timestamp'\n",
    "label = {'Activity' : 'O_ACCEPTED-COMPLETE'}\n",
    "other_features = ['Resource', 'Variant index', '(case) AMOUNT_REQ']\n",
    "\n",
    "## BPIC2017\n",
    "# caseid = 'Case ID'\n",
    "# activity = 'Activity'\n",
    "# ts = 'Complete Timestamp'\n",
    "# label = {'column' : 'Accepted'}\n",
    "# other_features = ['Resource', 'CreditScore', 'FirstWithdrawalAmount', 'MonthlyCost', 'NumberOfTerms','OfferedAmount']\n",
    "\n",
    "## BPIC2015\n",
    "# caseid = 'Case ID'\n",
    "# activity = 'Activity'\n",
    "# ts = 'Complete Timestamp'\n",
    "# label = {'column' : 'Label'}\n",
    "# other_features = ['Resource', 'monitoringResource', '(case) Includes_subCases','(case) Responsible_actor','(case) caseProcedure','(case) caseStatus','(case) last_phase','(case) parts',\n",
    "#                 '(case) requestComplete','(case) termName', '(case) SUMleges']\n",
    "\n",
    "combi = ['bucketing', 'encoding', 'drop_act', 'params']\n",
    "\n",
    "options = {\n",
    "    'bucketing' : (1,40), # a number of partitions\n",
    "    \n",
    "    'encoding' : ['index', 'aggregate'],\n",
    "    \n",
    "    'drop_act' : [2,4,6,8], # a number of activities to drop\n",
    "    \n",
    "    'models' : ['Decision Tree','Random Forest','LightGBM','Xgboost'],\n",
    "\n",
    "    'params' : {'Decision Tree':{'max_depth': (2,20),\n",
    "                           'min_samples_leaf': (5,100),\n",
    "                           'criterion': [\"gini\", \"entropy\"]\n",
    "            }, \n",
    "            'Random Forest':{\"n_estimators\": (10,1000), \n",
    "                           \"max_depth\": (2,20),\n",
    "                           \"max_features\": [\"auto\", \"log2\"], \n",
    "                           \"bootstrap\": [True, False],\n",
    "                           \"criterion\": [\"gini\", \"entropy\"]\n",
    "            },\n",
    "            'LightGBM':{'max_depth': (2,20),\n",
    "                      'num_leaves' : (10,500),\n",
    "                      'min_child_samples' : (2,10)\n",
    "            },\n",
    "            'Xgboost':{\"max_depth\": (2,20),\n",
    "                     \"n_estimators\": (10,1000),\n",
    "                     \"learning_rate\": [0.01, 0.05, 0.1]\n",
    "                     \n",
    "            }\n",
    "            }\n",
    "}"
   ]
  },
  {
   "cell_type": "code",
   "execution_count": 2,
   "metadata": {},
   "outputs": [],
   "source": [
    "from tqdm import tqdm\n",
    "import pandas as pd\n",
    "import pickle\n",
    "\n",
    "def add_label(df):       \n",
    "    Label = []\n",
    "    if 'Activity' in label:\n",
    "        label_col = label['Activity']                \n",
    "        for case, group in df.groupby(caseid):\n",
    "            for i in range(len(group)):\n",
    "                if label_col in group[activity].tolist():\n",
    "                    Label.append(1)\n",
    "                else:\n",
    "                    Label.append(0)\n",
    "        label_df = pd.DataFrame(Label, columns = ['Label'])\n",
    "        df = pd.concat([df, label_df], axis=1)\n",
    "\n",
    "    elif 'column' in label:\n",
    "        label_col = label['column']\n",
    "        df = df.rename(columns={label_col : 'Label'})\n",
    "    return df\n",
    "\n",
    "def drop_activity(df, n):\n",
    "    trace_num = df['Case ID'].nunique()\n",
    "    act = df['Activity'].value_counts()\n",
    "    df = df.iloc[[i for i in range(len(df)) if df.iloc[i]['Activity'] not in act[-n:]]]\n",
    "    return df\n",
    "\n",
    "def whole_bucket(df):\n",
    "    result = []\n",
    "    \n",
    "    for prefix in tqdm(range(2,42)):\n",
    "        bucket=[]\n",
    "        for case, group in df.groupby(caseid):\n",
    "            group = group.sort_values(by=ts, ascending = True).reset_index(drop=True)\n",
    "            if len(group) >= prefix:\n",
    "                bucket.append(group.iloc[:prefix,:])\n",
    "        new_df = pd.concat(bucket)\n",
    "        result.append(new_df)\n",
    "    \n",
    "    return result\n",
    "\n",
    "def prefix_bound(m, drop_low=False):\n",
    "    if m == 1:\n",
    "        if drop_low == True:\n",
    "            return [[4,40]]\n",
    "        else:\n",
    "            return [[2,40]]\n",
    "    \n",
    "    if drop_low == True:\n",
    "        if m > 37:\n",
    "            m = 37\n",
    "        prefix_len = 37//m\n",
    "        remain = 37%m\n",
    "        prev = 4\n",
    "        bound=[]\n",
    "        for i in range(m):\n",
    "            if i < remain:\n",
    "                bound.append([prev,prev+prefix_len+1])\n",
    "                prev = prev+prefix_len+1\n",
    "            else:\n",
    "                bound.append([prev,prev+prefix_len])\n",
    "                prev = prev+prefix_len\n",
    "    else:  \n",
    "        prefix_len = 39//m\n",
    "        remain = 39%m\n",
    "        prev = 2\n",
    "        bound=[]\n",
    "        for i in range(m):\n",
    "            if i < remain:\n",
    "                bound.append([prev,prev+prefix_len+1])\n",
    "                prev = prev+prefix_len+1\n",
    "            else:\n",
    "                bound.append([prev,prev+prefix_len])\n",
    "                prev = prev+prefix_len\n",
    "        \n",
    "    return bound"
   ]
  },
  {
   "cell_type": "code",
   "execution_count": 3,
   "metadata": {},
   "outputs": [],
   "source": [
    "\"\"\"\n",
    "GA : Genetic Algorithm\n",
    "RS : Random Search\n",
    "\"\"\"\n",
    "df = pd.read_csv('/Users/yeon1\\GA_based_AutoML\\dataset\\dataset\\BPIC12.csv')\n",
    "df = add_label(df)"
   ]
  },
  {
   "cell_type": "code",
   "execution_count": 5,
   "metadata": {},
   "outputs": [],
   "source": [
    "# df1 = drop_activity(df, 2)\n",
    "# df2 = drop_activity(df, 4)\n",
    "# df3 = drop_activity(df, 6)\n",
    "# df4 = drop_activity(df, 8)\n",
    "\n",
    "# df_list1 = whole_bucket(df1)\n",
    "# df_list2 = whole_bucket(df2)\n",
    "# df_list3 = whole_bucket(df3)\n",
    "# df_list4 = whole_bucket(df4)\n",
    "\n",
    "# with open('df_list1.pkl', 'wb') as f1:\n",
    "#     pickle.dump(df_list1, f1)\n",
    "    \n",
    "# with open('df_list2.pkl', 'wb') as f2:\n",
    "#     pickle.dump(df_list2, f2)\n",
    "    \n",
    "# with open('df_list3.pkl', 'wb') as f3:\n",
    "#     pickle.dump(df_list3, f3)\n",
    "    \n",
    "# with open('df_list4.pkl', 'wb') as f4:\n",
    "#     pickle.dump(df_list4, f4)"
   ]
  },
  {
   "cell_type": "code",
   "execution_count": 6,
   "id": "82ed93c6",
   "metadata": {},
   "outputs": [],
   "source": [
    "from settings import *"
   ]
  },
  {
   "cell_type": "code",
   "execution_count": 34,
   "id": "5c7eb875",
   "metadata": {},
   "outputs": [],
   "source": [
    "import pandas as pd\n",
    "import numpy as np\n",
    "import re\n",
    "import pickle\n",
    "import time\n",
    "from tqdm import tqdm\n",
    "import seaborn as sns\n",
    "import matplotlib.pyplot as plt\n",
    "from itertools import permutations\n",
    "import json, os\n",
    "from collections import OrderedDict\n",
    "from imblearn.over_sampling import SMOTE\n",
    "from sklearn.model_selection import train_test_split\n",
    "from sklearn.metrics import f1_score, roc_auc_score, accuracy_score, precision_score, recall_score\n",
    "from sklearn.preprocessing import OneHotEncoder\n",
    "\n",
    "\n",
    "from sklearn.linear_model import LogisticRegression\n",
    "from sklearn.svm import SVC\n",
    "from sklearn.tree import DecisionTreeClassifier\n",
    "from sklearn.ensemble import RandomForestClassifier\n",
    "from xgboost import XGBClassifier\n",
    "from lightgbm import LGBMClassifier\n",
    "\n",
    "class Genetic_Algorithm:\n",
    "    def __init__(self, df, options : dict, combi : list , caseid : str, activity : str, ts : str, label : dict, other_features : list, phase):\n",
    "        self.df = df\n",
    "        self.options = options\n",
    "        self.combi = combi\n",
    "        self.caseid = caseid\n",
    "        self.activity = activity \n",
    "        self.ts = ts\n",
    "        self.label = label\n",
    "        self.other_features = other_features\n",
    "        \n",
    "             \n",
    "    def feature_type(self):\n",
    "        df = self.df\n",
    "        feature_dict = {}\n",
    "        for feature in self.other_features:\n",
    "            for case, group in df.groupby(self.caseid):\n",
    "                if len(group[feature].unique()) != 1:\n",
    "                    feature_dict[feature] = 'event'\n",
    "                    break\n",
    "                else:\n",
    "                    feature_dict[feature] = 'case'\n",
    "        self.feature_types = feature_dict\n",
    "        \n",
    "    def add_label(self, df):       \n",
    "        Label = []\n",
    "        if 'Activity' in self.label:\n",
    "            label_col = self.label['Activity']                \n",
    "            for case, group in df.groupby(self.caseid):\n",
    "                for i in range(len(group)):\n",
    "                    if label_col in group[self.activity].tolist():\n",
    "                        Label.append(1)\n",
    "                    else:\n",
    "                        Label.append(0)\n",
    "            label_df = pd.DataFrame(Label, columns = ['Label'])\n",
    "            df = pd.concat([df, label_df], axis=1)\n",
    "\n",
    "        elif 'column' in self.label:\n",
    "            label_col = self.label['column']\n",
    "            df = df.rename(columns={label_col : 'Label'})\n",
    "        self.df = df\n",
    "        return df\n",
    "                \n",
    "\n",
    "    def rand_choice(self, options, key : str):\n",
    "        if  type(options[key]) == tuple:\n",
    "            return np.random.randint(options[key][0], options[key][1])\n",
    "\n",
    "        elif type(options[key]) == list:\n",
    "            return options[key][np.random.randint(0, len(options[key]))]\n",
    "               \n",
    "        \n",
    "    def initial_populations(self, N : int, rand_state = 2022) -> dict:\n",
    "        initial_pop = []\n",
    "        if 'params' in self.combi:\n",
    "            for model in list(self.options['params'].keys()):\n",
    "                for n in range(N):\n",
    "                    result = {}\n",
    "                    result['bucketing'] = self.rand_choice(self.options, 'bucketing')\n",
    "                    result['encoding'] = self.rand_choice(self.options, 'encoding')\n",
    "                    result['drop_act'] = self.rand_choice(self.options, 'drop_act')\n",
    "                    result['models'] = model\n",
    "                    result[model] = {}\n",
    "                    for hp in list(self.options['params'][model].keys()):                             \n",
    "                        result[model][hp] = self.rand_choice(self.options['params'][model], hp)\n",
    "                    initial_pop.append(result)\n",
    "        else:\n",
    "            for n in range(N):\n",
    "                result = {}\n",
    "                result['bucketing'] = rand_choice(self.options, 'bucketing')\n",
    "                result['encoding'] = rand_choice(self.options, 'encoding')\n",
    "                result['drop_act'] = rand_choice(self.options, 'drop_act')\n",
    "                initial_pop.append(result)                \n",
    "        \n",
    "        self.population = initial_pop\n",
    "        \n",
    "        return initial_pop\n",
    "    \n",
    "    def select_population(self, population, fitness, N) -> list:\n",
    "#         population = self.population\n",
    "        sum_fit = sum(fitness)\n",
    "        selection_probs = [fitness[c]/sum_fit for c in range(len(population))]\n",
    "\n",
    "        return list(np.random.choice(population, int(N), p=selection_probs))\n",
    "\n",
    "    \n",
    "    # Roullette wheel selection\n",
    "    def select_param(self, population, fitness, hp : bool) -> list: \n",
    "#         population = self.population\n",
    "        sum_fit = sum(fitness)\n",
    "        selection_probs = [fitness[c]/sum_fit for c in range(len(fitness))]\n",
    "\n",
    "        if hp == False:\n",
    "            return np.random.choice(population, 2, p=selection_probs)\n",
    "\n",
    "        else:\n",
    "            p1 = np.random.choice(population, p=selection_probs)\n",
    "            hp_space = [c for c in range(len(population)) if list(p1.keys())[-1] in list(population[c].keys())]\n",
    "            hp_sum_fit = sum([fitness[c] for c in hp_space])\n",
    "            hp_selection_probs = [fitness[c]/hp_sum_fit for c in hp_space]\n",
    "            p2 = population[np.random.choice(hp_space, p=hp_selection_probs)]\n",
    "            return [p1, p2]\n",
    "        \n",
    "        \n",
    "    # cp : crossover probability ~ (0,1) -> 0.9\n",
    "    def crossover(self, population, fitness, num_offering : int, cp : float) -> dict:\n",
    "#         population = self.population\n",
    "        result = []\n",
    "        n = int(num_offering*cp)\n",
    "        hp_options = [True, False]\n",
    "        for _ in range(n):\n",
    "            hp_option = hp_options[np.random.randint(0, 2)]\n",
    "            child = {}\n",
    "            p1, p2 = self.select_param(population, fitness, hp=hp_option)\n",
    "            co_point = np.random.randint(low=0, high=len(p1))\n",
    "            for idx, key in enumerate(list(p2.keys())):\n",
    "                if idx < co_point:\n",
    "                    child[key] = p1[key]\n",
    "                else:\n",
    "                    child[key] = p2[key]\n",
    "            result.append(child)\n",
    "#         self.population = population.extend(result)\n",
    "        \n",
    "        return result\n",
    "    \n",
    "\n",
    "    # mp : crossover probability ~ (0,1) -> 0.03\n",
    "    def mutation(self, population, N, mp : float):\n",
    "#         population = self.population\n",
    "        \n",
    "        n = int(N*mp)\n",
    "\n",
    "        result = []\n",
    "        for _ in range(n):\n",
    "            child = {}\n",
    "            parent = population[np.random.choice(len(population))]\n",
    "            params = [list(parent[key].keys())+[key] if key in list(self.options['params'].keys()) \n",
    "                      else key for key in list(parent.keys())]\n",
    "            params.extend(params.pop())\n",
    "\n",
    "            ml_model = params[-1]\n",
    "            mut_param = params[np.random.randint(low=0, high=len(params)-2)]\n",
    "            if mut_param in list(self.options.keys()):\n",
    "                parent[mut_param] = self.rand_choice(self.options, mut_param)\n",
    "            else:\n",
    "                parent[ml_model][mut_param] = self.rand_choice(self.options['params'][ml_model], mut_param)\n",
    "            result.append(parent)\n",
    "\n",
    "        return result\n",
    "\n",
    "    \n",
    "    \n",
    "    def fitness(self, tot_score, failure_rate, tot_time):\n",
    "        highest_acc_pop = np.argmax(tot_score)\n",
    "\n",
    "        # fitness = (acc + (1-failure_rate) + time_cost + acc_decrease)/4\n",
    "        tot_fitness = [round((tot_score[i] + (1-failure_rate[i]) + (max(tot_time)-tot_time[i])/(max(tot_time)-min(tot_time)) \n",
    "                   + (tot_score[i]-min(tot_score))/(max(tot_score)-min(tot_score)))/4, 2) for i in range(len(tot_score))]\n",
    "        \n",
    "        return tot_fitness\n",
    "    \n",
    "        \n",
    "    def indexbased_encoding(self, df, prefix):\n",
    "        #df = self.df\n",
    "        new_df = pd.DataFrame()\n",
    "        for column in df.columns:\n",
    "            if (column == 'Label') or (column == self.caseid) or ((column in self.feature_types) and (self.feature_types[column] == 'case')):\n",
    "                case_df = df.groupby(self.caseid, as_index = False).first()[column]\n",
    "                new_df = pd.concat([new_df, case_df], axis=1)\n",
    "            elif (column == self.activity) or ((column in self.feature_types) and (self.feature_types[column] == 'event')):\n",
    "                col_name = [str(column)+str(i+1) for i in range(prefix)]\n",
    "                col_list = []\n",
    "                for case, group in df.groupby(self.caseid):\n",
    "                    group = group.sort_values(by=self.ts, ascending = True).reset_index(drop=True)\n",
    "                    col_list.append(group[column].tolist())\n",
    "                col_list = np.array(col_list)\n",
    "                event_df = pd.DataFrame(col_list, columns = col_name)\n",
    "                new_df = pd.concat([new_df, event_df], axis=1)\n",
    "\n",
    "        self.df = new_df\n",
    "        return self.one_hot_encoding(new_df)\n",
    "        \n",
    "    def aggregated_encoding(self, df):\n",
    "        # df = self.df\n",
    "        new_df = pd.DataFrame()\n",
    "        for column in df.columns:       \n",
    "            if (column == 'Label') or (column == self.caseid) or ((column in self.feature_types) and (self.feature_types[column] == 'case')):\n",
    "                case_df = df.groupby(self.caseid, as_index = False).first()[column]\n",
    "                new_df = pd.concat([new_df, case_df], axis=1)\n",
    "            elif (column == self.activity) or ((column in self.feature_types) and (self.feature_types[column] == 'case')):\n",
    "                result = []\n",
    "                if df[column].dtype == int or df[column].dtype == float:\n",
    "                    if (column in self.feature_types) and (self.feature_types[column] == 'case'):\n",
    "                        col_name = column\n",
    "                        case_df = df.groupby(self.caseid, as_index = False).first()\n",
    "                        not_nan = [num for num in list(case_df[column]) if num != np.nan]\n",
    "                        fir_point, sec_point = np.percentile(not_nan,[33,67])\n",
    "\n",
    "                        for val in case_df[column].values:\n",
    "                            if val < fir_point:\n",
    "                                result.append('Low')\n",
    "                            elif fir_point <= val < sec_point:\n",
    "                                result.append('Medium')\n",
    "                            elif val >= sec_point:\n",
    "                                result.append('High')\n",
    "                            else:\n",
    "                                result.append('Nan')\n",
    "                    else:\n",
    "                        col_name = [str(column)+'-'+point for point in ['Low', 'Medium', 'High', 'Nan']]\n",
    "                        not_nan = [num for num in list(df[column]) if num != np.nan]\n",
    "                        fir_point, sec_point = np.percentile(not_nan,[33,67])\n",
    "                        for case, group in df.groupby(self.caseid):\n",
    "                            col_list = [0]*len(col_name)\n",
    "                            for val in group[column].values:\n",
    "                                if val < fir_point:\n",
    "                                    col_list[0] += 1\n",
    "                                elif fir_point <= val < sec_point:\n",
    "                                    col_list[1] += 1\n",
    "                                elif val >= sec_point:\n",
    "                                    col_list[2] += 1\n",
    "                                else:\n",
    "                                    col_list[3] += 1\n",
    "                            result.append(col_list)\n",
    "                                    \n",
    "                else:\n",
    "                    col_name = df[column].unique()\n",
    "\n",
    "                    for case, group in df.groupby(self.caseid):\n",
    "                        group = group.sort_values(by=self.ts, ascending = True).reset_index(drop=True)\n",
    "                        col_list = [0]*len(col_name)\n",
    "                        key = list(group[column].value_counts().keys())\n",
    "                        val = group[column].value_counts().values\n",
    "                        for k in key:\n",
    "                            col_list[key.index(k)] += val[key.index(k)]\n",
    "                        result.append(col_list)\n",
    "\n",
    "                result = np.array(result)\n",
    "                event_df = pd.DataFrame(result, columns = col_name)\n",
    "                new_df = pd.concat([new_df, event_df], axis=1)\n",
    "        self.df = new_df\n",
    "        return new_df\n",
    "\n",
    "    \n",
    "    def last_state_encoding(self, df, window):\n",
    "        # df = self.df        \n",
    "        event = {}\n",
    "        caseid = []\n",
    "        next_event = []\n",
    "        for k in range(window):\n",
    "            dict_index = 'event{}'.format(k+1)\n",
    "            event[dict_index] = []\n",
    "            for case, group in df.groupby(self.caseid):\n",
    "                df1 = list(group[self.activity])\n",
    "                L = len(df1) - window + k\n",
    "                for j in range(k,L):\n",
    "                    event[dict_index].append(df1[j])\n",
    "                    if k == window -1:\n",
    "                        caseid.append(case)\n",
    "                        next_event.append(df1[j+1])\n",
    "        \n",
    "        df_1 = pd.DataFrame(caseid, columns = [self.caseid])\n",
    "        df_2 = pd.DataFrame.from_dict(event)\n",
    "        df_3 = pd.DataFrame(next_event, columns = ['Label'])\n",
    "        new_df = pd.concat([df_1, df_2, df_3], axis=1)        \n",
    "        self.df = new_df\n",
    "        \n",
    "        return new_df\n",
    "    \n",
    "    \n",
    "    def encoding(self, df, key, prefix):\n",
    "        if key == \"index\":\n",
    "            return self.indexbased_encoding(df, prefix)\n",
    "        \n",
    "        elif key == \"aggregate\":\n",
    "            return self.aggregated_encoding(df)\n",
    "        \n",
    "        else:\n",
    "            return self.last_state_encoding(df, 3)\n",
    "    \n",
    "    def one_hot_encoding(self, df):\n",
    "        #df = self.df\n",
    "        for column in df.columns:\n",
    "            if not np.issubdtype(df[column], np.number):\n",
    "                one_hot = pd.get_dummies(df[column], prefix=column, prefix_sep='=')\n",
    "                #print(\"Encoded column:{} - Different keys: {}\".format(column, one_hot.shape[1]))\n",
    "                df = df.drop(column, axis=1)\n",
    "                df = df.join(one_hot)\n",
    "        #print(\"Categorical columns encoded\")\n",
    "        self.df = df\n",
    "        return df\n",
    "     \n",
    "    \n",
    "    def train_test_set_split(self, df, encoding):\n",
    "                \n",
    "        df_train, df_test = train_test_split(df, test_size=0.2, random_state=1, shuffle=False)\n",
    "#         print(f'Training samples: {len(df_train)} \\nTest samples: {len(df_test)}')\n",
    "        X_train = df_train.drop('Label', axis=1)\n",
    "        y_train = df_train['Label']\n",
    "        X_test = df_test.drop('Label', axis=1)\n",
    "        y_test = df_test['Label']\n",
    "        \n",
    "        if encoding == 'last_state':\n",
    "            ohe = OneHotEncoder(handle_unknown='ignore',sparse=False)\n",
    "            ohe.fit(X_train.values)\n",
    "            X_train = ohe.transform(X_train.values)\n",
    "            X_test = ohe.transform(X_test.values)\n",
    "\n",
    "            #X_train = self.one_hot_encoding(X_train)\n",
    "            #X_test = self.one_hot_encoding(X_test)\n",
    "        \n",
    "        else:\n",
    "            ratio = len(df_train[df_train['Label'] == 1]) / len(df_train[df_train['Label'] == 0])     \n",
    "#             print(f'Ratio of target in training set 0 : 1 = 1:{ratio:.4f}')\n",
    "\n",
    "            # For imbalanced data\n",
    "            if ratio < 0.33:\n",
    "                sm = SMOTE(random_state=0)\n",
    "                sm_X_train, sm_y_train = sm.fit_resample(X_train, y_train)\n",
    "                print('After OverSampling, the shape of train_X: {}'.format(sm_X_train.shape))\n",
    "                print('After OverSampling, the shape of train_y: {} \\n'.format(sm_y_train.shape))\n",
    "                print(\"After OverSampling, counts of label '1': {}\".format(sum([sm_y_train[i]==1 for i in range(len(sm_y_train))])))\n",
    "                print(\"After OverSampling, counts of label '0': {}\".format(sum([sm_y_train[i]==0 for i in range(len(sm_y_train))])))\n",
    "                X_train = sm_X_train\n",
    "                y_train = sm_y_train\n",
    "                            \n",
    "        self.X_train = X_train\n",
    "        self.y_train = y_train\n",
    "        self.X_test = X_test\n",
    "        self.y_test = y_test\n",
    "        \n",
    "        return X_train, y_train, X_test, y_test\n",
    "     \n",
    "    def model_fit(self):\n",
    "        #['Logistic Regression','Decision Tree','Random Forest','LightGBM','Xgboost','CatBoost']\n",
    "        models = {'Decision Tree' : DecisionTreeClassifier(), 'Random Forest' : RandomForestClassifier(), 'LightGBM' : LGBMClassifier(), 'Xgboost' : XGBClassifier()}\n",
    "        tot_score = []\n",
    "        for model in models:\n",
    "            score = []\n",
    "\n",
    "            model.fit(self.X_train, self.y_train)\n",
    "\n",
    "            score.append(accuracy_score(self.y_test, model.predict(self.X_test)))\n",
    "            score.append(precision_score(self.y_test, model.predict(self.X_test)))\n",
    "            score.append(recall_score(self.y_test, model.predict(self.X_test)))\n",
    "            score.append(f1_score(self.y_test, model.predict(self.X_test)))\n",
    "            score.append(roc_auc_score(self.y_test, model.predict_proba(self.X_test)[:, 1]))\n",
    "\n",
    "            print(f'Model is {model} \\nAccuracy: {score[0]:.4f}, Precision: {score[1]:.4f}, Recall: {score[2]:.4f}, F1: {score[3]:.4f}, AUC: {score[4]:.4f}')\n",
    "            tot_score.append(score)\n",
    "\n",
    "        self.tot_score = tot_score\n",
    "\n",
    "        # plot score df\n",
    "        score_df = pd.DataFrame(tot_score, index = models, columns = ['Accuracy', 'Precision', 'Recall', 'F1 score', 'AUC'])\n",
    "        score_df.plot(kind=\"bar\",figsize=(9,8))\n",
    "        plt.xticks(rotation='horizontal')\n",
    "        plt.show()\n",
    "\n",
    "        self.score_df = score_df\n",
    "        return\n",
    "    \n",
    "    def decision_tree(self, hp, X_train, y_train, X_test, y_test):\n",
    "        model = DecisionTreeClassifier(max_depth = hp['max_depth'],\n",
    "                           min_samples_leaf= hp['min_samples_leaf'],\n",
    "                           criterion = hp['criterion'])\n",
    "        model.fit(X_train, y_train)\n",
    "        score  = round((accuracy_score(y_test, model.predict(X_test))+roc_auc_score(y_test, model.predict_proba(X_test)[:, 1]))/2, 4)\n",
    "        return score\n",
    "    \n",
    "    def random_forest(self, hp, X_train, y_train, X_test, y_test):\n",
    "        model = RandomForestClassifier(n_estimators=hp['n_estimators'], \n",
    "                           max_depth= hp[\"max_depth\"],\n",
    "                           max_features= hp[\"max_features\"], \n",
    "                           bootstrap= hp[\"bootstrap\"],\n",
    "                           criterion= hp[\"criterion\"])\n",
    "        model.fit(X_train, y_train)\n",
    "        score  = round((accuracy_score(y_test, model.predict(X_test))+roc_auc_score(y_test, model.predict_proba(X_test)[:, 1]))/2, 4)\n",
    "        return score\n",
    "    \n",
    "    def light_gbm(self, hp, X_train, y_train, X_test, y_test):\n",
    "        model = LGBMClassifier(max_depth= hp[\"max_depth\"],\n",
    "                           num_leaves= hp[\"num_leaves\"], \n",
    "                           min_child_samples= hp[\"min_child_samples\"])\n",
    "        model.fit(X_train, y_train)\n",
    "        score  = round((accuracy_score(y_test, model.predict(X_test))+roc_auc_score(y_test, model.predict_proba(X_test)[:, 1]))/2, 4)\n",
    "        return score\n",
    "    \n",
    "    def xgboost(self, hp, X_train, y_train, X_test, y_test):\n",
    "        model = XGBClassifier(max_depth = hp[\"max_depth\"],\n",
    "                           n_estimators = hp[\"n_estimators\"], \n",
    "                           learning_rate = hp[\"learning_rate\"])\n",
    "        model.fit(X_train, y_train)\n",
    "        score  = round((accuracy_score(y_test, model.predict(X_test))+roc_auc_score(y_test, model.predict_proba(X_test)[:, 1]))/2, 4)\n",
    "        return score\n",
    "        \n",
    "    def select_best_model(self):\n",
    "        score_df = self.score_df\n",
    "        arg_index = np.argmax(score_df['Accuracy'] + score_df['AUC'])\n",
    "        print(f'Best model is {score_df.index[arg_index]} \\nAccuracy: {score_df.iloc[arg_index][0]:.4f}, Precision: {score_df.iloc[arg_index][1]:.4f}, Recall: {score_df.iloc[arg_index][2]:.4f}, F1: {score_df.iloc[arg_index][3]:.4f}, AUC: {score_df.iloc[arg_index][4]:.4f}')\n",
    "    \n",
    "    \n",
    "    def main(self):\n",
    "        \n",
    "        populations = self.initial_populations(20)\n",
    "        tot_score = []\n",
    "        result_df, prefix_idx = whole_bucket(df)\n",
    "        for pop in populations:\n",
    "            df1 = drop_activity(df, pop['drop_act'])\n",
    "            bucket_list = bucketing(result_df, prefix_idx, pop['bucketing'])\n",
    "            for bucket in bucket_list:\n",
    "                score = []\n",
    "                df1 = result_df[bucket[0]:bucket[1]]\n",
    "                df1 = self.encoding(df1, pop['encoding'])\n",
    "                X_train, y_train, X_test, y_test = self.train_test_set_split(df1, pop['encoding'])\n",
    "                if 'Decision Tree' in pop:\n",
    "                    score.append(self.decision_tree(pop['Decision Tree'], X_train, y_train, X_test, y_test))\n",
    "                elif 'Random Forest' in pop:\n",
    "                    score.append(self.random_forest(pop['Random Forest'], X_train, y_train, X_test, y_test))\n",
    "                elif 'LightGBM' in pop:\n",
    "                    score.append(self.light_gbm(pop['LightGBM'], X_train, y_train, X_test, y_test))\n",
    "                else: \n",
    "                    score.append(self.xgboost(pop['Xgboost'], X_train, y_train, X_test, y_test))\n",
    "                tot_score.append(score)\n",
    "        print(tot_score)        \n",
    "        new_df, prefix_idx = whole_bucket(df)\n"
   ]
  },
  {
   "cell_type": "code",
   "execution_count": 8,
   "id": "42c8c7d4",
   "metadata": {},
   "outputs": [],
   "source": [
    "df = pd.read_csv('/Users/yeon1\\GA_based_AutoML\\dataset\\dataset\\BPIC12.csv')"
   ]
  },
  {
   "cell_type": "code",
   "execution_count": 9,
   "id": "cff1be4f",
   "metadata": {},
   "outputs": [],
   "source": [
    "# Create these file in 'drop_act+prefix_extraction.jpynb'\n",
    "\n",
    "with open('./df_list1.pkl', 'rb') as f:\n",
    "    df_list1 = pickle.load(f)\n",
    "    \n",
    "with open('./df_list2.pkl', 'rb') as f:\n",
    "    df_list2 = pickle.load(f)\n",
    "    \n",
    "with open('./df_list3.pkl', 'rb') as f:\n",
    "    df_list3 = pickle.load(f)\n",
    "    \n",
    "with open('./df_list4.pkl', 'rb') as f:\n",
    "    df_list4 = pickle.load(f)"
   ]
  },
  {
   "cell_type": "markdown",
   "id": "66b12b55",
   "metadata": {},
   "source": [
    "# experiment 1"
   ]
  },
  {
   "cell_type": "code",
   "execution_count": 10,
   "id": "6ffb4e0c",
   "metadata": {},
   "outputs": [],
   "source": [
    "#selection rate\n",
    "sr = 0.1\n",
    "#crossover rate\n",
    "cr = 0.9\n",
    "#mutation rate\n",
    "mr = 0.01\n",
    "\n",
    "max_iter = 20"
   ]
  },
  {
   "cell_type": "code",
   "execution_count": 11,
   "id": "89906077",
   "metadata": {},
   "outputs": [],
   "source": [
    "\"\"\"\n",
    "GA : Genetic Algorithm\n",
    "RS : Random Search\n",
    "\"\"\"\n",
    "phase = 1 # drop_activity(GA) + encoding(GA) + bucketing(GA) + ML params(GA) + hyperparameter opt(GA)\n",
    "# phase = 2 # drop_activity(GA) + encoding(GA) + bucketing(GA) + ML params(GA) + hyperparameter opt(RS)\n",
    "# phase = 3 # drop_activity(GA) + encoding(GA) + bucketing(GA) + ML params(RS) + hyperparameter opt(RS)\n",
    "# phase = 4 # drop_activity(RS) + encoding(RS) + bucketing(RS) + ML params(RS) + hyperparameter opt(RS)\n",
    "\n",
    "GA = Genetic_Algorithm(df, options, combi, caseid, activity, ts, label, other_features, phase)\n",
    "GA.feature_type()"
   ]
  },
  {
   "cell_type": "code",
   "execution_count": 12,
   "id": "42a65750",
   "metadata": {},
   "outputs": [
    {
     "name": "stderr",
     "output_type": "stream",
     "text": [
      "  0%|          | 0/20 [00:00<?, ?it/s]"
     ]
    },
    {
     "name": "stdout",
     "output_type": "stream",
     "text": [
      "{'bucketing': 28, 'encoding': 'aggregate', 'drop_act': 2, 'Decision Tree': {'max_depth': 12, 'min_samples_leaf': 64, 'criterion': 'gini'}}\n",
      "bucket :  (2, 4)\n",
      "After OverSampling, the shape of train_X: (34594, 9)\n",
      "After OverSampling, the shape of train_y: (34594,) \n",
      "\n",
      "After OverSampling, counts of label '1': 17297\n",
      "After OverSampling, counts of label '0': 17297\n",
      "bucket :  (4, 6)\n",
      "After OverSampling, the shape of train_X: (23634, 15)\n",
      "After OverSampling, the shape of train_y: (23634,) \n",
      "\n",
      "After OverSampling, counts of label '1': 11817\n",
      "After OverSampling, counts of label '0': 11817\n",
      "bucket :  (6, 8)\n",
      "bucket :  (8, 10)\n",
      "bucket :  (10, 12)\n",
      "bucket :  (12, 14)\n",
      "bucket :  (14, 16)\n",
      "bucket :  (16, 18)\n",
      "bucket :  (18, 20)\n",
      "bucket :  (20, 22)\n",
      "bucket :  (22, 24)\n",
      "bucket :  (24, 25)\n",
      "bucket :  (25, 26)\n",
      "bucket :  (26, 27)\n",
      "bucket :  (27, 28)\n",
      "bucket :  (28, 29)\n",
      "bucket :  (29, 30)\n",
      "bucket :  (30, 31)\n",
      "bucket :  (31, 32)\n",
      "bucket :  (32, 33)\n",
      "bucket :  (33, 34)\n",
      "bucket :  (34, 35)\n",
      "bucket :  (35, 36)\n",
      "bucket :  (36, 37)\n",
      "bucket :  (37, 38)\n",
      "bucket :  (38, 39)\n",
      "bucket :  (39, 40)\n",
      "bucket :  (40, 41)\n"
     ]
    },
    {
     "name": "stderr",
     "output_type": "stream",
     "text": [
      "  5%|▌         | 1/20 [02:52<54:44, 172.87s/it]"
     ]
    },
    {
     "name": "stdout",
     "output_type": "stream",
     "text": [
      "{'bucketing': 27, 'encoding': 'aggregate', 'drop_act': 8, 'Decision Tree': {'max_depth': 7, 'min_samples_leaf': 47, 'criterion': 'gini'}}\n",
      "bucket :  (2, 4)\n",
      "After OverSampling, the shape of train_X: (34594, 8)\n",
      "After OverSampling, the shape of train_y: (34594,) \n",
      "\n",
      "After OverSampling, counts of label '1': 17297\n",
      "After OverSampling, counts of label '0': 17297\n",
      "bucket :  (4, 6)\n",
      "After OverSampling, the shape of train_X: (23472, 13)\n",
      "After OverSampling, the shape of train_y: (23472,) \n",
      "\n",
      "After OverSampling, counts of label '1': 11736\n",
      "After OverSampling, counts of label '0': 11736\n",
      "bucket :  (6, 8)\n",
      "bucket :  (8, 10)\n",
      "bucket :  (10, 12)\n",
      "bucket :  (12, 14)\n",
      "bucket :  (14, 16)\n",
      "bucket :  (16, 18)\n",
      "bucket :  (18, 20)\n",
      "bucket :  (20, 22)\n",
      "bucket :  (22, 24)\n",
      "bucket :  (24, 26)\n",
      "bucket :  (26, 27)\n",
      "bucket :  (27, 28)\n",
      "bucket :  (28, 29)\n",
      "bucket :  (29, 30)\n",
      "bucket :  (30, 31)\n",
      "bucket :  (31, 32)\n",
      "bucket :  (32, 33)\n",
      "bucket :  (33, 34)\n",
      "bucket :  (34, 35)\n",
      "bucket :  (35, 36)\n",
      "bucket :  (36, 37)\n",
      "bucket :  (37, 38)\n",
      "bucket :  (38, 39)\n",
      "bucket :  (39, 40)\n",
      "bucket :  (40, 41)\n"
     ]
    },
    {
     "name": "stderr",
     "output_type": "stream",
     "text": [
      " 10%|█         | 2/20 [05:40<50:58, 169.91s/it]"
     ]
    },
    {
     "name": "stdout",
     "output_type": "stream",
     "text": [
      "{'bucketing': 26, 'encoding': 'index', 'drop_act': 8, 'Decision Tree': {'max_depth': 12, 'min_samples_leaf': 46, 'criterion': 'entropy'}}\n",
      "bucket :  (2, 4)\n",
      "After OverSampling, the shape of train_X: (34594, 11)\n",
      "After OverSampling, the shape of train_y: (34594,) \n",
      "\n",
      "After OverSampling, counts of label '1': 17297\n",
      "After OverSampling, counts of label '0': 17297\n",
      "bucket :  (4, 6)\n",
      "After OverSampling, the shape of train_X: (23472, 19)\n",
      "After OverSampling, the shape of train_y: (23472,) \n",
      "\n",
      "After OverSampling, counts of label '1': 11736\n",
      "After OverSampling, counts of label '0': 11736\n",
      "bucket :  (6, 8)\n",
      "bucket :  (8, 10)\n",
      "bucket :  (10, 12)\n",
      "bucket :  (12, 14)\n",
      "bucket :  (14, 16)\n",
      "bucket :  (16, 18)\n",
      "bucket :  (18, 20)\n",
      "bucket :  (20, 22)\n",
      "bucket :  (22, 24)\n",
      "bucket :  (24, 26)\n",
      "bucket :  (26, 28)\n",
      "bucket :  (28, 29)\n",
      "bucket :  (29, 30)\n",
      "bucket :  (30, 31)\n",
      "bucket :  (31, 32)\n",
      "bucket :  (32, 33)\n",
      "bucket :  (33, 34)\n",
      "bucket :  (34, 35)\n",
      "bucket :  (35, 36)\n",
      "bucket :  (36, 37)\n",
      "bucket :  (37, 38)\n",
      "bucket :  (38, 39)\n",
      "bucket :  (39, 40)\n",
      "bucket :  (40, 41)\n"
     ]
    },
    {
     "name": "stderr",
     "output_type": "stream",
     "text": [
      " 15%|█▌        | 3/20 [07:51<43:02, 151.88s/it]"
     ]
    },
    {
     "name": "stdout",
     "output_type": "stream",
     "text": [
      "{'bucketing': 17, 'encoding': 'index', 'drop_act': 2, 'Decision Tree': {'max_depth': 4, 'min_samples_leaf': 86, 'criterion': 'gini'}}\n",
      "bucket :  (2, 5)\n",
      "After OverSampling, the shape of train_X: (47026, 17)\n",
      "After OverSampling, the shape of train_y: (47026,) \n",
      "\n",
      "After OverSampling, counts of label '1': 23513\n",
      "After OverSampling, counts of label '0': 23513\n",
      "bucket :  (5, 8)\n",
      "After OverSampling, the shape of train_X: (32868, 48)\n",
      "After OverSampling, the shape of train_y: (32868,) \n",
      "\n",
      "After OverSampling, counts of label '1': 16434\n",
      "After OverSampling, counts of label '0': 16434\n",
      "bucket :  (8, 11)\n",
      "bucket :  (11, 14)\n",
      "bucket :  (14, 17)\n",
      "bucket :  (17, 19)\n",
      "bucket :  (19, 21)\n",
      "bucket :  (21, 23)\n",
      "bucket :  (23, 25)\n",
      "bucket :  (25, 27)\n",
      "bucket :  (27, 29)\n",
      "bucket :  (29, 31)\n",
      "bucket :  (31, 33)\n",
      "bucket :  (33, 35)\n",
      "bucket :  (35, 37)\n",
      "bucket :  (37, 39)\n",
      "bucket :  (39, 41)\n"
     ]
    },
    {
     "name": "stderr",
     "output_type": "stream",
     "text": [
      " 20%|██        | 4/20 [10:04<38:30, 144.39s/it]"
     ]
    },
    {
     "name": "stdout",
     "output_type": "stream",
     "text": [
      "{'bucketing': 28, 'encoding': 'index', 'drop_act': 6, 'Decision Tree': {'max_depth': 18, 'min_samples_leaf': 29, 'criterion': 'entropy'}}\n",
      "bucket :  (2, 4)\n",
      "After OverSampling, the shape of train_X: (34594, 11)\n",
      "After OverSampling, the shape of train_y: (34594,) \n",
      "\n",
      "After OverSampling, counts of label '1': 17297\n",
      "After OverSampling, counts of label '0': 17297\n",
      "bucket :  (4, 6)\n",
      "After OverSampling, the shape of train_X: (23472, 19)\n",
      "After OverSampling, the shape of train_y: (23472,) \n",
      "\n",
      "After OverSampling, counts of label '1': 11736\n",
      "After OverSampling, counts of label '0': 11736\n",
      "bucket :  (6, 8)\n",
      "bucket :  (8, 10)\n",
      "bucket :  (10, 12)\n",
      "bucket :  (12, 14)\n",
      "bucket :  (14, 16)\n",
      "bucket :  (16, 18)\n",
      "bucket :  (18, 20)\n",
      "bucket :  (20, 22)\n",
      "bucket :  (22, 24)\n",
      "bucket :  (24, 25)\n",
      "bucket :  (25, 26)\n",
      "bucket :  (26, 27)\n",
      "bucket :  (27, 28)\n",
      "bucket :  (28, 29)\n",
      "bucket :  (29, 30)\n",
      "bucket :  (30, 31)\n",
      "bucket :  (31, 32)\n",
      "bucket :  (32, 33)\n",
      "bucket :  (33, 34)\n",
      "bucket :  (34, 35)\n",
      "bucket :  (35, 36)\n",
      "bucket :  (36, 37)\n",
      "bucket :  (37, 38)\n",
      "bucket :  (38, 39)\n",
      "bucket :  (39, 40)\n",
      "bucket :  (40, 41)\n"
     ]
    },
    {
     "name": "stderr",
     "output_type": "stream",
     "text": [
      " 25%|██▌       | 5/20 [12:16<35:00, 140.01s/it]"
     ]
    },
    {
     "name": "stdout",
     "output_type": "stream",
     "text": [
      "{'bucketing': 8, 'encoding': 'aggregate', 'drop_act': 4, 'Random Forest': {'n_estimators': 469, 'max_depth': 13, 'max_features': 'auto', 'bootstrap': False, 'criterion': 'entropy'}}\n",
      "bucket :  (2, 7)\n",
      "After OverSampling, the shape of train_X: (70588, 15)\n",
      "After OverSampling, the shape of train_y: (70588,) \n",
      "\n",
      "After OverSampling, counts of label '1': 35294\n",
      "After OverSampling, counts of label '0': 35294\n"
     ]
    },
    {
     "name": "stderr",
     "output_type": "stream",
     "text": [
      "C:\\Users\\yeon1\\AppData\\Local\\Packages\\PythonSoftwareFoundation.Python.3.10_qbz5n2kfra8p0\\LocalCache\\local-packages\\Python310\\site-packages\\sklearn\\ensemble\\_forest.py:427: FutureWarning: `max_features='auto'` has been deprecated in 1.1 and will be removed in 1.3. To keep the past behaviour, explicitly set `max_features='sqrt'` or remove this parameter as it is also the default value for RandomForestClassifiers and ExtraTreesClassifiers.\n",
      "  warn(\n"
     ]
    },
    {
     "name": "stdout",
     "output_type": "stream",
     "text": [
      "bucket :  (7, 12)\n"
     ]
    },
    {
     "name": "stderr",
     "output_type": "stream",
     "text": [
      "C:\\Users\\yeon1\\AppData\\Local\\Packages\\PythonSoftwareFoundation.Python.3.10_qbz5n2kfra8p0\\LocalCache\\local-packages\\Python310\\site-packages\\sklearn\\ensemble\\_forest.py:427: FutureWarning: `max_features='auto'` has been deprecated in 1.1 and will be removed in 1.3. To keep the past behaviour, explicitly set `max_features='sqrt'` or remove this parameter as it is also the default value for RandomForestClassifiers and ExtraTreesClassifiers.\n",
      "  warn(\n"
     ]
    },
    {
     "name": "stdout",
     "output_type": "stream",
     "text": [
      "bucket :  (12, 17)\n"
     ]
    },
    {
     "name": "stderr",
     "output_type": "stream",
     "text": [
      "C:\\Users\\yeon1\\AppData\\Local\\Packages\\PythonSoftwareFoundation.Python.3.10_qbz5n2kfra8p0\\LocalCache\\local-packages\\Python310\\site-packages\\sklearn\\ensemble\\_forest.py:427: FutureWarning: `max_features='auto'` has been deprecated in 1.1 and will be removed in 1.3. To keep the past behaviour, explicitly set `max_features='sqrt'` or remove this parameter as it is also the default value for RandomForestClassifiers and ExtraTreesClassifiers.\n",
      "  warn(\n"
     ]
    },
    {
     "name": "stdout",
     "output_type": "stream",
     "text": [
      "bucket :  (17, 22)\n"
     ]
    },
    {
     "name": "stderr",
     "output_type": "stream",
     "text": [
      "C:\\Users\\yeon1\\AppData\\Local\\Packages\\PythonSoftwareFoundation.Python.3.10_qbz5n2kfra8p0\\LocalCache\\local-packages\\Python310\\site-packages\\sklearn\\ensemble\\_forest.py:427: FutureWarning: `max_features='auto'` has been deprecated in 1.1 and will be removed in 1.3. To keep the past behaviour, explicitly set `max_features='sqrt'` or remove this parameter as it is also the default value for RandomForestClassifiers and ExtraTreesClassifiers.\n",
      "  warn(\n"
     ]
    },
    {
     "name": "stdout",
     "output_type": "stream",
     "text": [
      "bucket :  (22, 27)\n"
     ]
    },
    {
     "name": "stderr",
     "output_type": "stream",
     "text": [
      "C:\\Users\\yeon1\\AppData\\Local\\Packages\\PythonSoftwareFoundation.Python.3.10_qbz5n2kfra8p0\\LocalCache\\local-packages\\Python310\\site-packages\\sklearn\\ensemble\\_forest.py:427: FutureWarning: `max_features='auto'` has been deprecated in 1.1 and will be removed in 1.3. To keep the past behaviour, explicitly set `max_features='sqrt'` or remove this parameter as it is also the default value for RandomForestClassifiers and ExtraTreesClassifiers.\n",
      "  warn(\n"
     ]
    },
    {
     "name": "stdout",
     "output_type": "stream",
     "text": [
      "bucket :  (27, 32)\n"
     ]
    },
    {
     "name": "stderr",
     "output_type": "stream",
     "text": [
      "C:\\Users\\yeon1\\AppData\\Local\\Packages\\PythonSoftwareFoundation.Python.3.10_qbz5n2kfra8p0\\LocalCache\\local-packages\\Python310\\site-packages\\sklearn\\ensemble\\_forest.py:427: FutureWarning: `max_features='auto'` has been deprecated in 1.1 and will be removed in 1.3. To keep the past behaviour, explicitly set `max_features='sqrt'` or remove this parameter as it is also the default value for RandomForestClassifiers and ExtraTreesClassifiers.\n",
      "  warn(\n"
     ]
    },
    {
     "name": "stdout",
     "output_type": "stream",
     "text": [
      "bucket :  (32, 37)\n"
     ]
    },
    {
     "name": "stderr",
     "output_type": "stream",
     "text": [
      "C:\\Users\\yeon1\\AppData\\Local\\Packages\\PythonSoftwareFoundation.Python.3.10_qbz5n2kfra8p0\\LocalCache\\local-packages\\Python310\\site-packages\\sklearn\\ensemble\\_forest.py:427: FutureWarning: `max_features='auto'` has been deprecated in 1.1 and will be removed in 1.3. To keep the past behaviour, explicitly set `max_features='sqrt'` or remove this parameter as it is also the default value for RandomForestClassifiers and ExtraTreesClassifiers.\n",
      "  warn(\n"
     ]
    },
    {
     "name": "stdout",
     "output_type": "stream",
     "text": [
      "bucket :  (37, 41)\n"
     ]
    },
    {
     "name": "stderr",
     "output_type": "stream",
     "text": [
      "C:\\Users\\yeon1\\AppData\\Local\\Packages\\PythonSoftwareFoundation.Python.3.10_qbz5n2kfra8p0\\LocalCache\\local-packages\\Python310\\site-packages\\sklearn\\ensemble\\_forest.py:427: FutureWarning: `max_features='auto'` has been deprecated in 1.1 and will be removed in 1.3. To keep the past behaviour, explicitly set `max_features='sqrt'` or remove this parameter as it is also the default value for RandomForestClassifiers and ExtraTreesClassifiers.\n",
      "  warn(\n",
      " 30%|███       | 6/20 [16:25<41:20, 177.15s/it]"
     ]
    },
    {
     "name": "stdout",
     "output_type": "stream",
     "text": [
      "{'bucketing': 6, 'encoding': 'aggregate', 'drop_act': 8, 'Random Forest': {'n_estimators': 635, 'max_depth': 5, 'max_features': 'log2', 'bootstrap': True, 'criterion': 'gini'}}\n",
      "bucket :  (2, 9)\n",
      "After OverSampling, the shape of train_X: (89050, 17)\n",
      "After OverSampling, the shape of train_y: (89050,) \n",
      "\n",
      "After OverSampling, counts of label '1': 44525\n",
      "After OverSampling, counts of label '0': 44525\n",
      "bucket :  (9, 16)\n",
      "bucket :  (16, 23)\n",
      "bucket :  (23, 29)\n",
      "bucket :  (29, 35)\n",
      "bucket :  (35, 41)\n"
     ]
    },
    {
     "name": "stderr",
     "output_type": "stream",
     "text": [
      " 35%|███▌      | 7/20 [19:47<40:09, 185.38s/it]"
     ]
    },
    {
     "name": "stdout",
     "output_type": "stream",
     "text": [
      "{'bucketing': 15, 'encoding': 'aggregate', 'drop_act': 6, 'Random Forest': {'n_estimators': 634, 'max_depth': 5, 'max_features': 'log2', 'bootstrap': True, 'criterion': 'entropy'}}\n",
      "bucket :  (2, 5)\n",
      "After OverSampling, the shape of train_X: (46950, 10)\n",
      "After OverSampling, the shape of train_y: (46950,) \n",
      "\n",
      "After OverSampling, counts of label '1': 23475\n",
      "After OverSampling, counts of label '0': 23475\n",
      "bucket :  (5, 8)\n",
      "After OverSampling, the shape of train_X: (32620, 17)\n",
      "After OverSampling, the shape of train_y: (32620,) \n",
      "\n",
      "After OverSampling, counts of label '1': 16310\n",
      "After OverSampling, counts of label '0': 16310\n",
      "bucket :  (8, 11)\n",
      "bucket :  (11, 14)\n",
      "bucket :  (14, 17)\n",
      "bucket :  (17, 20)\n",
      "bucket :  (20, 23)\n",
      "bucket :  (23, 26)\n",
      "bucket :  (26, 29)\n",
      "bucket :  (29, 31)\n",
      "bucket :  (31, 33)\n",
      "bucket :  (33, 35)\n",
      "bucket :  (35, 37)\n",
      "bucket :  (37, 39)\n",
      "bucket :  (39, 41)\n"
     ]
    },
    {
     "name": "stderr",
     "output_type": "stream",
     "text": [
      " 40%|████      | 8/20 [23:23<39:00, 195.08s/it]"
     ]
    },
    {
     "name": "stdout",
     "output_type": "stream",
     "text": [
      "{'bucketing': 31, 'encoding': 'aggregate', 'drop_act': 4, 'Random Forest': {'n_estimators': 634, 'max_depth': 9, 'max_features': 'auto', 'bootstrap': False, 'criterion': 'gini'}}\n",
      "bucket :  (2, 4)\n",
      "After OverSampling, the shape of train_X: (34594, 8)\n",
      "After OverSampling, the shape of train_y: (34594,) \n",
      "\n",
      "After OverSampling, counts of label '1': 17297\n",
      "After OverSampling, counts of label '0': 17297\n"
     ]
    },
    {
     "name": "stderr",
     "output_type": "stream",
     "text": [
      "C:\\Users\\yeon1\\AppData\\Local\\Packages\\PythonSoftwareFoundation.Python.3.10_qbz5n2kfra8p0\\LocalCache\\local-packages\\Python310\\site-packages\\sklearn\\ensemble\\_forest.py:427: FutureWarning: `max_features='auto'` has been deprecated in 1.1 and will be removed in 1.3. To keep the past behaviour, explicitly set `max_features='sqrt'` or remove this parameter as it is also the default value for RandomForestClassifiers and ExtraTreesClassifiers.\n",
      "  warn(\n"
     ]
    },
    {
     "name": "stdout",
     "output_type": "stream",
     "text": [
      "bucket :  (4, 6)\n",
      "After OverSampling, the shape of train_X: (23472, 13)\n",
      "After OverSampling, the shape of train_y: (23472,) \n",
      "\n",
      "After OverSampling, counts of label '1': 11736\n",
      "After OverSampling, counts of label '0': 11736\n"
     ]
    },
    {
     "name": "stderr",
     "output_type": "stream",
     "text": [
      "C:\\Users\\yeon1\\AppData\\Local\\Packages\\PythonSoftwareFoundation.Python.3.10_qbz5n2kfra8p0\\LocalCache\\local-packages\\Python310\\site-packages\\sklearn\\ensemble\\_forest.py:427: FutureWarning: `max_features='auto'` has been deprecated in 1.1 and will be removed in 1.3. To keep the past behaviour, explicitly set `max_features='sqrt'` or remove this parameter as it is also the default value for RandomForestClassifiers and ExtraTreesClassifiers.\n",
      "  warn(\n"
     ]
    },
    {
     "name": "stdout",
     "output_type": "stream",
     "text": [
      "bucket :  (6, 8)\n"
     ]
    },
    {
     "name": "stderr",
     "output_type": "stream",
     "text": [
      "C:\\Users\\yeon1\\AppData\\Local\\Packages\\PythonSoftwareFoundation.Python.3.10_qbz5n2kfra8p0\\LocalCache\\local-packages\\Python310\\site-packages\\sklearn\\ensemble\\_forest.py:427: FutureWarning: `max_features='auto'` has been deprecated in 1.1 and will be removed in 1.3. To keep the past behaviour, explicitly set `max_features='sqrt'` or remove this parameter as it is also the default value for RandomForestClassifiers and ExtraTreesClassifiers.\n",
      "  warn(\n"
     ]
    },
    {
     "name": "stdout",
     "output_type": "stream",
     "text": [
      "bucket :  (8, 10)\n"
     ]
    },
    {
     "name": "stderr",
     "output_type": "stream",
     "text": [
      "C:\\Users\\yeon1\\AppData\\Local\\Packages\\PythonSoftwareFoundation.Python.3.10_qbz5n2kfra8p0\\LocalCache\\local-packages\\Python310\\site-packages\\sklearn\\ensemble\\_forest.py:427: FutureWarning: `max_features='auto'` has been deprecated in 1.1 and will be removed in 1.3. To keep the past behaviour, explicitly set `max_features='sqrt'` or remove this parameter as it is also the default value for RandomForestClassifiers and ExtraTreesClassifiers.\n",
      "  warn(\n"
     ]
    },
    {
     "name": "stdout",
     "output_type": "stream",
     "text": [
      "bucket :  (10, 12)\n"
     ]
    },
    {
     "name": "stderr",
     "output_type": "stream",
     "text": [
      "C:\\Users\\yeon1\\AppData\\Local\\Packages\\PythonSoftwareFoundation.Python.3.10_qbz5n2kfra8p0\\LocalCache\\local-packages\\Python310\\site-packages\\sklearn\\ensemble\\_forest.py:427: FutureWarning: `max_features='auto'` has been deprecated in 1.1 and will be removed in 1.3. To keep the past behaviour, explicitly set `max_features='sqrt'` or remove this parameter as it is also the default value for RandomForestClassifiers and ExtraTreesClassifiers.\n",
      "  warn(\n"
     ]
    },
    {
     "name": "stdout",
     "output_type": "stream",
     "text": [
      "bucket :  (12, 14)\n"
     ]
    },
    {
     "name": "stderr",
     "output_type": "stream",
     "text": [
      "C:\\Users\\yeon1\\AppData\\Local\\Packages\\PythonSoftwareFoundation.Python.3.10_qbz5n2kfra8p0\\LocalCache\\local-packages\\Python310\\site-packages\\sklearn\\ensemble\\_forest.py:427: FutureWarning: `max_features='auto'` has been deprecated in 1.1 and will be removed in 1.3. To keep the past behaviour, explicitly set `max_features='sqrt'` or remove this parameter as it is also the default value for RandomForestClassifiers and ExtraTreesClassifiers.\n",
      "  warn(\n"
     ]
    },
    {
     "name": "stdout",
     "output_type": "stream",
     "text": [
      "bucket :  (14, 16)\n"
     ]
    },
    {
     "name": "stderr",
     "output_type": "stream",
     "text": [
      "C:\\Users\\yeon1\\AppData\\Local\\Packages\\PythonSoftwareFoundation.Python.3.10_qbz5n2kfra8p0\\LocalCache\\local-packages\\Python310\\site-packages\\sklearn\\ensemble\\_forest.py:427: FutureWarning: `max_features='auto'` has been deprecated in 1.1 and will be removed in 1.3. To keep the past behaviour, explicitly set `max_features='sqrt'` or remove this parameter as it is also the default value for RandomForestClassifiers and ExtraTreesClassifiers.\n",
      "  warn(\n"
     ]
    },
    {
     "name": "stdout",
     "output_type": "stream",
     "text": [
      "bucket :  (16, 18)\n"
     ]
    },
    {
     "name": "stderr",
     "output_type": "stream",
     "text": [
      "C:\\Users\\yeon1\\AppData\\Local\\Packages\\PythonSoftwareFoundation.Python.3.10_qbz5n2kfra8p0\\LocalCache\\local-packages\\Python310\\site-packages\\sklearn\\ensemble\\_forest.py:427: FutureWarning: `max_features='auto'` has been deprecated in 1.1 and will be removed in 1.3. To keep the past behaviour, explicitly set `max_features='sqrt'` or remove this parameter as it is also the default value for RandomForestClassifiers and ExtraTreesClassifiers.\n",
      "  warn(\n"
     ]
    },
    {
     "name": "stdout",
     "output_type": "stream",
     "text": [
      "bucket :  (18, 19)\n"
     ]
    },
    {
     "name": "stderr",
     "output_type": "stream",
     "text": [
      "C:\\Users\\yeon1\\AppData\\Local\\Packages\\PythonSoftwareFoundation.Python.3.10_qbz5n2kfra8p0\\LocalCache\\local-packages\\Python310\\site-packages\\sklearn\\ensemble\\_forest.py:427: FutureWarning: `max_features='auto'` has been deprecated in 1.1 and will be removed in 1.3. To keep the past behaviour, explicitly set `max_features='sqrt'` or remove this parameter as it is also the default value for RandomForestClassifiers and ExtraTreesClassifiers.\n",
      "  warn(\n"
     ]
    },
    {
     "name": "stdout",
     "output_type": "stream",
     "text": [
      "bucket :  (19, 20)\n"
     ]
    },
    {
     "name": "stderr",
     "output_type": "stream",
     "text": [
      "C:\\Users\\yeon1\\AppData\\Local\\Packages\\PythonSoftwareFoundation.Python.3.10_qbz5n2kfra8p0\\LocalCache\\local-packages\\Python310\\site-packages\\sklearn\\ensemble\\_forest.py:427: FutureWarning: `max_features='auto'` has been deprecated in 1.1 and will be removed in 1.3. To keep the past behaviour, explicitly set `max_features='sqrt'` or remove this parameter as it is also the default value for RandomForestClassifiers and ExtraTreesClassifiers.\n",
      "  warn(\n"
     ]
    },
    {
     "name": "stdout",
     "output_type": "stream",
     "text": [
      "bucket :  (20, 21)\n"
     ]
    },
    {
     "name": "stderr",
     "output_type": "stream",
     "text": [
      "C:\\Users\\yeon1\\AppData\\Local\\Packages\\PythonSoftwareFoundation.Python.3.10_qbz5n2kfra8p0\\LocalCache\\local-packages\\Python310\\site-packages\\sklearn\\ensemble\\_forest.py:427: FutureWarning: `max_features='auto'` has been deprecated in 1.1 and will be removed in 1.3. To keep the past behaviour, explicitly set `max_features='sqrt'` or remove this parameter as it is also the default value for RandomForestClassifiers and ExtraTreesClassifiers.\n",
      "  warn(\n"
     ]
    },
    {
     "name": "stdout",
     "output_type": "stream",
     "text": [
      "bucket :  (21, 22)\n"
     ]
    },
    {
     "name": "stderr",
     "output_type": "stream",
     "text": [
      "C:\\Users\\yeon1\\AppData\\Local\\Packages\\PythonSoftwareFoundation.Python.3.10_qbz5n2kfra8p0\\LocalCache\\local-packages\\Python310\\site-packages\\sklearn\\ensemble\\_forest.py:427: FutureWarning: `max_features='auto'` has been deprecated in 1.1 and will be removed in 1.3. To keep the past behaviour, explicitly set `max_features='sqrt'` or remove this parameter as it is also the default value for RandomForestClassifiers and ExtraTreesClassifiers.\n",
      "  warn(\n"
     ]
    },
    {
     "name": "stdout",
     "output_type": "stream",
     "text": [
      "bucket :  (22, 23)\n"
     ]
    },
    {
     "name": "stderr",
     "output_type": "stream",
     "text": [
      "C:\\Users\\yeon1\\AppData\\Local\\Packages\\PythonSoftwareFoundation.Python.3.10_qbz5n2kfra8p0\\LocalCache\\local-packages\\Python310\\site-packages\\sklearn\\ensemble\\_forest.py:427: FutureWarning: `max_features='auto'` has been deprecated in 1.1 and will be removed in 1.3. To keep the past behaviour, explicitly set `max_features='sqrt'` or remove this parameter as it is also the default value for RandomForestClassifiers and ExtraTreesClassifiers.\n",
      "  warn(\n"
     ]
    },
    {
     "name": "stdout",
     "output_type": "stream",
     "text": [
      "bucket :  (23, 24)\n"
     ]
    },
    {
     "name": "stderr",
     "output_type": "stream",
     "text": [
      "C:\\Users\\yeon1\\AppData\\Local\\Packages\\PythonSoftwareFoundation.Python.3.10_qbz5n2kfra8p0\\LocalCache\\local-packages\\Python310\\site-packages\\sklearn\\ensemble\\_forest.py:427: FutureWarning: `max_features='auto'` has been deprecated in 1.1 and will be removed in 1.3. To keep the past behaviour, explicitly set `max_features='sqrt'` or remove this parameter as it is also the default value for RandomForestClassifiers and ExtraTreesClassifiers.\n",
      "  warn(\n"
     ]
    },
    {
     "name": "stdout",
     "output_type": "stream",
     "text": [
      "bucket :  (24, 25)\n"
     ]
    },
    {
     "name": "stderr",
     "output_type": "stream",
     "text": [
      "C:\\Users\\yeon1\\AppData\\Local\\Packages\\PythonSoftwareFoundation.Python.3.10_qbz5n2kfra8p0\\LocalCache\\local-packages\\Python310\\site-packages\\sklearn\\ensemble\\_forest.py:427: FutureWarning: `max_features='auto'` has been deprecated in 1.1 and will be removed in 1.3. To keep the past behaviour, explicitly set `max_features='sqrt'` or remove this parameter as it is also the default value for RandomForestClassifiers and ExtraTreesClassifiers.\n",
      "  warn(\n"
     ]
    },
    {
     "name": "stdout",
     "output_type": "stream",
     "text": [
      "bucket :  (25, 26)\n"
     ]
    },
    {
     "name": "stderr",
     "output_type": "stream",
     "text": [
      "C:\\Users\\yeon1\\AppData\\Local\\Packages\\PythonSoftwareFoundation.Python.3.10_qbz5n2kfra8p0\\LocalCache\\local-packages\\Python310\\site-packages\\sklearn\\ensemble\\_forest.py:427: FutureWarning: `max_features='auto'` has been deprecated in 1.1 and will be removed in 1.3. To keep the past behaviour, explicitly set `max_features='sqrt'` or remove this parameter as it is also the default value for RandomForestClassifiers and ExtraTreesClassifiers.\n",
      "  warn(\n"
     ]
    },
    {
     "name": "stdout",
     "output_type": "stream",
     "text": [
      "bucket :  (26, 27)\n"
     ]
    },
    {
     "name": "stderr",
     "output_type": "stream",
     "text": [
      "C:\\Users\\yeon1\\AppData\\Local\\Packages\\PythonSoftwareFoundation.Python.3.10_qbz5n2kfra8p0\\LocalCache\\local-packages\\Python310\\site-packages\\sklearn\\ensemble\\_forest.py:427: FutureWarning: `max_features='auto'` has been deprecated in 1.1 and will be removed in 1.3. To keep the past behaviour, explicitly set `max_features='sqrt'` or remove this parameter as it is also the default value for RandomForestClassifiers and ExtraTreesClassifiers.\n",
      "  warn(\n"
     ]
    },
    {
     "name": "stdout",
     "output_type": "stream",
     "text": [
      "bucket :  (27, 28)\n"
     ]
    },
    {
     "name": "stderr",
     "output_type": "stream",
     "text": [
      "C:\\Users\\yeon1\\AppData\\Local\\Packages\\PythonSoftwareFoundation.Python.3.10_qbz5n2kfra8p0\\LocalCache\\local-packages\\Python310\\site-packages\\sklearn\\ensemble\\_forest.py:427: FutureWarning: `max_features='auto'` has been deprecated in 1.1 and will be removed in 1.3. To keep the past behaviour, explicitly set `max_features='sqrt'` or remove this parameter as it is also the default value for RandomForestClassifiers and ExtraTreesClassifiers.\n",
      "  warn(\n"
     ]
    },
    {
     "name": "stdout",
     "output_type": "stream",
     "text": [
      "bucket :  (28, 29)\n"
     ]
    },
    {
     "name": "stderr",
     "output_type": "stream",
     "text": [
      "C:\\Users\\yeon1\\AppData\\Local\\Packages\\PythonSoftwareFoundation.Python.3.10_qbz5n2kfra8p0\\LocalCache\\local-packages\\Python310\\site-packages\\sklearn\\ensemble\\_forest.py:427: FutureWarning: `max_features='auto'` has been deprecated in 1.1 and will be removed in 1.3. To keep the past behaviour, explicitly set `max_features='sqrt'` or remove this parameter as it is also the default value for RandomForestClassifiers and ExtraTreesClassifiers.\n",
      "  warn(\n"
     ]
    },
    {
     "name": "stdout",
     "output_type": "stream",
     "text": [
      "bucket :  (29, 30)\n"
     ]
    },
    {
     "name": "stderr",
     "output_type": "stream",
     "text": [
      "C:\\Users\\yeon1\\AppData\\Local\\Packages\\PythonSoftwareFoundation.Python.3.10_qbz5n2kfra8p0\\LocalCache\\local-packages\\Python310\\site-packages\\sklearn\\ensemble\\_forest.py:427: FutureWarning: `max_features='auto'` has been deprecated in 1.1 and will be removed in 1.3. To keep the past behaviour, explicitly set `max_features='sqrt'` or remove this parameter as it is also the default value for RandomForestClassifiers and ExtraTreesClassifiers.\n",
      "  warn(\n"
     ]
    },
    {
     "name": "stdout",
     "output_type": "stream",
     "text": [
      "bucket :  (30, 31)\n"
     ]
    },
    {
     "name": "stderr",
     "output_type": "stream",
     "text": [
      "C:\\Users\\yeon1\\AppData\\Local\\Packages\\PythonSoftwareFoundation.Python.3.10_qbz5n2kfra8p0\\LocalCache\\local-packages\\Python310\\site-packages\\sklearn\\ensemble\\_forest.py:427: FutureWarning: `max_features='auto'` has been deprecated in 1.1 and will be removed in 1.3. To keep the past behaviour, explicitly set `max_features='sqrt'` or remove this parameter as it is also the default value for RandomForestClassifiers and ExtraTreesClassifiers.\n",
      "  warn(\n"
     ]
    },
    {
     "name": "stdout",
     "output_type": "stream",
     "text": [
      "bucket :  (31, 32)\n"
     ]
    },
    {
     "name": "stderr",
     "output_type": "stream",
     "text": [
      "C:\\Users\\yeon1\\AppData\\Local\\Packages\\PythonSoftwareFoundation.Python.3.10_qbz5n2kfra8p0\\LocalCache\\local-packages\\Python310\\site-packages\\sklearn\\ensemble\\_forest.py:427: FutureWarning: `max_features='auto'` has been deprecated in 1.1 and will be removed in 1.3. To keep the past behaviour, explicitly set `max_features='sqrt'` or remove this parameter as it is also the default value for RandomForestClassifiers and ExtraTreesClassifiers.\n",
      "  warn(\n"
     ]
    },
    {
     "name": "stdout",
     "output_type": "stream",
     "text": [
      "bucket :  (32, 33)\n"
     ]
    },
    {
     "name": "stderr",
     "output_type": "stream",
     "text": [
      "C:\\Users\\yeon1\\AppData\\Local\\Packages\\PythonSoftwareFoundation.Python.3.10_qbz5n2kfra8p0\\LocalCache\\local-packages\\Python310\\site-packages\\sklearn\\ensemble\\_forest.py:427: FutureWarning: `max_features='auto'` has been deprecated in 1.1 and will be removed in 1.3. To keep the past behaviour, explicitly set `max_features='sqrt'` or remove this parameter as it is also the default value for RandomForestClassifiers and ExtraTreesClassifiers.\n",
      "  warn(\n"
     ]
    },
    {
     "name": "stdout",
     "output_type": "stream",
     "text": [
      "bucket :  (33, 34)\n"
     ]
    },
    {
     "name": "stderr",
     "output_type": "stream",
     "text": [
      "C:\\Users\\yeon1\\AppData\\Local\\Packages\\PythonSoftwareFoundation.Python.3.10_qbz5n2kfra8p0\\LocalCache\\local-packages\\Python310\\site-packages\\sklearn\\ensemble\\_forest.py:427: FutureWarning: `max_features='auto'` has been deprecated in 1.1 and will be removed in 1.3. To keep the past behaviour, explicitly set `max_features='sqrt'` or remove this parameter as it is also the default value for RandomForestClassifiers and ExtraTreesClassifiers.\n",
      "  warn(\n"
     ]
    },
    {
     "name": "stdout",
     "output_type": "stream",
     "text": [
      "bucket :  (34, 35)\n"
     ]
    },
    {
     "name": "stderr",
     "output_type": "stream",
     "text": [
      "C:\\Users\\yeon1\\AppData\\Local\\Packages\\PythonSoftwareFoundation.Python.3.10_qbz5n2kfra8p0\\LocalCache\\local-packages\\Python310\\site-packages\\sklearn\\ensemble\\_forest.py:427: FutureWarning: `max_features='auto'` has been deprecated in 1.1 and will be removed in 1.3. To keep the past behaviour, explicitly set `max_features='sqrt'` or remove this parameter as it is also the default value for RandomForestClassifiers and ExtraTreesClassifiers.\n",
      "  warn(\n"
     ]
    },
    {
     "name": "stdout",
     "output_type": "stream",
     "text": [
      "bucket :  (35, 36)\n"
     ]
    },
    {
     "name": "stderr",
     "output_type": "stream",
     "text": [
      "C:\\Users\\yeon1\\AppData\\Local\\Packages\\PythonSoftwareFoundation.Python.3.10_qbz5n2kfra8p0\\LocalCache\\local-packages\\Python310\\site-packages\\sklearn\\ensemble\\_forest.py:427: FutureWarning: `max_features='auto'` has been deprecated in 1.1 and will be removed in 1.3. To keep the past behaviour, explicitly set `max_features='sqrt'` or remove this parameter as it is also the default value for RandomForestClassifiers and ExtraTreesClassifiers.\n",
      "  warn(\n"
     ]
    },
    {
     "name": "stdout",
     "output_type": "stream",
     "text": [
      "bucket :  (36, 37)\n"
     ]
    },
    {
     "name": "stderr",
     "output_type": "stream",
     "text": [
      "C:\\Users\\yeon1\\AppData\\Local\\Packages\\PythonSoftwareFoundation.Python.3.10_qbz5n2kfra8p0\\LocalCache\\local-packages\\Python310\\site-packages\\sklearn\\ensemble\\_forest.py:427: FutureWarning: `max_features='auto'` has been deprecated in 1.1 and will be removed in 1.3. To keep the past behaviour, explicitly set `max_features='sqrt'` or remove this parameter as it is also the default value for RandomForestClassifiers and ExtraTreesClassifiers.\n",
      "  warn(\n"
     ]
    },
    {
     "name": "stdout",
     "output_type": "stream",
     "text": [
      "bucket :  (37, 38)\n"
     ]
    },
    {
     "name": "stderr",
     "output_type": "stream",
     "text": [
      "C:\\Users\\yeon1\\AppData\\Local\\Packages\\PythonSoftwareFoundation.Python.3.10_qbz5n2kfra8p0\\LocalCache\\local-packages\\Python310\\site-packages\\sklearn\\ensemble\\_forest.py:427: FutureWarning: `max_features='auto'` has been deprecated in 1.1 and will be removed in 1.3. To keep the past behaviour, explicitly set `max_features='sqrt'` or remove this parameter as it is also the default value for RandomForestClassifiers and ExtraTreesClassifiers.\n",
      "  warn(\n"
     ]
    },
    {
     "name": "stdout",
     "output_type": "stream",
     "text": [
      "bucket :  (38, 39)\n"
     ]
    },
    {
     "name": "stderr",
     "output_type": "stream",
     "text": [
      "C:\\Users\\yeon1\\AppData\\Local\\Packages\\PythonSoftwareFoundation.Python.3.10_qbz5n2kfra8p0\\LocalCache\\local-packages\\Python310\\site-packages\\sklearn\\ensemble\\_forest.py:427: FutureWarning: `max_features='auto'` has been deprecated in 1.1 and will be removed in 1.3. To keep the past behaviour, explicitly set `max_features='sqrt'` or remove this parameter as it is also the default value for RandomForestClassifiers and ExtraTreesClassifiers.\n",
      "  warn(\n"
     ]
    },
    {
     "name": "stdout",
     "output_type": "stream",
     "text": [
      "bucket :  (39, 40)\n"
     ]
    },
    {
     "name": "stderr",
     "output_type": "stream",
     "text": [
      "C:\\Users\\yeon1\\AppData\\Local\\Packages\\PythonSoftwareFoundation.Python.3.10_qbz5n2kfra8p0\\LocalCache\\local-packages\\Python310\\site-packages\\sklearn\\ensemble\\_forest.py:427: FutureWarning: `max_features='auto'` has been deprecated in 1.1 and will be removed in 1.3. To keep the past behaviour, explicitly set `max_features='sqrt'` or remove this parameter as it is also the default value for RandomForestClassifiers and ExtraTreesClassifiers.\n",
      "  warn(\n"
     ]
    },
    {
     "name": "stdout",
     "output_type": "stream",
     "text": [
      "bucket :  (40, 41)\n"
     ]
    },
    {
     "name": "stderr",
     "output_type": "stream",
     "text": [
      "C:\\Users\\yeon1\\AppData\\Local\\Packages\\PythonSoftwareFoundation.Python.3.10_qbz5n2kfra8p0\\LocalCache\\local-packages\\Python310\\site-packages\\sklearn\\ensemble\\_forest.py:427: FutureWarning: `max_features='auto'` has been deprecated in 1.1 and will be removed in 1.3. To keep the past behaviour, explicitly set `max_features='sqrt'` or remove this parameter as it is also the default value for RandomForestClassifiers and ExtraTreesClassifiers.\n",
      "  warn(\n",
      " 45%|████▌     | 9/20 [27:40<39:17, 214.30s/it]"
     ]
    },
    {
     "name": "stdout",
     "output_type": "stream",
     "text": [
      "{'bucketing': 19, 'encoding': 'index', 'drop_act': 4, 'Random Forest': {'n_estimators': 525, 'max_depth': 12, 'max_features': 'log2', 'bootstrap': True, 'criterion': 'entropy'}}\n",
      "bucket :  (2, 5)\n",
      "After OverSampling, the shape of train_X: (46950, 14)\n",
      "After OverSampling, the shape of train_y: (46950,) \n",
      "\n",
      "After OverSampling, counts of label '1': 23475\n",
      "After OverSampling, counts of label '0': 23475\n",
      "bucket :  (5, 7)\n",
      "After OverSampling, the shape of train_X: (23472, 28)\n",
      "After OverSampling, the shape of train_y: (23472,) \n",
      "\n",
      "After OverSampling, counts of label '1': 11736\n",
      "After OverSampling, counts of label '0': 11736\n",
      "bucket :  (7, 9)\n",
      "bucket :  (9, 11)\n",
      "bucket :  (11, 13)\n",
      "bucket :  (13, 15)\n",
      "bucket :  (15, 17)\n",
      "bucket :  (17, 19)\n",
      "bucket :  (19, 21)\n",
      "bucket :  (21, 23)\n",
      "bucket :  (23, 25)\n",
      "bucket :  (25, 27)\n",
      "bucket :  (27, 29)\n",
      "bucket :  (29, 31)\n",
      "bucket :  (31, 33)\n",
      "bucket :  (33, 35)\n",
      "bucket :  (35, 37)\n",
      "bucket :  (37, 39)\n",
      "bucket :  (39, 41)\n"
     ]
    },
    {
     "name": "stderr",
     "output_type": "stream",
     "text": [
      " 50%|█████     | 10/20 [31:17<35:51, 215.12s/it]"
     ]
    },
    {
     "name": "stdout",
     "output_type": "stream",
     "text": [
      "{'bucketing': 27, 'encoding': 'aggregate', 'drop_act': 2, 'LightGBM': {'max_depth': 14, 'num_leaves': 304, 'min_child_samples': 3}}\n",
      "bucket :  (2, 4)\n",
      "After OverSampling, the shape of train_X: (34594, 9)\n",
      "After OverSampling, the shape of train_y: (34594,) \n",
      "\n",
      "After OverSampling, counts of label '1': 17297\n",
      "After OverSampling, counts of label '0': 17297\n",
      "bucket :  (4, 6)\n",
      "After OverSampling, the shape of train_X: (23634, 15)\n",
      "After OverSampling, the shape of train_y: (23634,) \n",
      "\n",
      "After OverSampling, counts of label '1': 11817\n",
      "After OverSampling, counts of label '0': 11817\n",
      "bucket :  (6, 8)\n",
      "bucket :  (8, 10)\n",
      "bucket :  (10, 12)\n",
      "bucket :  (12, 14)\n",
      "bucket :  (14, 16)\n",
      "bucket :  (16, 18)\n",
      "bucket :  (18, 20)\n",
      "bucket :  (20, 22)\n",
      "bucket :  (22, 24)\n",
      "bucket :  (24, 26)\n",
      "bucket :  (26, 27)\n",
      "bucket :  (27, 28)\n",
      "bucket :  (28, 29)\n",
      "bucket :  (29, 30)\n",
      "bucket :  (30, 31)\n",
      "bucket :  (31, 32)\n",
      "bucket :  (32, 33)\n",
      "bucket :  (33, 34)\n",
      "bucket :  (34, 35)\n",
      "bucket :  (35, 36)\n",
      "bucket :  (36, 37)\n",
      "bucket :  (37, 38)\n",
      "bucket :  (38, 39)\n",
      "bucket :  (39, 40)\n",
      "bucket :  (40, 41)\n"
     ]
    },
    {
     "name": "stderr",
     "output_type": "stream",
     "text": [
      " 55%|█████▌    | 11/20 [34:28<31:09, 207.69s/it]"
     ]
    },
    {
     "name": "stdout",
     "output_type": "stream",
     "text": [
      "{'bucketing': 21, 'encoding': 'aggregate', 'drop_act': 6, 'LightGBM': {'max_depth': 4, 'num_leaves': 87, 'min_child_samples': 9}}\n",
      "bucket :  (2, 4)\n",
      "After OverSampling, the shape of train_X: (34594, 8)\n",
      "After OverSampling, the shape of train_y: (34594,) \n",
      "\n",
      "After OverSampling, counts of label '1': 17297\n",
      "After OverSampling, counts of label '0': 17297\n",
      "bucket :  (4, 6)\n",
      "After OverSampling, the shape of train_X: (23472, 13)\n",
      "After OverSampling, the shape of train_y: (23472,) \n",
      "\n",
      "After OverSampling, counts of label '1': 11736\n",
      "After OverSampling, counts of label '0': 11736\n",
      "bucket :  (6, 8)\n",
      "bucket :  (8, 10)\n",
      "bucket :  (10, 12)\n",
      "bucket :  (12, 14)\n",
      "bucket :  (14, 16)\n",
      "bucket :  (16, 18)\n",
      "bucket :  (18, 20)\n",
      "bucket :  (20, 22)\n",
      "bucket :  (22, 24)\n",
      "bucket :  (24, 26)\n",
      "bucket :  (26, 28)\n",
      "bucket :  (28, 30)\n",
      "bucket :  (30, 32)\n",
      "bucket :  (32, 34)\n",
      "bucket :  (34, 36)\n",
      "bucket :  (36, 38)\n",
      "bucket :  (38, 39)\n",
      "bucket :  (39, 40)\n",
      "bucket :  (40, 41)\n"
     ]
    },
    {
     "name": "stderr",
     "output_type": "stream",
     "text": [
      " 60%|██████    | 12/20 [37:24<26:25, 198.19s/it]"
     ]
    },
    {
     "name": "stdout",
     "output_type": "stream",
     "text": [
      "{'bucketing': 14, 'encoding': 'aggregate', 'drop_act': 2, 'LightGBM': {'max_depth': 7, 'num_leaves': 475, 'min_child_samples': 6}}\n",
      "bucket :  (2, 5)\n",
      "After OverSampling, the shape of train_X: (47026, 12)\n",
      "After OverSampling, the shape of train_y: (47026,) \n",
      "\n",
      "After OverSampling, counts of label '1': 23513\n",
      "After OverSampling, counts of label '0': 23513\n",
      "bucket :  (5, 8)\n",
      "After OverSampling, the shape of train_X: (32868, 19)\n",
      "After OverSampling, the shape of train_y: (32868,) \n",
      "\n",
      "After OverSampling, counts of label '1': 16434\n",
      "After OverSampling, counts of label '0': 16434\n",
      "bucket :  (8, 11)\n",
      "bucket :  (11, 14)\n",
      "bucket :  (14, 17)\n",
      "bucket :  (17, 20)\n",
      "bucket :  (20, 23)\n",
      "bucket :  (23, 26)\n",
      "bucket :  (26, 29)\n",
      "bucket :  (29, 32)\n",
      "bucket :  (32, 35)\n",
      "bucket :  (35, 37)\n",
      "bucket :  (37, 39)\n",
      "bucket :  (39, 41)\n"
     ]
    },
    {
     "name": "stderr",
     "output_type": "stream",
     "text": [
      " 65%|██████▌   | 13/20 [40:18<22:15, 190.76s/it]"
     ]
    },
    {
     "name": "stdout",
     "output_type": "stream",
     "text": [
      "{'bucketing': 11, 'encoding': 'index', 'drop_act': 6, 'LightGBM': {'max_depth': 6, 'num_leaves': 245, 'min_child_samples': 5}}\n",
      "bucket :  (2, 6)\n",
      "After OverSampling, the shape of train_X: (58864, 20)\n",
      "After OverSampling, the shape of train_y: (58864,) \n",
      "\n",
      "After OverSampling, counts of label '1': 29432\n",
      "After OverSampling, counts of label '0': 29432\n",
      "bucket :  (6, 10)\n",
      "bucket :  (10, 14)\n",
      "bucket :  (14, 18)\n",
      "bucket :  (18, 22)\n",
      "bucket :  (22, 26)\n",
      "bucket :  (26, 29)\n",
      "bucket :  (29, 32)\n",
      "bucket :  (32, 35)\n",
      "bucket :  (35, 38)\n",
      "bucket :  (38, 41)\n"
     ]
    },
    {
     "name": "stderr",
     "output_type": "stream",
     "text": [
      " 70%|███████   | 14/20 [42:29<17:17, 172.90s/it]"
     ]
    },
    {
     "name": "stdout",
     "output_type": "stream",
     "text": [
      "{'bucketing': 2, 'encoding': 'index', 'drop_act': 8, 'LightGBM': {'max_depth': 10, 'num_leaves': 325, 'min_child_samples': 5}}\n",
      "bucket :  (2, 22)\n",
      "bucket :  (22, 41)\n"
     ]
    },
    {
     "name": "stderr",
     "output_type": "stream",
     "text": [
      " 75%|███████▌  | 15/20 [44:43<13:25, 161.03s/it]"
     ]
    },
    {
     "name": "stdout",
     "output_type": "stream",
     "text": [
      "{'bucketing': 35, 'encoding': 'index', 'drop_act': 6, 'Xgboost': {'max_depth': 4, 'n_estimators': 528, 'learning_rate': 0.1}}\n",
      "bucket :  (2, 4)\n",
      "After OverSampling, the shape of train_X: (34594, 11)\n",
      "After OverSampling, the shape of train_y: (34594,) \n",
      "\n",
      "After OverSampling, counts of label '1': 17297\n",
      "After OverSampling, counts of label '0': 17297\n",
      "bucket :  (4, 6)\n",
      "After OverSampling, the shape of train_X: (23472, 19)\n",
      "After OverSampling, the shape of train_y: (23472,) \n",
      "\n",
      "After OverSampling, counts of label '1': 11736\n",
      "After OverSampling, counts of label '0': 11736\n",
      "bucket :  (6, 8)\n",
      "bucket :  (8, 10)\n",
      "bucket :  (10, 11)\n",
      "bucket :  (11, 12)\n",
      "bucket :  (12, 13)\n",
      "bucket :  (13, 14)\n",
      "bucket :  (14, 15)\n",
      "bucket :  (15, 16)\n",
      "bucket :  (16, 17)\n",
      "bucket :  (17, 18)\n",
      "bucket :  (18, 19)\n",
      "bucket :  (19, 20)\n",
      "bucket :  (20, 21)\n",
      "bucket :  (21, 22)\n",
      "bucket :  (22, 23)\n",
      "bucket :  (23, 24)\n",
      "bucket :  (24, 25)\n",
      "bucket :  (25, 26)\n",
      "bucket :  (26, 27)\n",
      "bucket :  (27, 28)\n",
      "bucket :  (28, 29)\n",
      "bucket :  (29, 30)\n",
      "bucket :  (30, 31)\n",
      "bucket :  (31, 32)\n",
      "bucket :  (32, 33)\n",
      "bucket :  (33, 34)\n",
      "bucket :  (34, 35)\n",
      "bucket :  (35, 36)\n",
      "bucket :  (36, 37)\n",
      "bucket :  (37, 38)\n",
      "bucket :  (38, 39)\n",
      "bucket :  (39, 40)\n",
      "bucket :  (40, 41)\n"
     ]
    },
    {
     "name": "stderr",
     "output_type": "stream",
     "text": [
      " 80%|████████  | 16/20 [48:13<11:43, 175.86s/it]"
     ]
    },
    {
     "name": "stdout",
     "output_type": "stream",
     "text": [
      "{'bucketing': 20, 'encoding': 'index', 'drop_act': 2, 'Xgboost': {'max_depth': 4, 'n_estimators': 185, 'learning_rate': 0.1}}\n",
      "bucket :  (2, 4)\n",
      "After OverSampling, the shape of train_X: (34594, 12)\n",
      "After OverSampling, the shape of train_y: (34594,) \n",
      "\n",
      "After OverSampling, counts of label '1': 17297\n",
      "After OverSampling, counts of label '0': 17297\n",
      "bucket :  (4, 6)\n",
      "After OverSampling, the shape of train_X: (23634, 24)\n",
      "After OverSampling, the shape of train_y: (23634,) \n",
      "\n",
      "After OverSampling, counts of label '1': 11817\n",
      "After OverSampling, counts of label '0': 11817\n",
      "bucket :  (6, 8)\n",
      "bucket :  (8, 10)\n",
      "bucket :  (10, 12)\n",
      "bucket :  (12, 14)\n",
      "bucket :  (14, 16)\n",
      "bucket :  (16, 18)\n",
      "bucket :  (18, 20)\n",
      "bucket :  (20, 22)\n",
      "bucket :  (22, 24)\n",
      "bucket :  (24, 26)\n",
      "bucket :  (26, 28)\n",
      "bucket :  (28, 30)\n",
      "bucket :  (30, 32)\n",
      "bucket :  (32, 34)\n",
      "bucket :  (34, 36)\n",
      "bucket :  (36, 38)\n",
      "bucket :  (38, 40)\n",
      "bucket :  (40, 41)\n"
     ]
    },
    {
     "name": "stderr",
     "output_type": "stream",
     "text": [
      " 85%|████████▌ | 17/20 [50:55<08:34, 171.56s/it]"
     ]
    },
    {
     "name": "stdout",
     "output_type": "stream",
     "text": [
      "{'bucketing': 6, 'encoding': 'index', 'drop_act': 8, 'Xgboost': {'max_depth': 11, 'n_estimators': 910, 'learning_rate': 0.01}}\n",
      "bucket :  (2, 9)\n",
      "After OverSampling, the shape of train_X: (89050, 52)\n",
      "After OverSampling, the shape of train_y: (89050,) \n",
      "\n",
      "After OverSampling, counts of label '1': 44525\n",
      "After OverSampling, counts of label '0': 44525\n",
      "bucket :  (9, 16)\n",
      "bucket :  (16, 23)\n",
      "bucket :  (23, 29)\n",
      "bucket :  (29, 35)\n",
      "bucket :  (35, 41)\n"
     ]
    },
    {
     "name": "stderr",
     "output_type": "stream",
     "text": [
      " 90%|█████████ | 18/20 [58:04<08:18, 249.12s/it]"
     ]
    },
    {
     "name": "stdout",
     "output_type": "stream",
     "text": [
      "{'bucketing': 22, 'encoding': 'aggregate', 'drop_act': 4, 'Xgboost': {'max_depth': 14, 'n_estimators': 128, 'learning_rate': 0.05}}\n",
      "bucket :  (2, 4)\n",
      "After OverSampling, the shape of train_X: (34594, 8)\n",
      "After OverSampling, the shape of train_y: (34594,) \n",
      "\n",
      "After OverSampling, counts of label '1': 17297\n",
      "After OverSampling, counts of label '0': 17297\n",
      "bucket :  (4, 6)\n",
      "After OverSampling, the shape of train_X: (23472, 13)\n",
      "After OverSampling, the shape of train_y: (23472,) \n",
      "\n",
      "After OverSampling, counts of label '1': 11736\n",
      "After OverSampling, counts of label '0': 11736\n",
      "bucket :  (6, 8)\n",
      "bucket :  (8, 10)\n",
      "bucket :  (10, 12)\n",
      "bucket :  (12, 14)\n",
      "bucket :  (14, 16)\n",
      "bucket :  (16, 18)\n",
      "bucket :  (18, 20)\n",
      "bucket :  (20, 22)\n",
      "bucket :  (22, 24)\n",
      "bucket :  (24, 26)\n",
      "bucket :  (26, 28)\n",
      "bucket :  (28, 30)\n",
      "bucket :  (30, 32)\n",
      "bucket :  (32, 34)\n",
      "bucket :  (34, 36)\n",
      "bucket :  (36, 37)\n",
      "bucket :  (37, 38)\n",
      "bucket :  (38, 39)\n",
      "bucket :  (39, 40)\n",
      "bucket :  (40, 41)\n"
     ]
    },
    {
     "name": "stderr",
     "output_type": "stream",
     "text": [
      " 95%|█████████▌| 19/20 [1:01:11<03:50, 230.46s/it]"
     ]
    },
    {
     "name": "stdout",
     "output_type": "stream",
     "text": [
      "{'bucketing': 1, 'encoding': 'index', 'drop_act': 6, 'Xgboost': {'max_depth': 4, 'n_estimators': 731, 'learning_rate': 0.05}}\n",
      "bucket :  (2, 40)\n"
     ]
    },
    {
     "name": "stderr",
     "output_type": "stream",
     "text": [
      "100%|██████████| 20/20 [1:07:53<00:00, 203.70s/it]\n",
      "  0%|          | 0/20 [00:00<?, ?it/s]"
     ]
    },
    {
     "name": "stdout",
     "output_type": "stream",
     "text": [
      "{'bucketing': 21, 'encoding': 'aggregate', 'drop_act': 6, 'LightGBM': {'max_depth': 4, 'num_leaves': 87, 'min_child_samples': 9}}\n",
      "bucket :  (2, 4)\n",
      "After OverSampling, the shape of train_X: (34594, 8)\n",
      "After OverSampling, the shape of train_y: (34594,) \n",
      "\n",
      "After OverSampling, counts of label '1': 17297\n",
      "After OverSampling, counts of label '0': 17297\n",
      "bucket :  (4, 6)\n",
      "After OverSampling, the shape of train_X: (23472, 13)\n",
      "After OverSampling, the shape of train_y: (23472,) \n",
      "\n",
      "After OverSampling, counts of label '1': 11736\n",
      "After OverSampling, counts of label '0': 11736\n",
      "bucket :  (6, 8)\n",
      "bucket :  (8, 10)\n",
      "bucket :  (10, 12)\n",
      "bucket :  (12, 14)\n",
      "bucket :  (14, 16)\n",
      "bucket :  (16, 18)\n",
      "bucket :  (18, 20)\n",
      "bucket :  (20, 22)\n",
      "bucket :  (22, 24)\n",
      "bucket :  (24, 26)\n",
      "bucket :  (26, 28)\n",
      "bucket :  (28, 30)\n",
      "bucket :  (30, 32)\n",
      "bucket :  (32, 34)\n",
      "bucket :  (34, 36)\n",
      "bucket :  (36, 38)\n",
      "bucket :  (38, 39)\n",
      "bucket :  (39, 40)\n",
      "bucket :  (40, 41)\n"
     ]
    },
    {
     "name": "stderr",
     "output_type": "stream",
     "text": [
      "  5%|▌         | 1/20 [02:52<54:46, 172.95s/it]"
     ]
    },
    {
     "name": "stdout",
     "output_type": "stream",
     "text": [
      "{'bucketing': 15, 'encoding': 'aggregate', 'drop_act': 6, 'Random Forest': {'n_estimators': 634, 'max_depth': 5, 'max_features': 'log2', 'bootstrap': True, 'criterion': 'entropy'}}\n",
      "bucket :  (2, 5)\n",
      "After OverSampling, the shape of train_X: (46950, 10)\n",
      "After OverSampling, the shape of train_y: (46950,) \n",
      "\n",
      "After OverSampling, counts of label '1': 23475\n",
      "After OverSampling, counts of label '0': 23475\n",
      "bucket :  (5, 8)\n",
      "After OverSampling, the shape of train_X: (32620, 17)\n",
      "After OverSampling, the shape of train_y: (32620,) \n",
      "\n",
      "After OverSampling, counts of label '1': 16310\n",
      "After OverSampling, counts of label '0': 16310\n",
      "bucket :  (8, 11)\n",
      "bucket :  (11, 14)\n",
      "bucket :  (14, 17)\n",
      "bucket :  (17, 20)\n",
      "bucket :  (20, 23)\n",
      "bucket :  (23, 26)\n",
      "bucket :  (26, 29)\n",
      "bucket :  (29, 31)\n",
      "bucket :  (31, 33)\n",
      "bucket :  (33, 35)\n",
      "bucket :  (35, 37)\n",
      "bucket :  (37, 39)\n",
      "bucket :  (39, 41)\n"
     ]
    },
    {
     "name": "stderr",
     "output_type": "stream",
     "text": [
      " 10%|█         | 2/20 [06:31<1:00:00, 200.05s/it]"
     ]
    },
    {
     "name": "stdout",
     "output_type": "stream",
     "text": [
      "{'bucketing': 28, 'encoding': 'index', 'drop_act': 2, 'Decision Tree': {'max_depth': 4, 'min_samples_leaf': 86, 'criterion': 'gini'}}\n",
      "bucket :  (2, 4)\n",
      "After OverSampling, the shape of train_X: (34594, 12)\n",
      "After OverSampling, the shape of train_y: (34594,) \n",
      "\n",
      "After OverSampling, counts of label '1': 17297\n",
      "After OverSampling, counts of label '0': 17297\n",
      "bucket :  (4, 6)\n",
      "After OverSampling, the shape of train_X: (23634, 24)\n",
      "After OverSampling, the shape of train_y: (23634,) \n",
      "\n",
      "After OverSampling, counts of label '1': 11817\n",
      "After OverSampling, counts of label '0': 11817\n",
      "bucket :  (6, 8)\n",
      "bucket :  (8, 10)\n",
      "bucket :  (10, 12)\n",
      "bucket :  (12, 14)\n",
      "bucket :  (14, 16)\n",
      "bucket :  (16, 18)\n",
      "bucket :  (18, 20)\n",
      "bucket :  (20, 22)\n",
      "bucket :  (22, 24)\n",
      "bucket :  (24, 25)\n",
      "bucket :  (25, 26)\n",
      "bucket :  (26, 27)\n",
      "bucket :  (27, 28)\n",
      "bucket :  (28, 29)\n",
      "bucket :  (29, 30)\n",
      "bucket :  (30, 31)\n",
      "bucket :  (31, 32)\n",
      "bucket :  (32, 33)\n",
      "bucket :  (33, 34)\n",
      "bucket :  (34, 35)\n",
      "bucket :  (35, 36)\n",
      "bucket :  (36, 37)\n",
      "bucket :  (37, 38)\n",
      "bucket :  (38, 39)\n",
      "bucket :  (39, 40)\n",
      "bucket :  (40, 41)\n"
     ]
    },
    {
     "name": "stderr",
     "output_type": "stream",
     "text": [
      " 15%|█▌        | 3/20 [08:44<47:59, 169.36s/it]  "
     ]
    },
    {
     "name": "stdout",
     "output_type": "stream",
     "text": [
      "{'bucketing': 35, 'encoding': 'index', 'drop_act': 8, 'Xgboost': {'max_depth': 11, 'n_estimators': 910, 'learning_rate': 0.01}}\n",
      "bucket :  (2, 4)\n",
      "After OverSampling, the shape of train_X: (34594, 11)\n",
      "After OverSampling, the shape of train_y: (34594,) \n",
      "\n",
      "After OverSampling, counts of label '1': 17297\n",
      "After OverSampling, counts of label '0': 17297\n",
      "bucket :  (4, 6)\n",
      "After OverSampling, the shape of train_X: (23472, 19)\n",
      "After OverSampling, the shape of train_y: (23472,) \n",
      "\n",
      "After OverSampling, counts of label '1': 11736\n",
      "After OverSampling, counts of label '0': 11736\n",
      "bucket :  (6, 8)\n",
      "bucket :  (8, 10)\n",
      "bucket :  (10, 11)\n",
      "bucket :  (11, 12)\n",
      "bucket :  (12, 13)\n",
      "bucket :  (13, 14)\n",
      "bucket :  (14, 15)\n",
      "bucket :  (15, 16)\n",
      "bucket :  (16, 17)\n",
      "bucket :  (17, 18)\n",
      "bucket :  (18, 19)\n",
      "bucket :  (19, 20)\n",
      "bucket :  (20, 21)\n",
      "bucket :  (21, 22)\n",
      "bucket :  (22, 23)\n",
      "bucket :  (23, 24)\n",
      "bucket :  (24, 25)\n",
      "bucket :  (25, 26)\n",
      "bucket :  (26, 27)\n",
      "bucket :  (27, 28)\n",
      "bucket :  (28, 29)\n",
      "bucket :  (29, 30)\n",
      "bucket :  (30, 31)\n",
      "bucket :  (31, 32)\n",
      "bucket :  (32, 33)\n",
      "bucket :  (33, 34)\n",
      "bucket :  (34, 35)\n",
      "bucket :  (35, 36)\n",
      "bucket :  (36, 37)\n",
      "bucket :  (37, 38)\n",
      "bucket :  (38, 39)\n",
      "bucket :  (39, 40)\n",
      "bucket :  (40, 41)\n"
     ]
    },
    {
     "name": "stderr",
     "output_type": "stream",
     "text": [
      " 20%|██        | 4/20 [15:45<1:11:34, 268.42s/it]"
     ]
    },
    {
     "name": "stdout",
     "output_type": "stream",
     "text": [
      "{'bucketing': 6, 'encoding': 'index', 'drop_act': 8, 'Xgboost': {'max_depth': 11, 'n_estimators': 910, 'learning_rate': 0.01}}\n",
      "bucket :  (2, 9)\n",
      "After OverSampling, the shape of train_X: (89050, 52)\n",
      "After OverSampling, the shape of train_y: (89050,) \n",
      "\n",
      "After OverSampling, counts of label '1': 44525\n",
      "After OverSampling, counts of label '0': 44525\n",
      "bucket :  (9, 16)\n",
      "bucket :  (16, 23)\n",
      "bucket :  (23, 29)\n",
      "bucket :  (29, 35)\n",
      "bucket :  (35, 41)\n"
     ]
    },
    {
     "name": "stderr",
     "output_type": "stream",
     "text": [
      " 25%|██▌       | 5/20 [22:58<1:22:00, 328.03s/it]"
     ]
    },
    {
     "name": "stdout",
     "output_type": "stream",
     "text": [
      "{'bucketing': 15, 'encoding': 'aggregate', 'drop_act': 6, 'Random Forest': {'n_estimators': 634, 'max_depth': 5, 'max_features': 'log2', 'bootstrap': True, 'criterion': 'entropy'}}\n",
      "bucket :  (2, 5)\n",
      "After OverSampling, the shape of train_X: (46950, 10)\n",
      "After OverSampling, the shape of train_y: (46950,) \n",
      "\n",
      "After OverSampling, counts of label '1': 23475\n",
      "After OverSampling, counts of label '0': 23475\n",
      "bucket :  (5, 8)\n",
      "After OverSampling, the shape of train_X: (32620, 17)\n",
      "After OverSampling, the shape of train_y: (32620,) \n",
      "\n",
      "After OverSampling, counts of label '1': 16310\n",
      "After OverSampling, counts of label '0': 16310\n",
      "bucket :  (8, 11)\n",
      "bucket :  (11, 14)\n",
      "bucket :  (14, 17)\n",
      "bucket :  (17, 20)\n",
      "bucket :  (20, 23)\n",
      "bucket :  (23, 26)\n",
      "bucket :  (26, 29)\n",
      "bucket :  (29, 31)\n",
      "bucket :  (31, 33)\n",
      "bucket :  (33, 35)\n",
      "bucket :  (35, 37)\n",
      "bucket :  (37, 39)\n",
      "bucket :  (39, 41)\n"
     ]
    },
    {
     "name": "stderr",
     "output_type": "stream",
     "text": [
      " 30%|███       | 6/20 [26:37<1:07:51, 290.80s/it]"
     ]
    },
    {
     "name": "stdout",
     "output_type": "stream",
     "text": [
      "{'bucketing': 28, 'encoding': 'aggregate', 'drop_act': 8, 'Decision Tree': {'max_depth': 7, 'min_samples_leaf': 47, 'criterion': 'gini'}}\n",
      "bucket :  (2, 4)\n",
      "After OverSampling, the shape of train_X: (34594, 8)\n",
      "After OverSampling, the shape of train_y: (34594,) \n",
      "\n",
      "After OverSampling, counts of label '1': 17297\n",
      "After OverSampling, counts of label '0': 17297\n",
      "bucket :  (4, 6)\n",
      "After OverSampling, the shape of train_X: (23472, 13)\n",
      "After OverSampling, the shape of train_y: (23472,) \n",
      "\n",
      "After OverSampling, counts of label '1': 11736\n",
      "After OverSampling, counts of label '0': 11736\n",
      "bucket :  (6, 8)\n",
      "bucket :  (8, 10)\n",
      "bucket :  (10, 12)\n",
      "bucket :  (12, 14)\n",
      "bucket :  (14, 16)\n",
      "bucket :  (16, 18)\n",
      "bucket :  (18, 20)\n",
      "bucket :  (20, 22)\n",
      "bucket :  (22, 24)\n",
      "bucket :  (24, 25)\n",
      "bucket :  (25, 26)\n",
      "bucket :  (26, 27)\n",
      "bucket :  (27, 28)\n",
      "bucket :  (28, 29)\n",
      "bucket :  (29, 30)\n",
      "bucket :  (30, 31)\n",
      "bucket :  (31, 32)\n",
      "bucket :  (32, 33)\n",
      "bucket :  (33, 34)\n",
      "bucket :  (34, 35)\n",
      "bucket :  (35, 36)\n",
      "bucket :  (36, 37)\n",
      "bucket :  (37, 38)\n",
      "bucket :  (38, 39)\n",
      "bucket :  (39, 40)\n",
      "bucket :  (40, 41)\n"
     ]
    },
    {
     "name": "stderr",
     "output_type": "stream",
     "text": [
      " 35%|███▌      | 7/20 [29:24<54:16, 250.49s/it]  "
     ]
    },
    {
     "name": "stdout",
     "output_type": "stream",
     "text": [
      "{'bucketing': 8, 'encoding': 'aggregate', 'drop_act': 4, 'Random Forest': {'n_estimators': 469, 'max_depth': 13, 'max_features': 'auto', 'bootstrap': False, 'criterion': 'entropy'}}\n",
      "bucket :  (2, 7)\n",
      "After OverSampling, the shape of train_X: (70588, 15)\n",
      "After OverSampling, the shape of train_y: (70588,) \n",
      "\n",
      "After OverSampling, counts of label '1': 35294\n",
      "After OverSampling, counts of label '0': 35294\n"
     ]
    },
    {
     "name": "stderr",
     "output_type": "stream",
     "text": [
      "C:\\Users\\yeon1\\AppData\\Local\\Packages\\PythonSoftwareFoundation.Python.3.10_qbz5n2kfra8p0\\LocalCache\\local-packages\\Python310\\site-packages\\sklearn\\ensemble\\_forest.py:427: FutureWarning: `max_features='auto'` has been deprecated in 1.1 and will be removed in 1.3. To keep the past behaviour, explicitly set `max_features='sqrt'` or remove this parameter as it is also the default value for RandomForestClassifiers and ExtraTreesClassifiers.\n",
      "  warn(\n"
     ]
    },
    {
     "name": "stdout",
     "output_type": "stream",
     "text": [
      "bucket :  (7, 12)\n"
     ]
    },
    {
     "name": "stderr",
     "output_type": "stream",
     "text": [
      "C:\\Users\\yeon1\\AppData\\Local\\Packages\\PythonSoftwareFoundation.Python.3.10_qbz5n2kfra8p0\\LocalCache\\local-packages\\Python310\\site-packages\\sklearn\\ensemble\\_forest.py:427: FutureWarning: `max_features='auto'` has been deprecated in 1.1 and will be removed in 1.3. To keep the past behaviour, explicitly set `max_features='sqrt'` or remove this parameter as it is also the default value for RandomForestClassifiers and ExtraTreesClassifiers.\n",
      "  warn(\n"
     ]
    },
    {
     "name": "stdout",
     "output_type": "stream",
     "text": [
      "bucket :  (12, 17)\n"
     ]
    },
    {
     "name": "stderr",
     "output_type": "stream",
     "text": [
      "C:\\Users\\yeon1\\AppData\\Local\\Packages\\PythonSoftwareFoundation.Python.3.10_qbz5n2kfra8p0\\LocalCache\\local-packages\\Python310\\site-packages\\sklearn\\ensemble\\_forest.py:427: FutureWarning: `max_features='auto'` has been deprecated in 1.1 and will be removed in 1.3. To keep the past behaviour, explicitly set `max_features='sqrt'` or remove this parameter as it is also the default value for RandomForestClassifiers and ExtraTreesClassifiers.\n",
      "  warn(\n"
     ]
    },
    {
     "name": "stdout",
     "output_type": "stream",
     "text": [
      "bucket :  (17, 22)\n"
     ]
    },
    {
     "name": "stderr",
     "output_type": "stream",
     "text": [
      "C:\\Users\\yeon1\\AppData\\Local\\Packages\\PythonSoftwareFoundation.Python.3.10_qbz5n2kfra8p0\\LocalCache\\local-packages\\Python310\\site-packages\\sklearn\\ensemble\\_forest.py:427: FutureWarning: `max_features='auto'` has been deprecated in 1.1 and will be removed in 1.3. To keep the past behaviour, explicitly set `max_features='sqrt'` or remove this parameter as it is also the default value for RandomForestClassifiers and ExtraTreesClassifiers.\n",
      "  warn(\n"
     ]
    },
    {
     "name": "stdout",
     "output_type": "stream",
     "text": [
      "bucket :  (22, 27)\n"
     ]
    },
    {
     "name": "stderr",
     "output_type": "stream",
     "text": [
      "C:\\Users\\yeon1\\AppData\\Local\\Packages\\PythonSoftwareFoundation.Python.3.10_qbz5n2kfra8p0\\LocalCache\\local-packages\\Python310\\site-packages\\sklearn\\ensemble\\_forest.py:427: FutureWarning: `max_features='auto'` has been deprecated in 1.1 and will be removed in 1.3. To keep the past behaviour, explicitly set `max_features='sqrt'` or remove this parameter as it is also the default value for RandomForestClassifiers and ExtraTreesClassifiers.\n",
      "  warn(\n"
     ]
    },
    {
     "name": "stdout",
     "output_type": "stream",
     "text": [
      "bucket :  (27, 32)\n"
     ]
    },
    {
     "name": "stderr",
     "output_type": "stream",
     "text": [
      "C:\\Users\\yeon1\\AppData\\Local\\Packages\\PythonSoftwareFoundation.Python.3.10_qbz5n2kfra8p0\\LocalCache\\local-packages\\Python310\\site-packages\\sklearn\\ensemble\\_forest.py:427: FutureWarning: `max_features='auto'` has been deprecated in 1.1 and will be removed in 1.3. To keep the past behaviour, explicitly set `max_features='sqrt'` or remove this parameter as it is also the default value for RandomForestClassifiers and ExtraTreesClassifiers.\n",
      "  warn(\n"
     ]
    },
    {
     "name": "stdout",
     "output_type": "stream",
     "text": [
      "bucket :  (32, 37)\n"
     ]
    },
    {
     "name": "stderr",
     "output_type": "stream",
     "text": [
      "C:\\Users\\yeon1\\AppData\\Local\\Packages\\PythonSoftwareFoundation.Python.3.10_qbz5n2kfra8p0\\LocalCache\\local-packages\\Python310\\site-packages\\sklearn\\ensemble\\_forest.py:427: FutureWarning: `max_features='auto'` has been deprecated in 1.1 and will be removed in 1.3. To keep the past behaviour, explicitly set `max_features='sqrt'` or remove this parameter as it is also the default value for RandomForestClassifiers and ExtraTreesClassifiers.\n",
      "  warn(\n"
     ]
    },
    {
     "name": "stdout",
     "output_type": "stream",
     "text": [
      "bucket :  (37, 41)\n"
     ]
    },
    {
     "name": "stderr",
     "output_type": "stream",
     "text": [
      "C:\\Users\\yeon1\\AppData\\Local\\Packages\\PythonSoftwareFoundation.Python.3.10_qbz5n2kfra8p0\\LocalCache\\local-packages\\Python310\\site-packages\\sklearn\\ensemble\\_forest.py:427: FutureWarning: `max_features='auto'` has been deprecated in 1.1 and will be removed in 1.3. To keep the past behaviour, explicitly set `max_features='sqrt'` or remove this parameter as it is also the default value for RandomForestClassifiers and ExtraTreesClassifiers.\n",
      "  warn(\n",
      " 40%|████      | 8/20 [33:35<50:07, 250.62s/it]"
     ]
    },
    {
     "name": "stdout",
     "output_type": "stream",
     "text": [
      "{'bucketing': 20, 'encoding': 'index', 'drop_act': 8, 'Xgboost': {'max_depth': 11, 'n_estimators': 910, 'learning_rate': 0.01}}\n",
      "bucket :  (2, 4)\n",
      "After OverSampling, the shape of train_X: (34594, 11)\n",
      "After OverSampling, the shape of train_y: (34594,) \n",
      "\n",
      "After OverSampling, counts of label '1': 17297\n",
      "After OverSampling, counts of label '0': 17297\n",
      "bucket :  (4, 6)\n",
      "After OverSampling, the shape of train_X: (23472, 19)\n",
      "After OverSampling, the shape of train_y: (23472,) \n",
      "\n",
      "After OverSampling, counts of label '1': 11736\n",
      "After OverSampling, counts of label '0': 11736\n",
      "bucket :  (6, 8)\n",
      "bucket :  (8, 10)\n",
      "bucket :  (10, 12)\n",
      "bucket :  (12, 14)\n",
      "bucket :  (14, 16)\n",
      "bucket :  (16, 18)\n",
      "bucket :  (18, 20)\n",
      "bucket :  (20, 22)\n",
      "bucket :  (22, 24)\n",
      "bucket :  (24, 26)\n",
      "bucket :  (26, 28)\n",
      "bucket :  (28, 30)\n",
      "bucket :  (30, 32)\n",
      "bucket :  (32, 34)\n",
      "bucket :  (34, 36)\n",
      "bucket :  (36, 38)\n",
      "bucket :  (38, 40)\n",
      "bucket :  (40, 41)\n"
     ]
    },
    {
     "name": "stderr",
     "output_type": "stream",
     "text": [
      " 45%|████▌     | 9/20 [40:16<54:34, 297.66s/it]"
     ]
    },
    {
     "name": "stdout",
     "output_type": "stream",
     "text": [
      "{'bucketing': 31, 'encoding': 'aggregate', 'drop_act': 2, 'Decision Tree': {'max_depth': 12, 'min_samples_leaf': 64, 'criterion': 'gini'}}\n",
      "bucket :  (2, 4)\n",
      "After OverSampling, the shape of train_X: (34594, 9)\n",
      "After OverSampling, the shape of train_y: (34594,) \n",
      "\n",
      "After OverSampling, counts of label '1': 17297\n",
      "After OverSampling, counts of label '0': 17297\n",
      "bucket :  (4, 6)\n",
      "After OverSampling, the shape of train_X: (23634, 15)\n",
      "After OverSampling, the shape of train_y: (23634,) \n",
      "\n",
      "After OverSampling, counts of label '1': 11817\n",
      "After OverSampling, counts of label '0': 11817\n",
      "bucket :  (6, 8)\n",
      "bucket :  (8, 10)\n",
      "bucket :  (10, 12)\n",
      "bucket :  (12, 14)\n",
      "bucket :  (14, 16)\n",
      "bucket :  (16, 18)\n",
      "bucket :  (18, 19)\n",
      "bucket :  (19, 20)\n",
      "bucket :  (20, 21)\n",
      "bucket :  (21, 22)\n",
      "bucket :  (22, 23)\n",
      "bucket :  (23, 24)\n",
      "bucket :  (24, 25)\n",
      "bucket :  (25, 26)\n",
      "bucket :  (26, 27)\n",
      "bucket :  (27, 28)\n",
      "bucket :  (28, 29)\n",
      "bucket :  (29, 30)\n",
      "bucket :  (30, 31)\n",
      "bucket :  (31, 32)\n",
      "bucket :  (32, 33)\n",
      "bucket :  (33, 34)\n",
      "bucket :  (34, 35)\n",
      "bucket :  (35, 36)\n",
      "bucket :  (36, 37)\n",
      "bucket :  (37, 38)\n",
      "bucket :  (38, 39)\n",
      "bucket :  (39, 40)\n",
      "bucket :  (40, 41)\n"
     ]
    },
    {
     "name": "stderr",
     "output_type": "stream",
     "text": [
      " 50%|█████     | 10/20 [43:08<43:09, 258.90s/it]"
     ]
    },
    {
     "name": "stdout",
     "output_type": "stream",
     "text": [
      "{'bucketing': 2, 'encoding': 'index', 'drop_act': 8, 'LightGBM': {'max_depth': 14, 'num_leaves': 304, 'min_child_samples': 3}}\n",
      "bucket :  (2, 22)\n",
      "bucket :  (22, 41)\n"
     ]
    },
    {
     "name": "stderr",
     "output_type": "stream",
     "text": [
      " 55%|█████▌    | 11/20 [45:22<33:04, 220.54s/it]"
     ]
    },
    {
     "name": "stdout",
     "output_type": "stream",
     "text": [
      "{'bucketing': 21, 'encoding': 'aggregate', 'drop_act': 6, 'LightGBM': {'max_depth': 4, 'num_leaves': 87, 'min_child_samples': 9}}\n",
      "bucket :  (2, 4)\n",
      "After OverSampling, the shape of train_X: (34594, 8)\n",
      "After OverSampling, the shape of train_y: (34594,) \n",
      "\n",
      "After OverSampling, counts of label '1': 17297\n",
      "After OverSampling, counts of label '0': 17297\n",
      "bucket :  (4, 6)\n",
      "After OverSampling, the shape of train_X: (23472, 13)\n",
      "After OverSampling, the shape of train_y: (23472,) \n",
      "\n",
      "After OverSampling, counts of label '1': 11736\n",
      "After OverSampling, counts of label '0': 11736\n",
      "bucket :  (6, 8)\n",
      "bucket :  (8, 10)\n",
      "bucket :  (10, 12)\n",
      "bucket :  (12, 14)\n",
      "bucket :  (14, 16)\n",
      "bucket :  (16, 18)\n",
      "bucket :  (18, 20)\n",
      "bucket :  (20, 22)\n",
      "bucket :  (22, 24)\n",
      "bucket :  (24, 26)\n",
      "bucket :  (26, 28)\n",
      "bucket :  (28, 30)\n",
      "bucket :  (30, 32)\n",
      "bucket :  (32, 34)\n",
      "bucket :  (34, 36)\n",
      "bucket :  (36, 38)\n",
      "bucket :  (38, 39)\n",
      "bucket :  (39, 40)\n",
      "bucket :  (40, 41)\n"
     ]
    },
    {
     "name": "stderr",
     "output_type": "stream",
     "text": [
      " 60%|██████    | 12/20 [48:14<27:25, 205.74s/it]"
     ]
    },
    {
     "name": "stdout",
     "output_type": "stream",
     "text": [
      "{'bucketing': 21, 'encoding': 'aggregate', 'drop_act': 2, 'Decision Tree': {'max_depth': 12, 'min_samples_leaf': 64, 'criterion': 'gini'}}\n",
      "bucket :  (2, 4)\n",
      "After OverSampling, the shape of train_X: (34594, 9)\n",
      "After OverSampling, the shape of train_y: (34594,) \n",
      "\n",
      "After OverSampling, counts of label '1': 17297\n",
      "After OverSampling, counts of label '0': 17297\n",
      "bucket :  (4, 6)\n",
      "After OverSampling, the shape of train_X: (23634, 15)\n",
      "After OverSampling, the shape of train_y: (23634,) \n",
      "\n",
      "After OverSampling, counts of label '1': 11817\n",
      "After OverSampling, counts of label '0': 11817\n",
      "bucket :  (6, 8)\n",
      "bucket :  (8, 10)\n",
      "bucket :  (10, 12)\n",
      "bucket :  (12, 14)\n",
      "bucket :  (14, 16)\n",
      "bucket :  (16, 18)\n",
      "bucket :  (18, 20)\n",
      "bucket :  (20, 22)\n",
      "bucket :  (22, 24)\n",
      "bucket :  (24, 26)\n",
      "bucket :  (26, 28)\n",
      "bucket :  (28, 30)\n",
      "bucket :  (30, 32)\n",
      "bucket :  (32, 34)\n",
      "bucket :  (34, 36)\n",
      "bucket :  (36, 38)\n",
      "bucket :  (38, 39)\n",
      "bucket :  (39, 40)\n",
      "bucket :  (40, 41)\n"
     ]
    },
    {
     "name": "stderr",
     "output_type": "stream",
     "text": [
      " 65%|██████▌   | 13/20 [51:06<22:48, 195.52s/it]"
     ]
    },
    {
     "name": "stdout",
     "output_type": "stream",
     "text": [
      "{'bucketing': 6, 'encoding': 'aggregate', 'drop_act': 8, 'Random Forest': {'n_estimators': 635, 'max_depth': 5, 'max_features': 'log2', 'bootstrap': True, 'criterion': 'gini'}}\n",
      "bucket :  (2, 9)\n",
      "After OverSampling, the shape of train_X: (89050, 17)\n",
      "After OverSampling, the shape of train_y: (89050,) \n",
      "\n",
      "After OverSampling, counts of label '1': 44525\n",
      "After OverSampling, counts of label '0': 44525\n",
      "bucket :  (9, 16)\n",
      "bucket :  (16, 23)\n",
      "bucket :  (23, 29)\n",
      "bucket :  (29, 35)\n",
      "bucket :  (35, 41)\n"
     ]
    },
    {
     "name": "stderr",
     "output_type": "stream",
     "text": [
      " 70%|███████   | 14/20 [54:31<19:50, 198.39s/it]"
     ]
    },
    {
     "name": "stdout",
     "output_type": "stream",
     "text": [
      "{'bucketing': 26, 'encoding': 'index', 'drop_act': 8, 'Decision Tree': {'max_depth': 12, 'min_samples_leaf': 46, 'criterion': 'entropy'}}\n",
      "bucket :  (2, 4)\n",
      "After OverSampling, the shape of train_X: (34594, 11)\n",
      "After OverSampling, the shape of train_y: (34594,) \n",
      "\n",
      "After OverSampling, counts of label '1': 17297\n",
      "After OverSampling, counts of label '0': 17297\n",
      "bucket :  (4, 6)\n",
      "After OverSampling, the shape of train_X: (23472, 19)\n",
      "After OverSampling, the shape of train_y: (23472,) \n",
      "\n",
      "After OverSampling, counts of label '1': 11736\n",
      "After OverSampling, counts of label '0': 11736\n",
      "bucket :  (6, 8)\n",
      "bucket :  (8, 10)\n",
      "bucket :  (10, 12)\n",
      "bucket :  (12, 14)\n",
      "bucket :  (14, 16)\n",
      "bucket :  (16, 18)\n",
      "bucket :  (18, 20)\n",
      "bucket :  (20, 22)\n",
      "bucket :  (22, 24)\n",
      "bucket :  (24, 26)\n",
      "bucket :  (26, 28)\n",
      "bucket :  (28, 29)\n",
      "bucket :  (29, 30)\n",
      "bucket :  (30, 31)\n",
      "bucket :  (31, 32)\n",
      "bucket :  (32, 33)\n",
      "bucket :  (33, 34)\n",
      "bucket :  (34, 35)\n",
      "bucket :  (35, 36)\n",
      "bucket :  (36, 37)\n",
      "bucket :  (37, 38)\n",
      "bucket :  (38, 39)\n",
      "bucket :  (39, 40)\n",
      "bucket :  (40, 41)\n"
     ]
    },
    {
     "name": "stderr",
     "output_type": "stream",
     "text": [
      " 75%|███████▌  | 15/20 [56:42<14:51, 178.22s/it]"
     ]
    },
    {
     "name": "stdout",
     "output_type": "stream",
     "text": [
      "{'bucketing': 28, 'encoding': 'index', 'drop_act': 8, 'LightGBM': {'max_depth': 10, 'num_leaves': 325, 'min_child_samples': 5}}\n",
      "bucket :  (2, 4)\n",
      "After OverSampling, the shape of train_X: (34594, 11)\n",
      "After OverSampling, the shape of train_y: (34594,) \n",
      "\n",
      "After OverSampling, counts of label '1': 17297\n",
      "After OverSampling, counts of label '0': 17297\n",
      "bucket :  (4, 6)\n",
      "After OverSampling, the shape of train_X: (23472, 19)\n",
      "After OverSampling, the shape of train_y: (23472,) \n",
      "\n",
      "After OverSampling, counts of label '1': 11736\n",
      "After OverSampling, counts of label '0': 11736\n",
      "bucket :  (6, 8)\n",
      "bucket :  (8, 10)\n",
      "bucket :  (10, 12)\n",
      "bucket :  (12, 14)\n",
      "bucket :  (14, 16)\n",
      "bucket :  (16, 18)\n",
      "bucket :  (18, 20)\n",
      "bucket :  (20, 22)\n",
      "bucket :  (22, 24)\n",
      "bucket :  (24, 25)\n",
      "bucket :  (25, 26)\n",
      "bucket :  (26, 27)\n",
      "bucket :  (27, 28)\n",
      "bucket :  (28, 29)\n",
      "bucket :  (29, 30)\n",
      "bucket :  (30, 31)\n",
      "bucket :  (31, 32)\n",
      "bucket :  (32, 33)\n",
      "bucket :  (33, 34)\n",
      "bucket :  (34, 35)\n",
      "bucket :  (35, 36)\n",
      "bucket :  (36, 37)\n",
      "bucket :  (37, 38)\n",
      "bucket :  (38, 39)\n",
      "bucket :  (39, 40)\n",
      "bucket :  (40, 41)\n"
     ]
    },
    {
     "name": "stderr",
     "output_type": "stream",
     "text": [
      " 80%|████████  | 16/20 [58:58<11:02, 165.54s/it]"
     ]
    },
    {
     "name": "stdout",
     "output_type": "stream",
     "text": [
      "{'bucketing': 22, 'encoding': 'aggregate', 'drop_act': 4, 'Xgboost': {'max_depth': 14, 'n_estimators': 128, 'learning_rate': 0.05}}\n",
      "bucket :  (2, 4)\n",
      "After OverSampling, the shape of train_X: (34594, 8)\n",
      "After OverSampling, the shape of train_y: (34594,) \n",
      "\n",
      "After OverSampling, counts of label '1': 17297\n",
      "After OverSampling, counts of label '0': 17297\n",
      "bucket :  (4, 6)\n",
      "After OverSampling, the shape of train_X: (23472, 13)\n",
      "After OverSampling, the shape of train_y: (23472,) \n",
      "\n",
      "After OverSampling, counts of label '1': 11736\n",
      "After OverSampling, counts of label '0': 11736\n",
      "bucket :  (6, 8)\n",
      "bucket :  (8, 10)\n",
      "bucket :  (10, 12)\n",
      "bucket :  (12, 14)\n",
      "bucket :  (14, 16)\n",
      "bucket :  (16, 18)\n",
      "bucket :  (18, 20)\n",
      "bucket :  (20, 22)\n",
      "bucket :  (22, 24)\n",
      "bucket :  (24, 26)\n",
      "bucket :  (26, 28)\n",
      "bucket :  (28, 30)\n",
      "bucket :  (30, 32)\n",
      "bucket :  (32, 34)\n",
      "bucket :  (34, 36)\n",
      "bucket :  (36, 37)\n",
      "bucket :  (37, 38)\n",
      "bucket :  (38, 39)\n",
      "bucket :  (39, 40)\n",
      "bucket :  (40, 41)\n"
     ]
    },
    {
     "name": "stderr",
     "output_type": "stream",
     "text": [
      " 85%|████████▌ | 17/20 [1:02:07<08:37, 172.42s/it]"
     ]
    },
    {
     "name": "stdout",
     "output_type": "stream",
     "text": [
      "{'bucketing': 27, 'encoding': 'aggregate', 'drop_act': 4, 'Random Forest': {'n_estimators': 469, 'max_depth': 13, 'max_features': 'auto', 'bootstrap': False, 'criterion': 'entropy'}}\n",
      "bucket :  (2, 4)\n",
      "After OverSampling, the shape of train_X: (34594, 8)\n",
      "After OverSampling, the shape of train_y: (34594,) \n",
      "\n",
      "After OverSampling, counts of label '1': 17297\n",
      "After OverSampling, counts of label '0': 17297\n"
     ]
    },
    {
     "name": "stderr",
     "output_type": "stream",
     "text": [
      "C:\\Users\\yeon1\\AppData\\Local\\Packages\\PythonSoftwareFoundation.Python.3.10_qbz5n2kfra8p0\\LocalCache\\local-packages\\Python310\\site-packages\\sklearn\\ensemble\\_forest.py:427: FutureWarning: `max_features='auto'` has been deprecated in 1.1 and will be removed in 1.3. To keep the past behaviour, explicitly set `max_features='sqrt'` or remove this parameter as it is also the default value for RandomForestClassifiers and ExtraTreesClassifiers.\n",
      "  warn(\n"
     ]
    },
    {
     "name": "stdout",
     "output_type": "stream",
     "text": [
      "bucket :  (4, 6)\n",
      "After OverSampling, the shape of train_X: (23472, 13)\n",
      "After OverSampling, the shape of train_y: (23472,) \n",
      "\n",
      "After OverSampling, counts of label '1': 11736\n",
      "After OverSampling, counts of label '0': 11736\n"
     ]
    },
    {
     "name": "stderr",
     "output_type": "stream",
     "text": [
      "C:\\Users\\yeon1\\AppData\\Local\\Packages\\PythonSoftwareFoundation.Python.3.10_qbz5n2kfra8p0\\LocalCache\\local-packages\\Python310\\site-packages\\sklearn\\ensemble\\_forest.py:427: FutureWarning: `max_features='auto'` has been deprecated in 1.1 and will be removed in 1.3. To keep the past behaviour, explicitly set `max_features='sqrt'` or remove this parameter as it is also the default value for RandomForestClassifiers and ExtraTreesClassifiers.\n",
      "  warn(\n"
     ]
    },
    {
     "name": "stdout",
     "output_type": "stream",
     "text": [
      "bucket :  (6, 8)\n"
     ]
    },
    {
     "name": "stderr",
     "output_type": "stream",
     "text": [
      "C:\\Users\\yeon1\\AppData\\Local\\Packages\\PythonSoftwareFoundation.Python.3.10_qbz5n2kfra8p0\\LocalCache\\local-packages\\Python310\\site-packages\\sklearn\\ensemble\\_forest.py:427: FutureWarning: `max_features='auto'` has been deprecated in 1.1 and will be removed in 1.3. To keep the past behaviour, explicitly set `max_features='sqrt'` or remove this parameter as it is also the default value for RandomForestClassifiers and ExtraTreesClassifiers.\n",
      "  warn(\n"
     ]
    },
    {
     "name": "stdout",
     "output_type": "stream",
     "text": [
      "bucket :  (8, 10)\n"
     ]
    },
    {
     "name": "stderr",
     "output_type": "stream",
     "text": [
      "C:\\Users\\yeon1\\AppData\\Local\\Packages\\PythonSoftwareFoundation.Python.3.10_qbz5n2kfra8p0\\LocalCache\\local-packages\\Python310\\site-packages\\sklearn\\ensemble\\_forest.py:427: FutureWarning: `max_features='auto'` has been deprecated in 1.1 and will be removed in 1.3. To keep the past behaviour, explicitly set `max_features='sqrt'` or remove this parameter as it is also the default value for RandomForestClassifiers and ExtraTreesClassifiers.\n",
      "  warn(\n"
     ]
    },
    {
     "name": "stdout",
     "output_type": "stream",
     "text": [
      "bucket :  (10, 12)\n"
     ]
    },
    {
     "name": "stderr",
     "output_type": "stream",
     "text": [
      "C:\\Users\\yeon1\\AppData\\Local\\Packages\\PythonSoftwareFoundation.Python.3.10_qbz5n2kfra8p0\\LocalCache\\local-packages\\Python310\\site-packages\\sklearn\\ensemble\\_forest.py:427: FutureWarning: `max_features='auto'` has been deprecated in 1.1 and will be removed in 1.3. To keep the past behaviour, explicitly set `max_features='sqrt'` or remove this parameter as it is also the default value for RandomForestClassifiers and ExtraTreesClassifiers.\n",
      "  warn(\n"
     ]
    },
    {
     "name": "stdout",
     "output_type": "stream",
     "text": [
      "bucket :  (12, 14)\n"
     ]
    },
    {
     "name": "stderr",
     "output_type": "stream",
     "text": [
      "C:\\Users\\yeon1\\AppData\\Local\\Packages\\PythonSoftwareFoundation.Python.3.10_qbz5n2kfra8p0\\LocalCache\\local-packages\\Python310\\site-packages\\sklearn\\ensemble\\_forest.py:427: FutureWarning: `max_features='auto'` has been deprecated in 1.1 and will be removed in 1.3. To keep the past behaviour, explicitly set `max_features='sqrt'` or remove this parameter as it is also the default value for RandomForestClassifiers and ExtraTreesClassifiers.\n",
      "  warn(\n"
     ]
    },
    {
     "name": "stdout",
     "output_type": "stream",
     "text": [
      "bucket :  (14, 16)\n"
     ]
    },
    {
     "name": "stderr",
     "output_type": "stream",
     "text": [
      "C:\\Users\\yeon1\\AppData\\Local\\Packages\\PythonSoftwareFoundation.Python.3.10_qbz5n2kfra8p0\\LocalCache\\local-packages\\Python310\\site-packages\\sklearn\\ensemble\\_forest.py:427: FutureWarning: `max_features='auto'` has been deprecated in 1.1 and will be removed in 1.3. To keep the past behaviour, explicitly set `max_features='sqrt'` or remove this parameter as it is also the default value for RandomForestClassifiers and ExtraTreesClassifiers.\n",
      "  warn(\n"
     ]
    },
    {
     "name": "stdout",
     "output_type": "stream",
     "text": [
      "bucket :  (16, 18)\n"
     ]
    },
    {
     "name": "stderr",
     "output_type": "stream",
     "text": [
      "C:\\Users\\yeon1\\AppData\\Local\\Packages\\PythonSoftwareFoundation.Python.3.10_qbz5n2kfra8p0\\LocalCache\\local-packages\\Python310\\site-packages\\sklearn\\ensemble\\_forest.py:427: FutureWarning: `max_features='auto'` has been deprecated in 1.1 and will be removed in 1.3. To keep the past behaviour, explicitly set `max_features='sqrt'` or remove this parameter as it is also the default value for RandomForestClassifiers and ExtraTreesClassifiers.\n",
      "  warn(\n"
     ]
    },
    {
     "name": "stdout",
     "output_type": "stream",
     "text": [
      "bucket :  (18, 20)\n"
     ]
    },
    {
     "name": "stderr",
     "output_type": "stream",
     "text": [
      "C:\\Users\\yeon1\\AppData\\Local\\Packages\\PythonSoftwareFoundation.Python.3.10_qbz5n2kfra8p0\\LocalCache\\local-packages\\Python310\\site-packages\\sklearn\\ensemble\\_forest.py:427: FutureWarning: `max_features='auto'` has been deprecated in 1.1 and will be removed in 1.3. To keep the past behaviour, explicitly set `max_features='sqrt'` or remove this parameter as it is also the default value for RandomForestClassifiers and ExtraTreesClassifiers.\n",
      "  warn(\n"
     ]
    },
    {
     "name": "stdout",
     "output_type": "stream",
     "text": [
      "bucket :  (20, 22)\n"
     ]
    },
    {
     "name": "stderr",
     "output_type": "stream",
     "text": [
      "C:\\Users\\yeon1\\AppData\\Local\\Packages\\PythonSoftwareFoundation.Python.3.10_qbz5n2kfra8p0\\LocalCache\\local-packages\\Python310\\site-packages\\sklearn\\ensemble\\_forest.py:427: FutureWarning: `max_features='auto'` has been deprecated in 1.1 and will be removed in 1.3. To keep the past behaviour, explicitly set `max_features='sqrt'` or remove this parameter as it is also the default value for RandomForestClassifiers and ExtraTreesClassifiers.\n",
      "  warn(\n"
     ]
    },
    {
     "name": "stdout",
     "output_type": "stream",
     "text": [
      "bucket :  (22, 24)\n"
     ]
    },
    {
     "name": "stderr",
     "output_type": "stream",
     "text": [
      "C:\\Users\\yeon1\\AppData\\Local\\Packages\\PythonSoftwareFoundation.Python.3.10_qbz5n2kfra8p0\\LocalCache\\local-packages\\Python310\\site-packages\\sklearn\\ensemble\\_forest.py:427: FutureWarning: `max_features='auto'` has been deprecated in 1.1 and will be removed in 1.3. To keep the past behaviour, explicitly set `max_features='sqrt'` or remove this parameter as it is also the default value for RandomForestClassifiers and ExtraTreesClassifiers.\n",
      "  warn(\n"
     ]
    },
    {
     "name": "stdout",
     "output_type": "stream",
     "text": [
      "bucket :  (24, 26)\n"
     ]
    },
    {
     "name": "stderr",
     "output_type": "stream",
     "text": [
      "C:\\Users\\yeon1\\AppData\\Local\\Packages\\PythonSoftwareFoundation.Python.3.10_qbz5n2kfra8p0\\LocalCache\\local-packages\\Python310\\site-packages\\sklearn\\ensemble\\_forest.py:427: FutureWarning: `max_features='auto'` has been deprecated in 1.1 and will be removed in 1.3. To keep the past behaviour, explicitly set `max_features='sqrt'` or remove this parameter as it is also the default value for RandomForestClassifiers and ExtraTreesClassifiers.\n",
      "  warn(\n"
     ]
    },
    {
     "name": "stdout",
     "output_type": "stream",
     "text": [
      "bucket :  (26, 27)\n"
     ]
    },
    {
     "name": "stderr",
     "output_type": "stream",
     "text": [
      "C:\\Users\\yeon1\\AppData\\Local\\Packages\\PythonSoftwareFoundation.Python.3.10_qbz5n2kfra8p0\\LocalCache\\local-packages\\Python310\\site-packages\\sklearn\\ensemble\\_forest.py:427: FutureWarning: `max_features='auto'` has been deprecated in 1.1 and will be removed in 1.3. To keep the past behaviour, explicitly set `max_features='sqrt'` or remove this parameter as it is also the default value for RandomForestClassifiers and ExtraTreesClassifiers.\n",
      "  warn(\n"
     ]
    },
    {
     "name": "stdout",
     "output_type": "stream",
     "text": [
      "bucket :  (27, 28)\n"
     ]
    },
    {
     "name": "stderr",
     "output_type": "stream",
     "text": [
      "C:\\Users\\yeon1\\AppData\\Local\\Packages\\PythonSoftwareFoundation.Python.3.10_qbz5n2kfra8p0\\LocalCache\\local-packages\\Python310\\site-packages\\sklearn\\ensemble\\_forest.py:427: FutureWarning: `max_features='auto'` has been deprecated in 1.1 and will be removed in 1.3. To keep the past behaviour, explicitly set `max_features='sqrt'` or remove this parameter as it is also the default value for RandomForestClassifiers and ExtraTreesClassifiers.\n",
      "  warn(\n"
     ]
    },
    {
     "name": "stdout",
     "output_type": "stream",
     "text": [
      "bucket :  (28, 29)\n"
     ]
    },
    {
     "name": "stderr",
     "output_type": "stream",
     "text": [
      "C:\\Users\\yeon1\\AppData\\Local\\Packages\\PythonSoftwareFoundation.Python.3.10_qbz5n2kfra8p0\\LocalCache\\local-packages\\Python310\\site-packages\\sklearn\\ensemble\\_forest.py:427: FutureWarning: `max_features='auto'` has been deprecated in 1.1 and will be removed in 1.3. To keep the past behaviour, explicitly set `max_features='sqrt'` or remove this parameter as it is also the default value for RandomForestClassifiers and ExtraTreesClassifiers.\n",
      "  warn(\n"
     ]
    },
    {
     "name": "stdout",
     "output_type": "stream",
     "text": [
      "bucket :  (29, 30)\n"
     ]
    },
    {
     "name": "stderr",
     "output_type": "stream",
     "text": [
      "C:\\Users\\yeon1\\AppData\\Local\\Packages\\PythonSoftwareFoundation.Python.3.10_qbz5n2kfra8p0\\LocalCache\\local-packages\\Python310\\site-packages\\sklearn\\ensemble\\_forest.py:427: FutureWarning: `max_features='auto'` has been deprecated in 1.1 and will be removed in 1.3. To keep the past behaviour, explicitly set `max_features='sqrt'` or remove this parameter as it is also the default value for RandomForestClassifiers and ExtraTreesClassifiers.\n",
      "  warn(\n"
     ]
    },
    {
     "name": "stdout",
     "output_type": "stream",
     "text": [
      "bucket :  (30, 31)\n"
     ]
    },
    {
     "name": "stderr",
     "output_type": "stream",
     "text": [
      "C:\\Users\\yeon1\\AppData\\Local\\Packages\\PythonSoftwareFoundation.Python.3.10_qbz5n2kfra8p0\\LocalCache\\local-packages\\Python310\\site-packages\\sklearn\\ensemble\\_forest.py:427: FutureWarning: `max_features='auto'` has been deprecated in 1.1 and will be removed in 1.3. To keep the past behaviour, explicitly set `max_features='sqrt'` or remove this parameter as it is also the default value for RandomForestClassifiers and ExtraTreesClassifiers.\n",
      "  warn(\n"
     ]
    },
    {
     "name": "stdout",
     "output_type": "stream",
     "text": [
      "bucket :  (31, 32)\n"
     ]
    },
    {
     "name": "stderr",
     "output_type": "stream",
     "text": [
      "C:\\Users\\yeon1\\AppData\\Local\\Packages\\PythonSoftwareFoundation.Python.3.10_qbz5n2kfra8p0\\LocalCache\\local-packages\\Python310\\site-packages\\sklearn\\ensemble\\_forest.py:427: FutureWarning: `max_features='auto'` has been deprecated in 1.1 and will be removed in 1.3. To keep the past behaviour, explicitly set `max_features='sqrt'` or remove this parameter as it is also the default value for RandomForestClassifiers and ExtraTreesClassifiers.\n",
      "  warn(\n"
     ]
    },
    {
     "name": "stdout",
     "output_type": "stream",
     "text": [
      "bucket :  (32, 33)\n"
     ]
    },
    {
     "name": "stderr",
     "output_type": "stream",
     "text": [
      "C:\\Users\\yeon1\\AppData\\Local\\Packages\\PythonSoftwareFoundation.Python.3.10_qbz5n2kfra8p0\\LocalCache\\local-packages\\Python310\\site-packages\\sklearn\\ensemble\\_forest.py:427: FutureWarning: `max_features='auto'` has been deprecated in 1.1 and will be removed in 1.3. To keep the past behaviour, explicitly set `max_features='sqrt'` or remove this parameter as it is also the default value for RandomForestClassifiers and ExtraTreesClassifiers.\n",
      "  warn(\n"
     ]
    },
    {
     "name": "stdout",
     "output_type": "stream",
     "text": [
      "bucket :  (33, 34)\n"
     ]
    },
    {
     "name": "stderr",
     "output_type": "stream",
     "text": [
      "C:\\Users\\yeon1\\AppData\\Local\\Packages\\PythonSoftwareFoundation.Python.3.10_qbz5n2kfra8p0\\LocalCache\\local-packages\\Python310\\site-packages\\sklearn\\ensemble\\_forest.py:427: FutureWarning: `max_features='auto'` has been deprecated in 1.1 and will be removed in 1.3. To keep the past behaviour, explicitly set `max_features='sqrt'` or remove this parameter as it is also the default value for RandomForestClassifiers and ExtraTreesClassifiers.\n",
      "  warn(\n"
     ]
    },
    {
     "name": "stdout",
     "output_type": "stream",
     "text": [
      "bucket :  (34, 35)\n"
     ]
    },
    {
     "name": "stderr",
     "output_type": "stream",
     "text": [
      "C:\\Users\\yeon1\\AppData\\Local\\Packages\\PythonSoftwareFoundation.Python.3.10_qbz5n2kfra8p0\\LocalCache\\local-packages\\Python310\\site-packages\\sklearn\\ensemble\\_forest.py:427: FutureWarning: `max_features='auto'` has been deprecated in 1.1 and will be removed in 1.3. To keep the past behaviour, explicitly set `max_features='sqrt'` or remove this parameter as it is also the default value for RandomForestClassifiers and ExtraTreesClassifiers.\n",
      "  warn(\n"
     ]
    },
    {
     "name": "stdout",
     "output_type": "stream",
     "text": [
      "bucket :  (35, 36)\n"
     ]
    },
    {
     "name": "stderr",
     "output_type": "stream",
     "text": [
      "C:\\Users\\yeon1\\AppData\\Local\\Packages\\PythonSoftwareFoundation.Python.3.10_qbz5n2kfra8p0\\LocalCache\\local-packages\\Python310\\site-packages\\sklearn\\ensemble\\_forest.py:427: FutureWarning: `max_features='auto'` has been deprecated in 1.1 and will be removed in 1.3. To keep the past behaviour, explicitly set `max_features='sqrt'` or remove this parameter as it is also the default value for RandomForestClassifiers and ExtraTreesClassifiers.\n",
      "  warn(\n"
     ]
    },
    {
     "name": "stdout",
     "output_type": "stream",
     "text": [
      "bucket :  (36, 37)\n"
     ]
    },
    {
     "name": "stderr",
     "output_type": "stream",
     "text": [
      "C:\\Users\\yeon1\\AppData\\Local\\Packages\\PythonSoftwareFoundation.Python.3.10_qbz5n2kfra8p0\\LocalCache\\local-packages\\Python310\\site-packages\\sklearn\\ensemble\\_forest.py:427: FutureWarning: `max_features='auto'` has been deprecated in 1.1 and will be removed in 1.3. To keep the past behaviour, explicitly set `max_features='sqrt'` or remove this parameter as it is also the default value for RandomForestClassifiers and ExtraTreesClassifiers.\n",
      "  warn(\n"
     ]
    },
    {
     "name": "stdout",
     "output_type": "stream",
     "text": [
      "bucket :  (37, 38)\n"
     ]
    },
    {
     "name": "stderr",
     "output_type": "stream",
     "text": [
      "C:\\Users\\yeon1\\AppData\\Local\\Packages\\PythonSoftwareFoundation.Python.3.10_qbz5n2kfra8p0\\LocalCache\\local-packages\\Python310\\site-packages\\sklearn\\ensemble\\_forest.py:427: FutureWarning: `max_features='auto'` has been deprecated in 1.1 and will be removed in 1.3. To keep the past behaviour, explicitly set `max_features='sqrt'` or remove this parameter as it is also the default value for RandomForestClassifiers and ExtraTreesClassifiers.\n",
      "  warn(\n"
     ]
    },
    {
     "name": "stdout",
     "output_type": "stream",
     "text": [
      "bucket :  (38, 39)\n"
     ]
    },
    {
     "name": "stderr",
     "output_type": "stream",
     "text": [
      "C:\\Users\\yeon1\\AppData\\Local\\Packages\\PythonSoftwareFoundation.Python.3.10_qbz5n2kfra8p0\\LocalCache\\local-packages\\Python310\\site-packages\\sklearn\\ensemble\\_forest.py:427: FutureWarning: `max_features='auto'` has been deprecated in 1.1 and will be removed in 1.3. To keep the past behaviour, explicitly set `max_features='sqrt'` or remove this parameter as it is also the default value for RandomForestClassifiers and ExtraTreesClassifiers.\n",
      "  warn(\n"
     ]
    },
    {
     "name": "stdout",
     "output_type": "stream",
     "text": [
      "bucket :  (39, 40)\n"
     ]
    },
    {
     "name": "stderr",
     "output_type": "stream",
     "text": [
      "C:\\Users\\yeon1\\AppData\\Local\\Packages\\PythonSoftwareFoundation.Python.3.10_qbz5n2kfra8p0\\LocalCache\\local-packages\\Python310\\site-packages\\sklearn\\ensemble\\_forest.py:427: FutureWarning: `max_features='auto'` has been deprecated in 1.1 and will be removed in 1.3. To keep the past behaviour, explicitly set `max_features='sqrt'` or remove this parameter as it is also the default value for RandomForestClassifiers and ExtraTreesClassifiers.\n",
      "  warn(\n"
     ]
    },
    {
     "name": "stdout",
     "output_type": "stream",
     "text": [
      "bucket :  (40, 41)\n"
     ]
    },
    {
     "name": "stderr",
     "output_type": "stream",
     "text": [
      "C:\\Users\\yeon1\\AppData\\Local\\Packages\\PythonSoftwareFoundation.Python.3.10_qbz5n2kfra8p0\\LocalCache\\local-packages\\Python310\\site-packages\\sklearn\\ensemble\\_forest.py:427: FutureWarning: `max_features='auto'` has been deprecated in 1.1 and will be removed in 1.3. To keep the past behaviour, explicitly set `max_features='sqrt'` or remove this parameter as it is also the default value for RandomForestClassifiers and ExtraTreesClassifiers.\n",
      "  warn(\n",
      " 90%|█████████ | 18/20 [1:06:39<06:44, 202.32s/it]"
     ]
    },
    {
     "name": "stdout",
     "output_type": "stream",
     "text": [
      "{'bucketing': 6, 'encoding': 'aggregate', 'drop_act': 8, 'Random Forest': {'n_estimators': 635, 'max_depth': 5, 'max_features': 'log2', 'bootstrap': True, 'criterion': 'gini'}}\n",
      "bucket :  (2, 9)\n",
      "After OverSampling, the shape of train_X: (89050, 17)\n",
      "After OverSampling, the shape of train_y: (89050,) \n",
      "\n",
      "After OverSampling, counts of label '1': 44525\n",
      "After OverSampling, counts of label '0': 44525\n",
      "bucket :  (9, 16)\n",
      "bucket :  (16, 23)\n",
      "bucket :  (23, 29)\n",
      "bucket :  (29, 35)\n",
      "bucket :  (35, 41)\n"
     ]
    },
    {
     "name": "stderr",
     "output_type": "stream",
     "text": [
      " 95%|█████████▌| 19/20 [1:10:03<03:22, 202.95s/it]"
     ]
    },
    {
     "name": "stdout",
     "output_type": "stream",
     "text": [
      "{'bucketing': 28, 'encoding': 'aggregate', 'drop_act': 2, 'Decision Tree': {'max_depth': 12, 'min_samples_leaf': 64, 'criterion': 'gini'}}\n",
      "bucket :  (2, 4)\n",
      "After OverSampling, the shape of train_X: (34594, 9)\n",
      "After OverSampling, the shape of train_y: (34594,) \n",
      "\n",
      "After OverSampling, counts of label '1': 17297\n",
      "After OverSampling, counts of label '0': 17297\n",
      "bucket :  (4, 6)\n",
      "After OverSampling, the shape of train_X: (23634, 15)\n",
      "After OverSampling, the shape of train_y: (23634,) \n",
      "\n",
      "After OverSampling, counts of label '1': 11817\n",
      "After OverSampling, counts of label '0': 11817\n",
      "bucket :  (6, 8)\n",
      "bucket :  (8, 10)\n",
      "bucket :  (10, 12)\n",
      "bucket :  (12, 14)\n",
      "bucket :  (14, 16)\n",
      "bucket :  (16, 18)\n",
      "bucket :  (18, 20)\n",
      "bucket :  (20, 22)\n",
      "bucket :  (22, 24)\n",
      "bucket :  (24, 25)\n",
      "bucket :  (25, 26)\n",
      "bucket :  (26, 27)\n",
      "bucket :  (27, 28)\n",
      "bucket :  (28, 29)\n",
      "bucket :  (29, 30)\n",
      "bucket :  (30, 31)\n",
      "bucket :  (31, 32)\n",
      "bucket :  (32, 33)\n",
      "bucket :  (33, 34)\n",
      "bucket :  (34, 35)\n",
      "bucket :  (35, 36)\n",
      "bucket :  (36, 37)\n",
      "bucket :  (37, 38)\n",
      "bucket :  (38, 39)\n",
      "bucket :  (39, 40)\n",
      "bucket :  (40, 41)\n"
     ]
    },
    {
     "name": "stderr",
     "output_type": "stream",
     "text": [
      "100%|██████████| 20/20 [1:12:55<00:00, 218.75s/it]\n",
      "  0%|          | 0/20 [00:00<?, ?it/s]"
     ]
    },
    {
     "name": "stdout",
     "output_type": "stream",
     "text": [
      "{'bucketing': 15, 'encoding': 'aggregate', 'drop_act': 6, 'Random Forest': {'n_estimators': 634, 'max_depth': 5, 'max_features': 'log2', 'bootstrap': True, 'criterion': 'entropy'}}\n",
      "bucket :  (2, 5)\n",
      "After OverSampling, the shape of train_X: (46950, 10)\n",
      "After OverSampling, the shape of train_y: (46950,) \n",
      "\n",
      "After OverSampling, counts of label '1': 23475\n",
      "After OverSampling, counts of label '0': 23475\n",
      "bucket :  (5, 8)\n",
      "After OverSampling, the shape of train_X: (32620, 17)\n",
      "After OverSampling, the shape of train_y: (32620,) \n",
      "\n",
      "After OverSampling, counts of label '1': 16310\n",
      "After OverSampling, counts of label '0': 16310\n",
      "bucket :  (8, 11)\n",
      "bucket :  (11, 14)\n",
      "bucket :  (14, 17)\n",
      "bucket :  (17, 20)\n",
      "bucket :  (20, 23)\n",
      "bucket :  (23, 26)\n",
      "bucket :  (26, 29)\n",
      "bucket :  (29, 31)\n",
      "bucket :  (31, 33)\n",
      "bucket :  (33, 35)\n",
      "bucket :  (35, 37)\n",
      "bucket :  (37, 39)\n",
      "bucket :  (39, 41)\n"
     ]
    },
    {
     "name": "stderr",
     "output_type": "stream",
     "text": [
      "  5%|▌         | 1/20 [03:38<1:09:04, 218.14s/it]"
     ]
    },
    {
     "name": "stdout",
     "output_type": "stream",
     "text": [
      "{'bucketing': 15, 'encoding': 'aggregate', 'drop_act': 6, 'Random Forest': {'n_estimators': 634, 'max_depth': 5, 'max_features': 'log2', 'bootstrap': True, 'criterion': 'entropy'}}\n",
      "bucket :  (2, 5)\n",
      "After OverSampling, the shape of train_X: (46950, 10)\n",
      "After OverSampling, the shape of train_y: (46950,) \n",
      "\n",
      "After OverSampling, counts of label '1': 23475\n",
      "After OverSampling, counts of label '0': 23475\n",
      "bucket :  (5, 8)\n",
      "After OverSampling, the shape of train_X: (32620, 17)\n",
      "After OverSampling, the shape of train_y: (32620,) \n",
      "\n",
      "After OverSampling, counts of label '1': 16310\n",
      "After OverSampling, counts of label '0': 16310\n",
      "bucket :  (8, 11)\n",
      "bucket :  (11, 14)\n",
      "bucket :  (14, 17)\n",
      "bucket :  (17, 20)\n",
      "bucket :  (20, 23)\n",
      "bucket :  (23, 26)\n",
      "bucket :  (26, 29)\n",
      "bucket :  (29, 31)\n",
      "bucket :  (31, 33)\n",
      "bucket :  (33, 35)\n",
      "bucket :  (35, 37)\n",
      "bucket :  (37, 39)\n",
      "bucket :  (39, 41)\n"
     ]
    },
    {
     "name": "stderr",
     "output_type": "stream",
     "text": [
      " 10%|█         | 2/20 [07:17<1:05:41, 218.96s/it]"
     ]
    },
    {
     "name": "stdout",
     "output_type": "stream",
     "text": [
      "{'bucketing': 6, 'encoding': 'aggregate', 'drop_act': 4, 'Random Forest': {'n_estimators': 469, 'max_depth': 13, 'max_features': 'auto', 'bootstrap': False, 'criterion': 'entropy'}}\n",
      "bucket :  (2, 9)\n",
      "After OverSampling, the shape of train_X: (89050, 17)\n",
      "After OverSampling, the shape of train_y: (89050,) \n",
      "\n",
      "After OverSampling, counts of label '1': 44525\n",
      "After OverSampling, counts of label '0': 44525\n"
     ]
    },
    {
     "name": "stderr",
     "output_type": "stream",
     "text": [
      "C:\\Users\\yeon1\\AppData\\Local\\Packages\\PythonSoftwareFoundation.Python.3.10_qbz5n2kfra8p0\\LocalCache\\local-packages\\Python310\\site-packages\\sklearn\\ensemble\\_forest.py:427: FutureWarning: `max_features='auto'` has been deprecated in 1.1 and will be removed in 1.3. To keep the past behaviour, explicitly set `max_features='sqrt'` or remove this parameter as it is also the default value for RandomForestClassifiers and ExtraTreesClassifiers.\n",
      "  warn(\n"
     ]
    },
    {
     "name": "stdout",
     "output_type": "stream",
     "text": [
      "bucket :  (9, 16)\n"
     ]
    },
    {
     "name": "stderr",
     "output_type": "stream",
     "text": [
      "C:\\Users\\yeon1\\AppData\\Local\\Packages\\PythonSoftwareFoundation.Python.3.10_qbz5n2kfra8p0\\LocalCache\\local-packages\\Python310\\site-packages\\sklearn\\ensemble\\_forest.py:427: FutureWarning: `max_features='auto'` has been deprecated in 1.1 and will be removed in 1.3. To keep the past behaviour, explicitly set `max_features='sqrt'` or remove this parameter as it is also the default value for RandomForestClassifiers and ExtraTreesClassifiers.\n",
      "  warn(\n"
     ]
    },
    {
     "name": "stdout",
     "output_type": "stream",
     "text": [
      "bucket :  (16, 23)\n"
     ]
    },
    {
     "name": "stderr",
     "output_type": "stream",
     "text": [
      "C:\\Users\\yeon1\\AppData\\Local\\Packages\\PythonSoftwareFoundation.Python.3.10_qbz5n2kfra8p0\\LocalCache\\local-packages\\Python310\\site-packages\\sklearn\\ensemble\\_forest.py:427: FutureWarning: `max_features='auto'` has been deprecated in 1.1 and will be removed in 1.3. To keep the past behaviour, explicitly set `max_features='sqrt'` or remove this parameter as it is also the default value for RandomForestClassifiers and ExtraTreesClassifiers.\n",
      "  warn(\n"
     ]
    },
    {
     "name": "stdout",
     "output_type": "stream",
     "text": [
      "bucket :  (23, 29)\n"
     ]
    },
    {
     "name": "stderr",
     "output_type": "stream",
     "text": [
      "C:\\Users\\yeon1\\AppData\\Local\\Packages\\PythonSoftwareFoundation.Python.3.10_qbz5n2kfra8p0\\LocalCache\\local-packages\\Python310\\site-packages\\sklearn\\ensemble\\_forest.py:427: FutureWarning: `max_features='auto'` has been deprecated in 1.1 and will be removed in 1.3. To keep the past behaviour, explicitly set `max_features='sqrt'` or remove this parameter as it is also the default value for RandomForestClassifiers and ExtraTreesClassifiers.\n",
      "  warn(\n"
     ]
    },
    {
     "name": "stdout",
     "output_type": "stream",
     "text": [
      "bucket :  (29, 35)\n"
     ]
    },
    {
     "name": "stderr",
     "output_type": "stream",
     "text": [
      "C:\\Users\\yeon1\\AppData\\Local\\Packages\\PythonSoftwareFoundation.Python.3.10_qbz5n2kfra8p0\\LocalCache\\local-packages\\Python310\\site-packages\\sklearn\\ensemble\\_forest.py:427: FutureWarning: `max_features='auto'` has been deprecated in 1.1 and will be removed in 1.3. To keep the past behaviour, explicitly set `max_features='sqrt'` or remove this parameter as it is also the default value for RandomForestClassifiers and ExtraTreesClassifiers.\n",
      "  warn(\n"
     ]
    },
    {
     "name": "stdout",
     "output_type": "stream",
     "text": [
      "bucket :  (35, 41)\n"
     ]
    },
    {
     "name": "stderr",
     "output_type": "stream",
     "text": [
      "C:\\Users\\yeon1\\AppData\\Local\\Packages\\PythonSoftwareFoundation.Python.3.10_qbz5n2kfra8p0\\LocalCache\\local-packages\\Python310\\site-packages\\sklearn\\ensemble\\_forest.py:427: FutureWarning: `max_features='auto'` has been deprecated in 1.1 and will be removed in 1.3. To keep the past behaviour, explicitly set `max_features='sqrt'` or remove this parameter as it is also the default value for RandomForestClassifiers and ExtraTreesClassifiers.\n",
      "  warn(\n",
      " 15%|█▌        | 3/20 [11:29<1:06:16, 233.93s/it]"
     ]
    },
    {
     "name": "stdout",
     "output_type": "stream",
     "text": [
      "{'bucketing': 22, 'encoding': 'aggregate', 'drop_act': 4, 'Xgboost': {'max_depth': 14, 'n_estimators': 128, 'learning_rate': 0.05}}\n",
      "bucket :  (2, 4)\n",
      "After OverSampling, the shape of train_X: (34594, 8)\n",
      "After OverSampling, the shape of train_y: (34594,) \n",
      "\n",
      "After OverSampling, counts of label '1': 17297\n",
      "After OverSampling, counts of label '0': 17297\n",
      "bucket :  (4, 6)\n",
      "After OverSampling, the shape of train_X: (23472, 13)\n",
      "After OverSampling, the shape of train_y: (23472,) \n",
      "\n",
      "After OverSampling, counts of label '1': 11736\n",
      "After OverSampling, counts of label '0': 11736\n",
      "bucket :  (6, 8)\n",
      "bucket :  (8, 10)\n",
      "bucket :  (10, 12)\n",
      "bucket :  (12, 14)\n",
      "bucket :  (14, 16)\n",
      "bucket :  (16, 18)\n",
      "bucket :  (18, 20)\n",
      "bucket :  (20, 22)\n",
      "bucket :  (22, 24)\n",
      "bucket :  (24, 26)\n",
      "bucket :  (26, 28)\n",
      "bucket :  (28, 30)\n",
      "bucket :  (30, 32)\n",
      "bucket :  (32, 34)\n",
      "bucket :  (34, 36)\n",
      "bucket :  (36, 37)\n",
      "bucket :  (37, 38)\n",
      "bucket :  (38, 39)\n",
      "bucket :  (39, 40)\n",
      "bucket :  (40, 41)\n"
     ]
    },
    {
     "name": "stderr",
     "output_type": "stream",
     "text": [
      " 20%|██        | 4/20 [14:39<57:45, 216.59s/it]  "
     ]
    },
    {
     "name": "stdout",
     "output_type": "stream",
     "text": [
      "{'bucketing': 6, 'encoding': 'index', 'drop_act': 8, 'Xgboost': {'max_depth': 11, 'n_estimators': 910, 'learning_rate': 0.01}}\n",
      "bucket :  (2, 9)\n",
      "After OverSampling, the shape of train_X: (89050, 52)\n",
      "After OverSampling, the shape of train_y: (89050,) \n",
      "\n",
      "After OverSampling, counts of label '1': 44525\n",
      "After OverSampling, counts of label '0': 44525\n",
      "bucket :  (9, 16)\n",
      "bucket :  (16, 23)\n",
      "bucket :  (23, 29)\n",
      "bucket :  (29, 35)\n",
      "bucket :  (35, 41)\n"
     ]
    },
    {
     "name": "stderr",
     "output_type": "stream",
     "text": [
      " 25%|██▌       | 5/20 [21:52<1:13:40, 294.71s/it]"
     ]
    },
    {
     "name": "stdout",
     "output_type": "stream",
     "text": [
      "{'bucketing': 8, 'encoding': 'index', 'drop_act': 8, 'Xgboost': {'max_depth': 11, 'n_estimators': 910, 'learning_rate': 0.01}}\n",
      "bucket :  (2, 7)\n",
      "After OverSampling, the shape of train_X: (70588, 29)\n",
      "After OverSampling, the shape of train_y: (70588,) \n",
      "\n",
      "After OverSampling, counts of label '1': 35294\n",
      "After OverSampling, counts of label '0': 35294\n",
      "bucket :  (7, 12)\n",
      "bucket :  (12, 17)\n",
      "bucket :  (17, 22)\n",
      "bucket :  (22, 27)\n",
      "bucket :  (27, 32)\n",
      "bucket :  (32, 37)\n",
      "bucket :  (37, 41)\n"
     ]
    },
    {
     "name": "stderr",
     "output_type": "stream",
     "text": [
      " 30%|███       | 6/20 [28:39<1:17:41, 332.96s/it]"
     ]
    },
    {
     "name": "stdout",
     "output_type": "stream",
     "text": [
      "{'bucketing': 26, 'encoding': 'aggregate', 'drop_act': 2, 'Decision Tree': {'max_depth': 12, 'min_samples_leaf': 64, 'criterion': 'gini'}}\n",
      "bucket :  (2, 4)\n",
      "After OverSampling, the shape of train_X: (34594, 9)\n",
      "After OverSampling, the shape of train_y: (34594,) \n",
      "\n",
      "After OverSampling, counts of label '1': 17297\n",
      "After OverSampling, counts of label '0': 17297\n",
      "bucket :  (4, 6)\n",
      "After OverSampling, the shape of train_X: (23634, 15)\n",
      "After OverSampling, the shape of train_y: (23634,) \n",
      "\n",
      "After OverSampling, counts of label '1': 11817\n",
      "After OverSampling, counts of label '0': 11817\n",
      "bucket :  (6, 8)\n",
      "bucket :  (8, 10)\n",
      "bucket :  (10, 12)\n",
      "bucket :  (12, 14)\n",
      "bucket :  (14, 16)\n",
      "bucket :  (16, 18)\n",
      "bucket :  (18, 20)\n",
      "bucket :  (20, 22)\n",
      "bucket :  (22, 24)\n",
      "bucket :  (24, 26)\n",
      "bucket :  (26, 28)\n",
      "bucket :  (28, 29)\n",
      "bucket :  (29, 30)\n",
      "bucket :  (30, 31)\n",
      "bucket :  (31, 32)\n",
      "bucket :  (32, 33)\n",
      "bucket :  (33, 34)\n",
      "bucket :  (34, 35)\n",
      "bucket :  (35, 36)\n",
      "bucket :  (36, 37)\n",
      "bucket :  (37, 38)\n",
      "bucket :  (38, 39)\n",
      "bucket :  (39, 40)\n",
      "bucket :  (40, 41)\n"
     ]
    },
    {
     "name": "stderr",
     "output_type": "stream",
     "text": [
      " 35%|███▌      | 7/20 [31:33<1:00:49, 280.71s/it]"
     ]
    },
    {
     "name": "stdout",
     "output_type": "stream",
     "text": [
      "{'bucketing': 2, 'encoding': 'index', 'drop_act': 8, 'Random Forest': {'n_estimators': 634, 'max_depth': 5, 'max_features': 'log2', 'bootstrap': True, 'criterion': 'entropy'}}\n",
      "bucket :  (2, 22)\n",
      "bucket :  (22, 41)\n"
     ]
    },
    {
     "name": "stderr",
     "output_type": "stream",
     "text": [
      " 40%|████      | 8/20 [34:09<48:13, 241.16s/it]  "
     ]
    },
    {
     "name": "stdout",
     "output_type": "stream",
     "text": [
      "{'bucketing': 21, 'encoding': 'aggregate', 'drop_act': 6, 'Xgboost': {'max_depth': 14, 'n_estimators': 128, 'learning_rate': 0.05}}\n",
      "bucket :  (2, 4)\n",
      "After OverSampling, the shape of train_X: (34594, 8)\n",
      "After OverSampling, the shape of train_y: (34594,) \n",
      "\n",
      "After OverSampling, counts of label '1': 17297\n",
      "After OverSampling, counts of label '0': 17297\n",
      "bucket :  (4, 6)\n",
      "After OverSampling, the shape of train_X: (23472, 13)\n",
      "After OverSampling, the shape of train_y: (23472,) \n",
      "\n",
      "After OverSampling, counts of label '1': 11736\n",
      "After OverSampling, counts of label '0': 11736\n",
      "bucket :  (6, 8)\n",
      "bucket :  (8, 10)\n",
      "bucket :  (10, 12)\n",
      "bucket :  (12, 14)\n",
      "bucket :  (14, 16)\n",
      "bucket :  (16, 18)\n",
      "bucket :  (18, 20)\n",
      "bucket :  (20, 22)\n",
      "bucket :  (22, 24)\n",
      "bucket :  (24, 26)\n",
      "bucket :  (26, 28)\n",
      "bucket :  (28, 30)\n",
      "bucket :  (30, 32)\n",
      "bucket :  (32, 34)\n",
      "bucket :  (34, 36)\n",
      "bucket :  (36, 38)\n",
      "bucket :  (38, 39)\n",
      "bucket :  (39, 40)\n",
      "bucket :  (40, 41)\n"
     ]
    },
    {
     "name": "stderr",
     "output_type": "stream",
     "text": [
      " 45%|████▌     | 9/20 [37:15<41:03, 224.00s/it]"
     ]
    },
    {
     "name": "stdout",
     "output_type": "stream",
     "text": [
      "{'bucketing': 35, 'encoding': 'index', 'drop_act': 8, 'Decision Tree': {'max_depth': 4, 'min_samples_leaf': 86, 'criterion': 'gini'}}\n",
      "bucket :  (2, 4)\n",
      "After OverSampling, the shape of train_X: (34594, 11)\n",
      "After OverSampling, the shape of train_y: (34594,) \n",
      "\n",
      "After OverSampling, counts of label '1': 17297\n",
      "After OverSampling, counts of label '0': 17297\n",
      "bucket :  (4, 6)\n",
      "After OverSampling, the shape of train_X: (23472, 19)\n",
      "After OverSampling, the shape of train_y: (23472,) \n",
      "\n",
      "After OverSampling, counts of label '1': 11736\n",
      "After OverSampling, counts of label '0': 11736\n",
      "bucket :  (6, 8)\n",
      "bucket :  (8, 10)\n",
      "bucket :  (10, 11)\n",
      "bucket :  (11, 12)\n",
      "bucket :  (12, 13)\n",
      "bucket :  (13, 14)\n",
      "bucket :  (14, 15)\n",
      "bucket :  (15, 16)\n",
      "bucket :  (16, 17)\n",
      "bucket :  (17, 18)\n",
      "bucket :  (18, 19)\n",
      "bucket :  (19, 20)\n",
      "bucket :  (20, 21)\n",
      "bucket :  (21, 22)\n",
      "bucket :  (22, 23)\n",
      "bucket :  (23, 24)\n",
      "bucket :  (24, 25)\n",
      "bucket :  (25, 26)\n",
      "bucket :  (26, 27)\n",
      "bucket :  (27, 28)\n",
      "bucket :  (28, 29)\n",
      "bucket :  (29, 30)\n",
      "bucket :  (30, 31)\n",
      "bucket :  (31, 32)\n",
      "bucket :  (32, 33)\n",
      "bucket :  (33, 34)\n",
      "bucket :  (34, 35)\n",
      "bucket :  (35, 36)\n",
      "bucket :  (36, 37)\n",
      "bucket :  (37, 38)\n",
      "bucket :  (38, 39)\n",
      "bucket :  (39, 40)\n",
      "bucket :  (40, 41)\n"
     ]
    },
    {
     "name": "stderr",
     "output_type": "stream",
     "text": [
      " 50%|█████     | 10/20 [39:24<32:25, 194.52s/it]"
     ]
    },
    {
     "name": "stdout",
     "output_type": "stream",
     "text": [
      "{'bucketing': 8, 'encoding': 'aggregate', 'drop_act': 4, 'Xgboost': {'max_depth': 14, 'n_estimators': 128, 'learning_rate': 0.05}}\n",
      "bucket :  (2, 7)\n",
      "After OverSampling, the shape of train_X: (70588, 15)\n",
      "After OverSampling, the shape of train_y: (70588,) \n",
      "\n",
      "After OverSampling, counts of label '1': 35294\n",
      "After OverSampling, counts of label '0': 35294\n",
      "bucket :  (7, 12)\n",
      "bucket :  (12, 17)\n",
      "bucket :  (17, 22)\n",
      "bucket :  (22, 27)\n",
      "bucket :  (27, 32)\n",
      "bucket :  (32, 37)\n",
      "bucket :  (37, 41)\n"
     ]
    },
    {
     "name": "stderr",
     "output_type": "stream",
     "text": [
      " 55%|█████▌    | 11/20 [42:28<28:43, 191.52s/it]"
     ]
    },
    {
     "name": "stdout",
     "output_type": "stream",
     "text": [
      "{'bucketing': 28, 'encoding': 'index', 'drop_act': 8, 'LightGBM': {'max_depth': 10, 'num_leaves': 325, 'min_child_samples': 5}}\n",
      "bucket :  (2, 4)\n",
      "After OverSampling, the shape of train_X: (34594, 11)\n",
      "After OverSampling, the shape of train_y: (34594,) \n",
      "\n",
      "After OverSampling, counts of label '1': 17297\n",
      "After OverSampling, counts of label '0': 17297\n",
      "bucket :  (4, 6)\n",
      "After OverSampling, the shape of train_X: (23472, 19)\n",
      "After OverSampling, the shape of train_y: (23472,) \n",
      "\n",
      "After OverSampling, counts of label '1': 11736\n",
      "After OverSampling, counts of label '0': 11736\n",
      "bucket :  (6, 8)\n",
      "bucket :  (8, 10)\n",
      "bucket :  (10, 12)\n",
      "bucket :  (12, 14)\n",
      "bucket :  (14, 16)\n",
      "bucket :  (16, 18)\n",
      "bucket :  (18, 20)\n",
      "bucket :  (20, 22)\n",
      "bucket :  (22, 24)\n",
      "bucket :  (24, 25)\n",
      "bucket :  (25, 26)\n",
      "bucket :  (26, 27)\n",
      "bucket :  (27, 28)\n",
      "bucket :  (28, 29)\n",
      "bucket :  (29, 30)\n",
      "bucket :  (30, 31)\n",
      "bucket :  (31, 32)\n",
      "bucket :  (32, 33)\n",
      "bucket :  (33, 34)\n",
      "bucket :  (34, 35)\n",
      "bucket :  (35, 36)\n",
      "bucket :  (36, 37)\n",
      "bucket :  (37, 38)\n",
      "bucket :  (38, 39)\n",
      "bucket :  (39, 40)\n",
      "bucket :  (40, 41)\n"
     ]
    },
    {
     "name": "stderr",
     "output_type": "stream",
     "text": [
      " 60%|██████    | 12/20 [44:45<23:17, 174.70s/it]"
     ]
    },
    {
     "name": "stdout",
     "output_type": "stream",
     "text": [
      "{'bucketing': 15, 'encoding': 'aggregate', 'drop_act': 6, 'Random Forest': {'n_estimators': 634, 'max_depth': 5, 'max_features': 'log2', 'bootstrap': True, 'criterion': 'entropy'}}\n",
      "bucket :  (2, 5)\n",
      "After OverSampling, the shape of train_X: (46950, 10)\n",
      "After OverSampling, the shape of train_y: (46950,) \n",
      "\n",
      "After OverSampling, counts of label '1': 23475\n",
      "After OverSampling, counts of label '0': 23475\n",
      "bucket :  (5, 8)\n",
      "After OverSampling, the shape of train_X: (32620, 17)\n",
      "After OverSampling, the shape of train_y: (32620,) \n",
      "\n",
      "After OverSampling, counts of label '1': 16310\n",
      "After OverSampling, counts of label '0': 16310\n",
      "bucket :  (8, 11)\n",
      "bucket :  (11, 14)\n",
      "bucket :  (14, 17)\n",
      "bucket :  (17, 20)\n",
      "bucket :  (20, 23)\n",
      "bucket :  (23, 26)\n",
      "bucket :  (26, 29)\n",
      "bucket :  (29, 31)\n",
      "bucket :  (31, 33)\n",
      "bucket :  (33, 35)\n",
      "bucket :  (35, 37)\n",
      "bucket :  (37, 39)\n",
      "bucket :  (39, 41)\n"
     ]
    },
    {
     "name": "stderr",
     "output_type": "stream",
     "text": [
      " 65%|██████▌   | 13/20 [48:24<21:56, 188.08s/it]"
     ]
    },
    {
     "name": "stdout",
     "output_type": "stream",
     "text": [
      "{'bucketing': 2, 'encoding': 'index', 'drop_act': 2, 'Decision Tree': {'max_depth': 4, 'min_samples_leaf': 86, 'criterion': 'gini'}}\n",
      "bucket :  (2, 22)\n",
      "bucket :  (22, 41)\n"
     ]
    },
    {
     "name": "stderr",
     "output_type": "stream",
     "text": [
      " 70%|███████   | 14/20 [50:40<17:15, 172.54s/it]"
     ]
    },
    {
     "name": "stdout",
     "output_type": "stream",
     "text": [
      "{'bucketing': 31, 'encoding': 'aggregate', 'drop_act': 8, 'Decision Tree': {'max_depth': 12, 'min_samples_leaf': 46, 'criterion': 'entropy'}}\n",
      "bucket :  (2, 4)\n",
      "After OverSampling, the shape of train_X: (34594, 8)\n",
      "After OverSampling, the shape of train_y: (34594,) \n",
      "\n",
      "After OverSampling, counts of label '1': 17297\n",
      "After OverSampling, counts of label '0': 17297\n",
      "bucket :  (4, 6)\n",
      "After OverSampling, the shape of train_X: (23472, 13)\n",
      "After OverSampling, the shape of train_y: (23472,) \n",
      "\n",
      "After OverSampling, counts of label '1': 11736\n",
      "After OverSampling, counts of label '0': 11736\n",
      "bucket :  (6, 8)\n",
      "bucket :  (8, 10)\n",
      "bucket :  (10, 12)\n",
      "bucket :  (12, 14)\n",
      "bucket :  (14, 16)\n",
      "bucket :  (16, 18)\n",
      "bucket :  (18, 19)\n",
      "bucket :  (19, 20)\n",
      "bucket :  (20, 21)\n",
      "bucket :  (21, 22)\n",
      "bucket :  (22, 23)\n",
      "bucket :  (23, 24)\n",
      "bucket :  (24, 25)\n",
      "bucket :  (25, 26)\n",
      "bucket :  (26, 27)\n",
      "bucket :  (27, 28)\n",
      "bucket :  (28, 29)\n",
      "bucket :  (29, 30)\n",
      "bucket :  (30, 31)\n",
      "bucket :  (31, 32)\n",
      "bucket :  (32, 33)\n",
      "bucket :  (33, 34)\n",
      "bucket :  (34, 35)\n",
      "bucket :  (35, 36)\n",
      "bucket :  (36, 37)\n",
      "bucket :  (37, 38)\n",
      "bucket :  (38, 39)\n",
      "bucket :  (39, 40)\n",
      "bucket :  (40, 41)\n"
     ]
    },
    {
     "name": "stderr",
     "output_type": "stream",
     "text": [
      " 75%|███████▌  | 15/20 [53:29<14:17, 171.43s/it]"
     ]
    },
    {
     "name": "stdout",
     "output_type": "stream",
     "text": [
      "{'bucketing': 21, 'encoding': 'aggregate', 'drop_act': 2, 'Decision Tree': {'max_depth': 7, 'min_samples_leaf': 47, 'criterion': 'gini'}}\n",
      "bucket :  (2, 4)\n",
      "After OverSampling, the shape of train_X: (34594, 9)\n",
      "After OverSampling, the shape of train_y: (34594,) \n",
      "\n",
      "After OverSampling, counts of label '1': 17297\n",
      "After OverSampling, counts of label '0': 17297\n",
      "bucket :  (4, 6)\n",
      "After OverSampling, the shape of train_X: (23634, 15)\n",
      "After OverSampling, the shape of train_y: (23634,) \n",
      "\n",
      "After OverSampling, counts of label '1': 11817\n",
      "After OverSampling, counts of label '0': 11817\n",
      "bucket :  (6, 8)\n",
      "bucket :  (8, 10)\n",
      "bucket :  (10, 12)\n",
      "bucket :  (12, 14)\n",
      "bucket :  (14, 16)\n",
      "bucket :  (16, 18)\n",
      "bucket :  (18, 20)\n",
      "bucket :  (20, 22)\n",
      "bucket :  (22, 24)\n",
      "bucket :  (24, 26)\n",
      "bucket :  (26, 28)\n",
      "bucket :  (28, 30)\n",
      "bucket :  (30, 32)\n",
      "bucket :  (32, 34)\n",
      "bucket :  (34, 36)\n",
      "bucket :  (36, 38)\n",
      "bucket :  (38, 39)\n",
      "bucket :  (39, 40)\n",
      "bucket :  (40, 41)\n"
     ]
    },
    {
     "name": "stderr",
     "output_type": "stream",
     "text": [
      " 80%|████████  | 16/20 [56:22<11:27, 171.80s/it]"
     ]
    },
    {
     "name": "stdout",
     "output_type": "stream",
     "text": [
      "{'bucketing': 2, 'encoding': 'index', 'drop_act': 6, 'LightGBM': {'max_depth': 4, 'num_leaves': 87, 'min_child_samples': 9}}\n",
      "bucket :  (2, 22)\n",
      "bucket :  (22, 41)\n"
     ]
    },
    {
     "name": "stderr",
     "output_type": "stream",
     "text": [
      " 85%|████████▌ | 17/20 [58:36<08:01, 160.56s/it]"
     ]
    },
    {
     "name": "stdout",
     "output_type": "stream",
     "text": [
      "{'bucketing': 15, 'encoding': 'aggregate', 'drop_act': 6, 'Random Forest': {'n_estimators': 634, 'max_depth': 5, 'max_features': 'log2', 'bootstrap': True, 'criterion': 'entropy'}}\n",
      "bucket :  (2, 5)\n",
      "After OverSampling, the shape of train_X: (46950, 10)\n",
      "After OverSampling, the shape of train_y: (46950,) \n",
      "\n",
      "After OverSampling, counts of label '1': 23475\n",
      "After OverSampling, counts of label '0': 23475\n",
      "bucket :  (5, 8)\n",
      "After OverSampling, the shape of train_X: (32620, 17)\n",
      "After OverSampling, the shape of train_y: (32620,) \n",
      "\n",
      "After OverSampling, counts of label '1': 16310\n",
      "After OverSampling, counts of label '0': 16310\n",
      "bucket :  (8, 11)\n",
      "bucket :  (11, 14)\n",
      "bucket :  (14, 17)\n",
      "bucket :  (17, 20)\n",
      "bucket :  (20, 23)\n",
      "bucket :  (23, 26)\n",
      "bucket :  (26, 29)\n",
      "bucket :  (29, 31)\n",
      "bucket :  (31, 33)\n",
      "bucket :  (33, 35)\n",
      "bucket :  (35, 37)\n",
      "bucket :  (37, 39)\n",
      "bucket :  (39, 41)\n"
     ]
    },
    {
     "name": "stderr",
     "output_type": "stream",
     "text": [
      " 90%|█████████ | 18/20 [1:02:14<05:55, 177.93s/it]"
     ]
    },
    {
     "name": "stdout",
     "output_type": "stream",
     "text": [
      "{'bucketing': 21, 'encoding': 'aggregate', 'drop_act': 6, 'LightGBM': {'max_depth': 4, 'num_leaves': 87, 'min_child_samples': 9}}\n",
      "bucket :  (2, 4)\n",
      "After OverSampling, the shape of train_X: (34594, 8)\n",
      "After OverSampling, the shape of train_y: (34594,) \n",
      "\n",
      "After OverSampling, counts of label '1': 17297\n",
      "After OverSampling, counts of label '0': 17297\n",
      "bucket :  (4, 6)\n",
      "After OverSampling, the shape of train_X: (23472, 13)\n",
      "After OverSampling, the shape of train_y: (23472,) \n",
      "\n",
      "After OverSampling, counts of label '1': 11736\n",
      "After OverSampling, counts of label '0': 11736\n",
      "bucket :  (6, 8)\n",
      "bucket :  (8, 10)\n",
      "bucket :  (10, 12)\n",
      "bucket :  (12, 14)\n",
      "bucket :  (14, 16)\n",
      "bucket :  (16, 18)\n",
      "bucket :  (18, 20)\n",
      "bucket :  (20, 22)\n",
      "bucket :  (22, 24)\n",
      "bucket :  (24, 26)\n",
      "bucket :  (26, 28)\n",
      "bucket :  (28, 30)\n",
      "bucket :  (30, 32)\n",
      "bucket :  (32, 34)\n",
      "bucket :  (34, 36)\n",
      "bucket :  (36, 38)\n",
      "bucket :  (38, 39)\n",
      "bucket :  (39, 40)\n",
      "bucket :  (40, 41)\n"
     ]
    },
    {
     "name": "stderr",
     "output_type": "stream",
     "text": [
      " 95%|█████████▌| 19/20 [1:05:05<02:55, 175.85s/it]"
     ]
    },
    {
     "name": "stdout",
     "output_type": "stream",
     "text": [
      "{'bucketing': 28, 'encoding': 'aggregate', 'drop_act': 8, 'Decision Tree': {'max_depth': 7, 'min_samples_leaf': 47, 'criterion': 'gini'}}\n",
      "bucket :  (2, 4)\n",
      "After OverSampling, the shape of train_X: (34594, 8)\n",
      "After OverSampling, the shape of train_y: (34594,) \n",
      "\n",
      "After OverSampling, counts of label '1': 17297\n",
      "After OverSampling, counts of label '0': 17297\n",
      "bucket :  (4, 6)\n",
      "After OverSampling, the shape of train_X: (23472, 13)\n",
      "After OverSampling, the shape of train_y: (23472,) \n",
      "\n",
      "After OverSampling, counts of label '1': 11736\n",
      "After OverSampling, counts of label '0': 11736\n",
      "bucket :  (6, 8)\n",
      "bucket :  (8, 10)\n",
      "bucket :  (10, 12)\n",
      "bucket :  (12, 14)\n",
      "bucket :  (14, 16)\n",
      "bucket :  (16, 18)\n",
      "bucket :  (18, 20)\n",
      "bucket :  (20, 22)\n",
      "bucket :  (22, 24)\n",
      "bucket :  (24, 25)\n",
      "bucket :  (25, 26)\n",
      "bucket :  (26, 27)\n",
      "bucket :  (27, 28)\n",
      "bucket :  (28, 29)\n",
      "bucket :  (29, 30)\n",
      "bucket :  (30, 31)\n",
      "bucket :  (31, 32)\n",
      "bucket :  (32, 33)\n",
      "bucket :  (33, 34)\n",
      "bucket :  (34, 35)\n",
      "bucket :  (35, 36)\n",
      "bucket :  (36, 37)\n",
      "bucket :  (37, 38)\n",
      "bucket :  (38, 39)\n",
      "bucket :  (39, 40)\n",
      "bucket :  (40, 41)\n"
     ]
    },
    {
     "name": "stderr",
     "output_type": "stream",
     "text": [
      "100%|██████████| 20/20 [1:07:54<00:00, 203.70s/it]\n",
      "  0%|          | 0/20 [00:00<?, ?it/s]"
     ]
    },
    {
     "name": "stdout",
     "output_type": "stream",
     "text": [
      "{'bucketing': 22, 'encoding': 'aggregate', 'drop_act': 4, 'Xgboost': {'max_depth': 14, 'n_estimators': 128, 'learning_rate': 0.05}}\n",
      "bucket :  (2, 4)\n",
      "After OverSampling, the shape of train_X: (34594, 8)\n",
      "After OverSampling, the shape of train_y: (34594,) \n",
      "\n",
      "After OverSampling, counts of label '1': 17297\n",
      "After OverSampling, counts of label '0': 17297\n",
      "bucket :  (4, 6)\n",
      "After OverSampling, the shape of train_X: (23472, 13)\n",
      "After OverSampling, the shape of train_y: (23472,) \n",
      "\n",
      "After OverSampling, counts of label '1': 11736\n",
      "After OverSampling, counts of label '0': 11736\n",
      "bucket :  (6, 8)\n",
      "bucket :  (8, 10)\n",
      "bucket :  (10, 12)\n",
      "bucket :  (12, 14)\n",
      "bucket :  (14, 16)\n",
      "bucket :  (16, 18)\n",
      "bucket :  (18, 20)\n",
      "bucket :  (20, 22)\n",
      "bucket :  (22, 24)\n",
      "bucket :  (24, 26)\n",
      "bucket :  (26, 28)\n",
      "bucket :  (28, 30)\n",
      "bucket :  (30, 32)\n",
      "bucket :  (32, 34)\n",
      "bucket :  (34, 36)\n",
      "bucket :  (36, 37)\n",
      "bucket :  (37, 38)\n",
      "bucket :  (38, 39)\n",
      "bucket :  (39, 40)\n",
      "bucket :  (40, 41)\n"
     ]
    },
    {
     "name": "stderr",
     "output_type": "stream",
     "text": [
      "  5%|▌         | 1/20 [03:08<59:47, 188.82s/it]"
     ]
    },
    {
     "name": "stdout",
     "output_type": "stream",
     "text": [
      "{'bucketing': 8, 'encoding': 'aggregate', 'drop_act': 4, 'Xgboost': {'max_depth': 14, 'n_estimators': 128, 'learning_rate': 0.05}}\n",
      "bucket :  (2, 7)\n",
      "After OverSampling, the shape of train_X: (70588, 15)\n",
      "After OverSampling, the shape of train_y: (70588,) \n",
      "\n",
      "After OverSampling, counts of label '1': 35294\n",
      "After OverSampling, counts of label '0': 35294\n",
      "bucket :  (7, 12)\n",
      "bucket :  (12, 17)\n",
      "bucket :  (17, 22)\n",
      "bucket :  (22, 27)\n",
      "bucket :  (27, 32)\n",
      "bucket :  (32, 37)\n",
      "bucket :  (37, 41)\n"
     ]
    },
    {
     "name": "stderr",
     "output_type": "stream",
     "text": [
      " 10%|█         | 2/20 [06:12<55:46, 185.90s/it]"
     ]
    },
    {
     "name": "stdout",
     "output_type": "stream",
     "text": [
      "{'bucketing': 28, 'encoding': 'aggregate', 'drop_act': 8, 'Decision Tree': {'max_depth': 7, 'min_samples_leaf': 47, 'criterion': 'gini'}}\n",
      "bucket :  (2, 4)\n",
      "After OverSampling, the shape of train_X: (34594, 8)\n",
      "After OverSampling, the shape of train_y: (34594,) \n",
      "\n",
      "After OverSampling, counts of label '1': 17297\n",
      "After OverSampling, counts of label '0': 17297\n",
      "bucket :  (4, 6)\n",
      "After OverSampling, the shape of train_X: (23472, 13)\n",
      "After OverSampling, the shape of train_y: (23472,) \n",
      "\n",
      "After OverSampling, counts of label '1': 11736\n",
      "After OverSampling, counts of label '0': 11736\n",
      "bucket :  (6, 8)\n",
      "bucket :  (8, 10)\n",
      "bucket :  (10, 12)\n",
      "bucket :  (12, 14)\n",
      "bucket :  (14, 16)\n",
      "bucket :  (16, 18)\n",
      "bucket :  (18, 20)\n",
      "bucket :  (20, 22)\n",
      "bucket :  (22, 24)\n",
      "bucket :  (24, 25)\n",
      "bucket :  (25, 26)\n",
      "bucket :  (26, 27)\n",
      "bucket :  (27, 28)\n",
      "bucket :  (28, 29)\n",
      "bucket :  (29, 30)\n",
      "bucket :  (30, 31)\n",
      "bucket :  (31, 32)\n",
      "bucket :  (32, 33)\n",
      "bucket :  (33, 34)\n",
      "bucket :  (34, 35)\n",
      "bucket :  (35, 36)\n",
      "bucket :  (36, 37)\n",
      "bucket :  (37, 38)\n",
      "bucket :  (38, 39)\n",
      "bucket :  (39, 40)\n",
      "bucket :  (40, 41)\n"
     ]
    },
    {
     "name": "stderr",
     "output_type": "stream",
     "text": [
      " 15%|█▌        | 3/20 [09:01<50:27, 178.09s/it]"
     ]
    },
    {
     "name": "stdout",
     "output_type": "stream",
     "text": [
      "{'bucketing': 15, 'encoding': 'aggregate', 'drop_act': 6, 'Random Forest': {'n_estimators': 634, 'max_depth': 5, 'max_features': 'log2', 'bootstrap': True, 'criterion': 'entropy'}}\n",
      "bucket :  (2, 5)\n",
      "After OverSampling, the shape of train_X: (46950, 10)\n",
      "After OverSampling, the shape of train_y: (46950,) \n",
      "\n",
      "After OverSampling, counts of label '1': 23475\n",
      "After OverSampling, counts of label '0': 23475\n",
      "bucket :  (5, 8)\n",
      "After OverSampling, the shape of train_X: (32620, 17)\n",
      "After OverSampling, the shape of train_y: (32620,) \n",
      "\n",
      "After OverSampling, counts of label '1': 16310\n",
      "After OverSampling, counts of label '0': 16310\n",
      "bucket :  (8, 11)\n",
      "bucket :  (11, 14)\n",
      "bucket :  (14, 17)\n",
      "bucket :  (17, 20)\n",
      "bucket :  (20, 23)\n",
      "bucket :  (23, 26)\n",
      "bucket :  (26, 29)\n",
      "bucket :  (29, 31)\n",
      "bucket :  (31, 33)\n",
      "bucket :  (33, 35)\n",
      "bucket :  (35, 37)\n",
      "bucket :  (37, 39)\n",
      "bucket :  (39, 41)\n"
     ]
    },
    {
     "name": "stderr",
     "output_type": "stream",
     "text": [
      " 20%|██        | 4/20 [12:39<51:42, 193.91s/it]"
     ]
    },
    {
     "name": "stdout",
     "output_type": "stream",
     "text": [
      "{'bucketing': 6, 'encoding': 'aggregate', 'drop_act': 6, 'Random Forest': {'n_estimators': 634, 'max_depth': 5, 'max_features': 'log2', 'bootstrap': True, 'criterion': 'entropy'}}\n",
      "bucket :  (2, 9)\n",
      "After OverSampling, the shape of train_X: (89050, 17)\n",
      "After OverSampling, the shape of train_y: (89050,) \n",
      "\n",
      "After OverSampling, counts of label '1': 44525\n",
      "After OverSampling, counts of label '0': 44525\n",
      "bucket :  (9, 16)\n",
      "bucket :  (16, 23)\n",
      "bucket :  (23, 29)\n",
      "bucket :  (29, 35)\n",
      "bucket :  (35, 41)\n"
     ]
    },
    {
     "name": "stderr",
     "output_type": "stream",
     "text": [
      " 25%|██▌       | 5/20 [16:10<49:59, 199.97s/it]"
     ]
    },
    {
     "name": "stdout",
     "output_type": "stream",
     "text": [
      "{'bucketing': 6, 'encoding': 'index', 'drop_act': 2, 'Decision Tree': {'max_depth': 4, 'min_samples_leaf': 86, 'criterion': 'gini'}}\n",
      "bucket :  (2, 9)\n",
      "After OverSampling, the shape of train_X: (89400, 63)\n",
      "After OverSampling, the shape of train_y: (89400,) \n",
      "\n",
      "After OverSampling, counts of label '1': 44700\n",
      "After OverSampling, counts of label '0': 44700\n",
      "bucket :  (9, 16)\n",
      "bucket :  (16, 23)\n",
      "bucket :  (23, 29)\n",
      "bucket :  (29, 35)\n",
      "bucket :  (35, 41)\n"
     ]
    },
    {
     "name": "stderr",
     "output_type": "stream",
     "text": [
      " 30%|███       | 6/20 [18:23<41:19, 177.11s/it]"
     ]
    },
    {
     "name": "stdout",
     "output_type": "stream",
     "text": [
      "{'bucketing': 21, 'encoding': 'aggregate', 'drop_act': 6, 'Xgboost': {'max_depth': 14, 'n_estimators': 128, 'learning_rate': 0.05}}\n",
      "bucket :  (2, 4)\n",
      "After OverSampling, the shape of train_X: (34594, 8)\n",
      "After OverSampling, the shape of train_y: (34594,) \n",
      "\n",
      "After OverSampling, counts of label '1': 17297\n",
      "After OverSampling, counts of label '0': 17297\n",
      "bucket :  (4, 6)\n",
      "After OverSampling, the shape of train_X: (23472, 13)\n",
      "After OverSampling, the shape of train_y: (23472,) \n",
      "\n",
      "After OverSampling, counts of label '1': 11736\n",
      "After OverSampling, counts of label '0': 11736\n",
      "bucket :  (6, 8)\n",
      "bucket :  (8, 10)\n",
      "bucket :  (10, 12)\n",
      "bucket :  (12, 14)\n",
      "bucket :  (14, 16)\n",
      "bucket :  (16, 18)\n",
      "bucket :  (18, 20)\n",
      "bucket :  (20, 22)\n",
      "bucket :  (22, 24)\n",
      "bucket :  (24, 26)\n",
      "bucket :  (26, 28)\n",
      "bucket :  (28, 30)\n",
      "bucket :  (30, 32)\n",
      "bucket :  (32, 34)\n",
      "bucket :  (34, 36)\n",
      "bucket :  (36, 38)\n",
      "bucket :  (38, 39)\n",
      "bucket :  (39, 40)\n",
      "bucket :  (40, 41)\n"
     ]
    },
    {
     "name": "stderr",
     "output_type": "stream",
     "text": [
      " 35%|███▌      | 7/20 [21:28<38:59, 179.94s/it]"
     ]
    },
    {
     "name": "stdout",
     "output_type": "stream",
     "text": [
      "{'bucketing': 31, 'encoding': 'aggregate', 'drop_act': 6, 'Random Forest': {'n_estimators': 634, 'max_depth': 5, 'max_features': 'log2', 'bootstrap': True, 'criterion': 'entropy'}}\n",
      "bucket :  (2, 4)\n",
      "After OverSampling, the shape of train_X: (34594, 8)\n",
      "After OverSampling, the shape of train_y: (34594,) \n",
      "\n",
      "After OverSampling, counts of label '1': 17297\n",
      "After OverSampling, counts of label '0': 17297\n",
      "bucket :  (4, 6)\n",
      "After OverSampling, the shape of train_X: (23472, 13)\n",
      "After OverSampling, the shape of train_y: (23472,) \n",
      "\n",
      "After OverSampling, counts of label '1': 11736\n",
      "After OverSampling, counts of label '0': 11736\n",
      "bucket :  (6, 8)\n",
      "bucket :  (8, 10)\n",
      "bucket :  (10, 12)\n",
      "bucket :  (12, 14)\n",
      "bucket :  (14, 16)\n",
      "bucket :  (16, 18)\n",
      "bucket :  (18, 19)\n",
      "bucket :  (19, 20)\n",
      "bucket :  (20, 21)\n",
      "bucket :  (21, 22)\n",
      "bucket :  (22, 23)\n",
      "bucket :  (23, 24)\n",
      "bucket :  (24, 25)\n",
      "bucket :  (25, 26)\n",
      "bucket :  (26, 27)\n",
      "bucket :  (27, 28)\n",
      "bucket :  (28, 29)\n",
      "bucket :  (29, 30)\n",
      "bucket :  (30, 31)\n",
      "bucket :  (31, 32)\n",
      "bucket :  (32, 33)\n",
      "bucket :  (33, 34)\n",
      "bucket :  (34, 35)\n",
      "bucket :  (35, 36)\n",
      "bucket :  (36, 37)\n",
      "bucket :  (37, 38)\n",
      "bucket :  (38, 39)\n",
      "bucket :  (39, 40)\n",
      "bucket :  (40, 41)\n"
     ]
    },
    {
     "name": "stderr",
     "output_type": "stream",
     "text": [
      " 40%|████      | 8/20 [25:18<39:08, 195.73s/it]"
     ]
    },
    {
     "name": "stdout",
     "output_type": "stream",
     "text": [
      "{'bucketing': 26, 'encoding': 'aggregate', 'drop_act': 2, 'Decision Tree': {'max_depth': 12, 'min_samples_leaf': 64, 'criterion': 'gini'}}\n",
      "bucket :  (2, 4)\n",
      "After OverSampling, the shape of train_X: (34594, 9)\n",
      "After OverSampling, the shape of train_y: (34594,) \n",
      "\n",
      "After OverSampling, counts of label '1': 17297\n",
      "After OverSampling, counts of label '0': 17297\n",
      "bucket :  (4, 6)\n",
      "After OverSampling, the shape of train_X: (23634, 15)\n",
      "After OverSampling, the shape of train_y: (23634,) \n",
      "\n",
      "After OverSampling, counts of label '1': 11817\n",
      "After OverSampling, counts of label '0': 11817\n",
      "bucket :  (6, 8)\n",
      "bucket :  (8, 10)\n",
      "bucket :  (10, 12)\n",
      "bucket :  (12, 14)\n",
      "bucket :  (14, 16)\n",
      "bucket :  (16, 18)\n",
      "bucket :  (18, 20)\n",
      "bucket :  (20, 22)\n",
      "bucket :  (22, 24)\n",
      "bucket :  (24, 26)\n",
      "bucket :  (26, 28)\n",
      "bucket :  (28, 29)\n",
      "bucket :  (29, 30)\n",
      "bucket :  (30, 31)\n",
      "bucket :  (31, 32)\n",
      "bucket :  (32, 33)\n",
      "bucket :  (33, 34)\n",
      "bucket :  (34, 35)\n",
      "bucket :  (35, 36)\n",
      "bucket :  (36, 37)\n",
      "bucket :  (37, 38)\n",
      "bucket :  (38, 39)\n",
      "bucket :  (39, 40)\n",
      "bucket :  (40, 41)\n"
     ]
    },
    {
     "name": "stderr",
     "output_type": "stream",
     "text": [
      " 45%|████▌     | 9/20 [28:10<34:32, 188.44s/it]"
     ]
    },
    {
     "name": "stdout",
     "output_type": "stream",
     "text": [
      "{'bucketing': 28, 'encoding': 'index', 'drop_act': 8, 'LightGBM': {'max_depth': 10, 'num_leaves': 325, 'min_child_samples': 5}}\n",
      "bucket :  (2, 4)\n",
      "After OverSampling, the shape of train_X: (34594, 11)\n",
      "After OverSampling, the shape of train_y: (34594,) \n",
      "\n",
      "After OverSampling, counts of label '1': 17297\n",
      "After OverSampling, counts of label '0': 17297\n",
      "bucket :  (4, 6)\n",
      "After OverSampling, the shape of train_X: (23472, 19)\n",
      "After OverSampling, the shape of train_y: (23472,) \n",
      "\n",
      "After OverSampling, counts of label '1': 11736\n",
      "After OverSampling, counts of label '0': 11736\n",
      "bucket :  (6, 8)\n",
      "bucket :  (8, 10)\n",
      "bucket :  (10, 12)\n",
      "bucket :  (12, 14)\n",
      "bucket :  (14, 16)\n",
      "bucket :  (16, 18)\n",
      "bucket :  (18, 20)\n",
      "bucket :  (20, 22)\n",
      "bucket :  (22, 24)\n",
      "bucket :  (24, 25)\n",
      "bucket :  (25, 26)\n",
      "bucket :  (26, 27)\n",
      "bucket :  (27, 28)\n",
      "bucket :  (28, 29)\n",
      "bucket :  (29, 30)\n",
      "bucket :  (30, 31)\n",
      "bucket :  (31, 32)\n",
      "bucket :  (32, 33)\n",
      "bucket :  (33, 34)\n",
      "bucket :  (34, 35)\n",
      "bucket :  (35, 36)\n",
      "bucket :  (36, 37)\n",
      "bucket :  (37, 38)\n",
      "bucket :  (38, 39)\n",
      "bucket :  (39, 40)\n",
      "bucket :  (40, 41)\n"
     ]
    },
    {
     "name": "stderr",
     "output_type": "stream",
     "text": [
      " 50%|█████     | 10/20 [30:27<28:43, 172.35s/it]"
     ]
    },
    {
     "name": "stdout",
     "output_type": "stream",
     "text": [
      "{'bucketing': 2, 'encoding': 'index', 'drop_act': 6, 'LightGBM': {'max_depth': 4, 'num_leaves': 87, 'min_child_samples': 9}}\n",
      "bucket :  (2, 22)\n",
      "bucket :  (22, 41)\n"
     ]
    },
    {
     "name": "stderr",
     "output_type": "stream",
     "text": [
      " 55%|█████▌    | 11/20 [32:41<24:05, 160.65s/it]"
     ]
    },
    {
     "name": "stdout",
     "output_type": "stream",
     "text": [
      "{'bucketing': 15, 'encoding': 'aggregate', 'drop_act': 4, 'Random Forest': {'n_estimators': 469, 'max_depth': 13, 'max_features': 'auto', 'bootstrap': False, 'criterion': 'entropy'}}\n",
      "bucket :  (2, 5)\n",
      "After OverSampling, the shape of train_X: (46950, 10)\n",
      "After OverSampling, the shape of train_y: (46950,) \n",
      "\n",
      "After OverSampling, counts of label '1': 23475\n",
      "After OverSampling, counts of label '0': 23475\n"
     ]
    },
    {
     "name": "stderr",
     "output_type": "stream",
     "text": [
      "C:\\Users\\yeon1\\AppData\\Local\\Packages\\PythonSoftwareFoundation.Python.3.10_qbz5n2kfra8p0\\LocalCache\\local-packages\\Python310\\site-packages\\sklearn\\ensemble\\_forest.py:427: FutureWarning: `max_features='auto'` has been deprecated in 1.1 and will be removed in 1.3. To keep the past behaviour, explicitly set `max_features='sqrt'` or remove this parameter as it is also the default value for RandomForestClassifiers and ExtraTreesClassifiers.\n",
      "  warn(\n"
     ]
    },
    {
     "name": "stdout",
     "output_type": "stream",
     "text": [
      "bucket :  (5, 8)\n",
      "After OverSampling, the shape of train_X: (32620, 17)\n",
      "After OverSampling, the shape of train_y: (32620,) \n",
      "\n",
      "After OverSampling, counts of label '1': 16310\n",
      "After OverSampling, counts of label '0': 16310\n"
     ]
    },
    {
     "name": "stderr",
     "output_type": "stream",
     "text": [
      "C:\\Users\\yeon1\\AppData\\Local\\Packages\\PythonSoftwareFoundation.Python.3.10_qbz5n2kfra8p0\\LocalCache\\local-packages\\Python310\\site-packages\\sklearn\\ensemble\\_forest.py:427: FutureWarning: `max_features='auto'` has been deprecated in 1.1 and will be removed in 1.3. To keep the past behaviour, explicitly set `max_features='sqrt'` or remove this parameter as it is also the default value for RandomForestClassifiers and ExtraTreesClassifiers.\n",
      "  warn(\n"
     ]
    },
    {
     "name": "stdout",
     "output_type": "stream",
     "text": [
      "bucket :  (8, 11)\n"
     ]
    },
    {
     "name": "stderr",
     "output_type": "stream",
     "text": [
      "C:\\Users\\yeon1\\AppData\\Local\\Packages\\PythonSoftwareFoundation.Python.3.10_qbz5n2kfra8p0\\LocalCache\\local-packages\\Python310\\site-packages\\sklearn\\ensemble\\_forest.py:427: FutureWarning: `max_features='auto'` has been deprecated in 1.1 and will be removed in 1.3. To keep the past behaviour, explicitly set `max_features='sqrt'` or remove this parameter as it is also the default value for RandomForestClassifiers and ExtraTreesClassifiers.\n",
      "  warn(\n"
     ]
    },
    {
     "name": "stdout",
     "output_type": "stream",
     "text": [
      "bucket :  (11, 14)\n"
     ]
    },
    {
     "name": "stderr",
     "output_type": "stream",
     "text": [
      "C:\\Users\\yeon1\\AppData\\Local\\Packages\\PythonSoftwareFoundation.Python.3.10_qbz5n2kfra8p0\\LocalCache\\local-packages\\Python310\\site-packages\\sklearn\\ensemble\\_forest.py:427: FutureWarning: `max_features='auto'` has been deprecated in 1.1 and will be removed in 1.3. To keep the past behaviour, explicitly set `max_features='sqrt'` or remove this parameter as it is also the default value for RandomForestClassifiers and ExtraTreesClassifiers.\n",
      "  warn(\n"
     ]
    },
    {
     "name": "stdout",
     "output_type": "stream",
     "text": [
      "bucket :  (14, 17)\n"
     ]
    },
    {
     "name": "stderr",
     "output_type": "stream",
     "text": [
      "C:\\Users\\yeon1\\AppData\\Local\\Packages\\PythonSoftwareFoundation.Python.3.10_qbz5n2kfra8p0\\LocalCache\\local-packages\\Python310\\site-packages\\sklearn\\ensemble\\_forest.py:427: FutureWarning: `max_features='auto'` has been deprecated in 1.1 and will be removed in 1.3. To keep the past behaviour, explicitly set `max_features='sqrt'` or remove this parameter as it is also the default value for RandomForestClassifiers and ExtraTreesClassifiers.\n",
      "  warn(\n"
     ]
    },
    {
     "name": "stdout",
     "output_type": "stream",
     "text": [
      "bucket :  (17, 20)\n"
     ]
    },
    {
     "name": "stderr",
     "output_type": "stream",
     "text": [
      "C:\\Users\\yeon1\\AppData\\Local\\Packages\\PythonSoftwareFoundation.Python.3.10_qbz5n2kfra8p0\\LocalCache\\local-packages\\Python310\\site-packages\\sklearn\\ensemble\\_forest.py:427: FutureWarning: `max_features='auto'` has been deprecated in 1.1 and will be removed in 1.3. To keep the past behaviour, explicitly set `max_features='sqrt'` or remove this parameter as it is also the default value for RandomForestClassifiers and ExtraTreesClassifiers.\n",
      "  warn(\n"
     ]
    },
    {
     "name": "stdout",
     "output_type": "stream",
     "text": [
      "bucket :  (20, 23)\n"
     ]
    },
    {
     "name": "stderr",
     "output_type": "stream",
     "text": [
      "C:\\Users\\yeon1\\AppData\\Local\\Packages\\PythonSoftwareFoundation.Python.3.10_qbz5n2kfra8p0\\LocalCache\\local-packages\\Python310\\site-packages\\sklearn\\ensemble\\_forest.py:427: FutureWarning: `max_features='auto'` has been deprecated in 1.1 and will be removed in 1.3. To keep the past behaviour, explicitly set `max_features='sqrt'` or remove this parameter as it is also the default value for RandomForestClassifiers and ExtraTreesClassifiers.\n",
      "  warn(\n"
     ]
    },
    {
     "name": "stdout",
     "output_type": "stream",
     "text": [
      "bucket :  (23, 26)\n"
     ]
    },
    {
     "name": "stderr",
     "output_type": "stream",
     "text": [
      "C:\\Users\\yeon1\\AppData\\Local\\Packages\\PythonSoftwareFoundation.Python.3.10_qbz5n2kfra8p0\\LocalCache\\local-packages\\Python310\\site-packages\\sklearn\\ensemble\\_forest.py:427: FutureWarning: `max_features='auto'` has been deprecated in 1.1 and will be removed in 1.3. To keep the past behaviour, explicitly set `max_features='sqrt'` or remove this parameter as it is also the default value for RandomForestClassifiers and ExtraTreesClassifiers.\n",
      "  warn(\n"
     ]
    },
    {
     "name": "stdout",
     "output_type": "stream",
     "text": [
      "bucket :  (26, 29)\n"
     ]
    },
    {
     "name": "stderr",
     "output_type": "stream",
     "text": [
      "C:\\Users\\yeon1\\AppData\\Local\\Packages\\PythonSoftwareFoundation.Python.3.10_qbz5n2kfra8p0\\LocalCache\\local-packages\\Python310\\site-packages\\sklearn\\ensemble\\_forest.py:427: FutureWarning: `max_features='auto'` has been deprecated in 1.1 and will be removed in 1.3. To keep the past behaviour, explicitly set `max_features='sqrt'` or remove this parameter as it is also the default value for RandomForestClassifiers and ExtraTreesClassifiers.\n",
      "  warn(\n"
     ]
    },
    {
     "name": "stdout",
     "output_type": "stream",
     "text": [
      "bucket :  (29, 31)\n"
     ]
    },
    {
     "name": "stderr",
     "output_type": "stream",
     "text": [
      "C:\\Users\\yeon1\\AppData\\Local\\Packages\\PythonSoftwareFoundation.Python.3.10_qbz5n2kfra8p0\\LocalCache\\local-packages\\Python310\\site-packages\\sklearn\\ensemble\\_forest.py:427: FutureWarning: `max_features='auto'` has been deprecated in 1.1 and will be removed in 1.3. To keep the past behaviour, explicitly set `max_features='sqrt'` or remove this parameter as it is also the default value for RandomForestClassifiers and ExtraTreesClassifiers.\n",
      "  warn(\n"
     ]
    },
    {
     "name": "stdout",
     "output_type": "stream",
     "text": [
      "bucket :  (31, 33)\n"
     ]
    },
    {
     "name": "stderr",
     "output_type": "stream",
     "text": [
      "C:\\Users\\yeon1\\AppData\\Local\\Packages\\PythonSoftwareFoundation.Python.3.10_qbz5n2kfra8p0\\LocalCache\\local-packages\\Python310\\site-packages\\sklearn\\ensemble\\_forest.py:427: FutureWarning: `max_features='auto'` has been deprecated in 1.1 and will be removed in 1.3. To keep the past behaviour, explicitly set `max_features='sqrt'` or remove this parameter as it is also the default value for RandomForestClassifiers and ExtraTreesClassifiers.\n",
      "  warn(\n"
     ]
    },
    {
     "name": "stdout",
     "output_type": "stream",
     "text": [
      "bucket :  (33, 35)\n"
     ]
    },
    {
     "name": "stderr",
     "output_type": "stream",
     "text": [
      "C:\\Users\\yeon1\\AppData\\Local\\Packages\\PythonSoftwareFoundation.Python.3.10_qbz5n2kfra8p0\\LocalCache\\local-packages\\Python310\\site-packages\\sklearn\\ensemble\\_forest.py:427: FutureWarning: `max_features='auto'` has been deprecated in 1.1 and will be removed in 1.3. To keep the past behaviour, explicitly set `max_features='sqrt'` or remove this parameter as it is also the default value for RandomForestClassifiers and ExtraTreesClassifiers.\n",
      "  warn(\n"
     ]
    },
    {
     "name": "stdout",
     "output_type": "stream",
     "text": [
      "bucket :  (35, 37)\n"
     ]
    },
    {
     "name": "stderr",
     "output_type": "stream",
     "text": [
      "C:\\Users\\yeon1\\AppData\\Local\\Packages\\PythonSoftwareFoundation.Python.3.10_qbz5n2kfra8p0\\LocalCache\\local-packages\\Python310\\site-packages\\sklearn\\ensemble\\_forest.py:427: FutureWarning: `max_features='auto'` has been deprecated in 1.1 and will be removed in 1.3. To keep the past behaviour, explicitly set `max_features='sqrt'` or remove this parameter as it is also the default value for RandomForestClassifiers and ExtraTreesClassifiers.\n",
      "  warn(\n"
     ]
    },
    {
     "name": "stdout",
     "output_type": "stream",
     "text": [
      "bucket :  (37, 39)\n"
     ]
    },
    {
     "name": "stderr",
     "output_type": "stream",
     "text": [
      "C:\\Users\\yeon1\\AppData\\Local\\Packages\\PythonSoftwareFoundation.Python.3.10_qbz5n2kfra8p0\\LocalCache\\local-packages\\Python310\\site-packages\\sklearn\\ensemble\\_forest.py:427: FutureWarning: `max_features='auto'` has been deprecated in 1.1 and will be removed in 1.3. To keep the past behaviour, explicitly set `max_features='sqrt'` or remove this parameter as it is also the default value for RandomForestClassifiers and ExtraTreesClassifiers.\n",
      "  warn(\n"
     ]
    },
    {
     "name": "stdout",
     "output_type": "stream",
     "text": [
      "bucket :  (39, 41)\n"
     ]
    },
    {
     "name": "stderr",
     "output_type": "stream",
     "text": [
      "C:\\Users\\yeon1\\AppData\\Local\\Packages\\PythonSoftwareFoundation.Python.3.10_qbz5n2kfra8p0\\LocalCache\\local-packages\\Python310\\site-packages\\sklearn\\ensemble\\_forest.py:427: FutureWarning: `max_features='auto'` has been deprecated in 1.1 and will be removed in 1.3. To keep the past behaviour, explicitly set `max_features='sqrt'` or remove this parameter as it is also the default value for RandomForestClassifiers and ExtraTreesClassifiers.\n",
      "  warn(\n",
      " 60%|██████    | 12/20 [37:05<25:37, 192.18s/it]"
     ]
    },
    {
     "name": "stdout",
     "output_type": "stream",
     "text": [
      "{'bucketing': 15, 'encoding': 'aggregate', 'drop_act': 6, 'Random Forest': {'n_estimators': 634, 'max_depth': 5, 'max_features': 'log2', 'bootstrap': True, 'criterion': 'entropy'}}\n",
      "bucket :  (2, 5)\n",
      "After OverSampling, the shape of train_X: (46950, 10)\n",
      "After OverSampling, the shape of train_y: (46950,) \n",
      "\n",
      "After OverSampling, counts of label '1': 23475\n",
      "After OverSampling, counts of label '0': 23475\n",
      "bucket :  (5, 8)\n",
      "After OverSampling, the shape of train_X: (32620, 17)\n",
      "After OverSampling, the shape of train_y: (32620,) \n",
      "\n",
      "After OverSampling, counts of label '1': 16310\n",
      "After OverSampling, counts of label '0': 16310\n",
      "bucket :  (8, 11)\n",
      "bucket :  (11, 14)\n",
      "bucket :  (14, 17)\n",
      "bucket :  (17, 20)\n",
      "bucket :  (20, 23)\n",
      "bucket :  (23, 26)\n",
      "bucket :  (26, 29)\n",
      "bucket :  (29, 31)\n",
      "bucket :  (31, 33)\n",
      "bucket :  (33, 35)\n",
      "bucket :  (35, 37)\n",
      "bucket :  (37, 39)\n",
      "bucket :  (39, 41)\n"
     ]
    },
    {
     "name": "stderr",
     "output_type": "stream",
     "text": [
      " 65%|██████▌   | 13/20 [40:43<23:20, 200.06s/it]"
     ]
    },
    {
     "name": "stdout",
     "output_type": "stream",
     "text": [
      "{'bucketing': 35, 'encoding': 'index', 'drop_act': 8, 'Decision Tree': {'max_depth': 4, 'min_samples_leaf': 86, 'criterion': 'gini'}}\n",
      "bucket :  (2, 4)\n",
      "After OverSampling, the shape of train_X: (34594, 11)\n",
      "After OverSampling, the shape of train_y: (34594,) \n",
      "\n",
      "After OverSampling, counts of label '1': 17297\n",
      "After OverSampling, counts of label '0': 17297\n",
      "bucket :  (4, 6)\n",
      "After OverSampling, the shape of train_X: (23472, 19)\n",
      "After OverSampling, the shape of train_y: (23472,) \n",
      "\n",
      "After OverSampling, counts of label '1': 11736\n",
      "After OverSampling, counts of label '0': 11736\n",
      "bucket :  (6, 8)\n",
      "bucket :  (8, 10)\n",
      "bucket :  (10, 11)\n",
      "bucket :  (11, 12)\n",
      "bucket :  (12, 13)\n",
      "bucket :  (13, 14)\n",
      "bucket :  (14, 15)\n",
      "bucket :  (15, 16)\n",
      "bucket :  (16, 17)\n",
      "bucket :  (17, 18)\n",
      "bucket :  (18, 19)\n",
      "bucket :  (19, 20)\n",
      "bucket :  (20, 21)\n",
      "bucket :  (21, 22)\n",
      "bucket :  (22, 23)\n",
      "bucket :  (23, 24)\n",
      "bucket :  (24, 25)\n",
      "bucket :  (25, 26)\n",
      "bucket :  (26, 27)\n",
      "bucket :  (27, 28)\n",
      "bucket :  (28, 29)\n",
      "bucket :  (29, 30)\n",
      "bucket :  (30, 31)\n",
      "bucket :  (31, 32)\n",
      "bucket :  (32, 33)\n",
      "bucket :  (33, 34)\n",
      "bucket :  (34, 35)\n",
      "bucket :  (35, 36)\n",
      "bucket :  (36, 37)\n",
      "bucket :  (37, 38)\n",
      "bucket :  (38, 39)\n",
      "bucket :  (39, 40)\n",
      "bucket :  (40, 41)\n"
     ]
    },
    {
     "name": "stderr",
     "output_type": "stream",
     "text": [
      " 70%|███████   | 14/20 [42:52<17:51, 178.65s/it]"
     ]
    },
    {
     "name": "stdout",
     "output_type": "stream",
     "text": [
      "{'bucketing': 15, 'encoding': 'aggregate', 'drop_act': 6, 'Xgboost': {'max_depth': 14, 'n_estimators': 128, 'learning_rate': 0.05}}\n",
      "bucket :  (2, 5)\n",
      "After OverSampling, the shape of train_X: (46950, 10)\n",
      "After OverSampling, the shape of train_y: (46950,) \n",
      "\n",
      "After OverSampling, counts of label '1': 23475\n",
      "After OverSampling, counts of label '0': 23475\n",
      "bucket :  (5, 8)\n",
      "After OverSampling, the shape of train_X: (32620, 17)\n",
      "After OverSampling, the shape of train_y: (32620,) \n",
      "\n",
      "After OverSampling, counts of label '1': 16310\n",
      "After OverSampling, counts of label '0': 16310\n",
      "bucket :  (8, 11)\n",
      "bucket :  (11, 14)\n",
      "bucket :  (14, 17)\n",
      "bucket :  (17, 20)\n",
      "bucket :  (20, 23)\n",
      "bucket :  (23, 26)\n",
      "bucket :  (26, 29)\n",
      "bucket :  (29, 31)\n",
      "bucket :  (31, 33)\n",
      "bucket :  (33, 35)\n",
      "bucket :  (35, 37)\n",
      "bucket :  (37, 39)\n",
      "bucket :  (39, 41)\n"
     ]
    },
    {
     "name": "stderr",
     "output_type": "stream",
     "text": [
      " 75%|███████▌  | 15/20 [45:58<15:03, 180.67s/it]"
     ]
    },
    {
     "name": "stdout",
     "output_type": "stream",
     "text": [
      "{'bucketing': 6, 'encoding': 'aggregate', 'drop_act': 6, 'Xgboost': {'max_depth': 14, 'n_estimators': 128, 'learning_rate': 0.05}}\n",
      "bucket :  (2, 9)\n",
      "After OverSampling, the shape of train_X: (89050, 17)\n",
      "After OverSampling, the shape of train_y: (89050,) \n",
      "\n",
      "After OverSampling, counts of label '1': 44525\n",
      "After OverSampling, counts of label '0': 44525\n",
      "bucket :  (9, 16)\n",
      "bucket :  (16, 23)\n",
      "bucket :  (23, 29)\n",
      "bucket :  (29, 35)\n",
      "bucket :  (35, 41)\n"
     ]
    },
    {
     "name": "stderr",
     "output_type": "stream",
     "text": [
      " 80%|████████  | 16/20 [49:00<12:04, 181.15s/it]"
     ]
    },
    {
     "name": "stdout",
     "output_type": "stream",
     "text": [
      "{'bucketing': 15, 'encoding': 'aggregate', 'drop_act': 4, 'Random Forest': {'n_estimators': 469, 'max_depth': 13, 'max_features': 'auto', 'bootstrap': False, 'criterion': 'entropy'}}\n",
      "bucket :  (2, 5)\n",
      "After OverSampling, the shape of train_X: (46950, 10)\n",
      "After OverSampling, the shape of train_y: (46950,) \n",
      "\n",
      "After OverSampling, counts of label '1': 23475\n",
      "After OverSampling, counts of label '0': 23475\n"
     ]
    },
    {
     "name": "stderr",
     "output_type": "stream",
     "text": [
      "C:\\Users\\yeon1\\AppData\\Local\\Packages\\PythonSoftwareFoundation.Python.3.10_qbz5n2kfra8p0\\LocalCache\\local-packages\\Python310\\site-packages\\sklearn\\ensemble\\_forest.py:427: FutureWarning: `max_features='auto'` has been deprecated in 1.1 and will be removed in 1.3. To keep the past behaviour, explicitly set `max_features='sqrt'` or remove this parameter as it is also the default value for RandomForestClassifiers and ExtraTreesClassifiers.\n",
      "  warn(\n"
     ]
    },
    {
     "name": "stdout",
     "output_type": "stream",
     "text": [
      "bucket :  (5, 8)\n",
      "After OverSampling, the shape of train_X: (32620, 17)\n",
      "After OverSampling, the shape of train_y: (32620,) \n",
      "\n",
      "After OverSampling, counts of label '1': 16310\n",
      "After OverSampling, counts of label '0': 16310\n"
     ]
    },
    {
     "name": "stderr",
     "output_type": "stream",
     "text": [
      "C:\\Users\\yeon1\\AppData\\Local\\Packages\\PythonSoftwareFoundation.Python.3.10_qbz5n2kfra8p0\\LocalCache\\local-packages\\Python310\\site-packages\\sklearn\\ensemble\\_forest.py:427: FutureWarning: `max_features='auto'` has been deprecated in 1.1 and will be removed in 1.3. To keep the past behaviour, explicitly set `max_features='sqrt'` or remove this parameter as it is also the default value for RandomForestClassifiers and ExtraTreesClassifiers.\n",
      "  warn(\n"
     ]
    },
    {
     "name": "stdout",
     "output_type": "stream",
     "text": [
      "bucket :  (8, 11)\n"
     ]
    },
    {
     "name": "stderr",
     "output_type": "stream",
     "text": [
      "C:\\Users\\yeon1\\AppData\\Local\\Packages\\PythonSoftwareFoundation.Python.3.10_qbz5n2kfra8p0\\LocalCache\\local-packages\\Python310\\site-packages\\sklearn\\ensemble\\_forest.py:427: FutureWarning: `max_features='auto'` has been deprecated in 1.1 and will be removed in 1.3. To keep the past behaviour, explicitly set `max_features='sqrt'` or remove this parameter as it is also the default value for RandomForestClassifiers and ExtraTreesClassifiers.\n",
      "  warn(\n"
     ]
    },
    {
     "name": "stdout",
     "output_type": "stream",
     "text": [
      "bucket :  (11, 14)\n"
     ]
    },
    {
     "name": "stderr",
     "output_type": "stream",
     "text": [
      "C:\\Users\\yeon1\\AppData\\Local\\Packages\\PythonSoftwareFoundation.Python.3.10_qbz5n2kfra8p0\\LocalCache\\local-packages\\Python310\\site-packages\\sklearn\\ensemble\\_forest.py:427: FutureWarning: `max_features='auto'` has been deprecated in 1.1 and will be removed in 1.3. To keep the past behaviour, explicitly set `max_features='sqrt'` or remove this parameter as it is also the default value for RandomForestClassifiers and ExtraTreesClassifiers.\n",
      "  warn(\n"
     ]
    },
    {
     "name": "stdout",
     "output_type": "stream",
     "text": [
      "bucket :  (14, 17)\n"
     ]
    },
    {
     "name": "stderr",
     "output_type": "stream",
     "text": [
      "C:\\Users\\yeon1\\AppData\\Local\\Packages\\PythonSoftwareFoundation.Python.3.10_qbz5n2kfra8p0\\LocalCache\\local-packages\\Python310\\site-packages\\sklearn\\ensemble\\_forest.py:427: FutureWarning: `max_features='auto'` has been deprecated in 1.1 and will be removed in 1.3. To keep the past behaviour, explicitly set `max_features='sqrt'` or remove this parameter as it is also the default value for RandomForestClassifiers and ExtraTreesClassifiers.\n",
      "  warn(\n"
     ]
    },
    {
     "name": "stdout",
     "output_type": "stream",
     "text": [
      "bucket :  (17, 20)\n"
     ]
    },
    {
     "name": "stderr",
     "output_type": "stream",
     "text": [
      "C:\\Users\\yeon1\\AppData\\Local\\Packages\\PythonSoftwareFoundation.Python.3.10_qbz5n2kfra8p0\\LocalCache\\local-packages\\Python310\\site-packages\\sklearn\\ensemble\\_forest.py:427: FutureWarning: `max_features='auto'` has been deprecated in 1.1 and will be removed in 1.3. To keep the past behaviour, explicitly set `max_features='sqrt'` or remove this parameter as it is also the default value for RandomForestClassifiers and ExtraTreesClassifiers.\n",
      "  warn(\n"
     ]
    },
    {
     "name": "stdout",
     "output_type": "stream",
     "text": [
      "bucket :  (20, 23)\n"
     ]
    },
    {
     "name": "stderr",
     "output_type": "stream",
     "text": [
      "C:\\Users\\yeon1\\AppData\\Local\\Packages\\PythonSoftwareFoundation.Python.3.10_qbz5n2kfra8p0\\LocalCache\\local-packages\\Python310\\site-packages\\sklearn\\ensemble\\_forest.py:427: FutureWarning: `max_features='auto'` has been deprecated in 1.1 and will be removed in 1.3. To keep the past behaviour, explicitly set `max_features='sqrt'` or remove this parameter as it is also the default value for RandomForestClassifiers and ExtraTreesClassifiers.\n",
      "  warn(\n"
     ]
    },
    {
     "name": "stdout",
     "output_type": "stream",
     "text": [
      "bucket :  (23, 26)\n"
     ]
    },
    {
     "name": "stderr",
     "output_type": "stream",
     "text": [
      "C:\\Users\\yeon1\\AppData\\Local\\Packages\\PythonSoftwareFoundation.Python.3.10_qbz5n2kfra8p0\\LocalCache\\local-packages\\Python310\\site-packages\\sklearn\\ensemble\\_forest.py:427: FutureWarning: `max_features='auto'` has been deprecated in 1.1 and will be removed in 1.3. To keep the past behaviour, explicitly set `max_features='sqrt'` or remove this parameter as it is also the default value for RandomForestClassifiers and ExtraTreesClassifiers.\n",
      "  warn(\n"
     ]
    },
    {
     "name": "stdout",
     "output_type": "stream",
     "text": [
      "bucket :  (26, 29)\n"
     ]
    },
    {
     "name": "stderr",
     "output_type": "stream",
     "text": [
      "C:\\Users\\yeon1\\AppData\\Local\\Packages\\PythonSoftwareFoundation.Python.3.10_qbz5n2kfra8p0\\LocalCache\\local-packages\\Python310\\site-packages\\sklearn\\ensemble\\_forest.py:427: FutureWarning: `max_features='auto'` has been deprecated in 1.1 and will be removed in 1.3. To keep the past behaviour, explicitly set `max_features='sqrt'` or remove this parameter as it is also the default value for RandomForestClassifiers and ExtraTreesClassifiers.\n",
      "  warn(\n"
     ]
    },
    {
     "name": "stdout",
     "output_type": "stream",
     "text": [
      "bucket :  (29, 31)\n"
     ]
    },
    {
     "name": "stderr",
     "output_type": "stream",
     "text": [
      "C:\\Users\\yeon1\\AppData\\Local\\Packages\\PythonSoftwareFoundation.Python.3.10_qbz5n2kfra8p0\\LocalCache\\local-packages\\Python310\\site-packages\\sklearn\\ensemble\\_forest.py:427: FutureWarning: `max_features='auto'` has been deprecated in 1.1 and will be removed in 1.3. To keep the past behaviour, explicitly set `max_features='sqrt'` or remove this parameter as it is also the default value for RandomForestClassifiers and ExtraTreesClassifiers.\n",
      "  warn(\n"
     ]
    },
    {
     "name": "stdout",
     "output_type": "stream",
     "text": [
      "bucket :  (31, 33)\n"
     ]
    },
    {
     "name": "stderr",
     "output_type": "stream",
     "text": [
      "C:\\Users\\yeon1\\AppData\\Local\\Packages\\PythonSoftwareFoundation.Python.3.10_qbz5n2kfra8p0\\LocalCache\\local-packages\\Python310\\site-packages\\sklearn\\ensemble\\_forest.py:427: FutureWarning: `max_features='auto'` has been deprecated in 1.1 and will be removed in 1.3. To keep the past behaviour, explicitly set `max_features='sqrt'` or remove this parameter as it is also the default value for RandomForestClassifiers and ExtraTreesClassifiers.\n",
      "  warn(\n"
     ]
    },
    {
     "name": "stdout",
     "output_type": "stream",
     "text": [
      "bucket :  (33, 35)\n"
     ]
    },
    {
     "name": "stderr",
     "output_type": "stream",
     "text": [
      "C:\\Users\\yeon1\\AppData\\Local\\Packages\\PythonSoftwareFoundation.Python.3.10_qbz5n2kfra8p0\\LocalCache\\local-packages\\Python310\\site-packages\\sklearn\\ensemble\\_forest.py:427: FutureWarning: `max_features='auto'` has been deprecated in 1.1 and will be removed in 1.3. To keep the past behaviour, explicitly set `max_features='sqrt'` or remove this parameter as it is also the default value for RandomForestClassifiers and ExtraTreesClassifiers.\n",
      "  warn(\n"
     ]
    },
    {
     "name": "stdout",
     "output_type": "stream",
     "text": [
      "bucket :  (35, 37)\n"
     ]
    },
    {
     "name": "stderr",
     "output_type": "stream",
     "text": [
      "C:\\Users\\yeon1\\AppData\\Local\\Packages\\PythonSoftwareFoundation.Python.3.10_qbz5n2kfra8p0\\LocalCache\\local-packages\\Python310\\site-packages\\sklearn\\ensemble\\_forest.py:427: FutureWarning: `max_features='auto'` has been deprecated in 1.1 and will be removed in 1.3. To keep the past behaviour, explicitly set `max_features='sqrt'` or remove this parameter as it is also the default value for RandomForestClassifiers and ExtraTreesClassifiers.\n",
      "  warn(\n"
     ]
    },
    {
     "name": "stdout",
     "output_type": "stream",
     "text": [
      "bucket :  (37, 39)\n"
     ]
    },
    {
     "name": "stderr",
     "output_type": "stream",
     "text": [
      "C:\\Users\\yeon1\\AppData\\Local\\Packages\\PythonSoftwareFoundation.Python.3.10_qbz5n2kfra8p0\\LocalCache\\local-packages\\Python310\\site-packages\\sklearn\\ensemble\\_forest.py:427: FutureWarning: `max_features='auto'` has been deprecated in 1.1 and will be removed in 1.3. To keep the past behaviour, explicitly set `max_features='sqrt'` or remove this parameter as it is also the default value for RandomForestClassifiers and ExtraTreesClassifiers.\n",
      "  warn(\n"
     ]
    },
    {
     "name": "stdout",
     "output_type": "stream",
     "text": [
      "bucket :  (39, 41)\n"
     ]
    },
    {
     "name": "stderr",
     "output_type": "stream",
     "text": [
      "C:\\Users\\yeon1\\AppData\\Local\\Packages\\PythonSoftwareFoundation.Python.3.10_qbz5n2kfra8p0\\LocalCache\\local-packages\\Python310\\site-packages\\sklearn\\ensemble\\_forest.py:427: FutureWarning: `max_features='auto'` has been deprecated in 1.1 and will be removed in 1.3. To keep the past behaviour, explicitly set `max_features='sqrt'` or remove this parameter as it is also the default value for RandomForestClassifiers and ExtraTreesClassifiers.\n",
      "  warn(\n",
      " 85%|████████▌ | 17/20 [53:24<10:17, 205.98s/it]"
     ]
    },
    {
     "name": "stdout",
     "output_type": "stream",
     "text": [
      "{'bucketing': 21, 'encoding': 'aggregate', 'drop_act': 6, 'LightGBM': {'max_depth': 4, 'num_leaves': 87, 'min_child_samples': 9}}\n",
      "bucket :  (2, 4)\n",
      "After OverSampling, the shape of train_X: (34594, 8)\n",
      "After OverSampling, the shape of train_y: (34594,) \n",
      "\n",
      "After OverSampling, counts of label '1': 17297\n",
      "After OverSampling, counts of label '0': 17297\n",
      "bucket :  (4, 6)\n",
      "After OverSampling, the shape of train_X: (23472, 13)\n",
      "After OverSampling, the shape of train_y: (23472,) \n",
      "\n",
      "After OverSampling, counts of label '1': 11736\n",
      "After OverSampling, counts of label '0': 11736\n",
      "bucket :  (6, 8)\n",
      "bucket :  (8, 10)\n",
      "bucket :  (10, 12)\n",
      "bucket :  (12, 14)\n",
      "bucket :  (14, 16)\n",
      "bucket :  (16, 18)\n",
      "bucket :  (18, 20)\n",
      "bucket :  (20, 22)\n",
      "bucket :  (22, 24)\n",
      "bucket :  (24, 26)\n",
      "bucket :  (26, 28)\n",
      "bucket :  (28, 30)\n",
      "bucket :  (30, 32)\n",
      "bucket :  (32, 34)\n",
      "bucket :  (34, 36)\n",
      "bucket :  (36, 38)\n",
      "bucket :  (38, 39)\n",
      "bucket :  (39, 40)\n",
      "bucket :  (40, 41)\n"
     ]
    },
    {
     "name": "stderr",
     "output_type": "stream",
     "text": [
      " 90%|█████████ | 18/20 [56:14<06:30, 195.23s/it]"
     ]
    },
    {
     "name": "stdout",
     "output_type": "stream",
     "text": [
      "{'bucketing': 21, 'encoding': 'aggregate', 'drop_act': 6, 'Random Forest': {'n_estimators': 634, 'max_depth': 5, 'max_features': 'log2', 'bootstrap': True, 'criterion': 'entropy'}}\n",
      "bucket :  (2, 4)\n",
      "After OverSampling, the shape of train_X: (34594, 8)\n",
      "After OverSampling, the shape of train_y: (34594,) \n",
      "\n",
      "After OverSampling, counts of label '1': 17297\n",
      "After OverSampling, counts of label '0': 17297\n",
      "bucket :  (4, 6)\n",
      "After OverSampling, the shape of train_X: (23472, 13)\n",
      "After OverSampling, the shape of train_y: (23472,) \n",
      "\n",
      "After OverSampling, counts of label '1': 11736\n",
      "After OverSampling, counts of label '0': 11736\n",
      "bucket :  (6, 8)\n",
      "bucket :  (8, 10)\n",
      "bucket :  (10, 12)\n",
      "bucket :  (12, 14)\n",
      "bucket :  (14, 16)\n",
      "bucket :  (16, 18)\n",
      "bucket :  (18, 20)\n",
      "bucket :  (20, 22)\n",
      "bucket :  (22, 24)\n",
      "bucket :  (24, 26)\n",
      "bucket :  (26, 28)\n",
      "bucket :  (28, 30)\n",
      "bucket :  (30, 32)\n",
      "bucket :  (32, 34)\n",
      "bucket :  (34, 36)\n",
      "bucket :  (36, 38)\n",
      "bucket :  (38, 39)\n",
      "bucket :  (39, 40)\n",
      "bucket :  (40, 41)\n"
     ]
    },
    {
     "name": "stderr",
     "output_type": "stream",
     "text": [
      " 95%|█████████▌| 19/20 [59:57<03:23, 203.56s/it]"
     ]
    },
    {
     "name": "stdout",
     "output_type": "stream",
     "text": [
      "{'bucketing': 15, 'encoding': 'aggregate', 'drop_act': 6, 'Random Forest': {'n_estimators': 634, 'max_depth': 5, 'max_features': 'log2', 'bootstrap': True, 'criterion': 'entropy'}}\n",
      "bucket :  (2, 5)\n",
      "After OverSampling, the shape of train_X: (46950, 10)\n",
      "After OverSampling, the shape of train_y: (46950,) \n",
      "\n",
      "After OverSampling, counts of label '1': 23475\n",
      "After OverSampling, counts of label '0': 23475\n",
      "bucket :  (5, 8)\n",
      "After OverSampling, the shape of train_X: (32620, 17)\n",
      "After OverSampling, the shape of train_y: (32620,) \n",
      "\n",
      "After OverSampling, counts of label '1': 16310\n",
      "After OverSampling, counts of label '0': 16310\n",
      "bucket :  (8, 11)\n",
      "bucket :  (11, 14)\n",
      "bucket :  (14, 17)\n",
      "bucket :  (17, 20)\n",
      "bucket :  (20, 23)\n",
      "bucket :  (23, 26)\n",
      "bucket :  (26, 29)\n",
      "bucket :  (29, 31)\n",
      "bucket :  (31, 33)\n",
      "bucket :  (33, 35)\n",
      "bucket :  (35, 37)\n",
      "bucket :  (37, 39)\n",
      "bucket :  (39, 41)\n"
     ]
    },
    {
     "name": "stderr",
     "output_type": "stream",
     "text": [
      "100%|██████████| 20/20 [1:03:36<00:00, 190.80s/it]\n",
      "  0%|          | 0/20 [00:00<?, ?it/s]"
     ]
    },
    {
     "name": "stdout",
     "output_type": "stream",
     "text": [
      "{'bucketing': 2, 'encoding': 'index', 'drop_act': 6, 'LightGBM': {'max_depth': 4, 'num_leaves': 87, 'min_child_samples': 9}}\n",
      "bucket :  (2, 22)\n",
      "bucket :  (22, 41)\n"
     ]
    },
    {
     "name": "stderr",
     "output_type": "stream",
     "text": [
      "  5%|▌         | 1/20 [02:13<42:20, 133.69s/it]"
     ]
    },
    {
     "name": "stdout",
     "output_type": "stream",
     "text": [
      "{'bucketing': 21, 'encoding': 'aggregate', 'drop_act': 6, 'Xgboost': {'max_depth': 14, 'n_estimators': 128, 'learning_rate': 0.05}}\n",
      "bucket :  (2, 4)\n",
      "After OverSampling, the shape of train_X: (34594, 8)\n",
      "After OverSampling, the shape of train_y: (34594,) \n",
      "\n",
      "After OverSampling, counts of label '1': 17297\n",
      "After OverSampling, counts of label '0': 17297\n",
      "bucket :  (4, 6)\n",
      "After OverSampling, the shape of train_X: (23472, 13)\n",
      "After OverSampling, the shape of train_y: (23472,) \n",
      "\n",
      "After OverSampling, counts of label '1': 11736\n",
      "After OverSampling, counts of label '0': 11736\n",
      "bucket :  (6, 8)\n",
      "bucket :  (8, 10)\n",
      "bucket :  (10, 12)\n",
      "bucket :  (12, 14)\n",
      "bucket :  (14, 16)\n",
      "bucket :  (16, 18)\n",
      "bucket :  (18, 20)\n",
      "bucket :  (20, 22)\n",
      "bucket :  (22, 24)\n",
      "bucket :  (24, 26)\n",
      "bucket :  (26, 28)\n",
      "bucket :  (28, 30)\n",
      "bucket :  (30, 32)\n",
      "bucket :  (32, 34)\n",
      "bucket :  (34, 36)\n",
      "bucket :  (36, 38)\n",
      "bucket :  (38, 39)\n",
      "bucket :  (39, 40)\n",
      "bucket :  (40, 41)\n"
     ]
    },
    {
     "name": "stderr",
     "output_type": "stream",
     "text": [
      " 10%|█         | 2/20 [05:20<49:24, 164.70s/it]"
     ]
    },
    {
     "name": "stdout",
     "output_type": "stream",
     "text": [
      "{'bucketing': 8, 'encoding': 'aggregate', 'drop_act': 4, 'Xgboost': {'max_depth': 14, 'n_estimators': 128, 'learning_rate': 0.05}}\n",
      "bucket :  (2, 7)\n",
      "After OverSampling, the shape of train_X: (70588, 15)\n",
      "After OverSampling, the shape of train_y: (70588,) \n",
      "\n",
      "After OverSampling, counts of label '1': 35294\n",
      "After OverSampling, counts of label '0': 35294\n",
      "bucket :  (7, 12)\n",
      "bucket :  (12, 17)\n",
      "bucket :  (17, 22)\n",
      "bucket :  (22, 27)\n",
      "bucket :  (27, 32)\n",
      "bucket :  (32, 37)\n",
      "bucket :  (37, 41)\n"
     ]
    },
    {
     "name": "stderr",
     "output_type": "stream",
     "text": [
      " 15%|█▌        | 3/20 [08:23<49:06, 173.35s/it]"
     ]
    },
    {
     "name": "stdout",
     "output_type": "stream",
     "text": [
      "{'bucketing': 6, 'encoding': 'index', 'drop_act': 2, 'Decision Tree': {'max_depth': 4, 'min_samples_leaf': 86, 'criterion': 'gini'}}\n",
      "bucket :  (2, 9)\n",
      "After OverSampling, the shape of train_X: (89400, 63)\n",
      "After OverSampling, the shape of train_y: (89400,) \n",
      "\n",
      "After OverSampling, counts of label '1': 44700\n",
      "After OverSampling, counts of label '0': 44700\n",
      "bucket :  (9, 16)\n",
      "bucket :  (16, 23)\n",
      "bucket :  (23, 29)\n",
      "bucket :  (29, 35)\n",
      "bucket :  (35, 41)\n"
     ]
    },
    {
     "name": "stderr",
     "output_type": "stream",
     "text": [
      " 20%|██        | 4/20 [10:37<42:02, 157.65s/it]"
     ]
    },
    {
     "name": "stdout",
     "output_type": "stream",
     "text": [
      "{'bucketing': 15, 'encoding': 'aggregate', 'drop_act': 6, 'Xgboost': {'max_depth': 14, 'n_estimators': 128, 'learning_rate': 0.05}}\n",
      "bucket :  (2, 5)\n",
      "After OverSampling, the shape of train_X: (46950, 10)\n",
      "After OverSampling, the shape of train_y: (46950,) \n",
      "\n",
      "After OverSampling, counts of label '1': 23475\n",
      "After OverSampling, counts of label '0': 23475\n",
      "bucket :  (5, 8)\n",
      "After OverSampling, the shape of train_X: (32620, 17)\n",
      "After OverSampling, the shape of train_y: (32620,) \n",
      "\n",
      "After OverSampling, counts of label '1': 16310\n",
      "After OverSampling, counts of label '0': 16310\n",
      "bucket :  (8, 11)\n",
      "bucket :  (11, 14)\n",
      "bucket :  (14, 17)\n",
      "bucket :  (17, 20)\n",
      "bucket :  (20, 23)\n",
      "bucket :  (23, 26)\n",
      "bucket :  (26, 29)\n",
      "bucket :  (29, 31)\n",
      "bucket :  (31, 33)\n",
      "bucket :  (33, 35)\n",
      "bucket :  (35, 37)\n",
      "bucket :  (37, 39)\n",
      "bucket :  (39, 41)\n"
     ]
    },
    {
     "name": "stderr",
     "output_type": "stream",
     "text": [
      " 25%|██▌       | 5/20 [13:41<41:47, 167.16s/it]"
     ]
    },
    {
     "name": "stdout",
     "output_type": "stream",
     "text": [
      "{'bucketing': 15, 'encoding': 'aggregate', 'drop_act': 4, 'Random Forest': {'n_estimators': 469, 'max_depth': 13, 'max_features': 'auto', 'bootstrap': False, 'criterion': 'entropy'}}\n",
      "bucket :  (2, 5)\n",
      "After OverSampling, the shape of train_X: (46950, 10)\n",
      "After OverSampling, the shape of train_y: (46950,) \n",
      "\n",
      "After OverSampling, counts of label '1': 23475\n",
      "After OverSampling, counts of label '0': 23475\n"
     ]
    },
    {
     "name": "stderr",
     "output_type": "stream",
     "text": [
      "C:\\Users\\yeon1\\AppData\\Local\\Packages\\PythonSoftwareFoundation.Python.3.10_qbz5n2kfra8p0\\LocalCache\\local-packages\\Python310\\site-packages\\sklearn\\ensemble\\_forest.py:427: FutureWarning: `max_features='auto'` has been deprecated in 1.1 and will be removed in 1.3. To keep the past behaviour, explicitly set `max_features='sqrt'` or remove this parameter as it is also the default value for RandomForestClassifiers and ExtraTreesClassifiers.\n",
      "  warn(\n"
     ]
    },
    {
     "name": "stdout",
     "output_type": "stream",
     "text": [
      "bucket :  (5, 8)\n",
      "After OverSampling, the shape of train_X: (32620, 17)\n",
      "After OverSampling, the shape of train_y: (32620,) \n",
      "\n",
      "After OverSampling, counts of label '1': 16310\n",
      "After OverSampling, counts of label '0': 16310\n"
     ]
    },
    {
     "name": "stderr",
     "output_type": "stream",
     "text": [
      "C:\\Users\\yeon1\\AppData\\Local\\Packages\\PythonSoftwareFoundation.Python.3.10_qbz5n2kfra8p0\\LocalCache\\local-packages\\Python310\\site-packages\\sklearn\\ensemble\\_forest.py:427: FutureWarning: `max_features='auto'` has been deprecated in 1.1 and will be removed in 1.3. To keep the past behaviour, explicitly set `max_features='sqrt'` or remove this parameter as it is also the default value for RandomForestClassifiers and ExtraTreesClassifiers.\n",
      "  warn(\n"
     ]
    },
    {
     "name": "stdout",
     "output_type": "stream",
     "text": [
      "bucket :  (8, 11)\n"
     ]
    },
    {
     "name": "stderr",
     "output_type": "stream",
     "text": [
      "C:\\Users\\yeon1\\AppData\\Local\\Packages\\PythonSoftwareFoundation.Python.3.10_qbz5n2kfra8p0\\LocalCache\\local-packages\\Python310\\site-packages\\sklearn\\ensemble\\_forest.py:427: FutureWarning: `max_features='auto'` has been deprecated in 1.1 and will be removed in 1.3. To keep the past behaviour, explicitly set `max_features='sqrt'` or remove this parameter as it is also the default value for RandomForestClassifiers and ExtraTreesClassifiers.\n",
      "  warn(\n"
     ]
    },
    {
     "name": "stdout",
     "output_type": "stream",
     "text": [
      "bucket :  (11, 14)\n"
     ]
    },
    {
     "name": "stderr",
     "output_type": "stream",
     "text": [
      "C:\\Users\\yeon1\\AppData\\Local\\Packages\\PythonSoftwareFoundation.Python.3.10_qbz5n2kfra8p0\\LocalCache\\local-packages\\Python310\\site-packages\\sklearn\\ensemble\\_forest.py:427: FutureWarning: `max_features='auto'` has been deprecated in 1.1 and will be removed in 1.3. To keep the past behaviour, explicitly set `max_features='sqrt'` or remove this parameter as it is also the default value for RandomForestClassifiers and ExtraTreesClassifiers.\n",
      "  warn(\n"
     ]
    },
    {
     "name": "stdout",
     "output_type": "stream",
     "text": [
      "bucket :  (14, 17)\n"
     ]
    },
    {
     "name": "stderr",
     "output_type": "stream",
     "text": [
      "C:\\Users\\yeon1\\AppData\\Local\\Packages\\PythonSoftwareFoundation.Python.3.10_qbz5n2kfra8p0\\LocalCache\\local-packages\\Python310\\site-packages\\sklearn\\ensemble\\_forest.py:427: FutureWarning: `max_features='auto'` has been deprecated in 1.1 and will be removed in 1.3. To keep the past behaviour, explicitly set `max_features='sqrt'` or remove this parameter as it is also the default value for RandomForestClassifiers and ExtraTreesClassifiers.\n",
      "  warn(\n"
     ]
    },
    {
     "name": "stdout",
     "output_type": "stream",
     "text": [
      "bucket :  (17, 20)\n"
     ]
    },
    {
     "name": "stderr",
     "output_type": "stream",
     "text": [
      "C:\\Users\\yeon1\\AppData\\Local\\Packages\\PythonSoftwareFoundation.Python.3.10_qbz5n2kfra8p0\\LocalCache\\local-packages\\Python310\\site-packages\\sklearn\\ensemble\\_forest.py:427: FutureWarning: `max_features='auto'` has been deprecated in 1.1 and will be removed in 1.3. To keep the past behaviour, explicitly set `max_features='sqrt'` or remove this parameter as it is also the default value for RandomForestClassifiers and ExtraTreesClassifiers.\n",
      "  warn(\n"
     ]
    },
    {
     "name": "stdout",
     "output_type": "stream",
     "text": [
      "bucket :  (20, 23)\n"
     ]
    },
    {
     "name": "stderr",
     "output_type": "stream",
     "text": [
      "C:\\Users\\yeon1\\AppData\\Local\\Packages\\PythonSoftwareFoundation.Python.3.10_qbz5n2kfra8p0\\LocalCache\\local-packages\\Python310\\site-packages\\sklearn\\ensemble\\_forest.py:427: FutureWarning: `max_features='auto'` has been deprecated in 1.1 and will be removed in 1.3. To keep the past behaviour, explicitly set `max_features='sqrt'` or remove this parameter as it is also the default value for RandomForestClassifiers and ExtraTreesClassifiers.\n",
      "  warn(\n"
     ]
    },
    {
     "name": "stdout",
     "output_type": "stream",
     "text": [
      "bucket :  (23, 26)\n"
     ]
    },
    {
     "name": "stderr",
     "output_type": "stream",
     "text": [
      "C:\\Users\\yeon1\\AppData\\Local\\Packages\\PythonSoftwareFoundation.Python.3.10_qbz5n2kfra8p0\\LocalCache\\local-packages\\Python310\\site-packages\\sklearn\\ensemble\\_forest.py:427: FutureWarning: `max_features='auto'` has been deprecated in 1.1 and will be removed in 1.3. To keep the past behaviour, explicitly set `max_features='sqrt'` or remove this parameter as it is also the default value for RandomForestClassifiers and ExtraTreesClassifiers.\n",
      "  warn(\n"
     ]
    },
    {
     "name": "stdout",
     "output_type": "stream",
     "text": [
      "bucket :  (26, 29)\n"
     ]
    },
    {
     "name": "stderr",
     "output_type": "stream",
     "text": [
      "C:\\Users\\yeon1\\AppData\\Local\\Packages\\PythonSoftwareFoundation.Python.3.10_qbz5n2kfra8p0\\LocalCache\\local-packages\\Python310\\site-packages\\sklearn\\ensemble\\_forest.py:427: FutureWarning: `max_features='auto'` has been deprecated in 1.1 and will be removed in 1.3. To keep the past behaviour, explicitly set `max_features='sqrt'` or remove this parameter as it is also the default value for RandomForestClassifiers and ExtraTreesClassifiers.\n",
      "  warn(\n"
     ]
    },
    {
     "name": "stdout",
     "output_type": "stream",
     "text": [
      "bucket :  (29, 31)\n"
     ]
    },
    {
     "name": "stderr",
     "output_type": "stream",
     "text": [
      "C:\\Users\\yeon1\\AppData\\Local\\Packages\\PythonSoftwareFoundation.Python.3.10_qbz5n2kfra8p0\\LocalCache\\local-packages\\Python310\\site-packages\\sklearn\\ensemble\\_forest.py:427: FutureWarning: `max_features='auto'` has been deprecated in 1.1 and will be removed in 1.3. To keep the past behaviour, explicitly set `max_features='sqrt'` or remove this parameter as it is also the default value for RandomForestClassifiers and ExtraTreesClassifiers.\n",
      "  warn(\n"
     ]
    },
    {
     "name": "stdout",
     "output_type": "stream",
     "text": [
      "bucket :  (31, 33)\n"
     ]
    },
    {
     "name": "stderr",
     "output_type": "stream",
     "text": [
      "C:\\Users\\yeon1\\AppData\\Local\\Packages\\PythonSoftwareFoundation.Python.3.10_qbz5n2kfra8p0\\LocalCache\\local-packages\\Python310\\site-packages\\sklearn\\ensemble\\_forest.py:427: FutureWarning: `max_features='auto'` has been deprecated in 1.1 and will be removed in 1.3. To keep the past behaviour, explicitly set `max_features='sqrt'` or remove this parameter as it is also the default value for RandomForestClassifiers and ExtraTreesClassifiers.\n",
      "  warn(\n"
     ]
    },
    {
     "name": "stdout",
     "output_type": "stream",
     "text": [
      "bucket :  (33, 35)\n"
     ]
    },
    {
     "name": "stderr",
     "output_type": "stream",
     "text": [
      "C:\\Users\\yeon1\\AppData\\Local\\Packages\\PythonSoftwareFoundation.Python.3.10_qbz5n2kfra8p0\\LocalCache\\local-packages\\Python310\\site-packages\\sklearn\\ensemble\\_forest.py:427: FutureWarning: `max_features='auto'` has been deprecated in 1.1 and will be removed in 1.3. To keep the past behaviour, explicitly set `max_features='sqrt'` or remove this parameter as it is also the default value for RandomForestClassifiers and ExtraTreesClassifiers.\n",
      "  warn(\n"
     ]
    },
    {
     "name": "stdout",
     "output_type": "stream",
     "text": [
      "bucket :  (35, 37)\n"
     ]
    },
    {
     "name": "stderr",
     "output_type": "stream",
     "text": [
      "C:\\Users\\yeon1\\AppData\\Local\\Packages\\PythonSoftwareFoundation.Python.3.10_qbz5n2kfra8p0\\LocalCache\\local-packages\\Python310\\site-packages\\sklearn\\ensemble\\_forest.py:427: FutureWarning: `max_features='auto'` has been deprecated in 1.1 and will be removed in 1.3. To keep the past behaviour, explicitly set `max_features='sqrt'` or remove this parameter as it is also the default value for RandomForestClassifiers and ExtraTreesClassifiers.\n",
      "  warn(\n"
     ]
    },
    {
     "name": "stdout",
     "output_type": "stream",
     "text": [
      "bucket :  (37, 39)\n"
     ]
    },
    {
     "name": "stderr",
     "output_type": "stream",
     "text": [
      "C:\\Users\\yeon1\\AppData\\Local\\Packages\\PythonSoftwareFoundation.Python.3.10_qbz5n2kfra8p0\\LocalCache\\local-packages\\Python310\\site-packages\\sklearn\\ensemble\\_forest.py:427: FutureWarning: `max_features='auto'` has been deprecated in 1.1 and will be removed in 1.3. To keep the past behaviour, explicitly set `max_features='sqrt'` or remove this parameter as it is also the default value for RandomForestClassifiers and ExtraTreesClassifiers.\n",
      "  warn(\n"
     ]
    },
    {
     "name": "stdout",
     "output_type": "stream",
     "text": [
      "bucket :  (39, 41)\n"
     ]
    },
    {
     "name": "stderr",
     "output_type": "stream",
     "text": [
      "C:\\Users\\yeon1\\AppData\\Local\\Packages\\PythonSoftwareFoundation.Python.3.10_qbz5n2kfra8p0\\LocalCache\\local-packages\\Python310\\site-packages\\sklearn\\ensemble\\_forest.py:427: FutureWarning: `max_features='auto'` has been deprecated in 1.1 and will be removed in 1.3. To keep the past behaviour, explicitly set `max_features='sqrt'` or remove this parameter as it is also the default value for RandomForestClassifiers and ExtraTreesClassifiers.\n",
      "  warn(\n",
      " 30%|███       | 6/20 [18:04<46:36, 199.78s/it]"
     ]
    },
    {
     "name": "stdout",
     "output_type": "stream",
     "text": [
      "{'bucketing': 26, 'encoding': 'index', 'drop_act': 8, 'Decision Tree': {'max_depth': 4, 'min_samples_leaf': 86, 'criterion': 'gini'}}\n",
      "bucket :  (2, 4)\n",
      "After OverSampling, the shape of train_X: (34594, 11)\n",
      "After OverSampling, the shape of train_y: (34594,) \n",
      "\n",
      "After OverSampling, counts of label '1': 17297\n",
      "After OverSampling, counts of label '0': 17297\n",
      "bucket :  (4, 6)\n",
      "After OverSampling, the shape of train_X: (23472, 19)\n",
      "After OverSampling, the shape of train_y: (23472,) \n",
      "\n",
      "After OverSampling, counts of label '1': 11736\n",
      "After OverSampling, counts of label '0': 11736\n",
      "bucket :  (6, 8)\n",
      "bucket :  (8, 10)\n",
      "bucket :  (10, 12)\n",
      "bucket :  (12, 14)\n",
      "bucket :  (14, 16)\n",
      "bucket :  (16, 18)\n",
      "bucket :  (18, 20)\n",
      "bucket :  (20, 22)\n",
      "bucket :  (22, 24)\n",
      "bucket :  (24, 26)\n",
      "bucket :  (26, 28)\n",
      "bucket :  (28, 29)\n",
      "bucket :  (29, 30)\n",
      "bucket :  (30, 31)\n",
      "bucket :  (31, 32)\n",
      "bucket :  (32, 33)\n",
      "bucket :  (33, 34)\n",
      "bucket :  (34, 35)\n",
      "bucket :  (35, 36)\n",
      "bucket :  (36, 37)\n",
      "bucket :  (37, 38)\n",
      "bucket :  (38, 39)\n",
      "bucket :  (39, 40)\n",
      "bucket :  (40, 41)\n"
     ]
    },
    {
     "name": "stderr",
     "output_type": "stream",
     "text": [
      " 35%|███▌      | 7/20 [20:14<38:22, 177.15s/it]"
     ]
    },
    {
     "name": "stdout",
     "output_type": "stream",
     "text": [
      "{'bucketing': 21, 'encoding': 'aggregate', 'drop_act': 6, 'Random Forest': {'n_estimators': 634, 'max_depth': 5, 'max_features': 'log2', 'bootstrap': True, 'criterion': 'entropy'}}\n",
      "bucket :  (2, 4)\n",
      "After OverSampling, the shape of train_X: (34594, 8)\n",
      "After OverSampling, the shape of train_y: (34594,) \n",
      "\n",
      "After OverSampling, counts of label '1': 17297\n",
      "After OverSampling, counts of label '0': 17297\n",
      "bucket :  (4, 6)\n",
      "After OverSampling, the shape of train_X: (23472, 13)\n",
      "After OverSampling, the shape of train_y: (23472,) \n",
      "\n",
      "After OverSampling, counts of label '1': 11736\n",
      "After OverSampling, counts of label '0': 11736\n",
      "bucket :  (6, 8)\n",
      "bucket :  (8, 10)\n",
      "bucket :  (10, 12)\n",
      "bucket :  (12, 14)\n",
      "bucket :  (14, 16)\n",
      "bucket :  (16, 18)\n",
      "bucket :  (18, 20)\n",
      "bucket :  (20, 22)\n",
      "bucket :  (22, 24)\n",
      "bucket :  (24, 26)\n",
      "bucket :  (26, 28)\n",
      "bucket :  (28, 30)\n",
      "bucket :  (30, 32)\n",
      "bucket :  (32, 34)\n",
      "bucket :  (34, 36)\n",
      "bucket :  (36, 38)\n",
      "bucket :  (38, 39)\n",
      "bucket :  (39, 40)\n",
      "bucket :  (40, 41)\n"
     ]
    },
    {
     "name": "stderr",
     "output_type": "stream",
     "text": [
      " 40%|████      | 8/20 [23:58<38:21, 191.82s/it]"
     ]
    },
    {
     "name": "stdout",
     "output_type": "stream",
     "text": [
      "{'bucketing': 15, 'encoding': 'aggregate', 'drop_act': 6, 'LightGBM': {'max_depth': 4, 'num_leaves': 87, 'min_child_samples': 9}}\n",
      "bucket :  (2, 5)\n",
      "After OverSampling, the shape of train_X: (46950, 10)\n",
      "After OverSampling, the shape of train_y: (46950,) \n",
      "\n",
      "After OverSampling, counts of label '1': 23475\n",
      "After OverSampling, counts of label '0': 23475\n",
      "bucket :  (5, 8)\n",
      "After OverSampling, the shape of train_X: (32620, 17)\n",
      "After OverSampling, the shape of train_y: (32620,) \n",
      "\n",
      "After OverSampling, counts of label '1': 16310\n",
      "After OverSampling, counts of label '0': 16310\n",
      "bucket :  (8, 11)\n",
      "bucket :  (11, 14)\n",
      "bucket :  (14, 17)\n",
      "bucket :  (17, 20)\n",
      "bucket :  (20, 23)\n",
      "bucket :  (23, 26)\n",
      "bucket :  (26, 29)\n",
      "bucket :  (29, 31)\n",
      "bucket :  (31, 33)\n",
      "bucket :  (33, 35)\n",
      "bucket :  (35, 37)\n",
      "bucket :  (37, 39)\n",
      "bucket :  (39, 41)\n"
     ]
    },
    {
     "name": "stderr",
     "output_type": "stream",
     "text": [
      " 45%|████▌     | 9/20 [26:49<33:57, 185.25s/it]"
     ]
    },
    {
     "name": "stdout",
     "output_type": "stream",
     "text": [
      "{'bucketing': 21, 'encoding': 'aggregate', 'drop_act': 6, 'Xgboost': {'max_depth': 14, 'n_estimators': 128, 'learning_rate': 0.05}}\n",
      "bucket :  (2, 4)\n",
      "After OverSampling, the shape of train_X: (34594, 8)\n",
      "After OverSampling, the shape of train_y: (34594,) \n",
      "\n",
      "After OverSampling, counts of label '1': 17297\n",
      "After OverSampling, counts of label '0': 17297\n",
      "bucket :  (4, 6)\n",
      "After OverSampling, the shape of train_X: (23472, 13)\n",
      "After OverSampling, the shape of train_y: (23472,) \n",
      "\n",
      "After OverSampling, counts of label '1': 11736\n",
      "After OverSampling, counts of label '0': 11736\n",
      "bucket :  (6, 8)\n",
      "bucket :  (8, 10)\n",
      "bucket :  (10, 12)\n",
      "bucket :  (12, 14)\n",
      "bucket :  (14, 16)\n",
      "bucket :  (16, 18)\n",
      "bucket :  (18, 20)\n",
      "bucket :  (20, 22)\n",
      "bucket :  (22, 24)\n",
      "bucket :  (24, 26)\n",
      "bucket :  (26, 28)\n",
      "bucket :  (28, 30)\n",
      "bucket :  (30, 32)\n",
      "bucket :  (32, 34)\n",
      "bucket :  (34, 36)\n",
      "bucket :  (36, 38)\n",
      "bucket :  (38, 39)\n",
      "bucket :  (39, 40)\n",
      "bucket :  (40, 41)\n"
     ]
    },
    {
     "name": "stderr",
     "output_type": "stream",
     "text": [
      " 50%|█████     | 10/20 [29:56<30:58, 185.80s/it]"
     ]
    },
    {
     "name": "stdout",
     "output_type": "stream",
     "text": [
      "{'bucketing': 35, 'encoding': 'index', 'drop_act': 6, 'Xgboost': {'max_depth': 14, 'n_estimators': 128, 'learning_rate': 0.05}}\n",
      "bucket :  (2, 4)\n",
      "After OverSampling, the shape of train_X: (34594, 11)\n",
      "After OverSampling, the shape of train_y: (34594,) \n",
      "\n",
      "After OverSampling, counts of label '1': 17297\n",
      "After OverSampling, counts of label '0': 17297\n",
      "bucket :  (4, 6)\n",
      "After OverSampling, the shape of train_X: (23472, 19)\n",
      "After OverSampling, the shape of train_y: (23472,) \n",
      "\n",
      "After OverSampling, counts of label '1': 11736\n",
      "After OverSampling, counts of label '0': 11736\n",
      "bucket :  (6, 8)\n",
      "bucket :  (8, 10)\n",
      "bucket :  (10, 11)\n",
      "bucket :  (11, 12)\n",
      "bucket :  (12, 13)\n",
      "bucket :  (13, 14)\n",
      "bucket :  (14, 15)\n",
      "bucket :  (15, 16)\n",
      "bucket :  (16, 17)\n",
      "bucket :  (17, 18)\n",
      "bucket :  (18, 19)\n",
      "bucket :  (19, 20)\n",
      "bucket :  (20, 21)\n",
      "bucket :  (21, 22)\n",
      "bucket :  (22, 23)\n",
      "bucket :  (23, 24)\n",
      "bucket :  (24, 25)\n",
      "bucket :  (25, 26)\n",
      "bucket :  (26, 27)\n",
      "bucket :  (27, 28)\n",
      "bucket :  (28, 29)\n",
      "bucket :  (29, 30)\n",
      "bucket :  (30, 31)\n",
      "bucket :  (31, 32)\n",
      "bucket :  (32, 33)\n",
      "bucket :  (33, 34)\n",
      "bucket :  (34, 35)\n",
      "bucket :  (35, 36)\n",
      "bucket :  (36, 37)\n",
      "bucket :  (37, 38)\n",
      "bucket :  (38, 39)\n",
      "bucket :  (39, 40)\n",
      "bucket :  (40, 41)\n"
     ]
    },
    {
     "name": "stderr",
     "output_type": "stream",
     "text": [
      " 55%|█████▌    | 11/20 [33:02<27:52, 185.84s/it]"
     ]
    },
    {
     "name": "stdout",
     "output_type": "stream",
     "text": [
      "{'bucketing': 21, 'encoding': 'aggregate', 'drop_act': 6, 'LightGBM': {'max_depth': 4, 'num_leaves': 87, 'min_child_samples': 9}}\n",
      "bucket :  (2, 4)\n",
      "After OverSampling, the shape of train_X: (34594, 8)\n",
      "After OverSampling, the shape of train_y: (34594,) \n",
      "\n",
      "After OverSampling, counts of label '1': 17297\n",
      "After OverSampling, counts of label '0': 17297\n",
      "bucket :  (4, 6)\n",
      "After OverSampling, the shape of train_X: (23472, 13)\n",
      "After OverSampling, the shape of train_y: (23472,) \n",
      "\n",
      "After OverSampling, counts of label '1': 11736\n",
      "After OverSampling, counts of label '0': 11736\n",
      "bucket :  (6, 8)\n",
      "bucket :  (8, 10)\n",
      "bucket :  (10, 12)\n",
      "bucket :  (12, 14)\n",
      "bucket :  (14, 16)\n",
      "bucket :  (16, 18)\n",
      "bucket :  (18, 20)\n",
      "bucket :  (20, 22)\n",
      "bucket :  (22, 24)\n",
      "bucket :  (24, 26)\n",
      "bucket :  (26, 28)\n",
      "bucket :  (28, 30)\n",
      "bucket :  (30, 32)\n",
      "bucket :  (32, 34)\n",
      "bucket :  (34, 36)\n",
      "bucket :  (36, 38)\n",
      "bucket :  (38, 39)\n",
      "bucket :  (39, 40)\n",
      "bucket :  (40, 41)\n"
     ]
    },
    {
     "name": "stderr",
     "output_type": "stream",
     "text": [
      " 60%|██████    | 12/20 [35:52<24:10, 181.28s/it]"
     ]
    },
    {
     "name": "stdout",
     "output_type": "stream",
     "text": [
      "{'bucketing': 15, 'encoding': 'aggregate', 'drop_act': 4, 'Random Forest': {'n_estimators': 634, 'max_depth': 5, 'max_features': 'log2', 'bootstrap': True, 'criterion': 'entropy'}}\n",
      "bucket :  (2, 5)\n",
      "After OverSampling, the shape of train_X: (46950, 10)\n",
      "After OverSampling, the shape of train_y: (46950,) \n",
      "\n",
      "After OverSampling, counts of label '1': 23475\n",
      "After OverSampling, counts of label '0': 23475\n",
      "bucket :  (5, 8)\n",
      "After OverSampling, the shape of train_X: (32620, 17)\n",
      "After OverSampling, the shape of train_y: (32620,) \n",
      "\n",
      "After OverSampling, counts of label '1': 16310\n",
      "After OverSampling, counts of label '0': 16310\n",
      "bucket :  (8, 11)\n",
      "bucket :  (11, 14)\n",
      "bucket :  (14, 17)\n",
      "bucket :  (17, 20)\n",
      "bucket :  (20, 23)\n",
      "bucket :  (23, 26)\n",
      "bucket :  (26, 29)\n",
      "bucket :  (29, 31)\n",
      "bucket :  (31, 33)\n",
      "bucket :  (33, 35)\n",
      "bucket :  (35, 37)\n",
      "bucket :  (37, 39)\n",
      "bucket :  (39, 41)\n"
     ]
    },
    {
     "name": "stderr",
     "output_type": "stream",
     "text": [
      " 65%|██████▌   | 13/20 [39:33<22:31, 193.10s/it]"
     ]
    },
    {
     "name": "stdout",
     "output_type": "stream",
     "text": [
      "{'bucketing': 28, 'encoding': 'aggregate', 'drop_act': 8, 'Decision Tree': {'max_depth': 7, 'min_samples_leaf': 47, 'criterion': 'gini'}}\n",
      "bucket :  (2, 4)\n",
      "After OverSampling, the shape of train_X: (34594, 8)\n",
      "After OverSampling, the shape of train_y: (34594,) \n",
      "\n",
      "After OverSampling, counts of label '1': 17297\n",
      "After OverSampling, counts of label '0': 17297\n",
      "bucket :  (4, 6)\n",
      "After OverSampling, the shape of train_X: (23472, 13)\n",
      "After OverSampling, the shape of train_y: (23472,) \n",
      "\n",
      "After OverSampling, counts of label '1': 11736\n",
      "After OverSampling, counts of label '0': 11736\n",
      "bucket :  (6, 8)\n",
      "bucket :  (8, 10)\n",
      "bucket :  (10, 12)\n",
      "bucket :  (12, 14)\n",
      "bucket :  (14, 16)\n",
      "bucket :  (16, 18)\n",
      "bucket :  (18, 20)\n",
      "bucket :  (20, 22)\n",
      "bucket :  (22, 24)\n",
      "bucket :  (24, 25)\n",
      "bucket :  (25, 26)\n",
      "bucket :  (26, 27)\n",
      "bucket :  (27, 28)\n",
      "bucket :  (28, 29)\n",
      "bucket :  (29, 30)\n",
      "bucket :  (30, 31)\n",
      "bucket :  (31, 32)\n",
      "bucket :  (32, 33)\n",
      "bucket :  (33, 34)\n",
      "bucket :  (34, 35)\n",
      "bucket :  (35, 36)\n",
      "bucket :  (36, 37)\n",
      "bucket :  (37, 38)\n",
      "bucket :  (38, 39)\n",
      "bucket :  (39, 40)\n",
      "bucket :  (40, 41)\n"
     ]
    },
    {
     "name": "stderr",
     "output_type": "stream",
     "text": [
      " 70%|███████   | 14/20 [42:21<18:33, 185.53s/it]"
     ]
    },
    {
     "name": "stdout",
     "output_type": "stream",
     "text": [
      "{'bucketing': 2, 'encoding': 'index', 'drop_act': 8, 'LightGBM': {'max_depth': 10, 'num_leaves': 325, 'min_child_samples': 5}}\n",
      "bucket :  (2, 22)\n",
      "bucket :  (22, 41)\n"
     ]
    },
    {
     "name": "stderr",
     "output_type": "stream",
     "text": [
      " 75%|███████▌  | 15/20 [44:34<14:09, 169.87s/it]"
     ]
    },
    {
     "name": "stdout",
     "output_type": "stream",
     "text": [
      "{'bucketing': 35, 'encoding': 'aggregate', 'drop_act': 4, 'Xgboost': {'max_depth': 14, 'n_estimators': 128, 'learning_rate': 0.05}}\n",
      "bucket :  (2, 4)\n",
      "After OverSampling, the shape of train_X: (34594, 8)\n",
      "After OverSampling, the shape of train_y: (34594,) \n",
      "\n",
      "After OverSampling, counts of label '1': 17297\n",
      "After OverSampling, counts of label '0': 17297\n",
      "bucket :  (4, 6)\n",
      "After OverSampling, the shape of train_X: (23472, 13)\n",
      "After OverSampling, the shape of train_y: (23472,) \n",
      "\n",
      "After OverSampling, counts of label '1': 11736\n",
      "After OverSampling, counts of label '0': 11736\n",
      "bucket :  (6, 8)\n",
      "bucket :  (8, 10)\n",
      "bucket :  (10, 11)\n",
      "bucket :  (11, 12)\n",
      "bucket :  (12, 13)\n",
      "bucket :  (13, 14)\n",
      "bucket :  (14, 15)\n",
      "bucket :  (15, 16)\n",
      "bucket :  (16, 17)\n",
      "bucket :  (17, 18)\n",
      "bucket :  (18, 19)\n",
      "bucket :  (19, 20)\n",
      "bucket :  (20, 21)\n",
      "bucket :  (21, 22)\n",
      "bucket :  (22, 23)\n",
      "bucket :  (23, 24)\n",
      "bucket :  (24, 25)\n",
      "bucket :  (25, 26)\n",
      "bucket :  (26, 27)\n",
      "bucket :  (27, 28)\n",
      "bucket :  (28, 29)\n",
      "bucket :  (29, 30)\n",
      "bucket :  (30, 31)\n",
      "bucket :  (31, 32)\n",
      "bucket :  (32, 33)\n",
      "bucket :  (33, 34)\n",
      "bucket :  (34, 35)\n",
      "bucket :  (35, 36)\n",
      "bucket :  (36, 37)\n",
      "bucket :  (37, 38)\n",
      "bucket :  (38, 39)\n",
      "bucket :  (39, 40)\n",
      "bucket :  (40, 41)\n"
     ]
    },
    {
     "name": "stderr",
     "output_type": "stream",
     "text": [
      " 80%|████████  | 16/20 [47:46<11:45, 176.44s/it]"
     ]
    },
    {
     "name": "stdout",
     "output_type": "stream",
     "text": [
      "{'bucketing': 15, 'encoding': 'aggregate', 'drop_act': 6, 'Random Forest': {'n_estimators': 634, 'max_depth': 5, 'max_features': 'log2', 'bootstrap': True, 'criterion': 'entropy'}}\n",
      "bucket :  (2, 5)\n",
      "After OverSampling, the shape of train_X: (46950, 10)\n",
      "After OverSampling, the shape of train_y: (46950,) \n",
      "\n",
      "After OverSampling, counts of label '1': 23475\n",
      "After OverSampling, counts of label '0': 23475\n",
      "bucket :  (5, 8)\n",
      "After OverSampling, the shape of train_X: (32620, 17)\n",
      "After OverSampling, the shape of train_y: (32620,) \n",
      "\n",
      "After OverSampling, counts of label '1': 16310\n",
      "After OverSampling, counts of label '0': 16310\n",
      "bucket :  (8, 11)\n",
      "bucket :  (11, 14)\n",
      "bucket :  (14, 17)\n",
      "bucket :  (17, 20)\n",
      "bucket :  (20, 23)\n",
      "bucket :  (23, 26)\n",
      "bucket :  (26, 29)\n",
      "bucket :  (29, 31)\n",
      "bucket :  (31, 33)\n",
      "bucket :  (33, 35)\n",
      "bucket :  (35, 37)\n",
      "bucket :  (37, 39)\n",
      "bucket :  (39, 41)\n"
     ]
    },
    {
     "name": "stderr",
     "output_type": "stream",
     "text": [
      " 85%|████████▌ | 17/20 [51:24<09:27, 189.00s/it]"
     ]
    },
    {
     "name": "stdout",
     "output_type": "stream",
     "text": [
      "{'bucketing': 6, 'encoding': 'aggregate', 'drop_act': 6, 'Xgboost': {'max_depth': 14, 'n_estimators': 128, 'learning_rate': 0.05}}\n",
      "bucket :  (2, 9)\n",
      "After OverSampling, the shape of train_X: (89050, 17)\n",
      "After OverSampling, the shape of train_y: (89050,) \n",
      "\n",
      "After OverSampling, counts of label '1': 44525\n",
      "After OverSampling, counts of label '0': 44525\n",
      "bucket :  (9, 16)\n",
      "bucket :  (16, 23)\n",
      "bucket :  (23, 29)\n",
      "bucket :  (29, 35)\n",
      "bucket :  (35, 41)\n"
     ]
    },
    {
     "name": "stderr",
     "output_type": "stream",
     "text": [
      " 90%|█████████ | 18/20 [54:26<06:13, 186.92s/it]"
     ]
    },
    {
     "name": "stdout",
     "output_type": "stream",
     "text": [
      "{'bucketing': 15, 'encoding': 'aggregate', 'drop_act': 6, 'Random Forest': {'n_estimators': 634, 'max_depth': 5, 'max_features': 'log2', 'bootstrap': True, 'criterion': 'entropy'}}\n",
      "bucket :  (2, 5)\n",
      "After OverSampling, the shape of train_X: (46950, 10)\n",
      "After OverSampling, the shape of train_y: (46950,) \n",
      "\n",
      "After OverSampling, counts of label '1': 23475\n",
      "After OverSampling, counts of label '0': 23475\n",
      "bucket :  (5, 8)\n",
      "After OverSampling, the shape of train_X: (32620, 17)\n",
      "After OverSampling, the shape of train_y: (32620,) \n",
      "\n",
      "After OverSampling, counts of label '1': 16310\n",
      "After OverSampling, counts of label '0': 16310\n",
      "bucket :  (8, 11)\n",
      "bucket :  (11, 14)\n",
      "bucket :  (14, 17)\n",
      "bucket :  (17, 20)\n",
      "bucket :  (20, 23)\n",
      "bucket :  (23, 26)\n",
      "bucket :  (26, 29)\n",
      "bucket :  (29, 31)\n",
      "bucket :  (31, 33)\n",
      "bucket :  (33, 35)\n",
      "bucket :  (35, 37)\n",
      "bucket :  (37, 39)\n",
      "bucket :  (39, 41)\n"
     ]
    },
    {
     "name": "stderr",
     "output_type": "stream",
     "text": [
      " 95%|█████████▌| 19/20 [58:05<03:16, 196.33s/it]"
     ]
    },
    {
     "name": "stdout",
     "output_type": "stream",
     "text": [
      "{'bucketing': 8, 'encoding': 'aggregate', 'drop_act': 4, 'Xgboost': {'max_depth': 14, 'n_estimators': 128, 'learning_rate': 0.05}}\n",
      "bucket :  (2, 7)\n",
      "After OverSampling, the shape of train_X: (70588, 15)\n",
      "After OverSampling, the shape of train_y: (70588,) \n",
      "\n",
      "After OverSampling, counts of label '1': 35294\n",
      "After OverSampling, counts of label '0': 35294\n",
      "bucket :  (7, 12)\n",
      "bucket :  (12, 17)\n",
      "bucket :  (17, 22)\n",
      "bucket :  (22, 27)\n",
      "bucket :  (27, 32)\n",
      "bucket :  (32, 37)\n",
      "bucket :  (37, 41)\n"
     ]
    },
    {
     "name": "stderr",
     "output_type": "stream",
     "text": [
      "100%|██████████| 20/20 [1:01:09<00:00, 183.50s/it]\n",
      "  0%|          | 0/20 [00:00<?, ?it/s]"
     ]
    },
    {
     "name": "stdout",
     "output_type": "stream",
     "text": [
      "{'bucketing': 35, 'encoding': 'aggregate', 'drop_act': 4, 'Xgboost': {'max_depth': 14, 'n_estimators': 128, 'learning_rate': 0.05}}\n",
      "bucket :  (2, 4)\n",
      "After OverSampling, the shape of train_X: (34594, 8)\n",
      "After OverSampling, the shape of train_y: (34594,) \n",
      "\n",
      "After OverSampling, counts of label '1': 17297\n",
      "After OverSampling, counts of label '0': 17297\n",
      "bucket :  (4, 6)\n",
      "After OverSampling, the shape of train_X: (23472, 13)\n",
      "After OverSampling, the shape of train_y: (23472,) \n",
      "\n",
      "After OverSampling, counts of label '1': 11736\n",
      "After OverSampling, counts of label '0': 11736\n",
      "bucket :  (6, 8)\n",
      "bucket :  (8, 10)\n",
      "bucket :  (10, 11)\n",
      "bucket :  (11, 12)\n",
      "bucket :  (12, 13)\n",
      "bucket :  (13, 14)\n",
      "bucket :  (14, 15)\n",
      "bucket :  (15, 16)\n",
      "bucket :  (16, 17)\n",
      "bucket :  (17, 18)\n",
      "bucket :  (18, 19)\n",
      "bucket :  (19, 20)\n",
      "bucket :  (20, 21)\n",
      "bucket :  (21, 22)\n",
      "bucket :  (22, 23)\n",
      "bucket :  (23, 24)\n",
      "bucket :  (24, 25)\n",
      "bucket :  (25, 26)\n",
      "bucket :  (26, 27)\n",
      "bucket :  (27, 28)\n",
      "bucket :  (28, 29)\n",
      "bucket :  (29, 30)\n",
      "bucket :  (30, 31)\n",
      "bucket :  (31, 32)\n",
      "bucket :  (32, 33)\n",
      "bucket :  (33, 34)\n",
      "bucket :  (34, 35)\n",
      "bucket :  (35, 36)\n",
      "bucket :  (36, 37)\n",
      "bucket :  (37, 38)\n",
      "bucket :  (38, 39)\n",
      "bucket :  (39, 40)\n",
      "bucket :  (40, 41)\n"
     ]
    },
    {
     "name": "stderr",
     "output_type": "stream",
     "text": [
      "  5%|▌         | 1/20 [03:12<1:00:56, 192.43s/it]"
     ]
    },
    {
     "name": "stdout",
     "output_type": "stream",
     "text": [
      "{'bucketing': 21, 'encoding': 'aggregate', 'drop_act': 6, 'LightGBM': {'max_depth': 4, 'num_leaves': 87, 'min_child_samples': 9}}\n",
      "bucket :  (2, 4)\n",
      "After OverSampling, the shape of train_X: (34594, 8)\n",
      "After OverSampling, the shape of train_y: (34594,) \n",
      "\n",
      "After OverSampling, counts of label '1': 17297\n",
      "After OverSampling, counts of label '0': 17297\n",
      "bucket :  (4, 6)\n",
      "After OverSampling, the shape of train_X: (23472, 13)\n",
      "After OverSampling, the shape of train_y: (23472,) \n",
      "\n",
      "After OverSampling, counts of label '1': 11736\n",
      "After OverSampling, counts of label '0': 11736\n",
      "bucket :  (6, 8)\n",
      "bucket :  (8, 10)\n",
      "bucket :  (10, 12)\n",
      "bucket :  (12, 14)\n",
      "bucket :  (14, 16)\n",
      "bucket :  (16, 18)\n",
      "bucket :  (18, 20)\n",
      "bucket :  (20, 22)\n",
      "bucket :  (22, 24)\n",
      "bucket :  (24, 26)\n",
      "bucket :  (26, 28)\n",
      "bucket :  (28, 30)\n",
      "bucket :  (30, 32)\n",
      "bucket :  (32, 34)\n",
      "bucket :  (34, 36)\n",
      "bucket :  (36, 38)\n",
      "bucket :  (38, 39)\n",
      "bucket :  (39, 40)\n",
      "bucket :  (40, 41)\n"
     ]
    },
    {
     "name": "stderr",
     "output_type": "stream",
     "text": [
      " 10%|█         | 2/20 [06:03<53:54, 179.67s/it]  "
     ]
    },
    {
     "name": "stdout",
     "output_type": "stream",
     "text": [
      "{'bucketing': 8, 'encoding': 'aggregate', 'drop_act': 6, 'Xgboost': {'max_depth': 14, 'n_estimators': 128, 'learning_rate': 0.05}}\n",
      "bucket :  (2, 7)\n",
      "After OverSampling, the shape of train_X: (70588, 15)\n",
      "After OverSampling, the shape of train_y: (70588,) \n",
      "\n",
      "After OverSampling, counts of label '1': 35294\n",
      "After OverSampling, counts of label '0': 35294\n",
      "bucket :  (7, 12)\n",
      "bucket :  (12, 17)\n",
      "bucket :  (17, 22)\n",
      "bucket :  (22, 27)\n",
      "bucket :  (27, 32)\n",
      "bucket :  (32, 37)\n",
      "bucket :  (37, 41)\n"
     ]
    },
    {
     "name": "stderr",
     "output_type": "stream",
     "text": [
      " 15%|█▌        | 3/20 [09:04<51:06, 180.38s/it]"
     ]
    },
    {
     "name": "stdout",
     "output_type": "stream",
     "text": [
      "{'bucketing': 2, 'encoding': 'aggregate', 'drop_act': 8, 'Decision Tree': {'max_depth': 7, 'min_samples_leaf': 47, 'criterion': 'gini'}}\n",
      "bucket :  (2, 22)\n",
      "bucket :  (22, 41)\n"
     ]
    },
    {
     "name": "stderr",
     "output_type": "stream",
     "text": [
      " 20%|██        | 4/20 [11:51<46:40, 175.03s/it]"
     ]
    },
    {
     "name": "stdout",
     "output_type": "stream",
     "text": [
      "{'bucketing': 2, 'encoding': 'index', 'drop_act': 8, 'LightGBM': {'max_depth': 10, 'num_leaves': 325, 'min_child_samples': 5}}\n",
      "bucket :  (2, 22)\n",
      "bucket :  (22, 41)\n"
     ]
    },
    {
     "name": "stderr",
     "output_type": "stream",
     "text": [
      " 25%|██▌       | 5/20 [14:04<39:59, 159.95s/it]"
     ]
    },
    {
     "name": "stdout",
     "output_type": "stream",
     "text": [
      "{'bucketing': 26, 'encoding': 'index', 'drop_act': 8, 'Decision Tree': {'max_depth': 4, 'min_samples_leaf': 86, 'criterion': 'gini'}}\n",
      "bucket :  (2, 4)\n",
      "After OverSampling, the shape of train_X: (34594, 11)\n",
      "After OverSampling, the shape of train_y: (34594,) \n",
      "\n",
      "After OverSampling, counts of label '1': 17297\n",
      "After OverSampling, counts of label '0': 17297\n",
      "bucket :  (4, 6)\n",
      "After OverSampling, the shape of train_X: (23472, 19)\n",
      "After OverSampling, the shape of train_y: (23472,) \n",
      "\n",
      "After OverSampling, counts of label '1': 11736\n",
      "After OverSampling, counts of label '0': 11736\n",
      "bucket :  (6, 8)\n",
      "bucket :  (8, 10)\n",
      "bucket :  (10, 12)\n",
      "bucket :  (12, 14)\n",
      "bucket :  (14, 16)\n",
      "bucket :  (16, 18)\n",
      "bucket :  (18, 20)\n",
      "bucket :  (20, 22)\n",
      "bucket :  (22, 24)\n",
      "bucket :  (24, 26)\n",
      "bucket :  (26, 28)\n",
      "bucket :  (28, 29)\n",
      "bucket :  (29, 30)\n",
      "bucket :  (30, 31)\n",
      "bucket :  (31, 32)\n",
      "bucket :  (32, 33)\n",
      "bucket :  (33, 34)\n",
      "bucket :  (34, 35)\n",
      "bucket :  (35, 36)\n",
      "bucket :  (36, 37)\n",
      "bucket :  (37, 38)\n",
      "bucket :  (38, 39)\n",
      "bucket :  (39, 40)\n",
      "bucket :  (40, 41)\n"
     ]
    },
    {
     "name": "stderr",
     "output_type": "stream",
     "text": [
      " 30%|███       | 6/20 [16:14<34:54, 149.64s/it]"
     ]
    },
    {
     "name": "stdout",
     "output_type": "stream",
     "text": [
      "{'bucketing': 15, 'encoding': 'aggregate', 'drop_act': 4, 'Random Forest': {'n_estimators': 634, 'max_depth': 5, 'max_features': 'log2', 'bootstrap': True, 'criterion': 'entropy'}}\n",
      "bucket :  (2, 5)\n",
      "After OverSampling, the shape of train_X: (46950, 10)\n",
      "After OverSampling, the shape of train_y: (46950,) \n",
      "\n",
      "After OverSampling, counts of label '1': 23475\n",
      "After OverSampling, counts of label '0': 23475\n",
      "bucket :  (5, 8)\n",
      "After OverSampling, the shape of train_X: (32620, 17)\n",
      "After OverSampling, the shape of train_y: (32620,) \n",
      "\n",
      "After OverSampling, counts of label '1': 16310\n",
      "After OverSampling, counts of label '0': 16310\n",
      "bucket :  (8, 11)\n",
      "bucket :  (11, 14)\n",
      "bucket :  (14, 17)\n",
      "bucket :  (17, 20)\n",
      "bucket :  (20, 23)\n",
      "bucket :  (23, 26)\n",
      "bucket :  (26, 29)\n",
      "bucket :  (29, 31)\n",
      "bucket :  (31, 33)\n",
      "bucket :  (33, 35)\n",
      "bucket :  (35, 37)\n",
      "bucket :  (37, 39)\n",
      "bucket :  (39, 41)\n"
     ]
    },
    {
     "name": "stderr",
     "output_type": "stream",
     "text": [
      " 35%|███▌      | 7/20 [19:54<37:24, 172.69s/it]"
     ]
    },
    {
     "name": "stdout",
     "output_type": "stream",
     "text": [
      "{'bucketing': 6, 'encoding': 'index', 'drop_act': 8, 'LightGBM': {'max_depth': 10, 'num_leaves': 325, 'min_child_samples': 5}}\n",
      "bucket :  (2, 9)\n",
      "After OverSampling, the shape of train_X: (89050, 52)\n",
      "After OverSampling, the shape of train_y: (89050,) \n",
      "\n",
      "After OverSampling, counts of label '1': 44525\n",
      "After OverSampling, counts of label '0': 44525\n",
      "bucket :  (9, 16)\n",
      "bucket :  (16, 23)\n",
      "bucket :  (23, 29)\n",
      "bucket :  (29, 35)\n",
      "bucket :  (35, 41)\n"
     ]
    },
    {
     "name": "stderr",
     "output_type": "stream",
     "text": [
      " 40%|████      | 8/20 [22:06<31:57, 159.80s/it]"
     ]
    },
    {
     "name": "stdout",
     "output_type": "stream",
     "text": [
      "{'bucketing': 8, 'encoding': 'aggregate', 'drop_act': 4, 'Xgboost': {'max_depth': 14, 'n_estimators': 128, 'learning_rate': 0.05}}\n",
      "bucket :  (2, 7)\n",
      "After OverSampling, the shape of train_X: (70588, 15)\n",
      "After OverSampling, the shape of train_y: (70588,) \n",
      "\n",
      "After OverSampling, counts of label '1': 35294\n",
      "After OverSampling, counts of label '0': 35294\n",
      "bucket :  (7, 12)\n",
      "bucket :  (12, 17)\n",
      "bucket :  (17, 22)\n",
      "bucket :  (22, 27)\n",
      "bucket :  (27, 32)\n",
      "bucket :  (32, 37)\n",
      "bucket :  (37, 41)\n"
     ]
    },
    {
     "name": "stderr",
     "output_type": "stream",
     "text": [
      " 45%|████▌     | 9/20 [25:10<30:42, 167.51s/it]"
     ]
    },
    {
     "name": "stdout",
     "output_type": "stream",
     "text": [
      "{'bucketing': 21, 'encoding': 'aggregate', 'drop_act': 6, 'Random Forest': {'n_estimators': 634, 'max_depth': 5, 'max_features': 'log2', 'bootstrap': True, 'criterion': 'entropy'}}\n",
      "bucket :  (2, 4)\n",
      "After OverSampling, the shape of train_X: (34594, 8)\n",
      "After OverSampling, the shape of train_y: (34594,) \n",
      "\n",
      "After OverSampling, counts of label '1': 17297\n",
      "After OverSampling, counts of label '0': 17297\n",
      "bucket :  (4, 6)\n",
      "After OverSampling, the shape of train_X: (23472, 13)\n",
      "After OverSampling, the shape of train_y: (23472,) \n",
      "\n",
      "After OverSampling, counts of label '1': 11736\n",
      "After OverSampling, counts of label '0': 11736\n",
      "bucket :  (6, 8)\n",
      "bucket :  (8, 10)\n",
      "bucket :  (10, 12)\n",
      "bucket :  (12, 14)\n",
      "bucket :  (14, 16)\n",
      "bucket :  (16, 18)\n",
      "bucket :  (18, 20)\n",
      "bucket :  (20, 22)\n",
      "bucket :  (22, 24)\n",
      "bucket :  (24, 26)\n",
      "bucket :  (26, 28)\n",
      "bucket :  (28, 30)\n",
      "bucket :  (30, 32)\n",
      "bucket :  (32, 34)\n",
      "bucket :  (34, 36)\n",
      "bucket :  (36, 38)\n",
      "bucket :  (38, 39)\n",
      "bucket :  (39, 40)\n",
      "bucket :  (40, 41)\n"
     ]
    },
    {
     "name": "stderr",
     "output_type": "stream",
     "text": [
      " 50%|█████     | 10/20 [28:53<30:46, 184.60s/it]"
     ]
    },
    {
     "name": "stdout",
     "output_type": "stream",
     "text": [
      "{'bucketing': 2, 'encoding': 'index', 'drop_act': 8, 'LightGBM': {'max_depth': 10, 'num_leaves': 325, 'min_child_samples': 5}}\n",
      "bucket :  (2, 22)\n",
      "bucket :  (22, 41)\n"
     ]
    },
    {
     "name": "stderr",
     "output_type": "stream",
     "text": [
      " 55%|█████▌    | 11/20 [31:07<25:20, 168.90s/it]"
     ]
    },
    {
     "name": "stdout",
     "output_type": "stream",
     "text": [
      "{'bucketing': 21, 'encoding': 'aggregate', 'drop_act': 8, 'Decision Tree': {'max_depth': 7, 'min_samples_leaf': 47, 'criterion': 'gini'}}\n",
      "bucket :  (2, 4)\n",
      "After OverSampling, the shape of train_X: (34594, 8)\n",
      "After OverSampling, the shape of train_y: (34594,) \n",
      "\n",
      "After OverSampling, counts of label '1': 17297\n",
      "After OverSampling, counts of label '0': 17297\n",
      "bucket :  (4, 6)\n",
      "After OverSampling, the shape of train_X: (23472, 13)\n",
      "After OverSampling, the shape of train_y: (23472,) \n",
      "\n",
      "After OverSampling, counts of label '1': 11736\n",
      "After OverSampling, counts of label '0': 11736\n",
      "bucket :  (6, 8)\n",
      "bucket :  (8, 10)\n",
      "bucket :  (10, 12)\n",
      "bucket :  (12, 14)\n",
      "bucket :  (14, 16)\n",
      "bucket :  (16, 18)\n",
      "bucket :  (18, 20)\n",
      "bucket :  (20, 22)\n",
      "bucket :  (22, 24)\n",
      "bucket :  (24, 26)\n",
      "bucket :  (26, 28)\n",
      "bucket :  (28, 30)\n",
      "bucket :  (30, 32)\n",
      "bucket :  (32, 34)\n",
      "bucket :  (34, 36)\n",
      "bucket :  (36, 38)\n",
      "bucket :  (38, 39)\n",
      "bucket :  (39, 40)\n",
      "bucket :  (40, 41)\n"
     ]
    },
    {
     "name": "stderr",
     "output_type": "stream",
     "text": [
      " 60%|██████    | 12/20 [33:56<22:31, 168.95s/it]"
     ]
    },
    {
     "name": "stdout",
     "output_type": "stream",
     "text": [
      "{'bucketing': 8, 'encoding': 'aggregate', 'drop_act': 6, 'Xgboost': {'max_depth': 14, 'n_estimators': 128, 'learning_rate': 0.05}}\n",
      "bucket :  (2, 7)\n",
      "After OverSampling, the shape of train_X: (70588, 15)\n",
      "After OverSampling, the shape of train_y: (70588,) \n",
      "\n",
      "After OverSampling, counts of label '1': 35294\n",
      "After OverSampling, counts of label '0': 35294\n",
      "bucket :  (7, 12)\n",
      "bucket :  (12, 17)\n",
      "bucket :  (17, 22)\n",
      "bucket :  (22, 27)\n",
      "bucket :  (27, 32)\n",
      "bucket :  (32, 37)\n",
      "bucket :  (37, 41)\n"
     ]
    },
    {
     "name": "stderr",
     "output_type": "stream",
     "text": [
      " 65%|██████▌   | 13/20 [36:58<20:10, 172.96s/it]"
     ]
    },
    {
     "name": "stdout",
     "output_type": "stream",
     "text": [
      "{'bucketing': 15, 'encoding': 'aggregate', 'drop_act': 6, 'Random Forest': {'n_estimators': 634, 'max_depth': 5, 'max_features': 'log2', 'bootstrap': True, 'criterion': 'entropy'}}\n",
      "bucket :  (2, 5)\n",
      "After OverSampling, the shape of train_X: (46950, 10)\n",
      "After OverSampling, the shape of train_y: (46950,) \n",
      "\n",
      "After OverSampling, counts of label '1': 23475\n",
      "After OverSampling, counts of label '0': 23475\n",
      "bucket :  (5, 8)\n",
      "After OverSampling, the shape of train_X: (32620, 17)\n",
      "After OverSampling, the shape of train_y: (32620,) \n",
      "\n",
      "After OverSampling, counts of label '1': 16310\n",
      "After OverSampling, counts of label '0': 16310\n",
      "bucket :  (8, 11)\n",
      "bucket :  (11, 14)\n",
      "bucket :  (14, 17)\n",
      "bucket :  (17, 20)\n",
      "bucket :  (20, 23)\n",
      "bucket :  (23, 26)\n",
      "bucket :  (26, 29)\n",
      "bucket :  (29, 31)\n",
      "bucket :  (31, 33)\n",
      "bucket :  (33, 35)\n",
      "bucket :  (35, 37)\n",
      "bucket :  (37, 39)\n",
      "bucket :  (39, 41)\n"
     ]
    },
    {
     "name": "stderr",
     "output_type": "stream",
     "text": [
      " 70%|███████   | 14/20 [40:37<18:40, 186.82s/it]"
     ]
    },
    {
     "name": "stdout",
     "output_type": "stream",
     "text": [
      "{'bucketing': 26, 'encoding': 'index', 'drop_act': 8, 'Decision Tree': {'max_depth': 7, 'min_samples_leaf': 47, 'criterion': 'gini'}}\n",
      "bucket :  (2, 4)\n",
      "After OverSampling, the shape of train_X: (34594, 11)\n",
      "After OverSampling, the shape of train_y: (34594,) \n",
      "\n",
      "After OverSampling, counts of label '1': 17297\n",
      "After OverSampling, counts of label '0': 17297\n",
      "bucket :  (4, 6)\n",
      "After OverSampling, the shape of train_X: (23472, 19)\n",
      "After OverSampling, the shape of train_y: (23472,) \n",
      "\n",
      "After OverSampling, counts of label '1': 11736\n",
      "After OverSampling, counts of label '0': 11736\n",
      "bucket :  (6, 8)\n",
      "bucket :  (8, 10)\n",
      "bucket :  (10, 12)\n",
      "bucket :  (12, 14)\n",
      "bucket :  (14, 16)\n",
      "bucket :  (16, 18)\n",
      "bucket :  (18, 20)\n",
      "bucket :  (20, 22)\n",
      "bucket :  (22, 24)\n",
      "bucket :  (24, 26)\n",
      "bucket :  (26, 28)\n",
      "bucket :  (28, 29)\n",
      "bucket :  (29, 30)\n",
      "bucket :  (30, 31)\n",
      "bucket :  (31, 32)\n",
      "bucket :  (32, 33)\n",
      "bucket :  (33, 34)\n",
      "bucket :  (34, 35)\n",
      "bucket :  (35, 36)\n",
      "bucket :  (36, 37)\n",
      "bucket :  (37, 38)\n",
      "bucket :  (38, 39)\n",
      "bucket :  (39, 40)\n",
      "bucket :  (40, 41)\n"
     ]
    },
    {
     "name": "stderr",
     "output_type": "stream",
     "text": [
      " 75%|███████▌  | 15/20 [42:46<14:07, 169.55s/it]"
     ]
    },
    {
     "name": "stdout",
     "output_type": "stream",
     "text": [
      "{'bucketing': 8, 'encoding': 'index', 'drop_act': 8, 'LightGBM': {'max_depth': 10, 'num_leaves': 325, 'min_child_samples': 5}}\n",
      "bucket :  (2, 7)\n",
      "After OverSampling, the shape of train_X: (70588, 29)\n",
      "After OverSampling, the shape of train_y: (70588,) \n",
      "\n",
      "After OverSampling, counts of label '1': 35294\n",
      "After OverSampling, counts of label '0': 35294\n",
      "bucket :  (7, 12)\n",
      "bucket :  (12, 17)\n",
      "bucket :  (17, 22)\n",
      "bucket :  (22, 27)\n",
      "bucket :  (27, 32)\n",
      "bucket :  (32, 37)\n",
      "bucket :  (37, 41)\n"
     ]
    },
    {
     "name": "stderr",
     "output_type": "stream",
     "text": [
      " 80%|████████  | 16/20 [44:59<10:34, 158.52s/it]"
     ]
    },
    {
     "name": "stdout",
     "output_type": "stream",
     "text": [
      "{'bucketing': 2, 'encoding': 'aggregate', 'drop_act': 6, 'Xgboost': {'max_depth': 14, 'n_estimators': 128, 'learning_rate': 0.05}}\n",
      "bucket :  (2, 22)\n",
      "bucket :  (22, 41)\n"
     ]
    },
    {
     "name": "stderr",
     "output_type": "stream",
     "text": [
      " 85%|████████▌ | 17/20 [47:59<08:14, 164.84s/it]"
     ]
    },
    {
     "name": "stdout",
     "output_type": "stream",
     "text": [
      "{'bucketing': 26, 'encoding': 'index', 'drop_act': 8, 'Decision Tree': {'max_depth': 7, 'min_samples_leaf': 47, 'criterion': 'gini'}}\n",
      "bucket :  (2, 4)\n",
      "After OverSampling, the shape of train_X: (34594, 11)\n",
      "After OverSampling, the shape of train_y: (34594,) \n",
      "\n",
      "After OverSampling, counts of label '1': 17297\n",
      "After OverSampling, counts of label '0': 17297\n",
      "bucket :  (4, 6)\n",
      "After OverSampling, the shape of train_X: (23472, 19)\n",
      "After OverSampling, the shape of train_y: (23472,) \n",
      "\n",
      "After OverSampling, counts of label '1': 11736\n",
      "After OverSampling, counts of label '0': 11736\n",
      "bucket :  (6, 8)\n",
      "bucket :  (8, 10)\n",
      "bucket :  (10, 12)\n",
      "bucket :  (12, 14)\n",
      "bucket :  (14, 16)\n",
      "bucket :  (16, 18)\n",
      "bucket :  (18, 20)\n",
      "bucket :  (20, 22)\n",
      "bucket :  (22, 24)\n",
      "bucket :  (24, 26)\n",
      "bucket :  (26, 28)\n",
      "bucket :  (28, 29)\n",
      "bucket :  (29, 30)\n",
      "bucket :  (30, 31)\n",
      "bucket :  (31, 32)\n",
      "bucket :  (32, 33)\n",
      "bucket :  (33, 34)\n",
      "bucket :  (34, 35)\n",
      "bucket :  (35, 36)\n",
      "bucket :  (36, 37)\n",
      "bucket :  (37, 38)\n",
      "bucket :  (38, 39)\n",
      "bucket :  (39, 40)\n",
      "bucket :  (40, 41)\n"
     ]
    },
    {
     "name": "stderr",
     "output_type": "stream",
     "text": [
      " 90%|█████████ | 18/20 [50:08<05:08, 154.30s/it]"
     ]
    },
    {
     "name": "stdout",
     "output_type": "stream",
     "text": [
      "{'bucketing': 21, 'encoding': 'aggregate', 'drop_act': 6, 'Xgboost': {'max_depth': 14, 'n_estimators': 128, 'learning_rate': 0.05}}\n",
      "bucket :  (2, 4)\n",
      "After OverSampling, the shape of train_X: (34594, 8)\n",
      "After OverSampling, the shape of train_y: (34594,) \n",
      "\n",
      "After OverSampling, counts of label '1': 17297\n",
      "After OverSampling, counts of label '0': 17297\n",
      "bucket :  (4, 6)\n",
      "After OverSampling, the shape of train_X: (23472, 13)\n",
      "After OverSampling, the shape of train_y: (23472,) \n",
      "\n",
      "After OverSampling, counts of label '1': 11736\n",
      "After OverSampling, counts of label '0': 11736\n",
      "bucket :  (6, 8)\n",
      "bucket :  (8, 10)\n",
      "bucket :  (10, 12)\n",
      "bucket :  (12, 14)\n",
      "bucket :  (14, 16)\n",
      "bucket :  (16, 18)\n",
      "bucket :  (18, 20)\n",
      "bucket :  (20, 22)\n",
      "bucket :  (22, 24)\n",
      "bucket :  (24, 26)\n",
      "bucket :  (26, 28)\n",
      "bucket :  (28, 30)\n",
      "bucket :  (30, 32)\n",
      "bucket :  (32, 34)\n",
      "bucket :  (34, 36)\n",
      "bucket :  (36, 38)\n",
      "bucket :  (38, 39)\n",
      "bucket :  (39, 40)\n",
      "bucket :  (40, 41)\n"
     ]
    },
    {
     "name": "stderr",
     "output_type": "stream",
     "text": [
      " 95%|█████████▌| 19/20 [53:16<02:44, 164.17s/it]"
     ]
    },
    {
     "name": "stdout",
     "output_type": "stream",
     "text": [
      "{'bucketing': 6, 'encoding': 'aggregate', 'drop_act': 6, 'Xgboost': {'max_depth': 14, 'n_estimators': 128, 'learning_rate': 0.05}}\n",
      "bucket :  (2, 9)\n",
      "After OverSampling, the shape of train_X: (89050, 17)\n",
      "After OverSampling, the shape of train_y: (89050,) \n",
      "\n",
      "After OverSampling, counts of label '1': 44525\n",
      "After OverSampling, counts of label '0': 44525\n",
      "bucket :  (9, 16)\n",
      "bucket :  (16, 23)\n",
      "bucket :  (23, 29)\n",
      "bucket :  (29, 35)\n",
      "bucket :  (35, 41)\n"
     ]
    },
    {
     "name": "stderr",
     "output_type": "stream",
     "text": [
      "100%|██████████| 20/20 [56:18<00:00, 168.91s/it]\n",
      "  0%|          | 0/20 [00:00<?, ?it/s]"
     ]
    },
    {
     "name": "stdout",
     "output_type": "stream",
     "text": [
      "{'bucketing': 2, 'encoding': 'index', 'drop_act': 8, 'LightGBM': {'max_depth': 10, 'num_leaves': 325, 'min_child_samples': 5}}\n",
      "bucket :  (2, 22)\n",
      "bucket :  (22, 41)\n"
     ]
    },
    {
     "name": "stderr",
     "output_type": "stream",
     "text": [
      "  5%|▌         | 1/20 [02:12<42:01, 132.72s/it]"
     ]
    },
    {
     "name": "stdout",
     "output_type": "stream",
     "text": [
      "{'bucketing': 2, 'encoding': 'aggregate', 'drop_act': 6, 'Xgboost': {'max_depth': 14, 'n_estimators': 128, 'learning_rate': 0.05}}\n",
      "bucket :  (2, 22)\n",
      "bucket :  (22, 41)\n"
     ]
    },
    {
     "name": "stderr",
     "output_type": "stream",
     "text": [
      " 10%|█         | 2/20 [05:12<48:04, 160.26s/it]"
     ]
    },
    {
     "name": "stdout",
     "output_type": "stream",
     "text": [
      "{'bucketing': 21, 'encoding': 'aggregate', 'drop_act': 6, 'Decision Tree': {'max_depth': 7, 'min_samples_leaf': 47, 'criterion': 'gini'}}\n",
      "bucket :  (2, 4)\n",
      "After OverSampling, the shape of train_X: (34594, 8)\n",
      "After OverSampling, the shape of train_y: (34594,) \n",
      "\n",
      "After OverSampling, counts of label '1': 17297\n",
      "After OverSampling, counts of label '0': 17297\n",
      "bucket :  (4, 6)\n",
      "After OverSampling, the shape of train_X: (23472, 13)\n",
      "After OverSampling, the shape of train_y: (23472,) \n",
      "\n",
      "After OverSampling, counts of label '1': 11736\n",
      "After OverSampling, counts of label '0': 11736\n",
      "bucket :  (6, 8)\n",
      "bucket :  (8, 10)\n",
      "bucket :  (10, 12)\n",
      "bucket :  (12, 14)\n",
      "bucket :  (14, 16)\n",
      "bucket :  (16, 18)\n",
      "bucket :  (18, 20)\n",
      "bucket :  (20, 22)\n",
      "bucket :  (22, 24)\n",
      "bucket :  (24, 26)\n",
      "bucket :  (26, 28)\n",
      "bucket :  (28, 30)\n",
      "bucket :  (30, 32)\n",
      "bucket :  (32, 34)\n",
      "bucket :  (34, 36)\n",
      "bucket :  (36, 38)\n",
      "bucket :  (38, 39)\n",
      "bucket :  (39, 40)\n",
      "bucket :  (40, 41)\n"
     ]
    },
    {
     "name": "stderr",
     "output_type": "stream",
     "text": [
      " 15%|█▌        | 3/20 [08:02<46:39, 164.65s/it]"
     ]
    },
    {
     "name": "stdout",
     "output_type": "stream",
     "text": [
      "{'bucketing': 8, 'encoding': 'aggregate', 'drop_act': 8, 'LightGBM': {'max_depth': 10, 'num_leaves': 325, 'min_child_samples': 5}}\n",
      "bucket :  (2, 7)\n",
      "After OverSampling, the shape of train_X: (70588, 15)\n",
      "After OverSampling, the shape of train_y: (70588,) \n",
      "\n",
      "After OverSampling, counts of label '1': 35294\n",
      "After OverSampling, counts of label '0': 35294\n",
      "bucket :  (7, 12)\n",
      "bucket :  (12, 17)\n",
      "bucket :  (17, 22)\n",
      "bucket :  (22, 27)\n",
      "bucket :  (27, 32)\n",
      "bucket :  (32, 37)\n",
      "bucket :  (37, 41)\n"
     ]
    },
    {
     "name": "stderr",
     "output_type": "stream",
     "text": [
      " 20%|██        | 4/20 [10:52<44:27, 166.72s/it]"
     ]
    },
    {
     "name": "stdout",
     "output_type": "stream",
     "text": [
      "{'bucketing': 6, 'encoding': 'index', 'drop_act': 8, 'LightGBM': {'max_depth': 10, 'num_leaves': 325, 'min_child_samples': 5}}\n",
      "bucket :  (2, 9)\n",
      "After OverSampling, the shape of train_X: (89050, 52)\n",
      "After OverSampling, the shape of train_y: (89050,) \n",
      "\n",
      "After OverSampling, counts of label '1': 44525\n",
      "After OverSampling, counts of label '0': 44525\n",
      "bucket :  (9, 16)\n",
      "bucket :  (16, 23)\n",
      "bucket :  (23, 29)\n",
      "bucket :  (29, 35)\n",
      "bucket :  (35, 41)\n"
     ]
    },
    {
     "name": "stderr",
     "output_type": "stream",
     "text": [
      " 25%|██▌       | 5/20 [13:04<38:36, 154.42s/it]"
     ]
    },
    {
     "name": "stdout",
     "output_type": "stream",
     "text": [
      "{'bucketing': 2, 'encoding': 'aggregate', 'drop_act': 6, 'Xgboost': {'max_depth': 14, 'n_estimators': 128, 'learning_rate': 0.05}}\n",
      "bucket :  (2, 22)\n",
      "bucket :  (22, 41)\n"
     ]
    },
    {
     "name": "stderr",
     "output_type": "stream",
     "text": [
      " 30%|███       | 6/20 [16:04<38:00, 162.92s/it]"
     ]
    },
    {
     "name": "stdout",
     "output_type": "stream",
     "text": [
      "{'bucketing': 2, 'encoding': 'index', 'drop_act': 8, 'LightGBM': {'max_depth': 10, 'num_leaves': 325, 'min_child_samples': 5}}\n",
      "bucket :  (2, 22)\n",
      "bucket :  (22, 41)\n"
     ]
    },
    {
     "name": "stderr",
     "output_type": "stream",
     "text": [
      " 35%|███▌      | 7/20 [18:17<33:11, 153.22s/it]"
     ]
    },
    {
     "name": "stdout",
     "output_type": "stream",
     "text": [
      "{'bucketing': 26, 'encoding': 'index', 'drop_act': 8, 'LightGBM': {'max_depth': 10, 'num_leaves': 325, 'min_child_samples': 5}}\n",
      "bucket :  (2, 4)\n",
      "After OverSampling, the shape of train_X: (34594, 11)\n",
      "After OverSampling, the shape of train_y: (34594,) \n",
      "\n",
      "After OverSampling, counts of label '1': 17297\n",
      "After OverSampling, counts of label '0': 17297\n",
      "bucket :  (4, 6)\n",
      "After OverSampling, the shape of train_X: (23472, 19)\n",
      "After OverSampling, the shape of train_y: (23472,) \n",
      "\n",
      "After OverSampling, counts of label '1': 11736\n",
      "After OverSampling, counts of label '0': 11736\n",
      "bucket :  (6, 8)\n",
      "bucket :  (8, 10)\n",
      "bucket :  (10, 12)\n",
      "bucket :  (12, 14)\n",
      "bucket :  (14, 16)\n",
      "bucket :  (16, 18)\n",
      "bucket :  (18, 20)\n",
      "bucket :  (20, 22)\n",
      "bucket :  (22, 24)\n",
      "bucket :  (24, 26)\n",
      "bucket :  (26, 28)\n",
      "bucket :  (28, 29)\n",
      "bucket :  (29, 30)\n",
      "bucket :  (30, 31)\n",
      "bucket :  (31, 32)\n",
      "bucket :  (32, 33)\n",
      "bucket :  (33, 34)\n",
      "bucket :  (34, 35)\n",
      "bucket :  (35, 36)\n",
      "bucket :  (36, 37)\n",
      "bucket :  (37, 38)\n",
      "bucket :  (38, 39)\n",
      "bucket :  (39, 40)\n",
      "bucket :  (40, 41)\n"
     ]
    },
    {
     "name": "stderr",
     "output_type": "stream",
     "text": [
      " 40%|████      | 8/20 [20:33<29:35, 147.92s/it]"
     ]
    },
    {
     "name": "stdout",
     "output_type": "stream",
     "text": [
      "{'bucketing': 8, 'encoding': 'aggregate', 'drop_act': 6, 'Xgboost': {'max_depth': 14, 'n_estimators': 128, 'learning_rate': 0.05}}\n",
      "bucket :  (2, 7)\n",
      "After OverSampling, the shape of train_X: (70588, 15)\n",
      "After OverSampling, the shape of train_y: (70588,) \n",
      "\n",
      "After OverSampling, counts of label '1': 35294\n",
      "After OverSampling, counts of label '0': 35294\n",
      "bucket :  (7, 12)\n",
      "bucket :  (12, 17)\n",
      "bucket :  (17, 22)\n",
      "bucket :  (22, 27)\n",
      "bucket :  (27, 32)\n",
      "bucket :  (32, 37)\n",
      "bucket :  (37, 41)\n"
     ]
    },
    {
     "name": "stderr",
     "output_type": "stream",
     "text": [
      " 45%|████▌     | 9/20 [23:36<29:06, 158.78s/it]"
     ]
    },
    {
     "name": "stdout",
     "output_type": "stream",
     "text": [
      "{'bucketing': 8, 'encoding': 'aggregate', 'drop_act': 6, 'Xgboost': {'max_depth': 14, 'n_estimators': 128, 'learning_rate': 0.05}}\n",
      "bucket :  (2, 7)\n",
      "After OverSampling, the shape of train_X: (70588, 15)\n",
      "After OverSampling, the shape of train_y: (70588,) \n",
      "\n",
      "After OverSampling, counts of label '1': 35294\n",
      "After OverSampling, counts of label '0': 35294\n",
      "bucket :  (7, 12)\n",
      "bucket :  (12, 17)\n",
      "bucket :  (17, 22)\n",
      "bucket :  (22, 27)\n",
      "bucket :  (27, 32)\n",
      "bucket :  (32, 37)\n",
      "bucket :  (37, 41)\n"
     ]
    },
    {
     "name": "stderr",
     "output_type": "stream",
     "text": [
      " 50%|█████     | 10/20 [26:39<27:41, 166.11s/it]"
     ]
    },
    {
     "name": "stdout",
     "output_type": "stream",
     "text": [
      "{'bucketing': 8, 'encoding': 'aggregate', 'drop_act': 6, 'Xgboost': {'max_depth': 14, 'n_estimators': 128, 'learning_rate': 0.05}}\n",
      "bucket :  (2, 7)\n",
      "After OverSampling, the shape of train_X: (70588, 15)\n",
      "After OverSampling, the shape of train_y: (70588,) \n",
      "\n",
      "After OverSampling, counts of label '1': 35294\n",
      "After OverSampling, counts of label '0': 35294\n",
      "bucket :  (7, 12)\n",
      "bucket :  (12, 17)\n",
      "bucket :  (17, 22)\n",
      "bucket :  (22, 27)\n",
      "bucket :  (27, 32)\n",
      "bucket :  (32, 37)\n",
      "bucket :  (37, 41)\n"
     ]
    },
    {
     "name": "stderr",
     "output_type": "stream",
     "text": [
      " 55%|█████▌    | 11/20 [29:40<25:38, 170.91s/it]"
     ]
    },
    {
     "name": "stdout",
     "output_type": "stream",
     "text": [
      "{'bucketing': 26, 'encoding': 'index', 'drop_act': 8, 'Decision Tree': {'max_depth': 4, 'min_samples_leaf': 86, 'criterion': 'gini'}}\n",
      "bucket :  (2, 4)\n",
      "After OverSampling, the shape of train_X: (34594, 11)\n",
      "After OverSampling, the shape of train_y: (34594,) \n",
      "\n",
      "After OverSampling, counts of label '1': 17297\n",
      "After OverSampling, counts of label '0': 17297\n",
      "bucket :  (4, 6)\n",
      "After OverSampling, the shape of train_X: (23472, 19)\n",
      "After OverSampling, the shape of train_y: (23472,) \n",
      "\n",
      "After OverSampling, counts of label '1': 11736\n",
      "After OverSampling, counts of label '0': 11736\n",
      "bucket :  (6, 8)\n",
      "bucket :  (8, 10)\n",
      "bucket :  (10, 12)\n",
      "bucket :  (12, 14)\n",
      "bucket :  (14, 16)\n",
      "bucket :  (16, 18)\n",
      "bucket :  (18, 20)\n",
      "bucket :  (20, 22)\n",
      "bucket :  (22, 24)\n",
      "bucket :  (24, 26)\n",
      "bucket :  (26, 28)\n",
      "bucket :  (28, 29)\n",
      "bucket :  (29, 30)\n",
      "bucket :  (30, 31)\n",
      "bucket :  (31, 32)\n",
      "bucket :  (32, 33)\n",
      "bucket :  (33, 34)\n",
      "bucket :  (34, 35)\n",
      "bucket :  (35, 36)\n",
      "bucket :  (36, 37)\n",
      "bucket :  (37, 38)\n",
      "bucket :  (38, 39)\n",
      "bucket :  (39, 40)\n",
      "bucket :  (40, 41)\n"
     ]
    },
    {
     "name": "stderr",
     "output_type": "stream",
     "text": [
      " 60%|██████    | 12/20 [31:50<21:06, 158.31s/it]"
     ]
    },
    {
     "name": "stdout",
     "output_type": "stream",
     "text": [
      "{'bucketing': 21, 'encoding': 'aggregate', 'drop_act': 6, 'Xgboost': {'max_depth': 14, 'n_estimators': 128, 'learning_rate': 0.05}}\n",
      "bucket :  (2, 4)\n",
      "After OverSampling, the shape of train_X: (34594, 8)\n",
      "After OverSampling, the shape of train_y: (34594,) \n",
      "\n",
      "After OverSampling, counts of label '1': 17297\n",
      "After OverSampling, counts of label '0': 17297\n",
      "bucket :  (4, 6)\n",
      "After OverSampling, the shape of train_X: (23472, 13)\n",
      "After OverSampling, the shape of train_y: (23472,) \n",
      "\n",
      "After OverSampling, counts of label '1': 11736\n",
      "After OverSampling, counts of label '0': 11736\n",
      "bucket :  (6, 8)\n",
      "bucket :  (8, 10)\n",
      "bucket :  (10, 12)\n",
      "bucket :  (12, 14)\n",
      "bucket :  (14, 16)\n",
      "bucket :  (16, 18)\n",
      "bucket :  (18, 20)\n",
      "bucket :  (20, 22)\n",
      "bucket :  (22, 24)\n",
      "bucket :  (24, 26)\n",
      "bucket :  (26, 28)\n",
      "bucket :  (28, 30)\n",
      "bucket :  (30, 32)\n",
      "bucket :  (32, 34)\n",
      "bucket :  (34, 36)\n",
      "bucket :  (36, 38)\n",
      "bucket :  (38, 39)\n",
      "bucket :  (39, 40)\n",
      "bucket :  (40, 41)\n"
     ]
    },
    {
     "name": "stderr",
     "output_type": "stream",
     "text": [
      " 65%|██████▌   | 13/20 [34:56<19:27, 166.83s/it]"
     ]
    },
    {
     "name": "stdout",
     "output_type": "stream",
     "text": [
      "{'bucketing': 15, 'encoding': 'index', 'drop_act': 8, 'LightGBM': {'max_depth': 10, 'num_leaves': 325, 'min_child_samples': 5}}\n",
      "bucket :  (2, 5)\n",
      "After OverSampling, the shape of train_X: (46950, 14)\n",
      "After OverSampling, the shape of train_y: (46950,) \n",
      "\n",
      "After OverSampling, counts of label '1': 23475\n",
      "After OverSampling, counts of label '0': 23475\n",
      "bucket :  (5, 8)\n",
      "After OverSampling, the shape of train_X: (32620, 38)\n",
      "After OverSampling, the shape of train_y: (32620,) \n",
      "\n",
      "After OverSampling, counts of label '1': 16310\n",
      "After OverSampling, counts of label '0': 16310\n",
      "bucket :  (8, 11)\n",
      "bucket :  (11, 14)\n",
      "bucket :  (14, 17)\n",
      "bucket :  (17, 20)\n",
      "bucket :  (20, 23)\n",
      "bucket :  (23, 26)\n",
      "bucket :  (26, 29)\n",
      "bucket :  (29, 31)\n",
      "bucket :  (31, 33)\n",
      "bucket :  (33, 35)\n",
      "bucket :  (35, 37)\n",
      "bucket :  (37, 39)\n",
      "bucket :  (39, 41)\n"
     ]
    },
    {
     "name": "stderr",
     "output_type": "stream",
     "text": [
      " 70%|███████   | 14/20 [37:10<15:40, 156.81s/it]"
     ]
    },
    {
     "name": "stdout",
     "output_type": "stream",
     "text": [
      "{'bucketing': 6, 'encoding': 'aggregate', 'drop_act': 4, 'Random Forest': {'n_estimators': 634, 'max_depth': 5, 'max_features': 'log2', 'bootstrap': True, 'criterion': 'entropy'}}\n",
      "bucket :  (2, 9)\n",
      "After OverSampling, the shape of train_X: (89050, 17)\n",
      "After OverSampling, the shape of train_y: (89050,) \n",
      "\n",
      "After OverSampling, counts of label '1': 44525\n",
      "After OverSampling, counts of label '0': 44525\n",
      "bucket :  (9, 16)\n",
      "bucket :  (16, 23)\n",
      "bucket :  (23, 29)\n",
      "bucket :  (29, 35)\n",
      "bucket :  (35, 41)\n"
     ]
    },
    {
     "name": "stderr",
     "output_type": "stream",
     "text": [
      " 75%|███████▌  | 15/20 [40:41<14:25, 173.18s/it]"
     ]
    },
    {
     "name": "stdout",
     "output_type": "stream",
     "text": [
      "{'bucketing': 6, 'encoding': 'aggregate', 'drop_act': 4, 'Xgboost': {'max_depth': 14, 'n_estimators': 128, 'learning_rate': 0.05}}\n",
      "bucket :  (2, 9)\n",
      "After OverSampling, the shape of train_X: (89050, 17)\n",
      "After OverSampling, the shape of train_y: (89050,) \n",
      "\n",
      "After OverSampling, counts of label '1': 44525\n",
      "After OverSampling, counts of label '0': 44525\n",
      "bucket :  (9, 16)\n",
      "bucket :  (16, 23)\n",
      "bucket :  (23, 29)\n",
      "bucket :  (29, 35)\n",
      "bucket :  (35, 41)\n"
     ]
    },
    {
     "name": "stderr",
     "output_type": "stream",
     "text": [
      " 80%|████████  | 16/20 [43:44<11:44, 176.15s/it]"
     ]
    },
    {
     "name": "stdout",
     "output_type": "stream",
     "text": [
      "{'bucketing': 2, 'encoding': 'aggregate', 'drop_act': 6, 'Xgboost': {'max_depth': 14, 'n_estimators': 128, 'learning_rate': 0.05}}\n",
      "bucket :  (2, 22)\n",
      "bucket :  (22, 41)\n"
     ]
    },
    {
     "name": "stderr",
     "output_type": "stream",
     "text": [
      " 85%|████████▌ | 17/20 [46:43<08:50, 176.89s/it]"
     ]
    },
    {
     "name": "stdout",
     "output_type": "stream",
     "text": [
      "{'bucketing': 8, 'encoding': 'aggregate', 'drop_act': 4, 'Xgboost': {'max_depth': 14, 'n_estimators': 128, 'learning_rate': 0.05}}\n",
      "bucket :  (2, 7)\n",
      "After OverSampling, the shape of train_X: (70588, 15)\n",
      "After OverSampling, the shape of train_y: (70588,) \n",
      "\n",
      "After OverSampling, counts of label '1': 35294\n",
      "After OverSampling, counts of label '0': 35294\n",
      "bucket :  (7, 12)\n",
      "bucket :  (12, 17)\n",
      "bucket :  (17, 22)\n",
      "bucket :  (22, 27)\n",
      "bucket :  (27, 32)\n",
      "bucket :  (32, 37)\n",
      "bucket :  (37, 41)\n"
     ]
    },
    {
     "name": "stderr",
     "output_type": "stream",
     "text": [
      " 90%|█████████ | 18/20 [49:46<05:57, 178.67s/it]"
     ]
    },
    {
     "name": "stdout",
     "output_type": "stream",
     "text": [
      "{'bucketing': 6, 'encoding': 'aggregate', 'drop_act': 8, 'Decision Tree': {'max_depth': 7, 'min_samples_leaf': 47, 'criterion': 'gini'}}\n",
      "bucket :  (2, 9)\n",
      "After OverSampling, the shape of train_X: (89050, 17)\n",
      "After OverSampling, the shape of train_y: (89050,) \n",
      "\n",
      "After OverSampling, counts of label '1': 44525\n",
      "After OverSampling, counts of label '0': 44525\n",
      "bucket :  (9, 16)\n",
      "bucket :  (16, 23)\n",
      "bucket :  (23, 29)\n",
      "bucket :  (29, 35)\n",
      "bucket :  (35, 41)\n"
     ]
    },
    {
     "name": "stderr",
     "output_type": "stream",
     "text": [
      " 95%|█████████▌| 19/20 [52:32<02:55, 175.03s/it]"
     ]
    },
    {
     "name": "stdout",
     "output_type": "stream",
     "text": [
      "{'bucketing': 21, 'encoding': 'aggregate', 'drop_act': 8, 'LightGBM': {'max_depth': 10, 'num_leaves': 325, 'min_child_samples': 5}}\n",
      "bucket :  (2, 4)\n",
      "After OverSampling, the shape of train_X: (34594, 8)\n",
      "After OverSampling, the shape of train_y: (34594,) \n",
      "\n",
      "After OverSampling, counts of label '1': 17297\n",
      "After OverSampling, counts of label '0': 17297\n",
      "bucket :  (4, 6)\n",
      "After OverSampling, the shape of train_X: (23472, 13)\n",
      "After OverSampling, the shape of train_y: (23472,) \n",
      "\n",
      "After OverSampling, counts of label '1': 11736\n",
      "After OverSampling, counts of label '0': 11736\n",
      "bucket :  (6, 8)\n",
      "bucket :  (8, 10)\n",
      "bucket :  (10, 12)\n",
      "bucket :  (12, 14)\n",
      "bucket :  (14, 16)\n",
      "bucket :  (16, 18)\n",
      "bucket :  (18, 20)\n",
      "bucket :  (20, 22)\n",
      "bucket :  (22, 24)\n",
      "bucket :  (24, 26)\n",
      "bucket :  (26, 28)\n",
      "bucket :  (28, 30)\n",
      "bucket :  (30, 32)\n",
      "bucket :  (32, 34)\n",
      "bucket :  (34, 36)\n",
      "bucket :  (36, 38)\n",
      "bucket :  (38, 39)\n",
      "bucket :  (39, 40)\n",
      "bucket :  (40, 41)\n"
     ]
    },
    {
     "name": "stderr",
     "output_type": "stream",
     "text": [
      "100%|██████████| 20/20 [55:23<00:00, 166.20s/it]\n",
      "  0%|          | 0/20 [00:00<?, ?it/s]"
     ]
    },
    {
     "name": "stdout",
     "output_type": "stream",
     "text": [
      "{'bucketing': 21, 'encoding': 'aggregate', 'drop_act': 6, 'Decision Tree': {'max_depth': 7, 'min_samples_leaf': 47, 'criterion': 'gini'}}\n",
      "bucket :  (2, 4)\n",
      "After OverSampling, the shape of train_X: (34594, 8)\n",
      "After OverSampling, the shape of train_y: (34594,) \n",
      "\n",
      "After OverSampling, counts of label '1': 17297\n",
      "After OverSampling, counts of label '0': 17297\n",
      "bucket :  (4, 6)\n",
      "After OverSampling, the shape of train_X: (23472, 13)\n",
      "After OverSampling, the shape of train_y: (23472,) \n",
      "\n",
      "After OverSampling, counts of label '1': 11736\n",
      "After OverSampling, counts of label '0': 11736\n",
      "bucket :  (6, 8)\n",
      "bucket :  (8, 10)\n",
      "bucket :  (10, 12)\n",
      "bucket :  (12, 14)\n",
      "bucket :  (14, 16)\n",
      "bucket :  (16, 18)\n",
      "bucket :  (18, 20)\n",
      "bucket :  (20, 22)\n",
      "bucket :  (22, 24)\n",
      "bucket :  (24, 26)\n",
      "bucket :  (26, 28)\n",
      "bucket :  (28, 30)\n",
      "bucket :  (30, 32)\n",
      "bucket :  (32, 34)\n",
      "bucket :  (34, 36)\n",
      "bucket :  (36, 38)\n",
      "bucket :  (38, 39)\n",
      "bucket :  (39, 40)\n",
      "bucket :  (40, 41)\n"
     ]
    },
    {
     "name": "stderr",
     "output_type": "stream",
     "text": [
      "  5%|▌         | 1/20 [02:48<53:18, 168.34s/it]"
     ]
    },
    {
     "name": "stdout",
     "output_type": "stream",
     "text": [
      "{'bucketing': 21, 'encoding': 'aggregate', 'drop_act': 6, 'Xgboost': {'max_depth': 14, 'n_estimators': 128, 'learning_rate': 0.05}}\n",
      "bucket :  (2, 4)\n",
      "After OverSampling, the shape of train_X: (34594, 8)\n",
      "After OverSampling, the shape of train_y: (34594,) \n",
      "\n",
      "After OverSampling, counts of label '1': 17297\n",
      "After OverSampling, counts of label '0': 17297\n",
      "bucket :  (4, 6)\n",
      "After OverSampling, the shape of train_X: (23472, 13)\n",
      "After OverSampling, the shape of train_y: (23472,) \n",
      "\n",
      "After OverSampling, counts of label '1': 11736\n",
      "After OverSampling, counts of label '0': 11736\n",
      "bucket :  (6, 8)\n",
      "bucket :  (8, 10)\n",
      "bucket :  (10, 12)\n",
      "bucket :  (12, 14)\n",
      "bucket :  (14, 16)\n",
      "bucket :  (16, 18)\n",
      "bucket :  (18, 20)\n",
      "bucket :  (20, 22)\n",
      "bucket :  (22, 24)\n",
      "bucket :  (24, 26)\n",
      "bucket :  (26, 28)\n",
      "bucket :  (28, 30)\n",
      "bucket :  (30, 32)\n",
      "bucket :  (32, 34)\n",
      "bucket :  (34, 36)\n",
      "bucket :  (36, 38)\n",
      "bucket :  (38, 39)\n",
      "bucket :  (39, 40)\n",
      "bucket :  (40, 41)\n"
     ]
    },
    {
     "name": "stderr",
     "output_type": "stream",
     "text": [
      " 10%|█         | 2/20 [05:52<53:22, 177.93s/it]"
     ]
    },
    {
     "name": "stdout",
     "output_type": "stream",
     "text": [
      "{'bucketing': 8, 'encoding': 'aggregate', 'drop_act': 6, 'Xgboost': {'max_depth': 14, 'n_estimators': 128, 'learning_rate': 0.05}}\n",
      "bucket :  (2, 7)\n",
      "After OverSampling, the shape of train_X: (70588, 15)\n",
      "After OverSampling, the shape of train_y: (70588,) \n",
      "\n",
      "After OverSampling, counts of label '1': 35294\n",
      "After OverSampling, counts of label '0': 35294\n",
      "bucket :  (7, 12)\n",
      "bucket :  (12, 17)\n",
      "bucket :  (17, 22)\n",
      "bucket :  (22, 27)\n",
      "bucket :  (27, 32)\n",
      "bucket :  (32, 37)\n",
      "bucket :  (37, 41)\n"
     ]
    },
    {
     "name": "stderr",
     "output_type": "stream",
     "text": [
      " 15%|█▌        | 3/20 [08:54<50:52, 179.58s/it]"
     ]
    },
    {
     "name": "stdout",
     "output_type": "stream",
     "text": [
      "{'bucketing': 8, 'encoding': 'aggregate', 'drop_act': 6, 'Xgboost': {'max_depth': 14, 'n_estimators': 128, 'learning_rate': 0.05}}\n",
      "bucket :  (2, 7)\n",
      "After OverSampling, the shape of train_X: (70588, 15)\n",
      "After OverSampling, the shape of train_y: (70588,) \n",
      "\n",
      "After OverSampling, counts of label '1': 35294\n",
      "After OverSampling, counts of label '0': 35294\n",
      "bucket :  (7, 12)\n",
      "bucket :  (12, 17)\n",
      "bucket :  (17, 22)\n",
      "bucket :  (22, 27)\n",
      "bucket :  (27, 32)\n",
      "bucket :  (32, 37)\n",
      "bucket :  (37, 41)\n"
     ]
    },
    {
     "name": "stderr",
     "output_type": "stream",
     "text": [
      " 20%|██        | 4/20 [11:56<48:06, 180.38s/it]"
     ]
    },
    {
     "name": "stdout",
     "output_type": "stream",
     "text": [
      "{'bucketing': 26, 'encoding': 'index', 'drop_act': 8, 'Decision Tree': {'max_depth': 7, 'min_samples_leaf': 47, 'criterion': 'gini'}}\n",
      "bucket :  (2, 4)\n",
      "After OverSampling, the shape of train_X: (34594, 11)\n",
      "After OverSampling, the shape of train_y: (34594,) \n",
      "\n",
      "After OverSampling, counts of label '1': 17297\n",
      "After OverSampling, counts of label '0': 17297\n",
      "bucket :  (4, 6)\n",
      "After OverSampling, the shape of train_X: (23472, 19)\n",
      "After OverSampling, the shape of train_y: (23472,) \n",
      "\n",
      "After OverSampling, counts of label '1': 11736\n",
      "After OverSampling, counts of label '0': 11736\n",
      "bucket :  (6, 8)\n",
      "bucket :  (8, 10)\n",
      "bucket :  (10, 12)\n",
      "bucket :  (12, 14)\n",
      "bucket :  (14, 16)\n",
      "bucket :  (16, 18)\n",
      "bucket :  (18, 20)\n",
      "bucket :  (20, 22)\n",
      "bucket :  (22, 24)\n",
      "bucket :  (24, 26)\n",
      "bucket :  (26, 28)\n",
      "bucket :  (28, 29)\n",
      "bucket :  (29, 30)\n",
      "bucket :  (30, 31)\n",
      "bucket :  (31, 32)\n",
      "bucket :  (32, 33)\n",
      "bucket :  (33, 34)\n",
      "bucket :  (34, 35)\n",
      "bucket :  (35, 36)\n",
      "bucket :  (36, 37)\n",
      "bucket :  (37, 38)\n",
      "bucket :  (38, 39)\n",
      "bucket :  (39, 40)\n",
      "bucket :  (40, 41)\n"
     ]
    },
    {
     "name": "stderr",
     "output_type": "stream",
     "text": [
      " 25%|██▌       | 5/20 [14:04<40:25, 161.72s/it]"
     ]
    },
    {
     "name": "stdout",
     "output_type": "stream",
     "text": [
      "{'bucketing': 2, 'encoding': 'aggregate', 'drop_act': 4, 'Random Forest': {'n_estimators': 634, 'max_depth': 5, 'max_features': 'log2', 'bootstrap': True, 'criterion': 'entropy'}}\n",
      "bucket :  (2, 22)\n",
      "bucket :  (22, 41)\n"
     ]
    },
    {
     "name": "stderr",
     "output_type": "stream",
     "text": [
      " 30%|███       | 6/20 [17:23<40:42, 174.46s/it]"
     ]
    },
    {
     "name": "stdout",
     "output_type": "stream",
     "text": [
      "{'bucketing': 8, 'encoding': 'aggregate', 'drop_act': 6, 'Decision Tree': {'max_depth': 7, 'min_samples_leaf': 47, 'criterion': 'gini'}}\n",
      "bucket :  (2, 7)\n",
      "After OverSampling, the shape of train_X: (70588, 15)\n",
      "After OverSampling, the shape of train_y: (70588,) \n",
      "\n",
      "After OverSampling, counts of label '1': 35294\n",
      "After OverSampling, counts of label '0': 35294\n",
      "bucket :  (7, 12)\n",
      "bucket :  (12, 17)\n",
      "bucket :  (17, 22)\n",
      "bucket :  (22, 27)\n",
      "bucket :  (27, 32)\n",
      "bucket :  (32, 37)\n",
      "bucket :  (37, 41)\n"
     ]
    },
    {
     "name": "stderr",
     "output_type": "stream",
     "text": [
      " 35%|███▌      | 7/20 [20:12<37:22, 172.49s/it]"
     ]
    },
    {
     "name": "stdout",
     "output_type": "stream",
     "text": [
      "{'bucketing': 6, 'encoding': 'aggregate', 'drop_act': 6, 'Xgboost': {'max_depth': 14, 'n_estimators': 128, 'learning_rate': 0.05}}\n",
      "bucket :  (2, 9)\n",
      "After OverSampling, the shape of train_X: (89050, 17)\n",
      "After OverSampling, the shape of train_y: (89050,) \n",
      "\n",
      "After OverSampling, counts of label '1': 44525\n",
      "After OverSampling, counts of label '0': 44525\n",
      "bucket :  (9, 16)\n",
      "bucket :  (16, 23)\n",
      "bucket :  (23, 29)\n",
      "bucket :  (29, 35)\n",
      "bucket :  (35, 41)\n"
     ]
    },
    {
     "name": "stderr",
     "output_type": "stream",
     "text": [
      " 40%|████      | 8/20 [23:13<35:01, 175.12s/it]"
     ]
    },
    {
     "name": "stdout",
     "output_type": "stream",
     "text": [
      "{'bucketing': 2, 'encoding': 'aggregate', 'drop_act': 6, 'Xgboost': {'max_depth': 14, 'n_estimators': 128, 'learning_rate': 0.05}}\n",
      "bucket :  (2, 22)\n",
      "bucket :  (22, 41)\n"
     ]
    },
    {
     "name": "stderr",
     "output_type": "stream",
     "text": [
      " 45%|████▌     | 9/20 [26:11<32:19, 176.28s/it]"
     ]
    },
    {
     "name": "stdout",
     "output_type": "stream",
     "text": [
      "{'bucketing': 15, 'encoding': 'index', 'drop_act': 8, 'LightGBM': {'max_depth': 10, 'num_leaves': 325, 'min_child_samples': 5}}\n",
      "bucket :  (2, 5)\n",
      "After OverSampling, the shape of train_X: (46950, 14)\n",
      "After OverSampling, the shape of train_y: (46950,) \n",
      "\n",
      "After OverSampling, counts of label '1': 23475\n",
      "After OverSampling, counts of label '0': 23475\n",
      "bucket :  (5, 8)\n",
      "After OverSampling, the shape of train_X: (32620, 38)\n",
      "After OverSampling, the shape of train_y: (32620,) \n",
      "\n",
      "After OverSampling, counts of label '1': 16310\n",
      "After OverSampling, counts of label '0': 16310\n",
      "bucket :  (8, 11)\n",
      "bucket :  (11, 14)\n",
      "bucket :  (14, 17)\n",
      "bucket :  (17, 20)\n",
      "bucket :  (20, 23)\n",
      "bucket :  (23, 26)\n",
      "bucket :  (26, 29)\n",
      "bucket :  (29, 31)\n",
      "bucket :  (31, 33)\n",
      "bucket :  (33, 35)\n",
      "bucket :  (35, 37)\n",
      "bucket :  (37, 39)\n",
      "bucket :  (39, 41)\n"
     ]
    },
    {
     "name": "stderr",
     "output_type": "stream",
     "text": [
      " 50%|█████     | 10/20 [28:25<27:10, 163.00s/it]"
     ]
    },
    {
     "name": "stdout",
     "output_type": "stream",
     "text": [
      "{'bucketing': 21, 'encoding': 'aggregate', 'drop_act': 4, 'Xgboost': {'max_depth': 14, 'n_estimators': 128, 'learning_rate': 0.05}}\n",
      "bucket :  (2, 4)\n",
      "After OverSampling, the shape of train_X: (34594, 8)\n",
      "After OverSampling, the shape of train_y: (34594,) \n",
      "\n",
      "After OverSampling, counts of label '1': 17297\n",
      "After OverSampling, counts of label '0': 17297\n",
      "bucket :  (4, 6)\n",
      "After OverSampling, the shape of train_X: (23472, 13)\n",
      "After OverSampling, the shape of train_y: (23472,) \n",
      "\n",
      "After OverSampling, counts of label '1': 11736\n",
      "After OverSampling, counts of label '0': 11736\n",
      "bucket :  (6, 8)\n",
      "bucket :  (8, 10)\n",
      "bucket :  (10, 12)\n",
      "bucket :  (12, 14)\n",
      "bucket :  (14, 16)\n",
      "bucket :  (16, 18)\n",
      "bucket :  (18, 20)\n",
      "bucket :  (20, 22)\n",
      "bucket :  (22, 24)\n",
      "bucket :  (24, 26)\n",
      "bucket :  (26, 28)\n",
      "bucket :  (28, 30)\n",
      "bucket :  (30, 32)\n",
      "bucket :  (32, 34)\n",
      "bucket :  (34, 36)\n",
      "bucket :  (36, 38)\n",
      "bucket :  (38, 39)\n",
      "bucket :  (39, 40)\n",
      "bucket :  (40, 41)\n"
     ]
    },
    {
     "name": "stderr",
     "output_type": "stream",
     "text": [
      " 55%|█████▌    | 11/20 [31:31<25:31, 170.18s/it]"
     ]
    },
    {
     "name": "stdout",
     "output_type": "stream",
     "text": [
      "{'bucketing': 2, 'encoding': 'index', 'drop_act': 8, 'LightGBM': {'max_depth': 10, 'num_leaves': 325, 'min_child_samples': 5}}\n",
      "bucket :  (2, 22)\n",
      "bucket :  (22, 41)\n"
     ]
    },
    {
     "name": "stderr",
     "output_type": "stream",
     "text": [
      " 60%|██████    | 12/20 [33:44<21:10, 158.85s/it]"
     ]
    },
    {
     "name": "stdout",
     "output_type": "stream",
     "text": [
      "{'bucketing': 6, 'encoding': 'aggregate', 'drop_act': 4, 'Xgboost': {'max_depth': 14, 'n_estimators': 128, 'learning_rate': 0.05}}\n",
      "bucket :  (2, 9)\n",
      "After OverSampling, the shape of train_X: (89050, 17)\n",
      "After OverSampling, the shape of train_y: (89050,) \n",
      "\n",
      "After OverSampling, counts of label '1': 44525\n",
      "After OverSampling, counts of label '0': 44525\n",
      "bucket :  (9, 16)\n",
      "bucket :  (16, 23)\n",
      "bucket :  (23, 29)\n",
      "bucket :  (29, 35)\n",
      "bucket :  (35, 41)\n"
     ]
    },
    {
     "name": "stderr",
     "output_type": "stream",
     "text": [
      " 65%|██████▌   | 13/20 [36:47<19:22, 166.04s/it]"
     ]
    },
    {
     "name": "stdout",
     "output_type": "stream",
     "text": [
      "{'bucketing': 15, 'encoding': 'index', 'drop_act': 8, 'LightGBM': {'max_depth': 10, 'num_leaves': 325, 'min_child_samples': 5}}\n",
      "bucket :  (2, 5)\n",
      "After OverSampling, the shape of train_X: (46950, 14)\n",
      "After OverSampling, the shape of train_y: (46950,) \n",
      "\n",
      "After OverSampling, counts of label '1': 23475\n",
      "After OverSampling, counts of label '0': 23475\n",
      "bucket :  (5, 8)\n",
      "After OverSampling, the shape of train_X: (32620, 38)\n",
      "After OverSampling, the shape of train_y: (32620,) \n",
      "\n",
      "After OverSampling, counts of label '1': 16310\n",
      "After OverSampling, counts of label '0': 16310\n",
      "bucket :  (8, 11)\n",
      "bucket :  (11, 14)\n",
      "bucket :  (14, 17)\n",
      "bucket :  (17, 20)\n",
      "bucket :  (20, 23)\n",
      "bucket :  (23, 26)\n",
      "bucket :  (26, 29)\n",
      "bucket :  (29, 31)\n",
      "bucket :  (31, 33)\n",
      "bucket :  (33, 35)\n",
      "bucket :  (35, 37)\n",
      "bucket :  (37, 39)\n",
      "bucket :  (39, 41)\n"
     ]
    },
    {
     "name": "stderr",
     "output_type": "stream",
     "text": [
      " 70%|███████   | 14/20 [39:00<15:36, 156.14s/it]"
     ]
    },
    {
     "name": "stdout",
     "output_type": "stream",
     "text": [
      "{'bucketing': 2, 'encoding': 'aggregate', 'drop_act': 6, 'Xgboost': {'max_depth': 14, 'n_estimators': 128, 'learning_rate': 0.05}}\n",
      "bucket :  (2, 22)\n",
      "bucket :  (22, 41)\n"
     ]
    },
    {
     "name": "stderr",
     "output_type": "stream",
     "text": [
      " 75%|███████▌  | 15/20 [42:00<13:36, 163.22s/it]"
     ]
    },
    {
     "name": "stdout",
     "output_type": "stream",
     "text": [
      "{'bucketing': 26, 'encoding': 'aggregate', 'drop_act': 6, 'Xgboost': {'max_depth': 14, 'n_estimators': 128, 'learning_rate': 0.05}}\n",
      "bucket :  (2, 4)\n",
      "After OverSampling, the shape of train_X: (34594, 8)\n",
      "After OverSampling, the shape of train_y: (34594,) \n",
      "\n",
      "After OverSampling, counts of label '1': 17297\n",
      "After OverSampling, counts of label '0': 17297\n",
      "bucket :  (4, 6)\n",
      "After OverSampling, the shape of train_X: (23472, 13)\n",
      "After OverSampling, the shape of train_y: (23472,) \n",
      "\n",
      "After OverSampling, counts of label '1': 11736\n",
      "After OverSampling, counts of label '0': 11736\n",
      "bucket :  (6, 8)\n",
      "bucket :  (8, 10)\n",
      "bucket :  (10, 12)\n",
      "bucket :  (12, 14)\n",
      "bucket :  (14, 16)\n",
      "bucket :  (16, 18)\n",
      "bucket :  (18, 20)\n",
      "bucket :  (20, 22)\n",
      "bucket :  (22, 24)\n",
      "bucket :  (24, 26)\n",
      "bucket :  (26, 28)\n",
      "bucket :  (28, 29)\n",
      "bucket :  (29, 30)\n",
      "bucket :  (30, 31)\n",
      "bucket :  (31, 32)\n",
      "bucket :  (32, 33)\n",
      "bucket :  (33, 34)\n",
      "bucket :  (34, 35)\n",
      "bucket :  (35, 36)\n",
      "bucket :  (36, 37)\n",
      "bucket :  (37, 38)\n",
      "bucket :  (38, 39)\n",
      "bucket :  (39, 40)\n",
      "bucket :  (40, 41)\n"
     ]
    },
    {
     "name": "stderr",
     "output_type": "stream",
     "text": [
      " 80%|████████  | 16/20 [45:06<11:20, 170.17s/it]"
     ]
    },
    {
     "name": "stdout",
     "output_type": "stream",
     "text": [
      "{'bucketing': 26, 'encoding': 'index', 'drop_act': 6, 'Xgboost': {'max_depth': 14, 'n_estimators': 128, 'learning_rate': 0.05}}\n",
      "bucket :  (2, 4)\n",
      "After OverSampling, the shape of train_X: (34594, 11)\n",
      "After OverSampling, the shape of train_y: (34594,) \n",
      "\n",
      "After OverSampling, counts of label '1': 17297\n",
      "After OverSampling, counts of label '0': 17297\n",
      "bucket :  (4, 6)\n",
      "After OverSampling, the shape of train_X: (23472, 19)\n",
      "After OverSampling, the shape of train_y: (23472,) \n",
      "\n",
      "After OverSampling, counts of label '1': 11736\n",
      "After OverSampling, counts of label '0': 11736\n",
      "bucket :  (6, 8)\n",
      "bucket :  (8, 10)\n",
      "bucket :  (10, 12)\n",
      "bucket :  (12, 14)\n",
      "bucket :  (14, 16)\n",
      "bucket :  (16, 18)\n",
      "bucket :  (18, 20)\n",
      "bucket :  (20, 22)\n",
      "bucket :  (22, 24)\n",
      "bucket :  (24, 26)\n",
      "bucket :  (26, 28)\n",
      "bucket :  (28, 29)\n",
      "bucket :  (29, 30)\n",
      "bucket :  (30, 31)\n",
      "bucket :  (31, 32)\n",
      "bucket :  (32, 33)\n",
      "bucket :  (33, 34)\n",
      "bucket :  (34, 35)\n",
      "bucket :  (35, 36)\n",
      "bucket :  (36, 37)\n",
      "bucket :  (37, 38)\n",
      "bucket :  (38, 39)\n",
      "bucket :  (39, 40)\n",
      "bucket :  (40, 41)\n"
     ]
    },
    {
     "name": "stderr",
     "output_type": "stream",
     "text": [
      " 85%|████████▌ | 17/20 [48:10<08:42, 174.24s/it]"
     ]
    },
    {
     "name": "stdout",
     "output_type": "stream",
     "text": [
      "{'bucketing': 21, 'encoding': 'aggregate', 'drop_act': 6, 'Xgboost': {'max_depth': 14, 'n_estimators': 128, 'learning_rate': 0.05}}\n",
      "bucket :  (2, 4)\n",
      "After OverSampling, the shape of train_X: (34594, 8)\n",
      "After OverSampling, the shape of train_y: (34594,) \n",
      "\n",
      "After OverSampling, counts of label '1': 17297\n",
      "After OverSampling, counts of label '0': 17297\n",
      "bucket :  (4, 6)\n",
      "After OverSampling, the shape of train_X: (23472, 13)\n",
      "After OverSampling, the shape of train_y: (23472,) \n",
      "\n",
      "After OverSampling, counts of label '1': 11736\n",
      "After OverSampling, counts of label '0': 11736\n",
      "bucket :  (6, 8)\n",
      "bucket :  (8, 10)\n",
      "bucket :  (10, 12)\n",
      "bucket :  (12, 14)\n",
      "bucket :  (14, 16)\n",
      "bucket :  (16, 18)\n",
      "bucket :  (18, 20)\n",
      "bucket :  (20, 22)\n",
      "bucket :  (22, 24)\n",
      "bucket :  (24, 26)\n",
      "bucket :  (26, 28)\n",
      "bucket :  (28, 30)\n",
      "bucket :  (30, 32)\n",
      "bucket :  (32, 34)\n",
      "bucket :  (34, 36)\n",
      "bucket :  (36, 38)\n",
      "bucket :  (38, 39)\n",
      "bucket :  (39, 40)\n",
      "bucket :  (40, 41)\n"
     ]
    },
    {
     "name": "stderr",
     "output_type": "stream",
     "text": [
      " 90%|█████████ | 18/20 [51:16<05:55, 177.78s/it]"
     ]
    },
    {
     "name": "stdout",
     "output_type": "stream",
     "text": [
      "{'bucketing': 2, 'encoding': 'aggregate', 'drop_act': 6, 'Xgboost': {'max_depth': 14, 'n_estimators': 128, 'learning_rate': 0.05}}\n",
      "bucket :  (2, 22)\n",
      "bucket :  (22, 41)\n"
     ]
    },
    {
     "name": "stderr",
     "output_type": "stream",
     "text": [
      " 95%|█████████▌| 19/20 [54:15<02:58, 178.27s/it]"
     ]
    },
    {
     "name": "stdout",
     "output_type": "stream",
     "text": [
      "{'bucketing': 2, 'encoding': 'index', 'drop_act': 8, 'LightGBM': {'max_depth': 10, 'num_leaves': 325, 'min_child_samples': 5}}\n",
      "bucket :  (2, 22)\n",
      "bucket :  (22, 41)\n"
     ]
    },
    {
     "name": "stderr",
     "output_type": "stream",
     "text": [
      "100%|██████████| 20/20 [56:28<00:00, 169.44s/it]\n",
      "  0%|          | 0/20 [00:00<?, ?it/s]"
     ]
    },
    {
     "name": "stdout",
     "output_type": "stream",
     "text": [
      "{'bucketing': 15, 'encoding': 'index', 'drop_act': 8, 'LightGBM': {'max_depth': 10, 'num_leaves': 325, 'min_child_samples': 5}}\n",
      "bucket :  (2, 5)\n",
      "After OverSampling, the shape of train_X: (46950, 14)\n",
      "After OverSampling, the shape of train_y: (46950,) \n",
      "\n",
      "After OverSampling, counts of label '1': 23475\n",
      "After OverSampling, counts of label '0': 23475\n",
      "bucket :  (5, 8)\n",
      "After OverSampling, the shape of train_X: (32620, 38)\n",
      "After OverSampling, the shape of train_y: (32620,) \n",
      "\n",
      "After OverSampling, counts of label '1': 16310\n",
      "After OverSampling, counts of label '0': 16310\n",
      "bucket :  (8, 11)\n",
      "bucket :  (11, 14)\n",
      "bucket :  (14, 17)\n",
      "bucket :  (17, 20)\n",
      "bucket :  (20, 23)\n",
      "bucket :  (23, 26)\n",
      "bucket :  (26, 29)\n",
      "bucket :  (29, 31)\n",
      "bucket :  (31, 33)\n",
      "bucket :  (33, 35)\n",
      "bucket :  (35, 37)\n",
      "bucket :  (37, 39)\n",
      "bucket :  (39, 41)\n"
     ]
    },
    {
     "name": "stderr",
     "output_type": "stream",
     "text": [
      "  5%|▌         | 1/20 [02:12<42:04, 132.89s/it]"
     ]
    },
    {
     "name": "stdout",
     "output_type": "stream",
     "text": [
      "{'bucketing': 6, 'encoding': 'aggregate', 'drop_act': 4, 'Xgboost': {'max_depth': 14, 'n_estimators': 128, 'learning_rate': 0.05}}\n",
      "bucket :  (2, 9)\n",
      "After OverSampling, the shape of train_X: (89050, 17)\n",
      "After OverSampling, the shape of train_y: (89050,) \n",
      "\n",
      "After OverSampling, counts of label '1': 44525\n",
      "After OverSampling, counts of label '0': 44525\n",
      "bucket :  (9, 16)\n",
      "bucket :  (16, 23)\n",
      "bucket :  (23, 29)\n",
      "bucket :  (29, 35)\n",
      "bucket :  (35, 41)\n"
     ]
    },
    {
     "name": "stderr",
     "output_type": "stream",
     "text": [
      " 10%|█         | 2/20 [05:16<48:51, 162.85s/it]"
     ]
    },
    {
     "name": "stdout",
     "output_type": "stream",
     "text": [
      "{'bucketing': 2, 'encoding': 'aggregate', 'drop_act': 4, 'Random Forest': {'n_estimators': 634, 'max_depth': 5, 'max_features': 'log2', 'bootstrap': True, 'criterion': 'entropy'}}\n",
      "bucket :  (2, 22)\n",
      "bucket :  (22, 41)\n"
     ]
    },
    {
     "name": "stderr",
     "output_type": "stream",
     "text": [
      " 15%|█▌        | 3/20 [08:35<50:45, 179.15s/it]"
     ]
    },
    {
     "name": "stdout",
     "output_type": "stream",
     "text": [
      "{'bucketing': 2, 'encoding': 'aggregate', 'drop_act': 6, 'Decision Tree': {'max_depth': 7, 'min_samples_leaf': 47, 'criterion': 'gini'}}\n",
      "bucket :  (2, 22)\n",
      "bucket :  (22, 41)\n"
     ]
    },
    {
     "name": "stderr",
     "output_type": "stream",
     "text": [
      " 20%|██        | 4/20 [11:23<46:38, 174.90s/it]"
     ]
    },
    {
     "name": "stdout",
     "output_type": "stream",
     "text": [
      "{'bucketing': 2, 'encoding': 'index', 'drop_act': 8, 'LightGBM': {'max_depth': 10, 'num_leaves': 325, 'min_child_samples': 5}}\n",
      "bucket :  (2, 22)\n",
      "bucket :  (22, 41)\n"
     ]
    },
    {
     "name": "stderr",
     "output_type": "stream",
     "text": [
      " 25%|██▌       | 5/20 [13:36<39:53, 159.59s/it]"
     ]
    },
    {
     "name": "stdout",
     "output_type": "stream",
     "text": [
      "{'bucketing': 21, 'encoding': 'aggregate', 'drop_act': 6, 'Xgboost': {'max_depth': 14, 'n_estimators': 128, 'learning_rate': 0.05}}\n",
      "bucket :  (2, 4)\n",
      "After OverSampling, the shape of train_X: (34594, 8)\n",
      "After OverSampling, the shape of train_y: (34594,) \n",
      "\n",
      "After OverSampling, counts of label '1': 17297\n",
      "After OverSampling, counts of label '0': 17297\n",
      "bucket :  (4, 6)\n",
      "After OverSampling, the shape of train_X: (23472, 13)\n",
      "After OverSampling, the shape of train_y: (23472,) \n",
      "\n",
      "After OverSampling, counts of label '1': 11736\n",
      "After OverSampling, counts of label '0': 11736\n",
      "bucket :  (6, 8)\n",
      "bucket :  (8, 10)\n",
      "bucket :  (10, 12)\n",
      "bucket :  (12, 14)\n",
      "bucket :  (14, 16)\n",
      "bucket :  (16, 18)\n",
      "bucket :  (18, 20)\n",
      "bucket :  (20, 22)\n",
      "bucket :  (22, 24)\n",
      "bucket :  (24, 26)\n",
      "bucket :  (26, 28)\n",
      "bucket :  (28, 30)\n",
      "bucket :  (30, 32)\n",
      "bucket :  (32, 34)\n",
      "bucket :  (34, 36)\n",
      "bucket :  (36, 38)\n",
      "bucket :  (38, 39)\n",
      "bucket :  (39, 40)\n",
      "bucket :  (40, 41)\n"
     ]
    },
    {
     "name": "stderr",
     "output_type": "stream",
     "text": [
      " 30%|███       | 6/20 [16:41<39:18, 168.48s/it]"
     ]
    },
    {
     "name": "stdout",
     "output_type": "stream",
     "text": [
      "{'bucketing': 21, 'encoding': 'aggregate', 'drop_act': 8, 'LightGBM': {'max_depth': 10, 'num_leaves': 325, 'min_child_samples': 5}}\n",
      "bucket :  (2, 4)\n",
      "After OverSampling, the shape of train_X: (34594, 8)\n",
      "After OverSampling, the shape of train_y: (34594,) \n",
      "\n",
      "After OverSampling, counts of label '1': 17297\n",
      "After OverSampling, counts of label '0': 17297\n",
      "bucket :  (4, 6)\n",
      "After OverSampling, the shape of train_X: (23472, 13)\n",
      "After OverSampling, the shape of train_y: (23472,) \n",
      "\n",
      "After OverSampling, counts of label '1': 11736\n",
      "After OverSampling, counts of label '0': 11736\n",
      "bucket :  (6, 8)\n",
      "bucket :  (8, 10)\n",
      "bucket :  (10, 12)\n",
      "bucket :  (12, 14)\n",
      "bucket :  (14, 16)\n",
      "bucket :  (16, 18)\n",
      "bucket :  (18, 20)\n",
      "bucket :  (20, 22)\n",
      "bucket :  (22, 24)\n",
      "bucket :  (24, 26)\n",
      "bucket :  (26, 28)\n",
      "bucket :  (28, 30)\n",
      "bucket :  (30, 32)\n",
      "bucket :  (32, 34)\n",
      "bucket :  (34, 36)\n",
      "bucket :  (36, 38)\n",
      "bucket :  (38, 39)\n",
      "bucket :  (39, 40)\n",
      "bucket :  (40, 41)\n"
     ]
    },
    {
     "name": "stderr",
     "output_type": "stream",
     "text": [
      " 35%|███▌      | 7/20 [19:32<36:40, 169.30s/it]"
     ]
    },
    {
     "name": "stdout",
     "output_type": "stream",
     "text": [
      "{'bucketing': 2, 'encoding': 'aggregate', 'drop_act': 6, 'Xgboost': {'max_depth': 14, 'n_estimators': 128, 'learning_rate': 0.05}}\n",
      "bucket :  (2, 22)\n",
      "bucket :  (22, 41)\n"
     ]
    },
    {
     "name": "stderr",
     "output_type": "stream",
     "text": [
      " 40%|████      | 8/20 [22:31<34:26, 172.23s/it]"
     ]
    },
    {
     "name": "stdout",
     "output_type": "stream",
     "text": [
      "{'bucketing': 15, 'encoding': 'aggregate', 'drop_act': 6, 'Xgboost': {'max_depth': 14, 'n_estimators': 128, 'learning_rate': 0.05}}\n",
      "bucket :  (2, 5)\n",
      "After OverSampling, the shape of train_X: (46950, 10)\n",
      "After OverSampling, the shape of train_y: (46950,) \n",
      "\n",
      "After OverSampling, counts of label '1': 23475\n",
      "After OverSampling, counts of label '0': 23475\n",
      "bucket :  (5, 8)\n",
      "After OverSampling, the shape of train_X: (32620, 17)\n",
      "After OverSampling, the shape of train_y: (32620,) \n",
      "\n",
      "After OverSampling, counts of label '1': 16310\n",
      "After OverSampling, counts of label '0': 16310\n",
      "bucket :  (8, 11)\n",
      "bucket :  (11, 14)\n",
      "bucket :  (14, 17)\n",
      "bucket :  (17, 20)\n",
      "bucket :  (20, 23)\n",
      "bucket :  (23, 26)\n",
      "bucket :  (26, 29)\n",
      "bucket :  (29, 31)\n",
      "bucket :  (31, 33)\n",
      "bucket :  (33, 35)\n",
      "bucket :  (35, 37)\n",
      "bucket :  (37, 39)\n",
      "bucket :  (39, 41)\n"
     ]
    },
    {
     "name": "stderr",
     "output_type": "stream",
     "text": [
      " 45%|████▌     | 9/20 [25:35<32:14, 175.88s/it]"
     ]
    },
    {
     "name": "stdout",
     "output_type": "stream",
     "text": [
      "{'bucketing': 21, 'encoding': 'aggregate', 'drop_act': 6, 'Decision Tree': {'max_depth': 7, 'min_samples_leaf': 47, 'criterion': 'gini'}}\n",
      "bucket :  (2, 4)\n",
      "After OverSampling, the shape of train_X: (34594, 8)\n",
      "After OverSampling, the shape of train_y: (34594,) \n",
      "\n",
      "After OverSampling, counts of label '1': 17297\n",
      "After OverSampling, counts of label '0': 17297\n",
      "bucket :  (4, 6)\n",
      "After OverSampling, the shape of train_X: (23472, 13)\n",
      "After OverSampling, the shape of train_y: (23472,) \n",
      "\n",
      "After OverSampling, counts of label '1': 11736\n",
      "After OverSampling, counts of label '0': 11736\n",
      "bucket :  (6, 8)\n",
      "bucket :  (8, 10)\n",
      "bucket :  (10, 12)\n",
      "bucket :  (12, 14)\n",
      "bucket :  (14, 16)\n",
      "bucket :  (16, 18)\n",
      "bucket :  (18, 20)\n",
      "bucket :  (20, 22)\n",
      "bucket :  (22, 24)\n",
      "bucket :  (24, 26)\n",
      "bucket :  (26, 28)\n",
      "bucket :  (28, 30)\n",
      "bucket :  (30, 32)\n",
      "bucket :  (32, 34)\n",
      "bucket :  (34, 36)\n",
      "bucket :  (36, 38)\n",
      "bucket :  (38, 39)\n",
      "bucket :  (39, 40)\n",
      "bucket :  (40, 41)\n"
     ]
    },
    {
     "name": "stderr",
     "output_type": "stream",
     "text": [
      " 50%|█████     | 10/20 [28:23<28:56, 173.64s/it]"
     ]
    },
    {
     "name": "stdout",
     "output_type": "stream",
     "text": [
      "{'bucketing': 8, 'encoding': 'aggregate', 'drop_act': 6, 'Xgboost': {'max_depth': 14, 'n_estimators': 128, 'learning_rate': 0.05}}\n",
      "bucket :  (2, 7)\n",
      "After OverSampling, the shape of train_X: (70588, 15)\n",
      "After OverSampling, the shape of train_y: (70588,) \n",
      "\n",
      "After OverSampling, counts of label '1': 35294\n",
      "After OverSampling, counts of label '0': 35294\n",
      "bucket :  (7, 12)\n",
      "bucket :  (12, 17)\n",
      "bucket :  (17, 22)\n",
      "bucket :  (22, 27)\n",
      "bucket :  (27, 32)\n",
      "bucket :  (32, 37)\n",
      "bucket :  (37, 41)\n"
     ]
    },
    {
     "name": "stderr",
     "output_type": "stream",
     "text": [
      " 55%|█████▌    | 11/20 [31:24<26:23, 175.92s/it]"
     ]
    },
    {
     "name": "stdout",
     "output_type": "stream",
     "text": [
      "{'bucketing': 26, 'encoding': 'index', 'drop_act': 8, 'Xgboost': {'max_depth': 14, 'n_estimators': 128, 'learning_rate': 0.05}}\n",
      "bucket :  (2, 4)\n",
      "After OverSampling, the shape of train_X: (34594, 11)\n",
      "After OverSampling, the shape of train_y: (34594,) \n",
      "\n",
      "After OverSampling, counts of label '1': 17297\n",
      "After OverSampling, counts of label '0': 17297\n",
      "bucket :  (4, 6)\n",
      "After OverSampling, the shape of train_X: (23472, 19)\n",
      "After OverSampling, the shape of train_y: (23472,) \n",
      "\n",
      "After OverSampling, counts of label '1': 11736\n",
      "After OverSampling, counts of label '0': 11736\n",
      "bucket :  (6, 8)\n",
      "bucket :  (8, 10)\n",
      "bucket :  (10, 12)\n",
      "bucket :  (12, 14)\n",
      "bucket :  (14, 16)\n",
      "bucket :  (16, 18)\n",
      "bucket :  (18, 20)\n",
      "bucket :  (20, 22)\n",
      "bucket :  (22, 24)\n",
      "bucket :  (24, 26)\n",
      "bucket :  (26, 28)\n",
      "bucket :  (28, 29)\n",
      "bucket :  (29, 30)\n",
      "bucket :  (30, 31)\n",
      "bucket :  (31, 32)\n",
      "bucket :  (32, 33)\n",
      "bucket :  (33, 34)\n",
      "bucket :  (34, 35)\n",
      "bucket :  (35, 36)\n",
      "bucket :  (36, 37)\n",
      "bucket :  (37, 38)\n",
      "bucket :  (38, 39)\n",
      "bucket :  (39, 40)\n",
      "bucket :  (40, 41)\n"
     ]
    },
    {
     "name": "stderr",
     "output_type": "stream",
     "text": [
      " 60%|██████    | 12/20 [34:24<23:36, 177.06s/it]"
     ]
    },
    {
     "name": "stdout",
     "output_type": "stream",
     "text": [
      "{'bucketing': 26, 'encoding': 'aggregate', 'drop_act': 6, 'Decision Tree': {'max_depth': 7, 'min_samples_leaf': 47, 'criterion': 'gini'}}\n",
      "bucket :  (2, 4)\n",
      "After OverSampling, the shape of train_X: (34594, 8)\n",
      "After OverSampling, the shape of train_y: (34594,) \n",
      "\n",
      "After OverSampling, counts of label '1': 17297\n",
      "After OverSampling, counts of label '0': 17297\n",
      "bucket :  (4, 6)\n",
      "After OverSampling, the shape of train_X: (23472, 13)\n",
      "After OverSampling, the shape of train_y: (23472,) \n",
      "\n",
      "After OverSampling, counts of label '1': 11736\n",
      "After OverSampling, counts of label '0': 11736\n",
      "bucket :  (6, 8)\n",
      "bucket :  (8, 10)\n",
      "bucket :  (10, 12)\n",
      "bucket :  (12, 14)\n",
      "bucket :  (14, 16)\n",
      "bucket :  (16, 18)\n",
      "bucket :  (18, 20)\n",
      "bucket :  (20, 22)\n",
      "bucket :  (22, 24)\n",
      "bucket :  (24, 26)\n",
      "bucket :  (26, 28)\n",
      "bucket :  (28, 29)\n",
      "bucket :  (29, 30)\n",
      "bucket :  (30, 31)\n",
      "bucket :  (31, 32)\n",
      "bucket :  (32, 33)\n",
      "bucket :  (33, 34)\n",
      "bucket :  (34, 35)\n",
      "bucket :  (35, 36)\n",
      "bucket :  (36, 37)\n",
      "bucket :  (37, 38)\n",
      "bucket :  (38, 39)\n",
      "bucket :  (39, 40)\n",
      "bucket :  (40, 41)\n"
     ]
    },
    {
     "name": "stderr",
     "output_type": "stream",
     "text": [
      " 65%|██████▌   | 13/20 [37:13<20:21, 174.55s/it]"
     ]
    },
    {
     "name": "stdout",
     "output_type": "stream",
     "text": [
      "{'bucketing': 21, 'encoding': 'index', 'drop_act': 8, 'Decision Tree': {'max_depth': 7, 'min_samples_leaf': 47, 'criterion': 'gini'}}\n",
      "bucket :  (2, 4)\n",
      "After OverSampling, the shape of train_X: (34594, 11)\n",
      "After OverSampling, the shape of train_y: (34594,) \n",
      "\n",
      "After OverSampling, counts of label '1': 17297\n",
      "After OverSampling, counts of label '0': 17297\n",
      "bucket :  (4, 6)\n",
      "After OverSampling, the shape of train_X: (23472, 19)\n",
      "After OverSampling, the shape of train_y: (23472,) \n",
      "\n",
      "After OverSampling, counts of label '1': 11736\n",
      "After OverSampling, counts of label '0': 11736\n",
      "bucket :  (6, 8)\n",
      "bucket :  (8, 10)\n",
      "bucket :  (10, 12)\n",
      "bucket :  (12, 14)\n",
      "bucket :  (14, 16)\n",
      "bucket :  (16, 18)\n",
      "bucket :  (18, 20)\n",
      "bucket :  (20, 22)\n",
      "bucket :  (22, 24)\n",
      "bucket :  (24, 26)\n",
      "bucket :  (26, 28)\n",
      "bucket :  (28, 30)\n",
      "bucket :  (30, 32)\n",
      "bucket :  (32, 34)\n",
      "bucket :  (34, 36)\n",
      "bucket :  (36, 38)\n",
      "bucket :  (38, 39)\n",
      "bucket :  (39, 40)\n",
      "bucket :  (40, 41)\n"
     ]
    },
    {
     "name": "stderr",
     "output_type": "stream",
     "text": [
      " 70%|███████   | 14/20 [39:21<16:03, 160.66s/it]"
     ]
    },
    {
     "name": "stdout",
     "output_type": "stream",
     "text": [
      "{'bucketing': 2, 'encoding': 'aggregate', 'drop_act': 4, 'Random Forest': {'n_estimators': 634, 'max_depth': 5, 'max_features': 'log2', 'bootstrap': True, 'criterion': 'entropy'}}\n",
      "bucket :  (2, 22)\n",
      "bucket :  (22, 41)\n"
     ]
    },
    {
     "name": "stderr",
     "output_type": "stream",
     "text": [
      " 75%|███████▌  | 15/20 [42:39<14:19, 171.93s/it]"
     ]
    },
    {
     "name": "stdout",
     "output_type": "stream",
     "text": [
      "{'bucketing': 15, 'encoding': 'index', 'drop_act': 8, 'LightGBM': {'max_depth': 10, 'num_leaves': 325, 'min_child_samples': 5}}\n",
      "bucket :  (2, 5)\n",
      "After OverSampling, the shape of train_X: (46950, 14)\n",
      "After OverSampling, the shape of train_y: (46950,) \n",
      "\n",
      "After OverSampling, counts of label '1': 23475\n",
      "After OverSampling, counts of label '0': 23475\n",
      "bucket :  (5, 8)\n",
      "After OverSampling, the shape of train_X: (32620, 38)\n",
      "After OverSampling, the shape of train_y: (32620,) \n",
      "\n",
      "After OverSampling, counts of label '1': 16310\n",
      "After OverSampling, counts of label '0': 16310\n",
      "bucket :  (8, 11)\n",
      "bucket :  (11, 14)\n",
      "bucket :  (14, 17)\n",
      "bucket :  (17, 20)\n",
      "bucket :  (20, 23)\n",
      "bucket :  (23, 26)\n",
      "bucket :  (26, 29)\n",
      "bucket :  (29, 31)\n",
      "bucket :  (31, 33)\n",
      "bucket :  (33, 35)\n",
      "bucket :  (35, 37)\n",
      "bucket :  (37, 39)\n",
      "bucket :  (39, 41)\n"
     ]
    },
    {
     "name": "stderr",
     "output_type": "stream",
     "text": [
      " 80%|████████  | 16/20 [44:53<10:41, 160.30s/it]"
     ]
    },
    {
     "name": "stdout",
     "output_type": "stream",
     "text": [
      "{'bucketing': 6, 'encoding': 'aggregate', 'drop_act': 6, 'Xgboost': {'max_depth': 14, 'n_estimators': 128, 'learning_rate': 0.05}}\n",
      "bucket :  (2, 9)\n",
      "After OverSampling, the shape of train_X: (89050, 17)\n",
      "After OverSampling, the shape of train_y: (89050,) \n",
      "\n",
      "After OverSampling, counts of label '1': 44525\n",
      "After OverSampling, counts of label '0': 44525\n",
      "bucket :  (9, 16)\n",
      "bucket :  (16, 23)\n",
      "bucket :  (23, 29)\n",
      "bucket :  (29, 35)\n",
      "bucket :  (35, 41)\n"
     ]
    },
    {
     "name": "stderr",
     "output_type": "stream",
     "text": [
      " 85%|████████▌ | 17/20 [47:55<08:20, 166.78s/it]"
     ]
    },
    {
     "name": "stdout",
     "output_type": "stream",
     "text": [
      "{'bucketing': 8, 'encoding': 'index', 'drop_act': 8, 'LightGBM': {'max_depth': 10, 'num_leaves': 325, 'min_child_samples': 5}}\n",
      "bucket :  (2, 7)\n",
      "After OverSampling, the shape of train_X: (70588, 29)\n",
      "After OverSampling, the shape of train_y: (70588,) \n",
      "\n",
      "After OverSampling, counts of label '1': 35294\n",
      "After OverSampling, counts of label '0': 35294\n",
      "bucket :  (7, 12)\n",
      "bucket :  (12, 17)\n",
      "bucket :  (17, 22)\n",
      "bucket :  (22, 27)\n",
      "bucket :  (27, 32)\n",
      "bucket :  (32, 37)\n",
      "bucket :  (37, 41)\n"
     ]
    },
    {
     "name": "stderr",
     "output_type": "stream",
     "text": [
      " 90%|█████████ | 18/20 [50:07<05:12, 156.30s/it]"
     ]
    },
    {
     "name": "stdout",
     "output_type": "stream",
     "text": [
      "{'bucketing': 15, 'encoding': 'index', 'drop_act': 8, 'LightGBM': {'max_depth': 10, 'num_leaves': 325, 'min_child_samples': 5}}\n",
      "bucket :  (2, 5)\n",
      "After OverSampling, the shape of train_X: (46950, 14)\n",
      "After OverSampling, the shape of train_y: (46950,) \n",
      "\n",
      "After OverSampling, counts of label '1': 23475\n",
      "After OverSampling, counts of label '0': 23475\n",
      "bucket :  (5, 8)\n",
      "After OverSampling, the shape of train_X: (32620, 38)\n",
      "After OverSampling, the shape of train_y: (32620,) \n",
      "\n",
      "After OverSampling, counts of label '1': 16310\n",
      "After OverSampling, counts of label '0': 16310\n",
      "bucket :  (8, 11)\n",
      "bucket :  (11, 14)\n",
      "bucket :  (14, 17)\n",
      "bucket :  (17, 20)\n",
      "bucket :  (20, 23)\n",
      "bucket :  (23, 26)\n",
      "bucket :  (26, 29)\n",
      "bucket :  (29, 31)\n",
      "bucket :  (31, 33)\n",
      "bucket :  (33, 35)\n",
      "bucket :  (35, 37)\n",
      "bucket :  (37, 39)\n",
      "bucket :  (39, 41)\n"
     ]
    },
    {
     "name": "stderr",
     "output_type": "stream",
     "text": [
      " 95%|█████████▌| 19/20 [52:20<02:29, 149.36s/it]"
     ]
    },
    {
     "name": "stdout",
     "output_type": "stream",
     "text": [
      "{'bucketing': 21, 'encoding': 'aggregate', 'drop_act': 6, 'Xgboost': {'max_depth': 14, 'n_estimators': 128, 'learning_rate': 0.05}}\n",
      "bucket :  (2, 4)\n",
      "After OverSampling, the shape of train_X: (34594, 8)\n",
      "After OverSampling, the shape of train_y: (34594,) \n",
      "\n",
      "After OverSampling, counts of label '1': 17297\n",
      "After OverSampling, counts of label '0': 17297\n",
      "bucket :  (4, 6)\n",
      "After OverSampling, the shape of train_X: (23472, 13)\n",
      "After OverSampling, the shape of train_y: (23472,) \n",
      "\n",
      "After OverSampling, counts of label '1': 11736\n",
      "After OverSampling, counts of label '0': 11736\n",
      "bucket :  (6, 8)\n",
      "bucket :  (8, 10)\n",
      "bucket :  (10, 12)\n",
      "bucket :  (12, 14)\n",
      "bucket :  (14, 16)\n",
      "bucket :  (16, 18)\n",
      "bucket :  (18, 20)\n",
      "bucket :  (20, 22)\n",
      "bucket :  (22, 24)\n",
      "bucket :  (24, 26)\n",
      "bucket :  (26, 28)\n",
      "bucket :  (28, 30)\n",
      "bucket :  (30, 32)\n",
      "bucket :  (32, 34)\n",
      "bucket :  (34, 36)\n",
      "bucket :  (36, 38)\n",
      "bucket :  (38, 39)\n",
      "bucket :  (39, 40)\n",
      "bucket :  (40, 41)\n"
     ]
    },
    {
     "name": "stderr",
     "output_type": "stream",
     "text": [
      "100%|██████████| 20/20 [55:24<00:00, 166.25s/it]\n",
      "  0%|          | 0/20 [00:00<?, ?it/s]"
     ]
    },
    {
     "name": "stdout",
     "output_type": "stream",
     "text": [
      "{'bucketing': 2, 'encoding': 'aggregate', 'drop_act': 4, 'Random Forest': {'n_estimators': 634, 'max_depth': 5, 'max_features': 'log2', 'bootstrap': True, 'criterion': 'entropy'}}\n",
      "bucket :  (2, 22)\n",
      "bucket :  (22, 41)\n"
     ]
    },
    {
     "name": "stderr",
     "output_type": "stream",
     "text": [
      "  5%|▌         | 1/20 [03:19<1:03:01, 199.02s/it]"
     ]
    },
    {
     "name": "stdout",
     "output_type": "stream",
     "text": [
      "{'bucketing': 8, 'encoding': 'index', 'drop_act': 8, 'LightGBM': {'max_depth': 10, 'num_leaves': 325, 'min_child_samples': 5}}\n",
      "bucket :  (2, 7)\n",
      "After OverSampling, the shape of train_X: (70588, 29)\n",
      "After OverSampling, the shape of train_y: (70588,) \n",
      "\n",
      "After OverSampling, counts of label '1': 35294\n",
      "After OverSampling, counts of label '0': 35294\n",
      "bucket :  (7, 12)\n",
      "bucket :  (12, 17)\n",
      "bucket :  (17, 22)\n",
      "bucket :  (22, 27)\n",
      "bucket :  (27, 32)\n",
      "bucket :  (32, 37)\n",
      "bucket :  (37, 41)\n"
     ]
    },
    {
     "name": "stderr",
     "output_type": "stream",
     "text": [
      " 10%|█         | 2/20 [05:30<47:50, 159.48s/it]  "
     ]
    },
    {
     "name": "stdout",
     "output_type": "stream",
     "text": [
      "{'bucketing': 21, 'encoding': 'aggregate', 'drop_act': 6, 'Random Forest': {'n_estimators': 634, 'max_depth': 5, 'max_features': 'log2', 'bootstrap': True, 'criterion': 'entropy'}}\n",
      "bucket :  (2, 4)\n",
      "After OverSampling, the shape of train_X: (34594, 8)\n",
      "After OverSampling, the shape of train_y: (34594,) \n",
      "\n",
      "After OverSampling, counts of label '1': 17297\n",
      "After OverSampling, counts of label '0': 17297\n",
      "bucket :  (4, 6)\n",
      "After OverSampling, the shape of train_X: (23472, 13)\n",
      "After OverSampling, the shape of train_y: (23472,) \n",
      "\n",
      "After OverSampling, counts of label '1': 11736\n",
      "After OverSampling, counts of label '0': 11736\n",
      "bucket :  (6, 8)\n",
      "bucket :  (8, 10)\n",
      "bucket :  (10, 12)\n",
      "bucket :  (12, 14)\n",
      "bucket :  (14, 16)\n",
      "bucket :  (16, 18)\n",
      "bucket :  (18, 20)\n",
      "bucket :  (20, 22)\n",
      "bucket :  (22, 24)\n",
      "bucket :  (24, 26)\n",
      "bucket :  (26, 28)\n",
      "bucket :  (28, 30)\n",
      "bucket :  (30, 32)\n",
      "bucket :  (32, 34)\n",
      "bucket :  (34, 36)\n",
      "bucket :  (36, 38)\n",
      "bucket :  (38, 39)\n",
      "bucket :  (39, 40)\n",
      "bucket :  (40, 41)\n"
     ]
    },
    {
     "name": "stderr",
     "output_type": "stream",
     "text": [
      " 15%|█▌        | 3/20 [09:11<53:08, 187.55s/it]"
     ]
    },
    {
     "name": "stdout",
     "output_type": "stream",
     "text": [
      "{'bucketing': 15, 'encoding': 'aggregate', 'drop_act': 6, 'Xgboost': {'max_depth': 14, 'n_estimators': 128, 'learning_rate': 0.05}}\n",
      "bucket :  (2, 5)\n",
      "After OverSampling, the shape of train_X: (46950, 10)\n",
      "After OverSampling, the shape of train_y: (46950,) \n",
      "\n",
      "After OverSampling, counts of label '1': 23475\n",
      "After OverSampling, counts of label '0': 23475\n",
      "bucket :  (5, 8)\n",
      "After OverSampling, the shape of train_X: (32620, 17)\n",
      "After OverSampling, the shape of train_y: (32620,) \n",
      "\n",
      "After OverSampling, counts of label '1': 16310\n",
      "After OverSampling, counts of label '0': 16310\n",
      "bucket :  (8, 11)\n",
      "bucket :  (11, 14)\n",
      "bucket :  (14, 17)\n",
      "bucket :  (17, 20)\n",
      "bucket :  (20, 23)\n",
      "bucket :  (23, 26)\n",
      "bucket :  (26, 29)\n",
      "bucket :  (29, 31)\n",
      "bucket :  (31, 33)\n",
      "bucket :  (33, 35)\n",
      "bucket :  (35, 37)\n",
      "bucket :  (37, 39)\n",
      "bucket :  (39, 41)\n"
     ]
    },
    {
     "name": "stderr",
     "output_type": "stream",
     "text": [
      " 20%|██        | 4/20 [12:15<49:37, 186.12s/it]"
     ]
    },
    {
     "name": "stdout",
     "output_type": "stream",
     "text": [
      "{'bucketing': 26, 'encoding': 'index', 'drop_act': 8, 'Decision Tree': {'max_depth': 7, 'min_samples_leaf': 47, 'criterion': 'gini'}}\n",
      "bucket :  (2, 4)\n",
      "After OverSampling, the shape of train_X: (34594, 11)\n",
      "After OverSampling, the shape of train_y: (34594,) \n",
      "\n",
      "After OverSampling, counts of label '1': 17297\n",
      "After OverSampling, counts of label '0': 17297\n",
      "bucket :  (4, 6)\n",
      "After OverSampling, the shape of train_X: (23472, 19)\n",
      "After OverSampling, the shape of train_y: (23472,) \n",
      "\n",
      "After OverSampling, counts of label '1': 11736\n",
      "After OverSampling, counts of label '0': 11736\n",
      "bucket :  (6, 8)\n",
      "bucket :  (8, 10)\n",
      "bucket :  (10, 12)\n",
      "bucket :  (12, 14)\n",
      "bucket :  (14, 16)\n",
      "bucket :  (16, 18)\n",
      "bucket :  (18, 20)\n",
      "bucket :  (20, 22)\n",
      "bucket :  (22, 24)\n",
      "bucket :  (24, 26)\n",
      "bucket :  (26, 28)\n",
      "bucket :  (28, 29)\n",
      "bucket :  (29, 30)\n",
      "bucket :  (30, 31)\n",
      "bucket :  (31, 32)\n",
      "bucket :  (32, 33)\n",
      "bucket :  (33, 34)\n",
      "bucket :  (34, 35)\n",
      "bucket :  (35, 36)\n",
      "bucket :  (36, 37)\n",
      "bucket :  (37, 38)\n",
      "bucket :  (38, 39)\n",
      "bucket :  (39, 40)\n",
      "bucket :  (40, 41)\n"
     ]
    },
    {
     "name": "stderr",
     "output_type": "stream",
     "text": [
      " 25%|██▌       | 5/20 [14:24<41:19, 165.32s/it]"
     ]
    },
    {
     "name": "stdout",
     "output_type": "stream",
     "text": [
      "{'bucketing': 21, 'encoding': 'aggregate', 'drop_act': 6, 'Decision Tree': {'max_depth': 7, 'min_samples_leaf': 47, 'criterion': 'gini'}}\n",
      "bucket :  (2, 4)\n",
      "After OverSampling, the shape of train_X: (34594, 8)\n",
      "After OverSampling, the shape of train_y: (34594,) \n",
      "\n",
      "After OverSampling, counts of label '1': 17297\n",
      "After OverSampling, counts of label '0': 17297\n",
      "bucket :  (4, 6)\n",
      "After OverSampling, the shape of train_X: (23472, 13)\n",
      "After OverSampling, the shape of train_y: (23472,) \n",
      "\n",
      "After OverSampling, counts of label '1': 11736\n",
      "After OverSampling, counts of label '0': 11736\n",
      "bucket :  (6, 8)\n",
      "bucket :  (8, 10)\n",
      "bucket :  (10, 12)\n",
      "bucket :  (12, 14)\n",
      "bucket :  (14, 16)\n",
      "bucket :  (16, 18)\n",
      "bucket :  (18, 20)\n",
      "bucket :  (20, 22)\n",
      "bucket :  (22, 24)\n",
      "bucket :  (24, 26)\n",
      "bucket :  (26, 28)\n",
      "bucket :  (28, 30)\n",
      "bucket :  (30, 32)\n",
      "bucket :  (32, 34)\n",
      "bucket :  (34, 36)\n",
      "bucket :  (36, 38)\n",
      "bucket :  (38, 39)\n",
      "bucket :  (39, 40)\n",
      "bucket :  (40, 41)\n"
     ]
    },
    {
     "name": "stderr",
     "output_type": "stream",
     "text": [
      " 30%|███       | 6/20 [17:12<38:49, 166.42s/it]"
     ]
    },
    {
     "name": "stdout",
     "output_type": "stream",
     "text": [
      "{'bucketing': 8, 'encoding': 'index', 'drop_act': 8, 'LightGBM': {'max_depth': 10, 'num_leaves': 325, 'min_child_samples': 5}}\n",
      "bucket :  (2, 7)\n",
      "After OverSampling, the shape of train_X: (70588, 29)\n",
      "After OverSampling, the shape of train_y: (70588,) \n",
      "\n",
      "After OverSampling, counts of label '1': 35294\n",
      "After OverSampling, counts of label '0': 35294\n",
      "bucket :  (7, 12)\n",
      "bucket :  (12, 17)\n",
      "bucket :  (17, 22)\n",
      "bucket :  (22, 27)\n",
      "bucket :  (27, 32)\n",
      "bucket :  (32, 37)\n",
      "bucket :  (37, 41)\n"
     ]
    },
    {
     "name": "stderr",
     "output_type": "stream",
     "text": [
      " 35%|███▌      | 7/20 [19:25<33:38, 155.30s/it]"
     ]
    },
    {
     "name": "stdout",
     "output_type": "stream",
     "text": [
      "{'bucketing': 2, 'encoding': 'aggregate', 'drop_act': 6, 'Xgboost': {'max_depth': 14, 'n_estimators': 128, 'learning_rate': 0.05}}\n",
      "bucket :  (2, 22)\n",
      "bucket :  (22, 41)\n"
     ]
    },
    {
     "name": "stderr",
     "output_type": "stream",
     "text": [
      " 40%|████      | 8/20 [22:24<32:34, 162.90s/it]"
     ]
    },
    {
     "name": "stdout",
     "output_type": "stream",
     "text": [
      "{'bucketing': 15, 'encoding': 'index', 'drop_act': 6, 'Xgboost': {'max_depth': 14, 'n_estimators': 128, 'learning_rate': 0.05}}\n",
      "bucket :  (2, 5)\n",
      "After OverSampling, the shape of train_X: (46950, 14)\n",
      "After OverSampling, the shape of train_y: (46950,) \n",
      "\n",
      "After OverSampling, counts of label '1': 23475\n",
      "After OverSampling, counts of label '0': 23475\n",
      "bucket :  (5, 8)\n",
      "After OverSampling, the shape of train_X: (32620, 38)\n",
      "After OverSampling, the shape of train_y: (32620,) \n",
      "\n",
      "After OverSampling, counts of label '1': 16310\n",
      "After OverSampling, counts of label '0': 16310\n",
      "bucket :  (8, 11)\n",
      "bucket :  (11, 14)\n",
      "bucket :  (14, 17)\n",
      "bucket :  (17, 20)\n",
      "bucket :  (20, 23)\n",
      "bucket :  (23, 26)\n",
      "bucket :  (26, 29)\n",
      "bucket :  (29, 31)\n",
      "bucket :  (31, 33)\n",
      "bucket :  (33, 35)\n",
      "bucket :  (35, 37)\n",
      "bucket :  (37, 39)\n",
      "bucket :  (39, 41)\n"
     ]
    },
    {
     "name": "stderr",
     "output_type": "stream",
     "text": [
      " 45%|████▌     | 9/20 [25:27<31:00, 169.10s/it]"
     ]
    },
    {
     "name": "stdout",
     "output_type": "stream",
     "text": [
      "{'bucketing': 8, 'encoding': 'aggregate', 'drop_act': 6, 'Xgboost': {'max_depth': 14, 'n_estimators': 128, 'learning_rate': 0.05}}\n",
      "bucket :  (2, 7)\n",
      "After OverSampling, the shape of train_X: (70588, 15)\n",
      "After OverSampling, the shape of train_y: (70588,) \n",
      "\n",
      "After OverSampling, counts of label '1': 35294\n",
      "After OverSampling, counts of label '0': 35294\n",
      "bucket :  (7, 12)\n",
      "bucket :  (12, 17)\n",
      "bucket :  (17, 22)\n",
      "bucket :  (22, 27)\n",
      "bucket :  (27, 32)\n",
      "bucket :  (32, 37)\n",
      "bucket :  (37, 41)\n"
     ]
    },
    {
     "name": "stderr",
     "output_type": "stream",
     "text": [
      " 50%|█████     | 10/20 [28:28<28:50, 173.06s/it]"
     ]
    },
    {
     "name": "stdout",
     "output_type": "stream",
     "text": [
      "{'bucketing': 15, 'encoding': 'index', 'drop_act': 8, 'LightGBM': {'max_depth': 10, 'num_leaves': 325, 'min_child_samples': 5}}\n",
      "bucket :  (2, 5)\n",
      "After OverSampling, the shape of train_X: (46950, 14)\n",
      "After OverSampling, the shape of train_y: (46950,) \n",
      "\n",
      "After OverSampling, counts of label '1': 23475\n",
      "After OverSampling, counts of label '0': 23475\n",
      "bucket :  (5, 8)\n",
      "After OverSampling, the shape of train_X: (32620, 38)\n",
      "After OverSampling, the shape of train_y: (32620,) \n",
      "\n",
      "After OverSampling, counts of label '1': 16310\n",
      "After OverSampling, counts of label '0': 16310\n",
      "bucket :  (8, 11)\n",
      "bucket :  (11, 14)\n",
      "bucket :  (14, 17)\n",
      "bucket :  (17, 20)\n",
      "bucket :  (20, 23)\n",
      "bucket :  (23, 26)\n",
      "bucket :  (26, 29)\n",
      "bucket :  (29, 31)\n",
      "bucket :  (31, 33)\n",
      "bucket :  (33, 35)\n",
      "bucket :  (35, 37)\n",
      "bucket :  (37, 39)\n",
      "bucket :  (39, 41)\n"
     ]
    },
    {
     "name": "stderr",
     "output_type": "stream",
     "text": [
      " 55%|█████▌    | 11/20 [30:42<24:08, 161.00s/it]"
     ]
    },
    {
     "name": "stdout",
     "output_type": "stream",
     "text": [
      "{'bucketing': 26, 'encoding': 'index', 'drop_act': 8, 'Xgboost': {'max_depth': 14, 'n_estimators': 128, 'learning_rate': 0.05}}\n",
      "bucket :  (2, 4)\n",
      "After OverSampling, the shape of train_X: (34594, 11)\n",
      "After OverSampling, the shape of train_y: (34594,) \n",
      "\n",
      "After OverSampling, counts of label '1': 17297\n",
      "After OverSampling, counts of label '0': 17297\n",
      "bucket :  (4, 6)\n",
      "After OverSampling, the shape of train_X: (23472, 19)\n",
      "After OverSampling, the shape of train_y: (23472,) \n",
      "\n",
      "After OverSampling, counts of label '1': 11736\n",
      "After OverSampling, counts of label '0': 11736\n",
      "bucket :  (6, 8)\n",
      "bucket :  (8, 10)\n",
      "bucket :  (10, 12)\n",
      "bucket :  (12, 14)\n",
      "bucket :  (14, 16)\n",
      "bucket :  (16, 18)\n",
      "bucket :  (18, 20)\n",
      "bucket :  (20, 22)\n",
      "bucket :  (22, 24)\n",
      "bucket :  (24, 26)\n",
      "bucket :  (26, 28)\n",
      "bucket :  (28, 29)\n",
      "bucket :  (29, 30)\n",
      "bucket :  (30, 31)\n",
      "bucket :  (31, 32)\n",
      "bucket :  (32, 33)\n",
      "bucket :  (33, 34)\n",
      "bucket :  (34, 35)\n",
      "bucket :  (35, 36)\n",
      "bucket :  (36, 37)\n",
      "bucket :  (37, 38)\n",
      "bucket :  (38, 39)\n",
      "bucket :  (39, 40)\n",
      "bucket :  (40, 41)\n"
     ]
    },
    {
     "name": "stderr",
     "output_type": "stream",
     "text": [
      " 60%|██████    | 12/20 [33:42<22:13, 166.66s/it]"
     ]
    },
    {
     "name": "stdout",
     "output_type": "stream",
     "text": [
      "{'bucketing': 8, 'encoding': 'aggregate', 'drop_act': 6, 'Xgboost': {'max_depth': 14, 'n_estimators': 128, 'learning_rate': 0.05}}\n",
      "bucket :  (2, 7)\n",
      "After OverSampling, the shape of train_X: (70588, 15)\n",
      "After OverSampling, the shape of train_y: (70588,) \n",
      "\n",
      "After OverSampling, counts of label '1': 35294\n",
      "After OverSampling, counts of label '0': 35294\n",
      "bucket :  (7, 12)\n",
      "bucket :  (12, 17)\n",
      "bucket :  (17, 22)\n",
      "bucket :  (22, 27)\n",
      "bucket :  (27, 32)\n",
      "bucket :  (32, 37)\n",
      "bucket :  (37, 41)\n"
     ]
    },
    {
     "name": "stderr",
     "output_type": "stream",
     "text": [
      " 65%|██████▌   | 13/20 [36:43<19:58, 171.16s/it]"
     ]
    },
    {
     "name": "stdout",
     "output_type": "stream",
     "text": [
      "{'bucketing': 21, 'encoding': 'aggregate', 'drop_act': 4, 'Random Forest': {'n_estimators': 634, 'max_depth': 5, 'max_features': 'log2', 'bootstrap': True, 'criterion': 'entropy'}}\n",
      "bucket :  (2, 4)\n",
      "After OverSampling, the shape of train_X: (34594, 8)\n",
      "After OverSampling, the shape of train_y: (34594,) \n",
      "\n",
      "After OverSampling, counts of label '1': 17297\n",
      "After OverSampling, counts of label '0': 17297\n",
      "bucket :  (4, 6)\n",
      "After OverSampling, the shape of train_X: (23472, 13)\n",
      "After OverSampling, the shape of train_y: (23472,) \n",
      "\n",
      "After OverSampling, counts of label '1': 11736\n",
      "After OverSampling, counts of label '0': 11736\n",
      "bucket :  (6, 8)\n",
      "bucket :  (8, 10)\n",
      "bucket :  (10, 12)\n",
      "bucket :  (12, 14)\n",
      "bucket :  (14, 16)\n",
      "bucket :  (16, 18)\n",
      "bucket :  (18, 20)\n",
      "bucket :  (20, 22)\n",
      "bucket :  (22, 24)\n",
      "bucket :  (24, 26)\n",
      "bucket :  (26, 28)\n",
      "bucket :  (28, 30)\n",
      "bucket :  (30, 32)\n",
      "bucket :  (32, 34)\n",
      "bucket :  (34, 36)\n",
      "bucket :  (36, 38)\n",
      "bucket :  (38, 39)\n",
      "bucket :  (39, 40)\n",
      "bucket :  (40, 41)\n"
     ]
    },
    {
     "name": "stderr",
     "output_type": "stream",
     "text": [
      " 70%|███████   | 14/20 [40:26<18:40, 186.82s/it]"
     ]
    },
    {
     "name": "stdout",
     "output_type": "stream",
     "text": [
      "{'bucketing': 6, 'encoding': 'aggregate', 'drop_act': 4, 'Random Forest': {'n_estimators': 634, 'max_depth': 5, 'max_features': 'log2', 'bootstrap': True, 'criterion': 'entropy'}}\n",
      "bucket :  (2, 9)\n",
      "After OverSampling, the shape of train_X: (89050, 17)\n",
      "After OverSampling, the shape of train_y: (89050,) \n",
      "\n",
      "After OverSampling, counts of label '1': 44525\n",
      "After OverSampling, counts of label '0': 44525\n",
      "bucket :  (9, 16)\n",
      "bucket :  (16, 23)\n",
      "bucket :  (23, 29)\n",
      "bucket :  (29, 35)\n",
      "bucket :  (35, 41)\n"
     ]
    },
    {
     "name": "stderr",
     "output_type": "stream",
     "text": [
      " 75%|███████▌  | 15/20 [43:58<16:12, 194.40s/it]"
     ]
    },
    {
     "name": "stdout",
     "output_type": "stream",
     "text": [
      "{'bucketing': 21, 'encoding': 'aggregate', 'drop_act': 6, 'Decision Tree': {'max_depth': 7, 'min_samples_leaf': 47, 'criterion': 'gini'}}\n",
      "bucket :  (2, 4)\n",
      "After OverSampling, the shape of train_X: (34594, 8)\n",
      "After OverSampling, the shape of train_y: (34594,) \n",
      "\n",
      "After OverSampling, counts of label '1': 17297\n",
      "After OverSampling, counts of label '0': 17297\n",
      "bucket :  (4, 6)\n",
      "After OverSampling, the shape of train_X: (23472, 13)\n",
      "After OverSampling, the shape of train_y: (23472,) \n",
      "\n",
      "After OverSampling, counts of label '1': 11736\n",
      "After OverSampling, counts of label '0': 11736\n",
      "bucket :  (6, 8)\n",
      "bucket :  (8, 10)\n",
      "bucket :  (10, 12)\n",
      "bucket :  (12, 14)\n",
      "bucket :  (14, 16)\n",
      "bucket :  (16, 18)\n",
      "bucket :  (18, 20)\n",
      "bucket :  (20, 22)\n",
      "bucket :  (22, 24)\n",
      "bucket :  (24, 26)\n",
      "bucket :  (26, 28)\n",
      "bucket :  (28, 30)\n",
      "bucket :  (30, 32)\n",
      "bucket :  (32, 34)\n",
      "bucket :  (34, 36)\n",
      "bucket :  (36, 38)\n",
      "bucket :  (38, 39)\n",
      "bucket :  (39, 40)\n",
      "bucket :  (40, 41)\n"
     ]
    },
    {
     "name": "stderr",
     "output_type": "stream",
     "text": [
      " 80%|████████  | 16/20 [46:47<12:27, 186.76s/it]"
     ]
    },
    {
     "name": "stdout",
     "output_type": "stream",
     "text": [
      "{'bucketing': 15, 'encoding': 'index', 'drop_act': 8, 'LightGBM': {'max_depth': 10, 'num_leaves': 325, 'min_child_samples': 5}}\n",
      "bucket :  (2, 5)\n",
      "After OverSampling, the shape of train_X: (46950, 14)\n",
      "After OverSampling, the shape of train_y: (46950,) \n",
      "\n",
      "After OverSampling, counts of label '1': 23475\n",
      "After OverSampling, counts of label '0': 23475\n",
      "bucket :  (5, 8)\n",
      "After OverSampling, the shape of train_X: (32620, 38)\n",
      "After OverSampling, the shape of train_y: (32620,) \n",
      "\n",
      "After OverSampling, counts of label '1': 16310\n",
      "After OverSampling, counts of label '0': 16310\n",
      "bucket :  (8, 11)\n",
      "bucket :  (11, 14)\n",
      "bucket :  (14, 17)\n",
      "bucket :  (17, 20)\n",
      "bucket :  (20, 23)\n",
      "bucket :  (23, 26)\n",
      "bucket :  (26, 29)\n",
      "bucket :  (29, 31)\n",
      "bucket :  (31, 33)\n",
      "bucket :  (33, 35)\n",
      "bucket :  (35, 37)\n",
      "bucket :  (37, 39)\n",
      "bucket :  (39, 41)\n"
     ]
    },
    {
     "name": "stderr",
     "output_type": "stream",
     "text": [
      " 85%|████████▌ | 17/20 [49:01<08:32, 170.71s/it]"
     ]
    },
    {
     "name": "stdout",
     "output_type": "stream",
     "text": [
      "{'bucketing': 2, 'encoding': 'index', 'drop_act': 8, 'Decision Tree': {'max_depth': 7, 'min_samples_leaf': 47, 'criterion': 'gini'}}\n",
      "bucket :  (2, 22)\n",
      "bucket :  (22, 41)\n"
     ]
    },
    {
     "name": "stderr",
     "output_type": "stream",
     "text": [
      " 90%|█████████ | 18/20 [51:13<05:18, 159.05s/it]"
     ]
    },
    {
     "name": "stdout",
     "output_type": "stream",
     "text": [
      "{'bucketing': 15, 'encoding': 'aggregate', 'drop_act': 6, 'Xgboost': {'max_depth': 14, 'n_estimators': 128, 'learning_rate': 0.05}}\n",
      "bucket :  (2, 5)\n",
      "After OverSampling, the shape of train_X: (46950, 10)\n",
      "After OverSampling, the shape of train_y: (46950,) \n",
      "\n",
      "After OverSampling, counts of label '1': 23475\n",
      "After OverSampling, counts of label '0': 23475\n",
      "bucket :  (5, 8)\n",
      "After OverSampling, the shape of train_X: (32620, 17)\n",
      "After OverSampling, the shape of train_y: (32620,) \n",
      "\n",
      "After OverSampling, counts of label '1': 16310\n",
      "After OverSampling, counts of label '0': 16310\n",
      "bucket :  (8, 11)\n",
      "bucket :  (11, 14)\n",
      "bucket :  (14, 17)\n",
      "bucket :  (17, 20)\n",
      "bucket :  (20, 23)\n",
      "bucket :  (23, 26)\n",
      "bucket :  (26, 29)\n",
      "bucket :  (29, 31)\n",
      "bucket :  (31, 33)\n",
      "bucket :  (33, 35)\n",
      "bucket :  (35, 37)\n",
      "bucket :  (37, 39)\n",
      "bucket :  (39, 41)\n"
     ]
    },
    {
     "name": "stderr",
     "output_type": "stream",
     "text": [
      " 95%|█████████▌| 19/20 [54:16<02:46, 166.46s/it]"
     ]
    },
    {
     "name": "stdout",
     "output_type": "stream",
     "text": [
      "{'bucketing': 2, 'encoding': 'index', 'drop_act': 6, 'Xgboost': {'max_depth': 14, 'n_estimators': 128, 'learning_rate': 0.05}}\n",
      "bucket :  (2, 22)\n",
      "bucket :  (22, 41)\n"
     ]
    },
    {
     "name": "stderr",
     "output_type": "stream",
     "text": [
      "100%|██████████| 20/20 [57:58<00:00, 173.95s/it]\n",
      "  0%|          | 0/20 [00:00<?, ?it/s]"
     ]
    },
    {
     "name": "stdout",
     "output_type": "stream",
     "text": [
      "{'bucketing': 21, 'encoding': 'aggregate', 'drop_act': 6, 'Decision Tree': {'max_depth': 7, 'min_samples_leaf': 47, 'criterion': 'gini'}}\n",
      "bucket :  (2, 4)\n",
      "After OverSampling, the shape of train_X: (34594, 8)\n",
      "After OverSampling, the shape of train_y: (34594,) \n",
      "\n",
      "After OverSampling, counts of label '1': 17297\n",
      "After OverSampling, counts of label '0': 17297\n",
      "bucket :  (4, 6)\n",
      "After OverSampling, the shape of train_X: (23472, 13)\n",
      "After OverSampling, the shape of train_y: (23472,) \n",
      "\n",
      "After OverSampling, counts of label '1': 11736\n",
      "After OverSampling, counts of label '0': 11736\n",
      "bucket :  (6, 8)\n",
      "bucket :  (8, 10)\n",
      "bucket :  (10, 12)\n",
      "bucket :  (12, 14)\n",
      "bucket :  (14, 16)\n",
      "bucket :  (16, 18)\n",
      "bucket :  (18, 20)\n",
      "bucket :  (20, 22)\n",
      "bucket :  (22, 24)\n",
      "bucket :  (24, 26)\n",
      "bucket :  (26, 28)\n",
      "bucket :  (28, 30)\n",
      "bucket :  (30, 32)\n",
      "bucket :  (32, 34)\n",
      "bucket :  (34, 36)\n",
      "bucket :  (36, 38)\n",
      "bucket :  (38, 39)\n",
      "bucket :  (39, 40)\n",
      "bucket :  (40, 41)\n"
     ]
    },
    {
     "name": "stderr",
     "output_type": "stream",
     "text": [
      "  5%|▌         | 1/20 [02:48<53:26, 168.76s/it]"
     ]
    },
    {
     "name": "stdout",
     "output_type": "stream",
     "text": [
      "{'bucketing': 2, 'encoding': 'aggregate', 'drop_act': 6, 'Xgboost': {'max_depth': 14, 'n_estimators': 128, 'learning_rate': 0.05}}\n",
      "bucket :  (2, 22)\n",
      "bucket :  (22, 41)\n"
     ]
    },
    {
     "name": "stderr",
     "output_type": "stream",
     "text": [
      " 10%|█         | 2/20 [05:47<52:23, 174.66s/it]"
     ]
    },
    {
     "name": "stdout",
     "output_type": "stream",
     "text": [
      "{'bucketing': 21, 'encoding': 'aggregate', 'drop_act': 6, 'Decision Tree': {'max_depth': 7, 'min_samples_leaf': 47, 'criterion': 'gini'}}\n",
      "bucket :  (2, 4)\n",
      "After OverSampling, the shape of train_X: (34594, 8)\n",
      "After OverSampling, the shape of train_y: (34594,) \n",
      "\n",
      "After OverSampling, counts of label '1': 17297\n",
      "After OverSampling, counts of label '0': 17297\n",
      "bucket :  (4, 6)\n",
      "After OverSampling, the shape of train_X: (23472, 13)\n",
      "After OverSampling, the shape of train_y: (23472,) \n",
      "\n",
      "After OverSampling, counts of label '1': 11736\n",
      "After OverSampling, counts of label '0': 11736\n",
      "bucket :  (6, 8)\n",
      "bucket :  (8, 10)\n",
      "bucket :  (10, 12)\n",
      "bucket :  (12, 14)\n",
      "bucket :  (14, 16)\n",
      "bucket :  (16, 18)\n",
      "bucket :  (18, 20)\n",
      "bucket :  (20, 22)\n",
      "bucket :  (22, 24)\n",
      "bucket :  (24, 26)\n",
      "bucket :  (26, 28)\n",
      "bucket :  (28, 30)\n",
      "bucket :  (30, 32)\n",
      "bucket :  (32, 34)\n",
      "bucket :  (34, 36)\n",
      "bucket :  (36, 38)\n",
      "bucket :  (38, 39)\n",
      "bucket :  (39, 40)\n",
      "bucket :  (40, 41)\n"
     ]
    },
    {
     "name": "stderr",
     "output_type": "stream",
     "text": [
      " 15%|█▌        | 3/20 [08:35<48:37, 171.60s/it]"
     ]
    },
    {
     "name": "stdout",
     "output_type": "stream",
     "text": [
      "{'bucketing': 21, 'encoding': 'aggregate', 'drop_act': 6, 'Random Forest': {'n_estimators': 634, 'max_depth': 5, 'max_features': 'log2', 'bootstrap': True, 'criterion': 'entropy'}}\n",
      "bucket :  (2, 4)\n",
      "After OverSampling, the shape of train_X: (34594, 8)\n",
      "After OverSampling, the shape of train_y: (34594,) \n",
      "\n",
      "After OverSampling, counts of label '1': 17297\n",
      "After OverSampling, counts of label '0': 17297\n",
      "bucket :  (4, 6)\n",
      "After OverSampling, the shape of train_X: (23472, 13)\n",
      "After OverSampling, the shape of train_y: (23472,) \n",
      "\n",
      "After OverSampling, counts of label '1': 11736\n",
      "After OverSampling, counts of label '0': 11736\n",
      "bucket :  (6, 8)\n",
      "bucket :  (8, 10)\n",
      "bucket :  (10, 12)\n",
      "bucket :  (12, 14)\n",
      "bucket :  (14, 16)\n",
      "bucket :  (16, 18)\n",
      "bucket :  (18, 20)\n",
      "bucket :  (20, 22)\n",
      "bucket :  (22, 24)\n",
      "bucket :  (24, 26)\n",
      "bucket :  (26, 28)\n",
      "bucket :  (28, 30)\n",
      "bucket :  (30, 32)\n",
      "bucket :  (32, 34)\n",
      "bucket :  (34, 36)\n",
      "bucket :  (36, 38)\n",
      "bucket :  (38, 39)\n",
      "bucket :  (39, 40)\n",
      "bucket :  (40, 41)\n"
     ]
    },
    {
     "name": "stderr",
     "output_type": "stream",
     "text": [
      " 20%|██        | 4/20 [12:16<50:56, 191.04s/it]"
     ]
    },
    {
     "name": "stdout",
     "output_type": "stream",
     "text": [
      "{'bucketing': 6, 'encoding': 'index', 'drop_act': 8, 'Xgboost': {'max_depth': 14, 'n_estimators': 128, 'learning_rate': 0.05}}\n",
      "bucket :  (2, 9)\n",
      "After OverSampling, the shape of train_X: (89050, 52)\n",
      "After OverSampling, the shape of train_y: (89050,) \n",
      "\n",
      "After OverSampling, counts of label '1': 44525\n",
      "After OverSampling, counts of label '0': 44525\n",
      "bucket :  (9, 16)\n",
      "bucket :  (16, 23)\n",
      "bucket :  (23, 29)\n",
      "bucket :  (29, 35)\n",
      "bucket :  (35, 41)\n"
     ]
    },
    {
     "name": "stderr",
     "output_type": "stream",
     "text": [
      " 25%|██▌       | 5/20 [15:21<47:14, 189.00s/it]"
     ]
    },
    {
     "name": "stdout",
     "output_type": "stream",
     "text": [
      "{'bucketing': 15, 'encoding': 'index', 'drop_act': 8, 'LightGBM': {'max_depth': 10, 'num_leaves': 325, 'min_child_samples': 5}}\n",
      "bucket :  (2, 5)\n",
      "After OverSampling, the shape of train_X: (46950, 14)\n",
      "After OverSampling, the shape of train_y: (46950,) \n",
      "\n",
      "After OverSampling, counts of label '1': 23475\n",
      "After OverSampling, counts of label '0': 23475\n",
      "bucket :  (5, 8)\n",
      "After OverSampling, the shape of train_X: (32620, 38)\n",
      "After OverSampling, the shape of train_y: (32620,) \n",
      "\n",
      "After OverSampling, counts of label '1': 16310\n",
      "After OverSampling, counts of label '0': 16310\n",
      "bucket :  (8, 11)\n",
      "bucket :  (11, 14)\n",
      "bucket :  (14, 17)\n",
      "bucket :  (17, 20)\n",
      "bucket :  (20, 23)\n",
      "bucket :  (23, 26)\n",
      "bucket :  (26, 29)\n",
      "bucket :  (29, 31)\n",
      "bucket :  (31, 33)\n",
      "bucket :  (33, 35)\n",
      "bucket :  (35, 37)\n",
      "bucket :  (37, 39)\n",
      "bucket :  (39, 41)\n"
     ]
    },
    {
     "name": "stderr",
     "output_type": "stream",
     "text": [
      " 30%|███       | 6/20 [17:35<39:42, 170.15s/it]"
     ]
    },
    {
     "name": "stdout",
     "output_type": "stream",
     "text": [
      "{'bucketing': 26, 'encoding': 'aggregate', 'drop_act': 4, 'Random Forest': {'n_estimators': 634, 'max_depth': 5, 'max_features': 'log2', 'bootstrap': True, 'criterion': 'entropy'}}\n",
      "bucket :  (2, 4)\n",
      "After OverSampling, the shape of train_X: (34594, 8)\n",
      "After OverSampling, the shape of train_y: (34594,) \n",
      "\n",
      "After OverSampling, counts of label '1': 17297\n",
      "After OverSampling, counts of label '0': 17297\n",
      "bucket :  (4, 6)\n",
      "After OverSampling, the shape of train_X: (23472, 13)\n",
      "After OverSampling, the shape of train_y: (23472,) \n",
      "\n",
      "After OverSampling, counts of label '1': 11736\n",
      "After OverSampling, counts of label '0': 11736\n",
      "bucket :  (6, 8)\n",
      "bucket :  (8, 10)\n",
      "bucket :  (10, 12)\n",
      "bucket :  (12, 14)\n",
      "bucket :  (14, 16)\n",
      "bucket :  (16, 18)\n",
      "bucket :  (18, 20)\n",
      "bucket :  (20, 22)\n",
      "bucket :  (22, 24)\n",
      "bucket :  (24, 26)\n",
      "bucket :  (26, 28)\n",
      "bucket :  (28, 29)\n",
      "bucket :  (29, 30)\n",
      "bucket :  (30, 31)\n",
      "bucket :  (31, 32)\n",
      "bucket :  (32, 33)\n",
      "bucket :  (33, 34)\n",
      "bucket :  (34, 35)\n",
      "bucket :  (35, 36)\n",
      "bucket :  (36, 37)\n",
      "bucket :  (37, 38)\n",
      "bucket :  (38, 39)\n",
      "bucket :  (39, 40)\n",
      "bucket :  (40, 41)\n"
     ]
    },
    {
     "name": "stderr",
     "output_type": "stream",
     "text": [
      " 35%|███▌      | 7/20 [21:21<40:48, 188.32s/it]"
     ]
    },
    {
     "name": "stdout",
     "output_type": "stream",
     "text": [
      "{'bucketing': 26, 'encoding': 'index', 'drop_act': 8, 'Decision Tree': {'max_depth': 7, 'min_samples_leaf': 47, 'criterion': 'gini'}}\n",
      "bucket :  (2, 4)\n",
      "After OverSampling, the shape of train_X: (34594, 11)\n",
      "After OverSampling, the shape of train_y: (34594,) \n",
      "\n",
      "After OverSampling, counts of label '1': 17297\n",
      "After OverSampling, counts of label '0': 17297\n",
      "bucket :  (4, 6)\n",
      "After OverSampling, the shape of train_X: (23472, 19)\n",
      "After OverSampling, the shape of train_y: (23472,) \n",
      "\n",
      "After OverSampling, counts of label '1': 11736\n",
      "After OverSampling, counts of label '0': 11736\n",
      "bucket :  (6, 8)\n",
      "bucket :  (8, 10)\n",
      "bucket :  (10, 12)\n",
      "bucket :  (12, 14)\n",
      "bucket :  (14, 16)\n",
      "bucket :  (16, 18)\n",
      "bucket :  (18, 20)\n",
      "bucket :  (20, 22)\n",
      "bucket :  (22, 24)\n",
      "bucket :  (24, 26)\n",
      "bucket :  (26, 28)\n",
      "bucket :  (28, 29)\n",
      "bucket :  (29, 30)\n",
      "bucket :  (30, 31)\n",
      "bucket :  (31, 32)\n",
      "bucket :  (32, 33)\n",
      "bucket :  (33, 34)\n",
      "bucket :  (34, 35)\n",
      "bucket :  (35, 36)\n",
      "bucket :  (36, 37)\n",
      "bucket :  (37, 38)\n",
      "bucket :  (38, 39)\n",
      "bucket :  (39, 40)\n",
      "bucket :  (40, 41)\n"
     ]
    },
    {
     "name": "stderr",
     "output_type": "stream",
     "text": [
      " 40%|████      | 8/20 [23:29<33:50, 169.21s/it]"
     ]
    },
    {
     "name": "stdout",
     "output_type": "stream",
     "text": [
      "{'bucketing': 21, 'encoding': 'aggregate', 'drop_act': 8, 'LightGBM': {'max_depth': 10, 'num_leaves': 325, 'min_child_samples': 5}}\n",
      "bucket :  (2, 4)\n",
      "After OverSampling, the shape of train_X: (34594, 8)\n",
      "After OverSampling, the shape of train_y: (34594,) \n",
      "\n",
      "After OverSampling, counts of label '1': 17297\n",
      "After OverSampling, counts of label '0': 17297\n",
      "bucket :  (4, 6)\n",
      "After OverSampling, the shape of train_X: (23472, 13)\n",
      "After OverSampling, the shape of train_y: (23472,) \n",
      "\n",
      "After OverSampling, counts of label '1': 11736\n",
      "After OverSampling, counts of label '0': 11736\n",
      "bucket :  (6, 8)\n",
      "bucket :  (8, 10)\n",
      "bucket :  (10, 12)\n",
      "bucket :  (12, 14)\n",
      "bucket :  (14, 16)\n",
      "bucket :  (16, 18)\n",
      "bucket :  (18, 20)\n",
      "bucket :  (20, 22)\n",
      "bucket :  (22, 24)\n",
      "bucket :  (24, 26)\n",
      "bucket :  (26, 28)\n",
      "bucket :  (28, 30)\n",
      "bucket :  (30, 32)\n",
      "bucket :  (32, 34)\n",
      "bucket :  (34, 36)\n",
      "bucket :  (36, 38)\n",
      "bucket :  (38, 39)\n",
      "bucket :  (39, 40)\n",
      "bucket :  (40, 41)\n"
     ]
    },
    {
     "name": "stderr",
     "output_type": "stream",
     "text": [
      " 45%|████▌     | 9/20 [26:20<31:08, 169.90s/it]"
     ]
    },
    {
     "name": "stdout",
     "output_type": "stream",
     "text": [
      "{'bucketing': 21, 'encoding': 'aggregate', 'drop_act': 4, 'Random Forest': {'n_estimators': 634, 'max_depth': 5, 'max_features': 'log2', 'bootstrap': True, 'criterion': 'entropy'}}\n",
      "bucket :  (2, 4)\n",
      "After OverSampling, the shape of train_X: (34594, 8)\n",
      "After OverSampling, the shape of train_y: (34594,) \n",
      "\n",
      "After OverSampling, counts of label '1': 17297\n",
      "After OverSampling, counts of label '0': 17297\n",
      "bucket :  (4, 6)\n",
      "After OverSampling, the shape of train_X: (23472, 13)\n",
      "After OverSampling, the shape of train_y: (23472,) \n",
      "\n",
      "After OverSampling, counts of label '1': 11736\n",
      "After OverSampling, counts of label '0': 11736\n",
      "bucket :  (6, 8)\n",
      "bucket :  (8, 10)\n",
      "bucket :  (10, 12)\n",
      "bucket :  (12, 14)\n",
      "bucket :  (14, 16)\n",
      "bucket :  (16, 18)\n",
      "bucket :  (18, 20)\n",
      "bucket :  (20, 22)\n",
      "bucket :  (22, 24)\n",
      "bucket :  (24, 26)\n",
      "bucket :  (26, 28)\n",
      "bucket :  (28, 30)\n",
      "bucket :  (30, 32)\n",
      "bucket :  (32, 34)\n",
      "bucket :  (34, 36)\n",
      "bucket :  (36, 38)\n",
      "bucket :  (38, 39)\n",
      "bucket :  (39, 40)\n",
      "bucket :  (40, 41)\n"
     ]
    },
    {
     "name": "stderr",
     "output_type": "stream",
     "text": [
      " 50%|█████     | 10/20 [30:03<31:01, 186.15s/it]"
     ]
    },
    {
     "name": "stdout",
     "output_type": "stream",
     "text": [
      "{'bucketing': 15, 'encoding': 'aggregate', 'drop_act': 8, 'LightGBM': {'max_depth': 10, 'num_leaves': 325, 'min_child_samples': 5}}\n",
      "bucket :  (2, 5)\n",
      "After OverSampling, the shape of train_X: (46950, 10)\n",
      "After OverSampling, the shape of train_y: (46950,) \n",
      "\n",
      "After OverSampling, counts of label '1': 23475\n",
      "After OverSampling, counts of label '0': 23475\n",
      "bucket :  (5, 8)\n",
      "After OverSampling, the shape of train_X: (32620, 17)\n",
      "After OverSampling, the shape of train_y: (32620,) \n",
      "\n",
      "After OverSampling, counts of label '1': 16310\n",
      "After OverSampling, counts of label '0': 16310\n",
      "bucket :  (8, 11)\n",
      "bucket :  (11, 14)\n",
      "bucket :  (14, 17)\n",
      "bucket :  (17, 20)\n",
      "bucket :  (20, 23)\n",
      "bucket :  (23, 26)\n",
      "bucket :  (26, 29)\n",
      "bucket :  (29, 31)\n",
      "bucket :  (31, 33)\n",
      "bucket :  (33, 35)\n",
      "bucket :  (35, 37)\n",
      "bucket :  (37, 39)\n",
      "bucket :  (39, 41)\n"
     ]
    },
    {
     "name": "stderr",
     "output_type": "stream",
     "text": [
      " 55%|█████▌    | 11/20 [32:53<27:12, 181.34s/it]"
     ]
    },
    {
     "name": "stdout",
     "output_type": "stream",
     "text": [
      "{'bucketing': 15, 'encoding': 'aggregate', 'drop_act': 6, 'Xgboost': {'max_depth': 14, 'n_estimators': 128, 'learning_rate': 0.05}}\n",
      "bucket :  (2, 5)\n",
      "After OverSampling, the shape of train_X: (46950, 10)\n",
      "After OverSampling, the shape of train_y: (46950,) \n",
      "\n",
      "After OverSampling, counts of label '1': 23475\n",
      "After OverSampling, counts of label '0': 23475\n",
      "bucket :  (5, 8)\n",
      "After OverSampling, the shape of train_X: (32620, 17)\n",
      "After OverSampling, the shape of train_y: (32620,) \n",
      "\n",
      "After OverSampling, counts of label '1': 16310\n",
      "After OverSampling, counts of label '0': 16310\n",
      "bucket :  (8, 11)\n",
      "bucket :  (11, 14)\n",
      "bucket :  (14, 17)\n",
      "bucket :  (17, 20)\n",
      "bucket :  (20, 23)\n",
      "bucket :  (23, 26)\n",
      "bucket :  (26, 29)\n",
      "bucket :  (29, 31)\n",
      "bucket :  (31, 33)\n",
      "bucket :  (33, 35)\n",
      "bucket :  (35, 37)\n",
      "bucket :  (37, 39)\n",
      "bucket :  (39, 41)\n"
     ]
    },
    {
     "name": "stderr",
     "output_type": "stream",
     "text": [
      " 60%|██████    | 12/20 [35:57<24:17, 182.13s/it]"
     ]
    },
    {
     "name": "stdout",
     "output_type": "stream",
     "text": [
      "{'bucketing': 21, 'encoding': 'aggregate', 'drop_act': 6, 'Decision Tree': {'max_depth': 7, 'min_samples_leaf': 47, 'criterion': 'gini'}}\n",
      "bucket :  (2, 4)\n",
      "After OverSampling, the shape of train_X: (34594, 8)\n",
      "After OverSampling, the shape of train_y: (34594,) \n",
      "\n",
      "After OverSampling, counts of label '1': 17297\n",
      "After OverSampling, counts of label '0': 17297\n",
      "bucket :  (4, 6)\n",
      "After OverSampling, the shape of train_X: (23472, 13)\n",
      "After OverSampling, the shape of train_y: (23472,) \n",
      "\n",
      "After OverSampling, counts of label '1': 11736\n",
      "After OverSampling, counts of label '0': 11736\n",
      "bucket :  (6, 8)\n",
      "bucket :  (8, 10)\n",
      "bucket :  (10, 12)\n",
      "bucket :  (12, 14)\n",
      "bucket :  (14, 16)\n",
      "bucket :  (16, 18)\n",
      "bucket :  (18, 20)\n",
      "bucket :  (20, 22)\n",
      "bucket :  (22, 24)\n",
      "bucket :  (24, 26)\n",
      "bucket :  (26, 28)\n",
      "bucket :  (28, 30)\n",
      "bucket :  (30, 32)\n",
      "bucket :  (32, 34)\n",
      "bucket :  (34, 36)\n",
      "bucket :  (36, 38)\n",
      "bucket :  (38, 39)\n",
      "bucket :  (39, 40)\n",
      "bucket :  (40, 41)\n"
     ]
    },
    {
     "name": "stderr",
     "output_type": "stream",
     "text": [
      " 65%|██████▌   | 13/20 [38:46<20:46, 178.11s/it]"
     ]
    },
    {
     "name": "stdout",
     "output_type": "stream",
     "text": [
      "{'bucketing': 15, 'encoding': 'aggregate', 'drop_act': 6, 'Xgboost': {'max_depth': 14, 'n_estimators': 128, 'learning_rate': 0.05}}\n",
      "bucket :  (2, 5)\n",
      "After OverSampling, the shape of train_X: (46950, 10)\n",
      "After OverSampling, the shape of train_y: (46950,) \n",
      "\n",
      "After OverSampling, counts of label '1': 23475\n",
      "After OverSampling, counts of label '0': 23475\n",
      "bucket :  (5, 8)\n",
      "After OverSampling, the shape of train_X: (32620, 17)\n",
      "After OverSampling, the shape of train_y: (32620,) \n",
      "\n",
      "After OverSampling, counts of label '1': 16310\n",
      "After OverSampling, counts of label '0': 16310\n",
      "bucket :  (8, 11)\n",
      "bucket :  (11, 14)\n",
      "bucket :  (14, 17)\n",
      "bucket :  (17, 20)\n",
      "bucket :  (20, 23)\n",
      "bucket :  (23, 26)\n",
      "bucket :  (26, 29)\n",
      "bucket :  (29, 31)\n",
      "bucket :  (31, 33)\n",
      "bucket :  (33, 35)\n",
      "bucket :  (35, 37)\n",
      "bucket :  (37, 39)\n",
      "bucket :  (39, 41)\n"
     ]
    },
    {
     "name": "stderr",
     "output_type": "stream",
     "text": [
      " 70%|███████   | 14/20 [41:50<17:59, 179.85s/it]"
     ]
    },
    {
     "name": "stdout",
     "output_type": "stream",
     "text": [
      "{'bucketing': 15, 'encoding': 'aggregate', 'drop_act': 6, 'Decision Tree': {'max_depth': 7, 'min_samples_leaf': 47, 'criterion': 'gini'}}\n",
      "bucket :  (2, 5)\n",
      "After OverSampling, the shape of train_X: (46950, 10)\n",
      "After OverSampling, the shape of train_y: (46950,) \n",
      "\n",
      "After OverSampling, counts of label '1': 23475\n",
      "After OverSampling, counts of label '0': 23475\n",
      "bucket :  (5, 8)\n",
      "After OverSampling, the shape of train_X: (32620, 17)\n",
      "After OverSampling, the shape of train_y: (32620,) \n",
      "\n",
      "After OverSampling, counts of label '1': 16310\n",
      "After OverSampling, counts of label '0': 16310\n",
      "bucket :  (8, 11)\n",
      "bucket :  (11, 14)\n",
      "bucket :  (14, 17)\n",
      "bucket :  (17, 20)\n",
      "bucket :  (20, 23)\n",
      "bucket :  (23, 26)\n",
      "bucket :  (26, 29)\n",
      "bucket :  (29, 31)\n",
      "bucket :  (31, 33)\n",
      "bucket :  (33, 35)\n",
      "bucket :  (35, 37)\n",
      "bucket :  (37, 39)\n",
      "bucket :  (39, 41)\n"
     ]
    },
    {
     "name": "stderr",
     "output_type": "stream",
     "text": [
      " 75%|███████▌  | 15/20 [44:38<14:41, 176.40s/it]"
     ]
    },
    {
     "name": "stdout",
     "output_type": "stream",
     "text": [
      "{'bucketing': 8, 'encoding': 'aggregate', 'drop_act': 6, 'Xgboost': {'max_depth': 14, 'n_estimators': 128, 'learning_rate': 0.05}}\n",
      "bucket :  (2, 7)\n",
      "After OverSampling, the shape of train_X: (70588, 15)\n",
      "After OverSampling, the shape of train_y: (70588,) \n",
      "\n",
      "After OverSampling, counts of label '1': 35294\n",
      "After OverSampling, counts of label '0': 35294\n",
      "bucket :  (7, 12)\n",
      "bucket :  (12, 17)\n",
      "bucket :  (17, 22)\n",
      "bucket :  (22, 27)\n",
      "bucket :  (27, 32)\n",
      "bucket :  (32, 37)\n",
      "bucket :  (37, 41)\n"
     ]
    },
    {
     "name": "stderr",
     "output_type": "stream",
     "text": [
      " 80%|████████  | 16/20 [47:40<11:51, 177.93s/it]"
     ]
    },
    {
     "name": "stdout",
     "output_type": "stream",
     "text": [
      "{'bucketing': 8, 'encoding': 'aggregate', 'drop_act': 6, 'Random Forest': {'n_estimators': 634, 'max_depth': 5, 'max_features': 'log2', 'bootstrap': True, 'criterion': 'entropy'}}\n",
      "bucket :  (2, 7)\n",
      "After OverSampling, the shape of train_X: (70588, 15)\n",
      "After OverSampling, the shape of train_y: (70588,) \n",
      "\n",
      "After OverSampling, counts of label '1': 35294\n",
      "After OverSampling, counts of label '0': 35294\n",
      "bucket :  (7, 12)\n",
      "bucket :  (12, 17)\n",
      "bucket :  (17, 22)\n",
      "bucket :  (22, 27)\n",
      "bucket :  (27, 32)\n",
      "bucket :  (32, 37)\n",
      "bucket :  (37, 41)\n"
     ]
    },
    {
     "name": "stderr",
     "output_type": "stream",
     "text": [
      " 85%|████████▌ | 17/20 [51:10<09:22, 187.54s/it]"
     ]
    },
    {
     "name": "stdout",
     "output_type": "stream",
     "text": [
      "{'bucketing': 8, 'encoding': 'index', 'drop_act': 8, 'Decision Tree': {'max_depth': 7, 'min_samples_leaf': 47, 'criterion': 'gini'}}\n",
      "bucket :  (2, 7)\n",
      "After OverSampling, the shape of train_X: (70588, 29)\n",
      "After OverSampling, the shape of train_y: (70588,) \n",
      "\n",
      "After OverSampling, counts of label '1': 35294\n",
      "After OverSampling, counts of label '0': 35294\n",
      "bucket :  (7, 12)\n",
      "bucket :  (12, 17)\n",
      "bucket :  (17, 22)\n",
      "bucket :  (22, 27)\n",
      "bucket :  (27, 32)\n",
      "bucket :  (32, 37)\n",
      "bucket :  (37, 41)\n"
     ]
    },
    {
     "name": "stderr",
     "output_type": "stream",
     "text": [
      " 90%|█████████ | 18/20 [53:19<05:39, 169.91s/it]"
     ]
    },
    {
     "name": "stdout",
     "output_type": "stream",
     "text": [
      "{'bucketing': 2, 'encoding': 'index', 'drop_act': 8, 'Decision Tree': {'max_depth': 7, 'min_samples_leaf': 47, 'criterion': 'gini'}}\n",
      "bucket :  (2, 22)\n",
      "bucket :  (22, 41)\n"
     ]
    },
    {
     "name": "stderr",
     "output_type": "stream",
     "text": [
      " 95%|█████████▌| 19/20 [55:31<02:38, 158.74s/it]"
     ]
    },
    {
     "name": "stdout",
     "output_type": "stream",
     "text": [
      "{'bucketing': 15, 'encoding': 'index', 'drop_act': 6, 'Xgboost': {'max_depth': 14, 'n_estimators': 128, 'learning_rate': 0.05}}\n",
      "bucket :  (2, 5)\n",
      "After OverSampling, the shape of train_X: (46950, 14)\n",
      "After OverSampling, the shape of train_y: (46950,) \n",
      "\n",
      "After OverSampling, counts of label '1': 23475\n",
      "After OverSampling, counts of label '0': 23475\n",
      "bucket :  (5, 8)\n",
      "After OverSampling, the shape of train_X: (32620, 38)\n",
      "After OverSampling, the shape of train_y: (32620,) \n",
      "\n",
      "After OverSampling, counts of label '1': 16310\n",
      "After OverSampling, counts of label '0': 16310\n",
      "bucket :  (8, 11)\n",
      "bucket :  (11, 14)\n",
      "bucket :  (14, 17)\n",
      "bucket :  (17, 20)\n",
      "bucket :  (20, 23)\n",
      "bucket :  (23, 26)\n",
      "bucket :  (26, 29)\n",
      "bucket :  (29, 31)\n",
      "bucket :  (31, 33)\n",
      "bucket :  (33, 35)\n",
      "bucket :  (35, 37)\n",
      "bucket :  (37, 39)\n",
      "bucket :  (39, 41)\n"
     ]
    },
    {
     "name": "stderr",
     "output_type": "stream",
     "text": [
      "100%|██████████| 20/20 [58:33<00:00, 175.69s/it]\n",
      "  0%|          | 0/20 [00:00<?, ?it/s]"
     ]
    },
    {
     "name": "stdout",
     "output_type": "stream",
     "text": [
      "{'bucketing': 15, 'encoding': 'index', 'drop_act': 6, 'Xgboost': {'max_depth': 14, 'n_estimators': 128, 'learning_rate': 0.05}}\n",
      "bucket :  (2, 5)\n",
      "After OverSampling, the shape of train_X: (46950, 14)\n",
      "After OverSampling, the shape of train_y: (46950,) \n",
      "\n",
      "After OverSampling, counts of label '1': 23475\n",
      "After OverSampling, counts of label '0': 23475\n",
      "bucket :  (5, 8)\n",
      "After OverSampling, the shape of train_X: (32620, 38)\n",
      "After OverSampling, the shape of train_y: (32620,) \n",
      "\n",
      "After OverSampling, counts of label '1': 16310\n",
      "After OverSampling, counts of label '0': 16310\n",
      "bucket :  (8, 11)\n",
      "bucket :  (11, 14)\n",
      "bucket :  (14, 17)\n",
      "bucket :  (17, 20)\n",
      "bucket :  (20, 23)\n",
      "bucket :  (23, 26)\n",
      "bucket :  (26, 29)\n",
      "bucket :  (29, 31)\n",
      "bucket :  (31, 33)\n",
      "bucket :  (33, 35)\n",
      "bucket :  (35, 37)\n",
      "bucket :  (37, 39)\n",
      "bucket :  (39, 41)\n"
     ]
    },
    {
     "name": "stderr",
     "output_type": "stream",
     "text": [
      "  5%|▌         | 1/20 [03:02<57:46, 182.43s/it]"
     ]
    },
    {
     "name": "stdout",
     "output_type": "stream",
     "text": [
      "{'bucketing': 2, 'encoding': 'index', 'drop_act': 8, 'Decision Tree': {'max_depth': 7, 'min_samples_leaf': 47, 'criterion': 'gini'}}\n",
      "bucket :  (2, 22)\n",
      "bucket :  (22, 41)\n"
     ]
    },
    {
     "name": "stderr",
     "output_type": "stream",
     "text": [
      " 10%|█         | 2/20 [05:14<45:47, 152.66s/it]"
     ]
    },
    {
     "name": "stdout",
     "output_type": "stream",
     "text": [
      "{'bucketing': 21, 'encoding': 'aggregate', 'drop_act': 8, 'Random Forest': {'n_estimators': 634, 'max_depth': 5, 'max_features': 'log2', 'bootstrap': True, 'criterion': 'entropy'}}\n",
      "bucket :  (2, 4)\n",
      "After OverSampling, the shape of train_X: (34594, 8)\n",
      "After OverSampling, the shape of train_y: (34594,) \n",
      "\n",
      "After OverSampling, counts of label '1': 17297\n",
      "After OverSampling, counts of label '0': 17297\n",
      "bucket :  (4, 6)\n",
      "After OverSampling, the shape of train_X: (23472, 13)\n",
      "After OverSampling, the shape of train_y: (23472,) \n",
      "\n",
      "After OverSampling, counts of label '1': 11736\n",
      "After OverSampling, counts of label '0': 11736\n",
      "bucket :  (6, 8)\n",
      "bucket :  (8, 10)\n",
      "bucket :  (10, 12)\n",
      "bucket :  (12, 14)\n",
      "bucket :  (14, 16)\n",
      "bucket :  (16, 18)\n",
      "bucket :  (18, 20)\n",
      "bucket :  (20, 22)\n",
      "bucket :  (22, 24)\n",
      "bucket :  (24, 26)\n",
      "bucket :  (26, 28)\n",
      "bucket :  (28, 30)\n",
      "bucket :  (30, 32)\n",
      "bucket :  (32, 34)\n",
      "bucket :  (34, 36)\n",
      "bucket :  (36, 38)\n",
      "bucket :  (38, 39)\n",
      "bucket :  (39, 40)\n",
      "bucket :  (40, 41)\n"
     ]
    },
    {
     "name": "stderr",
     "output_type": "stream",
     "text": [
      " 15%|█▌        | 3/20 [08:52<51:40, 182.38s/it]"
     ]
    },
    {
     "name": "stdout",
     "output_type": "stream",
     "text": [
      "{'bucketing': 15, 'encoding': 'index', 'drop_act': 6, 'Xgboost': {'max_depth': 14, 'n_estimators': 128, 'learning_rate': 0.05}}\n",
      "bucket :  (2, 5)\n",
      "After OverSampling, the shape of train_X: (46950, 14)\n",
      "After OverSampling, the shape of train_y: (46950,) \n",
      "\n",
      "After OverSampling, counts of label '1': 23475\n",
      "After OverSampling, counts of label '0': 23475\n",
      "bucket :  (5, 8)\n",
      "After OverSampling, the shape of train_X: (32620, 38)\n",
      "After OverSampling, the shape of train_y: (32620,) \n",
      "\n",
      "After OverSampling, counts of label '1': 16310\n",
      "After OverSampling, counts of label '0': 16310\n",
      "bucket :  (8, 11)\n",
      "bucket :  (11, 14)\n",
      "bucket :  (14, 17)\n",
      "bucket :  (17, 20)\n",
      "bucket :  (20, 23)\n",
      "bucket :  (23, 26)\n",
      "bucket :  (26, 29)\n",
      "bucket :  (29, 31)\n",
      "bucket :  (31, 33)\n",
      "bucket :  (33, 35)\n",
      "bucket :  (35, 37)\n",
      "bucket :  (37, 39)\n",
      "bucket :  (39, 41)\n"
     ]
    },
    {
     "name": "stderr",
     "output_type": "stream",
     "text": [
      " 20%|██        | 4/20 [11:54<48:39, 182.45s/it]"
     ]
    },
    {
     "name": "stdout",
     "output_type": "stream",
     "text": [
      "{'bucketing': 15, 'encoding': 'index', 'drop_act': 6, 'Xgboost': {'max_depth': 14, 'n_estimators': 128, 'learning_rate': 0.05}}\n",
      "bucket :  (2, 5)\n",
      "After OverSampling, the shape of train_X: (46950, 14)\n",
      "After OverSampling, the shape of train_y: (46950,) \n",
      "\n",
      "After OverSampling, counts of label '1': 23475\n",
      "After OverSampling, counts of label '0': 23475\n",
      "bucket :  (5, 8)\n",
      "After OverSampling, the shape of train_X: (32620, 38)\n",
      "After OverSampling, the shape of train_y: (32620,) \n",
      "\n",
      "After OverSampling, counts of label '1': 16310\n",
      "After OverSampling, counts of label '0': 16310\n",
      "bucket :  (8, 11)\n",
      "bucket :  (11, 14)\n",
      "bucket :  (14, 17)\n",
      "bucket :  (17, 20)\n",
      "bucket :  (20, 23)\n",
      "bucket :  (23, 26)\n",
      "bucket :  (26, 29)\n",
      "bucket :  (29, 31)\n",
      "bucket :  (31, 33)\n",
      "bucket :  (33, 35)\n",
      "bucket :  (35, 37)\n",
      "bucket :  (37, 39)\n",
      "bucket :  (39, 41)\n"
     ]
    },
    {
     "name": "stderr",
     "output_type": "stream",
     "text": [
      " 25%|██▌       | 5/20 [14:56<45:35, 182.34s/it]"
     ]
    },
    {
     "name": "stdout",
     "output_type": "stream",
     "text": [
      "{'bucketing': 2, 'encoding': 'aggregate', 'drop_act': 6, 'Xgboost': {'max_depth': 14, 'n_estimators': 128, 'learning_rate': 0.05}}\n",
      "bucket :  (2, 22)\n",
      "bucket :  (22, 41)\n"
     ]
    },
    {
     "name": "stderr",
     "output_type": "stream",
     "text": [
      " 30%|███       | 6/20 [17:55<42:16, 181.15s/it]"
     ]
    },
    {
     "name": "stdout",
     "output_type": "stream",
     "text": [
      "{'bucketing': 21, 'encoding': 'aggregate', 'drop_act': 8, 'LightGBM': {'max_depth': 10, 'num_leaves': 325, 'min_child_samples': 5}}\n",
      "bucket :  (2, 4)\n",
      "After OverSampling, the shape of train_X: (34594, 8)\n",
      "After OverSampling, the shape of train_y: (34594,) \n",
      "\n",
      "After OverSampling, counts of label '1': 17297\n",
      "After OverSampling, counts of label '0': 17297\n",
      "bucket :  (4, 6)\n",
      "After OverSampling, the shape of train_X: (23472, 13)\n",
      "After OverSampling, the shape of train_y: (23472,) \n",
      "\n",
      "After OverSampling, counts of label '1': 11736\n",
      "After OverSampling, counts of label '0': 11736\n",
      "bucket :  (6, 8)\n",
      "bucket :  (8, 10)\n",
      "bucket :  (10, 12)\n",
      "bucket :  (12, 14)\n",
      "bucket :  (14, 16)\n",
      "bucket :  (16, 18)\n",
      "bucket :  (18, 20)\n",
      "bucket :  (20, 22)\n",
      "bucket :  (22, 24)\n",
      "bucket :  (24, 26)\n",
      "bucket :  (26, 28)\n",
      "bucket :  (28, 30)\n",
      "bucket :  (30, 32)\n",
      "bucket :  (32, 34)\n",
      "bucket :  (34, 36)\n",
      "bucket :  (36, 38)\n",
      "bucket :  (38, 39)\n",
      "bucket :  (39, 40)\n",
      "bucket :  (40, 41)\n"
     ]
    },
    {
     "name": "stderr",
     "output_type": "stream",
     "text": [
      " 35%|███▌      | 7/20 [20:46<38:31, 177.77s/it]"
     ]
    },
    {
     "name": "stdout",
     "output_type": "stream",
     "text": [
      "{'bucketing': 21, 'encoding': 'aggregate', 'drop_act': 6, 'Decision Tree': {'max_depth': 7, 'min_samples_leaf': 47, 'criterion': 'gini'}}\n",
      "bucket :  (2, 4)\n",
      "After OverSampling, the shape of train_X: (34594, 8)\n",
      "After OverSampling, the shape of train_y: (34594,) \n",
      "\n",
      "After OverSampling, counts of label '1': 17297\n",
      "After OverSampling, counts of label '0': 17297\n",
      "bucket :  (4, 6)\n",
      "After OverSampling, the shape of train_X: (23472, 13)\n",
      "After OverSampling, the shape of train_y: (23472,) \n",
      "\n",
      "After OverSampling, counts of label '1': 11736\n",
      "After OverSampling, counts of label '0': 11736\n",
      "bucket :  (6, 8)\n",
      "bucket :  (8, 10)\n",
      "bucket :  (10, 12)\n",
      "bucket :  (12, 14)\n",
      "bucket :  (14, 16)\n",
      "bucket :  (16, 18)\n",
      "bucket :  (18, 20)\n",
      "bucket :  (20, 22)\n",
      "bucket :  (22, 24)\n",
      "bucket :  (24, 26)\n",
      "bucket :  (26, 28)\n",
      "bucket :  (28, 30)\n",
      "bucket :  (30, 32)\n",
      "bucket :  (32, 34)\n",
      "bucket :  (34, 36)\n",
      "bucket :  (36, 38)\n",
      "bucket :  (38, 39)\n",
      "bucket :  (39, 40)\n",
      "bucket :  (40, 41)\n"
     ]
    },
    {
     "name": "stderr",
     "output_type": "stream",
     "text": [
      " 40%|████      | 8/20 [23:35<35:00, 175.02s/it]"
     ]
    },
    {
     "name": "stdout",
     "output_type": "stream",
     "text": [
      "{'bucketing': 8, 'encoding': 'aggregate', 'drop_act': 6, 'Xgboost': {'max_depth': 14, 'n_estimators': 128, 'learning_rate': 0.05}}\n",
      "bucket :  (2, 7)\n",
      "After OverSampling, the shape of train_X: (70588, 15)\n",
      "After OverSampling, the shape of train_y: (70588,) \n",
      "\n",
      "After OverSampling, counts of label '1': 35294\n",
      "After OverSampling, counts of label '0': 35294\n",
      "bucket :  (7, 12)\n",
      "bucket :  (12, 17)\n",
      "bucket :  (17, 22)\n",
      "bucket :  (22, 27)\n",
      "bucket :  (27, 32)\n",
      "bucket :  (32, 37)\n",
      "bucket :  (37, 41)\n"
     ]
    },
    {
     "name": "stderr",
     "output_type": "stream",
     "text": [
      " 45%|████▌     | 9/20 [26:36<32:27, 177.03s/it]"
     ]
    },
    {
     "name": "stdout",
     "output_type": "stream",
     "text": [
      "{'bucketing': 26, 'encoding': 'index', 'drop_act': 8, 'Decision Tree': {'max_depth': 7, 'min_samples_leaf': 47, 'criterion': 'gini'}}\n",
      "bucket :  (2, 4)\n",
      "After OverSampling, the shape of train_X: (34594, 11)\n",
      "After OverSampling, the shape of train_y: (34594,) \n",
      "\n",
      "After OverSampling, counts of label '1': 17297\n",
      "After OverSampling, counts of label '0': 17297\n",
      "bucket :  (4, 6)\n",
      "After OverSampling, the shape of train_X: (23472, 19)\n",
      "After OverSampling, the shape of train_y: (23472,) \n",
      "\n",
      "After OverSampling, counts of label '1': 11736\n",
      "After OverSampling, counts of label '0': 11736\n",
      "bucket :  (6, 8)\n",
      "bucket :  (8, 10)\n",
      "bucket :  (10, 12)\n",
      "bucket :  (12, 14)\n",
      "bucket :  (14, 16)\n",
      "bucket :  (16, 18)\n",
      "bucket :  (18, 20)\n",
      "bucket :  (20, 22)\n",
      "bucket :  (22, 24)\n",
      "bucket :  (24, 26)\n",
      "bucket :  (26, 28)\n",
      "bucket :  (28, 29)\n",
      "bucket :  (29, 30)\n",
      "bucket :  (30, 31)\n",
      "bucket :  (31, 32)\n",
      "bucket :  (32, 33)\n",
      "bucket :  (33, 34)\n",
      "bucket :  (34, 35)\n",
      "bucket :  (35, 36)\n",
      "bucket :  (36, 37)\n",
      "bucket :  (37, 38)\n",
      "bucket :  (38, 39)\n",
      "bucket :  (39, 40)\n",
      "bucket :  (40, 41)\n"
     ]
    },
    {
     "name": "stderr",
     "output_type": "stream",
     "text": [
      " 50%|█████     | 10/20 [28:45<27:01, 162.11s/it]"
     ]
    },
    {
     "name": "stdout",
     "output_type": "stream",
     "text": [
      "{'bucketing': 2, 'encoding': 'index', 'drop_act': 6, 'Xgboost': {'max_depth': 14, 'n_estimators': 128, 'learning_rate': 0.05}}\n",
      "bucket :  (2, 22)\n",
      "bucket :  (22, 41)\n"
     ]
    },
    {
     "name": "stderr",
     "output_type": "stream",
     "text": [
      " 55%|█████▌    | 11/20 [32:27<27:04, 180.48s/it]"
     ]
    },
    {
     "name": "stdout",
     "output_type": "stream",
     "text": [
      "{'bucketing': 15, 'encoding': 'index', 'drop_act': 8, 'LightGBM': {'max_depth': 10, 'num_leaves': 325, 'min_child_samples': 5}}\n",
      "bucket :  (2, 5)\n",
      "After OverSampling, the shape of train_X: (46950, 14)\n",
      "After OverSampling, the shape of train_y: (46950,) \n",
      "\n",
      "After OverSampling, counts of label '1': 23475\n",
      "After OverSampling, counts of label '0': 23475\n",
      "bucket :  (5, 8)\n",
      "After OverSampling, the shape of train_X: (32620, 38)\n",
      "After OverSampling, the shape of train_y: (32620,) \n",
      "\n",
      "After OverSampling, counts of label '1': 16310\n",
      "After OverSampling, counts of label '0': 16310\n",
      "bucket :  (8, 11)\n",
      "bucket :  (11, 14)\n",
      "bucket :  (14, 17)\n",
      "bucket :  (17, 20)\n",
      "bucket :  (20, 23)\n",
      "bucket :  (23, 26)\n",
      "bucket :  (26, 29)\n",
      "bucket :  (29, 31)\n",
      "bucket :  (31, 33)\n",
      "bucket :  (33, 35)\n",
      "bucket :  (35, 37)\n",
      "bucket :  (37, 39)\n",
      "bucket :  (39, 41)\n"
     ]
    },
    {
     "name": "stderr",
     "output_type": "stream",
     "text": [
      " 60%|██████    | 12/20 [34:41<22:09, 166.13s/it]"
     ]
    },
    {
     "name": "stdout",
     "output_type": "stream",
     "text": [
      "{'bucketing': 15, 'encoding': 'aggregate', 'drop_act': 6, 'Xgboost': {'max_depth': 14, 'n_estimators': 128, 'learning_rate': 0.05}}\n",
      "bucket :  (2, 5)\n",
      "After OverSampling, the shape of train_X: (46950, 10)\n",
      "After OverSampling, the shape of train_y: (46950,) \n",
      "\n",
      "After OverSampling, counts of label '1': 23475\n",
      "After OverSampling, counts of label '0': 23475\n",
      "bucket :  (5, 8)\n",
      "After OverSampling, the shape of train_X: (32620, 17)\n",
      "After OverSampling, the shape of train_y: (32620,) \n",
      "\n",
      "After OverSampling, counts of label '1': 16310\n",
      "After OverSampling, counts of label '0': 16310\n",
      "bucket :  (8, 11)\n",
      "bucket :  (11, 14)\n",
      "bucket :  (14, 17)\n",
      "bucket :  (17, 20)\n",
      "bucket :  (20, 23)\n",
      "bucket :  (23, 26)\n",
      "bucket :  (26, 29)\n",
      "bucket :  (29, 31)\n",
      "bucket :  (31, 33)\n",
      "bucket :  (33, 35)\n",
      "bucket :  (35, 37)\n",
      "bucket :  (37, 39)\n",
      "bucket :  (39, 41)\n"
     ]
    },
    {
     "name": "stderr",
     "output_type": "stream",
     "text": [
      " 65%|██████▌   | 13/20 [37:44<20:00, 171.46s/it]"
     ]
    },
    {
     "name": "stdout",
     "output_type": "stream",
     "text": [
      "{'bucketing': 2, 'encoding': 'aggregate', 'drop_act': 6, 'Decision Tree': {'max_depth': 7, 'min_samples_leaf': 47, 'criterion': 'gini'}}\n",
      "bucket :  (2, 22)\n",
      "bucket :  (22, 41)\n"
     ]
    },
    {
     "name": "stderr",
     "output_type": "stream",
     "text": [
      " 70%|███████   | 14/20 [40:33<17:04, 170.78s/it]"
     ]
    },
    {
     "name": "stdout",
     "output_type": "stream",
     "text": [
      "{'bucketing': 15, 'encoding': 'index', 'drop_act': 6, 'Xgboost': {'max_depth': 14, 'n_estimators': 128, 'learning_rate': 0.05}}\n",
      "bucket :  (2, 5)\n",
      "After OverSampling, the shape of train_X: (46950, 14)\n",
      "After OverSampling, the shape of train_y: (46950,) \n",
      "\n",
      "After OverSampling, counts of label '1': 23475\n",
      "After OverSampling, counts of label '0': 23475\n",
      "bucket :  (5, 8)\n",
      "After OverSampling, the shape of train_X: (32620, 38)\n",
      "After OverSampling, the shape of train_y: (32620,) \n",
      "\n",
      "After OverSampling, counts of label '1': 16310\n",
      "After OverSampling, counts of label '0': 16310\n",
      "bucket :  (8, 11)\n",
      "bucket :  (11, 14)\n",
      "bucket :  (14, 17)\n",
      "bucket :  (17, 20)\n",
      "bucket :  (20, 23)\n",
      "bucket :  (23, 26)\n",
      "bucket :  (26, 29)\n",
      "bucket :  (29, 31)\n",
      "bucket :  (31, 33)\n",
      "bucket :  (33, 35)\n",
      "bucket :  (35, 37)\n",
      "bucket :  (37, 39)\n",
      "bucket :  (39, 41)\n"
     ]
    },
    {
     "name": "stderr",
     "output_type": "stream",
     "text": [
      " 75%|███████▌  | 15/20 [43:36<14:31, 174.33s/it]"
     ]
    },
    {
     "name": "stdout",
     "output_type": "stream",
     "text": [
      "{'bucketing': 15, 'encoding': 'index', 'drop_act': 6, 'Xgboost': {'max_depth': 14, 'n_estimators': 128, 'learning_rate': 0.05}}\n",
      "bucket :  (2, 5)\n",
      "After OverSampling, the shape of train_X: (46950, 14)\n",
      "After OverSampling, the shape of train_y: (46950,) \n",
      "\n",
      "After OverSampling, counts of label '1': 23475\n",
      "After OverSampling, counts of label '0': 23475\n",
      "bucket :  (5, 8)\n",
      "After OverSampling, the shape of train_X: (32620, 38)\n",
      "After OverSampling, the shape of train_y: (32620,) \n",
      "\n",
      "After OverSampling, counts of label '1': 16310\n",
      "After OverSampling, counts of label '0': 16310\n",
      "bucket :  (8, 11)\n",
      "bucket :  (11, 14)\n",
      "bucket :  (14, 17)\n",
      "bucket :  (17, 20)\n",
      "bucket :  (20, 23)\n",
      "bucket :  (23, 26)\n",
      "bucket :  (26, 29)\n",
      "bucket :  (29, 31)\n",
      "bucket :  (31, 33)\n",
      "bucket :  (33, 35)\n",
      "bucket :  (35, 37)\n",
      "bucket :  (37, 39)\n",
      "bucket :  (39, 41)\n"
     ]
    },
    {
     "name": "stderr",
     "output_type": "stream",
     "text": [
      " 80%|████████  | 16/20 [46:38<11:46, 176.67s/it]"
     ]
    },
    {
     "name": "stdout",
     "output_type": "stream",
     "text": [
      "{'bucketing': 15, 'encoding': 'aggregate', 'drop_act': 6, 'Xgboost': {'max_depth': 14, 'n_estimators': 128, 'learning_rate': 0.05}}\n",
      "bucket :  (2, 5)\n",
      "After OverSampling, the shape of train_X: (46950, 10)\n",
      "After OverSampling, the shape of train_y: (46950,) \n",
      "\n",
      "After OverSampling, counts of label '1': 23475\n",
      "After OverSampling, counts of label '0': 23475\n",
      "bucket :  (5, 8)\n",
      "After OverSampling, the shape of train_X: (32620, 17)\n",
      "After OverSampling, the shape of train_y: (32620,) \n",
      "\n",
      "After OverSampling, counts of label '1': 16310\n",
      "After OverSampling, counts of label '0': 16310\n",
      "bucket :  (8, 11)\n",
      "bucket :  (11, 14)\n",
      "bucket :  (14, 17)\n",
      "bucket :  (17, 20)\n",
      "bucket :  (20, 23)\n",
      "bucket :  (23, 26)\n",
      "bucket :  (26, 29)\n",
      "bucket :  (29, 31)\n",
      "bucket :  (31, 33)\n",
      "bucket :  (33, 35)\n",
      "bucket :  (35, 37)\n",
      "bucket :  (37, 39)\n",
      "bucket :  (39, 41)\n"
     ]
    },
    {
     "name": "stderr",
     "output_type": "stream",
     "text": [
      " 85%|████████▌ | 17/20 [49:42<08:56, 178.85s/it]"
     ]
    },
    {
     "name": "stdout",
     "output_type": "stream",
     "text": [
      "{'bucketing': 15, 'encoding': 'index', 'drop_act': 8, 'LightGBM': {'max_depth': 10, 'num_leaves': 325, 'min_child_samples': 5}}\n",
      "bucket :  (2, 5)\n",
      "After OverSampling, the shape of train_X: (46950, 14)\n",
      "After OverSampling, the shape of train_y: (46950,) \n",
      "\n",
      "After OverSampling, counts of label '1': 23475\n",
      "After OverSampling, counts of label '0': 23475\n",
      "bucket :  (5, 8)\n",
      "After OverSampling, the shape of train_X: (32620, 38)\n",
      "After OverSampling, the shape of train_y: (32620,) \n",
      "\n",
      "After OverSampling, counts of label '1': 16310\n",
      "After OverSampling, counts of label '0': 16310\n",
      "bucket :  (8, 11)\n",
      "bucket :  (11, 14)\n",
      "bucket :  (14, 17)\n",
      "bucket :  (17, 20)\n",
      "bucket :  (20, 23)\n",
      "bucket :  (23, 26)\n",
      "bucket :  (26, 29)\n",
      "bucket :  (29, 31)\n",
      "bucket :  (31, 33)\n",
      "bucket :  (33, 35)\n",
      "bucket :  (35, 37)\n",
      "bucket :  (37, 39)\n",
      "bucket :  (39, 41)\n"
     ]
    },
    {
     "name": "stderr",
     "output_type": "stream",
     "text": [
      " 90%|█████████ | 18/20 [51:56<05:30, 165.30s/it]"
     ]
    },
    {
     "name": "stdout",
     "output_type": "stream",
     "text": [
      "{'bucketing': 8, 'encoding': 'aggregate', 'drop_act': 6, 'Xgboost': {'max_depth': 14, 'n_estimators': 128, 'learning_rate': 0.05}}\n",
      "bucket :  (2, 7)\n",
      "After OverSampling, the shape of train_X: (70588, 15)\n",
      "After OverSampling, the shape of train_y: (70588,) \n",
      "\n",
      "After OverSampling, counts of label '1': 35294\n",
      "After OverSampling, counts of label '0': 35294\n",
      "bucket :  (7, 12)\n",
      "bucket :  (12, 17)\n",
      "bucket :  (17, 22)\n",
      "bucket :  (22, 27)\n",
      "bucket :  (27, 32)\n",
      "bucket :  (32, 37)\n",
      "bucket :  (37, 41)\n"
     ]
    },
    {
     "name": "stderr",
     "output_type": "stream",
     "text": [
      " 95%|█████████▌| 19/20 [54:58<02:50, 170.28s/it]"
     ]
    },
    {
     "name": "stdout",
     "output_type": "stream",
     "text": [
      "{'bucketing': 6, 'encoding': 'index', 'drop_act': 8, 'Xgboost': {'max_depth': 14, 'n_estimators': 128, 'learning_rate': 0.05}}\n",
      "bucket :  (2, 9)\n",
      "After OverSampling, the shape of train_X: (89050, 52)\n",
      "After OverSampling, the shape of train_y: (89050,) \n",
      "\n",
      "After OverSampling, counts of label '1': 44525\n",
      "After OverSampling, counts of label '0': 44525\n",
      "bucket :  (9, 16)\n",
      "bucket :  (16, 23)\n",
      "bucket :  (23, 29)\n",
      "bucket :  (29, 35)\n",
      "bucket :  (35, 41)\n"
     ]
    },
    {
     "name": "stderr",
     "output_type": "stream",
     "text": [
      "100%|██████████| 20/20 [58:03<00:00, 174.17s/it]\n",
      "  0%|          | 0/20 [00:00<?, ?it/s]"
     ]
    },
    {
     "name": "stdout",
     "output_type": "stream",
     "text": [
      "{'bucketing': 15, 'encoding': 'index', 'drop_act': 6, 'Xgboost': {'max_depth': 14, 'n_estimators': 128, 'learning_rate': 0.05}}\n",
      "bucket :  (2, 5)\n",
      "After OverSampling, the shape of train_X: (46950, 14)\n",
      "After OverSampling, the shape of train_y: (46950,) \n",
      "\n",
      "After OverSampling, counts of label '1': 23475\n",
      "After OverSampling, counts of label '0': 23475\n",
      "bucket :  (5, 8)\n",
      "After OverSampling, the shape of train_X: (32620, 38)\n",
      "After OverSampling, the shape of train_y: (32620,) \n",
      "\n",
      "After OverSampling, counts of label '1': 16310\n",
      "After OverSampling, counts of label '0': 16310\n",
      "bucket :  (8, 11)\n",
      "bucket :  (11, 14)\n",
      "bucket :  (14, 17)\n",
      "bucket :  (17, 20)\n",
      "bucket :  (20, 23)\n",
      "bucket :  (23, 26)\n",
      "bucket :  (26, 29)\n",
      "bucket :  (29, 31)\n",
      "bucket :  (31, 33)\n",
      "bucket :  (33, 35)\n",
      "bucket :  (35, 37)\n",
      "bucket :  (37, 39)\n",
      "bucket :  (39, 41)\n"
     ]
    },
    {
     "name": "stderr",
     "output_type": "stream",
     "text": [
      "  5%|▌         | 1/20 [03:02<57:51, 182.69s/it]"
     ]
    },
    {
     "name": "stdout",
     "output_type": "stream",
     "text": [
      "{'bucketing': 2, 'encoding': 'index', 'drop_act': 8, 'Decision Tree': {'max_depth': 7, 'min_samples_leaf': 47, 'criterion': 'gini'}}\n",
      "bucket :  (2, 22)\n",
      "bucket :  (22, 41)\n"
     ]
    },
    {
     "name": "stderr",
     "output_type": "stream",
     "text": [
      " 10%|█         | 2/20 [05:15<45:55, 153.08s/it]"
     ]
    },
    {
     "name": "stdout",
     "output_type": "stream",
     "text": [
      "{'bucketing': 15, 'encoding': 'index', 'drop_act': 6, 'Xgboost': {'max_depth': 14, 'n_estimators': 128, 'learning_rate': 0.05}}\n",
      "bucket :  (2, 5)\n",
      "After OverSampling, the shape of train_X: (46950, 14)\n",
      "After OverSampling, the shape of train_y: (46950,) \n",
      "\n",
      "After OverSampling, counts of label '1': 23475\n",
      "After OverSampling, counts of label '0': 23475\n",
      "bucket :  (5, 8)\n",
      "After OverSampling, the shape of train_X: (32620, 38)\n",
      "After OverSampling, the shape of train_y: (32620,) \n",
      "\n",
      "After OverSampling, counts of label '1': 16310\n",
      "After OverSampling, counts of label '0': 16310\n",
      "bucket :  (8, 11)\n",
      "bucket :  (11, 14)\n",
      "bucket :  (14, 17)\n",
      "bucket :  (17, 20)\n",
      "bucket :  (20, 23)\n",
      "bucket :  (23, 26)\n",
      "bucket :  (26, 29)\n",
      "bucket :  (29, 31)\n",
      "bucket :  (31, 33)\n",
      "bucket :  (33, 35)\n",
      "bucket :  (35, 37)\n",
      "bucket :  (37, 39)\n",
      "bucket :  (39, 41)\n"
     ]
    },
    {
     "name": "stderr",
     "output_type": "stream",
     "text": [
      " 15%|█▌        | 3/20 [08:17<47:10, 166.50s/it]"
     ]
    },
    {
     "name": "stdout",
     "output_type": "stream",
     "text": [
      "{'bucketing': 15, 'encoding': 'index', 'drop_act': 6, 'Xgboost': {'max_depth': 14, 'n_estimators': 128, 'learning_rate': 0.05}}\n",
      "bucket :  (2, 5)\n",
      "After OverSampling, the shape of train_X: (46950, 14)\n",
      "After OverSampling, the shape of train_y: (46950,) \n",
      "\n",
      "After OverSampling, counts of label '1': 23475\n",
      "After OverSampling, counts of label '0': 23475\n",
      "bucket :  (5, 8)\n",
      "After OverSampling, the shape of train_X: (32620, 38)\n",
      "After OverSampling, the shape of train_y: (32620,) \n",
      "\n",
      "After OverSampling, counts of label '1': 16310\n",
      "After OverSampling, counts of label '0': 16310\n",
      "bucket :  (8, 11)\n",
      "bucket :  (11, 14)\n",
      "bucket :  (14, 17)\n",
      "bucket :  (17, 20)\n",
      "bucket :  (20, 23)\n",
      "bucket :  (23, 26)\n",
      "bucket :  (26, 29)\n",
      "bucket :  (29, 31)\n",
      "bucket :  (31, 33)\n",
      "bucket :  (33, 35)\n",
      "bucket :  (35, 37)\n",
      "bucket :  (37, 39)\n",
      "bucket :  (39, 41)\n"
     ]
    },
    {
     "name": "stderr",
     "output_type": "stream",
     "text": [
      " 20%|██        | 4/20 [11:20<46:11, 173.20s/it]"
     ]
    },
    {
     "name": "stdout",
     "output_type": "stream",
     "text": [
      "{'bucketing': 15, 'encoding': 'index', 'drop_act': 6, 'Xgboost': {'max_depth': 14, 'n_estimators': 128, 'learning_rate': 0.05}}\n",
      "bucket :  (2, 5)\n",
      "After OverSampling, the shape of train_X: (46950, 14)\n",
      "After OverSampling, the shape of train_y: (46950,) \n",
      "\n",
      "After OverSampling, counts of label '1': 23475\n",
      "After OverSampling, counts of label '0': 23475\n",
      "bucket :  (5, 8)\n",
      "After OverSampling, the shape of train_X: (32620, 38)\n",
      "After OverSampling, the shape of train_y: (32620,) \n",
      "\n",
      "After OverSampling, counts of label '1': 16310\n",
      "After OverSampling, counts of label '0': 16310\n",
      "bucket :  (8, 11)\n",
      "bucket :  (11, 14)\n",
      "bucket :  (14, 17)\n",
      "bucket :  (17, 20)\n",
      "bucket :  (20, 23)\n",
      "bucket :  (23, 26)\n",
      "bucket :  (26, 29)\n",
      "bucket :  (29, 31)\n",
      "bucket :  (31, 33)\n",
      "bucket :  (33, 35)\n",
      "bucket :  (35, 37)\n",
      "bucket :  (37, 39)\n",
      "bucket :  (39, 41)\n"
     ]
    },
    {
     "name": "stderr",
     "output_type": "stream",
     "text": [
      " 25%|██▌       | 5/20 [14:23<44:11, 176.74s/it]"
     ]
    },
    {
     "name": "stdout",
     "output_type": "stream",
     "text": [
      "{'bucketing': 15, 'encoding': 'index', 'drop_act': 8, 'Xgboost': {'max_depth': 14, 'n_estimators': 128, 'learning_rate': 0.05}}\n",
      "bucket :  (2, 5)\n",
      "After OverSampling, the shape of train_X: (46950, 14)\n",
      "After OverSampling, the shape of train_y: (46950,) \n",
      "\n",
      "After OverSampling, counts of label '1': 23475\n",
      "After OverSampling, counts of label '0': 23475\n",
      "bucket :  (5, 8)\n",
      "After OverSampling, the shape of train_X: (32620, 38)\n",
      "After OverSampling, the shape of train_y: (32620,) \n",
      "\n",
      "After OverSampling, counts of label '1': 16310\n",
      "After OverSampling, counts of label '0': 16310\n",
      "bucket :  (8, 11)\n",
      "bucket :  (11, 14)\n",
      "bucket :  (14, 17)\n",
      "bucket :  (17, 20)\n",
      "bucket :  (20, 23)\n",
      "bucket :  (23, 26)\n",
      "bucket :  (26, 29)\n",
      "bucket :  (29, 31)\n",
      "bucket :  (31, 33)\n",
      "bucket :  (33, 35)\n",
      "bucket :  (35, 37)\n",
      "bucket :  (37, 39)\n",
      "bucket :  (39, 41)\n"
     ]
    },
    {
     "name": "stderr",
     "output_type": "stream",
     "text": [
      " 30%|███       | 6/20 [17:22<41:24, 177.49s/it]"
     ]
    },
    {
     "name": "stdout",
     "output_type": "stream",
     "text": [
      "{'bucketing': 8, 'encoding': 'aggregate', 'drop_act': 6, 'Xgboost': {'max_depth': 14, 'n_estimators': 128, 'learning_rate': 0.05}}\n",
      "bucket :  (2, 7)\n",
      "After OverSampling, the shape of train_X: (70588, 15)\n",
      "After OverSampling, the shape of train_y: (70588,) \n",
      "\n",
      "After OverSampling, counts of label '1': 35294\n",
      "After OverSampling, counts of label '0': 35294\n",
      "bucket :  (7, 12)\n",
      "bucket :  (12, 17)\n",
      "bucket :  (17, 22)\n",
      "bucket :  (22, 27)\n",
      "bucket :  (27, 32)\n",
      "bucket :  (32, 37)\n",
      "bucket :  (37, 41)\n"
     ]
    },
    {
     "name": "stderr",
     "output_type": "stream",
     "text": [
      " 35%|███▌      | 7/20 [20:23<38:42, 178.63s/it]"
     ]
    },
    {
     "name": "stdout",
     "output_type": "stream",
     "text": [
      "{'bucketing': 15, 'encoding': 'aggregate', 'drop_act': 6, 'Xgboost': {'max_depth': 14, 'n_estimators': 128, 'learning_rate': 0.05}}\n",
      "bucket :  (2, 5)\n",
      "After OverSampling, the shape of train_X: (46950, 10)\n",
      "After OverSampling, the shape of train_y: (46950,) \n",
      "\n",
      "After OverSampling, counts of label '1': 23475\n",
      "After OverSampling, counts of label '0': 23475\n",
      "bucket :  (5, 8)\n",
      "After OverSampling, the shape of train_X: (32620, 17)\n",
      "After OverSampling, the shape of train_y: (32620,) \n",
      "\n",
      "After OverSampling, counts of label '1': 16310\n",
      "After OverSampling, counts of label '0': 16310\n",
      "bucket :  (8, 11)\n",
      "bucket :  (11, 14)\n",
      "bucket :  (14, 17)\n",
      "bucket :  (17, 20)\n",
      "bucket :  (20, 23)\n",
      "bucket :  (23, 26)\n",
      "bucket :  (26, 29)\n",
      "bucket :  (29, 31)\n",
      "bucket :  (31, 33)\n",
      "bucket :  (33, 35)\n",
      "bucket :  (35, 37)\n",
      "bucket :  (37, 39)\n",
      "bucket :  (39, 41)\n"
     ]
    },
    {
     "name": "stderr",
     "output_type": "stream",
     "text": [
      " 40%|████      | 8/20 [23:27<36:03, 180.31s/it]"
     ]
    },
    {
     "name": "stdout",
     "output_type": "stream",
     "text": [
      "{'bucketing': 15, 'encoding': 'index', 'drop_act': 6, 'Xgboost': {'max_depth': 14, 'n_estimators': 128, 'learning_rate': 0.05}}\n",
      "bucket :  (2, 5)\n",
      "After OverSampling, the shape of train_X: (46950, 14)\n",
      "After OverSampling, the shape of train_y: (46950,) \n",
      "\n",
      "After OverSampling, counts of label '1': 23475\n",
      "After OverSampling, counts of label '0': 23475\n",
      "bucket :  (5, 8)\n",
      "After OverSampling, the shape of train_X: (32620, 38)\n",
      "After OverSampling, the shape of train_y: (32620,) \n",
      "\n",
      "After OverSampling, counts of label '1': 16310\n",
      "After OverSampling, counts of label '0': 16310\n",
      "bucket :  (8, 11)\n",
      "bucket :  (11, 14)\n",
      "bucket :  (14, 17)\n",
      "bucket :  (17, 20)\n",
      "bucket :  (20, 23)\n",
      "bucket :  (23, 26)\n",
      "bucket :  (26, 29)\n",
      "bucket :  (29, 31)\n",
      "bucket :  (31, 33)\n",
      "bucket :  (33, 35)\n",
      "bucket :  (35, 37)\n",
      "bucket :  (37, 39)\n",
      "bucket :  (39, 41)\n"
     ]
    },
    {
     "name": "stderr",
     "output_type": "stream",
     "text": [
      " 45%|████▌     | 9/20 [26:30<33:11, 181.06s/it]"
     ]
    },
    {
     "name": "stdout",
     "output_type": "stream",
     "text": [
      "{'bucketing': 21, 'encoding': 'aggregate', 'drop_act': 6, 'Decision Tree': {'max_depth': 7, 'min_samples_leaf': 47, 'criterion': 'gini'}}\n",
      "bucket :  (2, 4)\n",
      "After OverSampling, the shape of train_X: (34594, 8)\n",
      "After OverSampling, the shape of train_y: (34594,) \n",
      "\n",
      "After OverSampling, counts of label '1': 17297\n",
      "After OverSampling, counts of label '0': 17297\n",
      "bucket :  (4, 6)\n",
      "After OverSampling, the shape of train_X: (23472, 13)\n",
      "After OverSampling, the shape of train_y: (23472,) \n",
      "\n",
      "After OverSampling, counts of label '1': 11736\n",
      "After OverSampling, counts of label '0': 11736\n",
      "bucket :  (6, 8)\n",
      "bucket :  (8, 10)\n",
      "bucket :  (10, 12)\n",
      "bucket :  (12, 14)\n",
      "bucket :  (14, 16)\n",
      "bucket :  (16, 18)\n",
      "bucket :  (18, 20)\n",
      "bucket :  (20, 22)\n",
      "bucket :  (22, 24)\n",
      "bucket :  (24, 26)\n",
      "bucket :  (26, 28)\n",
      "bucket :  (28, 30)\n",
      "bucket :  (30, 32)\n",
      "bucket :  (32, 34)\n",
      "bucket :  (34, 36)\n",
      "bucket :  (36, 38)\n",
      "bucket :  (38, 39)\n",
      "bucket :  (39, 40)\n",
      "bucket :  (40, 41)\n"
     ]
    },
    {
     "name": "stderr",
     "output_type": "stream",
     "text": [
      " 50%|█████     | 10/20 [29:18<29:31, 177.10s/it]"
     ]
    },
    {
     "name": "stdout",
     "output_type": "stream",
     "text": [
      "{'bucketing': 15, 'encoding': 'index', 'drop_act': 6, 'Xgboost': {'max_depth': 14, 'n_estimators': 128, 'learning_rate': 0.05}}\n",
      "bucket :  (2, 5)\n",
      "After OverSampling, the shape of train_X: (46950, 14)\n",
      "After OverSampling, the shape of train_y: (46950,) \n",
      "\n",
      "After OverSampling, counts of label '1': 23475\n",
      "After OverSampling, counts of label '0': 23475\n",
      "bucket :  (5, 8)\n",
      "After OverSampling, the shape of train_X: (32620, 38)\n",
      "After OverSampling, the shape of train_y: (32620,) \n",
      "\n",
      "After OverSampling, counts of label '1': 16310\n",
      "After OverSampling, counts of label '0': 16310\n",
      "bucket :  (8, 11)\n",
      "bucket :  (11, 14)\n",
      "bucket :  (14, 17)\n",
      "bucket :  (17, 20)\n",
      "bucket :  (20, 23)\n",
      "bucket :  (23, 26)\n",
      "bucket :  (26, 29)\n",
      "bucket :  (29, 31)\n",
      "bucket :  (31, 33)\n",
      "bucket :  (33, 35)\n",
      "bucket :  (35, 37)\n",
      "bucket :  (37, 39)\n",
      "bucket :  (39, 41)\n"
     ]
    },
    {
     "name": "stderr",
     "output_type": "stream",
     "text": [
      " 55%|█████▌    | 11/20 [32:21<26:49, 178.81s/it]"
     ]
    },
    {
     "name": "stdout",
     "output_type": "stream",
     "text": [
      "{'bucketing': 15, 'encoding': 'index', 'drop_act': 8, 'Decision Tree': {'max_depth': 7, 'min_samples_leaf': 47, 'criterion': 'gini'}}\n",
      "bucket :  (2, 5)\n",
      "After OverSampling, the shape of train_X: (46950, 14)\n",
      "After OverSampling, the shape of train_y: (46950,) \n",
      "\n",
      "After OverSampling, counts of label '1': 23475\n",
      "After OverSampling, counts of label '0': 23475\n",
      "bucket :  (5, 8)\n",
      "After OverSampling, the shape of train_X: (32620, 38)\n",
      "After OverSampling, the shape of train_y: (32620,) \n",
      "\n",
      "After OverSampling, counts of label '1': 16310\n",
      "After OverSampling, counts of label '0': 16310\n",
      "bucket :  (8, 11)\n",
      "bucket :  (11, 14)\n",
      "bucket :  (14, 17)\n",
      "bucket :  (17, 20)\n",
      "bucket :  (20, 23)\n",
      "bucket :  (23, 26)\n",
      "bucket :  (26, 29)\n",
      "bucket :  (29, 31)\n",
      "bucket :  (31, 33)\n",
      "bucket :  (33, 35)\n",
      "bucket :  (35, 37)\n",
      "bucket :  (37, 39)\n",
      "bucket :  (39, 41)\n"
     ]
    },
    {
     "name": "stderr",
     "output_type": "stream",
     "text": [
      " 60%|██████    | 12/20 [34:30<21:48, 163.56s/it]"
     ]
    },
    {
     "name": "stdout",
     "output_type": "stream",
     "text": [
      "{'bucketing': 15, 'encoding': 'aggregate', 'drop_act': 6, 'Xgboost': {'max_depth': 14, 'n_estimators': 128, 'learning_rate': 0.05}}\n",
      "bucket :  (2, 5)\n",
      "After OverSampling, the shape of train_X: (46950, 10)\n",
      "After OverSampling, the shape of train_y: (46950,) \n",
      "\n",
      "After OverSampling, counts of label '1': 23475\n",
      "After OverSampling, counts of label '0': 23475\n",
      "bucket :  (5, 8)\n",
      "After OverSampling, the shape of train_X: (32620, 17)\n",
      "After OverSampling, the shape of train_y: (32620,) \n",
      "\n",
      "After OverSampling, counts of label '1': 16310\n",
      "After OverSampling, counts of label '0': 16310\n",
      "bucket :  (8, 11)\n",
      "bucket :  (11, 14)\n",
      "bucket :  (14, 17)\n",
      "bucket :  (17, 20)\n",
      "bucket :  (20, 23)\n",
      "bucket :  (23, 26)\n",
      "bucket :  (26, 29)\n",
      "bucket :  (29, 31)\n",
      "bucket :  (31, 33)\n",
      "bucket :  (33, 35)\n",
      "bucket :  (35, 37)\n",
      "bucket :  (37, 39)\n",
      "bucket :  (39, 41)\n"
     ]
    },
    {
     "name": "stderr",
     "output_type": "stream",
     "text": [
      " 65%|██████▌   | 13/20 [37:33<19:47, 169.62s/it]"
     ]
    },
    {
     "name": "stdout",
     "output_type": "stream",
     "text": [
      "{'bucketing': 26, 'encoding': 'index', 'drop_act': 6, 'Xgboost': {'max_depth': 14, 'n_estimators': 128, 'learning_rate': 0.05}}\n",
      "bucket :  (2, 4)\n",
      "After OverSampling, the shape of train_X: (34594, 11)\n",
      "After OverSampling, the shape of train_y: (34594,) \n",
      "\n",
      "After OverSampling, counts of label '1': 17297\n",
      "After OverSampling, counts of label '0': 17297\n",
      "bucket :  (4, 6)\n",
      "After OverSampling, the shape of train_X: (23472, 19)\n",
      "After OverSampling, the shape of train_y: (23472,) \n",
      "\n",
      "After OverSampling, counts of label '1': 11736\n",
      "After OverSampling, counts of label '0': 11736\n",
      "bucket :  (6, 8)\n",
      "bucket :  (8, 10)\n",
      "bucket :  (10, 12)\n",
      "bucket :  (12, 14)\n",
      "bucket :  (14, 16)\n",
      "bucket :  (16, 18)\n",
      "bucket :  (18, 20)\n",
      "bucket :  (20, 22)\n",
      "bucket :  (22, 24)\n",
      "bucket :  (24, 26)\n",
      "bucket :  (26, 28)\n",
      "bucket :  (28, 29)\n",
      "bucket :  (29, 30)\n",
      "bucket :  (30, 31)\n",
      "bucket :  (31, 32)\n",
      "bucket :  (32, 33)\n",
      "bucket :  (33, 34)\n",
      "bucket :  (34, 35)\n",
      "bucket :  (35, 36)\n",
      "bucket :  (36, 37)\n",
      "bucket :  (37, 38)\n",
      "bucket :  (38, 39)\n",
      "bucket :  (39, 40)\n",
      "bucket :  (40, 41)\n"
     ]
    },
    {
     "name": "stderr",
     "output_type": "stream",
     "text": [
      " 70%|███████   | 14/20 [40:36<17:22, 173.72s/it]"
     ]
    },
    {
     "name": "stdout",
     "output_type": "stream",
     "text": [
      "{'bucketing': 15, 'encoding': 'index', 'drop_act': 6, 'Xgboost': {'max_depth': 14, 'n_estimators': 128, 'learning_rate': 0.05}}\n",
      "bucket :  (2, 5)\n",
      "After OverSampling, the shape of train_X: (46950, 14)\n",
      "After OverSampling, the shape of train_y: (46950,) \n",
      "\n",
      "After OverSampling, counts of label '1': 23475\n",
      "After OverSampling, counts of label '0': 23475\n",
      "bucket :  (5, 8)\n",
      "After OverSampling, the shape of train_X: (32620, 38)\n",
      "After OverSampling, the shape of train_y: (32620,) \n",
      "\n",
      "After OverSampling, counts of label '1': 16310\n",
      "After OverSampling, counts of label '0': 16310\n",
      "bucket :  (8, 11)\n",
      "bucket :  (11, 14)\n",
      "bucket :  (14, 17)\n",
      "bucket :  (17, 20)\n",
      "bucket :  (20, 23)\n",
      "bucket :  (23, 26)\n",
      "bucket :  (26, 29)\n",
      "bucket :  (29, 31)\n",
      "bucket :  (31, 33)\n",
      "bucket :  (33, 35)\n",
      "bucket :  (35, 37)\n",
      "bucket :  (37, 39)\n",
      "bucket :  (39, 41)\n"
     ]
    },
    {
     "name": "stderr",
     "output_type": "stream",
     "text": [
      " 75%|███████▌  | 15/20 [43:39<14:41, 176.39s/it]"
     ]
    },
    {
     "name": "stdout",
     "output_type": "stream",
     "text": [
      "{'bucketing': 15, 'encoding': 'index', 'drop_act': 8, 'LightGBM': {'max_depth': 10, 'num_leaves': 325, 'min_child_samples': 5}}\n",
      "bucket :  (2, 5)\n",
      "After OverSampling, the shape of train_X: (46950, 14)\n",
      "After OverSampling, the shape of train_y: (46950,) \n",
      "\n",
      "After OverSampling, counts of label '1': 23475\n",
      "After OverSampling, counts of label '0': 23475\n",
      "bucket :  (5, 8)\n",
      "After OverSampling, the shape of train_X: (32620, 38)\n",
      "After OverSampling, the shape of train_y: (32620,) \n",
      "\n",
      "After OverSampling, counts of label '1': 16310\n",
      "After OverSampling, counts of label '0': 16310\n",
      "bucket :  (8, 11)\n",
      "bucket :  (11, 14)\n",
      "bucket :  (14, 17)\n",
      "bucket :  (17, 20)\n",
      "bucket :  (20, 23)\n",
      "bucket :  (23, 26)\n",
      "bucket :  (26, 29)\n",
      "bucket :  (29, 31)\n",
      "bucket :  (31, 33)\n",
      "bucket :  (33, 35)\n",
      "bucket :  (35, 37)\n",
      "bucket :  (37, 39)\n",
      "bucket :  (39, 41)\n"
     ]
    },
    {
     "name": "stderr",
     "output_type": "stream",
     "text": [
      " 80%|████████  | 16/20 [45:52<10:53, 163.39s/it]"
     ]
    },
    {
     "name": "stdout",
     "output_type": "stream",
     "text": [
      "{'bucketing': 15, 'encoding': 'index', 'drop_act': 6, 'Xgboost': {'max_depth': 14, 'n_estimators': 128, 'learning_rate': 0.05}}\n",
      "bucket :  (2, 5)\n",
      "After OverSampling, the shape of train_X: (46950, 14)\n",
      "After OverSampling, the shape of train_y: (46950,) \n",
      "\n",
      "After OverSampling, counts of label '1': 23475\n",
      "After OverSampling, counts of label '0': 23475\n",
      "bucket :  (5, 8)\n",
      "After OverSampling, the shape of train_X: (32620, 38)\n",
      "After OverSampling, the shape of train_y: (32620,) \n",
      "\n",
      "After OverSampling, counts of label '1': 16310\n",
      "After OverSampling, counts of label '0': 16310\n",
      "bucket :  (8, 11)\n",
      "bucket :  (11, 14)\n",
      "bucket :  (14, 17)\n",
      "bucket :  (17, 20)\n",
      "bucket :  (20, 23)\n",
      "bucket :  (23, 26)\n",
      "bucket :  (26, 29)\n",
      "bucket :  (29, 31)\n",
      "bucket :  (31, 33)\n",
      "bucket :  (33, 35)\n",
      "bucket :  (35, 37)\n",
      "bucket :  (37, 39)\n",
      "bucket :  (39, 41)\n"
     ]
    },
    {
     "name": "stderr",
     "output_type": "stream",
     "text": [
      " 85%|████████▌ | 17/20 [48:55<08:27, 169.23s/it]"
     ]
    },
    {
     "name": "stdout",
     "output_type": "stream",
     "text": [
      "{'bucketing': 6, 'encoding': 'index', 'drop_act': 6, 'Xgboost': {'max_depth': 14, 'n_estimators': 128, 'learning_rate': 0.05}}\n",
      "bucket :  (2, 9)\n",
      "After OverSampling, the shape of train_X: (89050, 52)\n",
      "After OverSampling, the shape of train_y: (89050,) \n",
      "\n",
      "After OverSampling, counts of label '1': 44525\n",
      "After OverSampling, counts of label '0': 44525\n",
      "bucket :  (9, 16)\n",
      "bucket :  (16, 23)\n",
      "bucket :  (23, 29)\n",
      "bucket :  (29, 35)\n",
      "bucket :  (35, 41)\n"
     ]
    },
    {
     "name": "stderr",
     "output_type": "stream",
     "text": [
      " 90%|█████████ | 18/20 [52:04<05:50, 175.31s/it]"
     ]
    },
    {
     "name": "stdout",
     "output_type": "stream",
     "text": [
      "{'bucketing': 15, 'encoding': 'index', 'drop_act': 6, 'Xgboost': {'max_depth': 14, 'n_estimators': 128, 'learning_rate': 0.05}}\n",
      "bucket :  (2, 5)\n",
      "After OverSampling, the shape of train_X: (46950, 14)\n",
      "After OverSampling, the shape of train_y: (46950,) \n",
      "\n",
      "After OverSampling, counts of label '1': 23475\n",
      "After OverSampling, counts of label '0': 23475\n",
      "bucket :  (5, 8)\n",
      "After OverSampling, the shape of train_X: (32620, 38)\n",
      "After OverSampling, the shape of train_y: (32620,) \n",
      "\n",
      "After OverSampling, counts of label '1': 16310\n",
      "After OverSampling, counts of label '0': 16310\n",
      "bucket :  (8, 11)\n",
      "bucket :  (11, 14)\n",
      "bucket :  (14, 17)\n",
      "bucket :  (17, 20)\n",
      "bucket :  (20, 23)\n",
      "bucket :  (23, 26)\n",
      "bucket :  (26, 29)\n",
      "bucket :  (29, 31)\n",
      "bucket :  (31, 33)\n",
      "bucket :  (33, 35)\n",
      "bucket :  (35, 37)\n",
      "bucket :  (37, 39)\n",
      "bucket :  (39, 41)\n"
     ]
    },
    {
     "name": "stderr",
     "output_type": "stream",
     "text": [
      " 95%|█████████▌| 19/20 [55:07<02:57, 177.49s/it]"
     ]
    },
    {
     "name": "stdout",
     "output_type": "stream",
     "text": [
      "{'bucketing': 2, 'encoding': 'aggregate', 'drop_act': 6, 'Xgboost': {'max_depth': 14, 'n_estimators': 128, 'learning_rate': 0.05}}\n",
      "bucket :  (2, 22)\n",
      "bucket :  (22, 41)\n"
     ]
    },
    {
     "name": "stderr",
     "output_type": "stream",
     "text": [
      "100%|██████████| 20/20 [58:06<00:00, 174.33s/it]\n",
      "  0%|          | 0/20 [00:00<?, ?it/s]"
     ]
    },
    {
     "name": "stdout",
     "output_type": "stream",
     "text": [
      "{'bucketing': 6, 'encoding': 'index', 'drop_act': 6, 'Xgboost': {'max_depth': 14, 'n_estimators': 128, 'learning_rate': 0.05}}\n",
      "bucket :  (2, 9)\n",
      "After OverSampling, the shape of train_X: (89050, 52)\n",
      "After OverSampling, the shape of train_y: (89050,) \n",
      "\n",
      "After OverSampling, counts of label '1': 44525\n",
      "After OverSampling, counts of label '0': 44525\n",
      "bucket :  (9, 16)\n",
      "bucket :  (16, 23)\n",
      "bucket :  (23, 29)\n",
      "bucket :  (29, 35)\n",
      "bucket :  (35, 41)\n"
     ]
    },
    {
     "name": "stderr",
     "output_type": "stream",
     "text": [
      "  5%|▌         | 1/20 [03:09<59:52, 189.09s/it]"
     ]
    },
    {
     "name": "stdout",
     "output_type": "stream",
     "text": [
      "{'bucketing': 6, 'encoding': 'index', 'drop_act': 6, 'Xgboost': {'max_depth': 14, 'n_estimators': 128, 'learning_rate': 0.05}}\n",
      "bucket :  (2, 9)\n",
      "After OverSampling, the shape of train_X: (89050, 52)\n",
      "After OverSampling, the shape of train_y: (89050,) \n",
      "\n",
      "After OverSampling, counts of label '1': 44525\n",
      "After OverSampling, counts of label '0': 44525\n",
      "bucket :  (9, 16)\n",
      "bucket :  (16, 23)\n",
      "bucket :  (23, 29)\n",
      "bucket :  (29, 35)\n",
      "bucket :  (35, 41)\n"
     ]
    },
    {
     "name": "stderr",
     "output_type": "stream",
     "text": [
      " 10%|█         | 2/20 [06:18<56:48, 189.37s/it]"
     ]
    },
    {
     "name": "stdout",
     "output_type": "stream",
     "text": [
      "{'bucketing': 21, 'encoding': 'aggregate', 'drop_act': 6, 'Decision Tree': {'max_depth': 7, 'min_samples_leaf': 47, 'criterion': 'gini'}}\n",
      "bucket :  (2, 4)\n",
      "After OverSampling, the shape of train_X: (34594, 8)\n",
      "After OverSampling, the shape of train_y: (34594,) \n",
      "\n",
      "After OverSampling, counts of label '1': 17297\n",
      "After OverSampling, counts of label '0': 17297\n",
      "bucket :  (4, 6)\n",
      "After OverSampling, the shape of train_X: (23472, 13)\n",
      "After OverSampling, the shape of train_y: (23472,) \n",
      "\n",
      "After OverSampling, counts of label '1': 11736\n",
      "After OverSampling, counts of label '0': 11736\n",
      "bucket :  (6, 8)\n",
      "bucket :  (8, 10)\n",
      "bucket :  (10, 12)\n",
      "bucket :  (12, 14)\n",
      "bucket :  (14, 16)\n",
      "bucket :  (16, 18)\n",
      "bucket :  (18, 20)\n",
      "bucket :  (20, 22)\n",
      "bucket :  (22, 24)\n",
      "bucket :  (24, 26)\n",
      "bucket :  (26, 28)\n",
      "bucket :  (28, 30)\n",
      "bucket :  (30, 32)\n",
      "bucket :  (32, 34)\n",
      "bucket :  (34, 36)\n",
      "bucket :  (36, 38)\n",
      "bucket :  (38, 39)\n",
      "bucket :  (39, 40)\n",
      "bucket :  (40, 41)\n"
     ]
    },
    {
     "name": "stderr",
     "output_type": "stream",
     "text": [
      " 15%|█▌        | 3/20 [09:07<50:56, 179.78s/it]"
     ]
    },
    {
     "name": "stdout",
     "output_type": "stream",
     "text": [
      "{'bucketing': 15, 'encoding': 'index', 'drop_act': 6, 'Xgboost': {'max_depth': 14, 'n_estimators': 128, 'learning_rate': 0.05}}\n",
      "bucket :  (2, 5)\n",
      "After OverSampling, the shape of train_X: (46950, 14)\n",
      "After OverSampling, the shape of train_y: (46950,) \n",
      "\n",
      "After OverSampling, counts of label '1': 23475\n",
      "After OverSampling, counts of label '0': 23475\n",
      "bucket :  (5, 8)\n",
      "After OverSampling, the shape of train_X: (32620, 38)\n",
      "After OverSampling, the shape of train_y: (32620,) \n",
      "\n",
      "After OverSampling, counts of label '1': 16310\n",
      "After OverSampling, counts of label '0': 16310\n",
      "bucket :  (8, 11)\n",
      "bucket :  (11, 14)\n",
      "bucket :  (14, 17)\n",
      "bucket :  (17, 20)\n",
      "bucket :  (20, 23)\n",
      "bucket :  (23, 26)\n",
      "bucket :  (26, 29)\n",
      "bucket :  (29, 31)\n",
      "bucket :  (31, 33)\n",
      "bucket :  (33, 35)\n",
      "bucket :  (35, 37)\n",
      "bucket :  (37, 39)\n",
      "bucket :  (39, 41)\n"
     ]
    },
    {
     "name": "stderr",
     "output_type": "stream",
     "text": [
      " 20%|██        | 4/20 [12:08<48:10, 180.63s/it]"
     ]
    },
    {
     "name": "stdout",
     "output_type": "stream",
     "text": [
      "{'bucketing': 8, 'encoding': 'index', 'drop_act': 6, 'Xgboost': {'max_depth': 14, 'n_estimators': 128, 'learning_rate': 0.05}}\n",
      "bucket :  (2, 7)\n",
      "After OverSampling, the shape of train_X: (70588, 29)\n",
      "After OverSampling, the shape of train_y: (70588,) \n",
      "\n",
      "After OverSampling, counts of label '1': 35294\n",
      "After OverSampling, counts of label '0': 35294\n",
      "bucket :  (7, 12)\n",
      "bucket :  (12, 17)\n",
      "bucket :  (17, 22)\n",
      "bucket :  (22, 27)\n",
      "bucket :  (27, 32)\n",
      "bucket :  (32, 37)\n",
      "bucket :  (37, 41)\n"
     ]
    },
    {
     "name": "stderr",
     "output_type": "stream",
     "text": [
      " 25%|██▌       | 5/20 [15:17<45:52, 183.50s/it]"
     ]
    },
    {
     "name": "stdout",
     "output_type": "stream",
     "text": [
      "{'bucketing': 15, 'encoding': 'aggregate', 'drop_act': 6, 'Xgboost': {'max_depth': 14, 'n_estimators': 128, 'learning_rate': 0.05}}\n",
      "bucket :  (2, 5)\n",
      "After OverSampling, the shape of train_X: (46950, 10)\n",
      "After OverSampling, the shape of train_y: (46950,) \n",
      "\n",
      "After OverSampling, counts of label '1': 23475\n",
      "After OverSampling, counts of label '0': 23475\n",
      "bucket :  (5, 8)\n",
      "After OverSampling, the shape of train_X: (32620, 17)\n",
      "After OverSampling, the shape of train_y: (32620,) \n",
      "\n",
      "After OverSampling, counts of label '1': 16310\n",
      "After OverSampling, counts of label '0': 16310\n",
      "bucket :  (8, 11)\n",
      "bucket :  (11, 14)\n",
      "bucket :  (14, 17)\n",
      "bucket :  (17, 20)\n",
      "bucket :  (20, 23)\n",
      "bucket :  (23, 26)\n",
      "bucket :  (26, 29)\n",
      "bucket :  (29, 31)\n",
      "bucket :  (31, 33)\n",
      "bucket :  (33, 35)\n",
      "bucket :  (35, 37)\n",
      "bucket :  (37, 39)\n",
      "bucket :  (39, 41)\n"
     ]
    },
    {
     "name": "stderr",
     "output_type": "stream",
     "text": [
      " 30%|███       | 6/20 [18:21<42:50, 183.64s/it]"
     ]
    },
    {
     "name": "stdout",
     "output_type": "stream",
     "text": [
      "{'bucketing': 15, 'encoding': 'index', 'drop_act': 8, 'LightGBM': {'max_depth': 10, 'num_leaves': 325, 'min_child_samples': 5}}\n",
      "bucket :  (2, 5)\n",
      "After OverSampling, the shape of train_X: (46950, 14)\n",
      "After OverSampling, the shape of train_y: (46950,) \n",
      "\n",
      "After OverSampling, counts of label '1': 23475\n",
      "After OverSampling, counts of label '0': 23475\n",
      "bucket :  (5, 8)\n",
      "After OverSampling, the shape of train_X: (32620, 38)\n",
      "After OverSampling, the shape of train_y: (32620,) \n",
      "\n",
      "After OverSampling, counts of label '1': 16310\n",
      "After OverSampling, counts of label '0': 16310\n",
      "bucket :  (8, 11)\n",
      "bucket :  (11, 14)\n",
      "bucket :  (14, 17)\n",
      "bucket :  (17, 20)\n",
      "bucket :  (20, 23)\n",
      "bucket :  (23, 26)\n",
      "bucket :  (26, 29)\n",
      "bucket :  (29, 31)\n",
      "bucket :  (31, 33)\n",
      "bucket :  (33, 35)\n",
      "bucket :  (35, 37)\n",
      "bucket :  (37, 39)\n",
      "bucket :  (39, 41)\n"
     ]
    },
    {
     "name": "stderr",
     "output_type": "stream",
     "text": [
      " 35%|███▌      | 7/20 [20:34<36:13, 167.22s/it]"
     ]
    },
    {
     "name": "stdout",
     "output_type": "stream",
     "text": [
      "{'bucketing': 6, 'encoding': 'index', 'drop_act': 6, 'LightGBM': {'max_depth': 10, 'num_leaves': 325, 'min_child_samples': 5}}\n",
      "bucket :  (2, 9)\n",
      "After OverSampling, the shape of train_X: (89050, 52)\n",
      "After OverSampling, the shape of train_y: (89050,) \n",
      "\n",
      "After OverSampling, counts of label '1': 44525\n",
      "After OverSampling, counts of label '0': 44525\n",
      "bucket :  (9, 16)\n",
      "bucket :  (16, 23)\n",
      "bucket :  (23, 29)\n",
      "bucket :  (29, 35)\n",
      "bucket :  (35, 41)\n"
     ]
    },
    {
     "name": "stderr",
     "output_type": "stream",
     "text": [
      " 40%|████      | 8/20 [22:49<31:20, 156.72s/it]"
     ]
    },
    {
     "name": "stdout",
     "output_type": "stream",
     "text": [
      "{'bucketing': 15, 'encoding': 'aggregate', 'drop_act': 6, 'Xgboost': {'max_depth': 14, 'n_estimators': 128, 'learning_rate': 0.05}}\n",
      "bucket :  (2, 5)\n",
      "After OverSampling, the shape of train_X: (46950, 10)\n",
      "After OverSampling, the shape of train_y: (46950,) \n",
      "\n",
      "After OverSampling, counts of label '1': 23475\n",
      "After OverSampling, counts of label '0': 23475\n",
      "bucket :  (5, 8)\n",
      "After OverSampling, the shape of train_X: (32620, 17)\n",
      "After OverSampling, the shape of train_y: (32620,) \n",
      "\n",
      "After OverSampling, counts of label '1': 16310\n",
      "After OverSampling, counts of label '0': 16310\n",
      "bucket :  (8, 11)\n",
      "bucket :  (11, 14)\n",
      "bucket :  (14, 17)\n",
      "bucket :  (17, 20)\n",
      "bucket :  (20, 23)\n",
      "bucket :  (23, 26)\n",
      "bucket :  (26, 29)\n",
      "bucket :  (29, 31)\n",
      "bucket :  (31, 33)\n",
      "bucket :  (33, 35)\n",
      "bucket :  (35, 37)\n",
      "bucket :  (37, 39)\n",
      "bucket :  (39, 41)\n"
     ]
    },
    {
     "name": "stderr",
     "output_type": "stream",
     "text": [
      " 45%|████▌     | 9/20 [25:53<30:18, 165.36s/it]"
     ]
    },
    {
     "name": "stdout",
     "output_type": "stream",
     "text": [
      "{'bucketing': 2, 'encoding': 'aggregate', 'drop_act': 6, 'Xgboost': {'max_depth': 14, 'n_estimators': 128, 'learning_rate': 0.05}}\n",
      "bucket :  (2, 22)\n",
      "bucket :  (22, 41)\n"
     ]
    },
    {
     "name": "stderr",
     "output_type": "stream",
     "text": [
      " 50%|█████     | 10/20 [28:53<28:18, 169.81s/it]"
     ]
    },
    {
     "name": "stdout",
     "output_type": "stream",
     "text": [
      "{'bucketing': 15, 'encoding': 'index', 'drop_act': 6, 'Xgboost': {'max_depth': 14, 'n_estimators': 128, 'learning_rate': 0.05}}\n",
      "bucket :  (2, 5)\n",
      "After OverSampling, the shape of train_X: (46950, 14)\n",
      "After OverSampling, the shape of train_y: (46950,) \n",
      "\n",
      "After OverSampling, counts of label '1': 23475\n",
      "After OverSampling, counts of label '0': 23475\n",
      "bucket :  (5, 8)\n",
      "After OverSampling, the shape of train_X: (32620, 38)\n",
      "After OverSampling, the shape of train_y: (32620,) \n",
      "\n",
      "After OverSampling, counts of label '1': 16310\n",
      "After OverSampling, counts of label '0': 16310\n",
      "bucket :  (8, 11)\n",
      "bucket :  (11, 14)\n",
      "bucket :  (14, 17)\n",
      "bucket :  (17, 20)\n",
      "bucket :  (20, 23)\n",
      "bucket :  (23, 26)\n",
      "bucket :  (26, 29)\n",
      "bucket :  (29, 31)\n",
      "bucket :  (31, 33)\n",
      "bucket :  (33, 35)\n",
      "bucket :  (35, 37)\n",
      "bucket :  (37, 39)\n",
      "bucket :  (39, 41)\n"
     ]
    },
    {
     "name": "stderr",
     "output_type": "stream",
     "text": [
      " 55%|█████▌    | 11/20 [31:56<26:04, 173.87s/it]"
     ]
    },
    {
     "name": "stdout",
     "output_type": "stream",
     "text": [
      "{'bucketing': 15, 'encoding': 'index', 'drop_act': 6, 'Xgboost': {'max_depth': 14, 'n_estimators': 128, 'learning_rate': 0.05}}\n",
      "bucket :  (2, 5)\n",
      "After OverSampling, the shape of train_X: (46950, 14)\n",
      "After OverSampling, the shape of train_y: (46950,) \n",
      "\n",
      "After OverSampling, counts of label '1': 23475\n",
      "After OverSampling, counts of label '0': 23475\n",
      "bucket :  (5, 8)\n",
      "After OverSampling, the shape of train_X: (32620, 38)\n",
      "After OverSampling, the shape of train_y: (32620,) \n",
      "\n",
      "After OverSampling, counts of label '1': 16310\n",
      "After OverSampling, counts of label '0': 16310\n",
      "bucket :  (8, 11)\n",
      "bucket :  (11, 14)\n",
      "bucket :  (14, 17)\n",
      "bucket :  (17, 20)\n",
      "bucket :  (20, 23)\n",
      "bucket :  (23, 26)\n",
      "bucket :  (26, 29)\n",
      "bucket :  (29, 31)\n",
      "bucket :  (31, 33)\n",
      "bucket :  (33, 35)\n",
      "bucket :  (35, 37)\n",
      "bucket :  (37, 39)\n",
      "bucket :  (39, 41)\n"
     ]
    },
    {
     "name": "stderr",
     "output_type": "stream",
     "text": [
      " 60%|██████    | 12/20 [34:58<23:31, 176.49s/it]"
     ]
    },
    {
     "name": "stdout",
     "output_type": "stream",
     "text": [
      "{'bucketing': 2, 'encoding': 'index', 'drop_act': 8, 'Xgboost': {'max_depth': 14, 'n_estimators': 128, 'learning_rate': 0.05}}\n",
      "bucket :  (2, 22)\n",
      "bucket :  (22, 41)\n"
     ]
    },
    {
     "name": "stderr",
     "output_type": "stream",
     "text": [
      " 65%|██████▌   | 13/20 [38:33<21:57, 188.21s/it]"
     ]
    },
    {
     "name": "stdout",
     "output_type": "stream",
     "text": [
      "{'bucketing': 15, 'encoding': 'index', 'drop_act': 6, 'Xgboost': {'max_depth': 14, 'n_estimators': 128, 'learning_rate': 0.05}}\n",
      "bucket :  (2, 5)\n",
      "After OverSampling, the shape of train_X: (46950, 14)\n",
      "After OverSampling, the shape of train_y: (46950,) \n",
      "\n",
      "After OverSampling, counts of label '1': 23475\n",
      "After OverSampling, counts of label '0': 23475\n",
      "bucket :  (5, 8)\n",
      "After OverSampling, the shape of train_X: (32620, 38)\n",
      "After OverSampling, the shape of train_y: (32620,) \n",
      "\n",
      "After OverSampling, counts of label '1': 16310\n",
      "After OverSampling, counts of label '0': 16310\n",
      "bucket :  (8, 11)\n",
      "bucket :  (11, 14)\n",
      "bucket :  (14, 17)\n",
      "bucket :  (17, 20)\n",
      "bucket :  (20, 23)\n",
      "bucket :  (23, 26)\n",
      "bucket :  (26, 29)\n",
      "bucket :  (29, 31)\n",
      "bucket :  (31, 33)\n",
      "bucket :  (33, 35)\n",
      "bucket :  (35, 37)\n",
      "bucket :  (37, 39)\n",
      "bucket :  (39, 41)\n"
     ]
    },
    {
     "name": "stderr",
     "output_type": "stream",
     "text": [
      " 70%|███████   | 14/20 [41:35<18:37, 186.33s/it]"
     ]
    },
    {
     "name": "stdout",
     "output_type": "stream",
     "text": [
      "{'bucketing': 15, 'encoding': 'index', 'drop_act': 6, 'Xgboost': {'max_depth': 14, 'n_estimators': 128, 'learning_rate': 0.05}}\n",
      "bucket :  (2, 5)\n",
      "After OverSampling, the shape of train_X: (46950, 14)\n",
      "After OverSampling, the shape of train_y: (46950,) \n",
      "\n",
      "After OverSampling, counts of label '1': 23475\n",
      "After OverSampling, counts of label '0': 23475\n",
      "bucket :  (5, 8)\n",
      "After OverSampling, the shape of train_X: (32620, 38)\n",
      "After OverSampling, the shape of train_y: (32620,) \n",
      "\n",
      "After OverSampling, counts of label '1': 16310\n",
      "After OverSampling, counts of label '0': 16310\n",
      "bucket :  (8, 11)\n",
      "bucket :  (11, 14)\n",
      "bucket :  (14, 17)\n",
      "bucket :  (17, 20)\n",
      "bucket :  (20, 23)\n",
      "bucket :  (23, 26)\n",
      "bucket :  (26, 29)\n",
      "bucket :  (29, 31)\n",
      "bucket :  (31, 33)\n",
      "bucket :  (33, 35)\n",
      "bucket :  (35, 37)\n",
      "bucket :  (37, 39)\n",
      "bucket :  (39, 41)\n"
     ]
    },
    {
     "name": "stderr",
     "output_type": "stream",
     "text": [
      " 75%|███████▌  | 15/20 [44:38<15:25, 185.11s/it]"
     ]
    },
    {
     "name": "stdout",
     "output_type": "stream",
     "text": [
      "{'bucketing': 15, 'encoding': 'index', 'drop_act': 6, 'Xgboost': {'max_depth': 14, 'n_estimators': 128, 'learning_rate': 0.05}}\n",
      "bucket :  (2, 5)\n",
      "After OverSampling, the shape of train_X: (46950, 14)\n",
      "After OverSampling, the shape of train_y: (46950,) \n",
      "\n",
      "After OverSampling, counts of label '1': 23475\n",
      "After OverSampling, counts of label '0': 23475\n",
      "bucket :  (5, 8)\n",
      "After OverSampling, the shape of train_X: (32620, 38)\n",
      "After OverSampling, the shape of train_y: (32620,) \n",
      "\n",
      "After OverSampling, counts of label '1': 16310\n",
      "After OverSampling, counts of label '0': 16310\n",
      "bucket :  (8, 11)\n",
      "bucket :  (11, 14)\n",
      "bucket :  (14, 17)\n",
      "bucket :  (17, 20)\n",
      "bucket :  (20, 23)\n",
      "bucket :  (23, 26)\n",
      "bucket :  (26, 29)\n",
      "bucket :  (29, 31)\n",
      "bucket :  (31, 33)\n",
      "bucket :  (33, 35)\n",
      "bucket :  (35, 37)\n",
      "bucket :  (37, 39)\n",
      "bucket :  (39, 41)\n"
     ]
    },
    {
     "name": "stderr",
     "output_type": "stream",
     "text": [
      " 80%|████████  | 16/20 [47:40<12:16, 184.23s/it]"
     ]
    },
    {
     "name": "stdout",
     "output_type": "stream",
     "text": [
      "{'bucketing': 15, 'encoding': 'index', 'drop_act': 6, 'Xgboost': {'max_depth': 14, 'n_estimators': 128, 'learning_rate': 0.05}}\n",
      "bucket :  (2, 5)\n",
      "After OverSampling, the shape of train_X: (46950, 14)\n",
      "After OverSampling, the shape of train_y: (46950,) \n",
      "\n",
      "After OverSampling, counts of label '1': 23475\n",
      "After OverSampling, counts of label '0': 23475\n",
      "bucket :  (5, 8)\n",
      "After OverSampling, the shape of train_X: (32620, 38)\n",
      "After OverSampling, the shape of train_y: (32620,) \n",
      "\n",
      "After OverSampling, counts of label '1': 16310\n",
      "After OverSampling, counts of label '0': 16310\n",
      "bucket :  (8, 11)\n",
      "bucket :  (11, 14)\n",
      "bucket :  (14, 17)\n",
      "bucket :  (17, 20)\n",
      "bucket :  (20, 23)\n",
      "bucket :  (23, 26)\n",
      "bucket :  (26, 29)\n",
      "bucket :  (29, 31)\n",
      "bucket :  (31, 33)\n",
      "bucket :  (33, 35)\n",
      "bucket :  (35, 37)\n",
      "bucket :  (37, 39)\n",
      "bucket :  (39, 41)\n"
     ]
    },
    {
     "name": "stderr",
     "output_type": "stream",
     "text": [
      " 85%|████████▌ | 17/20 [50:42<09:10, 183.57s/it]"
     ]
    },
    {
     "name": "stdout",
     "output_type": "stream",
     "text": [
      "{'bucketing': 15, 'encoding': 'aggregate', 'drop_act': 6, 'Xgboost': {'max_depth': 14, 'n_estimators': 128, 'learning_rate': 0.05}}\n",
      "bucket :  (2, 5)\n",
      "After OverSampling, the shape of train_X: (46950, 10)\n",
      "After OverSampling, the shape of train_y: (46950,) \n",
      "\n",
      "After OverSampling, counts of label '1': 23475\n",
      "After OverSampling, counts of label '0': 23475\n",
      "bucket :  (5, 8)\n",
      "After OverSampling, the shape of train_X: (32620, 17)\n",
      "After OverSampling, the shape of train_y: (32620,) \n",
      "\n",
      "After OverSampling, counts of label '1': 16310\n",
      "After OverSampling, counts of label '0': 16310\n",
      "bucket :  (8, 11)\n",
      "bucket :  (11, 14)\n",
      "bucket :  (14, 17)\n",
      "bucket :  (17, 20)\n",
      "bucket :  (20, 23)\n",
      "bucket :  (23, 26)\n",
      "bucket :  (26, 29)\n",
      "bucket :  (29, 31)\n",
      "bucket :  (31, 33)\n",
      "bucket :  (33, 35)\n",
      "bucket :  (35, 37)\n",
      "bucket :  (37, 39)\n",
      "bucket :  (39, 41)\n"
     ]
    },
    {
     "name": "stderr",
     "output_type": "stream",
     "text": [
      " 90%|█████████ | 18/20 [53:46<06:07, 183.70s/it]"
     ]
    },
    {
     "name": "stdout",
     "output_type": "stream",
     "text": [
      "{'bucketing': 15, 'encoding': 'index', 'drop_act': 6, 'Xgboost': {'max_depth': 14, 'n_estimators': 128, 'learning_rate': 0.05}}\n",
      "bucket :  (2, 5)\n",
      "After OverSampling, the shape of train_X: (46950, 14)\n",
      "After OverSampling, the shape of train_y: (46950,) \n",
      "\n",
      "After OverSampling, counts of label '1': 23475\n",
      "After OverSampling, counts of label '0': 23475\n",
      "bucket :  (5, 8)\n",
      "After OverSampling, the shape of train_X: (32620, 38)\n",
      "After OverSampling, the shape of train_y: (32620,) \n",
      "\n",
      "After OverSampling, counts of label '1': 16310\n",
      "After OverSampling, counts of label '0': 16310\n",
      "bucket :  (8, 11)\n",
      "bucket :  (11, 14)\n",
      "bucket :  (14, 17)\n",
      "bucket :  (17, 20)\n",
      "bucket :  (20, 23)\n",
      "bucket :  (23, 26)\n",
      "bucket :  (26, 29)\n",
      "bucket :  (29, 31)\n",
      "bucket :  (31, 33)\n",
      "bucket :  (33, 35)\n",
      "bucket :  (35, 37)\n",
      "bucket :  (37, 39)\n",
      "bucket :  (39, 41)\n"
     ]
    },
    {
     "name": "stderr",
     "output_type": "stream",
     "text": [
      " 95%|█████████▌| 19/20 [56:49<03:03, 183.47s/it]"
     ]
    },
    {
     "name": "stdout",
     "output_type": "stream",
     "text": [
      "{'bucketing': 15, 'encoding': 'index', 'drop_act': 6, 'Xgboost': {'max_depth': 14, 'n_estimators': 128, 'learning_rate': 0.05}}\n",
      "bucket :  (2, 5)\n",
      "After OverSampling, the shape of train_X: (46950, 14)\n",
      "After OverSampling, the shape of train_y: (46950,) \n",
      "\n",
      "After OverSampling, counts of label '1': 23475\n",
      "After OverSampling, counts of label '0': 23475\n",
      "bucket :  (5, 8)\n",
      "After OverSampling, the shape of train_X: (32620, 38)\n",
      "After OverSampling, the shape of train_y: (32620,) \n",
      "\n",
      "After OverSampling, counts of label '1': 16310\n",
      "After OverSampling, counts of label '0': 16310\n",
      "bucket :  (8, 11)\n",
      "bucket :  (11, 14)\n",
      "bucket :  (14, 17)\n",
      "bucket :  (17, 20)\n",
      "bucket :  (20, 23)\n",
      "bucket :  (23, 26)\n",
      "bucket :  (26, 29)\n",
      "bucket :  (29, 31)\n",
      "bucket :  (31, 33)\n",
      "bucket :  (33, 35)\n",
      "bucket :  (35, 37)\n",
      "bucket :  (37, 39)\n",
      "bucket :  (39, 41)\n"
     ]
    },
    {
     "name": "stderr",
     "output_type": "stream",
     "text": [
      "100%|██████████| 20/20 [59:51<00:00, 179.58s/it]\n"
     ]
    }
   ],
   "source": [
    "cnt = 0\n",
    "\n",
    "# #selection rate\n",
    "# sr_param = [0.1, 0.2, 0.3]\n",
    "# #crossover rate\n",
    "# cr_param = [0.9, 0.8, 0.7]\n",
    "# #mutation rate\n",
    "# mr_param = [0.1, 0.05, 0.01]\n",
    "\n",
    "best_pop = []\n",
    "# param_test = {'fitness':[], 'time':[], 'score':[], 'failure rate':[]}\n",
    "\n",
    "populations = GA.initial_populations(5)\n",
    "\n",
    "# for i in range(3):\n",
    "#     sr = sr_param[i]\n",
    "#     cr = cr_param[i]\n",
    "#     for j in range(3):\n",
    "#         print('trial =',i+j+1)\n",
    "#         mr = mr_param[j]\n",
    "generation_fitness = []\n",
    "generation_score = []\n",
    "generation_time = []\n",
    "generation_failure_rate = []\n",
    "for n_iter in range(max_iter):\n",
    "    new_population = []\n",
    "    tot_score = []\n",
    "    tot_time = []\n",
    "    failure_rate = []\n",
    "    for pop in tqdm(populations):\n",
    "        start_time = time.time()\n",
    "        new_population.append(pop)\n",
    "        print(pop)\n",
    "        if pop['drop_act'] == 2:\n",
    "            df_list = df_list1\n",
    "        elif pop['drop_act'] == 4:\n",
    "            df_list = df_list2\n",
    "        elif pop['drop_act'] == 6:\n",
    "            df_list = df_list3\n",
    "        else:\n",
    "            df_list = df_list4\n",
    "\n",
    "        if pop['encoding'] == 'last_state':\n",
    "            if pop['bucketing'] < 5:\n",
    "                pop['bucketing'] = 5\n",
    "            bound_list = prefix_bound(pop['bucketing'], drop_low=True)\n",
    "        else:\n",
    "            bound_list = prefix_bound(pop['bucketing'])\n",
    "\n",
    "        score = []\n",
    "        for bounds in bound_list:\n",
    "            lower, upper = bounds\n",
    "            merge_df = pd.DataFrame()\n",
    "            print('bucket : ',(lower, upper))\n",
    "            for idx in range(lower, upper):\n",
    "                prefix_df = df_list[idx-2]\n",
    "                prefix_df = GA.encoding(prefix_df, pop['encoding'], idx)\n",
    "                merge_df = pd.concat([merge_df, prefix_df], sort=False)\n",
    "\n",
    "            merge_df = merge_df.fillna(0)\n",
    "\n",
    "            X_train, y_train, X_test, y_test = GA.train_test_set_split(merge_df, pop['encoding'])    \n",
    "\n",
    "            #start = time.time()\n",
    "            if 'Decision Tree' in pop:\n",
    "                score.append(GA.decision_tree(pop['Decision Tree'], X_train, y_train, X_test, y_test))\n",
    "            elif 'Random Forest' in pop:\n",
    "                score.append(GA.random_forest(pop['Random Forest'], X_train, y_train, X_test, y_test))\n",
    "            elif 'LightGBM' in pop:\n",
    "                score.append(GA.light_gbm(pop['LightGBM'], X_train, y_train, X_test, y_test))\n",
    "            else: \n",
    "                score.append(GA.xgboost(pop['Xgboost'], X_train, y_train, X_test, y_test))                    \n",
    "\n",
    "        end_time = time.time()\n",
    "\n",
    "        elapsed_time = round(end_time-start_time,2)\n",
    "\n",
    "        tot_time.append(elapsed_time)\n",
    "        tot_score.append(round(sum(score)/len(score),2))\n",
    "\n",
    "        min_proba = 0.7\n",
    "        failure_rate.append(len([i for i in score if i < min_proba])/len(score))\n",
    "\n",
    "    fitness = GA.fitness(tot_score, failure_rate, tot_time)\n",
    "    best_pop.append(populations[np.argmax(fitness)])\n",
    "\n",
    "    N = len(new_population)\n",
    "    pop1 = GA.select_population(new_population, fitness, N*sr)\n",
    "    pop2 = GA.crossover(new_population, fitness, N, cr)\n",
    "    pop3 = GA.mutation(new_population, N, mr)\n",
    "\n",
    "    populations = pop1 + pop2 + pop3\n",
    "\n",
    "    generation_fitness.append(round(sum(fitness)/len(fitness),4))\n",
    "    generation_time.append(sum(tot_time))\n",
    "    generation_score.append(round(sum(tot_score)/len(tot_score),4))\n",
    "    generation_failure_rate.append(round(sum(failure_rate)/len(failure_rate),4))\n",
    "    \n",
    "    if cnt > 5:\n",
    "        break\n",
    "    \n",
    "    elif len(generation_fitness) > 1:\n",
    "        if abs(generation_fitness[-1]-generation_fitness[-2]) < 0.001:\n",
    "            break \n",
    "        elif (generation_fitness[-1]-generation_fitness[-2]) < 0:\n",
    "            cnt += 1\n"
   ]
  },
  {
   "cell_type": "code",
   "execution_count": 13,
   "id": "53d43944",
   "metadata": {},
   "outputs": [
    {
     "name": "stdout",
     "output_type": "stream",
     "text": [
      "[0.7255, 0.6965, 0.7175, 0.6805, 0.694, 0.7165, 0.7725, 0.7305, 0.721, 0.728, 0.684, 0.765, 0.733, 0.8055]\n",
      "50979.18000000001\n",
      "[0.8175, 0.804, 0.8015, 0.8035, 0.8205, 0.849, 0.895, 0.888, 0.8775, 0.8715, 0.838, 0.903, 0.929, 0.9585]\n",
      "[0.0181, 0.0265, 0.0724, 0.0224, 0.0307, 0.0384, 0.0259, 0.0058, 0.0071, 0.0038, 0.0086, 0.0086, 0.0, 0.0]\n",
      "{'bucketing': 15, 'encoding': 'index', 'drop_act': 8, 'LightGBM': {'max_depth': 10, 'num_leaves': 325, 'min_child_samples': 5}}\n",
      "0.98\n"
     ]
    }
   ],
   "source": [
    "# 849분 (14시간)\n",
    "\n",
    "print(generation_fitness)\n",
    "print(sum(generation_time))\n",
    "print(generation_score)\n",
    "print(generation_failure_rate)\n",
    "print(best_pop[-1])\n",
    "print(tot_score[np.argmax(fitness)])"
   ]
  },
  {
   "cell_type": "markdown",
   "id": "fe764784",
   "metadata": {},
   "source": [
    "# Experiment 2"
   ]
  },
  {
   "cell_type": "markdown",
   "id": "6dc14e20",
   "metadata": {},
   "source": [
    "### - Genetic Algorithm"
   ]
  },
  {
   "cell_type": "code",
   "execution_count": 35,
   "id": "5f6a3ad7",
   "metadata": {},
   "outputs": [],
   "source": [
    "\"\"\"\n",
    "GA : Genetic Algorithm\n",
    "RS : Random Search\n",
    "\"\"\"\n",
    "# phase = 1 # drop_activity(GA) + encoding(GA) + bucketing(GA) + ML params(GA) + hyperparameter opt(GA)\n",
    "phase = 2 # drop_activity(GA) + encoding(GA) + bucketing(GA) + ML params(GA) + hyperparameter opt(RS)\n",
    "# phase = 3 # drop_activity(GA) + encoding(GA) + bucketing(GA) + ML params(RS) + hyperparameter opt(RS)\n",
    "# phase = 4 # drop_activity(RS) + encoding(RS) + bucketing(RS) + ML params(RS) + hyperparameter opt(RS)\n",
    "\n",
    "GA = Genetic_Algorithm(df, options, combi, caseid, activity, ts, label, other_features, phase)\n",
    "GA.feature_type()\n"
   ]
  },
  {
   "cell_type": "code",
   "execution_count": 36,
   "id": "78fecd5a",
   "metadata": {},
   "outputs": [
    {
     "name": "stderr",
     "output_type": "stream",
     "text": [
      "  0%|          | 0/20 [00:00<?, ?it/s]"
     ]
    },
    {
     "name": "stdout",
     "output_type": "stream",
     "text": [
      "{'bucketing': 1, 'encoding': 'index', 'drop_act': 6, 'models': 'Decision Tree', 'Decision Tree': {'max_depth': 9, 'min_samples_leaf': 42, 'criterion': 'gini'}}\n",
      "bucket :  (2, 40)\n"
     ]
    },
    {
     "name": "stderr",
     "output_type": "stream",
     "text": [
      "  5%|▌         | 1/20 [02:24<45:45, 144.47s/it]"
     ]
    },
    {
     "name": "stdout",
     "output_type": "stream",
     "text": [
      "{'bucketing': 13, 'encoding': 'aggregate', 'drop_act': 6, 'models': 'Decision Tree', 'Decision Tree': {'max_depth': 15, 'min_samples_leaf': 29, 'criterion': 'entropy'}}\n",
      "bucket :  (2, 5)\n",
      "After OverSampling, the shape of train_X: (46950, 10)\n",
      "After OverSampling, the shape of train_y: (46950,) \n",
      "\n",
      "After OverSampling, counts of label '1': 23475\n",
      "After OverSampling, counts of label '0': 23475\n",
      "bucket :  (5, 8)\n",
      "After OverSampling, the shape of train_X: (32620, 17)\n",
      "After OverSampling, the shape of train_y: (32620,) \n",
      "\n",
      "After OverSampling, counts of label '1': 16310\n",
      "After OverSampling, counts of label '0': 16310\n",
      "bucket :  (8, 11)\n",
      "bucket :  (11, 14)\n",
      "bucket :  (14, 17)\n",
      "bucket :  (17, 20)\n",
      "bucket :  (20, 23)\n",
      "bucket :  (23, 26)\n",
      "bucket :  (26, 29)\n",
      "bucket :  (29, 32)\n",
      "bucket :  (32, 35)\n",
      "bucket :  (35, 38)\n",
      "bucket :  (38, 41)\n"
     ]
    },
    {
     "name": "stderr",
     "output_type": "stream",
     "text": [
      " 10%|█         | 2/20 [05:15<47:59, 159.95s/it]"
     ]
    },
    {
     "name": "stdout",
     "output_type": "stream",
     "text": [
      "{'bucketing': 4, 'encoding': 'aggregate', 'drop_act': 4, 'models': 'Decision Tree', 'Decision Tree': {'max_depth': 4, 'min_samples_leaf': 87, 'criterion': 'entropy'}}\n",
      "bucket :  (2, 12)\n",
      "After OverSampling, the shape of train_X: (112244, 20)\n",
      "After OverSampling, the shape of train_y: (112244,) \n",
      "\n",
      "After OverSampling, counts of label '1': 56122\n",
      "After OverSampling, counts of label '0': 56122\n",
      "bucket :  (12, 22)\n",
      "bucket :  (22, 32)\n",
      "bucket :  (32, 41)\n"
     ]
    },
    {
     "name": "stderr",
     "output_type": "stream",
     "text": [
      " 15%|█▌        | 3/20 [08:06<46:48, 165.19s/it]"
     ]
    },
    {
     "name": "stdout",
     "output_type": "stream",
     "text": [
      "{'bucketing': 31, 'encoding': 'aggregate', 'drop_act': 4, 'models': 'Decision Tree', 'Decision Tree': {'max_depth': 14, 'min_samples_leaf': 82, 'criterion': 'entropy'}}\n",
      "bucket :  (2, 4)\n",
      "After OverSampling, the shape of train_X: (34594, 8)\n",
      "After OverSampling, the shape of train_y: (34594,) \n",
      "\n",
      "After OverSampling, counts of label '1': 17297\n",
      "After OverSampling, counts of label '0': 17297\n",
      "bucket :  (4, 6)\n",
      "After OverSampling, the shape of train_X: (23472, 13)\n",
      "After OverSampling, the shape of train_y: (23472,) \n",
      "\n",
      "After OverSampling, counts of label '1': 11736\n",
      "After OverSampling, counts of label '0': 11736\n",
      "bucket :  (6, 8)\n",
      "bucket :  (8, 10)\n",
      "bucket :  (10, 12)\n",
      "bucket :  (12, 14)\n",
      "bucket :  (14, 16)\n",
      "bucket :  (16, 18)\n",
      "bucket :  (18, 19)\n",
      "bucket :  (19, 20)\n",
      "bucket :  (20, 21)\n",
      "bucket :  (21, 22)\n",
      "bucket :  (22, 23)\n",
      "bucket :  (23, 24)\n",
      "bucket :  (24, 25)\n",
      "bucket :  (25, 26)\n",
      "bucket :  (26, 27)\n",
      "bucket :  (27, 28)\n",
      "bucket :  (28, 29)\n",
      "bucket :  (29, 30)\n",
      "bucket :  (30, 31)\n",
      "bucket :  (31, 32)\n",
      "bucket :  (32, 33)\n",
      "bucket :  (33, 34)\n",
      "bucket :  (34, 35)\n",
      "bucket :  (35, 36)\n",
      "bucket :  (36, 37)\n",
      "bucket :  (37, 38)\n",
      "bucket :  (38, 39)\n",
      "bucket :  (39, 40)\n",
      "bucket :  (40, 41)\n"
     ]
    },
    {
     "name": "stderr",
     "output_type": "stream",
     "text": [
      " 20%|██        | 4/20 [10:58<44:44, 167.79s/it]"
     ]
    },
    {
     "name": "stdout",
     "output_type": "stream",
     "text": [
      "{'bucketing': 12, 'encoding': 'index', 'drop_act': 2, 'models': 'Decision Tree', 'Decision Tree': {'max_depth': 11, 'min_samples_leaf': 77, 'criterion': 'gini'}}\n",
      "bucket :  (2, 6)\n",
      "After OverSampling, the shape of train_X: (59022, 25)\n",
      "After OverSampling, the shape of train_y: (59022,) \n",
      "\n",
      "After OverSampling, counts of label '1': 29511\n",
      "After OverSampling, counts of label '0': 29511\n",
      "bucket :  (6, 10)\n",
      "bucket :  (10, 14)\n",
      "bucket :  (14, 17)\n",
      "bucket :  (17, 20)\n",
      "bucket :  (20, 23)\n",
      "bucket :  (23, 26)\n",
      "bucket :  (26, 29)\n",
      "bucket :  (29, 32)\n",
      "bucket :  (32, 35)\n",
      "bucket :  (35, 38)\n",
      "bucket :  (38, 41)\n"
     ]
    },
    {
     "name": "stderr",
     "output_type": "stream",
     "text": [
      " 25%|██▌       | 5/20 [13:13<38:58, 155.91s/it]"
     ]
    },
    {
     "name": "stdout",
     "output_type": "stream",
     "text": [
      "{'bucketing': 2, 'encoding': 'index', 'drop_act': 8, 'models': 'Random Forest', 'Random Forest': {'n_estimators': 154, 'max_depth': 3, 'max_features': 'auto', 'bootstrap': True, 'criterion': 'entropy'}}\n",
      "bucket :  (2, 22)\n",
      "bucket :  (22, 41)\n"
     ]
    },
    {
     "name": "stderr",
     "output_type": "stream",
     "text": [
      " 30%|███       | 6/20 [16:01<37:21, 160.08s/it]"
     ]
    },
    {
     "name": "stdout",
     "output_type": "stream",
     "text": [
      "{'bucketing': 25, 'encoding': 'aggregate', 'drop_act': 2, 'models': 'Random Forest', 'Random Forest': {'n_estimators': 550, 'max_depth': 16, 'max_features': 'log2', 'bootstrap': False, 'criterion': 'gini'}}\n",
      "bucket :  (2, 4)\n",
      "After OverSampling, the shape of train_X: (34594, 9)\n",
      "After OverSampling, the shape of train_y: (34594,) \n",
      "\n",
      "After OverSampling, counts of label '1': 17297\n",
      "After OverSampling, counts of label '0': 17297\n",
      "bucket :  (4, 6)\n",
      "After OverSampling, the shape of train_X: (23634, 15)\n",
      "After OverSampling, the shape of train_y: (23634,) \n",
      "\n",
      "After OverSampling, counts of label '1': 11817\n",
      "After OverSampling, counts of label '0': 11817\n",
      "bucket :  (6, 8)\n",
      "bucket :  (8, 10)\n",
      "bucket :  (10, 12)\n",
      "bucket :  (12, 14)\n",
      "bucket :  (14, 16)\n",
      "bucket :  (16, 18)\n",
      "bucket :  (18, 20)\n",
      "bucket :  (20, 22)\n",
      "bucket :  (22, 24)\n",
      "bucket :  (24, 26)\n",
      "bucket :  (26, 28)\n",
      "bucket :  (28, 30)\n",
      "bucket :  (30, 31)\n",
      "bucket :  (31, 32)\n",
      "bucket :  (32, 33)\n",
      "bucket :  (33, 34)\n",
      "bucket :  (34, 35)\n",
      "bucket :  (35, 36)\n",
      "bucket :  (36, 37)\n",
      "bucket :  (37, 38)\n",
      "bucket :  (38, 39)\n",
      "bucket :  (39, 40)\n",
      "bucket :  (40, 41)\n"
     ]
    },
    {
     "name": "stderr",
     "output_type": "stream",
     "text": [
      " 35%|███▌      | 7/20 [19:11<36:49, 169.96s/it]"
     ]
    },
    {
     "name": "stdout",
     "output_type": "stream",
     "text": [
      "{'bucketing': 33, 'encoding': 'index', 'drop_act': 8, 'models': 'Random Forest', 'Random Forest': {'n_estimators': 313, 'max_depth': 6, 'max_features': 'log2', 'bootstrap': True, 'criterion': 'gini'}}\n",
      "bucket :  (2, 4)\n",
      "After OverSampling, the shape of train_X: (34594, 11)\n",
      "After OverSampling, the shape of train_y: (34594,) \n",
      "\n",
      "After OverSampling, counts of label '1': 17297\n",
      "After OverSampling, counts of label '0': 17297\n",
      "bucket :  (4, 6)\n",
      "After OverSampling, the shape of train_X: (23472, 19)\n",
      "After OverSampling, the shape of train_y: (23472,) \n",
      "\n",
      "After OverSampling, counts of label '1': 11736\n",
      "After OverSampling, counts of label '0': 11736\n",
      "bucket :  (6, 8)\n",
      "bucket :  (8, 10)\n",
      "bucket :  (10, 12)\n",
      "bucket :  (12, 14)\n",
      "bucket :  (14, 15)\n",
      "bucket :  (15, 16)\n",
      "bucket :  (16, 17)\n",
      "bucket :  (17, 18)\n",
      "bucket :  (18, 19)\n",
      "bucket :  (19, 20)\n",
      "bucket :  (20, 21)\n",
      "bucket :  (21, 22)\n",
      "bucket :  (22, 23)\n",
      "bucket :  (23, 24)\n",
      "bucket :  (24, 25)\n",
      "bucket :  (25, 26)\n",
      "bucket :  (26, 27)\n",
      "bucket :  (27, 28)\n",
      "bucket :  (28, 29)\n",
      "bucket :  (29, 30)\n",
      "bucket :  (30, 31)\n",
      "bucket :  (31, 32)\n",
      "bucket :  (32, 33)\n",
      "bucket :  (33, 34)\n",
      "bucket :  (34, 35)\n",
      "bucket :  (35, 36)\n",
      "bucket :  (36, 37)\n",
      "bucket :  (37, 38)\n",
      "bucket :  (38, 39)\n",
      "bucket :  (39, 40)\n",
      "bucket :  (40, 41)\n"
     ]
    },
    {
     "name": "stderr",
     "output_type": "stream",
     "text": [
      " 40%|████      | 8/20 [21:46<33:01, 165.16s/it]"
     ]
    },
    {
     "name": "stdout",
     "output_type": "stream",
     "text": [
      "{'bucketing': 30, 'encoding': 'aggregate', 'drop_act': 8, 'models': 'Random Forest', 'Random Forest': {'n_estimators': 148, 'max_depth': 18, 'max_features': 'log2', 'bootstrap': True, 'criterion': 'gini'}}\n",
      "bucket :  (2, 4)\n",
      "After OverSampling, the shape of train_X: (34594, 8)\n",
      "After OverSampling, the shape of train_y: (34594,) \n",
      "\n",
      "After OverSampling, counts of label '1': 17297\n",
      "After OverSampling, counts of label '0': 17297\n",
      "bucket :  (4, 6)\n",
      "After OverSampling, the shape of train_X: (23472, 13)\n",
      "After OverSampling, the shape of train_y: (23472,) \n",
      "\n",
      "After OverSampling, counts of label '1': 11736\n",
      "After OverSampling, counts of label '0': 11736\n",
      "bucket :  (6, 8)\n",
      "bucket :  (8, 10)\n",
      "bucket :  (10, 12)\n",
      "bucket :  (12, 14)\n",
      "bucket :  (14, 16)\n",
      "bucket :  (16, 18)\n",
      "bucket :  (18, 20)\n",
      "bucket :  (20, 21)\n",
      "bucket :  (21, 22)\n",
      "bucket :  (22, 23)\n",
      "bucket :  (23, 24)\n",
      "bucket :  (24, 25)\n",
      "bucket :  (25, 26)\n",
      "bucket :  (26, 27)\n",
      "bucket :  (27, 28)\n",
      "bucket :  (28, 29)\n",
      "bucket :  (29, 30)\n",
      "bucket :  (30, 31)\n",
      "bucket :  (31, 32)\n",
      "bucket :  (32, 33)\n",
      "bucket :  (33, 34)\n",
      "bucket :  (34, 35)\n",
      "bucket :  (35, 36)\n",
      "bucket :  (36, 37)\n",
      "bucket :  (37, 38)\n",
      "bucket :  (38, 39)\n",
      "bucket :  (39, 40)\n",
      "bucket :  (40, 41)\n"
     ]
    },
    {
     "name": "stderr",
     "output_type": "stream",
     "text": [
      " 45%|████▌     | 9/20 [24:53<31:30, 171.91s/it]"
     ]
    },
    {
     "name": "stdout",
     "output_type": "stream",
     "text": [
      "{'bucketing': 29, 'encoding': 'index', 'drop_act': 4, 'models': 'Random Forest', 'Random Forest': {'n_estimators': 999, 'max_depth': 18, 'max_features': 'auto', 'bootstrap': True, 'criterion': 'gini'}}\n",
      "bucket :  (2, 4)\n",
      "After OverSampling, the shape of train_X: (34594, 11)\n",
      "After OverSampling, the shape of train_y: (34594,) \n",
      "\n",
      "After OverSampling, counts of label '1': 17297\n",
      "After OverSampling, counts of label '0': 17297\n",
      "bucket :  (4, 6)\n",
      "After OverSampling, the shape of train_X: (23472, 19)\n",
      "After OverSampling, the shape of train_y: (23472,) \n",
      "\n",
      "After OverSampling, counts of label '1': 11736\n",
      "After OverSampling, counts of label '0': 11736\n",
      "bucket :  (6, 8)\n",
      "bucket :  (8, 10)\n",
      "bucket :  (10, 12)\n",
      "bucket :  (12, 14)\n",
      "bucket :  (14, 16)\n",
      "bucket :  (16, 18)\n",
      "bucket :  (18, 20)\n",
      "bucket :  (20, 22)\n",
      "bucket :  (22, 23)\n",
      "bucket :  (23, 24)\n",
      "bucket :  (24, 25)\n",
      "bucket :  (25, 26)\n",
      "bucket :  (26, 27)\n",
      "bucket :  (27, 28)\n",
      "bucket :  (28, 29)\n",
      "bucket :  (29, 30)\n",
      "bucket :  (30, 31)\n",
      "bucket :  (31, 32)\n",
      "bucket :  (32, 33)\n",
      "bucket :  (33, 34)\n",
      "bucket :  (34, 35)\n",
      "bucket :  (35, 36)\n",
      "bucket :  (36, 37)\n",
      "bucket :  (37, 38)\n",
      "bucket :  (38, 39)\n",
      "bucket :  (39, 40)\n",
      "bucket :  (40, 41)\n"
     ]
    },
    {
     "name": "stderr",
     "output_type": "stream",
     "text": [
      " 50%|█████     | 10/20 [27:31<27:56, 167.66s/it]"
     ]
    },
    {
     "name": "stdout",
     "output_type": "stream",
     "text": [
      "{'bucketing': 24, 'encoding': 'index', 'drop_act': 2, 'models': 'LightGBM', 'LightGBM': {'max_depth': 9, 'num_leaves': 326, 'min_child_samples': 3}}\n",
      "bucket :  (2, 4)\n",
      "After OverSampling, the shape of train_X: (34594, 12)\n",
      "After OverSampling, the shape of train_y: (34594,) \n",
      "\n",
      "After OverSampling, counts of label '1': 17297\n",
      "After OverSampling, counts of label '0': 17297\n",
      "bucket :  (4, 6)\n",
      "After OverSampling, the shape of train_X: (23634, 24)\n",
      "After OverSampling, the shape of train_y: (23634,) \n",
      "\n",
      "After OverSampling, counts of label '1': 11817\n",
      "After OverSampling, counts of label '0': 11817\n",
      "bucket :  (6, 8)\n",
      "bucket :  (8, 10)\n",
      "bucket :  (10, 12)\n",
      "bucket :  (12, 14)\n",
      "bucket :  (14, 16)\n",
      "bucket :  (16, 18)\n",
      "bucket :  (18, 20)\n",
      "bucket :  (20, 22)\n",
      "bucket :  (22, 24)\n",
      "bucket :  (24, 26)\n",
      "bucket :  (26, 28)\n",
      "bucket :  (28, 30)\n",
      "bucket :  (30, 32)\n",
      "bucket :  (32, 33)\n",
      "bucket :  (33, 34)\n",
      "bucket :  (34, 35)\n",
      "bucket :  (35, 36)\n",
      "bucket :  (36, 37)\n",
      "bucket :  (37, 38)\n",
      "bucket :  (38, 39)\n",
      "bucket :  (39, 40)\n",
      "bucket :  (40, 41)\n"
     ]
    },
    {
     "name": "stderr",
     "output_type": "stream",
     "text": [
      " 55%|█████▌    | 11/20 [29:47<23:40, 157.85s/it]"
     ]
    },
    {
     "name": "stdout",
     "output_type": "stream",
     "text": [
      "{'bucketing': 10, 'encoding': 'index', 'drop_act': 8, 'models': 'LightGBM', 'LightGBM': {'max_depth': 18, 'num_leaves': 10, 'min_child_samples': 7}}\n",
      "bucket :  (2, 6)\n",
      "After OverSampling, the shape of train_X: (58864, 20)\n",
      "After OverSampling, the shape of train_y: (58864,) \n",
      "\n",
      "After OverSampling, counts of label '1': 29432\n",
      "After OverSampling, counts of label '0': 29432\n",
      "bucket :  (6, 10)\n",
      "bucket :  (10, 14)\n",
      "bucket :  (14, 18)\n",
      "bucket :  (18, 22)\n",
      "bucket :  (22, 26)\n",
      "bucket :  (26, 30)\n",
      "bucket :  (30, 34)\n",
      "bucket :  (34, 38)\n",
      "bucket :  (38, 41)\n"
     ]
    },
    {
     "name": "stderr",
     "output_type": "stream",
     "text": [
      " 60%|██████    | 12/20 [31:58<19:58, 149.80s/it]"
     ]
    },
    {
     "name": "stdout",
     "output_type": "stream",
     "text": [
      "{'bucketing': 39, 'encoding': 'aggregate', 'drop_act': 8, 'models': 'LightGBM', 'LightGBM': {'max_depth': 17, 'num_leaves': 54, 'min_child_samples': 8}}\n",
      "bucket :  (2, 3)\n",
      "After OverSampling, the shape of train_X: (17202, 5)\n",
      "After OverSampling, the shape of train_y: (17202,) \n",
      "\n",
      "After OverSampling, counts of label '1': 8601\n",
      "After OverSampling, counts of label '0': 8601\n",
      "bucket :  (3, 4)\n",
      "After OverSampling, the shape of train_X: (17202, 8)\n",
      "After OverSampling, the shape of train_y: (17202,) \n",
      "\n",
      "After OverSampling, counts of label '1': 8601\n",
      "After OverSampling, counts of label '0': 8601\n",
      "bucket :  (4, 5)\n",
      "After OverSampling, the shape of train_X: (11660, 9)\n",
      "After OverSampling, the shape of train_y: (11660,) \n",
      "\n",
      "After OverSampling, counts of label '1': 5830\n",
      "After OverSampling, counts of label '0': 5830\n",
      "bucket :  (5, 6)\n",
      "After OverSampling, the shape of train_X: (11660, 13)\n",
      "After OverSampling, the shape of train_y: (11660,) \n",
      "\n",
      "After OverSampling, counts of label '1': 5830\n",
      "After OverSampling, counts of label '0': 5830\n",
      "bucket :  (6, 7)\n",
      "After OverSampling, the shape of train_X: (11660, 15)\n",
      "After OverSampling, the shape of train_y: (11660,) \n",
      "\n",
      "After OverSampling, counts of label '1': 5830\n",
      "After OverSampling, counts of label '0': 5830\n",
      "bucket :  (7, 8)\n",
      "bucket :  (8, 9)\n",
      "bucket :  (9, 10)\n",
      "bucket :  (10, 11)\n",
      "bucket :  (11, 12)\n",
      "bucket :  (12, 13)\n",
      "bucket :  (13, 14)\n",
      "bucket :  (14, 15)\n",
      "bucket :  (15, 16)\n",
      "bucket :  (16, 17)\n",
      "bucket :  (17, 18)\n",
      "bucket :  (18, 19)\n",
      "bucket :  (19, 20)\n",
      "bucket :  (20, 21)\n",
      "bucket :  (21, 22)\n",
      "bucket :  (22, 23)\n",
      "bucket :  (23, 24)\n",
      "bucket :  (24, 25)\n",
      "bucket :  (25, 26)\n",
      "bucket :  (26, 27)\n",
      "bucket :  (27, 28)\n",
      "bucket :  (28, 29)\n",
      "bucket :  (29, 30)\n",
      "bucket :  (30, 31)\n",
      "bucket :  (31, 32)\n",
      "bucket :  (32, 33)\n",
      "bucket :  (33, 34)\n",
      "bucket :  (34, 35)\n",
      "bucket :  (35, 36)\n",
      "bucket :  (36, 37)\n",
      "bucket :  (37, 38)\n",
      "bucket :  (38, 39)\n",
      "bucket :  (39, 40)\n",
      "bucket :  (40, 41)\n"
     ]
    },
    {
     "name": "stderr",
     "output_type": "stream",
     "text": [
      " 65%|██████▌   | 13/20 [34:49<18:13, 156.21s/it]"
     ]
    },
    {
     "name": "stdout",
     "output_type": "stream",
     "text": [
      "{'bucketing': 33, 'encoding': 'index', 'drop_act': 2, 'models': 'LightGBM', 'LightGBM': {'max_depth': 18, 'num_leaves': 377, 'min_child_samples': 6}}\n",
      "bucket :  (2, 4)\n",
      "After OverSampling, the shape of train_X: (34594, 12)\n",
      "After OverSampling, the shape of train_y: (34594,) \n",
      "\n",
      "After OverSampling, counts of label '1': 17297\n",
      "After OverSampling, counts of label '0': 17297\n",
      "bucket :  (4, 6)\n",
      "After OverSampling, the shape of train_X: (23634, 24)\n",
      "After OverSampling, the shape of train_y: (23634,) \n",
      "\n",
      "After OverSampling, counts of label '1': 11817\n",
      "After OverSampling, counts of label '0': 11817\n",
      "bucket :  (6, 8)\n",
      "bucket :  (8, 10)\n",
      "bucket :  (10, 12)\n",
      "bucket :  (12, 14)\n",
      "bucket :  (14, 15)\n",
      "bucket :  (15, 16)\n",
      "bucket :  (16, 17)\n",
      "bucket :  (17, 18)\n",
      "bucket :  (18, 19)\n",
      "bucket :  (19, 20)\n",
      "bucket :  (20, 21)\n",
      "bucket :  (21, 22)\n",
      "bucket :  (22, 23)\n",
      "bucket :  (23, 24)\n",
      "bucket :  (24, 25)\n",
      "bucket :  (25, 26)\n",
      "bucket :  (26, 27)\n",
      "bucket :  (27, 28)\n",
      "bucket :  (28, 29)\n",
      "bucket :  (29, 30)\n",
      "bucket :  (30, 31)\n",
      "bucket :  (31, 32)\n",
      "bucket :  (32, 33)\n",
      "bucket :  (33, 34)\n",
      "bucket :  (34, 35)\n",
      "bucket :  (35, 36)\n",
      "bucket :  (36, 37)\n",
      "bucket :  (37, 38)\n",
      "bucket :  (38, 39)\n",
      "bucket :  (39, 40)\n",
      "bucket :  (40, 41)\n"
     ]
    },
    {
     "name": "stderr",
     "output_type": "stream",
     "text": [
      " 70%|███████   | 14/20 [37:05<15:01, 150.25s/it]"
     ]
    },
    {
     "name": "stdout",
     "output_type": "stream",
     "text": [
      "{'bucketing': 5, 'encoding': 'aggregate', 'drop_act': 6, 'models': 'LightGBM', 'LightGBM': {'max_depth': 2, 'num_leaves': 416, 'min_child_samples': 6}}\n",
      "bucket :  (2, 10)\n",
      "After OverSampling, the shape of train_X: (97160, 18)\n",
      "After OverSampling, the shape of train_y: (97160,) \n",
      "\n",
      "After OverSampling, counts of label '1': 48580\n",
      "After OverSampling, counts of label '0': 48580\n",
      "bucket :  (10, 18)\n",
      "bucket :  (18, 26)\n",
      "bucket :  (26, 34)\n",
      "bucket :  (34, 41)\n"
     ]
    },
    {
     "name": "stderr",
     "output_type": "stream",
     "text": [
      " 75%|███████▌  | 15/20 [39:55<13:00, 156.19s/it]"
     ]
    },
    {
     "name": "stdout",
     "output_type": "stream",
     "text": [
      "{'bucketing': 21, 'encoding': 'aggregate', 'drop_act': 2, 'models': 'Xgboost', 'Xgboost': {'max_depth': 10, 'n_estimators': 204, 'learning_rate': 0.01}}\n",
      "bucket :  (2, 4)\n",
      "After OverSampling, the shape of train_X: (34594, 9)\n",
      "After OverSampling, the shape of train_y: (34594,) \n",
      "\n",
      "After OverSampling, counts of label '1': 17297\n",
      "After OverSampling, counts of label '0': 17297\n",
      "bucket :  (4, 6)\n",
      "After OverSampling, the shape of train_X: (23634, 15)\n",
      "After OverSampling, the shape of train_y: (23634,) \n",
      "\n",
      "After OverSampling, counts of label '1': 11817\n",
      "After OverSampling, counts of label '0': 11817\n",
      "bucket :  (6, 8)\n",
      "bucket :  (8, 10)\n",
      "bucket :  (10, 12)\n",
      "bucket :  (12, 14)\n",
      "bucket :  (14, 16)\n",
      "bucket :  (16, 18)\n",
      "bucket :  (18, 20)\n",
      "bucket :  (20, 22)\n",
      "bucket :  (22, 24)\n",
      "bucket :  (24, 26)\n",
      "bucket :  (26, 28)\n",
      "bucket :  (28, 30)\n",
      "bucket :  (30, 32)\n",
      "bucket :  (32, 34)\n",
      "bucket :  (34, 36)\n",
      "bucket :  (36, 38)\n",
      "bucket :  (38, 39)\n",
      "bucket :  (39, 40)\n",
      "bucket :  (40, 41)\n"
     ]
    },
    {
     "name": "stderr",
     "output_type": "stream",
     "text": [
      " 80%|████████  | 16/20 [42:54<10:52, 163.02s/it]"
     ]
    },
    {
     "name": "stdout",
     "output_type": "stream",
     "text": [
      "{'bucketing': 39, 'encoding': 'index', 'drop_act': 4, 'models': 'Xgboost', 'Xgboost': {'max_depth': 6, 'n_estimators': 407, 'learning_rate': 0.05}}\n",
      "bucket :  (2, 3)\n",
      "After OverSampling, the shape of train_X: (17202, 7)\n",
      "After OverSampling, the shape of train_y: (17202,) \n",
      "\n",
      "After OverSampling, counts of label '1': 8601\n",
      "After OverSampling, counts of label '0': 8601\n",
      "bucket :  (3, 4)\n",
      "After OverSampling, the shape of train_X: (17202, 11)\n",
      "After OverSampling, the shape of train_y: (17202,) \n",
      "\n",
      "After OverSampling, counts of label '1': 8601\n",
      "After OverSampling, counts of label '0': 8601\n",
      "bucket :  (4, 5)\n",
      "After OverSampling, the shape of train_X: (11660, 13)\n",
      "After OverSampling, the shape of train_y: (11660,) \n",
      "\n",
      "After OverSampling, counts of label '1': 5830\n",
      "After OverSampling, counts of label '0': 5830\n",
      "bucket :  (5, 6)\n",
      "After OverSampling, the shape of train_X: (11660, 19)\n",
      "After OverSampling, the shape of train_y: (11660,) \n",
      "\n",
      "After OverSampling, counts of label '1': 5830\n",
      "After OverSampling, counts of label '0': 5830\n",
      "bucket :  (6, 7)\n",
      "After OverSampling, the shape of train_X: (11660, 28)\n",
      "After OverSampling, the shape of train_y: (11660,) \n",
      "\n",
      "After OverSampling, counts of label '1': 5830\n",
      "After OverSampling, counts of label '0': 5830\n",
      "bucket :  (7, 8)\n",
      "bucket :  (8, 9)\n",
      "bucket :  (9, 10)\n",
      "bucket :  (10, 11)\n",
      "bucket :  (11, 12)\n",
      "bucket :  (12, 13)\n",
      "bucket :  (13, 14)\n",
      "bucket :  (14, 15)\n",
      "bucket :  (15, 16)\n",
      "bucket :  (16, 17)\n",
      "bucket :  (17, 18)\n",
      "bucket :  (18, 19)\n",
      "bucket :  (19, 20)\n",
      "bucket :  (20, 21)\n",
      "bucket :  (21, 22)\n",
      "bucket :  (22, 23)\n",
      "bucket :  (23, 24)\n",
      "bucket :  (24, 25)\n",
      "bucket :  (25, 26)\n",
      "bucket :  (26, 27)\n",
      "bucket :  (27, 28)\n",
      "bucket :  (28, 29)\n",
      "bucket :  (29, 30)\n",
      "bucket :  (30, 31)\n",
      "bucket :  (31, 32)\n",
      "bucket :  (32, 33)\n",
      "bucket :  (33, 34)\n",
      "bucket :  (34, 35)\n",
      "bucket :  (35, 36)\n",
      "bucket :  (36, 37)\n",
      "bucket :  (37, 38)\n",
      "bucket :  (38, 39)\n",
      "bucket :  (39, 40)\n",
      "bucket :  (40, 41)\n"
     ]
    },
    {
     "name": "stderr",
     "output_type": "stream",
     "text": [
      " 85%|████████▌ | 17/20 [45:29<08:01, 160.66s/it]"
     ]
    },
    {
     "name": "stdout",
     "output_type": "stream",
     "text": [
      "{'bucketing': 36, 'encoding': 'aggregate', 'drop_act': 4, 'models': 'Xgboost', 'Xgboost': {'max_depth': 7, 'n_estimators': 257, 'learning_rate': 0.05}}\n",
      "bucket :  (2, 4)\n",
      "After OverSampling, the shape of train_X: (34594, 8)\n",
      "After OverSampling, the shape of train_y: (34594,) \n",
      "\n",
      "After OverSampling, counts of label '1': 17297\n",
      "After OverSampling, counts of label '0': 17297\n",
      "bucket :  (4, 6)\n",
      "After OverSampling, the shape of train_X: (23472, 13)\n",
      "After OverSampling, the shape of train_y: (23472,) \n",
      "\n",
      "After OverSampling, counts of label '1': 11736\n",
      "After OverSampling, counts of label '0': 11736\n",
      "bucket :  (6, 8)\n",
      "bucket :  (8, 9)\n",
      "bucket :  (9, 10)\n",
      "bucket :  (10, 11)\n",
      "bucket :  (11, 12)\n",
      "bucket :  (12, 13)\n",
      "bucket :  (13, 14)\n",
      "bucket :  (14, 15)\n",
      "bucket :  (15, 16)\n",
      "bucket :  (16, 17)\n",
      "bucket :  (17, 18)\n",
      "bucket :  (18, 19)\n",
      "bucket :  (19, 20)\n",
      "bucket :  (20, 21)\n",
      "bucket :  (21, 22)\n",
      "bucket :  (22, 23)\n",
      "bucket :  (23, 24)\n",
      "bucket :  (24, 25)\n",
      "bucket :  (25, 26)\n",
      "bucket :  (26, 27)\n",
      "bucket :  (27, 28)\n",
      "bucket :  (28, 29)\n",
      "bucket :  (29, 30)\n",
      "bucket :  (30, 31)\n",
      "bucket :  (31, 32)\n",
      "bucket :  (32, 33)\n",
      "bucket :  (33, 34)\n",
      "bucket :  (34, 35)\n",
      "bucket :  (35, 36)\n",
      "bucket :  (36, 37)\n",
      "bucket :  (37, 38)\n",
      "bucket :  (38, 39)\n",
      "bucket :  (39, 40)\n",
      "bucket :  (40, 41)\n"
     ]
    },
    {
     "name": "stderr",
     "output_type": "stream",
     "text": [
      " 90%|█████████ | 18/20 [48:30<05:33, 166.60s/it]"
     ]
    },
    {
     "name": "stdout",
     "output_type": "stream",
     "text": [
      "{'bucketing': 34, 'encoding': 'index', 'drop_act': 6, 'models': 'Xgboost', 'Xgboost': {'max_depth': 4, 'n_estimators': 431, 'learning_rate': 0.05}}\n",
      "bucket :  (2, 4)\n",
      "After OverSampling, the shape of train_X: (34594, 11)\n",
      "After OverSampling, the shape of train_y: (34594,) \n",
      "\n",
      "After OverSampling, counts of label '1': 17297\n",
      "After OverSampling, counts of label '0': 17297\n",
      "bucket :  (4, 6)\n",
      "After OverSampling, the shape of train_X: (23472, 19)\n",
      "After OverSampling, the shape of train_y: (23472,) \n",
      "\n",
      "After OverSampling, counts of label '1': 11736\n",
      "After OverSampling, counts of label '0': 11736\n",
      "bucket :  (6, 8)\n",
      "bucket :  (8, 10)\n",
      "bucket :  (10, 12)\n",
      "bucket :  (12, 13)\n",
      "bucket :  (13, 14)\n",
      "bucket :  (14, 15)\n",
      "bucket :  (15, 16)\n",
      "bucket :  (16, 17)\n",
      "bucket :  (17, 18)\n",
      "bucket :  (18, 19)\n",
      "bucket :  (19, 20)\n",
      "bucket :  (20, 21)\n",
      "bucket :  (21, 22)\n",
      "bucket :  (22, 23)\n",
      "bucket :  (23, 24)\n",
      "bucket :  (24, 25)\n",
      "bucket :  (25, 26)\n",
      "bucket :  (26, 27)\n",
      "bucket :  (27, 28)\n",
      "bucket :  (28, 29)\n",
      "bucket :  (29, 30)\n",
      "bucket :  (30, 31)\n",
      "bucket :  (31, 32)\n",
      "bucket :  (32, 33)\n",
      "bucket :  (33, 34)\n",
      "bucket :  (34, 35)\n",
      "bucket :  (35, 36)\n",
      "bucket :  (36, 37)\n",
      "bucket :  (37, 38)\n",
      "bucket :  (38, 39)\n",
      "bucket :  (39, 40)\n",
      "bucket :  (40, 41)\n"
     ]
    },
    {
     "name": "stderr",
     "output_type": "stream",
     "text": [
      " 95%|█████████▌| 19/20 [51:07<02:43, 163.78s/it]"
     ]
    },
    {
     "name": "stdout",
     "output_type": "stream",
     "text": [
      "{'bucketing': 15, 'encoding': 'index', 'drop_act': 4, 'models': 'Xgboost', 'Xgboost': {'max_depth': 2, 'n_estimators': 931, 'learning_rate': 0.1}}\n",
      "bucket :  (2, 5)\n",
      "After OverSampling, the shape of train_X: (46950, 14)\n",
      "After OverSampling, the shape of train_y: (46950,) \n",
      "\n",
      "After OverSampling, counts of label '1': 23475\n",
      "After OverSampling, counts of label '0': 23475\n",
      "bucket :  (5, 8)\n",
      "After OverSampling, the shape of train_X: (32620, 38)\n",
      "After OverSampling, the shape of train_y: (32620,) \n",
      "\n",
      "After OverSampling, counts of label '1': 16310\n",
      "After OverSampling, counts of label '0': 16310\n",
      "bucket :  (8, 11)\n",
      "bucket :  (11, 14)\n",
      "bucket :  (14, 17)\n",
      "bucket :  (17, 20)\n",
      "bucket :  (20, 23)\n",
      "bucket :  (23, 26)\n",
      "bucket :  (26, 29)\n",
      "bucket :  (29, 31)\n",
      "bucket :  (31, 33)\n",
      "bucket :  (33, 35)\n",
      "bucket :  (35, 37)\n",
      "bucket :  (37, 39)\n",
      "bucket :  (39, 41)\n"
     ]
    },
    {
     "name": "stderr",
     "output_type": "stream",
     "text": [
      "100%|██████████| 20/20 [53:44<00:00, 161.22s/it]\n",
      "  0%|          | 0/20 [00:00<?, ?it/s]"
     ]
    },
    {
     "name": "stdout",
     "output_type": "stream",
     "text": [
      "{'bucketing': 13, 'encoding': 'aggregate', 'drop_act': 6, 'models': 'Decision Tree', 'Decision Tree': {'max_depth': 15, 'min_samples_leaf': 29, 'criterion': 'entropy'}}\n",
      "bucket :  (2, 5)\n",
      "After OverSampling, the shape of train_X: (46950, 10)\n",
      "After OverSampling, the shape of train_y: (46950,) \n",
      "\n",
      "After OverSampling, counts of label '1': 23475\n",
      "After OverSampling, counts of label '0': 23475\n",
      "bucket :  (5, 8)\n",
      "After OverSampling, the shape of train_X: (32620, 17)\n",
      "After OverSampling, the shape of train_y: (32620,) \n",
      "\n",
      "After OverSampling, counts of label '1': 16310\n",
      "After OverSampling, counts of label '0': 16310\n",
      "bucket :  (8, 11)\n",
      "bucket :  (11, 14)\n",
      "bucket :  (14, 17)\n",
      "bucket :  (17, 20)\n",
      "bucket :  (20, 23)\n",
      "bucket :  (23, 26)\n",
      "bucket :  (26, 29)\n",
      "bucket :  (29, 32)\n",
      "bucket :  (32, 35)\n",
      "bucket :  (35, 38)\n",
      "bucket :  (38, 41)\n"
     ]
    },
    {
     "name": "stderr",
     "output_type": "stream",
     "text": [
      "  5%|▌         | 1/20 [02:52<54:38, 172.55s/it]"
     ]
    },
    {
     "name": "stdout",
     "output_type": "stream",
     "text": [
      "{'bucketing': 30, 'encoding': 'aggregate', 'drop_act': 8, 'models': 'Random Forest', 'Random Forest': {'n_estimators': 148, 'max_depth': 18, 'max_features': 'log2', 'bootstrap': True, 'criterion': 'gini'}}\n",
      "bucket :  (2, 4)\n",
      "After OverSampling, the shape of train_X: (34594, 8)\n",
      "After OverSampling, the shape of train_y: (34594,) \n",
      "\n",
      "After OverSampling, counts of label '1': 17297\n",
      "After OverSampling, counts of label '0': 17297\n",
      "bucket :  (4, 6)\n",
      "After OverSampling, the shape of train_X: (23472, 13)\n",
      "After OverSampling, the shape of train_y: (23472,) \n",
      "\n",
      "After OverSampling, counts of label '1': 11736\n",
      "After OverSampling, counts of label '0': 11736\n",
      "bucket :  (6, 8)\n",
      "bucket :  (8, 10)\n",
      "bucket :  (10, 12)\n",
      "bucket :  (12, 14)\n",
      "bucket :  (14, 16)\n",
      "bucket :  (16, 18)\n",
      "bucket :  (18, 20)\n",
      "bucket :  (20, 21)\n",
      "bucket :  (21, 22)\n",
      "bucket :  (22, 23)\n",
      "bucket :  (23, 24)\n",
      "bucket :  (24, 25)\n",
      "bucket :  (25, 26)\n",
      "bucket :  (26, 27)\n",
      "bucket :  (27, 28)\n",
      "bucket :  (28, 29)\n",
      "bucket :  (29, 30)\n",
      "bucket :  (30, 31)\n",
      "bucket :  (31, 32)\n",
      "bucket :  (32, 33)\n",
      "bucket :  (33, 34)\n",
      "bucket :  (34, 35)\n",
      "bucket :  (35, 36)\n",
      "bucket :  (36, 37)\n",
      "bucket :  (37, 38)\n",
      "bucket :  (38, 39)\n",
      "bucket :  (39, 40)\n",
      "bucket :  (40, 41)\n"
     ]
    },
    {
     "name": "stderr",
     "output_type": "stream",
     "text": [
      " 10%|█         | 2/20 [06:01<54:39, 182.18s/it]"
     ]
    },
    {
     "name": "stdout",
     "output_type": "stream",
     "text": [
      "{'bucketing': 31, 'encoding': 'aggregate', 'drop_act': 4, 'models': 'Decision Tree', 'Decision Tree': {'max_depth': 9, 'min_samples_leaf': 42, 'criterion': 'gini'}}\n",
      "bucket :  (2, 4)\n",
      "After OverSampling, the shape of train_X: (34594, 8)\n",
      "After OverSampling, the shape of train_y: (34594,) \n",
      "\n",
      "After OverSampling, counts of label '1': 17297\n",
      "After OverSampling, counts of label '0': 17297\n",
      "bucket :  (4, 6)\n",
      "After OverSampling, the shape of train_X: (23472, 13)\n",
      "After OverSampling, the shape of train_y: (23472,) \n",
      "\n",
      "After OverSampling, counts of label '1': 11736\n",
      "After OverSampling, counts of label '0': 11736\n",
      "bucket :  (6, 8)\n",
      "bucket :  (8, 10)\n",
      "bucket :  (10, 12)\n",
      "bucket :  (12, 14)\n",
      "bucket :  (14, 16)\n",
      "bucket :  (16, 18)\n",
      "bucket :  (18, 19)\n",
      "bucket :  (19, 20)\n",
      "bucket :  (20, 21)\n",
      "bucket :  (21, 22)\n",
      "bucket :  (22, 23)\n",
      "bucket :  (23, 24)\n",
      "bucket :  (24, 25)\n",
      "bucket :  (25, 26)\n",
      "bucket :  (26, 27)\n",
      "bucket :  (27, 28)\n",
      "bucket :  (28, 29)\n",
      "bucket :  (29, 30)\n",
      "bucket :  (30, 31)\n",
      "bucket :  (31, 32)\n",
      "bucket :  (32, 33)\n",
      "bucket :  (33, 34)\n",
      "bucket :  (34, 35)\n",
      "bucket :  (35, 36)\n",
      "bucket :  (36, 37)\n",
      "bucket :  (37, 38)\n",
      "bucket :  (38, 39)\n",
      "bucket :  (39, 40)\n",
      "bucket :  (40, 41)\n"
     ]
    },
    {
     "name": "stderr",
     "output_type": "stream",
     "text": [
      " 15%|█▌        | 3/20 [08:53<50:22, 177.77s/it]"
     ]
    },
    {
     "name": "stdout",
     "output_type": "stream",
     "text": [
      "{'bucketing': 25, 'encoding': 'aggregate', 'drop_act': 2, 'models': 'Random Forest', 'Random Forest': {'n_estimators': 313, 'max_depth': 6, 'max_features': 'log2', 'bootstrap': True, 'criterion': 'gini'}}\n",
      "bucket :  (2, 4)\n",
      "After OverSampling, the shape of train_X: (34594, 9)\n",
      "After OverSampling, the shape of train_y: (34594,) \n",
      "\n",
      "After OverSampling, counts of label '1': 17297\n",
      "After OverSampling, counts of label '0': 17297\n",
      "bucket :  (4, 6)\n",
      "After OverSampling, the shape of train_X: (23634, 15)\n",
      "After OverSampling, the shape of train_y: (23634,) \n",
      "\n",
      "After OverSampling, counts of label '1': 11817\n",
      "After OverSampling, counts of label '0': 11817\n",
      "bucket :  (6, 8)\n",
      "bucket :  (8, 10)\n",
      "bucket :  (10, 12)\n",
      "bucket :  (12, 14)\n",
      "bucket :  (14, 16)\n",
      "bucket :  (16, 18)\n",
      "bucket :  (18, 20)\n",
      "bucket :  (20, 22)\n",
      "bucket :  (22, 24)\n",
      "bucket :  (24, 26)\n",
      "bucket :  (26, 28)\n",
      "bucket :  (28, 30)\n",
      "bucket :  (30, 31)\n",
      "bucket :  (31, 32)\n",
      "bucket :  (32, 33)\n",
      "bucket :  (33, 34)\n",
      "bucket :  (34, 35)\n",
      "bucket :  (35, 36)\n",
      "bucket :  (36, 37)\n",
      "bucket :  (37, 38)\n",
      "bucket :  (38, 39)\n",
      "bucket :  (39, 40)\n",
      "bucket :  (40, 41)\n"
     ]
    },
    {
     "name": "stderr",
     "output_type": "stream",
     "text": [
      " 20%|██        | 4/20 [12:03<48:37, 182.36s/it]"
     ]
    },
    {
     "name": "stdout",
     "output_type": "stream",
     "text": [
      "{'bucketing': 33, 'encoding': 'index', 'drop_act': 8, 'models': 'Random Forest', 'Random Forest': {'n_estimators': 154, 'max_depth': 3, 'max_features': 'auto', 'bootstrap': True, 'criterion': 'entropy'}}\n",
      "bucket :  (2, 4)\n",
      "After OverSampling, the shape of train_X: (34594, 11)\n",
      "After OverSampling, the shape of train_y: (34594,) \n",
      "\n",
      "After OverSampling, counts of label '1': 17297\n",
      "After OverSampling, counts of label '0': 17297\n",
      "bucket :  (4, 6)\n",
      "After OverSampling, the shape of train_X: (23472, 19)\n",
      "After OverSampling, the shape of train_y: (23472,) \n",
      "\n",
      "After OverSampling, counts of label '1': 11736\n",
      "After OverSampling, counts of label '0': 11736\n",
      "bucket :  (6, 8)\n",
      "bucket :  (8, 10)\n",
      "bucket :  (10, 12)\n",
      "bucket :  (12, 14)\n",
      "bucket :  (14, 15)\n",
      "bucket :  (15, 16)\n",
      "bucket :  (16, 17)\n",
      "bucket :  (17, 18)\n",
      "bucket :  (18, 19)\n",
      "bucket :  (19, 20)\n",
      "bucket :  (20, 21)\n",
      "bucket :  (21, 22)\n",
      "bucket :  (22, 23)\n",
      "bucket :  (23, 24)\n",
      "bucket :  (24, 25)\n",
      "bucket :  (25, 26)\n",
      "bucket :  (26, 27)\n",
      "bucket :  (27, 28)\n",
      "bucket :  (28, 29)\n",
      "bucket :  (29, 30)\n",
      "bucket :  (30, 31)\n",
      "bucket :  (31, 32)\n",
      "bucket :  (32, 33)\n",
      "bucket :  (33, 34)\n",
      "bucket :  (34, 35)\n",
      "bucket :  (35, 36)\n",
      "bucket :  (36, 37)\n",
      "bucket :  (37, 38)\n",
      "bucket :  (38, 39)\n",
      "bucket :  (39, 40)\n",
      "bucket :  (40, 41)\n"
     ]
    },
    {
     "name": "stderr",
     "output_type": "stream",
     "text": [
      " 25%|██▌       | 5/20 [14:37<43:04, 172.28s/it]"
     ]
    },
    {
     "name": "stdout",
     "output_type": "stream",
     "text": [
      "{'bucketing': 24, 'encoding': 'index', 'drop_act': 2, 'models': 'LightGBM', 'LightGBM': {'max_depth': 9, 'num_leaves': 326, 'min_child_samples': 3}}\n",
      "bucket :  (2, 4)\n",
      "After OverSampling, the shape of train_X: (34594, 12)\n",
      "After OverSampling, the shape of train_y: (34594,) \n",
      "\n",
      "After OverSampling, counts of label '1': 17297\n",
      "After OverSampling, counts of label '0': 17297\n",
      "bucket :  (4, 6)\n",
      "After OverSampling, the shape of train_X: (23634, 24)\n",
      "After OverSampling, the shape of train_y: (23634,) \n",
      "\n",
      "After OverSampling, counts of label '1': 11817\n",
      "After OverSampling, counts of label '0': 11817\n",
      "bucket :  (6, 8)\n",
      "bucket :  (8, 10)\n",
      "bucket :  (10, 12)\n",
      "bucket :  (12, 14)\n",
      "bucket :  (14, 16)\n",
      "bucket :  (16, 18)\n",
      "bucket :  (18, 20)\n",
      "bucket :  (20, 22)\n",
      "bucket :  (22, 24)\n",
      "bucket :  (24, 26)\n",
      "bucket :  (26, 28)\n",
      "bucket :  (28, 30)\n",
      "bucket :  (30, 32)\n",
      "bucket :  (32, 33)\n",
      "bucket :  (33, 34)\n",
      "bucket :  (34, 35)\n",
      "bucket :  (35, 36)\n",
      "bucket :  (36, 37)\n",
      "bucket :  (37, 38)\n",
      "bucket :  (38, 39)\n",
      "bucket :  (39, 40)\n",
      "bucket :  (40, 41)\n"
     ]
    },
    {
     "name": "stderr",
     "output_type": "stream",
     "text": [
      " 30%|███       | 6/20 [16:53<37:18, 159.92s/it]"
     ]
    },
    {
     "name": "stdout",
     "output_type": "stream",
     "text": [
      "{'bucketing': 12, 'encoding': 'index', 'drop_act': 2, 'models': 'Decision Tree', 'Decision Tree': {'max_depth': 11, 'min_samples_leaf': 77, 'criterion': 'gini'}}\n",
      "bucket :  (2, 6)\n",
      "After OverSampling, the shape of train_X: (59022, 25)\n",
      "After OverSampling, the shape of train_y: (59022,) \n",
      "\n",
      "After OverSampling, counts of label '1': 29511\n",
      "After OverSampling, counts of label '0': 29511\n",
      "bucket :  (6, 10)\n",
      "bucket :  (10, 14)\n",
      "bucket :  (14, 17)\n",
      "bucket :  (17, 20)\n",
      "bucket :  (20, 23)\n",
      "bucket :  (23, 26)\n",
      "bucket :  (26, 29)\n",
      "bucket :  (29, 32)\n",
      "bucket :  (32, 35)\n",
      "bucket :  (35, 38)\n",
      "bucket :  (38, 41)\n"
     ]
    },
    {
     "name": "stderr",
     "output_type": "stream",
     "text": [
      " 35%|███▌      | 7/20 [19:09<32:54, 151.90s/it]"
     ]
    },
    {
     "name": "stdout",
     "output_type": "stream",
     "text": [
      "{'bucketing': 33, 'encoding': 'index', 'drop_act': 2, 'models': 'LightGBM', 'LightGBM': {'max_depth': 18, 'num_leaves': 377, 'min_child_samples': 6}}\n",
      "bucket :  (2, 4)\n",
      "After OverSampling, the shape of train_X: (34594, 12)\n",
      "After OverSampling, the shape of train_y: (34594,) \n",
      "\n",
      "After OverSampling, counts of label '1': 17297\n",
      "After OverSampling, counts of label '0': 17297\n",
      "bucket :  (4, 6)\n",
      "After OverSampling, the shape of train_X: (23634, 24)\n",
      "After OverSampling, the shape of train_y: (23634,) \n",
      "\n",
      "After OverSampling, counts of label '1': 11817\n",
      "After OverSampling, counts of label '0': 11817\n",
      "bucket :  (6, 8)\n",
      "bucket :  (8, 10)\n",
      "bucket :  (10, 12)\n",
      "bucket :  (12, 14)\n",
      "bucket :  (14, 15)\n",
      "bucket :  (15, 16)\n",
      "bucket :  (16, 17)\n",
      "bucket :  (17, 18)\n",
      "bucket :  (18, 19)\n",
      "bucket :  (19, 20)\n",
      "bucket :  (20, 21)\n",
      "bucket :  (21, 22)\n",
      "bucket :  (22, 23)\n",
      "bucket :  (23, 24)\n",
      "bucket :  (24, 25)\n",
      "bucket :  (25, 26)\n",
      "bucket :  (26, 27)\n",
      "bucket :  (27, 28)\n",
      "bucket :  (28, 29)\n",
      "bucket :  (29, 30)\n",
      "bucket :  (30, 31)\n",
      "bucket :  (31, 32)\n",
      "bucket :  (32, 33)\n",
      "bucket :  (33, 34)\n",
      "bucket :  (34, 35)\n",
      "bucket :  (35, 36)\n",
      "bucket :  (36, 37)\n",
      "bucket :  (37, 38)\n",
      "bucket :  (38, 39)\n",
      "bucket :  (39, 40)\n",
      "bucket :  (40, 41)\n"
     ]
    },
    {
     "name": "stderr",
     "output_type": "stream",
     "text": [
      " 40%|████      | 8/20 [21:25<29:23, 146.99s/it]"
     ]
    },
    {
     "name": "stdout",
     "output_type": "stream",
     "text": [
      "{'bucketing': 21, 'encoding': 'aggregate', 'drop_act': 2, 'models': 'Xgboost', 'Xgboost': {'max_depth': 10, 'n_estimators': 204, 'learning_rate': 0.01}}\n",
      "bucket :  (2, 4)\n",
      "After OverSampling, the shape of train_X: (34594, 9)\n",
      "After OverSampling, the shape of train_y: (34594,) \n",
      "\n",
      "After OverSampling, counts of label '1': 17297\n",
      "After OverSampling, counts of label '0': 17297\n",
      "bucket :  (4, 6)\n",
      "After OverSampling, the shape of train_X: (23634, 15)\n",
      "After OverSampling, the shape of train_y: (23634,) \n",
      "\n",
      "After OverSampling, counts of label '1': 11817\n",
      "After OverSampling, counts of label '0': 11817\n",
      "bucket :  (6, 8)\n",
      "bucket :  (8, 10)\n",
      "bucket :  (10, 12)\n",
      "bucket :  (12, 14)\n",
      "bucket :  (14, 16)\n",
      "bucket :  (16, 18)\n",
      "bucket :  (18, 20)\n",
      "bucket :  (20, 22)\n",
      "bucket :  (22, 24)\n",
      "bucket :  (24, 26)\n",
      "bucket :  (26, 28)\n",
      "bucket :  (28, 30)\n",
      "bucket :  (30, 32)\n",
      "bucket :  (32, 34)\n",
      "bucket :  (34, 36)\n",
      "bucket :  (36, 38)\n",
      "bucket :  (38, 39)\n",
      "bucket :  (39, 40)\n",
      "bucket :  (40, 41)\n"
     ]
    },
    {
     "name": "stderr",
     "output_type": "stream",
     "text": [
      " 45%|████▌     | 9/20 [24:24<28:47, 157.05s/it]"
     ]
    },
    {
     "name": "stdout",
     "output_type": "stream",
     "text": [
      "{'bucketing': 33, 'encoding': 'index', 'drop_act': 2, 'models': 'LightGBM', 'LightGBM': {'max_depth': 9, 'num_leaves': 326, 'min_child_samples': 3}}\n",
      "bucket :  (2, 4)\n",
      "After OverSampling, the shape of train_X: (34594, 12)\n",
      "After OverSampling, the shape of train_y: (34594,) \n",
      "\n",
      "After OverSampling, counts of label '1': 17297\n",
      "After OverSampling, counts of label '0': 17297\n",
      "bucket :  (4, 6)\n",
      "After OverSampling, the shape of train_X: (23634, 24)\n",
      "After OverSampling, the shape of train_y: (23634,) \n",
      "\n",
      "After OverSampling, counts of label '1': 11817\n",
      "After OverSampling, counts of label '0': 11817\n",
      "bucket :  (6, 8)\n",
      "bucket :  (8, 10)\n",
      "bucket :  (10, 12)\n",
      "bucket :  (12, 14)\n",
      "bucket :  (14, 15)\n",
      "bucket :  (15, 16)\n",
      "bucket :  (16, 17)\n",
      "bucket :  (17, 18)\n",
      "bucket :  (18, 19)\n",
      "bucket :  (19, 20)\n",
      "bucket :  (20, 21)\n",
      "bucket :  (21, 22)\n",
      "bucket :  (22, 23)\n",
      "bucket :  (23, 24)\n",
      "bucket :  (24, 25)\n",
      "bucket :  (25, 26)\n",
      "bucket :  (26, 27)\n",
      "bucket :  (27, 28)\n",
      "bucket :  (28, 29)\n",
      "bucket :  (29, 30)\n",
      "bucket :  (30, 31)\n",
      "bucket :  (31, 32)\n",
      "bucket :  (32, 33)\n",
      "bucket :  (33, 34)\n",
      "bucket :  (34, 35)\n",
      "bucket :  (35, 36)\n",
      "bucket :  (36, 37)\n",
      "bucket :  (37, 38)\n",
      "bucket :  (38, 39)\n",
      "bucket :  (39, 40)\n",
      "bucket :  (40, 41)\n"
     ]
    },
    {
     "name": "stderr",
     "output_type": "stream",
     "text": [
      " 50%|█████     | 10/20 [26:41<25:07, 150.79s/it]"
     ]
    },
    {
     "name": "stdout",
     "output_type": "stream",
     "text": [
      "{'bucketing': 33, 'encoding': 'index', 'drop_act': 8, 'models': 'Decision Tree', 'Decision Tree': {'max_depth': 11, 'min_samples_leaf': 77, 'criterion': 'gini'}}\n",
      "bucket :  (2, 4)\n",
      "After OverSampling, the shape of train_X: (34594, 11)\n",
      "After OverSampling, the shape of train_y: (34594,) \n",
      "\n",
      "After OverSampling, counts of label '1': 17297\n",
      "After OverSampling, counts of label '0': 17297\n",
      "bucket :  (4, 6)\n",
      "After OverSampling, the shape of train_X: (23472, 19)\n",
      "After OverSampling, the shape of train_y: (23472,) \n",
      "\n",
      "After OverSampling, counts of label '1': 11736\n",
      "After OverSampling, counts of label '0': 11736\n",
      "bucket :  (6, 8)\n",
      "bucket :  (8, 10)\n",
      "bucket :  (10, 12)\n",
      "bucket :  (12, 14)\n",
      "bucket :  (14, 15)\n",
      "bucket :  (15, 16)\n",
      "bucket :  (16, 17)\n",
      "bucket :  (17, 18)\n",
      "bucket :  (18, 19)\n",
      "bucket :  (19, 20)\n",
      "bucket :  (20, 21)\n",
      "bucket :  (21, 22)\n",
      "bucket :  (22, 23)\n",
      "bucket :  (23, 24)\n",
      "bucket :  (24, 25)\n",
      "bucket :  (25, 26)\n",
      "bucket :  (26, 27)\n",
      "bucket :  (27, 28)\n",
      "bucket :  (28, 29)\n",
      "bucket :  (29, 30)\n",
      "bucket :  (30, 31)\n",
      "bucket :  (31, 32)\n",
      "bucket :  (32, 33)\n",
      "bucket :  (33, 34)\n",
      "bucket :  (34, 35)\n",
      "bucket :  (35, 36)\n",
      "bucket :  (36, 37)\n",
      "bucket :  (37, 38)\n",
      "bucket :  (38, 39)\n",
      "bucket :  (39, 40)\n",
      "bucket :  (40, 41)\n"
     ]
    },
    {
     "name": "stderr",
     "output_type": "stream",
     "text": [
      " 55%|█████▌    | 11/20 [28:53<21:46, 145.18s/it]"
     ]
    },
    {
     "name": "stdout",
     "output_type": "stream",
     "text": [
      "{'bucketing': 25, 'encoding': 'aggregate', 'drop_act': 2, 'models': 'Random Forest', 'Xgboost': {'max_depth': 10, 'n_estimators': 204, 'learning_rate': 0.01}}\n",
      "bucket :  (2, 4)\n",
      "After OverSampling, the shape of train_X: (34594, 9)\n",
      "After OverSampling, the shape of train_y: (34594,) \n",
      "\n",
      "After OverSampling, counts of label '1': 17297\n",
      "After OverSampling, counts of label '0': 17297\n",
      "bucket :  (4, 6)\n",
      "After OverSampling, the shape of train_X: (23634, 15)\n",
      "After OverSampling, the shape of train_y: (23634,) \n",
      "\n",
      "After OverSampling, counts of label '1': 11817\n",
      "After OverSampling, counts of label '0': 11817\n",
      "bucket :  (6, 8)\n",
      "bucket :  (8, 10)\n",
      "bucket :  (10, 12)\n",
      "bucket :  (12, 14)\n",
      "bucket :  (14, 16)\n",
      "bucket :  (16, 18)\n",
      "bucket :  (18, 20)\n",
      "bucket :  (20, 22)\n",
      "bucket :  (22, 24)\n",
      "bucket :  (24, 26)\n",
      "bucket :  (26, 28)\n",
      "bucket :  (28, 30)\n",
      "bucket :  (30, 31)\n",
      "bucket :  (31, 32)\n",
      "bucket :  (32, 33)\n",
      "bucket :  (33, 34)\n",
      "bucket :  (34, 35)\n",
      "bucket :  (35, 36)\n",
      "bucket :  (36, 37)\n",
      "bucket :  (37, 38)\n",
      "bucket :  (38, 39)\n",
      "bucket :  (39, 40)\n",
      "bucket :  (40, 41)\n"
     ]
    },
    {
     "name": "stderr",
     "output_type": "stream",
     "text": [
      " 60%|██████    | 12/20 [32:04<21:11, 158.96s/it]"
     ]
    },
    {
     "name": "stdout",
     "output_type": "stream",
     "text": [
      "{'bucketing': 2, 'encoding': 'index', 'drop_act': 2, 'models': 'LightGBM', 'LightGBM': {'max_depth': 18, 'num_leaves': 377, 'min_child_samples': 6}}\n",
      "bucket :  (2, 22)\n",
      "bucket :  (22, 41)\n"
     ]
    },
    {
     "name": "stderr",
     "output_type": "stream",
     "text": [
      " 65%|██████▌   | 13/20 [34:22<17:47, 152.48s/it]"
     ]
    },
    {
     "name": "stdout",
     "output_type": "stream",
     "text": [
      "{'bucketing': 36, 'encoding': 'aggregate', 'drop_act': 8, 'models': 'Random Forest', 'Random Forest': {'n_estimators': 313, 'max_depth': 6, 'max_features': 'log2', 'bootstrap': True, 'criterion': 'gini'}}\n",
      "bucket :  (2, 4)\n",
      "After OverSampling, the shape of train_X: (34594, 8)\n",
      "After OverSampling, the shape of train_y: (34594,) \n",
      "\n",
      "After OverSampling, counts of label '1': 17297\n",
      "After OverSampling, counts of label '0': 17297\n",
      "bucket :  (4, 6)\n",
      "After OverSampling, the shape of train_X: (23472, 13)\n",
      "After OverSampling, the shape of train_y: (23472,) \n",
      "\n",
      "After OverSampling, counts of label '1': 11736\n",
      "After OverSampling, counts of label '0': 11736\n",
      "bucket :  (6, 8)\n",
      "bucket :  (8, 9)\n",
      "bucket :  (9, 10)\n",
      "bucket :  (10, 11)\n",
      "bucket :  (11, 12)\n",
      "bucket :  (12, 13)\n",
      "bucket :  (13, 14)\n",
      "bucket :  (14, 15)\n",
      "bucket :  (15, 16)\n",
      "bucket :  (16, 17)\n",
      "bucket :  (17, 18)\n",
      "bucket :  (18, 19)\n",
      "bucket :  (19, 20)\n",
      "bucket :  (20, 21)\n",
      "bucket :  (21, 22)\n",
      "bucket :  (22, 23)\n",
      "bucket :  (23, 24)\n",
      "bucket :  (24, 25)\n",
      "bucket :  (25, 26)\n",
      "bucket :  (26, 27)\n",
      "bucket :  (27, 28)\n",
      "bucket :  (28, 29)\n",
      "bucket :  (29, 30)\n",
      "bucket :  (30, 31)\n",
      "bucket :  (31, 32)\n",
      "bucket :  (32, 33)\n",
      "bucket :  (33, 34)\n",
      "bucket :  (34, 35)\n",
      "bucket :  (35, 36)\n",
      "bucket :  (36, 37)\n",
      "bucket :  (37, 38)\n",
      "bucket :  (38, 39)\n",
      "bucket :  (39, 40)\n",
      "bucket :  (40, 41)\n"
     ]
    },
    {
     "name": "stderr",
     "output_type": "stream",
     "text": [
      " 70%|███████   | 14/20 [37:28<16:16, 162.81s/it]"
     ]
    },
    {
     "name": "stdout",
     "output_type": "stream",
     "text": [
      "{'bucketing': 34, 'encoding': 'index', 'drop_act': 6, 'models': 'Decision Tree', 'Decision Tree': {'max_depth': 15, 'min_samples_leaf': 29, 'criterion': 'entropy'}}\n",
      "bucket :  (2, 4)\n",
      "After OverSampling, the shape of train_X: (34594, 11)\n",
      "After OverSampling, the shape of train_y: (34594,) \n",
      "\n",
      "After OverSampling, counts of label '1': 17297\n",
      "After OverSampling, counts of label '0': 17297\n",
      "bucket :  (4, 6)\n",
      "After OverSampling, the shape of train_X: (23472, 19)\n",
      "After OverSampling, the shape of train_y: (23472,) \n",
      "\n",
      "After OverSampling, counts of label '1': 11736\n",
      "After OverSampling, counts of label '0': 11736\n",
      "bucket :  (6, 8)\n",
      "bucket :  (8, 10)\n",
      "bucket :  (10, 12)\n",
      "bucket :  (12, 13)\n",
      "bucket :  (13, 14)\n",
      "bucket :  (14, 15)\n",
      "bucket :  (15, 16)\n",
      "bucket :  (16, 17)\n",
      "bucket :  (17, 18)\n",
      "bucket :  (18, 19)\n",
      "bucket :  (19, 20)\n",
      "bucket :  (20, 21)\n",
      "bucket :  (21, 22)\n",
      "bucket :  (22, 23)\n",
      "bucket :  (23, 24)\n",
      "bucket :  (24, 25)\n",
      "bucket :  (25, 26)\n",
      "bucket :  (26, 27)\n",
      "bucket :  (27, 28)\n",
      "bucket :  (28, 29)\n",
      "bucket :  (29, 30)\n",
      "bucket :  (30, 31)\n",
      "bucket :  (31, 32)\n",
      "bucket :  (32, 33)\n",
      "bucket :  (33, 34)\n",
      "bucket :  (34, 35)\n",
      "bucket :  (35, 36)\n",
      "bucket :  (36, 37)\n",
      "bucket :  (37, 38)\n",
      "bucket :  (38, 39)\n",
      "bucket :  (39, 40)\n",
      "bucket :  (40, 41)\n"
     ]
    },
    {
     "name": "stderr",
     "output_type": "stream",
     "text": [
      " 75%|███████▌  | 15/20 [39:41<12:49, 153.88s/it]"
     ]
    },
    {
     "name": "stdout",
     "output_type": "stream",
     "text": [
      "{'bucketing': 10, 'encoding': 'index', 'drop_act': 8, 'models': 'LightGBM', 'LightGBM': {'max_depth': 18, 'num_leaves': 10, 'min_child_samples': 7}}\n",
      "bucket :  (2, 6)\n",
      "After OverSampling, the shape of train_X: (58864, 20)\n",
      "After OverSampling, the shape of train_y: (58864,) \n",
      "\n",
      "After OverSampling, counts of label '1': 29432\n",
      "After OverSampling, counts of label '0': 29432\n",
      "bucket :  (6, 10)\n",
      "bucket :  (10, 14)\n",
      "bucket :  (14, 18)\n",
      "bucket :  (18, 22)\n",
      "bucket :  (22, 26)\n",
      "bucket :  (26, 30)\n",
      "bucket :  (30, 34)\n",
      "bucket :  (34, 38)\n",
      "bucket :  (38, 41)\n"
     ]
    },
    {
     "name": "stderr",
     "output_type": "stream",
     "text": [
      " 80%|████████  | 16/20 [41:53<09:48, 147.19s/it]"
     ]
    },
    {
     "name": "stdout",
     "output_type": "stream",
     "text": [
      "{'bucketing': 12, 'encoding': 'index', 'drop_act': 2, 'models': 'Decision Tree', 'Decision Tree': {'max_depth': 11, 'min_samples_leaf': 77, 'criterion': 'gini'}}\n",
      "bucket :  (2, 6)\n",
      "After OverSampling, the shape of train_X: (59022, 25)\n",
      "After OverSampling, the shape of train_y: (59022,) \n",
      "\n",
      "After OverSampling, counts of label '1': 29511\n",
      "After OverSampling, counts of label '0': 29511\n",
      "bucket :  (6, 10)\n",
      "bucket :  (10, 14)\n",
      "bucket :  (14, 17)\n",
      "bucket :  (17, 20)\n",
      "bucket :  (20, 23)\n",
      "bucket :  (23, 26)\n",
      "bucket :  (26, 29)\n",
      "bucket :  (29, 32)\n",
      "bucket :  (32, 35)\n",
      "bucket :  (35, 38)\n",
      "bucket :  (38, 41)\n"
     ]
    },
    {
     "name": "stderr",
     "output_type": "stream",
     "text": [
      " 85%|████████▌ | 17/20 [44:09<07:11, 143.90s/it]"
     ]
    },
    {
     "name": "stdout",
     "output_type": "stream",
     "text": [
      "{'bucketing': 1, 'encoding': 'aggregate', 'drop_act': 4, 'models': 'Decision Tree', 'Decision Tree': {'max_depth': 4, 'min_samples_leaf': 87, 'criterion': 'entropy'}}\n",
      "bucket :  (2, 40)\n"
     ]
    },
    {
     "name": "stderr",
     "output_type": "stream",
     "text": [
      " 90%|█████████ | 18/20 [46:59<05:03, 151.77s/it]"
     ]
    },
    {
     "name": "stdout",
     "output_type": "stream",
     "text": [
      "{'bucketing': 24, 'encoding': 'aggregate', 'drop_act': 6, 'models': 'Decision Tree', 'Decision Tree': {'max_depth': 15, 'min_samples_leaf': 29, 'criterion': 'entropy'}}\n",
      "bucket :  (2, 4)\n",
      "After OverSampling, the shape of train_X: (34594, 8)\n",
      "After OverSampling, the shape of train_y: (34594,) \n",
      "\n",
      "After OverSampling, counts of label '1': 17297\n",
      "After OverSampling, counts of label '0': 17297\n",
      "bucket :  (4, 6)\n",
      "After OverSampling, the shape of train_X: (23472, 13)\n",
      "After OverSampling, the shape of train_y: (23472,) \n",
      "\n",
      "After OverSampling, counts of label '1': 11736\n",
      "After OverSampling, counts of label '0': 11736\n",
      "bucket :  (6, 8)\n",
      "bucket :  (8, 10)\n",
      "bucket :  (10, 12)\n",
      "bucket :  (12, 14)\n",
      "bucket :  (14, 16)\n",
      "bucket :  (16, 18)\n",
      "bucket :  (18, 20)\n",
      "bucket :  (20, 22)\n",
      "bucket :  (22, 24)\n",
      "bucket :  (24, 26)\n",
      "bucket :  (26, 28)\n",
      "bucket :  (28, 30)\n",
      "bucket :  (30, 32)\n",
      "bucket :  (32, 33)\n",
      "bucket :  (33, 34)\n",
      "bucket :  (34, 35)\n",
      "bucket :  (35, 36)\n",
      "bucket :  (36, 37)\n",
      "bucket :  (37, 38)\n",
      "bucket :  (38, 39)\n",
      "bucket :  (39, 40)\n",
      "bucket :  (40, 41)\n"
     ]
    },
    {
     "name": "stderr",
     "output_type": "stream",
     "text": [
      " 95%|█████████▌| 19/20 [49:51<02:37, 157.65s/it]"
     ]
    },
    {
     "name": "stdout",
     "output_type": "stream",
     "text": [
      "{'bucketing': 21, 'encoding': 'aggregate', 'drop_act': 2, 'models': 'Xgboost', 'Xgboost': {'max_depth': 6, 'n_estimators': 407, 'learning_rate': 0.05}}\n",
      "bucket :  (2, 4)\n",
      "After OverSampling, the shape of train_X: (34594, 9)\n",
      "After OverSampling, the shape of train_y: (34594,) \n",
      "\n",
      "After OverSampling, counts of label '1': 17297\n",
      "After OverSampling, counts of label '0': 17297\n",
      "bucket :  (4, 6)\n",
      "After OverSampling, the shape of train_X: (23634, 15)\n",
      "After OverSampling, the shape of train_y: (23634,) \n",
      "\n",
      "After OverSampling, counts of label '1': 11817\n",
      "After OverSampling, counts of label '0': 11817\n",
      "bucket :  (6, 8)\n",
      "bucket :  (8, 10)\n",
      "bucket :  (10, 12)\n",
      "bucket :  (12, 14)\n",
      "bucket :  (14, 16)\n",
      "bucket :  (16, 18)\n",
      "bucket :  (18, 20)\n",
      "bucket :  (20, 22)\n",
      "bucket :  (22, 24)\n",
      "bucket :  (24, 26)\n",
      "bucket :  (26, 28)\n",
      "bucket :  (28, 30)\n",
      "bucket :  (30, 32)\n",
      "bucket :  (32, 34)\n",
      "bucket :  (34, 36)\n",
      "bucket :  (36, 38)\n",
      "bucket :  (38, 39)\n",
      "bucket :  (39, 40)\n",
      "bucket :  (40, 41)\n"
     ]
    },
    {
     "name": "stderr",
     "output_type": "stream",
     "text": [
      "100%|██████████| 20/20 [52:48<00:00, 158.44s/it]\n",
      "  0%|          | 0/20 [00:00<?, ?it/s]"
     ]
    },
    {
     "name": "stdout",
     "output_type": "stream",
     "text": [
      "{'bucketing': 10, 'encoding': 'index', 'drop_act': 8, 'models': 'LightGBM', 'LightGBM': {'max_depth': 18, 'num_leaves': 10, 'min_child_samples': 7}}\n",
      "bucket :  (2, 6)\n",
      "After OverSampling, the shape of train_X: (58864, 20)\n",
      "After OverSampling, the shape of train_y: (58864,) \n",
      "\n",
      "After OverSampling, counts of label '1': 29432\n",
      "After OverSampling, counts of label '0': 29432\n",
      "bucket :  (6, 10)\n",
      "bucket :  (10, 14)\n",
      "bucket :  (14, 18)\n",
      "bucket :  (18, 22)\n",
      "bucket :  (22, 26)\n",
      "bucket :  (26, 30)\n",
      "bucket :  (30, 34)\n",
      "bucket :  (34, 38)\n",
      "bucket :  (38, 41)\n"
     ]
    },
    {
     "name": "stderr",
     "output_type": "stream",
     "text": [
      "  5%|▌         | 1/20 [02:10<41:20, 130.54s/it]"
     ]
    },
    {
     "name": "stdout",
     "output_type": "stream",
     "text": [
      "{'bucketing': 21, 'encoding': 'aggregate', 'drop_act': 2, 'models': 'Xgboost', 'Xgboost': {'max_depth': 10, 'n_estimators': 204, 'learning_rate': 0.01}}\n",
      "bucket :  (2, 4)\n",
      "After OverSampling, the shape of train_X: (34594, 9)\n",
      "After OverSampling, the shape of train_y: (34594,) \n",
      "\n",
      "After OverSampling, counts of label '1': 17297\n",
      "After OverSampling, counts of label '0': 17297\n",
      "bucket :  (4, 6)\n",
      "After OverSampling, the shape of train_X: (23634, 15)\n",
      "After OverSampling, the shape of train_y: (23634,) \n",
      "\n",
      "After OverSampling, counts of label '1': 11817\n",
      "After OverSampling, counts of label '0': 11817\n",
      "bucket :  (6, 8)\n",
      "bucket :  (8, 10)\n",
      "bucket :  (10, 12)\n",
      "bucket :  (12, 14)\n",
      "bucket :  (14, 16)\n",
      "bucket :  (16, 18)\n",
      "bucket :  (18, 20)\n",
      "bucket :  (20, 22)\n",
      "bucket :  (22, 24)\n",
      "bucket :  (24, 26)\n",
      "bucket :  (26, 28)\n",
      "bucket :  (28, 30)\n",
      "bucket :  (30, 32)\n",
      "bucket :  (32, 34)\n",
      "bucket :  (34, 36)\n",
      "bucket :  (36, 38)\n",
      "bucket :  (38, 39)\n",
      "bucket :  (39, 40)\n",
      "bucket :  (40, 41)\n"
     ]
    },
    {
     "name": "stderr",
     "output_type": "stream",
     "text": [
      " 10%|█         | 2/20 [05:09<47:44, 159.16s/it]"
     ]
    },
    {
     "name": "stdout",
     "output_type": "stream",
     "text": [
      "{'bucketing': 30, 'encoding': 'aggregate', 'drop_act': 8, 'models': 'Random Forest', 'Random Forest': {'n_estimators': 148, 'max_depth': 18, 'max_features': 'log2', 'bootstrap': True, 'criterion': 'gini'}}\n",
      "bucket :  (2, 4)\n",
      "After OverSampling, the shape of train_X: (34594, 8)\n",
      "After OverSampling, the shape of train_y: (34594,) \n",
      "\n",
      "After OverSampling, counts of label '1': 17297\n",
      "After OverSampling, counts of label '0': 17297\n",
      "bucket :  (4, 6)\n",
      "After OverSampling, the shape of train_X: (23472, 13)\n",
      "After OverSampling, the shape of train_y: (23472,) \n",
      "\n",
      "After OverSampling, counts of label '1': 11736\n",
      "After OverSampling, counts of label '0': 11736\n",
      "bucket :  (6, 8)\n",
      "bucket :  (8, 10)\n",
      "bucket :  (10, 12)\n",
      "bucket :  (12, 14)\n",
      "bucket :  (14, 16)\n",
      "bucket :  (16, 18)\n",
      "bucket :  (18, 20)\n",
      "bucket :  (20, 21)\n",
      "bucket :  (21, 22)\n",
      "bucket :  (22, 23)\n",
      "bucket :  (23, 24)\n",
      "bucket :  (24, 25)\n",
      "bucket :  (25, 26)\n",
      "bucket :  (26, 27)\n",
      "bucket :  (27, 28)\n",
      "bucket :  (28, 29)\n",
      "bucket :  (29, 30)\n",
      "bucket :  (30, 31)\n",
      "bucket :  (31, 32)\n",
      "bucket :  (32, 33)\n",
      "bucket :  (33, 34)\n",
      "bucket :  (34, 35)\n",
      "bucket :  (35, 36)\n",
      "bucket :  (36, 37)\n",
      "bucket :  (37, 38)\n",
      "bucket :  (38, 39)\n",
      "bucket :  (39, 40)\n",
      "bucket :  (40, 41)\n"
     ]
    },
    {
     "name": "stderr",
     "output_type": "stream",
     "text": [
      " 15%|█▌        | 3/20 [08:16<48:36, 171.54s/it]"
     ]
    },
    {
     "name": "stdout",
     "output_type": "stream",
     "text": [
      "{'bucketing': 25, 'encoding': 'aggregate', 'drop_act': 2, 'models': 'Random Forest', 'Random Forest': {'n_estimators': 313, 'max_depth': 6, 'max_features': 'log2', 'bootstrap': True, 'criterion': 'gini'}}\n",
      "bucket :  (2, 4)\n",
      "After OverSampling, the shape of train_X: (34594, 9)\n",
      "After OverSampling, the shape of train_y: (34594,) \n",
      "\n",
      "After OverSampling, counts of label '1': 17297\n",
      "After OverSampling, counts of label '0': 17297\n",
      "bucket :  (4, 6)\n",
      "After OverSampling, the shape of train_X: (23634, 15)\n",
      "After OverSampling, the shape of train_y: (23634,) \n",
      "\n",
      "After OverSampling, counts of label '1': 11817\n",
      "After OverSampling, counts of label '0': 11817\n",
      "bucket :  (6, 8)\n",
      "bucket :  (8, 10)\n",
      "bucket :  (10, 12)\n",
      "bucket :  (12, 14)\n",
      "bucket :  (14, 16)\n",
      "bucket :  (16, 18)\n",
      "bucket :  (18, 20)\n",
      "bucket :  (20, 22)\n",
      "bucket :  (22, 24)\n",
      "bucket :  (24, 26)\n",
      "bucket :  (26, 28)\n",
      "bucket :  (28, 30)\n",
      "bucket :  (30, 31)\n",
      "bucket :  (31, 32)\n",
      "bucket :  (32, 33)\n",
      "bucket :  (33, 34)\n",
      "bucket :  (34, 35)\n",
      "bucket :  (35, 36)\n",
      "bucket :  (36, 37)\n",
      "bucket :  (37, 38)\n",
      "bucket :  (38, 39)\n",
      "bucket :  (39, 40)\n",
      "bucket :  (40, 41)\n"
     ]
    },
    {
     "name": "stderr",
     "output_type": "stream",
     "text": [
      " 20%|██        | 4/20 [11:25<47:39, 178.74s/it]"
     ]
    },
    {
     "name": "stdout",
     "output_type": "stream",
     "text": [
      "{'bucketing': 30, 'encoding': 'aggregate', 'drop_act': 2, 'models': 'Random Forest', 'Random Forest': {'n_estimators': 313, 'max_depth': 6, 'max_features': 'log2', 'bootstrap': True, 'criterion': 'gini'}}\n",
      "bucket :  (2, 4)\n",
      "After OverSampling, the shape of train_X: (34594, 9)\n",
      "After OverSampling, the shape of train_y: (34594,) \n",
      "\n",
      "After OverSampling, counts of label '1': 17297\n",
      "After OverSampling, counts of label '0': 17297\n",
      "bucket :  (4, 6)\n",
      "After OverSampling, the shape of train_X: (23634, 15)\n",
      "After OverSampling, the shape of train_y: (23634,) \n",
      "\n",
      "After OverSampling, counts of label '1': 11817\n",
      "After OverSampling, counts of label '0': 11817\n",
      "bucket :  (6, 8)\n",
      "bucket :  (8, 10)\n",
      "bucket :  (10, 12)\n",
      "bucket :  (12, 14)\n",
      "bucket :  (14, 16)\n",
      "bucket :  (16, 18)\n",
      "bucket :  (18, 20)\n",
      "bucket :  (20, 21)\n",
      "bucket :  (21, 22)\n",
      "bucket :  (22, 23)\n",
      "bucket :  (23, 24)\n",
      "bucket :  (24, 25)\n",
      "bucket :  (25, 26)\n",
      "bucket :  (26, 27)\n",
      "bucket :  (27, 28)\n",
      "bucket :  (28, 29)\n",
      "bucket :  (29, 30)\n",
      "bucket :  (30, 31)\n",
      "bucket :  (31, 32)\n",
      "bucket :  (32, 33)\n",
      "bucket :  (33, 34)\n",
      "bucket :  (34, 35)\n",
      "bucket :  (35, 36)\n",
      "bucket :  (36, 37)\n",
      "bucket :  (37, 38)\n",
      "bucket :  (38, 39)\n",
      "bucket :  (39, 40)\n",
      "bucket :  (40, 41)\n"
     ]
    },
    {
     "name": "stderr",
     "output_type": "stream",
     "text": [
      " 25%|██▌       | 5/20 [14:35<45:42, 182.82s/it]"
     ]
    },
    {
     "name": "stdout",
     "output_type": "stream",
     "text": [
      "{'bucketing': 36, 'encoding': 'aggregate', 'drop_act': 8, 'models': 'Random Forest', 'Random Forest': {'n_estimators': 313, 'max_depth': 6, 'max_features': 'log2', 'bootstrap': True, 'criterion': 'gini'}}\n",
      "bucket :  (2, 4)\n",
      "After OverSampling, the shape of train_X: (34594, 8)\n",
      "After OverSampling, the shape of train_y: (34594,) \n",
      "\n",
      "After OverSampling, counts of label '1': 17297\n",
      "After OverSampling, counts of label '0': 17297\n",
      "bucket :  (4, 6)\n",
      "After OverSampling, the shape of train_X: (23472, 13)\n",
      "After OverSampling, the shape of train_y: (23472,) \n",
      "\n",
      "After OverSampling, counts of label '1': 11736\n",
      "After OverSampling, counts of label '0': 11736\n",
      "bucket :  (6, 8)\n",
      "bucket :  (8, 9)\n",
      "bucket :  (9, 10)\n",
      "bucket :  (10, 11)\n",
      "bucket :  (11, 12)\n",
      "bucket :  (12, 13)\n",
      "bucket :  (13, 14)\n",
      "bucket :  (14, 15)\n",
      "bucket :  (15, 16)\n",
      "bucket :  (16, 17)\n",
      "bucket :  (17, 18)\n",
      "bucket :  (18, 19)\n",
      "bucket :  (19, 20)\n",
      "bucket :  (20, 21)\n",
      "bucket :  (21, 22)\n",
      "bucket :  (22, 23)\n",
      "bucket :  (23, 24)\n",
      "bucket :  (24, 25)\n",
      "bucket :  (25, 26)\n",
      "bucket :  (26, 27)\n",
      "bucket :  (27, 28)\n",
      "bucket :  (28, 29)\n",
      "bucket :  (29, 30)\n",
      "bucket :  (30, 31)\n",
      "bucket :  (31, 32)\n",
      "bucket :  (32, 33)\n",
      "bucket :  (33, 34)\n",
      "bucket :  (34, 35)\n",
      "bucket :  (35, 36)\n",
      "bucket :  (36, 37)\n",
      "bucket :  (37, 38)\n",
      "bucket :  (38, 39)\n",
      "bucket :  (39, 40)\n",
      "bucket :  (40, 41)\n"
     ]
    },
    {
     "name": "stderr",
     "output_type": "stream",
     "text": [
      " 30%|███       | 6/20 [17:42<42:58, 184.15s/it]"
     ]
    },
    {
     "name": "stdout",
     "output_type": "stream",
     "text": [
      "{'bucketing': 12, 'encoding': 'aggregate', 'drop_act': 4, 'models': 'Decision Tree', 'Decision Tree': {'max_depth': 9, 'min_samples_leaf': 42, 'criterion': 'gini'}}\n",
      "bucket :  (2, 6)\n",
      "After OverSampling, the shape of train_X: (58864, 13)\n",
      "After OverSampling, the shape of train_y: (58864,) \n",
      "\n",
      "After OverSampling, counts of label '1': 29432\n",
      "After OverSampling, counts of label '0': 29432\n",
      "bucket :  (6, 10)\n",
      "bucket :  (10, 14)\n",
      "bucket :  (14, 17)\n",
      "bucket :  (17, 20)\n",
      "bucket :  (20, 23)\n",
      "bucket :  (23, 26)\n",
      "bucket :  (26, 29)\n",
      "bucket :  (29, 32)\n",
      "bucket :  (32, 35)\n",
      "bucket :  (35, 38)\n",
      "bucket :  (38, 41)\n"
     ]
    },
    {
     "name": "stderr",
     "output_type": "stream",
     "text": [
      " 35%|███▌      | 7/20 [20:32<38:54, 179.58s/it]"
     ]
    },
    {
     "name": "stdout",
     "output_type": "stream",
     "text": [
      "{'bucketing': 33, 'encoding': 'index', 'drop_act': 8, 'models': 'LightGBM', 'LightGBM': {'max_depth': 9, 'num_leaves': 326, 'min_child_samples': 3}}\n",
      "bucket :  (2, 4)\n",
      "After OverSampling, the shape of train_X: (34594, 11)\n",
      "After OverSampling, the shape of train_y: (34594,) \n",
      "\n",
      "After OverSampling, counts of label '1': 17297\n",
      "After OverSampling, counts of label '0': 17297\n",
      "bucket :  (4, 6)\n",
      "After OverSampling, the shape of train_X: (23472, 19)\n",
      "After OverSampling, the shape of train_y: (23472,) \n",
      "\n",
      "After OverSampling, counts of label '1': 11736\n",
      "After OverSampling, counts of label '0': 11736\n",
      "bucket :  (6, 8)\n",
      "bucket :  (8, 10)\n",
      "bucket :  (10, 12)\n",
      "bucket :  (12, 14)\n",
      "bucket :  (14, 15)\n",
      "bucket :  (15, 16)\n",
      "bucket :  (16, 17)\n",
      "bucket :  (17, 18)\n",
      "bucket :  (18, 19)\n",
      "bucket :  (19, 20)\n",
      "bucket :  (20, 21)\n",
      "bucket :  (21, 22)\n",
      "bucket :  (22, 23)\n",
      "bucket :  (23, 24)\n",
      "bucket :  (24, 25)\n",
      "bucket :  (25, 26)\n",
      "bucket :  (26, 27)\n",
      "bucket :  (27, 28)\n",
      "bucket :  (28, 29)\n",
      "bucket :  (29, 30)\n",
      "bucket :  (30, 31)\n",
      "bucket :  (31, 32)\n",
      "bucket :  (32, 33)\n",
      "bucket :  (33, 34)\n",
      "bucket :  (34, 35)\n",
      "bucket :  (35, 36)\n",
      "bucket :  (36, 37)\n",
      "bucket :  (37, 38)\n",
      "bucket :  (38, 39)\n",
      "bucket :  (39, 40)\n",
      "bucket :  (40, 41)\n"
     ]
    },
    {
     "name": "stderr",
     "output_type": "stream",
     "text": [
      " 40%|████      | 8/20 [22:45<32:57, 164.75s/it]"
     ]
    },
    {
     "name": "stdout",
     "output_type": "stream",
     "text": [
      "{'bucketing': 12, 'encoding': 'index', 'drop_act': 2, 'models': 'Decision Tree', 'Decision Tree': {'max_depth': 11, 'min_samples_leaf': 77, 'criterion': 'gini'}}\n",
      "bucket :  (2, 6)\n",
      "After OverSampling, the shape of train_X: (59022, 25)\n",
      "After OverSampling, the shape of train_y: (59022,) \n",
      "\n",
      "After OverSampling, counts of label '1': 29511\n",
      "After OverSampling, counts of label '0': 29511\n",
      "bucket :  (6, 10)\n",
      "bucket :  (10, 14)\n",
      "bucket :  (14, 17)\n",
      "bucket :  (17, 20)\n",
      "bucket :  (20, 23)\n",
      "bucket :  (23, 26)\n",
      "bucket :  (26, 29)\n",
      "bucket :  (29, 32)\n",
      "bucket :  (32, 35)\n",
      "bucket :  (35, 38)\n",
      "bucket :  (38, 41)\n"
     ]
    },
    {
     "name": "stderr",
     "output_type": "stream",
     "text": [
      " 45%|████▌     | 9/20 [25:01<28:32, 155.64s/it]"
     ]
    },
    {
     "name": "stdout",
     "output_type": "stream",
     "text": [
      "{'bucketing': 21, 'encoding': 'index', 'drop_act': 2, 'models': 'Decision Tree', 'Decision Tree': {'max_depth': 11, 'min_samples_leaf': 77, 'criterion': 'gini'}}\n",
      "bucket :  (2, 4)\n",
      "After OverSampling, the shape of train_X: (34594, 12)\n",
      "After OverSampling, the shape of train_y: (34594,) \n",
      "\n",
      "After OverSampling, counts of label '1': 17297\n",
      "After OverSampling, counts of label '0': 17297\n",
      "bucket :  (4, 6)\n",
      "After OverSampling, the shape of train_X: (23634, 24)\n",
      "After OverSampling, the shape of train_y: (23634,) \n",
      "\n",
      "After OverSampling, counts of label '1': 11817\n",
      "After OverSampling, counts of label '0': 11817\n",
      "bucket :  (6, 8)\n",
      "bucket :  (8, 10)\n",
      "bucket :  (10, 12)\n",
      "bucket :  (12, 14)\n",
      "bucket :  (14, 16)\n",
      "bucket :  (16, 18)\n",
      "bucket :  (18, 20)\n",
      "bucket :  (20, 22)\n",
      "bucket :  (22, 24)\n",
      "bucket :  (24, 26)\n",
      "bucket :  (26, 28)\n",
      "bucket :  (28, 30)\n",
      "bucket :  (30, 32)\n",
      "bucket :  (32, 34)\n",
      "bucket :  (34, 36)\n",
      "bucket :  (36, 38)\n",
      "bucket :  (38, 39)\n",
      "bucket :  (39, 40)\n",
      "bucket :  (40, 41)\n"
     ]
    },
    {
     "name": "stderr",
     "output_type": "stream",
     "text": [
      " 50%|█████     | 10/20 [27:17<24:56, 149.63s/it]"
     ]
    },
    {
     "name": "stdout",
     "output_type": "stream",
     "text": [
      "{'bucketing': 12, 'encoding': 'index', 'drop_act': 2, 'models': 'Decision Tree', 'Decision Tree': {'max_depth': 11, 'min_samples_leaf': 77, 'criterion': 'gini'}}\n",
      "bucket :  (2, 6)\n",
      "After OverSampling, the shape of train_X: (59022, 25)\n",
      "After OverSampling, the shape of train_y: (59022,) \n",
      "\n",
      "After OverSampling, counts of label '1': 29511\n",
      "After OverSampling, counts of label '0': 29511\n",
      "bucket :  (6, 10)\n",
      "bucket :  (10, 14)\n",
      "bucket :  (14, 17)\n",
      "bucket :  (17, 20)\n",
      "bucket :  (20, 23)\n",
      "bucket :  (23, 26)\n",
      "bucket :  (26, 29)\n",
      "bucket :  (29, 32)\n",
      "bucket :  (32, 35)\n",
      "bucket :  (35, 38)\n",
      "bucket :  (38, 41)\n"
     ]
    },
    {
     "name": "stderr",
     "output_type": "stream",
     "text": [
      " 55%|█████▌    | 11/20 [29:32<21:47, 145.28s/it]"
     ]
    },
    {
     "name": "stdout",
     "output_type": "stream",
     "text": [
      "{'bucketing': 21, 'encoding': 'aggregate', 'drop_act': 2, 'models': 'Random Forest', 'Xgboost': {'max_depth': 10, 'n_estimators': 204, 'learning_rate': 0.01}}\n",
      "bucket :  (2, 4)\n",
      "After OverSampling, the shape of train_X: (34594, 9)\n",
      "After OverSampling, the shape of train_y: (34594,) \n",
      "\n",
      "After OverSampling, counts of label '1': 17297\n",
      "After OverSampling, counts of label '0': 17297\n",
      "bucket :  (4, 6)\n",
      "After OverSampling, the shape of train_X: (23634, 15)\n",
      "After OverSampling, the shape of train_y: (23634,) \n",
      "\n",
      "After OverSampling, counts of label '1': 11817\n",
      "After OverSampling, counts of label '0': 11817\n",
      "bucket :  (6, 8)\n",
      "bucket :  (8, 10)\n",
      "bucket :  (10, 12)\n",
      "bucket :  (12, 14)\n",
      "bucket :  (14, 16)\n",
      "bucket :  (16, 18)\n",
      "bucket :  (18, 20)\n",
      "bucket :  (20, 22)\n",
      "bucket :  (22, 24)\n",
      "bucket :  (24, 26)\n",
      "bucket :  (26, 28)\n",
      "bucket :  (28, 30)\n",
      "bucket :  (30, 32)\n",
      "bucket :  (32, 34)\n",
      "bucket :  (34, 36)\n",
      "bucket :  (36, 38)\n",
      "bucket :  (38, 39)\n",
      "bucket :  (39, 40)\n",
      "bucket :  (40, 41)\n"
     ]
    },
    {
     "name": "stderr",
     "output_type": "stream",
     "text": [
      " 60%|██████    | 12/20 [32:43<21:11, 158.92s/it]"
     ]
    },
    {
     "name": "stdout",
     "output_type": "stream",
     "text": [
      "{'bucketing': 2, 'encoding': 'index', 'drop_act': 2, 'models': 'LightGBM', 'LightGBM': {'max_depth': 9, 'num_leaves': 326, 'min_child_samples': 3}}\n",
      "bucket :  (2, 22)\n",
      "bucket :  (22, 41)\n"
     ]
    },
    {
     "name": "stderr",
     "output_type": "stream",
     "text": [
      " 65%|██████▌   | 13/20 [35:00<17:46, 152.41s/it]"
     ]
    },
    {
     "name": "stdout",
     "output_type": "stream",
     "text": [
      "{'bucketing': 12, 'encoding': 'index', 'drop_act': 2, 'models': 'Decision Tree', 'Decision Tree': {'max_depth': 15, 'min_samples_leaf': 29, 'criterion': 'entropy'}}\n",
      "bucket :  (2, 6)\n",
      "After OverSampling, the shape of train_X: (59022, 25)\n",
      "After OverSampling, the shape of train_y: (59022,) \n",
      "\n",
      "After OverSampling, counts of label '1': 29511\n",
      "After OverSampling, counts of label '0': 29511\n",
      "bucket :  (6, 10)\n",
      "bucket :  (10, 14)\n",
      "bucket :  (14, 17)\n",
      "bucket :  (17, 20)\n",
      "bucket :  (20, 23)\n",
      "bucket :  (23, 26)\n",
      "bucket :  (26, 29)\n",
      "bucket :  (29, 32)\n",
      "bucket :  (32, 35)\n",
      "bucket :  (35, 38)\n",
      "bucket :  (38, 41)\n"
     ]
    },
    {
     "name": "stderr",
     "output_type": "stream",
     "text": [
      " 70%|███████   | 14/20 [37:16<14:44, 147.39s/it]"
     ]
    },
    {
     "name": "stdout",
     "output_type": "stream",
     "text": [
      "{'bucketing': 2, 'encoding': 'index', 'drop_act': 2, 'models': 'LightGBM', 'LightGBM': {'max_depth': 9, 'num_leaves': 326, 'min_child_samples': 3}}\n",
      "bucket :  (2, 22)\n",
      "bucket :  (22, 41)\n"
     ]
    },
    {
     "name": "stderr",
     "output_type": "stream",
     "text": [
      " 75%|███████▌  | 15/20 [39:33<12:01, 144.40s/it]"
     ]
    },
    {
     "name": "stdout",
     "output_type": "stream",
     "text": [
      "{'bucketing': 1, 'encoding': 'aggregate', 'drop_act': 4, 'models': 'Decision Tree', 'Random Forest': {'n_estimators': 313, 'max_depth': 6, 'max_features': 'log2', 'bootstrap': True, 'criterion': 'gini'}}\n",
      "bucket :  (2, 40)\n"
     ]
    },
    {
     "name": "stderr",
     "output_type": "stream",
     "text": [
      " 80%|████████  | 16/20 [42:22<10:07, 151.85s/it]"
     ]
    },
    {
     "name": "stdout",
     "output_type": "stream",
     "text": [
      "{'bucketing': 24, 'encoding': 'index', 'drop_act': 2, 'models': 'LightGBM', 'LightGBM': {'max_depth': 9, 'num_leaves': 326, 'min_child_samples': 3}}\n",
      "bucket :  (2, 4)\n",
      "After OverSampling, the shape of train_X: (34594, 12)\n",
      "After OverSampling, the shape of train_y: (34594,) \n",
      "\n",
      "After OverSampling, counts of label '1': 17297\n",
      "After OverSampling, counts of label '0': 17297\n",
      "bucket :  (4, 6)\n",
      "After OverSampling, the shape of train_X: (23634, 24)\n",
      "After OverSampling, the shape of train_y: (23634,) \n",
      "\n",
      "After OverSampling, counts of label '1': 11817\n",
      "After OverSampling, counts of label '0': 11817\n",
      "bucket :  (6, 8)\n",
      "bucket :  (8, 10)\n",
      "bucket :  (10, 12)\n",
      "bucket :  (12, 14)\n",
      "bucket :  (14, 16)\n",
      "bucket :  (16, 18)\n",
      "bucket :  (18, 20)\n",
      "bucket :  (20, 22)\n",
      "bucket :  (22, 24)\n",
      "bucket :  (24, 26)\n",
      "bucket :  (26, 28)\n",
      "bucket :  (28, 30)\n",
      "bucket :  (30, 32)\n",
      "bucket :  (32, 33)\n",
      "bucket :  (33, 34)\n",
      "bucket :  (34, 35)\n",
      "bucket :  (35, 36)\n",
      "bucket :  (36, 37)\n",
      "bucket :  (37, 38)\n",
      "bucket :  (38, 39)\n",
      "bucket :  (39, 40)\n",
      "bucket :  (40, 41)\n"
     ]
    },
    {
     "name": "stderr",
     "output_type": "stream",
     "text": [
      " 85%|████████▌ | 17/20 [44:39<07:21, 147.22s/it]"
     ]
    },
    {
     "name": "stdout",
     "output_type": "stream",
     "text": [
      "{'bucketing': 34, 'encoding': 'index', 'drop_act': 6, 'models': 'Decision Tree', 'Decision Tree': {'max_depth': 11, 'min_samples_leaf': 77, 'criterion': 'gini'}}\n",
      "bucket :  (2, 4)\n",
      "After OverSampling, the shape of train_X: (34594, 11)\n",
      "After OverSampling, the shape of train_y: (34594,) \n",
      "\n",
      "After OverSampling, counts of label '1': 17297\n",
      "After OverSampling, counts of label '0': 17297\n",
      "bucket :  (4, 6)\n",
      "After OverSampling, the shape of train_X: (23472, 19)\n",
      "After OverSampling, the shape of train_y: (23472,) \n",
      "\n",
      "After OverSampling, counts of label '1': 11736\n",
      "After OverSampling, counts of label '0': 11736\n",
      "bucket :  (6, 8)\n",
      "bucket :  (8, 10)\n",
      "bucket :  (10, 12)\n",
      "bucket :  (12, 13)\n",
      "bucket :  (13, 14)\n",
      "bucket :  (14, 15)\n",
      "bucket :  (15, 16)\n",
      "bucket :  (16, 17)\n",
      "bucket :  (17, 18)\n",
      "bucket :  (18, 19)\n",
      "bucket :  (19, 20)\n",
      "bucket :  (20, 21)\n",
      "bucket :  (21, 22)\n",
      "bucket :  (22, 23)\n",
      "bucket :  (23, 24)\n",
      "bucket :  (24, 25)\n",
      "bucket :  (25, 26)\n",
      "bucket :  (26, 27)\n",
      "bucket :  (27, 28)\n",
      "bucket :  (28, 29)\n",
      "bucket :  (29, 30)\n",
      "bucket :  (30, 31)\n",
      "bucket :  (31, 32)\n",
      "bucket :  (32, 33)\n",
      "bucket :  (33, 34)\n",
      "bucket :  (34, 35)\n",
      "bucket :  (35, 36)\n",
      "bucket :  (36, 37)\n",
      "bucket :  (37, 38)\n",
      "bucket :  (38, 39)\n",
      "bucket :  (39, 40)\n",
      "bucket :  (40, 41)\n"
     ]
    },
    {
     "name": "stderr",
     "output_type": "stream",
     "text": [
      " 90%|█████████ | 18/20 [46:52<04:46, 143.01s/it]"
     ]
    },
    {
     "name": "stdout",
     "output_type": "stream",
     "text": [
      "{'bucketing': 25, 'encoding': 'aggregate', 'drop_act': 2, 'models': 'Random Forest', 'LightGBM': {'max_depth': 18, 'num_leaves': 377, 'min_child_samples': 6}}\n",
      "bucket :  (2, 4)\n",
      "After OverSampling, the shape of train_X: (34594, 9)\n",
      "After OverSampling, the shape of train_y: (34594,) \n",
      "\n",
      "After OverSampling, counts of label '1': 17297\n",
      "After OverSampling, counts of label '0': 17297\n",
      "bucket :  (4, 6)\n",
      "After OverSampling, the shape of train_X: (23634, 15)\n",
      "After OverSampling, the shape of train_y: (23634,) \n",
      "\n",
      "After OverSampling, counts of label '1': 11817\n",
      "After OverSampling, counts of label '0': 11817\n",
      "bucket :  (6, 8)\n",
      "bucket :  (8, 10)\n",
      "bucket :  (10, 12)\n",
      "bucket :  (12, 14)\n",
      "bucket :  (14, 16)\n",
      "bucket :  (16, 18)\n",
      "bucket :  (18, 20)\n",
      "bucket :  (20, 22)\n",
      "bucket :  (22, 24)\n",
      "bucket :  (24, 26)\n",
      "bucket :  (26, 28)\n",
      "bucket :  (28, 30)\n",
      "bucket :  (30, 31)\n",
      "bucket :  (31, 32)\n",
      "bucket :  (32, 33)\n",
      "bucket :  (33, 34)\n",
      "bucket :  (34, 35)\n",
      "bucket :  (35, 36)\n",
      "bucket :  (36, 37)\n",
      "bucket :  (37, 38)\n",
      "bucket :  (38, 39)\n",
      "bucket :  (39, 40)\n",
      "bucket :  (40, 41)\n"
     ]
    },
    {
     "name": "stderr",
     "output_type": "stream",
     "text": [
      " 95%|█████████▌| 19/20 [50:02<02:37, 157.14s/it]"
     ]
    },
    {
     "name": "stdout",
     "output_type": "stream",
     "text": [
      "{'bucketing': 33, 'encoding': 'index', 'drop_act': 8, 'models': 'Random Forest', 'Random Forest': {'n_estimators': 313, 'max_depth': 6, 'max_features': 'log2', 'bootstrap': True, 'criterion': 'gini'}}\n",
      "bucket :  (2, 4)\n",
      "After OverSampling, the shape of train_X: (34594, 11)\n",
      "After OverSampling, the shape of train_y: (34594,) \n",
      "\n",
      "After OverSampling, counts of label '1': 17297\n",
      "After OverSampling, counts of label '0': 17297\n",
      "bucket :  (4, 6)\n",
      "After OverSampling, the shape of train_X: (23472, 19)\n",
      "After OverSampling, the shape of train_y: (23472,) \n",
      "\n",
      "After OverSampling, counts of label '1': 11736\n",
      "After OverSampling, counts of label '0': 11736\n",
      "bucket :  (6, 8)\n",
      "bucket :  (8, 10)\n",
      "bucket :  (10, 12)\n",
      "bucket :  (12, 14)\n",
      "bucket :  (14, 15)\n",
      "bucket :  (15, 16)\n",
      "bucket :  (16, 17)\n",
      "bucket :  (17, 18)\n",
      "bucket :  (18, 19)\n",
      "bucket :  (19, 20)\n",
      "bucket :  (20, 21)\n",
      "bucket :  (21, 22)\n",
      "bucket :  (22, 23)\n",
      "bucket :  (23, 24)\n",
      "bucket :  (24, 25)\n",
      "bucket :  (25, 26)\n",
      "bucket :  (26, 27)\n",
      "bucket :  (27, 28)\n",
      "bucket :  (28, 29)\n",
      "bucket :  (29, 30)\n",
      "bucket :  (30, 31)\n",
      "bucket :  (31, 32)\n",
      "bucket :  (32, 33)\n",
      "bucket :  (33, 34)\n",
      "bucket :  (34, 35)\n",
      "bucket :  (35, 36)\n",
      "bucket :  (36, 37)\n",
      "bucket :  (37, 38)\n",
      "bucket :  (38, 39)\n",
      "bucket :  (39, 40)\n",
      "bucket :  (40, 41)\n"
     ]
    },
    {
     "name": "stderr",
     "output_type": "stream",
     "text": [
      "100%|██████████| 20/20 [52:36<00:00, 157.83s/it]\n",
      "  0%|          | 0/20 [00:00<?, ?it/s]"
     ]
    },
    {
     "name": "stdout",
     "output_type": "stream",
     "text": [
      "{'bucketing': 24, 'encoding': 'index', 'drop_act': 2, 'models': 'LightGBM', 'LightGBM': {'max_depth': 9, 'num_leaves': 326, 'min_child_samples': 3}}\n",
      "bucket :  (2, 4)\n",
      "After OverSampling, the shape of train_X: (34594, 12)\n",
      "After OverSampling, the shape of train_y: (34594,) \n",
      "\n",
      "After OverSampling, counts of label '1': 17297\n",
      "After OverSampling, counts of label '0': 17297\n",
      "bucket :  (4, 6)\n",
      "After OverSampling, the shape of train_X: (23634, 24)\n",
      "After OverSampling, the shape of train_y: (23634,) \n",
      "\n",
      "After OverSampling, counts of label '1': 11817\n",
      "After OverSampling, counts of label '0': 11817\n",
      "bucket :  (6, 8)\n",
      "bucket :  (8, 10)\n",
      "bucket :  (10, 12)\n",
      "bucket :  (12, 14)\n",
      "bucket :  (14, 16)\n",
      "bucket :  (16, 18)\n",
      "bucket :  (18, 20)\n",
      "bucket :  (20, 22)\n",
      "bucket :  (22, 24)\n",
      "bucket :  (24, 26)\n",
      "bucket :  (26, 28)\n",
      "bucket :  (28, 30)\n",
      "bucket :  (30, 32)\n",
      "bucket :  (32, 33)\n",
      "bucket :  (33, 34)\n",
      "bucket :  (34, 35)\n",
      "bucket :  (35, 36)\n",
      "bucket :  (36, 37)\n",
      "bucket :  (37, 38)\n",
      "bucket :  (38, 39)\n",
      "bucket :  (39, 40)\n",
      "bucket :  (40, 41)\n"
     ]
    },
    {
     "name": "stderr",
     "output_type": "stream",
     "text": [
      "  5%|▌         | 1/20 [02:16<43:04, 136.00s/it]"
     ]
    },
    {
     "name": "stdout",
     "output_type": "stream",
     "text": [
      "{'bucketing': 10, 'encoding': 'index', 'drop_act': 8, 'models': 'LightGBM', 'LightGBM': {'max_depth': 18, 'num_leaves': 10, 'min_child_samples': 7}}\n",
      "bucket :  (2, 6)\n",
      "After OverSampling, the shape of train_X: (58864, 20)\n",
      "After OverSampling, the shape of train_y: (58864,) \n",
      "\n",
      "After OverSampling, counts of label '1': 29432\n",
      "After OverSampling, counts of label '0': 29432\n",
      "bucket :  (6, 10)\n",
      "bucket :  (10, 14)\n",
      "bucket :  (14, 18)\n",
      "bucket :  (18, 22)\n",
      "bucket :  (22, 26)\n",
      "bucket :  (26, 30)\n",
      "bucket :  (30, 34)\n",
      "bucket :  (34, 38)\n",
      "bucket :  (38, 41)\n"
     ]
    },
    {
     "name": "stderr",
     "output_type": "stream",
     "text": [
      " 10%|█         | 2/20 [04:26<39:52, 132.92s/it]"
     ]
    },
    {
     "name": "stdout",
     "output_type": "stream",
     "text": [
      "{'bucketing': 12, 'encoding': 'index', 'drop_act': 2, 'models': 'Decision Tree', 'Decision Tree': {'max_depth': 11, 'min_samples_leaf': 77, 'criterion': 'gini'}}\n",
      "bucket :  (2, 6)\n",
      "After OverSampling, the shape of train_X: (59022, 25)\n",
      "After OverSampling, the shape of train_y: (59022,) \n",
      "\n",
      "After OverSampling, counts of label '1': 29511\n",
      "After OverSampling, counts of label '0': 29511\n",
      "bucket :  (6, 10)\n",
      "bucket :  (10, 14)\n",
      "bucket :  (14, 17)\n",
      "bucket :  (17, 20)\n",
      "bucket :  (20, 23)\n",
      "bucket :  (23, 26)\n",
      "bucket :  (26, 29)\n",
      "bucket :  (29, 32)\n",
      "bucket :  (32, 35)\n",
      "bucket :  (35, 38)\n",
      "bucket :  (38, 41)\n"
     ]
    },
    {
     "name": "stderr",
     "output_type": "stream",
     "text": [
      " 15%|█▌        | 3/20 [06:43<38:06, 134.52s/it]"
     ]
    },
    {
     "name": "stdout",
     "output_type": "stream",
     "text": [
      "{'bucketing': 10, 'encoding': 'index', 'drop_act': 2, 'models': 'LightGBM', 'LightGBM': {'max_depth': 9, 'num_leaves': 326, 'min_child_samples': 3}}\n",
      "bucket :  (2, 6)\n",
      "After OverSampling, the shape of train_X: (59022, 25)\n",
      "After OverSampling, the shape of train_y: (59022,) \n",
      "\n",
      "After OverSampling, counts of label '1': 29511\n",
      "After OverSampling, counts of label '0': 29511\n",
      "bucket :  (6, 10)\n",
      "bucket :  (10, 14)\n",
      "bucket :  (14, 18)\n",
      "bucket :  (18, 22)\n",
      "bucket :  (22, 26)\n",
      "bucket :  (26, 30)\n",
      "bucket :  (30, 34)\n",
      "bucket :  (34, 38)\n",
      "bucket :  (38, 41)\n"
     ]
    },
    {
     "name": "stderr",
     "output_type": "stream",
     "text": [
      " 20%|██        | 4/20 [08:58<35:55, 134.72s/it]"
     ]
    },
    {
     "name": "stdout",
     "output_type": "stream",
     "text": [
      "{'bucketing': 21, 'encoding': 'aggregate', 'drop_act': 2, 'models': 'Xgboost', 'Random Forest': {'n_estimators': 313, 'max_depth': 6, 'max_features': 'log2', 'bootstrap': True, 'criterion': 'gini'}}\n",
      "bucket :  (2, 4)\n",
      "After OverSampling, the shape of train_X: (34594, 9)\n",
      "After OverSampling, the shape of train_y: (34594,) \n",
      "\n",
      "After OverSampling, counts of label '1': 17297\n",
      "After OverSampling, counts of label '0': 17297\n",
      "bucket :  (4, 6)\n",
      "After OverSampling, the shape of train_X: (23634, 15)\n",
      "After OverSampling, the shape of train_y: (23634,) \n",
      "\n",
      "After OverSampling, counts of label '1': 11817\n",
      "After OverSampling, counts of label '0': 11817\n",
      "bucket :  (6, 8)\n",
      "bucket :  (8, 10)\n",
      "bucket :  (10, 12)\n",
      "bucket :  (12, 14)\n",
      "bucket :  (14, 16)\n",
      "bucket :  (16, 18)\n",
      "bucket :  (18, 20)\n",
      "bucket :  (20, 22)\n",
      "bucket :  (22, 24)\n",
      "bucket :  (24, 26)\n",
      "bucket :  (26, 28)\n",
      "bucket :  (28, 30)\n",
      "bucket :  (30, 32)\n",
      "bucket :  (32, 34)\n",
      "bucket :  (34, 36)\n",
      "bucket :  (36, 38)\n",
      "bucket :  (38, 39)\n",
      "bucket :  (39, 40)\n",
      "bucket :  (40, 41)\n"
     ]
    },
    {
     "name": "stderr",
     "output_type": "stream",
     "text": [
      " 25%|██▌       | 5/20 [11:56<37:37, 150.48s/it]"
     ]
    },
    {
     "name": "stdout",
     "output_type": "stream",
     "text": [
      "{'bucketing': 36, 'encoding': 'aggregate', 'drop_act': 8, 'models': 'Random Forest', 'Random Forest': {'n_estimators': 313, 'max_depth': 6, 'max_features': 'log2', 'bootstrap': True, 'criterion': 'gini'}}\n",
      "bucket :  (2, 4)\n",
      "After OverSampling, the shape of train_X: (34594, 8)\n",
      "After OverSampling, the shape of train_y: (34594,) \n",
      "\n",
      "After OverSampling, counts of label '1': 17297\n",
      "After OverSampling, counts of label '0': 17297\n",
      "bucket :  (4, 6)\n",
      "After OverSampling, the shape of train_X: (23472, 13)\n",
      "After OverSampling, the shape of train_y: (23472,) \n",
      "\n",
      "After OverSampling, counts of label '1': 11736\n",
      "After OverSampling, counts of label '0': 11736\n",
      "bucket :  (6, 8)\n",
      "bucket :  (8, 9)\n",
      "bucket :  (9, 10)\n",
      "bucket :  (10, 11)\n",
      "bucket :  (11, 12)\n",
      "bucket :  (12, 13)\n",
      "bucket :  (13, 14)\n",
      "bucket :  (14, 15)\n",
      "bucket :  (15, 16)\n",
      "bucket :  (16, 17)\n",
      "bucket :  (17, 18)\n",
      "bucket :  (18, 19)\n",
      "bucket :  (19, 20)\n",
      "bucket :  (20, 21)\n",
      "bucket :  (21, 22)\n",
      "bucket :  (22, 23)\n",
      "bucket :  (23, 24)\n",
      "bucket :  (24, 25)\n",
      "bucket :  (25, 26)\n",
      "bucket :  (26, 27)\n",
      "bucket :  (27, 28)\n",
      "bucket :  (28, 29)\n",
      "bucket :  (29, 30)\n",
      "bucket :  (30, 31)\n",
      "bucket :  (31, 32)\n",
      "bucket :  (32, 33)\n",
      "bucket :  (33, 34)\n",
      "bucket :  (34, 35)\n",
      "bucket :  (35, 36)\n",
      "bucket :  (36, 37)\n",
      "bucket :  (37, 38)\n",
      "bucket :  (38, 39)\n",
      "bucket :  (39, 40)\n",
      "bucket :  (40, 41)\n"
     ]
    },
    {
     "name": "stderr",
     "output_type": "stream",
     "text": [
      " 30%|███       | 6/20 [15:02<37:57, 162.66s/it]"
     ]
    },
    {
     "name": "stdout",
     "output_type": "stream",
     "text": [
      "{'bucketing': 12, 'encoding': 'index', 'drop_act': 2, 'models': 'Decision Tree', 'Decision Tree': {'max_depth': 11, 'min_samples_leaf': 77, 'criterion': 'gini'}}\n",
      "bucket :  (2, 6)\n",
      "After OverSampling, the shape of train_X: (59022, 25)\n",
      "After OverSampling, the shape of train_y: (59022,) \n",
      "\n",
      "After OverSampling, counts of label '1': 29511\n",
      "After OverSampling, counts of label '0': 29511\n",
      "bucket :  (6, 10)\n",
      "bucket :  (10, 14)\n",
      "bucket :  (14, 17)\n",
      "bucket :  (17, 20)\n",
      "bucket :  (20, 23)\n",
      "bucket :  (23, 26)\n",
      "bucket :  (26, 29)\n",
      "bucket :  (29, 32)\n",
      "bucket :  (32, 35)\n",
      "bucket :  (35, 38)\n",
      "bucket :  (38, 41)\n"
     ]
    },
    {
     "name": "stderr",
     "output_type": "stream",
     "text": [
      " 35%|███▌      | 7/20 [17:19<33:22, 154.04s/it]"
     ]
    },
    {
     "name": "stdout",
     "output_type": "stream",
     "text": [
      "{'bucketing': 21, 'encoding': 'index', 'drop_act': 2, 'models': 'Decision Tree', 'Random Forest': {'n_estimators': 148, 'max_depth': 18, 'max_features': 'log2', 'bootstrap': True, 'criterion': 'gini'}}\n",
      "bucket :  (2, 4)\n",
      "After OverSampling, the shape of train_X: (34594, 12)\n",
      "After OverSampling, the shape of train_y: (34594,) \n",
      "\n",
      "After OverSampling, counts of label '1': 17297\n",
      "After OverSampling, counts of label '0': 17297\n",
      "bucket :  (4, 6)\n",
      "After OverSampling, the shape of train_X: (23634, 24)\n",
      "After OverSampling, the shape of train_y: (23634,) \n",
      "\n",
      "After OverSampling, counts of label '1': 11817\n",
      "After OverSampling, counts of label '0': 11817\n",
      "bucket :  (6, 8)\n",
      "bucket :  (8, 10)\n",
      "bucket :  (10, 12)\n",
      "bucket :  (12, 14)\n",
      "bucket :  (14, 16)\n",
      "bucket :  (16, 18)\n",
      "bucket :  (18, 20)\n",
      "bucket :  (20, 22)\n",
      "bucket :  (22, 24)\n",
      "bucket :  (24, 26)\n",
      "bucket :  (26, 28)\n",
      "bucket :  (28, 30)\n",
      "bucket :  (30, 32)\n",
      "bucket :  (32, 34)\n",
      "bucket :  (34, 36)\n",
      "bucket :  (36, 38)\n",
      "bucket :  (38, 39)\n",
      "bucket :  (39, 40)\n",
      "bucket :  (40, 41)\n"
     ]
    },
    {
     "name": "stderr",
     "output_type": "stream",
     "text": [
      " 40%|████      | 8/20 [19:34<29:38, 148.19s/it]"
     ]
    },
    {
     "name": "stdout",
     "output_type": "stream",
     "text": [
      "{'bucketing': 25, 'encoding': 'aggregate', 'drop_act': 2, 'models': 'Random Forest', 'LightGBM': {'max_depth': 18, 'num_leaves': 377, 'min_child_samples': 6}}\n",
      "bucket :  (2, 4)\n",
      "After OverSampling, the shape of train_X: (34594, 9)\n",
      "After OverSampling, the shape of train_y: (34594,) \n",
      "\n",
      "After OverSampling, counts of label '1': 17297\n",
      "After OverSampling, counts of label '0': 17297\n",
      "bucket :  (4, 6)\n",
      "After OverSampling, the shape of train_X: (23634, 15)\n",
      "After OverSampling, the shape of train_y: (23634,) \n",
      "\n",
      "After OverSampling, counts of label '1': 11817\n",
      "After OverSampling, counts of label '0': 11817\n",
      "bucket :  (6, 8)\n",
      "bucket :  (8, 10)\n",
      "bucket :  (10, 12)\n",
      "bucket :  (12, 14)\n",
      "bucket :  (14, 16)\n",
      "bucket :  (16, 18)\n",
      "bucket :  (18, 20)\n",
      "bucket :  (20, 22)\n",
      "bucket :  (22, 24)\n",
      "bucket :  (24, 26)\n",
      "bucket :  (26, 28)\n",
      "bucket :  (28, 30)\n",
      "bucket :  (30, 31)\n",
      "bucket :  (31, 32)\n",
      "bucket :  (32, 33)\n",
      "bucket :  (33, 34)\n",
      "bucket :  (34, 35)\n",
      "bucket :  (35, 36)\n",
      "bucket :  (36, 37)\n",
      "bucket :  (37, 38)\n",
      "bucket :  (38, 39)\n",
      "bucket :  (39, 40)\n",
      "bucket :  (40, 41)\n"
     ]
    },
    {
     "name": "stderr",
     "output_type": "stream",
     "text": [
      " 45%|████▌     | 9/20 [22:45<29:34, 161.33s/it]"
     ]
    },
    {
     "name": "stdout",
     "output_type": "stream",
     "text": [
      "{'bucketing': 21, 'encoding': 'index', 'drop_act': 2, 'models': 'Decision Tree', 'Decision Tree': {'max_depth': 11, 'min_samples_leaf': 77, 'criterion': 'gini'}}\n",
      "bucket :  (2, 4)\n",
      "After OverSampling, the shape of train_X: (34594, 12)\n",
      "After OverSampling, the shape of train_y: (34594,) \n",
      "\n",
      "After OverSampling, counts of label '1': 17297\n",
      "After OverSampling, counts of label '0': 17297\n",
      "bucket :  (4, 6)\n",
      "After OverSampling, the shape of train_X: (23634, 24)\n",
      "After OverSampling, the shape of train_y: (23634,) \n",
      "\n",
      "After OverSampling, counts of label '1': 11817\n",
      "After OverSampling, counts of label '0': 11817\n",
      "bucket :  (6, 8)\n",
      "bucket :  (8, 10)\n",
      "bucket :  (10, 12)\n",
      "bucket :  (12, 14)\n",
      "bucket :  (14, 16)\n",
      "bucket :  (16, 18)\n",
      "bucket :  (18, 20)\n",
      "bucket :  (20, 22)\n",
      "bucket :  (22, 24)\n",
      "bucket :  (24, 26)\n",
      "bucket :  (26, 28)\n",
      "bucket :  (28, 30)\n",
      "bucket :  (30, 32)\n",
      "bucket :  (32, 34)\n",
      "bucket :  (34, 36)\n",
      "bucket :  (36, 38)\n",
      "bucket :  (38, 39)\n",
      "bucket :  (39, 40)\n",
      "bucket :  (40, 41)\n"
     ]
    },
    {
     "name": "stderr",
     "output_type": "stream",
     "text": [
      " 50%|█████     | 10/20 [24:59<25:30, 153.02s/it]"
     ]
    },
    {
     "name": "stdout",
     "output_type": "stream",
     "text": [
      "{'bucketing': 12, 'encoding': 'index', 'drop_act': 2, 'models': 'Decision Tree', 'Decision Tree': {'max_depth': 11, 'min_samples_leaf': 77, 'criterion': 'gini'}}\n",
      "bucket :  (2, 6)\n",
      "After OverSampling, the shape of train_X: (59022, 25)\n",
      "After OverSampling, the shape of train_y: (59022,) \n",
      "\n",
      "After OverSampling, counts of label '1': 29511\n",
      "After OverSampling, counts of label '0': 29511\n",
      "bucket :  (6, 10)\n",
      "bucket :  (10, 14)\n",
      "bucket :  (14, 17)\n",
      "bucket :  (17, 20)\n",
      "bucket :  (20, 23)\n",
      "bucket :  (23, 26)\n",
      "bucket :  (26, 29)\n",
      "bucket :  (29, 32)\n",
      "bucket :  (32, 35)\n",
      "bucket :  (35, 38)\n",
      "bucket :  (38, 41)\n"
     ]
    },
    {
     "name": "stderr",
     "output_type": "stream",
     "text": [
      " 55%|█████▌    | 11/20 [27:14<22:08, 147.61s/it]"
     ]
    },
    {
     "name": "stdout",
     "output_type": "stream",
     "text": [
      "{'bucketing': 2, 'encoding': 'index', 'drop_act': 2, 'models': 'Xgboost', 'Xgboost': {'max_depth': 10, 'n_estimators': 204, 'learning_rate': 0.01}}\n",
      "bucket :  (2, 22)\n",
      "bucket :  (22, 41)\n"
     ]
    },
    {
     "name": "stderr",
     "output_type": "stream",
     "text": [
      " 60%|██████    | 12/20 [30:06<20:39, 154.89s/it]"
     ]
    },
    {
     "name": "stdout",
     "output_type": "stream",
     "text": [
      "{'bucketing': 12, 'encoding': 'index', 'drop_act': 2, 'models': 'Decision Tree', 'Decision Tree': {'max_depth': 11, 'min_samples_leaf': 77, 'criterion': 'gini'}}\n",
      "bucket :  (2, 6)\n",
      "After OverSampling, the shape of train_X: (59022, 25)\n",
      "After OverSampling, the shape of train_y: (59022,) \n",
      "\n",
      "After OverSampling, counts of label '1': 29511\n",
      "After OverSampling, counts of label '0': 29511\n",
      "bucket :  (6, 10)\n",
      "bucket :  (10, 14)\n",
      "bucket :  (14, 17)\n",
      "bucket :  (17, 20)\n",
      "bucket :  (20, 23)\n",
      "bucket :  (23, 26)\n",
      "bucket :  (26, 29)\n",
      "bucket :  (29, 32)\n",
      "bucket :  (32, 35)\n",
      "bucket :  (35, 38)\n",
      "bucket :  (38, 41)\n"
     ]
    },
    {
     "name": "stderr",
     "output_type": "stream",
     "text": [
      " 65%|██████▌   | 13/20 [32:22<17:24, 149.14s/it]"
     ]
    },
    {
     "name": "stdout",
     "output_type": "stream",
     "text": [
      "{'bucketing': 25, 'encoding': 'aggregate', 'drop_act': 2, 'models': 'Random Forest', 'Random Forest': {'n_estimators': 313, 'max_depth': 6, 'max_features': 'log2', 'bootstrap': True, 'criterion': 'gini'}}\n",
      "bucket :  (2, 4)\n",
      "After OverSampling, the shape of train_X: (34594, 9)\n",
      "After OverSampling, the shape of train_y: (34594,) \n",
      "\n",
      "After OverSampling, counts of label '1': 17297\n",
      "After OverSampling, counts of label '0': 17297\n",
      "bucket :  (4, 6)\n",
      "After OverSampling, the shape of train_X: (23634, 15)\n",
      "After OverSampling, the shape of train_y: (23634,) \n",
      "\n",
      "After OverSampling, counts of label '1': 11817\n",
      "After OverSampling, counts of label '0': 11817\n",
      "bucket :  (6, 8)\n",
      "bucket :  (8, 10)\n",
      "bucket :  (10, 12)\n",
      "bucket :  (12, 14)\n",
      "bucket :  (14, 16)\n",
      "bucket :  (16, 18)\n",
      "bucket :  (18, 20)\n",
      "bucket :  (20, 22)\n",
      "bucket :  (22, 24)\n",
      "bucket :  (24, 26)\n",
      "bucket :  (26, 28)\n",
      "bucket :  (28, 30)\n",
      "bucket :  (30, 31)\n",
      "bucket :  (31, 32)\n",
      "bucket :  (32, 33)\n",
      "bucket :  (33, 34)\n",
      "bucket :  (34, 35)\n",
      "bucket :  (35, 36)\n",
      "bucket :  (36, 37)\n",
      "bucket :  (37, 38)\n",
      "bucket :  (38, 39)\n",
      "bucket :  (39, 40)\n",
      "bucket :  (40, 41)\n"
     ]
    },
    {
     "name": "stderr",
     "output_type": "stream",
     "text": [
      " 70%|███████   | 14/20 [35:31<16:07, 161.26s/it]"
     ]
    },
    {
     "name": "stdout",
     "output_type": "stream",
     "text": [
      "{'bucketing': 33, 'encoding': 'index', 'drop_act': 8, 'models': 'Random Forest', 'Random Forest': {'n_estimators': 313, 'max_depth': 6, 'max_features': 'log2', 'bootstrap': True, 'criterion': 'gini'}}\n",
      "bucket :  (2, 4)\n",
      "After OverSampling, the shape of train_X: (34594, 11)\n",
      "After OverSampling, the shape of train_y: (34594,) \n",
      "\n",
      "After OverSampling, counts of label '1': 17297\n",
      "After OverSampling, counts of label '0': 17297\n",
      "bucket :  (4, 6)\n",
      "After OverSampling, the shape of train_X: (23472, 19)\n",
      "After OverSampling, the shape of train_y: (23472,) \n",
      "\n",
      "After OverSampling, counts of label '1': 11736\n",
      "After OverSampling, counts of label '0': 11736\n",
      "bucket :  (6, 8)\n",
      "bucket :  (8, 10)\n",
      "bucket :  (10, 12)\n",
      "bucket :  (12, 14)\n",
      "bucket :  (14, 15)\n",
      "bucket :  (15, 16)\n",
      "bucket :  (16, 17)\n",
      "bucket :  (17, 18)\n",
      "bucket :  (18, 19)\n",
      "bucket :  (19, 20)\n",
      "bucket :  (20, 21)\n",
      "bucket :  (21, 22)\n",
      "bucket :  (22, 23)\n",
      "bucket :  (23, 24)\n",
      "bucket :  (24, 25)\n",
      "bucket :  (25, 26)\n",
      "bucket :  (26, 27)\n",
      "bucket :  (27, 28)\n",
      "bucket :  (28, 29)\n",
      "bucket :  (29, 30)\n",
      "bucket :  (30, 31)\n",
      "bucket :  (31, 32)\n",
      "bucket :  (32, 33)\n",
      "bucket :  (33, 34)\n",
      "bucket :  (34, 35)\n",
      "bucket :  (35, 36)\n",
      "bucket :  (36, 37)\n",
      "bucket :  (37, 38)\n",
      "bucket :  (38, 39)\n",
      "bucket :  (39, 40)\n",
      "bucket :  (40, 41)\n"
     ]
    },
    {
     "name": "stderr",
     "output_type": "stream",
     "text": [
      " 75%|███████▌  | 15/20 [38:04<13:14, 158.83s/it]"
     ]
    },
    {
     "name": "stdout",
     "output_type": "stream",
     "text": [
      "{'bucketing': 33, 'encoding': 'index', 'drop_act': 8, 'models': 'LightGBM', 'LightGBM': {'max_depth': 18, 'num_leaves': 10, 'min_child_samples': 7}}\n",
      "bucket :  (2, 4)\n",
      "After OverSampling, the shape of train_X: (34594, 11)\n",
      "After OverSampling, the shape of train_y: (34594,) \n",
      "\n",
      "After OverSampling, counts of label '1': 17297\n",
      "After OverSampling, counts of label '0': 17297\n",
      "bucket :  (4, 6)\n",
      "After OverSampling, the shape of train_X: (23472, 19)\n",
      "After OverSampling, the shape of train_y: (23472,) \n",
      "\n",
      "After OverSampling, counts of label '1': 11736\n",
      "After OverSampling, counts of label '0': 11736\n",
      "bucket :  (6, 8)\n",
      "bucket :  (8, 10)\n",
      "bucket :  (10, 12)\n",
      "bucket :  (12, 14)\n",
      "bucket :  (14, 15)\n",
      "bucket :  (15, 16)\n",
      "bucket :  (16, 17)\n",
      "bucket :  (17, 18)\n",
      "bucket :  (18, 19)\n",
      "bucket :  (19, 20)\n",
      "bucket :  (20, 21)\n",
      "bucket :  (21, 22)\n",
      "bucket :  (22, 23)\n",
      "bucket :  (23, 24)\n",
      "bucket :  (24, 25)\n",
      "bucket :  (25, 26)\n",
      "bucket :  (26, 27)\n",
      "bucket :  (27, 28)\n",
      "bucket :  (28, 29)\n",
      "bucket :  (29, 30)\n",
      "bucket :  (30, 31)\n",
      "bucket :  (31, 32)\n",
      "bucket :  (32, 33)\n",
      "bucket :  (33, 34)\n",
      "bucket :  (34, 35)\n",
      "bucket :  (35, 36)\n",
      "bucket :  (36, 37)\n",
      "bucket :  (37, 38)\n",
      "bucket :  (38, 39)\n",
      "bucket :  (39, 40)\n",
      "bucket :  (40, 41)\n"
     ]
    },
    {
     "name": "stderr",
     "output_type": "stream",
     "text": [
      " 80%|████████  | 16/20 [40:17<10:03, 150.92s/it]"
     ]
    },
    {
     "name": "stdout",
     "output_type": "stream",
     "text": [
      "{'bucketing': 12, 'encoding': 'aggregate', 'drop_act': 2, 'models': 'Decision Tree', 'Decision Tree': {'max_depth': 11, 'min_samples_leaf': 77, 'criterion': 'gini'}}\n",
      "bucket :  (2, 6)\n",
      "After OverSampling, the shape of train_X: (59022, 15)\n",
      "After OverSampling, the shape of train_y: (59022,) \n",
      "\n",
      "After OverSampling, counts of label '1': 29511\n",
      "After OverSampling, counts of label '0': 29511\n",
      "bucket :  (6, 10)\n",
      "bucket :  (10, 14)\n",
      "bucket :  (14, 17)\n",
      "bucket :  (17, 20)\n",
      "bucket :  (20, 23)\n",
      "bucket :  (23, 26)\n",
      "bucket :  (26, 29)\n",
      "bucket :  (29, 32)\n",
      "bucket :  (32, 35)\n",
      "bucket :  (35, 38)\n",
      "bucket :  (38, 41)\n"
     ]
    },
    {
     "name": "stderr",
     "output_type": "stream",
     "text": [
      " 85%|████████▌ | 17/20 [43:08<07:51, 157.15s/it]"
     ]
    },
    {
     "name": "stdout",
     "output_type": "stream",
     "text": [
      "{'bucketing': 12, 'encoding': 'index', 'drop_act': 8, 'models': 'LightGBM', 'LightGBM': {'max_depth': 9, 'num_leaves': 326, 'min_child_samples': 3}}\n",
      "bucket :  (2, 6)\n",
      "After OverSampling, the shape of train_X: (58864, 20)\n",
      "After OverSampling, the shape of train_y: (58864,) \n",
      "\n",
      "After OverSampling, counts of label '1': 29432\n",
      "After OverSampling, counts of label '0': 29432\n",
      "bucket :  (6, 10)\n",
      "bucket :  (10, 14)\n",
      "bucket :  (14, 17)\n",
      "bucket :  (17, 20)\n",
      "bucket :  (20, 23)\n",
      "bucket :  (23, 26)\n",
      "bucket :  (26, 29)\n",
      "bucket :  (29, 32)\n",
      "bucket :  (32, 35)\n",
      "bucket :  (35, 38)\n",
      "bucket :  (38, 41)\n"
     ]
    },
    {
     "name": "stderr",
     "output_type": "stream",
     "text": [
      " 90%|█████████ | 18/20 [45:19<04:58, 149.27s/it]"
     ]
    },
    {
     "name": "stdout",
     "output_type": "stream",
     "text": [
      "{'bucketing': 24, 'encoding': 'index', 'drop_act': 2, 'models': 'LightGBM', 'LightGBM': {'max_depth': 9, 'num_leaves': 326, 'min_child_samples': 3}}\n",
      "bucket :  (2, 4)\n",
      "After OverSampling, the shape of train_X: (34594, 12)\n",
      "After OverSampling, the shape of train_y: (34594,) \n",
      "\n",
      "After OverSampling, counts of label '1': 17297\n",
      "After OverSampling, counts of label '0': 17297\n",
      "bucket :  (4, 6)\n",
      "After OverSampling, the shape of train_X: (23634, 24)\n",
      "After OverSampling, the shape of train_y: (23634,) \n",
      "\n",
      "After OverSampling, counts of label '1': 11817\n",
      "After OverSampling, counts of label '0': 11817\n",
      "bucket :  (6, 8)\n",
      "bucket :  (8, 10)\n",
      "bucket :  (10, 12)\n",
      "bucket :  (12, 14)\n",
      "bucket :  (14, 16)\n",
      "bucket :  (16, 18)\n",
      "bucket :  (18, 20)\n",
      "bucket :  (20, 22)\n",
      "bucket :  (22, 24)\n",
      "bucket :  (24, 26)\n",
      "bucket :  (26, 28)\n",
      "bucket :  (28, 30)\n",
      "bucket :  (30, 32)\n",
      "bucket :  (32, 33)\n",
      "bucket :  (33, 34)\n",
      "bucket :  (34, 35)\n",
      "bucket :  (35, 36)\n",
      "bucket :  (36, 37)\n",
      "bucket :  (37, 38)\n",
      "bucket :  (38, 39)\n",
      "bucket :  (39, 40)\n",
      "bucket :  (40, 41)\n"
     ]
    },
    {
     "name": "stderr",
     "output_type": "stream",
     "text": [
      " 95%|█████████▌| 19/20 [47:35<02:25, 145.29s/it]"
     ]
    },
    {
     "name": "stdout",
     "output_type": "stream",
     "text": [
      "{'bucketing': 12, 'encoding': 'index', 'drop_act': 2, 'models': 'Decision Tree', 'Decision Tree': {'max_depth': 15, 'min_samples_leaf': 29, 'criterion': 'entropy'}}\n",
      "bucket :  (2, 6)\n",
      "After OverSampling, the shape of train_X: (59022, 25)\n",
      "After OverSampling, the shape of train_y: (59022,) \n",
      "\n",
      "After OverSampling, counts of label '1': 29511\n",
      "After OverSampling, counts of label '0': 29511\n",
      "bucket :  (6, 10)\n",
      "bucket :  (10, 14)\n",
      "bucket :  (14, 17)\n",
      "bucket :  (17, 20)\n",
      "bucket :  (20, 23)\n",
      "bucket :  (23, 26)\n",
      "bucket :  (26, 29)\n",
      "bucket :  (29, 32)\n",
      "bucket :  (32, 35)\n",
      "bucket :  (35, 38)\n",
      "bucket :  (38, 41)\n"
     ]
    },
    {
     "name": "stderr",
     "output_type": "stream",
     "text": [
      "100%|██████████| 20/20 [49:51<00:00, 149.58s/it]\n",
      "  0%|          | 0/20 [00:00<?, ?it/s]"
     ]
    },
    {
     "name": "stdout",
     "output_type": "stream",
     "text": [
      "{'bucketing': 21, 'encoding': 'index', 'drop_act': 2, 'models': 'Decision Tree', 'Decision Tree': {'max_depth': 11, 'min_samples_leaf': 77, 'criterion': 'gini'}}\n",
      "bucket :  (2, 4)\n",
      "After OverSampling, the shape of train_X: (34594, 12)\n",
      "After OverSampling, the shape of train_y: (34594,) \n",
      "\n",
      "After OverSampling, counts of label '1': 17297\n",
      "After OverSampling, counts of label '0': 17297\n",
      "bucket :  (4, 6)\n",
      "After OverSampling, the shape of train_X: (23634, 24)\n",
      "After OverSampling, the shape of train_y: (23634,) \n",
      "\n",
      "After OverSampling, counts of label '1': 11817\n",
      "After OverSampling, counts of label '0': 11817\n",
      "bucket :  (6, 8)\n",
      "bucket :  (8, 10)\n",
      "bucket :  (10, 12)\n",
      "bucket :  (12, 14)\n",
      "bucket :  (14, 16)\n",
      "bucket :  (16, 18)\n",
      "bucket :  (18, 20)\n",
      "bucket :  (20, 22)\n",
      "bucket :  (22, 24)\n",
      "bucket :  (24, 26)\n",
      "bucket :  (26, 28)\n",
      "bucket :  (28, 30)\n",
      "bucket :  (30, 32)\n",
      "bucket :  (32, 34)\n",
      "bucket :  (34, 36)\n",
      "bucket :  (36, 38)\n",
      "bucket :  (38, 39)\n",
      "bucket :  (39, 40)\n",
      "bucket :  (40, 41)\n"
     ]
    },
    {
     "name": "stderr",
     "output_type": "stream",
     "text": [
      "  5%|▌         | 1/20 [02:16<43:06, 136.12s/it]"
     ]
    },
    {
     "name": "stdout",
     "output_type": "stream",
     "text": [
      "{'bucketing': 21, 'encoding': 'aggregate', 'drop_act': 2, 'models': 'Xgboost', 'Random Forest': {'n_estimators': 313, 'max_depth': 6, 'max_features': 'log2', 'bootstrap': True, 'criterion': 'gini'}}\n",
      "bucket :  (2, 4)\n",
      "After OverSampling, the shape of train_X: (34594, 9)\n",
      "After OverSampling, the shape of train_y: (34594,) \n",
      "\n",
      "After OverSampling, counts of label '1': 17297\n",
      "After OverSampling, counts of label '0': 17297\n",
      "bucket :  (4, 6)\n",
      "After OverSampling, the shape of train_X: (23634, 15)\n",
      "After OverSampling, the shape of train_y: (23634,) \n",
      "\n",
      "After OverSampling, counts of label '1': 11817\n",
      "After OverSampling, counts of label '0': 11817\n",
      "bucket :  (6, 8)\n",
      "bucket :  (8, 10)\n",
      "bucket :  (10, 12)\n",
      "bucket :  (12, 14)\n",
      "bucket :  (14, 16)\n",
      "bucket :  (16, 18)\n",
      "bucket :  (18, 20)\n",
      "bucket :  (20, 22)\n",
      "bucket :  (22, 24)\n",
      "bucket :  (24, 26)\n",
      "bucket :  (26, 28)\n",
      "bucket :  (28, 30)\n",
      "bucket :  (30, 32)\n",
      "bucket :  (32, 34)\n",
      "bucket :  (34, 36)\n",
      "bucket :  (36, 38)\n",
      "bucket :  (38, 39)\n",
      "bucket :  (39, 40)\n",
      "bucket :  (40, 41)\n"
     ]
    },
    {
     "name": "stderr",
     "output_type": "stream",
     "text": [
      " 10%|█         | 2/20 [05:15<48:27, 161.50s/it]"
     ]
    },
    {
     "name": "stdout",
     "output_type": "stream",
     "text": [
      "{'bucketing': 21, 'encoding': 'index', 'drop_act': 2, 'models': 'Decision Tree', 'Decision Tree': {'max_depth': 15, 'min_samples_leaf': 29, 'criterion': 'entropy'}}\n",
      "bucket :  (2, 4)\n",
      "After OverSampling, the shape of train_X: (34594, 12)\n",
      "After OverSampling, the shape of train_y: (34594,) \n",
      "\n",
      "After OverSampling, counts of label '1': 17297\n",
      "After OverSampling, counts of label '0': 17297\n",
      "bucket :  (4, 6)\n",
      "After OverSampling, the shape of train_X: (23634, 24)\n",
      "After OverSampling, the shape of train_y: (23634,) \n",
      "\n",
      "After OverSampling, counts of label '1': 11817\n",
      "After OverSampling, counts of label '0': 11817\n",
      "bucket :  (6, 8)\n",
      "bucket :  (8, 10)\n",
      "bucket :  (10, 12)\n",
      "bucket :  (12, 14)\n",
      "bucket :  (14, 16)\n",
      "bucket :  (16, 18)\n",
      "bucket :  (18, 20)\n",
      "bucket :  (20, 22)\n",
      "bucket :  (22, 24)\n",
      "bucket :  (24, 26)\n",
      "bucket :  (26, 28)\n",
      "bucket :  (28, 30)\n",
      "bucket :  (30, 32)\n",
      "bucket :  (32, 34)\n",
      "bucket :  (34, 36)\n",
      "bucket :  (36, 38)\n",
      "bucket :  (38, 39)\n",
      "bucket :  (39, 40)\n",
      "bucket :  (40, 41)\n"
     ]
    },
    {
     "name": "stderr",
     "output_type": "stream",
     "text": [
      " 15%|█▌        | 3/20 [07:31<42:27, 149.83s/it]"
     ]
    },
    {
     "name": "stdout",
     "output_type": "stream",
     "text": [
      "{'bucketing': 33, 'encoding': 'index', 'drop_act': 8, 'models': 'LightGBM', 'LightGBM': {'max_depth': 18, 'num_leaves': 10, 'min_child_samples': 7}}\n",
      "bucket :  (2, 4)\n",
      "After OverSampling, the shape of train_X: (34594, 11)\n",
      "After OverSampling, the shape of train_y: (34594,) \n",
      "\n",
      "After OverSampling, counts of label '1': 17297\n",
      "After OverSampling, counts of label '0': 17297\n",
      "bucket :  (4, 6)\n",
      "After OverSampling, the shape of train_X: (23472, 19)\n",
      "After OverSampling, the shape of train_y: (23472,) \n",
      "\n",
      "After OverSampling, counts of label '1': 11736\n",
      "After OverSampling, counts of label '0': 11736\n",
      "bucket :  (6, 8)\n",
      "bucket :  (8, 10)\n",
      "bucket :  (10, 12)\n",
      "bucket :  (12, 14)\n",
      "bucket :  (14, 15)\n",
      "bucket :  (15, 16)\n",
      "bucket :  (16, 17)\n",
      "bucket :  (17, 18)\n",
      "bucket :  (18, 19)\n",
      "bucket :  (19, 20)\n",
      "bucket :  (20, 21)\n",
      "bucket :  (21, 22)\n",
      "bucket :  (22, 23)\n",
      "bucket :  (23, 24)\n",
      "bucket :  (24, 25)\n",
      "bucket :  (25, 26)\n",
      "bucket :  (26, 27)\n",
      "bucket :  (27, 28)\n",
      "bucket :  (28, 29)\n",
      "bucket :  (29, 30)\n",
      "bucket :  (30, 31)\n",
      "bucket :  (31, 32)\n",
      "bucket :  (32, 33)\n",
      "bucket :  (33, 34)\n",
      "bucket :  (34, 35)\n",
      "bucket :  (35, 36)\n",
      "bucket :  (36, 37)\n",
      "bucket :  (37, 38)\n",
      "bucket :  (38, 39)\n",
      "bucket :  (39, 40)\n",
      "bucket :  (40, 41)\n"
     ]
    },
    {
     "name": "stderr",
     "output_type": "stream",
     "text": [
      " 20%|██        | 4/20 [09:44<38:13, 143.35s/it]"
     ]
    },
    {
     "name": "stdout",
     "output_type": "stream",
     "text": [
      "{'bucketing': 12, 'encoding': 'index', 'drop_act': 2, 'models': 'Decision Tree', 'Decision Tree': {'max_depth': 11, 'min_samples_leaf': 77, 'criterion': 'gini'}}\n",
      "bucket :  (2, 6)\n",
      "After OverSampling, the shape of train_X: (59022, 25)\n",
      "After OverSampling, the shape of train_y: (59022,) \n",
      "\n",
      "After OverSampling, counts of label '1': 29511\n",
      "After OverSampling, counts of label '0': 29511\n",
      "bucket :  (6, 10)\n",
      "bucket :  (10, 14)\n",
      "bucket :  (14, 17)\n",
      "bucket :  (17, 20)\n",
      "bucket :  (20, 23)\n",
      "bucket :  (23, 26)\n",
      "bucket :  (26, 29)\n",
      "bucket :  (29, 32)\n",
      "bucket :  (32, 35)\n",
      "bucket :  (35, 38)\n",
      "bucket :  (38, 41)\n"
     ]
    },
    {
     "name": "stderr",
     "output_type": "stream",
     "text": [
      " 25%|██▌       | 5/20 [11:59<35:06, 140.42s/it]"
     ]
    },
    {
     "name": "stdout",
     "output_type": "stream",
     "text": [
      "{'bucketing': 24, 'encoding': 'index', 'drop_act': 8, 'models': 'LightGBM', 'LightGBM': {'max_depth': 18, 'num_leaves': 10, 'min_child_samples': 7}}\n",
      "bucket :  (2, 4)\n",
      "After OverSampling, the shape of train_X: (34594, 11)\n",
      "After OverSampling, the shape of train_y: (34594,) \n",
      "\n",
      "After OverSampling, counts of label '1': 17297\n",
      "After OverSampling, counts of label '0': 17297\n",
      "bucket :  (4, 6)\n",
      "After OverSampling, the shape of train_X: (23472, 19)\n",
      "After OverSampling, the shape of train_y: (23472,) \n",
      "\n",
      "After OverSampling, counts of label '1': 11736\n",
      "After OverSampling, counts of label '0': 11736\n",
      "bucket :  (6, 8)\n",
      "bucket :  (8, 10)\n",
      "bucket :  (10, 12)\n",
      "bucket :  (12, 14)\n",
      "bucket :  (14, 16)\n",
      "bucket :  (16, 18)\n",
      "bucket :  (18, 20)\n",
      "bucket :  (20, 22)\n",
      "bucket :  (22, 24)\n",
      "bucket :  (24, 26)\n",
      "bucket :  (26, 28)\n",
      "bucket :  (28, 30)\n",
      "bucket :  (30, 32)\n",
      "bucket :  (32, 33)\n",
      "bucket :  (33, 34)\n",
      "bucket :  (34, 35)\n",
      "bucket :  (35, 36)\n",
      "bucket :  (36, 37)\n",
      "bucket :  (37, 38)\n",
      "bucket :  (38, 39)\n",
      "bucket :  (39, 40)\n",
      "bucket :  (40, 41)\n"
     ]
    },
    {
     "name": "stderr",
     "output_type": "stream",
     "text": [
      " 30%|███       | 6/20 [14:11<32:05, 137.54s/it]"
     ]
    },
    {
     "name": "stdout",
     "output_type": "stream",
     "text": [
      "{'bucketing': 12, 'encoding': 'index', 'drop_act': 2, 'models': 'Decision Tree', 'Decision Tree': {'max_depth': 11, 'min_samples_leaf': 77, 'criterion': 'gini'}}\n",
      "bucket :  (2, 6)\n",
      "After OverSampling, the shape of train_X: (59022, 25)\n",
      "After OverSampling, the shape of train_y: (59022,) \n",
      "\n",
      "After OverSampling, counts of label '1': 29511\n",
      "After OverSampling, counts of label '0': 29511\n",
      "bucket :  (6, 10)\n",
      "bucket :  (10, 14)\n",
      "bucket :  (14, 17)\n",
      "bucket :  (17, 20)\n",
      "bucket :  (20, 23)\n",
      "bucket :  (23, 26)\n",
      "bucket :  (26, 29)\n",
      "bucket :  (29, 32)\n",
      "bucket :  (32, 35)\n",
      "bucket :  (35, 38)\n",
      "bucket :  (38, 41)\n"
     ]
    },
    {
     "name": "stderr",
     "output_type": "stream",
     "text": [
      " 35%|███▌      | 7/20 [16:27<29:40, 136.97s/it]"
     ]
    },
    {
     "name": "stdout",
     "output_type": "stream",
     "text": [
      "{'bucketing': 12, 'encoding': 'index', 'drop_act': 8, 'models': 'LightGBM', 'LightGBM': {'max_depth': 9, 'num_leaves': 326, 'min_child_samples': 3}}\n",
      "bucket :  (2, 6)\n",
      "After OverSampling, the shape of train_X: (58864, 20)\n",
      "After OverSampling, the shape of train_y: (58864,) \n",
      "\n",
      "After OverSampling, counts of label '1': 29432\n",
      "After OverSampling, counts of label '0': 29432\n",
      "bucket :  (6, 10)\n",
      "bucket :  (10, 14)\n",
      "bucket :  (14, 17)\n",
      "bucket :  (17, 20)\n",
      "bucket :  (20, 23)\n",
      "bucket :  (23, 26)\n",
      "bucket :  (26, 29)\n",
      "bucket :  (29, 32)\n",
      "bucket :  (32, 35)\n",
      "bucket :  (35, 38)\n",
      "bucket :  (38, 41)\n"
     ]
    },
    {
     "name": "stderr",
     "output_type": "stream",
     "text": [
      " 40%|████      | 8/20 [18:38<26:58, 134.88s/it]"
     ]
    },
    {
     "name": "stdout",
     "output_type": "stream",
     "text": [
      "{'bucketing': 12, 'encoding': 'aggregate', 'drop_act': 2, 'models': 'Decision Tree', 'Random Forest': {'n_estimators': 313, 'max_depth': 6, 'max_features': 'log2', 'bootstrap': True, 'criterion': 'gini'}}\n",
      "bucket :  (2, 6)\n",
      "After OverSampling, the shape of train_X: (59022, 15)\n",
      "After OverSampling, the shape of train_y: (59022,) \n",
      "\n",
      "After OverSampling, counts of label '1': 29511\n",
      "After OverSampling, counts of label '0': 29511\n",
      "bucket :  (6, 10)\n",
      "bucket :  (10, 14)\n",
      "bucket :  (14, 17)\n",
      "bucket :  (17, 20)\n",
      "bucket :  (20, 23)\n",
      "bucket :  (23, 26)\n",
      "bucket :  (26, 29)\n",
      "bucket :  (29, 32)\n",
      "bucket :  (32, 35)\n",
      "bucket :  (35, 38)\n",
      "bucket :  (38, 41)\n"
     ]
    },
    {
     "name": "stderr",
     "output_type": "stream",
     "text": [
      " 45%|████▌     | 9/20 [21:29<26:48, 146.27s/it]"
     ]
    },
    {
     "name": "stdout",
     "output_type": "stream",
     "text": [
      "{'bucketing': 12, 'encoding': 'aggregate', 'drop_act': 2, 'models': 'Decision Tree', 'Decision Tree': {'max_depth': 11, 'min_samples_leaf': 77, 'criterion': 'gini'}}\n",
      "bucket :  (2, 6)\n",
      "After OverSampling, the shape of train_X: (59022, 15)\n",
      "After OverSampling, the shape of train_y: (59022,) \n",
      "\n",
      "After OverSampling, counts of label '1': 29511\n",
      "After OverSampling, counts of label '0': 29511\n",
      "bucket :  (6, 10)\n",
      "bucket :  (10, 14)\n",
      "bucket :  (14, 17)\n",
      "bucket :  (17, 20)\n",
      "bucket :  (20, 23)\n",
      "bucket :  (23, 26)\n",
      "bucket :  (26, 29)\n",
      "bucket :  (29, 32)\n",
      "bucket :  (32, 35)\n",
      "bucket :  (35, 38)\n",
      "bucket :  (38, 41)\n"
     ]
    },
    {
     "name": "stderr",
     "output_type": "stream",
     "text": [
      " 50%|█████     | 10/20 [24:21<25:41, 154.14s/it]"
     ]
    },
    {
     "name": "stdout",
     "output_type": "stream",
     "text": [
      "{'bucketing': 12, 'encoding': 'index', 'drop_act': 2, 'models': 'Decision Tree', 'Decision Tree': {'max_depth': 11, 'min_samples_leaf': 77, 'criterion': 'gini'}}\n",
      "bucket :  (2, 6)\n",
      "After OverSampling, the shape of train_X: (59022, 25)\n",
      "After OverSampling, the shape of train_y: (59022,) \n",
      "\n",
      "After OverSampling, counts of label '1': 29511\n",
      "After OverSampling, counts of label '0': 29511\n",
      "bucket :  (6, 10)\n",
      "bucket :  (10, 14)\n",
      "bucket :  (14, 17)\n",
      "bucket :  (17, 20)\n",
      "bucket :  (20, 23)\n",
      "bucket :  (23, 26)\n",
      "bucket :  (26, 29)\n",
      "bucket :  (29, 32)\n",
      "bucket :  (32, 35)\n",
      "bucket :  (35, 38)\n",
      "bucket :  (38, 41)\n"
     ]
    },
    {
     "name": "stderr",
     "output_type": "stream",
     "text": [
      " 55%|█████▌    | 11/20 [26:36<22:16, 148.47s/it]"
     ]
    },
    {
     "name": "stdout",
     "output_type": "stream",
     "text": [
      "{'bucketing': 12, 'encoding': 'index', 'drop_act': 2, 'models': 'Decision Tree', 'Random Forest': {'n_estimators': 148, 'max_depth': 18, 'max_features': 'log2', 'bootstrap': True, 'criterion': 'gini'}}\n",
      "bucket :  (2, 6)\n",
      "After OverSampling, the shape of train_X: (59022, 25)\n",
      "After OverSampling, the shape of train_y: (59022,) \n",
      "\n",
      "After OverSampling, counts of label '1': 29511\n",
      "After OverSampling, counts of label '0': 29511\n",
      "bucket :  (6, 10)\n",
      "bucket :  (10, 14)\n",
      "bucket :  (14, 17)\n",
      "bucket :  (17, 20)\n",
      "bucket :  (20, 23)\n",
      "bucket :  (23, 26)\n",
      "bucket :  (26, 29)\n",
      "bucket :  (29, 32)\n",
      "bucket :  (32, 35)\n",
      "bucket :  (35, 38)\n",
      "bucket :  (38, 41)\n"
     ]
    },
    {
     "name": "stderr",
     "output_type": "stream",
     "text": [
      " 60%|██████    | 12/20 [28:52<19:15, 144.43s/it]"
     ]
    },
    {
     "name": "stdout",
     "output_type": "stream",
     "text": [
      "{'bucketing': 12, 'encoding': 'index', 'drop_act': 8, 'models': 'LightGBM', 'LightGBM': {'max_depth': 18, 'num_leaves': 10, 'min_child_samples': 7}}\n",
      "bucket :  (2, 6)\n",
      "After OverSampling, the shape of train_X: (58864, 20)\n",
      "After OverSampling, the shape of train_y: (58864,) \n",
      "\n",
      "After OverSampling, counts of label '1': 29432\n",
      "After OverSampling, counts of label '0': 29432\n",
      "bucket :  (6, 10)\n",
      "bucket :  (10, 14)\n",
      "bucket :  (14, 17)\n",
      "bucket :  (17, 20)\n",
      "bucket :  (20, 23)\n",
      "bucket :  (23, 26)\n",
      "bucket :  (26, 29)\n",
      "bucket :  (29, 32)\n",
      "bucket :  (32, 35)\n",
      "bucket :  (35, 38)\n",
      "bucket :  (38, 41)\n"
     ]
    },
    {
     "name": "stderr",
     "output_type": "stream",
     "text": [
      " 65%|██████▌   | 13/20 [31:02<16:21, 140.21s/it]"
     ]
    },
    {
     "name": "stdout",
     "output_type": "stream",
     "text": [
      "{'bucketing': 12, 'encoding': 'index', 'drop_act': 2, 'models': 'Decision Tree', 'Decision Tree': {'max_depth': 11, 'min_samples_leaf': 77, 'criterion': 'gini'}}\n",
      "bucket :  (2, 6)\n",
      "After OverSampling, the shape of train_X: (59022, 25)\n",
      "After OverSampling, the shape of train_y: (59022,) \n",
      "\n",
      "After OverSampling, counts of label '1': 29511\n",
      "After OverSampling, counts of label '0': 29511\n",
      "bucket :  (6, 10)\n",
      "bucket :  (10, 14)\n",
      "bucket :  (14, 17)\n",
      "bucket :  (17, 20)\n",
      "bucket :  (20, 23)\n",
      "bucket :  (23, 26)\n",
      "bucket :  (26, 29)\n",
      "bucket :  (29, 32)\n",
      "bucket :  (32, 35)\n",
      "bucket :  (35, 38)\n",
      "bucket :  (38, 41)\n"
     ]
    },
    {
     "name": "stderr",
     "output_type": "stream",
     "text": [
      " 70%|███████   | 14/20 [33:17<13:52, 138.75s/it]"
     ]
    },
    {
     "name": "stdout",
     "output_type": "stream",
     "text": [
      "{'bucketing': 12, 'encoding': 'index', 'drop_act': 2, 'models': 'Xgboost', 'Xgboost': {'max_depth': 10, 'n_estimators': 204, 'learning_rate': 0.01}}\n",
      "bucket :  (2, 6)\n",
      "After OverSampling, the shape of train_X: (59022, 25)\n",
      "After OverSampling, the shape of train_y: (59022,) \n",
      "\n",
      "After OverSampling, counts of label '1': 29511\n",
      "After OverSampling, counts of label '0': 29511\n",
      "bucket :  (6, 10)\n",
      "bucket :  (10, 14)\n",
      "bucket :  (14, 17)\n",
      "bucket :  (17, 20)\n",
      "bucket :  (20, 23)\n",
      "bucket :  (23, 26)\n",
      "bucket :  (26, 29)\n",
      "bucket :  (29, 32)\n",
      "bucket :  (32, 35)\n",
      "bucket :  (35, 38)\n",
      "bucket :  (38, 41)\n"
     ]
    },
    {
     "name": "stderr",
     "output_type": "stream",
     "text": [
      " 75%|███████▌  | 15/20 [35:51<11:55, 143.15s/it]"
     ]
    },
    {
     "name": "stdout",
     "output_type": "stream",
     "text": [
      "{'bucketing': 12, 'encoding': 'index', 'drop_act': 2, 'models': 'Decision Tree', 'Decision Tree': {'max_depth': 11, 'min_samples_leaf': 77, 'criterion': 'gini'}}\n",
      "bucket :  (2, 6)\n",
      "After OverSampling, the shape of train_X: (59022, 25)\n",
      "After OverSampling, the shape of train_y: (59022,) \n",
      "\n",
      "After OverSampling, counts of label '1': 29511\n",
      "After OverSampling, counts of label '0': 29511\n",
      "bucket :  (6, 10)\n",
      "bucket :  (10, 14)\n",
      "bucket :  (14, 17)\n",
      "bucket :  (17, 20)\n",
      "bucket :  (20, 23)\n",
      "bucket :  (23, 26)\n",
      "bucket :  (26, 29)\n",
      "bucket :  (29, 32)\n",
      "bucket :  (32, 35)\n",
      "bucket :  (35, 38)\n",
      "bucket :  (38, 41)\n"
     ]
    },
    {
     "name": "stderr",
     "output_type": "stream",
     "text": [
      " 80%|████████  | 16/20 [38:06<09:23, 140.85s/it]"
     ]
    },
    {
     "name": "stdout",
     "output_type": "stream",
     "text": [
      "{'bucketing': 12, 'encoding': 'index', 'drop_act': 8, 'models': 'LightGBM', 'LightGBM': {'max_depth': 9, 'num_leaves': 326, 'min_child_samples': 3}}\n",
      "bucket :  (2, 6)\n",
      "After OverSampling, the shape of train_X: (58864, 20)\n",
      "After OverSampling, the shape of train_y: (58864,) \n",
      "\n",
      "After OverSampling, counts of label '1': 29432\n",
      "After OverSampling, counts of label '0': 29432\n",
      "bucket :  (6, 10)\n",
      "bucket :  (10, 14)\n",
      "bucket :  (14, 17)\n",
      "bucket :  (17, 20)\n",
      "bucket :  (20, 23)\n",
      "bucket :  (23, 26)\n",
      "bucket :  (26, 29)\n",
      "bucket :  (29, 32)\n",
      "bucket :  (32, 35)\n",
      "bucket :  (35, 38)\n",
      "bucket :  (38, 41)\n"
     ]
    },
    {
     "name": "stderr",
     "output_type": "stream",
     "text": [
      " 85%|████████▌ | 17/20 [40:17<06:53, 137.74s/it]"
     ]
    },
    {
     "name": "stdout",
     "output_type": "stream",
     "text": [
      "{'bucketing': 10, 'encoding': 'index', 'drop_act': 2, 'models': 'LightGBM', 'LightGBM': {'max_depth': 9, 'num_leaves': 326, 'min_child_samples': 3}}\n",
      "bucket :  (2, 6)\n",
      "After OverSampling, the shape of train_X: (59022, 25)\n",
      "After OverSampling, the shape of train_y: (59022,) \n",
      "\n",
      "After OverSampling, counts of label '1': 29511\n",
      "After OverSampling, counts of label '0': 29511\n",
      "bucket :  (6, 10)\n",
      "bucket :  (10, 14)\n",
      "bucket :  (14, 18)\n",
      "bucket :  (18, 22)\n",
      "bucket :  (22, 26)\n",
      "bucket :  (26, 30)\n",
      "bucket :  (30, 34)\n",
      "bucket :  (34, 38)\n",
      "bucket :  (38, 41)\n"
     ]
    },
    {
     "name": "stderr",
     "output_type": "stream",
     "text": [
      " 90%|█████████ | 18/20 [42:30<04:32, 136.41s/it]"
     ]
    },
    {
     "name": "stdout",
     "output_type": "stream",
     "text": [
      "{'bucketing': 21, 'encoding': 'index', 'drop_act': 2, 'models': 'Xgboost', 'Xgboost': {'max_depth': 10, 'n_estimators': 204, 'learning_rate': 0.01}}\n",
      "bucket :  (2, 4)\n",
      "After OverSampling, the shape of train_X: (34594, 12)\n",
      "After OverSampling, the shape of train_y: (34594,) \n",
      "\n",
      "After OverSampling, counts of label '1': 17297\n",
      "After OverSampling, counts of label '0': 17297\n",
      "bucket :  (4, 6)\n",
      "After OverSampling, the shape of train_X: (23634, 24)\n",
      "After OverSampling, the shape of train_y: (23634,) \n",
      "\n",
      "After OverSampling, counts of label '1': 11817\n",
      "After OverSampling, counts of label '0': 11817\n",
      "bucket :  (6, 8)\n",
      "bucket :  (8, 10)\n",
      "bucket :  (10, 12)\n",
      "bucket :  (12, 14)\n",
      "bucket :  (14, 16)\n",
      "bucket :  (16, 18)\n",
      "bucket :  (18, 20)\n",
      "bucket :  (20, 22)\n",
      "bucket :  (22, 24)\n",
      "bucket :  (24, 26)\n",
      "bucket :  (26, 28)\n",
      "bucket :  (28, 30)\n",
      "bucket :  (30, 32)\n",
      "bucket :  (32, 34)\n",
      "bucket :  (34, 36)\n",
      "bucket :  (36, 38)\n",
      "bucket :  (38, 39)\n",
      "bucket :  (39, 40)\n",
      "bucket :  (40, 41)\n"
     ]
    },
    {
     "name": "stderr",
     "output_type": "stream",
     "text": [
      " 95%|█████████▌| 19/20 [45:04<02:21, 141.80s/it]"
     ]
    },
    {
     "name": "stdout",
     "output_type": "stream",
     "text": [
      "{'bucketing': 21, 'encoding': 'index', 'drop_act': 2, 'models': 'Decision Tree', 'Decision Tree': {'max_depth': 11, 'min_samples_leaf': 77, 'criterion': 'gini'}}\n",
      "bucket :  (2, 4)\n",
      "After OverSampling, the shape of train_X: (34594, 12)\n",
      "After OverSampling, the shape of train_y: (34594,) \n",
      "\n",
      "After OverSampling, counts of label '1': 17297\n",
      "After OverSampling, counts of label '0': 17297\n",
      "bucket :  (4, 6)\n",
      "After OverSampling, the shape of train_X: (23634, 24)\n",
      "After OverSampling, the shape of train_y: (23634,) \n",
      "\n",
      "After OverSampling, counts of label '1': 11817\n",
      "After OverSampling, counts of label '0': 11817\n",
      "bucket :  (6, 8)\n",
      "bucket :  (8, 10)\n",
      "bucket :  (10, 12)\n",
      "bucket :  (12, 14)\n",
      "bucket :  (14, 16)\n",
      "bucket :  (16, 18)\n",
      "bucket :  (18, 20)\n",
      "bucket :  (20, 22)\n",
      "bucket :  (22, 24)\n",
      "bucket :  (24, 26)\n",
      "bucket :  (26, 28)\n",
      "bucket :  (28, 30)\n",
      "bucket :  (30, 32)\n",
      "bucket :  (32, 34)\n",
      "bucket :  (34, 36)\n",
      "bucket :  (36, 38)\n",
      "bucket :  (38, 39)\n",
      "bucket :  (39, 40)\n",
      "bucket :  (40, 41)\n"
     ]
    },
    {
     "name": "stderr",
     "output_type": "stream",
     "text": [
      "100%|██████████| 20/20 [47:20<00:00, 142.05s/it]\n",
      "  0%|          | 0/20 [00:00<?, ?it/s]"
     ]
    },
    {
     "name": "stdout",
     "output_type": "stream",
     "text": [
      "{'bucketing': 12, 'encoding': 'index', 'drop_act': 2, 'models': 'Decision Tree', 'Decision Tree': {'max_depth': 11, 'min_samples_leaf': 77, 'criterion': 'gini'}}\n",
      "bucket :  (2, 6)\n",
      "After OverSampling, the shape of train_X: (59022, 25)\n",
      "After OverSampling, the shape of train_y: (59022,) \n",
      "\n",
      "After OverSampling, counts of label '1': 29511\n",
      "After OverSampling, counts of label '0': 29511\n",
      "bucket :  (6, 10)\n",
      "bucket :  (10, 14)\n",
      "bucket :  (14, 17)\n",
      "bucket :  (17, 20)\n",
      "bucket :  (20, 23)\n",
      "bucket :  (23, 26)\n",
      "bucket :  (26, 29)\n",
      "bucket :  (29, 32)\n",
      "bucket :  (32, 35)\n",
      "bucket :  (35, 38)\n",
      "bucket :  (38, 41)\n"
     ]
    },
    {
     "name": "stderr",
     "output_type": "stream",
     "text": [
      "  5%|▌         | 1/20 [02:16<43:05, 136.07s/it]"
     ]
    },
    {
     "name": "stdout",
     "output_type": "stream",
     "text": [
      "{'bucketing': 21, 'encoding': 'index', 'drop_act': 2, 'models': 'Decision Tree', 'Decision Tree': {'max_depth': 11, 'min_samples_leaf': 77, 'criterion': 'gini'}}\n",
      "bucket :  (2, 4)\n",
      "After OverSampling, the shape of train_X: (34594, 12)\n",
      "After OverSampling, the shape of train_y: (34594,) \n",
      "\n",
      "After OverSampling, counts of label '1': 17297\n",
      "After OverSampling, counts of label '0': 17297\n",
      "bucket :  (4, 6)\n",
      "After OverSampling, the shape of train_X: (23634, 24)\n",
      "After OverSampling, the shape of train_y: (23634,) \n",
      "\n",
      "After OverSampling, counts of label '1': 11817\n",
      "After OverSampling, counts of label '0': 11817\n",
      "bucket :  (6, 8)\n",
      "bucket :  (8, 10)\n",
      "bucket :  (10, 12)\n",
      "bucket :  (12, 14)\n",
      "bucket :  (14, 16)\n",
      "bucket :  (16, 18)\n",
      "bucket :  (18, 20)\n",
      "bucket :  (20, 22)\n",
      "bucket :  (22, 24)\n",
      "bucket :  (24, 26)\n",
      "bucket :  (26, 28)\n",
      "bucket :  (28, 30)\n",
      "bucket :  (30, 32)\n",
      "bucket :  (32, 34)\n",
      "bucket :  (34, 36)\n",
      "bucket :  (36, 38)\n",
      "bucket :  (38, 39)\n",
      "bucket :  (39, 40)\n",
      "bucket :  (40, 41)\n"
     ]
    },
    {
     "name": "stderr",
     "output_type": "stream",
     "text": [
      " 10%|█         | 2/20 [04:31<40:45, 135.85s/it]"
     ]
    },
    {
     "name": "stdout",
     "output_type": "stream",
     "text": [
      "{'bucketing': 12, 'encoding': 'index', 'drop_act': 2, 'models': 'LightGBM', 'LightGBM': {'max_depth': 9, 'num_leaves': 326, 'min_child_samples': 3}}\n",
      "bucket :  (2, 6)\n",
      "After OverSampling, the shape of train_X: (59022, 25)\n",
      "After OverSampling, the shape of train_y: (59022,) \n",
      "\n",
      "After OverSampling, counts of label '1': 29511\n",
      "After OverSampling, counts of label '0': 29511\n",
      "bucket :  (6, 10)\n",
      "bucket :  (10, 14)\n",
      "bucket :  (14, 17)\n",
      "bucket :  (17, 20)\n",
      "bucket :  (20, 23)\n",
      "bucket :  (23, 26)\n",
      "bucket :  (26, 29)\n",
      "bucket :  (29, 32)\n",
      "bucket :  (32, 35)\n",
      "bucket :  (35, 38)\n",
      "bucket :  (38, 41)\n"
     ]
    },
    {
     "name": "stderr",
     "output_type": "stream",
     "text": [
      " 15%|█▌        | 3/20 [06:46<38:18, 135.21s/it]"
     ]
    },
    {
     "name": "stdout",
     "output_type": "stream",
     "text": [
      "{'bucketing': 12, 'encoding': 'index', 'drop_act': 2, 'models': 'Decision Tree', 'Decision Tree': {'max_depth': 15, 'min_samples_leaf': 29, 'criterion': 'entropy'}}\n",
      "bucket :  (2, 6)\n",
      "After OverSampling, the shape of train_X: (59022, 25)\n",
      "After OverSampling, the shape of train_y: (59022,) \n",
      "\n",
      "After OverSampling, counts of label '1': 29511\n",
      "After OverSampling, counts of label '0': 29511\n",
      "bucket :  (6, 10)\n",
      "bucket :  (10, 14)\n",
      "bucket :  (14, 17)\n",
      "bucket :  (17, 20)\n",
      "bucket :  (20, 23)\n",
      "bucket :  (23, 26)\n",
      "bucket :  (26, 29)\n",
      "bucket :  (29, 32)\n",
      "bucket :  (32, 35)\n",
      "bucket :  (35, 38)\n",
      "bucket :  (38, 41)\n"
     ]
    },
    {
     "name": "stderr",
     "output_type": "stream",
     "text": [
      " 20%|██        | 4/20 [09:02<36:09, 135.57s/it]"
     ]
    },
    {
     "name": "stdout",
     "output_type": "stream",
     "text": [
      "{'bucketing': 12, 'encoding': 'index', 'drop_act': 2, 'models': 'Decision Tree', 'Decision Tree': {'max_depth': 11, 'min_samples_leaf': 77, 'criterion': 'gini'}}\n",
      "bucket :  (2, 6)\n",
      "After OverSampling, the shape of train_X: (59022, 25)\n",
      "After OverSampling, the shape of train_y: (59022,) \n",
      "\n",
      "After OverSampling, counts of label '1': 29511\n",
      "After OverSampling, counts of label '0': 29511\n",
      "bucket :  (6, 10)\n",
      "bucket :  (10, 14)\n",
      "bucket :  (14, 17)\n",
      "bucket :  (17, 20)\n",
      "bucket :  (20, 23)\n",
      "bucket :  (23, 26)\n",
      "bucket :  (26, 29)\n",
      "bucket :  (29, 32)\n",
      "bucket :  (32, 35)\n",
      "bucket :  (35, 38)\n",
      "bucket :  (38, 41)\n"
     ]
    },
    {
     "name": "stderr",
     "output_type": "stream",
     "text": [
      " 25%|██▌       | 5/20 [11:17<33:52, 135.49s/it]"
     ]
    },
    {
     "name": "stdout",
     "output_type": "stream",
     "text": [
      "{'bucketing': 12, 'encoding': 'index', 'drop_act': 2, 'models': 'Decision Tree', 'Decision Tree': {'max_depth': 11, 'min_samples_leaf': 77, 'criterion': 'gini'}}\n",
      "bucket :  (2, 6)\n",
      "After OverSampling, the shape of train_X: (59022, 25)\n",
      "After OverSampling, the shape of train_y: (59022,) \n",
      "\n",
      "After OverSampling, counts of label '1': 29511\n",
      "After OverSampling, counts of label '0': 29511\n",
      "bucket :  (6, 10)\n",
      "bucket :  (10, 14)\n",
      "bucket :  (14, 17)\n",
      "bucket :  (17, 20)\n",
      "bucket :  (20, 23)\n",
      "bucket :  (23, 26)\n",
      "bucket :  (26, 29)\n",
      "bucket :  (29, 32)\n",
      "bucket :  (32, 35)\n",
      "bucket :  (35, 38)\n",
      "bucket :  (38, 41)\n"
     ]
    },
    {
     "name": "stderr",
     "output_type": "stream",
     "text": [
      " 30%|███       | 6/20 [13:33<31:37, 135.56s/it]"
     ]
    },
    {
     "name": "stdout",
     "output_type": "stream",
     "text": [
      "{'bucketing': 12, 'encoding': 'index', 'drop_act': 8, 'models': 'LightGBM', 'LightGBM': {'max_depth': 9, 'num_leaves': 326, 'min_child_samples': 3}}\n",
      "bucket :  (2, 6)\n",
      "After OverSampling, the shape of train_X: (58864, 20)\n",
      "After OverSampling, the shape of train_y: (58864,) \n",
      "\n",
      "After OverSampling, counts of label '1': 29432\n",
      "After OverSampling, counts of label '0': 29432\n",
      "bucket :  (6, 10)\n",
      "bucket :  (10, 14)\n",
      "bucket :  (14, 17)\n",
      "bucket :  (17, 20)\n",
      "bucket :  (20, 23)\n",
      "bucket :  (23, 26)\n",
      "bucket :  (26, 29)\n",
      "bucket :  (29, 32)\n",
      "bucket :  (32, 35)\n",
      "bucket :  (35, 38)\n",
      "bucket :  (38, 41)\n"
     ]
    },
    {
     "name": "stderr",
     "output_type": "stream",
     "text": [
      " 35%|███▌      | 7/20 [15:44<29:03, 134.12s/it]"
     ]
    },
    {
     "name": "stdout",
     "output_type": "stream",
     "text": [
      "{'bucketing': 12, 'encoding': 'index', 'drop_act': 8, 'models': 'LightGBM', 'LightGBM': {'max_depth': 9, 'num_leaves': 326, 'min_child_samples': 3}}\n",
      "bucket :  (2, 6)\n",
      "After OverSampling, the shape of train_X: (58864, 20)\n",
      "After OverSampling, the shape of train_y: (58864,) \n",
      "\n",
      "After OverSampling, counts of label '1': 29432\n",
      "After OverSampling, counts of label '0': 29432\n",
      "bucket :  (6, 10)\n",
      "bucket :  (10, 14)\n",
      "bucket :  (14, 17)\n",
      "bucket :  (17, 20)\n",
      "bucket :  (20, 23)\n",
      "bucket :  (23, 26)\n",
      "bucket :  (26, 29)\n",
      "bucket :  (29, 32)\n",
      "bucket :  (32, 35)\n",
      "bucket :  (35, 38)\n",
      "bucket :  (38, 41)\n"
     ]
    },
    {
     "name": "stderr",
     "output_type": "stream",
     "text": [
      " 40%|████      | 8/20 [17:54<26:31, 132.64s/it]"
     ]
    },
    {
     "name": "stdout",
     "output_type": "stream",
     "text": [
      "{'bucketing': 21, 'encoding': 'index', 'drop_act': 2, 'models': 'Decision Tree', 'Decision Tree': {'max_depth': 11, 'min_samples_leaf': 77, 'criterion': 'gini'}}\n",
      "bucket :  (2, 4)\n",
      "After OverSampling, the shape of train_X: (34594, 12)\n",
      "After OverSampling, the shape of train_y: (34594,) \n",
      "\n",
      "After OverSampling, counts of label '1': 17297\n",
      "After OverSampling, counts of label '0': 17297\n",
      "bucket :  (4, 6)\n",
      "After OverSampling, the shape of train_X: (23634, 24)\n",
      "After OverSampling, the shape of train_y: (23634,) \n",
      "\n",
      "After OverSampling, counts of label '1': 11817\n",
      "After OverSampling, counts of label '0': 11817\n",
      "bucket :  (6, 8)\n",
      "bucket :  (8, 10)\n",
      "bucket :  (10, 12)\n",
      "bucket :  (12, 14)\n",
      "bucket :  (14, 16)\n",
      "bucket :  (16, 18)\n",
      "bucket :  (18, 20)\n",
      "bucket :  (20, 22)\n",
      "bucket :  (22, 24)\n",
      "bucket :  (24, 26)\n",
      "bucket :  (26, 28)\n",
      "bucket :  (28, 30)\n",
      "bucket :  (30, 32)\n",
      "bucket :  (32, 34)\n",
      "bucket :  (34, 36)\n",
      "bucket :  (36, 38)\n",
      "bucket :  (38, 39)\n",
      "bucket :  (39, 40)\n",
      "bucket :  (40, 41)\n"
     ]
    },
    {
     "name": "stderr",
     "output_type": "stream",
     "text": [
      " 45%|████▌     | 9/20 [20:08<24:25, 133.23s/it]"
     ]
    },
    {
     "name": "stdout",
     "output_type": "stream",
     "text": [
      "{'bucketing': 33, 'encoding': 'index', 'drop_act': 8, 'models': 'LightGBM', 'LightGBM': {'max_depth': 9, 'num_leaves': 326, 'min_child_samples': 3}}\n",
      "bucket :  (2, 4)\n",
      "After OverSampling, the shape of train_X: (34594, 11)\n",
      "After OverSampling, the shape of train_y: (34594,) \n",
      "\n",
      "After OverSampling, counts of label '1': 17297\n",
      "After OverSampling, counts of label '0': 17297\n",
      "bucket :  (4, 6)\n",
      "After OverSampling, the shape of train_X: (23472, 19)\n",
      "After OverSampling, the shape of train_y: (23472,) \n",
      "\n",
      "After OverSampling, counts of label '1': 11736\n",
      "After OverSampling, counts of label '0': 11736\n",
      "bucket :  (6, 8)\n",
      "bucket :  (8, 10)\n",
      "bucket :  (10, 12)\n",
      "bucket :  (12, 14)\n",
      "bucket :  (14, 15)\n",
      "bucket :  (15, 16)\n",
      "bucket :  (16, 17)\n",
      "bucket :  (17, 18)\n",
      "bucket :  (18, 19)\n",
      "bucket :  (19, 20)\n",
      "bucket :  (20, 21)\n",
      "bucket :  (21, 22)\n",
      "bucket :  (22, 23)\n",
      "bucket :  (23, 24)\n",
      "bucket :  (24, 25)\n",
      "bucket :  (25, 26)\n",
      "bucket :  (26, 27)\n",
      "bucket :  (27, 28)\n",
      "bucket :  (28, 29)\n",
      "bucket :  (29, 30)\n",
      "bucket :  (30, 31)\n",
      "bucket :  (31, 32)\n",
      "bucket :  (32, 33)\n",
      "bucket :  (33, 34)\n",
      "bucket :  (34, 35)\n",
      "bucket :  (35, 36)\n",
      "bucket :  (36, 37)\n",
      "bucket :  (37, 38)\n",
      "bucket :  (38, 39)\n",
      "bucket :  (39, 40)\n",
      "bucket :  (40, 41)\n"
     ]
    },
    {
     "name": "stderr",
     "output_type": "stream",
     "text": [
      " 50%|█████     | 10/20 [22:21<22:11, 133.15s/it]"
     ]
    },
    {
     "name": "stdout",
     "output_type": "stream",
     "text": [
      "{'bucketing': 12, 'encoding': 'index', 'drop_act': 2, 'models': 'Decision Tree', 'Decision Tree': {'max_depth': 15, 'min_samples_leaf': 29, 'criterion': 'entropy'}}\n",
      "bucket :  (2, 6)\n",
      "After OverSampling, the shape of train_X: (59022, 25)\n",
      "After OverSampling, the shape of train_y: (59022,) \n",
      "\n",
      "After OverSampling, counts of label '1': 29511\n",
      "After OverSampling, counts of label '0': 29511\n",
      "bucket :  (6, 10)\n",
      "bucket :  (10, 14)\n",
      "bucket :  (14, 17)\n",
      "bucket :  (17, 20)\n",
      "bucket :  (20, 23)\n",
      "bucket :  (23, 26)\n",
      "bucket :  (26, 29)\n",
      "bucket :  (29, 32)\n",
      "bucket :  (32, 35)\n",
      "bucket :  (35, 38)\n",
      "bucket :  (38, 41)\n"
     ]
    },
    {
     "name": "stderr",
     "output_type": "stream",
     "text": [
      " 55%|█████▌    | 11/20 [24:36<20:04, 133.86s/it]"
     ]
    },
    {
     "name": "stdout",
     "output_type": "stream",
     "text": [
      "{'bucketing': 12, 'encoding': 'index', 'drop_act': 2, 'models': 'Xgboost', 'Xgboost': {'max_depth': 10, 'n_estimators': 204, 'learning_rate': 0.01}}\n",
      "bucket :  (2, 6)\n",
      "After OverSampling, the shape of train_X: (59022, 25)\n",
      "After OverSampling, the shape of train_y: (59022,) \n",
      "\n",
      "After OverSampling, counts of label '1': 29511\n",
      "After OverSampling, counts of label '0': 29511\n",
      "bucket :  (6, 10)\n",
      "bucket :  (10, 14)\n",
      "bucket :  (14, 17)\n",
      "bucket :  (17, 20)\n",
      "bucket :  (20, 23)\n",
      "bucket :  (23, 26)\n",
      "bucket :  (26, 29)\n",
      "bucket :  (29, 32)\n",
      "bucket :  (32, 35)\n",
      "bucket :  (35, 38)\n",
      "bucket :  (38, 41)\n"
     ]
    },
    {
     "name": "stderr",
     "output_type": "stream",
     "text": [
      " 60%|██████    | 12/20 [27:10<18:38, 139.86s/it]"
     ]
    },
    {
     "name": "stdout",
     "output_type": "stream",
     "text": [
      "{'bucketing': 10, 'encoding': 'index', 'drop_act': 2, 'models': 'LightGBM', 'LightGBM': {'max_depth': 9, 'num_leaves': 326, 'min_child_samples': 3}}\n",
      "bucket :  (2, 6)\n",
      "After OverSampling, the shape of train_X: (59022, 25)\n",
      "After OverSampling, the shape of train_y: (59022,) \n",
      "\n",
      "After OverSampling, counts of label '1': 29511\n",
      "After OverSampling, counts of label '0': 29511\n",
      "bucket :  (6, 10)\n",
      "bucket :  (10, 14)\n",
      "bucket :  (14, 18)\n",
      "bucket :  (18, 22)\n",
      "bucket :  (22, 26)\n",
      "bucket :  (26, 30)\n",
      "bucket :  (30, 34)\n",
      "bucket :  (34, 38)\n",
      "bucket :  (38, 41)\n"
     ]
    },
    {
     "name": "stderr",
     "output_type": "stream",
     "text": [
      " 65%|██████▌   | 13/20 [29:24<16:07, 138.21s/it]"
     ]
    },
    {
     "name": "stdout",
     "output_type": "stream",
     "text": [
      "{'bucketing': 24, 'encoding': 'index', 'drop_act': 8, 'models': 'LightGBM', 'LightGBM': {'max_depth': 18, 'num_leaves': 10, 'min_child_samples': 7}}\n",
      "bucket :  (2, 4)\n",
      "After OverSampling, the shape of train_X: (34594, 11)\n",
      "After OverSampling, the shape of train_y: (34594,) \n",
      "\n",
      "After OverSampling, counts of label '1': 17297\n",
      "After OverSampling, counts of label '0': 17297\n",
      "bucket :  (4, 6)\n",
      "After OverSampling, the shape of train_X: (23472, 19)\n",
      "After OverSampling, the shape of train_y: (23472,) \n",
      "\n",
      "After OverSampling, counts of label '1': 11736\n",
      "After OverSampling, counts of label '0': 11736\n",
      "bucket :  (6, 8)\n",
      "bucket :  (8, 10)\n",
      "bucket :  (10, 12)\n",
      "bucket :  (12, 14)\n",
      "bucket :  (14, 16)\n",
      "bucket :  (16, 18)\n",
      "bucket :  (18, 20)\n",
      "bucket :  (20, 22)\n",
      "bucket :  (22, 24)\n",
      "bucket :  (24, 26)\n",
      "bucket :  (26, 28)\n",
      "bucket :  (28, 30)\n",
      "bucket :  (30, 32)\n",
      "bucket :  (32, 33)\n",
      "bucket :  (33, 34)\n",
      "bucket :  (34, 35)\n",
      "bucket :  (35, 36)\n",
      "bucket :  (36, 37)\n",
      "bucket :  (37, 38)\n",
      "bucket :  (38, 39)\n",
      "bucket :  (39, 40)\n",
      "bucket :  (40, 41)\n"
     ]
    },
    {
     "name": "stderr",
     "output_type": "stream",
     "text": [
      " 70%|███████   | 14/20 [31:36<13:37, 136.21s/it]"
     ]
    },
    {
     "name": "stdout",
     "output_type": "stream",
     "text": [
      "{'bucketing': 21, 'encoding': 'index', 'drop_act': 2, 'models': 'Xgboost', 'Xgboost': {'max_depth': 10, 'n_estimators': 204, 'learning_rate': 0.01}}\n",
      "bucket :  (2, 4)\n",
      "After OverSampling, the shape of train_X: (34594, 12)\n",
      "After OverSampling, the shape of train_y: (34594,) \n",
      "\n",
      "After OverSampling, counts of label '1': 17297\n",
      "After OverSampling, counts of label '0': 17297\n",
      "bucket :  (4, 6)\n",
      "After OverSampling, the shape of train_X: (23634, 24)\n",
      "After OverSampling, the shape of train_y: (23634,) \n",
      "\n",
      "After OverSampling, counts of label '1': 11817\n",
      "After OverSampling, counts of label '0': 11817\n",
      "bucket :  (6, 8)\n",
      "bucket :  (8, 10)\n",
      "bucket :  (10, 12)\n",
      "bucket :  (12, 14)\n",
      "bucket :  (14, 16)\n",
      "bucket :  (16, 18)\n",
      "bucket :  (18, 20)\n",
      "bucket :  (20, 22)\n",
      "bucket :  (22, 24)\n",
      "bucket :  (24, 26)\n",
      "bucket :  (26, 28)\n",
      "bucket :  (28, 30)\n",
      "bucket :  (30, 32)\n",
      "bucket :  (32, 34)\n",
      "bucket :  (34, 36)\n",
      "bucket :  (36, 38)\n",
      "bucket :  (38, 39)\n",
      "bucket :  (39, 40)\n",
      "bucket :  (40, 41)\n"
     ]
    },
    {
     "name": "stderr",
     "output_type": "stream",
     "text": [
      " 75%|███████▌  | 15/20 [34:11<11:50, 142.01s/it]"
     ]
    },
    {
     "name": "stdout",
     "output_type": "stream",
     "text": [
      "{'bucketing': 12, 'encoding': 'index', 'drop_act': 2, 'models': 'Decision Tree', 'Decision Tree': {'max_depth': 11, 'min_samples_leaf': 77, 'criterion': 'gini'}}\n",
      "bucket :  (2, 6)\n",
      "After OverSampling, the shape of train_X: (59022, 25)\n",
      "After OverSampling, the shape of train_y: (59022,) \n",
      "\n",
      "After OverSampling, counts of label '1': 29511\n",
      "After OverSampling, counts of label '0': 29511\n",
      "bucket :  (6, 10)\n",
      "bucket :  (10, 14)\n",
      "bucket :  (14, 17)\n",
      "bucket :  (17, 20)\n",
      "bucket :  (20, 23)\n",
      "bucket :  (23, 26)\n",
      "bucket :  (26, 29)\n",
      "bucket :  (29, 32)\n",
      "bucket :  (32, 35)\n",
      "bucket :  (35, 38)\n",
      "bucket :  (38, 41)\n"
     ]
    },
    {
     "name": "stderr",
     "output_type": "stream",
     "text": [
      " 80%|████████  | 16/20 [36:26<09:19, 139.89s/it]"
     ]
    },
    {
     "name": "stdout",
     "output_type": "stream",
     "text": [
      "{'bucketing': 21, 'encoding': 'index', 'drop_act': 2, 'models': 'Xgboost', 'Xgboost': {'max_depth': 10, 'n_estimators': 204, 'learning_rate': 0.01}}\n",
      "bucket :  (2, 4)\n",
      "After OverSampling, the shape of train_X: (34594, 12)\n",
      "After OverSampling, the shape of train_y: (34594,) \n",
      "\n",
      "After OverSampling, counts of label '1': 17297\n",
      "After OverSampling, counts of label '0': 17297\n",
      "bucket :  (4, 6)\n",
      "After OverSampling, the shape of train_X: (23634, 24)\n",
      "After OverSampling, the shape of train_y: (23634,) \n",
      "\n",
      "After OverSampling, counts of label '1': 11817\n",
      "After OverSampling, counts of label '0': 11817\n",
      "bucket :  (6, 8)\n",
      "bucket :  (8, 10)\n",
      "bucket :  (10, 12)\n",
      "bucket :  (12, 14)\n",
      "bucket :  (14, 16)\n",
      "bucket :  (16, 18)\n",
      "bucket :  (18, 20)\n",
      "bucket :  (20, 22)\n",
      "bucket :  (22, 24)\n",
      "bucket :  (24, 26)\n",
      "bucket :  (26, 28)\n",
      "bucket :  (28, 30)\n",
      "bucket :  (30, 32)\n",
      "bucket :  (32, 34)\n",
      "bucket :  (34, 36)\n",
      "bucket :  (36, 38)\n",
      "bucket :  (38, 39)\n",
      "bucket :  (39, 40)\n",
      "bucket :  (40, 41)\n"
     ]
    },
    {
     "name": "stderr",
     "output_type": "stream",
     "text": [
      " 85%|████████▌ | 17/20 [39:01<07:12, 144.17s/it]"
     ]
    },
    {
     "name": "stdout",
     "output_type": "stream",
     "text": [
      "{'bucketing': 12, 'encoding': 'aggregate', 'drop_act': 2, 'models': 'Decision Tree', 'Decision Tree': {'max_depth': 11, 'min_samples_leaf': 77, 'criterion': 'gini'}}\n",
      "bucket :  (2, 6)\n",
      "After OverSampling, the shape of train_X: (59022, 15)\n",
      "After OverSampling, the shape of train_y: (59022,) \n",
      "\n",
      "After OverSampling, counts of label '1': 29511\n",
      "After OverSampling, counts of label '0': 29511\n",
      "bucket :  (6, 10)\n",
      "bucket :  (10, 14)\n",
      "bucket :  (14, 17)\n",
      "bucket :  (17, 20)\n",
      "bucket :  (20, 23)\n",
      "bucket :  (23, 26)\n",
      "bucket :  (26, 29)\n",
      "bucket :  (29, 32)\n",
      "bucket :  (32, 35)\n",
      "bucket :  (35, 38)\n",
      "bucket :  (38, 41)\n"
     ]
    },
    {
     "name": "stderr",
     "output_type": "stream",
     "text": [
      " 90%|█████████ | 18/20 [41:51<05:04, 152.16s/it]"
     ]
    },
    {
     "name": "stdout",
     "output_type": "stream",
     "text": [
      "{'bucketing': 12, 'encoding': 'index', 'drop_act': 8, 'models': 'LightGBM', 'LightGBM': {'max_depth': 18, 'num_leaves': 10, 'min_child_samples': 7}}\n",
      "bucket :  (2, 6)\n",
      "After OverSampling, the shape of train_X: (58864, 20)\n",
      "After OverSampling, the shape of train_y: (58864,) \n",
      "\n",
      "After OverSampling, counts of label '1': 29432\n",
      "After OverSampling, counts of label '0': 29432\n",
      "bucket :  (6, 10)\n",
      "bucket :  (10, 14)\n",
      "bucket :  (14, 17)\n",
      "bucket :  (17, 20)\n",
      "bucket :  (20, 23)\n",
      "bucket :  (23, 26)\n",
      "bucket :  (26, 29)\n",
      "bucket :  (29, 32)\n",
      "bucket :  (32, 35)\n",
      "bucket :  (35, 38)\n",
      "bucket :  (38, 41)\n"
     ]
    },
    {
     "name": "stderr",
     "output_type": "stream",
     "text": [
      " 95%|█████████▌| 19/20 [44:02<02:25, 145.84s/it]"
     ]
    },
    {
     "name": "stdout",
     "output_type": "stream",
     "text": [
      "{'bucketing': 21, 'encoding': 'index', 'drop_act': 2, 'models': 'Xgboost', 'Xgboost': {'max_depth': 10, 'n_estimators': 204, 'learning_rate': 0.01}}\n",
      "bucket :  (2, 4)\n",
      "After OverSampling, the shape of train_X: (34594, 12)\n",
      "After OverSampling, the shape of train_y: (34594,) \n",
      "\n",
      "After OverSampling, counts of label '1': 17297\n",
      "After OverSampling, counts of label '0': 17297\n",
      "bucket :  (4, 6)\n",
      "After OverSampling, the shape of train_X: (23634, 24)\n",
      "After OverSampling, the shape of train_y: (23634,) \n",
      "\n",
      "After OverSampling, counts of label '1': 11817\n",
      "After OverSampling, counts of label '0': 11817\n",
      "bucket :  (6, 8)\n",
      "bucket :  (8, 10)\n",
      "bucket :  (10, 12)\n",
      "bucket :  (12, 14)\n",
      "bucket :  (14, 16)\n",
      "bucket :  (16, 18)\n",
      "bucket :  (18, 20)\n",
      "bucket :  (20, 22)\n",
      "bucket :  (22, 24)\n",
      "bucket :  (24, 26)\n",
      "bucket :  (26, 28)\n",
      "bucket :  (28, 30)\n",
      "bucket :  (30, 32)\n",
      "bucket :  (32, 34)\n",
      "bucket :  (34, 36)\n",
      "bucket :  (36, 38)\n",
      "bucket :  (38, 39)\n",
      "bucket :  (39, 40)\n",
      "bucket :  (40, 41)\n"
     ]
    },
    {
     "name": "stderr",
     "output_type": "stream",
     "text": [
      "100%|██████████| 20/20 [46:38<00:00, 139.90s/it]\n",
      "  0%|          | 0/20 [00:00<?, ?it/s]"
     ]
    },
    {
     "name": "stdout",
     "output_type": "stream",
     "text": [
      "{'bucketing': 21, 'encoding': 'index', 'drop_act': 2, 'models': 'Xgboost', 'Xgboost': {'max_depth': 10, 'n_estimators': 204, 'learning_rate': 0.01}}\n",
      "bucket :  (2, 4)\n",
      "After OverSampling, the shape of train_X: (34594, 12)\n",
      "After OverSampling, the shape of train_y: (34594,) \n",
      "\n",
      "After OverSampling, counts of label '1': 17297\n",
      "After OverSampling, counts of label '0': 17297\n",
      "bucket :  (4, 6)\n",
      "After OverSampling, the shape of train_X: (23634, 24)\n",
      "After OverSampling, the shape of train_y: (23634,) \n",
      "\n",
      "After OverSampling, counts of label '1': 11817\n",
      "After OverSampling, counts of label '0': 11817\n",
      "bucket :  (6, 8)\n",
      "bucket :  (8, 10)\n",
      "bucket :  (10, 12)\n",
      "bucket :  (12, 14)\n",
      "bucket :  (14, 16)\n",
      "bucket :  (16, 18)\n",
      "bucket :  (18, 20)\n",
      "bucket :  (20, 22)\n",
      "bucket :  (22, 24)\n",
      "bucket :  (24, 26)\n",
      "bucket :  (26, 28)\n",
      "bucket :  (28, 30)\n",
      "bucket :  (30, 32)\n",
      "bucket :  (32, 34)\n",
      "bucket :  (34, 36)\n",
      "bucket :  (36, 38)\n",
      "bucket :  (38, 39)\n",
      "bucket :  (39, 40)\n",
      "bucket :  (40, 41)\n"
     ]
    },
    {
     "name": "stderr",
     "output_type": "stream",
     "text": [
      "  5%|▌         | 1/20 [02:35<49:06, 155.07s/it]"
     ]
    },
    {
     "name": "stdout",
     "output_type": "stream",
     "text": [
      "{'bucketing': 10, 'encoding': 'index', 'drop_act': 2, 'models': 'LightGBM', 'LightGBM': {'max_depth': 9, 'num_leaves': 326, 'min_child_samples': 3}}\n",
      "bucket :  (2, 6)\n",
      "After OverSampling, the shape of train_X: (59022, 25)\n",
      "After OverSampling, the shape of train_y: (59022,) \n",
      "\n",
      "After OverSampling, counts of label '1': 29511\n",
      "After OverSampling, counts of label '0': 29511\n",
      "bucket :  (6, 10)\n",
      "bucket :  (10, 14)\n",
      "bucket :  (14, 18)\n",
      "bucket :  (18, 22)\n",
      "bucket :  (22, 26)\n",
      "bucket :  (26, 30)\n",
      "bucket :  (30, 34)\n",
      "bucket :  (34, 38)\n",
      "bucket :  (38, 41)\n"
     ]
    },
    {
     "name": "stderr",
     "output_type": "stream",
     "text": [
      " 10%|█         | 2/20 [04:49<42:53, 142.96s/it]"
     ]
    },
    {
     "name": "stdout",
     "output_type": "stream",
     "text": [
      "{'bucketing': 12, 'encoding': 'index', 'drop_act': 2, 'models': 'Decision Tree', 'Decision Tree': {'max_depth': 11, 'min_samples_leaf': 77, 'criterion': 'gini'}}\n",
      "bucket :  (2, 6)\n",
      "After OverSampling, the shape of train_X: (59022, 25)\n",
      "After OverSampling, the shape of train_y: (59022,) \n",
      "\n",
      "After OverSampling, counts of label '1': 29511\n",
      "After OverSampling, counts of label '0': 29511\n",
      "bucket :  (6, 10)\n",
      "bucket :  (10, 14)\n",
      "bucket :  (14, 17)\n",
      "bucket :  (17, 20)\n",
      "bucket :  (20, 23)\n",
      "bucket :  (23, 26)\n",
      "bucket :  (26, 29)\n",
      "bucket :  (29, 32)\n",
      "bucket :  (32, 35)\n",
      "bucket :  (35, 38)\n",
      "bucket :  (38, 41)\n"
     ]
    },
    {
     "name": "stderr",
     "output_type": "stream",
     "text": [
      " 15%|█▌        | 3/20 [07:04<39:30, 139.43s/it]"
     ]
    },
    {
     "name": "stdout",
     "output_type": "stream",
     "text": [
      "{'bucketing': 21, 'encoding': 'index', 'drop_act': 2, 'models': 'Xgboost', 'Xgboost': {'max_depth': 10, 'n_estimators': 204, 'learning_rate': 0.01}}\n",
      "bucket :  (2, 4)\n",
      "After OverSampling, the shape of train_X: (34594, 12)\n",
      "After OverSampling, the shape of train_y: (34594,) \n",
      "\n",
      "After OverSampling, counts of label '1': 17297\n",
      "After OverSampling, counts of label '0': 17297\n",
      "bucket :  (4, 6)\n",
      "After OverSampling, the shape of train_X: (23634, 24)\n",
      "After OverSampling, the shape of train_y: (23634,) \n",
      "\n",
      "After OverSampling, counts of label '1': 11817\n",
      "After OverSampling, counts of label '0': 11817\n",
      "bucket :  (6, 8)\n",
      "bucket :  (8, 10)\n",
      "bucket :  (10, 12)\n",
      "bucket :  (12, 14)\n",
      "bucket :  (14, 16)\n",
      "bucket :  (16, 18)\n",
      "bucket :  (18, 20)\n",
      "bucket :  (20, 22)\n",
      "bucket :  (22, 24)\n",
      "bucket :  (24, 26)\n",
      "bucket :  (26, 28)\n",
      "bucket :  (28, 30)\n",
      "bucket :  (30, 32)\n",
      "bucket :  (32, 34)\n",
      "bucket :  (34, 36)\n",
      "bucket :  (36, 38)\n",
      "bucket :  (38, 39)\n",
      "bucket :  (39, 40)\n",
      "bucket :  (40, 41)\n"
     ]
    },
    {
     "name": "stderr",
     "output_type": "stream",
     "text": [
      " 20%|██        | 4/20 [09:39<38:48, 145.55s/it]"
     ]
    },
    {
     "name": "stdout",
     "output_type": "stream",
     "text": [
      "{'bucketing': 12, 'encoding': 'index', 'drop_act': 2, 'models': 'Xgboost', 'Xgboost': {'max_depth': 10, 'n_estimators': 204, 'learning_rate': 0.01}}\n",
      "bucket :  (2, 6)\n",
      "After OverSampling, the shape of train_X: (59022, 25)\n",
      "After OverSampling, the shape of train_y: (59022,) \n",
      "\n",
      "After OverSampling, counts of label '1': 29511\n",
      "After OverSampling, counts of label '0': 29511\n",
      "bucket :  (6, 10)\n",
      "bucket :  (10, 14)\n",
      "bucket :  (14, 17)\n",
      "bucket :  (17, 20)\n",
      "bucket :  (20, 23)\n",
      "bucket :  (23, 26)\n",
      "bucket :  (26, 29)\n",
      "bucket :  (29, 32)\n",
      "bucket :  (32, 35)\n",
      "bucket :  (35, 38)\n",
      "bucket :  (38, 41)\n"
     ]
    },
    {
     "name": "stderr",
     "output_type": "stream",
     "text": [
      " 25%|██▌       | 5/20 [12:13<37:08, 148.56s/it]"
     ]
    },
    {
     "name": "stdout",
     "output_type": "stream",
     "text": [
      "{'bucketing': 33, 'encoding': 'index', 'drop_act': 2, 'models': 'LightGBM', 'LightGBM': {'max_depth': 9, 'num_leaves': 326, 'min_child_samples': 3}}\n",
      "bucket :  (2, 4)\n",
      "After OverSampling, the shape of train_X: (34594, 12)\n",
      "After OverSampling, the shape of train_y: (34594,) \n",
      "\n",
      "After OverSampling, counts of label '1': 17297\n",
      "After OverSampling, counts of label '0': 17297\n",
      "bucket :  (4, 6)\n",
      "After OverSampling, the shape of train_X: (23634, 24)\n",
      "After OverSampling, the shape of train_y: (23634,) \n",
      "\n",
      "After OverSampling, counts of label '1': 11817\n",
      "After OverSampling, counts of label '0': 11817\n",
      "bucket :  (6, 8)\n",
      "bucket :  (8, 10)\n",
      "bucket :  (10, 12)\n",
      "bucket :  (12, 14)\n",
      "bucket :  (14, 15)\n",
      "bucket :  (15, 16)\n",
      "bucket :  (16, 17)\n",
      "bucket :  (17, 18)\n",
      "bucket :  (18, 19)\n",
      "bucket :  (19, 20)\n",
      "bucket :  (20, 21)\n",
      "bucket :  (21, 22)\n",
      "bucket :  (22, 23)\n",
      "bucket :  (23, 24)\n",
      "bucket :  (24, 25)\n",
      "bucket :  (25, 26)\n",
      "bucket :  (26, 27)\n",
      "bucket :  (27, 28)\n",
      "bucket :  (28, 29)\n",
      "bucket :  (29, 30)\n",
      "bucket :  (30, 31)\n",
      "bucket :  (31, 32)\n",
      "bucket :  (32, 33)\n",
      "bucket :  (33, 34)\n",
      "bucket :  (34, 35)\n",
      "bucket :  (35, 36)\n",
      "bucket :  (36, 37)\n",
      "bucket :  (37, 38)\n",
      "bucket :  (38, 39)\n",
      "bucket :  (39, 40)\n",
      "bucket :  (40, 41)\n"
     ]
    },
    {
     "name": "stderr",
     "output_type": "stream",
     "text": [
      " 30%|███       | 6/20 [14:30<33:42, 144.49s/it]"
     ]
    },
    {
     "name": "stdout",
     "output_type": "stream",
     "text": [
      "{'bucketing': 21, 'encoding': 'index', 'drop_act': 2, 'models': 'Xgboost', 'Xgboost': {'max_depth': 10, 'n_estimators': 204, 'learning_rate': 0.01}}\n",
      "bucket :  (2, 4)\n",
      "After OverSampling, the shape of train_X: (34594, 12)\n",
      "After OverSampling, the shape of train_y: (34594,) \n",
      "\n",
      "After OverSampling, counts of label '1': 17297\n",
      "After OverSampling, counts of label '0': 17297\n",
      "bucket :  (4, 6)\n",
      "After OverSampling, the shape of train_X: (23634, 24)\n",
      "After OverSampling, the shape of train_y: (23634,) \n",
      "\n",
      "After OverSampling, counts of label '1': 11817\n",
      "After OverSampling, counts of label '0': 11817\n",
      "bucket :  (6, 8)\n",
      "bucket :  (8, 10)\n",
      "bucket :  (10, 12)\n",
      "bucket :  (12, 14)\n",
      "bucket :  (14, 16)\n",
      "bucket :  (16, 18)\n",
      "bucket :  (18, 20)\n",
      "bucket :  (20, 22)\n",
      "bucket :  (22, 24)\n",
      "bucket :  (24, 26)\n",
      "bucket :  (26, 28)\n",
      "bucket :  (28, 30)\n",
      "bucket :  (30, 32)\n",
      "bucket :  (32, 34)\n",
      "bucket :  (34, 36)\n",
      "bucket :  (36, 38)\n",
      "bucket :  (38, 39)\n",
      "bucket :  (39, 40)\n",
      "bucket :  (40, 41)\n"
     ]
    },
    {
     "name": "stderr",
     "output_type": "stream",
     "text": [
      " 35%|███▌      | 7/20 [17:05<32:03, 147.98s/it]"
     ]
    },
    {
     "name": "stdout",
     "output_type": "stream",
     "text": [
      "{'bucketing': 12, 'encoding': 'index', 'drop_act': 2, 'models': 'Decision Tree', 'Decision Tree': {'max_depth': 11, 'min_samples_leaf': 77, 'criterion': 'gini'}}\n",
      "bucket :  (2, 6)\n",
      "After OverSampling, the shape of train_X: (59022, 25)\n",
      "After OverSampling, the shape of train_y: (59022,) \n",
      "\n",
      "After OverSampling, counts of label '1': 29511\n",
      "After OverSampling, counts of label '0': 29511\n",
      "bucket :  (6, 10)\n",
      "bucket :  (10, 14)\n",
      "bucket :  (14, 17)\n",
      "bucket :  (17, 20)\n",
      "bucket :  (20, 23)\n",
      "bucket :  (23, 26)\n",
      "bucket :  (26, 29)\n",
      "bucket :  (29, 32)\n",
      "bucket :  (32, 35)\n",
      "bucket :  (35, 38)\n",
      "bucket :  (38, 41)\n"
     ]
    },
    {
     "name": "stderr",
     "output_type": "stream",
     "text": [
      " 40%|████      | 8/20 [19:20<28:47, 143.96s/it]"
     ]
    },
    {
     "name": "stdout",
     "output_type": "stream",
     "text": [
      "{'bucketing': 12, 'encoding': 'index', 'drop_act': 2, 'models': 'Xgboost', 'Xgboost': {'max_depth': 10, 'n_estimators': 204, 'learning_rate': 0.01}}\n",
      "bucket :  (2, 6)\n",
      "After OverSampling, the shape of train_X: (59022, 25)\n",
      "After OverSampling, the shape of train_y: (59022,) \n",
      "\n",
      "After OverSampling, counts of label '1': 29511\n",
      "After OverSampling, counts of label '0': 29511\n",
      "bucket :  (6, 10)\n",
      "bucket :  (10, 14)\n",
      "bucket :  (14, 17)\n",
      "bucket :  (17, 20)\n",
      "bucket :  (20, 23)\n",
      "bucket :  (23, 26)\n",
      "bucket :  (26, 29)\n",
      "bucket :  (29, 32)\n",
      "bucket :  (32, 35)\n",
      "bucket :  (35, 38)\n",
      "bucket :  (38, 41)\n"
     ]
    },
    {
     "name": "stderr",
     "output_type": "stream",
     "text": [
      " 45%|████▌     | 9/20 [21:54<26:57, 147.00s/it]"
     ]
    },
    {
     "name": "stdout",
     "output_type": "stream",
     "text": [
      "{'bucketing': 12, 'encoding': 'index', 'drop_act': 8, 'models': 'LightGBM', 'LightGBM': {'max_depth': 9, 'num_leaves': 326, 'min_child_samples': 3}}\n",
      "bucket :  (2, 6)\n",
      "After OverSampling, the shape of train_X: (58864, 20)\n",
      "After OverSampling, the shape of train_y: (58864,) \n",
      "\n",
      "After OverSampling, counts of label '1': 29432\n",
      "After OverSampling, counts of label '0': 29432\n",
      "bucket :  (6, 10)\n",
      "bucket :  (10, 14)\n",
      "bucket :  (14, 17)\n",
      "bucket :  (17, 20)\n",
      "bucket :  (20, 23)\n",
      "bucket :  (23, 26)\n",
      "bucket :  (26, 29)\n",
      "bucket :  (29, 32)\n",
      "bucket :  (32, 35)\n",
      "bucket :  (35, 38)\n",
      "bucket :  (38, 41)\n"
     ]
    },
    {
     "name": "stderr",
     "output_type": "stream",
     "text": [
      " 50%|█████     | 10/20 [24:05<23:41, 142.11s/it]"
     ]
    },
    {
     "name": "stdout",
     "output_type": "stream",
     "text": [
      "{'bucketing': 12, 'encoding': 'aggregate', 'drop_act': 2, 'models': 'Decision Tree', 'Decision Tree': {'max_depth': 15, 'min_samples_leaf': 29, 'criterion': 'entropy'}}\n",
      "bucket :  (2, 6)\n",
      "After OverSampling, the shape of train_X: (59022, 15)\n",
      "After OverSampling, the shape of train_y: (59022,) \n",
      "\n",
      "After OverSampling, counts of label '1': 29511\n",
      "After OverSampling, counts of label '0': 29511\n",
      "bucket :  (6, 10)\n",
      "bucket :  (10, 14)\n",
      "bucket :  (14, 17)\n",
      "bucket :  (17, 20)\n",
      "bucket :  (20, 23)\n",
      "bucket :  (23, 26)\n",
      "bucket :  (26, 29)\n",
      "bucket :  (29, 32)\n",
      "bucket :  (32, 35)\n",
      "bucket :  (35, 38)\n",
      "bucket :  (38, 41)\n"
     ]
    },
    {
     "name": "stderr",
     "output_type": "stream",
     "text": [
      " 55%|█████▌    | 11/20 [26:57<22:40, 151.20s/it]"
     ]
    },
    {
     "name": "stdout",
     "output_type": "stream",
     "text": [
      "{'bucketing': 12, 'encoding': 'index', 'drop_act': 2, 'models': 'LightGBM', 'LightGBM': {'max_depth': 9, 'num_leaves': 326, 'min_child_samples': 3}}\n",
      "bucket :  (2, 6)\n",
      "After OverSampling, the shape of train_X: (59022, 25)\n",
      "After OverSampling, the shape of train_y: (59022,) \n",
      "\n",
      "After OverSampling, counts of label '1': 29511\n",
      "After OverSampling, counts of label '0': 29511\n",
      "bucket :  (6, 10)\n",
      "bucket :  (10, 14)\n",
      "bucket :  (14, 17)\n",
      "bucket :  (17, 20)\n",
      "bucket :  (20, 23)\n",
      "bucket :  (23, 26)\n",
      "bucket :  (26, 29)\n",
      "bucket :  (29, 32)\n",
      "bucket :  (32, 35)\n",
      "bucket :  (35, 38)\n",
      "bucket :  (38, 41)\n"
     ]
    },
    {
     "name": "stderr",
     "output_type": "stream",
     "text": [
      " 60%|██████    | 12/20 [29:11<19:27, 145.89s/it]"
     ]
    },
    {
     "name": "stdout",
     "output_type": "stream",
     "text": [
      "{'bucketing': 12, 'encoding': 'index', 'drop_act': 2, 'models': 'Decision Tree', 'Decision Tree': {'max_depth': 11, 'min_samples_leaf': 77, 'criterion': 'gini'}}\n",
      "bucket :  (2, 6)\n",
      "After OverSampling, the shape of train_X: (59022, 25)\n",
      "After OverSampling, the shape of train_y: (59022,) \n",
      "\n",
      "After OverSampling, counts of label '1': 29511\n",
      "After OverSampling, counts of label '0': 29511\n",
      "bucket :  (6, 10)\n",
      "bucket :  (10, 14)\n",
      "bucket :  (14, 17)\n",
      "bucket :  (17, 20)\n",
      "bucket :  (20, 23)\n",
      "bucket :  (23, 26)\n",
      "bucket :  (26, 29)\n",
      "bucket :  (29, 32)\n",
      "bucket :  (32, 35)\n",
      "bucket :  (35, 38)\n",
      "bucket :  (38, 41)\n"
     ]
    },
    {
     "name": "stderr",
     "output_type": "stream",
     "text": [
      " 65%|██████▌   | 13/20 [31:25<16:37, 142.53s/it]"
     ]
    },
    {
     "name": "stdout",
     "output_type": "stream",
     "text": [
      "{'bucketing': 21, 'encoding': 'index', 'drop_act': 2, 'models': 'Xgboost', 'Decision Tree': {'max_depth': 11, 'min_samples_leaf': 77, 'criterion': 'gini'}}\n",
      "bucket :  (2, 4)\n",
      "After OverSampling, the shape of train_X: (34594, 12)\n",
      "After OverSampling, the shape of train_y: (34594,) \n",
      "\n",
      "After OverSampling, counts of label '1': 17297\n",
      "After OverSampling, counts of label '0': 17297\n",
      "bucket :  (4, 6)\n",
      "After OverSampling, the shape of train_X: (23634, 24)\n",
      "After OverSampling, the shape of train_y: (23634,) \n",
      "\n",
      "After OverSampling, counts of label '1': 11817\n",
      "After OverSampling, counts of label '0': 11817\n",
      "bucket :  (6, 8)\n",
      "bucket :  (8, 10)\n",
      "bucket :  (10, 12)\n",
      "bucket :  (12, 14)\n",
      "bucket :  (14, 16)\n",
      "bucket :  (16, 18)\n",
      "bucket :  (18, 20)\n",
      "bucket :  (20, 22)\n",
      "bucket :  (22, 24)\n",
      "bucket :  (24, 26)\n",
      "bucket :  (26, 28)\n",
      "bucket :  (28, 30)\n",
      "bucket :  (30, 32)\n",
      "bucket :  (32, 34)\n",
      "bucket :  (34, 36)\n",
      "bucket :  (36, 38)\n",
      "bucket :  (38, 39)\n",
      "bucket :  (39, 40)\n",
      "bucket :  (40, 41)\n"
     ]
    },
    {
     "name": "stderr",
     "output_type": "stream",
     "text": [
      " 70%|███████   | 14/20 [34:01<14:38, 146.45s/it]"
     ]
    },
    {
     "name": "stdout",
     "output_type": "stream",
     "text": [
      "{'bucketing': 12, 'encoding': 'index', 'drop_act': 2, 'models': 'Decision Tree', 'Decision Tree': {'max_depth': 11, 'min_samples_leaf': 77, 'criterion': 'gini'}}\n",
      "bucket :  (2, 6)\n",
      "After OverSampling, the shape of train_X: (59022, 25)\n",
      "After OverSampling, the shape of train_y: (59022,) \n",
      "\n",
      "After OverSampling, counts of label '1': 29511\n",
      "After OverSampling, counts of label '0': 29511\n",
      "bucket :  (6, 10)\n",
      "bucket :  (10, 14)\n",
      "bucket :  (14, 17)\n",
      "bucket :  (17, 20)\n",
      "bucket :  (20, 23)\n",
      "bucket :  (23, 26)\n",
      "bucket :  (26, 29)\n",
      "bucket :  (29, 32)\n",
      "bucket :  (32, 35)\n",
      "bucket :  (35, 38)\n",
      "bucket :  (38, 41)\n"
     ]
    },
    {
     "name": "stderr",
     "output_type": "stream",
     "text": [
      " 75%|███████▌  | 15/20 [36:17<11:56, 143.23s/it]"
     ]
    },
    {
     "name": "stdout",
     "output_type": "stream",
     "text": [
      "{'bucketing': 12, 'encoding': 'index', 'drop_act': 8, 'models': 'LightGBM', 'LightGBM': {'max_depth': 9, 'num_leaves': 326, 'min_child_samples': 3}}\n",
      "bucket :  (2, 6)\n",
      "After OverSampling, the shape of train_X: (58864, 20)\n",
      "After OverSampling, the shape of train_y: (58864,) \n",
      "\n",
      "After OverSampling, counts of label '1': 29432\n",
      "After OverSampling, counts of label '0': 29432\n",
      "bucket :  (6, 10)\n",
      "bucket :  (10, 14)\n",
      "bucket :  (14, 17)\n",
      "bucket :  (17, 20)\n",
      "bucket :  (20, 23)\n",
      "bucket :  (23, 26)\n",
      "bucket :  (26, 29)\n",
      "bucket :  (29, 32)\n",
      "bucket :  (32, 35)\n",
      "bucket :  (35, 38)\n",
      "bucket :  (38, 41)\n"
     ]
    },
    {
     "name": "stderr",
     "output_type": "stream",
     "text": [
      " 80%|████████  | 16/20 [38:28<09:18, 139.51s/it]"
     ]
    },
    {
     "name": "stdout",
     "output_type": "stream",
     "text": [
      "{'bucketing': 12, 'encoding': 'index', 'drop_act': 2, 'models': 'Decision Tree', 'Decision Tree': {'max_depth': 11, 'min_samples_leaf': 77, 'criterion': 'gini'}}\n",
      "bucket :  (2, 6)\n",
      "After OverSampling, the shape of train_X: (59022, 25)\n",
      "After OverSampling, the shape of train_y: (59022,) \n",
      "\n",
      "After OverSampling, counts of label '1': 29511\n",
      "After OverSampling, counts of label '0': 29511\n",
      "bucket :  (6, 10)\n",
      "bucket :  (10, 14)\n",
      "bucket :  (14, 17)\n",
      "bucket :  (17, 20)\n",
      "bucket :  (20, 23)\n",
      "bucket :  (23, 26)\n",
      "bucket :  (26, 29)\n",
      "bucket :  (29, 32)\n",
      "bucket :  (32, 35)\n",
      "bucket :  (35, 38)\n",
      "bucket :  (38, 41)\n"
     ]
    },
    {
     "name": "stderr",
     "output_type": "stream",
     "text": [
      " 85%|████████▌ | 17/20 [40:43<06:55, 138.40s/it]"
     ]
    },
    {
     "name": "stdout",
     "output_type": "stream",
     "text": [
      "{'bucketing': 12, 'encoding': 'index', 'drop_act': 2, 'models': 'Decision Tree', 'Decision Tree': {'max_depth': 11, 'min_samples_leaf': 77, 'criterion': 'gini'}}\n",
      "bucket :  (2, 6)\n",
      "After OverSampling, the shape of train_X: (59022, 25)\n",
      "After OverSampling, the shape of train_y: (59022,) \n",
      "\n",
      "After OverSampling, counts of label '1': 29511\n",
      "After OverSampling, counts of label '0': 29511\n",
      "bucket :  (6, 10)\n",
      "bucket :  (10, 14)\n",
      "bucket :  (14, 17)\n",
      "bucket :  (17, 20)\n",
      "bucket :  (20, 23)\n",
      "bucket :  (23, 26)\n",
      "bucket :  (26, 29)\n",
      "bucket :  (29, 32)\n",
      "bucket :  (32, 35)\n",
      "bucket :  (35, 38)\n",
      "bucket :  (38, 41)\n"
     ]
    },
    {
     "name": "stderr",
     "output_type": "stream",
     "text": [
      " 90%|█████████ | 18/20 [42:59<04:34, 137.47s/it]"
     ]
    },
    {
     "name": "stdout",
     "output_type": "stream",
     "text": [
      "{'bucketing': 12, 'encoding': 'index', 'drop_act': 2, 'models': 'Xgboost', 'Xgboost': {'max_depth': 10, 'n_estimators': 204, 'learning_rate': 0.01}}\n",
      "bucket :  (2, 6)\n",
      "After OverSampling, the shape of train_X: (59022, 25)\n",
      "After OverSampling, the shape of train_y: (59022,) \n",
      "\n",
      "After OverSampling, counts of label '1': 29511\n",
      "After OverSampling, counts of label '0': 29511\n",
      "bucket :  (6, 10)\n",
      "bucket :  (10, 14)\n",
      "bucket :  (14, 17)\n",
      "bucket :  (17, 20)\n",
      "bucket :  (20, 23)\n",
      "bucket :  (23, 26)\n",
      "bucket :  (26, 29)\n",
      "bucket :  (29, 32)\n",
      "bucket :  (32, 35)\n",
      "bucket :  (35, 38)\n",
      "bucket :  (38, 41)\n"
     ]
    },
    {
     "name": "stderr",
     "output_type": "stream",
     "text": [
      " 95%|█████████▌| 19/20 [45:32<02:22, 142.33s/it]"
     ]
    },
    {
     "name": "stdout",
     "output_type": "stream",
     "text": [
      "{'bucketing': 12, 'encoding': 'index', 'drop_act': 8, 'models': 'LightGBM', 'LightGBM': {'max_depth': 9, 'num_leaves': 326, 'min_child_samples': 3}}\n",
      "bucket :  (2, 6)\n",
      "After OverSampling, the shape of train_X: (58864, 20)\n",
      "After OverSampling, the shape of train_y: (58864,) \n",
      "\n",
      "After OverSampling, counts of label '1': 29432\n",
      "After OverSampling, counts of label '0': 29432\n",
      "bucket :  (6, 10)\n",
      "bucket :  (10, 14)\n",
      "bucket :  (14, 17)\n",
      "bucket :  (17, 20)\n",
      "bucket :  (20, 23)\n",
      "bucket :  (23, 26)\n",
      "bucket :  (26, 29)\n",
      "bucket :  (29, 32)\n",
      "bucket :  (32, 35)\n",
      "bucket :  (35, 38)\n",
      "bucket :  (38, 41)\n"
     ]
    },
    {
     "name": "stderr",
     "output_type": "stream",
     "text": [
      "100%|██████████| 20/20 [47:43<00:00, 143.20s/it]\n",
      "  0%|          | 0/20 [00:00<?, ?it/s]"
     ]
    },
    {
     "name": "stdout",
     "output_type": "stream",
     "text": [
      "{'bucketing': 12, 'encoding': 'index', 'drop_act': 2, 'models': 'Decision Tree', 'Decision Tree': {'max_depth': 11, 'min_samples_leaf': 77, 'criterion': 'gini'}}\n",
      "bucket :  (2, 6)\n",
      "After OverSampling, the shape of train_X: (59022, 25)\n",
      "After OverSampling, the shape of train_y: (59022,) \n",
      "\n",
      "After OverSampling, counts of label '1': 29511\n",
      "After OverSampling, counts of label '0': 29511\n",
      "bucket :  (6, 10)\n",
      "bucket :  (10, 14)\n",
      "bucket :  (14, 17)\n",
      "bucket :  (17, 20)\n",
      "bucket :  (20, 23)\n",
      "bucket :  (23, 26)\n",
      "bucket :  (26, 29)\n",
      "bucket :  (29, 32)\n",
      "bucket :  (32, 35)\n",
      "bucket :  (35, 38)\n",
      "bucket :  (38, 41)\n"
     ]
    },
    {
     "name": "stderr",
     "output_type": "stream",
     "text": [
      "  5%|▌         | 1/20 [02:15<42:58, 135.69s/it]"
     ]
    },
    {
     "name": "stdout",
     "output_type": "stream",
     "text": [
      "{'bucketing': 33, 'encoding': 'index', 'drop_act': 2, 'models': 'LightGBM', 'LightGBM': {'max_depth': 9, 'num_leaves': 326, 'min_child_samples': 3}}\n",
      "bucket :  (2, 4)\n",
      "After OverSampling, the shape of train_X: (34594, 12)\n",
      "After OverSampling, the shape of train_y: (34594,) \n",
      "\n",
      "After OverSampling, counts of label '1': 17297\n",
      "After OverSampling, counts of label '0': 17297\n",
      "bucket :  (4, 6)\n",
      "After OverSampling, the shape of train_X: (23634, 24)\n",
      "After OverSampling, the shape of train_y: (23634,) \n",
      "\n",
      "After OverSampling, counts of label '1': 11817\n",
      "After OverSampling, counts of label '0': 11817\n",
      "bucket :  (6, 8)\n",
      "bucket :  (8, 10)\n",
      "bucket :  (10, 12)\n",
      "bucket :  (12, 14)\n",
      "bucket :  (14, 15)\n",
      "bucket :  (15, 16)\n",
      "bucket :  (16, 17)\n",
      "bucket :  (17, 18)\n",
      "bucket :  (18, 19)\n",
      "bucket :  (19, 20)\n",
      "bucket :  (20, 21)\n",
      "bucket :  (21, 22)\n",
      "bucket :  (22, 23)\n",
      "bucket :  (23, 24)\n",
      "bucket :  (24, 25)\n",
      "bucket :  (25, 26)\n",
      "bucket :  (26, 27)\n",
      "bucket :  (27, 28)\n",
      "bucket :  (28, 29)\n",
      "bucket :  (29, 30)\n",
      "bucket :  (30, 31)\n",
      "bucket :  (31, 32)\n",
      "bucket :  (32, 33)\n",
      "bucket :  (33, 34)\n",
      "bucket :  (34, 35)\n",
      "bucket :  (35, 36)\n",
      "bucket :  (36, 37)\n",
      "bucket :  (37, 38)\n",
      "bucket :  (38, 39)\n",
      "bucket :  (39, 40)\n",
      "bucket :  (40, 41)\n"
     ]
    },
    {
     "name": "stderr",
     "output_type": "stream",
     "text": [
      " 10%|█         | 2/20 [04:31<40:44, 135.80s/it]"
     ]
    },
    {
     "name": "stdout",
     "output_type": "stream",
     "text": [
      "{'bucketing': 12, 'encoding': 'index', 'drop_act': 2, 'models': 'Decision Tree', 'Decision Tree': {'max_depth': 11, 'min_samples_leaf': 77, 'criterion': 'gini'}}\n",
      "bucket :  (2, 6)\n",
      "After OverSampling, the shape of train_X: (59022, 25)\n",
      "After OverSampling, the shape of train_y: (59022,) \n",
      "\n",
      "After OverSampling, counts of label '1': 29511\n",
      "After OverSampling, counts of label '0': 29511\n",
      "bucket :  (6, 10)\n",
      "bucket :  (10, 14)\n",
      "bucket :  (14, 17)\n",
      "bucket :  (17, 20)\n",
      "bucket :  (20, 23)\n",
      "bucket :  (23, 26)\n",
      "bucket :  (26, 29)\n",
      "bucket :  (29, 32)\n",
      "bucket :  (32, 35)\n",
      "bucket :  (35, 38)\n",
      "bucket :  (38, 41)\n"
     ]
    },
    {
     "name": "stderr",
     "output_type": "stream",
     "text": [
      " 15%|█▌        | 3/20 [06:47<38:27, 135.75s/it]"
     ]
    },
    {
     "name": "stdout",
     "output_type": "stream",
     "text": [
      "{'bucketing': 12, 'encoding': 'index', 'drop_act': 2, 'models': 'Decision Tree', 'LightGBM': {'max_depth': 9, 'num_leaves': 326, 'min_child_samples': 3}}\n",
      "bucket :  (2, 6)\n",
      "After OverSampling, the shape of train_X: (59022, 25)\n",
      "After OverSampling, the shape of train_y: (59022,) \n",
      "\n",
      "After OverSampling, counts of label '1': 29511\n",
      "After OverSampling, counts of label '0': 29511\n",
      "bucket :  (6, 10)\n",
      "bucket :  (10, 14)\n",
      "bucket :  (14, 17)\n",
      "bucket :  (17, 20)\n",
      "bucket :  (20, 23)\n",
      "bucket :  (23, 26)\n",
      "bucket :  (26, 29)\n",
      "bucket :  (29, 32)\n",
      "bucket :  (32, 35)\n",
      "bucket :  (35, 38)\n",
      "bucket :  (38, 41)\n"
     ]
    },
    {
     "name": "stderr",
     "output_type": "stream",
     "text": [
      " 20%|██        | 4/20 [09:03<36:15, 135.98s/it]"
     ]
    },
    {
     "name": "stdout",
     "output_type": "stream",
     "text": [
      "{'bucketing': 12, 'encoding': 'index', 'drop_act': 8, 'models': 'LightGBM', 'LightGBM': {'max_depth': 9, 'num_leaves': 326, 'min_child_samples': 3}}\n",
      "bucket :  (2, 6)\n",
      "After OverSampling, the shape of train_X: (58864, 20)\n",
      "After OverSampling, the shape of train_y: (58864,) \n",
      "\n",
      "After OverSampling, counts of label '1': 29432\n",
      "After OverSampling, counts of label '0': 29432\n",
      "bucket :  (6, 10)\n",
      "bucket :  (10, 14)\n",
      "bucket :  (14, 17)\n",
      "bucket :  (17, 20)\n",
      "bucket :  (20, 23)\n",
      "bucket :  (23, 26)\n",
      "bucket :  (26, 29)\n",
      "bucket :  (29, 32)\n",
      "bucket :  (32, 35)\n",
      "bucket :  (35, 38)\n",
      "bucket :  (38, 41)\n"
     ]
    },
    {
     "name": "stderr",
     "output_type": "stream",
     "text": [
      " 25%|██▌       | 5/20 [11:13<33:28, 133.91s/it]"
     ]
    },
    {
     "name": "stdout",
     "output_type": "stream",
     "text": [
      "{'bucketing': 33, 'encoding': 'index', 'drop_act': 2, 'models': 'LightGBM', 'LightGBM': {'max_depth': 9, 'num_leaves': 326, 'min_child_samples': 3}}\n",
      "bucket :  (2, 4)\n",
      "After OverSampling, the shape of train_X: (34594, 12)\n",
      "After OverSampling, the shape of train_y: (34594,) \n",
      "\n",
      "After OverSampling, counts of label '1': 17297\n",
      "After OverSampling, counts of label '0': 17297\n",
      "bucket :  (4, 6)\n",
      "After OverSampling, the shape of train_X: (23634, 24)\n",
      "After OverSampling, the shape of train_y: (23634,) \n",
      "\n",
      "After OverSampling, counts of label '1': 11817\n",
      "After OverSampling, counts of label '0': 11817\n",
      "bucket :  (6, 8)\n",
      "bucket :  (8, 10)\n",
      "bucket :  (10, 12)\n",
      "bucket :  (12, 14)\n",
      "bucket :  (14, 15)\n",
      "bucket :  (15, 16)\n",
      "bucket :  (16, 17)\n",
      "bucket :  (17, 18)\n",
      "bucket :  (18, 19)\n",
      "bucket :  (19, 20)\n",
      "bucket :  (20, 21)\n",
      "bucket :  (21, 22)\n",
      "bucket :  (22, 23)\n",
      "bucket :  (23, 24)\n",
      "bucket :  (24, 25)\n",
      "bucket :  (25, 26)\n",
      "bucket :  (26, 27)\n",
      "bucket :  (27, 28)\n",
      "bucket :  (28, 29)\n",
      "bucket :  (29, 30)\n",
      "bucket :  (30, 31)\n",
      "bucket :  (31, 32)\n",
      "bucket :  (32, 33)\n",
      "bucket :  (33, 34)\n",
      "bucket :  (34, 35)\n",
      "bucket :  (35, 36)\n",
      "bucket :  (36, 37)\n",
      "bucket :  (37, 38)\n",
      "bucket :  (38, 39)\n",
      "bucket :  (39, 40)\n",
      "bucket :  (40, 41)\n"
     ]
    },
    {
     "name": "stderr",
     "output_type": "stream",
     "text": [
      " 30%|███       | 6/20 [13:30<31:27, 134.83s/it]"
     ]
    },
    {
     "name": "stdout",
     "output_type": "stream",
     "text": [
      "{'bucketing': 21, 'encoding': 'index', 'drop_act': 2, 'models': 'Xgboost', 'Decision Tree': {'max_depth': 11, 'min_samples_leaf': 77, 'criterion': 'gini'}}\n",
      "bucket :  (2, 4)\n",
      "After OverSampling, the shape of train_X: (34594, 12)\n",
      "After OverSampling, the shape of train_y: (34594,) \n",
      "\n",
      "After OverSampling, counts of label '1': 17297\n",
      "After OverSampling, counts of label '0': 17297\n",
      "bucket :  (4, 6)\n",
      "After OverSampling, the shape of train_X: (23634, 24)\n",
      "After OverSampling, the shape of train_y: (23634,) \n",
      "\n",
      "After OverSampling, counts of label '1': 11817\n",
      "After OverSampling, counts of label '0': 11817\n",
      "bucket :  (6, 8)\n",
      "bucket :  (8, 10)\n",
      "bucket :  (10, 12)\n",
      "bucket :  (12, 14)\n",
      "bucket :  (14, 16)\n",
      "bucket :  (16, 18)\n",
      "bucket :  (18, 20)\n",
      "bucket :  (20, 22)\n",
      "bucket :  (22, 24)\n",
      "bucket :  (24, 26)\n",
      "bucket :  (26, 28)\n",
      "bucket :  (28, 30)\n",
      "bucket :  (30, 32)\n",
      "bucket :  (32, 34)\n",
      "bucket :  (34, 36)\n",
      "bucket :  (36, 38)\n",
      "bucket :  (38, 39)\n",
      "bucket :  (39, 40)\n",
      "bucket :  (40, 41)\n"
     ]
    },
    {
     "name": "stderr",
     "output_type": "stream",
     "text": [
      " 35%|███▌      | 7/20 [16:04<30:35, 141.21s/it]"
     ]
    },
    {
     "name": "stdout",
     "output_type": "stream",
     "text": [
      "{'bucketing': 21, 'encoding': 'index', 'drop_act': 2, 'models': 'Xgboost', 'Xgboost': {'max_depth': 10, 'n_estimators': 204, 'learning_rate': 0.01}}\n",
      "bucket :  (2, 4)\n",
      "After OverSampling, the shape of train_X: (34594, 12)\n",
      "After OverSampling, the shape of train_y: (34594,) \n",
      "\n",
      "After OverSampling, counts of label '1': 17297\n",
      "After OverSampling, counts of label '0': 17297\n",
      "bucket :  (4, 6)\n",
      "After OverSampling, the shape of train_X: (23634, 24)\n",
      "After OverSampling, the shape of train_y: (23634,) \n",
      "\n",
      "After OverSampling, counts of label '1': 11817\n",
      "After OverSampling, counts of label '0': 11817\n",
      "bucket :  (6, 8)\n",
      "bucket :  (8, 10)\n",
      "bucket :  (10, 12)\n",
      "bucket :  (12, 14)\n",
      "bucket :  (14, 16)\n",
      "bucket :  (16, 18)\n",
      "bucket :  (18, 20)\n",
      "bucket :  (20, 22)\n",
      "bucket :  (22, 24)\n",
      "bucket :  (24, 26)\n",
      "bucket :  (26, 28)\n",
      "bucket :  (28, 30)\n",
      "bucket :  (30, 32)\n",
      "bucket :  (32, 34)\n",
      "bucket :  (34, 36)\n",
      "bucket :  (36, 38)\n",
      "bucket :  (38, 39)\n",
      "bucket :  (39, 40)\n",
      "bucket :  (40, 41)\n"
     ]
    },
    {
     "name": "stderr",
     "output_type": "stream",
     "text": [
      " 40%|████      | 8/20 [18:40<29:11, 145.95s/it]"
     ]
    },
    {
     "name": "stdout",
     "output_type": "stream",
     "text": [
      "{'bucketing': 12, 'encoding': 'index', 'drop_act': 8, 'models': 'LightGBM', 'LightGBM': {'max_depth': 9, 'num_leaves': 326, 'min_child_samples': 3}}\n",
      "bucket :  (2, 6)\n",
      "After OverSampling, the shape of train_X: (58864, 20)\n",
      "After OverSampling, the shape of train_y: (58864,) \n",
      "\n",
      "After OverSampling, counts of label '1': 29432\n",
      "After OverSampling, counts of label '0': 29432\n",
      "bucket :  (6, 10)\n",
      "bucket :  (10, 14)\n",
      "bucket :  (14, 17)\n",
      "bucket :  (17, 20)\n",
      "bucket :  (20, 23)\n",
      "bucket :  (23, 26)\n",
      "bucket :  (26, 29)\n",
      "bucket :  (29, 32)\n",
      "bucket :  (32, 35)\n",
      "bucket :  (35, 38)\n",
      "bucket :  (38, 41)\n"
     ]
    },
    {
     "name": "stderr",
     "output_type": "stream",
     "text": [
      " 45%|████▌     | 9/20 [20:52<25:54, 141.32s/it]"
     ]
    },
    {
     "name": "stdout",
     "output_type": "stream",
     "text": [
      "{'bucketing': 12, 'encoding': 'index', 'drop_act': 2, 'models': 'Decision Tree', 'Decision Tree': {'max_depth': 11, 'min_samples_leaf': 77, 'criterion': 'gini'}}\n",
      "bucket :  (2, 6)\n",
      "After OverSampling, the shape of train_X: (59022, 25)\n",
      "After OverSampling, the shape of train_y: (59022,) \n",
      "\n",
      "After OverSampling, counts of label '1': 29511\n",
      "After OverSampling, counts of label '0': 29511\n",
      "bucket :  (6, 10)\n",
      "bucket :  (10, 14)\n",
      "bucket :  (14, 17)\n",
      "bucket :  (17, 20)\n",
      "bucket :  (20, 23)\n",
      "bucket :  (23, 26)\n",
      "bucket :  (26, 29)\n",
      "bucket :  (29, 32)\n",
      "bucket :  (32, 35)\n",
      "bucket :  (35, 38)\n",
      "bucket :  (38, 41)\n"
     ]
    },
    {
     "name": "stderr",
     "output_type": "stream",
     "text": [
      " 50%|█████     | 10/20 [23:07<23:16, 139.66s/it]"
     ]
    },
    {
     "name": "stdout",
     "output_type": "stream",
     "text": [
      "{'bucketing': 21, 'encoding': 'index', 'drop_act': 2, 'models': 'Decision Tree', 'Decision Tree': {'max_depth': 11, 'min_samples_leaf': 77, 'criterion': 'gini'}}\n",
      "bucket :  (2, 4)\n",
      "After OverSampling, the shape of train_X: (34594, 12)\n",
      "After OverSampling, the shape of train_y: (34594,) \n",
      "\n",
      "After OverSampling, counts of label '1': 17297\n",
      "After OverSampling, counts of label '0': 17297\n",
      "bucket :  (4, 6)\n",
      "After OverSampling, the shape of train_X: (23634, 24)\n",
      "After OverSampling, the shape of train_y: (23634,) \n",
      "\n",
      "After OverSampling, counts of label '1': 11817\n",
      "After OverSampling, counts of label '0': 11817\n",
      "bucket :  (6, 8)\n",
      "bucket :  (8, 10)\n",
      "bucket :  (10, 12)\n",
      "bucket :  (12, 14)\n",
      "bucket :  (14, 16)\n",
      "bucket :  (16, 18)\n",
      "bucket :  (18, 20)\n",
      "bucket :  (20, 22)\n",
      "bucket :  (22, 24)\n",
      "bucket :  (24, 26)\n",
      "bucket :  (26, 28)\n",
      "bucket :  (28, 30)\n",
      "bucket :  (30, 32)\n",
      "bucket :  (32, 34)\n",
      "bucket :  (34, 36)\n",
      "bucket :  (36, 38)\n",
      "bucket :  (38, 39)\n",
      "bucket :  (39, 40)\n",
      "bucket :  (40, 41)\n"
     ]
    },
    {
     "name": "stderr",
     "output_type": "stream",
     "text": [
      " 55%|█████▌    | 11/20 [25:23<20:44, 138.30s/it]"
     ]
    },
    {
     "name": "stdout",
     "output_type": "stream",
     "text": [
      "{'bucketing': 12, 'encoding': 'index', 'drop_act': 8, 'models': 'LightGBM', 'LightGBM': {'max_depth': 9, 'num_leaves': 326, 'min_child_samples': 3}}\n",
      "bucket :  (2, 6)\n",
      "After OverSampling, the shape of train_X: (58864, 20)\n",
      "After OverSampling, the shape of train_y: (58864,) \n",
      "\n",
      "After OverSampling, counts of label '1': 29432\n",
      "After OverSampling, counts of label '0': 29432\n",
      "bucket :  (6, 10)\n",
      "bucket :  (10, 14)\n",
      "bucket :  (14, 17)\n",
      "bucket :  (17, 20)\n",
      "bucket :  (20, 23)\n",
      "bucket :  (23, 26)\n",
      "bucket :  (26, 29)\n",
      "bucket :  (29, 32)\n",
      "bucket :  (32, 35)\n",
      "bucket :  (35, 38)\n",
      "bucket :  (38, 41)\n"
     ]
    },
    {
     "name": "stderr",
     "output_type": "stream",
     "text": [
      " 60%|██████    | 12/20 [27:34<18:08, 136.04s/it]"
     ]
    },
    {
     "name": "stdout",
     "output_type": "stream",
     "text": [
      "{'bucketing': 12, 'encoding': 'index', 'drop_act': 2, 'models': 'Decision Tree', 'Decision Tree': {'max_depth': 11, 'min_samples_leaf': 77, 'criterion': 'gini'}}\n",
      "bucket :  (2, 6)\n",
      "After OverSampling, the shape of train_X: (59022, 25)\n",
      "After OverSampling, the shape of train_y: (59022,) \n",
      "\n",
      "After OverSampling, counts of label '1': 29511\n",
      "After OverSampling, counts of label '0': 29511\n",
      "bucket :  (6, 10)\n",
      "bucket :  (10, 14)\n",
      "bucket :  (14, 17)\n",
      "bucket :  (17, 20)\n",
      "bucket :  (20, 23)\n",
      "bucket :  (23, 26)\n",
      "bucket :  (26, 29)\n",
      "bucket :  (29, 32)\n",
      "bucket :  (32, 35)\n",
      "bucket :  (35, 38)\n",
      "bucket :  (38, 41)\n"
     ]
    },
    {
     "name": "stderr",
     "output_type": "stream",
     "text": [
      " 65%|██████▌   | 13/20 [29:49<15:50, 135.75s/it]"
     ]
    },
    {
     "name": "stdout",
     "output_type": "stream",
     "text": [
      "{'bucketing': 12, 'encoding': 'index', 'drop_act': 8, 'models': 'LightGBM', 'LightGBM': {'max_depth': 9, 'num_leaves': 326, 'min_child_samples': 3}}\n",
      "bucket :  (2, 6)\n",
      "After OverSampling, the shape of train_X: (58864, 20)\n",
      "After OverSampling, the shape of train_y: (58864,) \n",
      "\n",
      "After OverSampling, counts of label '1': 29432\n",
      "After OverSampling, counts of label '0': 29432\n",
      "bucket :  (6, 10)\n",
      "bucket :  (10, 14)\n",
      "bucket :  (14, 17)\n",
      "bucket :  (17, 20)\n",
      "bucket :  (20, 23)\n",
      "bucket :  (23, 26)\n",
      "bucket :  (26, 29)\n",
      "bucket :  (29, 32)\n",
      "bucket :  (32, 35)\n",
      "bucket :  (35, 38)\n",
      "bucket :  (38, 41)\n"
     ]
    },
    {
     "name": "stderr",
     "output_type": "stream",
     "text": [
      " 70%|███████   | 14/20 [32:00<13:26, 134.39s/it]"
     ]
    },
    {
     "name": "stdout",
     "output_type": "stream",
     "text": [
      "{'bucketing': 33, 'encoding': 'index', 'drop_act': 2, 'models': 'LightGBM', 'LightGBM': {'max_depth': 9, 'num_leaves': 326, 'min_child_samples': 3}}\n",
      "bucket :  (2, 4)\n",
      "After OverSampling, the shape of train_X: (34594, 12)\n",
      "After OverSampling, the shape of train_y: (34594,) \n",
      "\n",
      "After OverSampling, counts of label '1': 17297\n",
      "After OverSampling, counts of label '0': 17297\n",
      "bucket :  (4, 6)\n",
      "After OverSampling, the shape of train_X: (23634, 24)\n",
      "After OverSampling, the shape of train_y: (23634,) \n",
      "\n",
      "After OverSampling, counts of label '1': 11817\n",
      "After OverSampling, counts of label '0': 11817\n",
      "bucket :  (6, 8)\n",
      "bucket :  (8, 10)\n",
      "bucket :  (10, 12)\n",
      "bucket :  (12, 14)\n",
      "bucket :  (14, 15)\n",
      "bucket :  (15, 16)\n",
      "bucket :  (16, 17)\n",
      "bucket :  (17, 18)\n",
      "bucket :  (18, 19)\n",
      "bucket :  (19, 20)\n",
      "bucket :  (20, 21)\n",
      "bucket :  (21, 22)\n",
      "bucket :  (22, 23)\n",
      "bucket :  (23, 24)\n",
      "bucket :  (24, 25)\n",
      "bucket :  (25, 26)\n",
      "bucket :  (26, 27)\n",
      "bucket :  (27, 28)\n",
      "bucket :  (28, 29)\n",
      "bucket :  (29, 30)\n",
      "bucket :  (30, 31)\n",
      "bucket :  (31, 32)\n",
      "bucket :  (32, 33)\n",
      "bucket :  (33, 34)\n",
      "bucket :  (34, 35)\n",
      "bucket :  (35, 36)\n",
      "bucket :  (36, 37)\n",
      "bucket :  (37, 38)\n",
      "bucket :  (38, 39)\n",
      "bucket :  (39, 40)\n",
      "bucket :  (40, 41)\n"
     ]
    },
    {
     "name": "stderr",
     "output_type": "stream",
     "text": [
      " 75%|███████▌  | 15/20 [34:16<11:14, 134.88s/it]"
     ]
    },
    {
     "name": "stdout",
     "output_type": "stream",
     "text": [
      "{'bucketing': 12, 'encoding': 'index', 'drop_act': 2, 'models': 'Decision Tree', 'Decision Tree': {'max_depth': 11, 'min_samples_leaf': 77, 'criterion': 'gini'}}\n",
      "bucket :  (2, 6)\n",
      "After OverSampling, the shape of train_X: (59022, 25)\n",
      "After OverSampling, the shape of train_y: (59022,) \n",
      "\n",
      "After OverSampling, counts of label '1': 29511\n",
      "After OverSampling, counts of label '0': 29511\n",
      "bucket :  (6, 10)\n",
      "bucket :  (10, 14)\n",
      "bucket :  (14, 17)\n",
      "bucket :  (17, 20)\n",
      "bucket :  (20, 23)\n",
      "bucket :  (23, 26)\n",
      "bucket :  (26, 29)\n",
      "bucket :  (29, 32)\n",
      "bucket :  (32, 35)\n",
      "bucket :  (35, 38)\n",
      "bucket :  (38, 41)\n"
     ]
    },
    {
     "name": "stderr",
     "output_type": "stream",
     "text": [
      " 80%|████████  | 16/20 [36:31<09:00, 135.08s/it]"
     ]
    },
    {
     "name": "stdout",
     "output_type": "stream",
     "text": [
      "{'bucketing': 12, 'encoding': 'index', 'drop_act': 2, 'models': 'Xgboost', 'Xgboost': {'max_depth': 10, 'n_estimators': 204, 'learning_rate': 0.01}}\n",
      "bucket :  (2, 6)\n",
      "After OverSampling, the shape of train_X: (59022, 25)\n",
      "After OverSampling, the shape of train_y: (59022,) \n",
      "\n",
      "After OverSampling, counts of label '1': 29511\n",
      "After OverSampling, counts of label '0': 29511\n",
      "bucket :  (6, 10)\n",
      "bucket :  (10, 14)\n",
      "bucket :  (14, 17)\n",
      "bucket :  (17, 20)\n",
      "bucket :  (20, 23)\n",
      "bucket :  (23, 26)\n",
      "bucket :  (26, 29)\n",
      "bucket :  (29, 32)\n",
      "bucket :  (32, 35)\n",
      "bucket :  (35, 38)\n",
      "bucket :  (38, 41)\n"
     ]
    },
    {
     "name": "stderr",
     "output_type": "stream",
     "text": [
      " 85%|████████▌ | 17/20 [39:04<07:01, 140.38s/it]"
     ]
    },
    {
     "name": "stdout",
     "output_type": "stream",
     "text": [
      "{'bucketing': 21, 'encoding': 'index', 'drop_act': 2, 'models': 'Decision Tree', 'Decision Tree': {'max_depth': 11, 'min_samples_leaf': 77, 'criterion': 'gini'}}\n",
      "bucket :  (2, 4)\n",
      "After OverSampling, the shape of train_X: (34594, 12)\n",
      "After OverSampling, the shape of train_y: (34594,) \n",
      "\n",
      "After OverSampling, counts of label '1': 17297\n",
      "After OverSampling, counts of label '0': 17297\n",
      "bucket :  (4, 6)\n",
      "After OverSampling, the shape of train_X: (23634, 24)\n",
      "After OverSampling, the shape of train_y: (23634,) \n",
      "\n",
      "After OverSampling, counts of label '1': 11817\n",
      "After OverSampling, counts of label '0': 11817\n",
      "bucket :  (6, 8)\n",
      "bucket :  (8, 10)\n",
      "bucket :  (10, 12)\n",
      "bucket :  (12, 14)\n",
      "bucket :  (14, 16)\n",
      "bucket :  (16, 18)\n",
      "bucket :  (18, 20)\n",
      "bucket :  (20, 22)\n",
      "bucket :  (22, 24)\n",
      "bucket :  (24, 26)\n",
      "bucket :  (26, 28)\n",
      "bucket :  (28, 30)\n",
      "bucket :  (30, 32)\n",
      "bucket :  (32, 34)\n",
      "bucket :  (34, 36)\n",
      "bucket :  (36, 38)\n",
      "bucket :  (38, 39)\n",
      "bucket :  (39, 40)\n",
      "bucket :  (40, 41)\n"
     ]
    },
    {
     "name": "stderr",
     "output_type": "stream",
     "text": [
      " 90%|█████████ | 18/20 [41:19<04:37, 138.81s/it]"
     ]
    },
    {
     "name": "stdout",
     "output_type": "stream",
     "text": [
      "{'bucketing': 12, 'encoding': 'aggregate', 'drop_act': 2, 'models': 'Decision Tree', 'Decision Tree': {'max_depth': 15, 'min_samples_leaf': 29, 'criterion': 'entropy'}}\n",
      "bucket :  (2, 6)\n",
      "After OverSampling, the shape of train_X: (59022, 15)\n",
      "After OverSampling, the shape of train_y: (59022,) \n",
      "\n",
      "After OverSampling, counts of label '1': 29511\n",
      "After OverSampling, counts of label '0': 29511\n",
      "bucket :  (6, 10)\n",
      "bucket :  (10, 14)\n",
      "bucket :  (14, 17)\n",
      "bucket :  (17, 20)\n",
      "bucket :  (20, 23)\n",
      "bucket :  (23, 26)\n",
      "bucket :  (26, 29)\n",
      "bucket :  (29, 32)\n",
      "bucket :  (32, 35)\n",
      "bucket :  (35, 38)\n",
      "bucket :  (38, 41)\n"
     ]
    },
    {
     "name": "stderr",
     "output_type": "stream",
     "text": [
      " 95%|█████████▌| 19/20 [44:12<02:28, 148.86s/it]"
     ]
    },
    {
     "name": "stdout",
     "output_type": "stream",
     "text": [
      "{'bucketing': 12, 'encoding': 'aggregate', 'drop_act': 2, 'models': 'Decision Tree', 'Decision Tree': {'max_depth': 15, 'min_samples_leaf': 29, 'criterion': 'entropy'}}\n",
      "bucket :  (2, 6)\n",
      "After OverSampling, the shape of train_X: (59022, 15)\n",
      "After OverSampling, the shape of train_y: (59022,) \n",
      "\n",
      "After OverSampling, counts of label '1': 29511\n",
      "After OverSampling, counts of label '0': 29511\n",
      "bucket :  (6, 10)\n",
      "bucket :  (10, 14)\n",
      "bucket :  (14, 17)\n",
      "bucket :  (17, 20)\n",
      "bucket :  (20, 23)\n",
      "bucket :  (23, 26)\n",
      "bucket :  (26, 29)\n",
      "bucket :  (29, 32)\n",
      "bucket :  (32, 35)\n",
      "bucket :  (35, 38)\n",
      "bucket :  (38, 41)\n"
     ]
    },
    {
     "name": "stderr",
     "output_type": "stream",
     "text": [
      "100%|██████████| 20/20 [47:02<00:00, 141.15s/it]\n",
      "  0%|          | 0/20 [00:00<?, ?it/s]"
     ]
    },
    {
     "name": "stdout",
     "output_type": "stream",
     "text": [
      "{'bucketing': 12, 'encoding': 'aggregate', 'drop_act': 2, 'models': 'Decision Tree', 'Decision Tree': {'max_depth': 15, 'min_samples_leaf': 29, 'criterion': 'entropy'}}\n",
      "bucket :  (2, 6)\n",
      "After OverSampling, the shape of train_X: (59022, 15)\n",
      "After OverSampling, the shape of train_y: (59022,) \n",
      "\n",
      "After OverSampling, counts of label '1': 29511\n",
      "After OverSampling, counts of label '0': 29511\n",
      "bucket :  (6, 10)\n",
      "bucket :  (10, 14)\n",
      "bucket :  (14, 17)\n",
      "bucket :  (17, 20)\n",
      "bucket :  (20, 23)\n",
      "bucket :  (23, 26)\n",
      "bucket :  (26, 29)\n",
      "bucket :  (29, 32)\n",
      "bucket :  (32, 35)\n",
      "bucket :  (35, 38)\n",
      "bucket :  (38, 41)\n"
     ]
    },
    {
     "name": "stderr",
     "output_type": "stream",
     "text": [
      "  5%|▌         | 1/20 [02:51<54:27, 171.97s/it]"
     ]
    },
    {
     "name": "stdout",
     "output_type": "stream",
     "text": [
      "{'bucketing': 33, 'encoding': 'index', 'drop_act': 2, 'models': 'LightGBM', 'LightGBM': {'max_depth': 9, 'num_leaves': 326, 'min_child_samples': 3}}\n",
      "bucket :  (2, 4)\n",
      "After OverSampling, the shape of train_X: (34594, 12)\n",
      "After OverSampling, the shape of train_y: (34594,) \n",
      "\n",
      "After OverSampling, counts of label '1': 17297\n",
      "After OverSampling, counts of label '0': 17297\n",
      "bucket :  (4, 6)\n",
      "After OverSampling, the shape of train_X: (23634, 24)\n",
      "After OverSampling, the shape of train_y: (23634,) \n",
      "\n",
      "After OverSampling, counts of label '1': 11817\n",
      "After OverSampling, counts of label '0': 11817\n",
      "bucket :  (6, 8)\n",
      "bucket :  (8, 10)\n",
      "bucket :  (10, 12)\n",
      "bucket :  (12, 14)\n",
      "bucket :  (14, 15)\n",
      "bucket :  (15, 16)\n",
      "bucket :  (16, 17)\n",
      "bucket :  (17, 18)\n",
      "bucket :  (18, 19)\n",
      "bucket :  (19, 20)\n",
      "bucket :  (20, 21)\n",
      "bucket :  (21, 22)\n",
      "bucket :  (22, 23)\n",
      "bucket :  (23, 24)\n",
      "bucket :  (24, 25)\n",
      "bucket :  (25, 26)\n",
      "bucket :  (26, 27)\n",
      "bucket :  (27, 28)\n",
      "bucket :  (28, 29)\n",
      "bucket :  (29, 30)\n",
      "bucket :  (30, 31)\n",
      "bucket :  (31, 32)\n",
      "bucket :  (32, 33)\n",
      "bucket :  (33, 34)\n",
      "bucket :  (34, 35)\n",
      "bucket :  (35, 36)\n",
      "bucket :  (36, 37)\n",
      "bucket :  (37, 38)\n",
      "bucket :  (38, 39)\n",
      "bucket :  (39, 40)\n",
      "bucket :  (40, 41)\n"
     ]
    },
    {
     "name": "stderr",
     "output_type": "stream",
     "text": [
      " 10%|█         | 2/20 [05:08<45:21, 151.21s/it]"
     ]
    },
    {
     "name": "stdout",
     "output_type": "stream",
     "text": [
      "{'bucketing': 12, 'encoding': 'index', 'drop_act': 8, 'models': 'LightGBM', 'LightGBM': {'max_depth': 9, 'num_leaves': 326, 'min_child_samples': 3}}\n",
      "bucket :  (2, 6)\n",
      "After OverSampling, the shape of train_X: (58864, 20)\n",
      "After OverSampling, the shape of train_y: (58864,) \n",
      "\n",
      "After OverSampling, counts of label '1': 29432\n",
      "After OverSampling, counts of label '0': 29432\n",
      "bucket :  (6, 10)\n",
      "bucket :  (10, 14)\n",
      "bucket :  (14, 17)\n",
      "bucket :  (17, 20)\n",
      "bucket :  (20, 23)\n",
      "bucket :  (23, 26)\n",
      "bucket :  (26, 29)\n",
      "bucket :  (29, 32)\n",
      "bucket :  (32, 35)\n",
      "bucket :  (35, 38)\n",
      "bucket :  (38, 41)\n"
     ]
    },
    {
     "name": "stderr",
     "output_type": "stream",
     "text": [
      " 15%|█▌        | 3/20 [07:19<40:15, 142.10s/it]"
     ]
    },
    {
     "name": "stdout",
     "output_type": "stream",
     "text": [
      "{'bucketing': 21, 'encoding': 'index', 'drop_act': 2, 'models': 'Decision Tree', 'Decision Tree': {'max_depth': 11, 'min_samples_leaf': 77, 'criterion': 'gini'}}\n",
      "bucket :  (2, 4)\n",
      "After OverSampling, the shape of train_X: (34594, 12)\n",
      "After OverSampling, the shape of train_y: (34594,) \n",
      "\n",
      "After OverSampling, counts of label '1': 17297\n",
      "After OverSampling, counts of label '0': 17297\n",
      "bucket :  (4, 6)\n",
      "After OverSampling, the shape of train_X: (23634, 24)\n",
      "After OverSampling, the shape of train_y: (23634,) \n",
      "\n",
      "After OverSampling, counts of label '1': 11817\n",
      "After OverSampling, counts of label '0': 11817\n",
      "bucket :  (6, 8)\n",
      "bucket :  (8, 10)\n",
      "bucket :  (10, 12)\n",
      "bucket :  (12, 14)\n",
      "bucket :  (14, 16)\n",
      "bucket :  (16, 18)\n",
      "bucket :  (18, 20)\n",
      "bucket :  (20, 22)\n",
      "bucket :  (22, 24)\n",
      "bucket :  (24, 26)\n",
      "bucket :  (26, 28)\n",
      "bucket :  (28, 30)\n",
      "bucket :  (30, 32)\n",
      "bucket :  (32, 34)\n",
      "bucket :  (34, 36)\n",
      "bucket :  (36, 38)\n",
      "bucket :  (38, 39)\n",
      "bucket :  (39, 40)\n",
      "bucket :  (40, 41)\n"
     ]
    },
    {
     "name": "stderr",
     "output_type": "stream",
     "text": [
      " 20%|██        | 4/20 [09:36<37:16, 139.75s/it]"
     ]
    },
    {
     "name": "stdout",
     "output_type": "stream",
     "text": [
      "{'bucketing': 12, 'encoding': 'index', 'drop_act': 2, 'models': 'Decision Tree', 'Decision Tree': {'max_depth': 11, 'min_samples_leaf': 77, 'criterion': 'gini'}}\n",
      "bucket :  (2, 6)\n",
      "After OverSampling, the shape of train_X: (59022, 25)\n",
      "After OverSampling, the shape of train_y: (59022,) \n",
      "\n",
      "After OverSampling, counts of label '1': 29511\n",
      "After OverSampling, counts of label '0': 29511\n",
      "bucket :  (6, 10)\n",
      "bucket :  (10, 14)\n",
      "bucket :  (14, 17)\n",
      "bucket :  (17, 20)\n",
      "bucket :  (20, 23)\n",
      "bucket :  (23, 26)\n",
      "bucket :  (26, 29)\n",
      "bucket :  (29, 32)\n",
      "bucket :  (32, 35)\n",
      "bucket :  (35, 38)\n",
      "bucket :  (38, 41)\n"
     ]
    },
    {
     "name": "stderr",
     "output_type": "stream",
     "text": [
      " 25%|██▌       | 5/20 [11:51<34:34, 138.32s/it]"
     ]
    },
    {
     "name": "stdout",
     "output_type": "stream",
     "text": [
      "{'bucketing': 12, 'encoding': 'index', 'drop_act': 2, 'models': 'Decision Tree', 'Decision Tree': {'max_depth': 11, 'min_samples_leaf': 77, 'criterion': 'gini'}}\n",
      "bucket :  (2, 6)\n",
      "After OverSampling, the shape of train_X: (59022, 25)\n",
      "After OverSampling, the shape of train_y: (59022,) \n",
      "\n",
      "After OverSampling, counts of label '1': 29511\n",
      "After OverSampling, counts of label '0': 29511\n",
      "bucket :  (6, 10)\n",
      "bucket :  (10, 14)\n",
      "bucket :  (14, 17)\n",
      "bucket :  (17, 20)\n",
      "bucket :  (20, 23)\n",
      "bucket :  (23, 26)\n",
      "bucket :  (26, 29)\n",
      "bucket :  (29, 32)\n",
      "bucket :  (32, 35)\n",
      "bucket :  (35, 38)\n",
      "bucket :  (38, 41)\n"
     ]
    },
    {
     "name": "stderr",
     "output_type": "stream",
     "text": [
      " 30%|███       | 6/20 [14:07<32:05, 137.51s/it]"
     ]
    },
    {
     "name": "stdout",
     "output_type": "stream",
     "text": [
      "{'bucketing': 12, 'encoding': 'index', 'drop_act': 2, 'models': 'Decision Tree', 'LightGBM': {'max_depth': 9, 'num_leaves': 326, 'min_child_samples': 3}}\n",
      "bucket :  (2, 6)\n",
      "After OverSampling, the shape of train_X: (59022, 25)\n",
      "After OverSampling, the shape of train_y: (59022,) \n",
      "\n",
      "After OverSampling, counts of label '1': 29511\n",
      "After OverSampling, counts of label '0': 29511\n",
      "bucket :  (6, 10)\n",
      "bucket :  (10, 14)\n",
      "bucket :  (14, 17)\n",
      "bucket :  (17, 20)\n",
      "bucket :  (20, 23)\n",
      "bucket :  (23, 26)\n",
      "bucket :  (26, 29)\n",
      "bucket :  (29, 32)\n",
      "bucket :  (32, 35)\n",
      "bucket :  (35, 38)\n",
      "bucket :  (38, 41)\n"
     ]
    },
    {
     "name": "stderr",
     "output_type": "stream",
     "text": [
      " 35%|███▌      | 7/20 [16:22<29:34, 136.48s/it]"
     ]
    },
    {
     "name": "stdout",
     "output_type": "stream",
     "text": [
      "{'bucketing': 12, 'encoding': 'index', 'drop_act': 2, 'models': 'Decision Tree', 'Decision Tree': {'max_depth': 11, 'min_samples_leaf': 77, 'criterion': 'gini'}}\n",
      "bucket :  (2, 6)\n",
      "After OverSampling, the shape of train_X: (59022, 25)\n",
      "After OverSampling, the shape of train_y: (59022,) \n",
      "\n",
      "After OverSampling, counts of label '1': 29511\n",
      "After OverSampling, counts of label '0': 29511\n",
      "bucket :  (6, 10)\n",
      "bucket :  (10, 14)\n",
      "bucket :  (14, 17)\n",
      "bucket :  (17, 20)\n",
      "bucket :  (20, 23)\n",
      "bucket :  (23, 26)\n",
      "bucket :  (26, 29)\n",
      "bucket :  (29, 32)\n",
      "bucket :  (32, 35)\n",
      "bucket :  (35, 38)\n",
      "bucket :  (38, 41)\n"
     ]
    },
    {
     "name": "stderr",
     "output_type": "stream",
     "text": [
      " 40%|████      | 8/20 [18:37<27:14, 136.18s/it]"
     ]
    },
    {
     "name": "stdout",
     "output_type": "stream",
     "text": [
      "{'bucketing': 12, 'encoding': 'aggregate', 'drop_act': 2, 'models': 'Decision Tree', 'Decision Tree': {'max_depth': 15, 'min_samples_leaf': 29, 'criterion': 'entropy'}}\n",
      "bucket :  (2, 6)\n",
      "After OverSampling, the shape of train_X: (59022, 15)\n",
      "After OverSampling, the shape of train_y: (59022,) \n",
      "\n",
      "After OverSampling, counts of label '1': 29511\n",
      "After OverSampling, counts of label '0': 29511\n",
      "bucket :  (6, 10)\n",
      "bucket :  (10, 14)\n",
      "bucket :  (14, 17)\n",
      "bucket :  (17, 20)\n",
      "bucket :  (20, 23)\n",
      "bucket :  (23, 26)\n",
      "bucket :  (26, 29)\n",
      "bucket :  (29, 32)\n",
      "bucket :  (32, 35)\n",
      "bucket :  (35, 38)\n",
      "bucket :  (38, 41)\n"
     ]
    },
    {
     "name": "stderr",
     "output_type": "stream",
     "text": [
      " 45%|████▌     | 9/20 [21:29<27:01, 147.37s/it]"
     ]
    },
    {
     "name": "stdout",
     "output_type": "stream",
     "text": [
      "{'bucketing': 21, 'encoding': 'index', 'drop_act': 2, 'models': 'Decision Tree', 'Decision Tree': {'max_depth': 11, 'min_samples_leaf': 77, 'criterion': 'gini'}}\n",
      "bucket :  (2, 4)\n",
      "After OverSampling, the shape of train_X: (34594, 12)\n",
      "After OverSampling, the shape of train_y: (34594,) \n",
      "\n",
      "After OverSampling, counts of label '1': 17297\n",
      "After OverSampling, counts of label '0': 17297\n",
      "bucket :  (4, 6)\n",
      "After OverSampling, the shape of train_X: (23634, 24)\n",
      "After OverSampling, the shape of train_y: (23634,) \n",
      "\n",
      "After OverSampling, counts of label '1': 11817\n",
      "After OverSampling, counts of label '0': 11817\n",
      "bucket :  (6, 8)\n",
      "bucket :  (8, 10)\n",
      "bucket :  (10, 12)\n",
      "bucket :  (12, 14)\n",
      "bucket :  (14, 16)\n",
      "bucket :  (16, 18)\n",
      "bucket :  (18, 20)\n",
      "bucket :  (20, 22)\n",
      "bucket :  (22, 24)\n",
      "bucket :  (24, 26)\n",
      "bucket :  (26, 28)\n",
      "bucket :  (28, 30)\n",
      "bucket :  (30, 32)\n",
      "bucket :  (32, 34)\n",
      "bucket :  (34, 36)\n",
      "bucket :  (36, 38)\n",
      "bucket :  (38, 39)\n",
      "bucket :  (39, 40)\n",
      "bucket :  (40, 41)\n"
     ]
    },
    {
     "name": "stderr",
     "output_type": "stream",
     "text": [
      " 50%|█████     | 10/20 [23:44<23:56, 143.63s/it]"
     ]
    },
    {
     "name": "stdout",
     "output_type": "stream",
     "text": [
      "{'bucketing': 12, 'encoding': 'index', 'drop_act': 2, 'models': 'Decision Tree', 'Decision Tree': {'max_depth': 11, 'min_samples_leaf': 77, 'criterion': 'gini'}}\n",
      "bucket :  (2, 6)\n",
      "After OverSampling, the shape of train_X: (59022, 25)\n",
      "After OverSampling, the shape of train_y: (59022,) \n",
      "\n",
      "After OverSampling, counts of label '1': 29511\n",
      "After OverSampling, counts of label '0': 29511\n",
      "bucket :  (6, 10)\n",
      "bucket :  (10, 14)\n",
      "bucket :  (14, 17)\n",
      "bucket :  (17, 20)\n",
      "bucket :  (20, 23)\n",
      "bucket :  (23, 26)\n",
      "bucket :  (26, 29)\n",
      "bucket :  (29, 32)\n",
      "bucket :  (32, 35)\n",
      "bucket :  (35, 38)\n",
      "bucket :  (38, 41)\n"
     ]
    },
    {
     "name": "stderr",
     "output_type": "stream",
     "text": [
      " 55%|█████▌    | 11/20 [25:59<21:08, 141.00s/it]"
     ]
    },
    {
     "name": "stdout",
     "output_type": "stream",
     "text": [
      "{'bucketing': 12, 'encoding': 'index', 'drop_act': 2, 'models': 'Decision Tree', 'LightGBM': {'max_depth': 9, 'num_leaves': 326, 'min_child_samples': 3}}\n",
      "bucket :  (2, 6)\n",
      "After OverSampling, the shape of train_X: (59022, 25)\n",
      "After OverSampling, the shape of train_y: (59022,) \n",
      "\n",
      "After OverSampling, counts of label '1': 29511\n",
      "After OverSampling, counts of label '0': 29511\n",
      "bucket :  (6, 10)\n",
      "bucket :  (10, 14)\n",
      "bucket :  (14, 17)\n",
      "bucket :  (17, 20)\n",
      "bucket :  (20, 23)\n",
      "bucket :  (23, 26)\n",
      "bucket :  (26, 29)\n",
      "bucket :  (29, 32)\n",
      "bucket :  (32, 35)\n",
      "bucket :  (35, 38)\n",
      "bucket :  (38, 41)\n"
     ]
    },
    {
     "name": "stderr",
     "output_type": "stream",
     "text": [
      " 60%|██████    | 12/20 [28:15<18:33, 139.21s/it]"
     ]
    },
    {
     "name": "stdout",
     "output_type": "stream",
     "text": [
      "{'bucketing': 21, 'encoding': 'index', 'drop_act': 2, 'models': 'Xgboost', 'Xgboost': {'max_depth': 10, 'n_estimators': 204, 'learning_rate': 0.01}}\n",
      "bucket :  (2, 4)\n",
      "After OverSampling, the shape of train_X: (34594, 12)\n",
      "After OverSampling, the shape of train_y: (34594,) \n",
      "\n",
      "After OverSampling, counts of label '1': 17297\n",
      "After OverSampling, counts of label '0': 17297\n",
      "bucket :  (4, 6)\n",
      "After OverSampling, the shape of train_X: (23634, 24)\n",
      "After OverSampling, the shape of train_y: (23634,) \n",
      "\n",
      "After OverSampling, counts of label '1': 11817\n",
      "After OverSampling, counts of label '0': 11817\n",
      "bucket :  (6, 8)\n",
      "bucket :  (8, 10)\n",
      "bucket :  (10, 12)\n",
      "bucket :  (12, 14)\n",
      "bucket :  (14, 16)\n",
      "bucket :  (16, 18)\n",
      "bucket :  (18, 20)\n",
      "bucket :  (20, 22)\n",
      "bucket :  (22, 24)\n",
      "bucket :  (24, 26)\n",
      "bucket :  (26, 28)\n",
      "bucket :  (28, 30)\n",
      "bucket :  (30, 32)\n",
      "bucket :  (32, 34)\n",
      "bucket :  (34, 36)\n",
      "bucket :  (36, 38)\n",
      "bucket :  (38, 39)\n",
      "bucket :  (39, 40)\n",
      "bucket :  (40, 41)\n"
     ]
    },
    {
     "name": "stderr",
     "output_type": "stream",
     "text": [
      " 65%|██████▌   | 13/20 [30:49<16:46, 143.83s/it]"
     ]
    },
    {
     "name": "stdout",
     "output_type": "stream",
     "text": [
      "{'bucketing': 33, 'encoding': 'index', 'drop_act': 2, 'models': 'LightGBM', 'LightGBM': {'max_depth': 9, 'num_leaves': 326, 'min_child_samples': 3}}\n",
      "bucket :  (2, 4)\n",
      "After OverSampling, the shape of train_X: (34594, 12)\n",
      "After OverSampling, the shape of train_y: (34594,) \n",
      "\n",
      "After OverSampling, counts of label '1': 17297\n",
      "After OverSampling, counts of label '0': 17297\n",
      "bucket :  (4, 6)\n",
      "After OverSampling, the shape of train_X: (23634, 24)\n",
      "After OverSampling, the shape of train_y: (23634,) \n",
      "\n",
      "After OverSampling, counts of label '1': 11817\n",
      "After OverSampling, counts of label '0': 11817\n",
      "bucket :  (6, 8)\n",
      "bucket :  (8, 10)\n",
      "bucket :  (10, 12)\n",
      "bucket :  (12, 14)\n",
      "bucket :  (14, 15)\n",
      "bucket :  (15, 16)\n",
      "bucket :  (16, 17)\n",
      "bucket :  (17, 18)\n",
      "bucket :  (18, 19)\n",
      "bucket :  (19, 20)\n",
      "bucket :  (20, 21)\n",
      "bucket :  (21, 22)\n",
      "bucket :  (22, 23)\n",
      "bucket :  (23, 24)\n",
      "bucket :  (24, 25)\n",
      "bucket :  (25, 26)\n",
      "bucket :  (26, 27)\n",
      "bucket :  (27, 28)\n",
      "bucket :  (28, 29)\n",
      "bucket :  (29, 30)\n",
      "bucket :  (30, 31)\n",
      "bucket :  (31, 32)\n",
      "bucket :  (32, 33)\n",
      "bucket :  (33, 34)\n",
      "bucket :  (34, 35)\n",
      "bucket :  (35, 36)\n",
      "bucket :  (36, 37)\n",
      "bucket :  (37, 38)\n",
      "bucket :  (38, 39)\n",
      "bucket :  (39, 40)\n",
      "bucket :  (40, 41)\n"
     ]
    },
    {
     "name": "stderr",
     "output_type": "stream",
     "text": [
      " 70%|███████   | 14/20 [33:05<14:09, 141.56s/it]"
     ]
    },
    {
     "name": "stdout",
     "output_type": "stream",
     "text": [
      "{'bucketing': 33, 'encoding': 'index', 'drop_act': 2, 'models': 'LightGBM', 'Decision Tree': {'max_depth': 11, 'min_samples_leaf': 77, 'criterion': 'gini'}}\n",
      "bucket :  (2, 4)\n",
      "After OverSampling, the shape of train_X: (34594, 12)\n",
      "After OverSampling, the shape of train_y: (34594,) \n",
      "\n",
      "After OverSampling, counts of label '1': 17297\n",
      "After OverSampling, counts of label '0': 17297\n",
      "bucket :  (4, 6)\n",
      "After OverSampling, the shape of train_X: (23634, 24)\n",
      "After OverSampling, the shape of train_y: (23634,) \n",
      "\n",
      "After OverSampling, counts of label '1': 11817\n",
      "After OverSampling, counts of label '0': 11817\n",
      "bucket :  (6, 8)\n",
      "bucket :  (8, 10)\n",
      "bucket :  (10, 12)\n",
      "bucket :  (12, 14)\n",
      "bucket :  (14, 15)\n",
      "bucket :  (15, 16)\n",
      "bucket :  (16, 17)\n",
      "bucket :  (17, 18)\n",
      "bucket :  (18, 19)\n",
      "bucket :  (19, 20)\n",
      "bucket :  (20, 21)\n",
      "bucket :  (21, 22)\n",
      "bucket :  (22, 23)\n",
      "bucket :  (23, 24)\n",
      "bucket :  (24, 25)\n",
      "bucket :  (25, 26)\n",
      "bucket :  (26, 27)\n",
      "bucket :  (27, 28)\n",
      "bucket :  (28, 29)\n",
      "bucket :  (29, 30)\n",
      "bucket :  (30, 31)\n",
      "bucket :  (31, 32)\n",
      "bucket :  (32, 33)\n",
      "bucket :  (33, 34)\n",
      "bucket :  (34, 35)\n",
      "bucket :  (35, 36)\n",
      "bucket :  (36, 37)\n",
      "bucket :  (37, 38)\n",
      "bucket :  (38, 39)\n",
      "bucket :  (39, 40)\n",
      "bucket :  (40, 41)\n"
     ]
    },
    {
     "name": "stderr",
     "output_type": "stream",
     "text": [
      " 75%|███████▌  | 15/20 [35:21<11:39, 139.80s/it]"
     ]
    },
    {
     "name": "stdout",
     "output_type": "stream",
     "text": [
      "{'bucketing': 12, 'encoding': 'index', 'drop_act': 2, 'models': 'LightGBM', 'LightGBM': {'max_depth': 9, 'num_leaves': 326, 'min_child_samples': 3}}\n",
      "bucket :  (2, 6)\n",
      "After OverSampling, the shape of train_X: (59022, 25)\n",
      "After OverSampling, the shape of train_y: (59022,) \n",
      "\n",
      "After OverSampling, counts of label '1': 29511\n",
      "After OverSampling, counts of label '0': 29511\n",
      "bucket :  (6, 10)\n",
      "bucket :  (10, 14)\n",
      "bucket :  (14, 17)\n",
      "bucket :  (17, 20)\n",
      "bucket :  (20, 23)\n",
      "bucket :  (23, 26)\n",
      "bucket :  (26, 29)\n",
      "bucket :  (29, 32)\n",
      "bucket :  (32, 35)\n",
      "bucket :  (35, 38)\n",
      "bucket :  (38, 41)\n"
     ]
    },
    {
     "name": "stderr",
     "output_type": "stream",
     "text": [
      " 80%|████████  | 16/20 [37:36<09:13, 138.28s/it]"
     ]
    },
    {
     "name": "stdout",
     "output_type": "stream",
     "text": [
      "{'bucketing': 21, 'encoding': 'index', 'drop_act': 2, 'models': 'Decision Tree', 'Decision Tree': {'max_depth': 11, 'min_samples_leaf': 77, 'criterion': 'gini'}}\n",
      "bucket :  (2, 4)\n",
      "After OverSampling, the shape of train_X: (34594, 12)\n",
      "After OverSampling, the shape of train_y: (34594,) \n",
      "\n",
      "After OverSampling, counts of label '1': 17297\n",
      "After OverSampling, counts of label '0': 17297\n",
      "bucket :  (4, 6)\n",
      "After OverSampling, the shape of train_X: (23634, 24)\n",
      "After OverSampling, the shape of train_y: (23634,) \n",
      "\n",
      "After OverSampling, counts of label '1': 11817\n",
      "After OverSampling, counts of label '0': 11817\n",
      "bucket :  (6, 8)\n",
      "bucket :  (8, 10)\n",
      "bucket :  (10, 12)\n",
      "bucket :  (12, 14)\n",
      "bucket :  (14, 16)\n",
      "bucket :  (16, 18)\n",
      "bucket :  (18, 20)\n",
      "bucket :  (20, 22)\n",
      "bucket :  (22, 24)\n",
      "bucket :  (24, 26)\n",
      "bucket :  (26, 28)\n",
      "bucket :  (28, 30)\n",
      "bucket :  (30, 32)\n",
      "bucket :  (32, 34)\n",
      "bucket :  (34, 36)\n",
      "bucket :  (36, 38)\n",
      "bucket :  (38, 39)\n",
      "bucket :  (39, 40)\n",
      "bucket :  (40, 41)\n"
     ]
    },
    {
     "name": "stderr",
     "output_type": "stream",
     "text": [
      " 85%|████████▌ | 17/20 [39:51<06:51, 137.32s/it]"
     ]
    },
    {
     "name": "stdout",
     "output_type": "stream",
     "text": [
      "{'bucketing': 12, 'encoding': 'index', 'drop_act': 2, 'models': 'Decision Tree', 'Decision Tree': {'max_depth': 15, 'min_samples_leaf': 29, 'criterion': 'entropy'}}\n",
      "bucket :  (2, 6)\n",
      "After OverSampling, the shape of train_X: (59022, 25)\n",
      "After OverSampling, the shape of train_y: (59022,) \n",
      "\n",
      "After OverSampling, counts of label '1': 29511\n",
      "After OverSampling, counts of label '0': 29511\n",
      "bucket :  (6, 10)\n",
      "bucket :  (10, 14)\n",
      "bucket :  (14, 17)\n",
      "bucket :  (17, 20)\n",
      "bucket :  (20, 23)\n",
      "bucket :  (23, 26)\n",
      "bucket :  (26, 29)\n",
      "bucket :  (29, 32)\n",
      "bucket :  (32, 35)\n",
      "bucket :  (35, 38)\n",
      "bucket :  (38, 41)\n"
     ]
    },
    {
     "name": "stderr",
     "output_type": "stream",
     "text": [
      " 90%|█████████ | 18/20 [42:07<04:33, 136.96s/it]"
     ]
    },
    {
     "name": "stdout",
     "output_type": "stream",
     "text": [
      "{'bucketing': 33, 'encoding': 'index', 'drop_act': 2, 'models': 'LightGBM', 'Decision Tree': {'max_depth': 11, 'min_samples_leaf': 77, 'criterion': 'gini'}}\n",
      "bucket :  (2, 4)\n",
      "After OverSampling, the shape of train_X: (34594, 12)\n",
      "After OverSampling, the shape of train_y: (34594,) \n",
      "\n",
      "After OverSampling, counts of label '1': 17297\n",
      "After OverSampling, counts of label '0': 17297\n",
      "bucket :  (4, 6)\n",
      "After OverSampling, the shape of train_X: (23634, 24)\n",
      "After OverSampling, the shape of train_y: (23634,) \n",
      "\n",
      "After OverSampling, counts of label '1': 11817\n",
      "After OverSampling, counts of label '0': 11817\n",
      "bucket :  (6, 8)\n",
      "bucket :  (8, 10)\n",
      "bucket :  (10, 12)\n",
      "bucket :  (12, 14)\n",
      "bucket :  (14, 15)\n",
      "bucket :  (15, 16)\n",
      "bucket :  (16, 17)\n",
      "bucket :  (17, 18)\n",
      "bucket :  (18, 19)\n",
      "bucket :  (19, 20)\n",
      "bucket :  (20, 21)\n",
      "bucket :  (21, 22)\n",
      "bucket :  (22, 23)\n",
      "bucket :  (23, 24)\n",
      "bucket :  (24, 25)\n",
      "bucket :  (25, 26)\n",
      "bucket :  (26, 27)\n",
      "bucket :  (27, 28)\n",
      "bucket :  (28, 29)\n",
      "bucket :  (29, 30)\n",
      "bucket :  (30, 31)\n",
      "bucket :  (31, 32)\n",
      "bucket :  (32, 33)\n",
      "bucket :  (33, 34)\n",
      "bucket :  (34, 35)\n",
      "bucket :  (35, 36)\n",
      "bucket :  (36, 37)\n",
      "bucket :  (37, 38)\n",
      "bucket :  (38, 39)\n",
      "bucket :  (39, 40)\n",
      "bucket :  (40, 41)\n"
     ]
    },
    {
     "name": "stderr",
     "output_type": "stream",
     "text": [
      " 95%|█████████▌| 19/20 [44:23<02:16, 136.59s/it]"
     ]
    },
    {
     "name": "stdout",
     "output_type": "stream",
     "text": [
      "{'bucketing': 12, 'encoding': 'index', 'drop_act': 2, 'models': 'Decision Tree', 'Decision Tree': {'max_depth': 11, 'min_samples_leaf': 77, 'criterion': 'gini'}}\n",
      "bucket :  (2, 6)\n",
      "After OverSampling, the shape of train_X: (59022, 25)\n",
      "After OverSampling, the shape of train_y: (59022,) \n",
      "\n",
      "After OverSampling, counts of label '1': 29511\n",
      "After OverSampling, counts of label '0': 29511\n",
      "bucket :  (6, 10)\n",
      "bucket :  (10, 14)\n",
      "bucket :  (14, 17)\n",
      "bucket :  (17, 20)\n",
      "bucket :  (20, 23)\n",
      "bucket :  (23, 26)\n",
      "bucket :  (26, 29)\n",
      "bucket :  (29, 32)\n",
      "bucket :  (32, 35)\n",
      "bucket :  (35, 38)\n",
      "bucket :  (38, 41)\n"
     ]
    },
    {
     "name": "stderr",
     "output_type": "stream",
     "text": [
      "100%|██████████| 20/20 [46:38<00:00, 139.94s/it]\n",
      "  0%|          | 0/20 [00:00<?, ?it/s]"
     ]
    },
    {
     "name": "stdout",
     "output_type": "stream",
     "text": [
      "{'bucketing': 12, 'encoding': 'index', 'drop_act': 8, 'models': 'LightGBM', 'LightGBM': {'max_depth': 9, 'num_leaves': 326, 'min_child_samples': 3}}\n",
      "bucket :  (2, 6)\n",
      "After OverSampling, the shape of train_X: (58864, 20)\n",
      "After OverSampling, the shape of train_y: (58864,) \n",
      "\n",
      "After OverSampling, counts of label '1': 29432\n",
      "After OverSampling, counts of label '0': 29432\n",
      "bucket :  (6, 10)\n",
      "bucket :  (10, 14)\n",
      "bucket :  (14, 17)\n",
      "bucket :  (17, 20)\n",
      "bucket :  (20, 23)\n",
      "bucket :  (23, 26)\n",
      "bucket :  (26, 29)\n",
      "bucket :  (29, 32)\n",
      "bucket :  (32, 35)\n",
      "bucket :  (35, 38)\n",
      "bucket :  (38, 41)\n"
     ]
    },
    {
     "name": "stderr",
     "output_type": "stream",
     "text": [
      "  5%|▌         | 1/20 [02:10<41:27, 130.93s/it]"
     ]
    },
    {
     "name": "stdout",
     "output_type": "stream",
     "text": [
      "{'bucketing': 12, 'encoding': 'index', 'drop_act': 2, 'models': 'LightGBM', 'LightGBM': {'max_depth': 9, 'num_leaves': 326, 'min_child_samples': 3}}\n",
      "bucket :  (2, 6)\n",
      "After OverSampling, the shape of train_X: (59022, 25)\n",
      "After OverSampling, the shape of train_y: (59022,) \n",
      "\n",
      "After OverSampling, counts of label '1': 29511\n",
      "After OverSampling, counts of label '0': 29511\n",
      "bucket :  (6, 10)\n",
      "bucket :  (10, 14)\n",
      "bucket :  (14, 17)\n",
      "bucket :  (17, 20)\n",
      "bucket :  (20, 23)\n",
      "bucket :  (23, 26)\n",
      "bucket :  (26, 29)\n",
      "bucket :  (29, 32)\n",
      "bucket :  (32, 35)\n",
      "bucket :  (35, 38)\n",
      "bucket :  (38, 41)\n"
     ]
    },
    {
     "name": "stderr",
     "output_type": "stream",
     "text": [
      " 10%|█         | 2/20 [04:26<40:02, 133.48s/it]"
     ]
    },
    {
     "name": "stdout",
     "output_type": "stream",
     "text": [
      "{'bucketing': 12, 'encoding': 'index', 'drop_act': 2, 'models': 'Decision Tree', 'LightGBM': {'max_depth': 9, 'num_leaves': 326, 'min_child_samples': 3}}\n",
      "bucket :  (2, 6)\n",
      "After OverSampling, the shape of train_X: (59022, 25)\n",
      "After OverSampling, the shape of train_y: (59022,) \n",
      "\n",
      "After OverSampling, counts of label '1': 29511\n",
      "After OverSampling, counts of label '0': 29511\n",
      "bucket :  (6, 10)\n",
      "bucket :  (10, 14)\n",
      "bucket :  (14, 17)\n",
      "bucket :  (17, 20)\n",
      "bucket :  (20, 23)\n",
      "bucket :  (23, 26)\n",
      "bucket :  (26, 29)\n",
      "bucket :  (29, 32)\n",
      "bucket :  (32, 35)\n",
      "bucket :  (35, 38)\n",
      "bucket :  (38, 41)\n"
     ]
    },
    {
     "name": "stderr",
     "output_type": "stream",
     "text": [
      " 15%|█▌        | 3/20 [06:42<38:08, 134.63s/it]"
     ]
    },
    {
     "name": "stdout",
     "output_type": "stream",
     "text": [
      "{'bucketing': 21, 'encoding': 'aggregate', 'drop_act': 2, 'models': 'Decision Tree', 'Decision Tree': {'max_depth': 15, 'min_samples_leaf': 29, 'criterion': 'entropy'}}\n",
      "bucket :  (2, 4)\n",
      "After OverSampling, the shape of train_X: (34594, 9)\n",
      "After OverSampling, the shape of train_y: (34594,) \n",
      "\n",
      "After OverSampling, counts of label '1': 17297\n",
      "After OverSampling, counts of label '0': 17297\n",
      "bucket :  (4, 6)\n",
      "After OverSampling, the shape of train_X: (23634, 15)\n",
      "After OverSampling, the shape of train_y: (23634,) \n",
      "\n",
      "After OverSampling, counts of label '1': 11817\n",
      "After OverSampling, counts of label '0': 11817\n",
      "bucket :  (6, 8)\n",
      "bucket :  (8, 10)\n",
      "bucket :  (10, 12)\n",
      "bucket :  (12, 14)\n",
      "bucket :  (14, 16)\n",
      "bucket :  (16, 18)\n",
      "bucket :  (18, 20)\n",
      "bucket :  (20, 22)\n",
      "bucket :  (22, 24)\n",
      "bucket :  (24, 26)\n",
      "bucket :  (26, 28)\n",
      "bucket :  (28, 30)\n",
      "bucket :  (30, 32)\n",
      "bucket :  (32, 34)\n",
      "bucket :  (34, 36)\n",
      "bucket :  (36, 38)\n",
      "bucket :  (38, 39)\n",
      "bucket :  (39, 40)\n",
      "bucket :  (40, 41)\n"
     ]
    },
    {
     "name": "stderr",
     "output_type": "stream",
     "text": [
      " 20%|██        | 4/20 [09:35<39:55, 149.73s/it]"
     ]
    },
    {
     "name": "stdout",
     "output_type": "stream",
     "text": [
      "{'bucketing': 33, 'encoding': 'index', 'drop_act': 2, 'models': 'LightGBM', 'LightGBM': {'max_depth': 9, 'num_leaves': 326, 'min_child_samples': 3}}\n",
      "bucket :  (2, 4)\n",
      "After OverSampling, the shape of train_X: (34594, 12)\n",
      "After OverSampling, the shape of train_y: (34594,) \n",
      "\n",
      "After OverSampling, counts of label '1': 17297\n",
      "After OverSampling, counts of label '0': 17297\n",
      "bucket :  (4, 6)\n",
      "After OverSampling, the shape of train_X: (23634, 24)\n",
      "After OverSampling, the shape of train_y: (23634,) \n",
      "\n",
      "After OverSampling, counts of label '1': 11817\n",
      "After OverSampling, counts of label '0': 11817\n",
      "bucket :  (6, 8)\n",
      "bucket :  (8, 10)\n",
      "bucket :  (10, 12)\n",
      "bucket :  (12, 14)\n",
      "bucket :  (14, 15)\n",
      "bucket :  (15, 16)\n",
      "bucket :  (16, 17)\n",
      "bucket :  (17, 18)\n",
      "bucket :  (18, 19)\n",
      "bucket :  (19, 20)\n",
      "bucket :  (20, 21)\n",
      "bucket :  (21, 22)\n",
      "bucket :  (22, 23)\n",
      "bucket :  (23, 24)\n",
      "bucket :  (24, 25)\n",
      "bucket :  (25, 26)\n",
      "bucket :  (26, 27)\n",
      "bucket :  (27, 28)\n",
      "bucket :  (28, 29)\n",
      "bucket :  (29, 30)\n",
      "bucket :  (30, 31)\n",
      "bucket :  (31, 32)\n",
      "bucket :  (32, 33)\n",
      "bucket :  (33, 34)\n",
      "bucket :  (34, 35)\n",
      "bucket :  (35, 36)\n",
      "bucket :  (36, 37)\n",
      "bucket :  (37, 38)\n",
      "bucket :  (38, 39)\n",
      "bucket :  (39, 40)\n",
      "bucket :  (40, 41)\n"
     ]
    },
    {
     "name": "stderr",
     "output_type": "stream",
     "text": [
      " 25%|██▌       | 5/20 [11:51<36:15, 145.02s/it]"
     ]
    },
    {
     "name": "stdout",
     "output_type": "stream",
     "text": [
      "{'bucketing': 12, 'encoding': 'index', 'drop_act': 2, 'models': 'Decision Tree', 'LightGBM': {'max_depth': 9, 'num_leaves': 326, 'min_child_samples': 3}}\n",
      "bucket :  (2, 6)\n",
      "After OverSampling, the shape of train_X: (59022, 25)\n",
      "After OverSampling, the shape of train_y: (59022,) \n",
      "\n",
      "After OverSampling, counts of label '1': 29511\n",
      "After OverSampling, counts of label '0': 29511\n",
      "bucket :  (6, 10)\n",
      "bucket :  (10, 14)\n",
      "bucket :  (14, 17)\n",
      "bucket :  (17, 20)\n",
      "bucket :  (20, 23)\n",
      "bucket :  (23, 26)\n",
      "bucket :  (26, 29)\n",
      "bucket :  (29, 32)\n",
      "bucket :  (32, 35)\n",
      "bucket :  (35, 38)\n",
      "bucket :  (38, 41)\n"
     ]
    },
    {
     "name": "stderr",
     "output_type": "stream",
     "text": [
      " 30%|███       | 6/20 [14:07<33:03, 141.70s/it]"
     ]
    },
    {
     "name": "stdout",
     "output_type": "stream",
     "text": [
      "{'bucketing': 12, 'encoding': 'index', 'drop_act': 2, 'models': 'LightGBM', 'LightGBM': {'max_depth': 9, 'num_leaves': 326, 'min_child_samples': 3}}\n",
      "bucket :  (2, 6)\n",
      "After OverSampling, the shape of train_X: (59022, 25)\n",
      "After OverSampling, the shape of train_y: (59022,) \n",
      "\n",
      "After OverSampling, counts of label '1': 29511\n",
      "After OverSampling, counts of label '0': 29511\n",
      "bucket :  (6, 10)\n",
      "bucket :  (10, 14)\n",
      "bucket :  (14, 17)\n",
      "bucket :  (17, 20)\n",
      "bucket :  (20, 23)\n",
      "bucket :  (23, 26)\n",
      "bucket :  (26, 29)\n",
      "bucket :  (29, 32)\n",
      "bucket :  (32, 35)\n",
      "bucket :  (35, 38)\n",
      "bucket :  (38, 41)\n"
     ]
    },
    {
     "name": "stderr",
     "output_type": "stream",
     "text": [
      " 35%|███▌      | 7/20 [16:21<30:12, 139.39s/it]"
     ]
    },
    {
     "name": "stdout",
     "output_type": "stream",
     "text": [
      "{'bucketing': 12, 'encoding': 'index', 'drop_act': 2, 'models': 'LightGBM', 'LightGBM': {'max_depth': 9, 'num_leaves': 326, 'min_child_samples': 3}}\n",
      "bucket :  (2, 6)\n",
      "After OverSampling, the shape of train_X: (59022, 25)\n",
      "After OverSampling, the shape of train_y: (59022,) \n",
      "\n",
      "After OverSampling, counts of label '1': 29511\n",
      "After OverSampling, counts of label '0': 29511\n",
      "bucket :  (6, 10)\n",
      "bucket :  (10, 14)\n",
      "bucket :  (14, 17)\n",
      "bucket :  (17, 20)\n",
      "bucket :  (20, 23)\n",
      "bucket :  (23, 26)\n",
      "bucket :  (26, 29)\n",
      "bucket :  (29, 32)\n",
      "bucket :  (32, 35)\n",
      "bucket :  (35, 38)\n",
      "bucket :  (38, 41)\n"
     ]
    },
    {
     "name": "stderr",
     "output_type": "stream",
     "text": [
      " 40%|████      | 8/20 [18:36<27:33, 137.82s/it]"
     ]
    },
    {
     "name": "stdout",
     "output_type": "stream",
     "text": [
      "{'bucketing': 12, 'encoding': 'index', 'drop_act': 2, 'models': 'LightGBM', 'Decision Tree': {'max_depth': 11, 'min_samples_leaf': 77, 'criterion': 'gini'}}\n",
      "bucket :  (2, 6)\n",
      "After OverSampling, the shape of train_X: (59022, 25)\n",
      "After OverSampling, the shape of train_y: (59022,) \n",
      "\n",
      "After OverSampling, counts of label '1': 29511\n",
      "After OverSampling, counts of label '0': 29511\n",
      "bucket :  (6, 10)\n",
      "bucket :  (10, 14)\n",
      "bucket :  (14, 17)\n",
      "bucket :  (17, 20)\n",
      "bucket :  (20, 23)\n",
      "bucket :  (23, 26)\n",
      "bucket :  (26, 29)\n",
      "bucket :  (29, 32)\n",
      "bucket :  (32, 35)\n",
      "bucket :  (35, 38)\n",
      "bucket :  (38, 41)\n"
     ]
    },
    {
     "name": "stderr",
     "output_type": "stream",
     "text": [
      " 45%|████▌     | 9/20 [20:51<25:07, 137.02s/it]"
     ]
    },
    {
     "name": "stdout",
     "output_type": "stream",
     "text": [
      "{'bucketing': 12, 'encoding': 'index', 'drop_act': 2, 'models': 'Decision Tree', 'LightGBM': {'max_depth': 9, 'num_leaves': 326, 'min_child_samples': 3}}\n",
      "bucket :  (2, 6)\n",
      "After OverSampling, the shape of train_X: (59022, 25)\n",
      "After OverSampling, the shape of train_y: (59022,) \n",
      "\n",
      "After OverSampling, counts of label '1': 29511\n",
      "After OverSampling, counts of label '0': 29511\n",
      "bucket :  (6, 10)\n",
      "bucket :  (10, 14)\n",
      "bucket :  (14, 17)\n",
      "bucket :  (17, 20)\n",
      "bucket :  (20, 23)\n",
      "bucket :  (23, 26)\n",
      "bucket :  (26, 29)\n",
      "bucket :  (29, 32)\n",
      "bucket :  (32, 35)\n",
      "bucket :  (35, 38)\n",
      "bucket :  (38, 41)\n"
     ]
    },
    {
     "name": "stderr",
     "output_type": "stream",
     "text": [
      " 50%|█████     | 10/20 [23:06<22:45, 136.53s/it]"
     ]
    },
    {
     "name": "stdout",
     "output_type": "stream",
     "text": [
      "{'bucketing': 12, 'encoding': 'index', 'drop_act': 2, 'models': 'Decision Tree', 'Decision Tree': {'max_depth': 11, 'min_samples_leaf': 77, 'criterion': 'gini'}}\n",
      "bucket :  (2, 6)\n",
      "After OverSampling, the shape of train_X: (59022, 25)\n",
      "After OverSampling, the shape of train_y: (59022,) \n",
      "\n",
      "After OverSampling, counts of label '1': 29511\n",
      "After OverSampling, counts of label '0': 29511\n",
      "bucket :  (6, 10)\n",
      "bucket :  (10, 14)\n",
      "bucket :  (14, 17)\n",
      "bucket :  (17, 20)\n",
      "bucket :  (20, 23)\n",
      "bucket :  (23, 26)\n",
      "bucket :  (26, 29)\n",
      "bucket :  (29, 32)\n",
      "bucket :  (32, 35)\n",
      "bucket :  (35, 38)\n",
      "bucket :  (38, 41)\n"
     ]
    },
    {
     "name": "stderr",
     "output_type": "stream",
     "text": [
      " 55%|█████▌    | 11/20 [25:21<20:24, 136.06s/it]"
     ]
    },
    {
     "name": "stdout",
     "output_type": "stream",
     "text": [
      "{'bucketing': 12, 'encoding': 'index', 'drop_act': 2, 'models': 'Decision Tree', 'Decision Tree': {'max_depth': 11, 'min_samples_leaf': 77, 'criterion': 'gini'}}\n",
      "bucket :  (2, 6)\n",
      "After OverSampling, the shape of train_X: (59022, 25)\n",
      "After OverSampling, the shape of train_y: (59022,) \n",
      "\n",
      "After OverSampling, counts of label '1': 29511\n",
      "After OverSampling, counts of label '0': 29511\n",
      "bucket :  (6, 10)\n",
      "bucket :  (10, 14)\n",
      "bucket :  (14, 17)\n",
      "bucket :  (17, 20)\n",
      "bucket :  (20, 23)\n",
      "bucket :  (23, 26)\n",
      "bucket :  (26, 29)\n",
      "bucket :  (29, 32)\n",
      "bucket :  (32, 35)\n",
      "bucket :  (35, 38)\n",
      "bucket :  (38, 41)\n"
     ]
    },
    {
     "name": "stderr",
     "output_type": "stream",
     "text": [
      " 60%|██████    | 12/20 [27:37<18:06, 135.81s/it]"
     ]
    },
    {
     "name": "stdout",
     "output_type": "stream",
     "text": [
      "{'bucketing': 12, 'encoding': 'index', 'drop_act': 2, 'models': 'Decision Tree', 'Decision Tree': {'max_depth': 11, 'min_samples_leaf': 77, 'criterion': 'gini'}}\n",
      "bucket :  (2, 6)\n",
      "After OverSampling, the shape of train_X: (59022, 25)\n",
      "After OverSampling, the shape of train_y: (59022,) \n",
      "\n",
      "After OverSampling, counts of label '1': 29511\n",
      "After OverSampling, counts of label '0': 29511\n",
      "bucket :  (6, 10)\n",
      "bucket :  (10, 14)\n",
      "bucket :  (14, 17)\n",
      "bucket :  (17, 20)\n",
      "bucket :  (20, 23)\n",
      "bucket :  (23, 26)\n",
      "bucket :  (26, 29)\n",
      "bucket :  (29, 32)\n",
      "bucket :  (32, 35)\n",
      "bucket :  (35, 38)\n",
      "bucket :  (38, 41)\n"
     ]
    },
    {
     "name": "stderr",
     "output_type": "stream",
     "text": [
      " 65%|██████▌   | 13/20 [29:51<15:48, 135.43s/it]"
     ]
    },
    {
     "name": "stdout",
     "output_type": "stream",
     "text": [
      "{'bucketing': 12, 'encoding': 'index', 'drop_act': 2, 'models': 'Decision Tree', 'Decision Tree': {'max_depth': 11, 'min_samples_leaf': 77, 'criterion': 'gini'}}\n",
      "bucket :  (2, 6)\n",
      "After OverSampling, the shape of train_X: (59022, 25)\n",
      "After OverSampling, the shape of train_y: (59022,) \n",
      "\n",
      "After OverSampling, counts of label '1': 29511\n",
      "After OverSampling, counts of label '0': 29511\n",
      "bucket :  (6, 10)\n",
      "bucket :  (10, 14)\n",
      "bucket :  (14, 17)\n",
      "bucket :  (17, 20)\n",
      "bucket :  (20, 23)\n",
      "bucket :  (23, 26)\n",
      "bucket :  (26, 29)\n",
      "bucket :  (29, 32)\n",
      "bucket :  (32, 35)\n",
      "bucket :  (35, 38)\n",
      "bucket :  (38, 41)\n"
     ]
    },
    {
     "name": "stderr",
     "output_type": "stream",
     "text": [
      " 70%|███████   | 14/20 [32:07<13:33, 135.50s/it]"
     ]
    },
    {
     "name": "stdout",
     "output_type": "stream",
     "text": [
      "{'bucketing': 12, 'encoding': 'index', 'drop_act': 2, 'models': 'Decision Tree', 'Decision Tree': {'max_depth': 11, 'min_samples_leaf': 77, 'criterion': 'gini'}}\n",
      "bucket :  (2, 6)\n",
      "After OverSampling, the shape of train_X: (59022, 25)\n",
      "After OverSampling, the shape of train_y: (59022,) \n",
      "\n",
      "After OverSampling, counts of label '1': 29511\n",
      "After OverSampling, counts of label '0': 29511\n",
      "bucket :  (6, 10)\n",
      "bucket :  (10, 14)\n",
      "bucket :  (14, 17)\n",
      "bucket :  (17, 20)\n",
      "bucket :  (20, 23)\n",
      "bucket :  (23, 26)\n",
      "bucket :  (26, 29)\n",
      "bucket :  (29, 32)\n",
      "bucket :  (32, 35)\n",
      "bucket :  (35, 38)\n",
      "bucket :  (38, 41)\n"
     ]
    },
    {
     "name": "stderr",
     "output_type": "stream",
     "text": [
      " 75%|███████▌  | 15/20 [34:22<11:16, 135.39s/it]"
     ]
    },
    {
     "name": "stdout",
     "output_type": "stream",
     "text": [
      "{'bucketing': 12, 'encoding': 'index', 'drop_act': 2, 'models': 'Decision Tree', 'Decision Tree': {'max_depth': 15, 'min_samples_leaf': 29, 'criterion': 'entropy'}}\n",
      "bucket :  (2, 6)\n",
      "After OverSampling, the shape of train_X: (59022, 25)\n",
      "After OverSampling, the shape of train_y: (59022,) \n",
      "\n",
      "After OverSampling, counts of label '1': 29511\n",
      "After OverSampling, counts of label '0': 29511\n",
      "bucket :  (6, 10)\n",
      "bucket :  (10, 14)\n",
      "bucket :  (14, 17)\n",
      "bucket :  (17, 20)\n",
      "bucket :  (20, 23)\n",
      "bucket :  (23, 26)\n",
      "bucket :  (26, 29)\n",
      "bucket :  (29, 32)\n",
      "bucket :  (32, 35)\n",
      "bucket :  (35, 38)\n",
      "bucket :  (38, 41)\n"
     ]
    },
    {
     "name": "stderr",
     "output_type": "stream",
     "text": [
      " 80%|████████  | 16/20 [36:38<09:02, 135.58s/it]"
     ]
    },
    {
     "name": "stdout",
     "output_type": "stream",
     "text": [
      "{'bucketing': 12, 'encoding': 'index', 'drop_act': 2, 'models': 'Decision Tree', 'Decision Tree': {'max_depth': 11, 'min_samples_leaf': 77, 'criterion': 'gini'}}\n",
      "bucket :  (2, 6)\n",
      "After OverSampling, the shape of train_X: (59022, 25)\n",
      "After OverSampling, the shape of train_y: (59022,) \n",
      "\n",
      "After OverSampling, counts of label '1': 29511\n",
      "After OverSampling, counts of label '0': 29511\n",
      "bucket :  (6, 10)\n",
      "bucket :  (10, 14)\n",
      "bucket :  (14, 17)\n",
      "bucket :  (17, 20)\n",
      "bucket :  (20, 23)\n",
      "bucket :  (23, 26)\n",
      "bucket :  (26, 29)\n",
      "bucket :  (29, 32)\n",
      "bucket :  (32, 35)\n",
      "bucket :  (35, 38)\n",
      "bucket :  (38, 41)\n"
     ]
    },
    {
     "name": "stderr",
     "output_type": "stream",
     "text": [
      " 85%|████████▌ | 17/20 [38:53<06:46, 135.42s/it]"
     ]
    },
    {
     "name": "stdout",
     "output_type": "stream",
     "text": [
      "{'bucketing': 21, 'encoding': 'index', 'drop_act': 2, 'models': 'Xgboost', 'Xgboost': {'max_depth': 10, 'n_estimators': 204, 'learning_rate': 0.01}}\n",
      "bucket :  (2, 4)\n",
      "After OverSampling, the shape of train_X: (34594, 12)\n",
      "After OverSampling, the shape of train_y: (34594,) \n",
      "\n",
      "After OverSampling, counts of label '1': 17297\n",
      "After OverSampling, counts of label '0': 17297\n",
      "bucket :  (4, 6)\n",
      "After OverSampling, the shape of train_X: (23634, 24)\n",
      "After OverSampling, the shape of train_y: (23634,) \n",
      "\n",
      "After OverSampling, counts of label '1': 11817\n",
      "After OverSampling, counts of label '0': 11817\n",
      "bucket :  (6, 8)\n",
      "bucket :  (8, 10)\n",
      "bucket :  (10, 12)\n",
      "bucket :  (12, 14)\n",
      "bucket :  (14, 16)\n",
      "bucket :  (16, 18)\n",
      "bucket :  (18, 20)\n",
      "bucket :  (20, 22)\n",
      "bucket :  (22, 24)\n",
      "bucket :  (24, 26)\n",
      "bucket :  (26, 28)\n",
      "bucket :  (28, 30)\n",
      "bucket :  (30, 32)\n",
      "bucket :  (32, 34)\n",
      "bucket :  (34, 36)\n",
      "bucket :  (36, 38)\n",
      "bucket :  (38, 39)\n",
      "bucket :  (39, 40)\n",
      "bucket :  (40, 41)\n"
     ]
    },
    {
     "name": "stderr",
     "output_type": "stream",
     "text": [
      " 90%|█████████ | 18/20 [41:28<04:42, 141.34s/it]"
     ]
    },
    {
     "name": "stdout",
     "output_type": "stream",
     "text": [
      "{'bucketing': 21, 'encoding': 'index', 'drop_act': 2, 'models': 'Decision Tree', 'Decision Tree': {'max_depth': 11, 'min_samples_leaf': 77, 'criterion': 'gini'}}\n",
      "bucket :  (2, 4)\n",
      "After OverSampling, the shape of train_X: (34594, 12)\n",
      "After OverSampling, the shape of train_y: (34594,) \n",
      "\n",
      "After OverSampling, counts of label '1': 17297\n",
      "After OverSampling, counts of label '0': 17297\n",
      "bucket :  (4, 6)\n",
      "After OverSampling, the shape of train_X: (23634, 24)\n",
      "After OverSampling, the shape of train_y: (23634,) \n",
      "\n",
      "After OverSampling, counts of label '1': 11817\n",
      "After OverSampling, counts of label '0': 11817\n",
      "bucket :  (6, 8)\n",
      "bucket :  (8, 10)\n",
      "bucket :  (10, 12)\n",
      "bucket :  (12, 14)\n",
      "bucket :  (14, 16)\n",
      "bucket :  (16, 18)\n",
      "bucket :  (18, 20)\n",
      "bucket :  (20, 22)\n",
      "bucket :  (22, 24)\n",
      "bucket :  (24, 26)\n",
      "bucket :  (26, 28)\n",
      "bucket :  (28, 30)\n",
      "bucket :  (30, 32)\n",
      "bucket :  (32, 34)\n",
      "bucket :  (34, 36)\n",
      "bucket :  (36, 38)\n",
      "bucket :  (38, 39)\n",
      "bucket :  (39, 40)\n",
      "bucket :  (40, 41)\n"
     ]
    },
    {
     "name": "stderr",
     "output_type": "stream",
     "text": [
      " 95%|█████████▌| 19/20 [43:44<02:19, 139.74s/it]"
     ]
    },
    {
     "name": "stdout",
     "output_type": "stream",
     "text": [
      "{'bucketing': 12, 'encoding': 'index', 'drop_act': 2, 'models': 'Decision Tree', 'Decision Tree': {'max_depth': 11, 'min_samples_leaf': 77, 'criterion': 'gini'}}\n",
      "bucket :  (2, 6)\n",
      "After OverSampling, the shape of train_X: (59022, 25)\n",
      "After OverSampling, the shape of train_y: (59022,) \n",
      "\n",
      "After OverSampling, counts of label '1': 29511\n",
      "After OverSampling, counts of label '0': 29511\n",
      "bucket :  (6, 10)\n",
      "bucket :  (10, 14)\n",
      "bucket :  (14, 17)\n",
      "bucket :  (17, 20)\n",
      "bucket :  (20, 23)\n",
      "bucket :  (23, 26)\n",
      "bucket :  (26, 29)\n",
      "bucket :  (29, 32)\n",
      "bucket :  (32, 35)\n",
      "bucket :  (35, 38)\n",
      "bucket :  (38, 41)\n"
     ]
    },
    {
     "name": "stderr",
     "output_type": "stream",
     "text": [
      "100%|██████████| 20/20 [45:59<00:00, 137.96s/it]\n",
      "  0%|          | 0/20 [00:00<?, ?it/s]"
     ]
    },
    {
     "name": "stdout",
     "output_type": "stream",
     "text": [
      "{'bucketing': 12, 'encoding': 'index', 'drop_act': 2, 'models': 'Decision Tree', 'LightGBM': {'max_depth': 9, 'num_leaves': 326, 'min_child_samples': 3}}\n",
      "bucket :  (2, 6)\n",
      "After OverSampling, the shape of train_X: (59022, 25)\n",
      "After OverSampling, the shape of train_y: (59022,) \n",
      "\n",
      "After OverSampling, counts of label '1': 29511\n",
      "After OverSampling, counts of label '0': 29511\n",
      "bucket :  (6, 10)\n",
      "bucket :  (10, 14)\n",
      "bucket :  (14, 17)\n",
      "bucket :  (17, 20)\n",
      "bucket :  (20, 23)\n",
      "bucket :  (23, 26)\n",
      "bucket :  (26, 29)\n",
      "bucket :  (29, 32)\n",
      "bucket :  (32, 35)\n",
      "bucket :  (35, 38)\n",
      "bucket :  (38, 41)\n"
     ]
    },
    {
     "name": "stderr",
     "output_type": "stream",
     "text": [
      "  5%|▌         | 1/20 [02:15<42:45, 135.03s/it]"
     ]
    },
    {
     "name": "stdout",
     "output_type": "stream",
     "text": [
      "{'bucketing': 12, 'encoding': 'index', 'drop_act': 2, 'models': 'LightGBM', 'LightGBM': {'max_depth': 9, 'num_leaves': 326, 'min_child_samples': 3}}\n",
      "bucket :  (2, 6)\n",
      "After OverSampling, the shape of train_X: (59022, 25)\n",
      "After OverSampling, the shape of train_y: (59022,) \n",
      "\n",
      "After OverSampling, counts of label '1': 29511\n",
      "After OverSampling, counts of label '0': 29511\n",
      "bucket :  (6, 10)\n",
      "bucket :  (10, 14)\n",
      "bucket :  (14, 17)\n",
      "bucket :  (17, 20)\n",
      "bucket :  (20, 23)\n",
      "bucket :  (23, 26)\n",
      "bucket :  (26, 29)\n",
      "bucket :  (29, 32)\n",
      "bucket :  (32, 35)\n",
      "bucket :  (35, 38)\n",
      "bucket :  (38, 41)\n"
     ]
    },
    {
     "name": "stderr",
     "output_type": "stream",
     "text": [
      " 10%|█         | 2/20 [04:29<40:23, 134.62s/it]"
     ]
    },
    {
     "name": "stdout",
     "output_type": "stream",
     "text": [
      "{'bucketing': 12, 'encoding': 'index', 'drop_act': 2, 'models': 'Decision Tree', 'Decision Tree': {'max_depth': 15, 'min_samples_leaf': 29, 'criterion': 'entropy'}}\n",
      "bucket :  (2, 6)\n",
      "After OverSampling, the shape of train_X: (59022, 25)\n",
      "After OverSampling, the shape of train_y: (59022,) \n",
      "\n",
      "After OverSampling, counts of label '1': 29511\n",
      "After OverSampling, counts of label '0': 29511\n",
      "bucket :  (6, 10)\n",
      "bucket :  (10, 14)\n",
      "bucket :  (14, 17)\n",
      "bucket :  (17, 20)\n",
      "bucket :  (20, 23)\n",
      "bucket :  (23, 26)\n",
      "bucket :  (26, 29)\n",
      "bucket :  (29, 32)\n",
      "bucket :  (32, 35)\n",
      "bucket :  (35, 38)\n",
      "bucket :  (38, 41)\n"
     ]
    },
    {
     "name": "stderr",
     "output_type": "stream",
     "text": [
      " 15%|█▌        | 3/20 [06:44<38:15, 135.03s/it]"
     ]
    },
    {
     "name": "stdout",
     "output_type": "stream",
     "text": [
      "{'bucketing': 12, 'encoding': 'index', 'drop_act': 2, 'models': 'Decision Tree', 'LightGBM': {'max_depth': 9, 'num_leaves': 326, 'min_child_samples': 3}}\n",
      "bucket :  (2, 6)\n",
      "After OverSampling, the shape of train_X: (59022, 25)\n",
      "After OverSampling, the shape of train_y: (59022,) \n",
      "\n",
      "After OverSampling, counts of label '1': 29511\n",
      "After OverSampling, counts of label '0': 29511\n",
      "bucket :  (6, 10)\n",
      "bucket :  (10, 14)\n",
      "bucket :  (14, 17)\n",
      "bucket :  (17, 20)\n",
      "bucket :  (20, 23)\n",
      "bucket :  (23, 26)\n",
      "bucket :  (26, 29)\n",
      "bucket :  (29, 32)\n",
      "bucket :  (32, 35)\n",
      "bucket :  (35, 38)\n",
      "bucket :  (38, 41)\n"
     ]
    },
    {
     "name": "stderr",
     "output_type": "stream",
     "text": [
      " 20%|██        | 4/20 [09:00<36:05, 135.33s/it]"
     ]
    },
    {
     "name": "stdout",
     "output_type": "stream",
     "text": [
      "{'bucketing': 12, 'encoding': 'index', 'drop_act': 2, 'models': 'Decision Tree', 'Decision Tree': {'max_depth': 11, 'min_samples_leaf': 77, 'criterion': 'gini'}}\n",
      "bucket :  (2, 6)\n",
      "After OverSampling, the shape of train_X: (59022, 25)\n",
      "After OverSampling, the shape of train_y: (59022,) \n",
      "\n",
      "After OverSampling, counts of label '1': 29511\n",
      "After OverSampling, counts of label '0': 29511\n",
      "bucket :  (6, 10)\n",
      "bucket :  (10, 14)\n",
      "bucket :  (14, 17)\n",
      "bucket :  (17, 20)\n",
      "bucket :  (20, 23)\n",
      "bucket :  (23, 26)\n",
      "bucket :  (26, 29)\n",
      "bucket :  (29, 32)\n",
      "bucket :  (32, 35)\n",
      "bucket :  (35, 38)\n",
      "bucket :  (38, 41)\n"
     ]
    },
    {
     "name": "stderr",
     "output_type": "stream",
     "text": [
      " 25%|██▌       | 5/20 [11:15<33:49, 135.31s/it]"
     ]
    },
    {
     "name": "stdout",
     "output_type": "stream",
     "text": [
      "{'bucketing': 12, 'encoding': 'index', 'drop_act': 2, 'models': 'Decision Tree', 'LightGBM': {'max_depth': 9, 'num_leaves': 326, 'min_child_samples': 3}}\n",
      "bucket :  (2, 6)\n",
      "After OverSampling, the shape of train_X: (59022, 25)\n",
      "After OverSampling, the shape of train_y: (59022,) \n",
      "\n",
      "After OverSampling, counts of label '1': 29511\n",
      "After OverSampling, counts of label '0': 29511\n",
      "bucket :  (6, 10)\n",
      "bucket :  (10, 14)\n",
      "bucket :  (14, 17)\n",
      "bucket :  (17, 20)\n",
      "bucket :  (20, 23)\n",
      "bucket :  (23, 26)\n",
      "bucket :  (26, 29)\n",
      "bucket :  (29, 32)\n",
      "bucket :  (32, 35)\n",
      "bucket :  (35, 38)\n",
      "bucket :  (38, 41)\n"
     ]
    },
    {
     "name": "stderr",
     "output_type": "stream",
     "text": [
      " 30%|███       | 6/20 [13:31<31:37, 135.50s/it]"
     ]
    },
    {
     "name": "stdout",
     "output_type": "stream",
     "text": [
      "{'bucketing': 12, 'encoding': 'index', 'drop_act': 2, 'models': 'LightGBM', 'LightGBM': {'max_depth': 9, 'num_leaves': 326, 'min_child_samples': 3}}\n",
      "bucket :  (2, 6)\n",
      "After OverSampling, the shape of train_X: (59022, 25)\n",
      "After OverSampling, the shape of train_y: (59022,) \n",
      "\n",
      "After OverSampling, counts of label '1': 29511\n",
      "After OverSampling, counts of label '0': 29511\n",
      "bucket :  (6, 10)\n",
      "bucket :  (10, 14)\n",
      "bucket :  (14, 17)\n",
      "bucket :  (17, 20)\n",
      "bucket :  (20, 23)\n",
      "bucket :  (23, 26)\n",
      "bucket :  (26, 29)\n",
      "bucket :  (29, 32)\n",
      "bucket :  (32, 35)\n",
      "bucket :  (35, 38)\n",
      "bucket :  (38, 41)\n"
     ]
    },
    {
     "name": "stderr",
     "output_type": "stream",
     "text": [
      " 35%|███▌      | 7/20 [15:46<29:16, 135.12s/it]"
     ]
    },
    {
     "name": "stdout",
     "output_type": "stream",
     "text": [
      "{'bucketing': 12, 'encoding': 'index', 'drop_act': 2, 'models': 'Decision Tree', 'LightGBM': {'max_depth': 9, 'num_leaves': 326, 'min_child_samples': 3}}\n",
      "bucket :  (2, 6)\n",
      "After OverSampling, the shape of train_X: (59022, 25)\n",
      "After OverSampling, the shape of train_y: (59022,) \n",
      "\n",
      "After OverSampling, counts of label '1': 29511\n",
      "After OverSampling, counts of label '0': 29511\n",
      "bucket :  (6, 10)\n",
      "bucket :  (10, 14)\n",
      "bucket :  (14, 17)\n",
      "bucket :  (17, 20)\n",
      "bucket :  (20, 23)\n",
      "bucket :  (23, 26)\n",
      "bucket :  (26, 29)\n",
      "bucket :  (29, 32)\n",
      "bucket :  (32, 35)\n",
      "bucket :  (35, 38)\n",
      "bucket :  (38, 41)\n"
     ]
    },
    {
     "name": "stderr",
     "output_type": "stream",
     "text": [
      " 40%|████      | 8/20 [18:01<27:04, 135.34s/it]"
     ]
    },
    {
     "name": "stdout",
     "output_type": "stream",
     "text": [
      "{'bucketing': 12, 'encoding': 'index', 'drop_act': 2, 'models': 'Xgboost', 'Xgboost': {'max_depth': 10, 'n_estimators': 204, 'learning_rate': 0.01}}\n",
      "bucket :  (2, 6)\n",
      "After OverSampling, the shape of train_X: (59022, 25)\n",
      "After OverSampling, the shape of train_y: (59022,) \n",
      "\n",
      "After OverSampling, counts of label '1': 29511\n",
      "After OverSampling, counts of label '0': 29511\n",
      "bucket :  (6, 10)\n",
      "bucket :  (10, 14)\n",
      "bucket :  (14, 17)\n",
      "bucket :  (17, 20)\n",
      "bucket :  (20, 23)\n",
      "bucket :  (23, 26)\n",
      "bucket :  (26, 29)\n",
      "bucket :  (29, 32)\n",
      "bucket :  (32, 35)\n",
      "bucket :  (35, 38)\n",
      "bucket :  (38, 41)\n"
     ]
    },
    {
     "name": "stderr",
     "output_type": "stream",
     "text": [
      " 45%|████▌     | 9/20 [20:35<25:52, 141.15s/it]"
     ]
    },
    {
     "name": "stdout",
     "output_type": "stream",
     "text": [
      "{'bucketing': 12, 'encoding': 'index', 'drop_act': 2, 'models': 'Decision Tree', 'Decision Tree': {'max_depth': 11, 'min_samples_leaf': 77, 'criterion': 'gini'}}\n",
      "bucket :  (2, 6)\n",
      "After OverSampling, the shape of train_X: (59022, 25)\n",
      "After OverSampling, the shape of train_y: (59022,) \n",
      "\n",
      "After OverSampling, counts of label '1': 29511\n",
      "After OverSampling, counts of label '0': 29511\n",
      "bucket :  (6, 10)\n",
      "bucket :  (10, 14)\n",
      "bucket :  (14, 17)\n",
      "bucket :  (17, 20)\n",
      "bucket :  (20, 23)\n",
      "bucket :  (23, 26)\n",
      "bucket :  (26, 29)\n",
      "bucket :  (29, 32)\n",
      "bucket :  (32, 35)\n",
      "bucket :  (35, 38)\n",
      "bucket :  (38, 41)\n"
     ]
    },
    {
     "name": "stderr",
     "output_type": "stream",
     "text": [
      " 50%|█████     | 10/20 [22:50<23:12, 139.28s/it]"
     ]
    },
    {
     "name": "stdout",
     "output_type": "stream",
     "text": [
      "{'bucketing': 12, 'encoding': 'index', 'drop_act': 2, 'models': 'Decision Tree', 'LightGBM': {'max_depth': 9, 'num_leaves': 326, 'min_child_samples': 3}}\n",
      "bucket :  (2, 6)\n",
      "After OverSampling, the shape of train_X: (59022, 25)\n",
      "After OverSampling, the shape of train_y: (59022,) \n",
      "\n",
      "After OverSampling, counts of label '1': 29511\n",
      "After OverSampling, counts of label '0': 29511\n",
      "bucket :  (6, 10)\n",
      "bucket :  (10, 14)\n",
      "bucket :  (14, 17)\n",
      "bucket :  (17, 20)\n",
      "bucket :  (20, 23)\n",
      "bucket :  (23, 26)\n",
      "bucket :  (26, 29)\n",
      "bucket :  (29, 32)\n",
      "bucket :  (32, 35)\n",
      "bucket :  (35, 38)\n",
      "bucket :  (38, 41)\n"
     ]
    },
    {
     "name": "stderr",
     "output_type": "stream",
     "text": [
      " 55%|█████▌    | 11/20 [25:06<20:41, 138.00s/it]"
     ]
    },
    {
     "name": "stdout",
     "output_type": "stream",
     "text": [
      "{'bucketing': 12, 'encoding': 'index', 'drop_act': 2, 'models': 'Decision Tree', 'LightGBM': {'max_depth': 9, 'num_leaves': 326, 'min_child_samples': 3}}\n",
      "bucket :  (2, 6)\n",
      "After OverSampling, the shape of train_X: (59022, 25)\n",
      "After OverSampling, the shape of train_y: (59022,) \n",
      "\n",
      "After OverSampling, counts of label '1': 29511\n",
      "After OverSampling, counts of label '0': 29511\n",
      "bucket :  (6, 10)\n",
      "bucket :  (10, 14)\n",
      "bucket :  (14, 17)\n",
      "bucket :  (17, 20)\n",
      "bucket :  (20, 23)\n",
      "bucket :  (23, 26)\n",
      "bucket :  (26, 29)\n",
      "bucket :  (29, 32)\n",
      "bucket :  (32, 35)\n",
      "bucket :  (35, 38)\n",
      "bucket :  (38, 41)\n"
     ]
    },
    {
     "name": "stderr",
     "output_type": "stream",
     "text": [
      " 60%|██████    | 12/20 [27:20<18:16, 137.03s/it]"
     ]
    },
    {
     "name": "stdout",
     "output_type": "stream",
     "text": [
      "{'bucketing': 12, 'encoding': 'index', 'drop_act': 2, 'models': 'Decision Tree', 'Decision Tree': {'max_depth': 11, 'min_samples_leaf': 77, 'criterion': 'gini'}}\n",
      "bucket :  (2, 6)\n",
      "After OverSampling, the shape of train_X: (59022, 25)\n",
      "After OverSampling, the shape of train_y: (59022,) \n",
      "\n",
      "After OverSampling, counts of label '1': 29511\n",
      "After OverSampling, counts of label '0': 29511\n",
      "bucket :  (6, 10)\n",
      "bucket :  (10, 14)\n",
      "bucket :  (14, 17)\n",
      "bucket :  (17, 20)\n",
      "bucket :  (20, 23)\n",
      "bucket :  (23, 26)\n",
      "bucket :  (26, 29)\n",
      "bucket :  (29, 32)\n",
      "bucket :  (32, 35)\n",
      "bucket :  (35, 38)\n",
      "bucket :  (38, 41)\n"
     ]
    },
    {
     "name": "stderr",
     "output_type": "stream",
     "text": [
      " 65%|██████▌   | 13/20 [29:36<15:55, 136.54s/it]"
     ]
    },
    {
     "name": "stdout",
     "output_type": "stream",
     "text": [
      "{'bucketing': 12, 'encoding': 'index', 'drop_act': 2, 'models': 'Decision Tree', 'LightGBM': {'max_depth': 9, 'num_leaves': 326, 'min_child_samples': 3}}\n",
      "bucket :  (2, 6)\n",
      "After OverSampling, the shape of train_X: (59022, 25)\n",
      "After OverSampling, the shape of train_y: (59022,) \n",
      "\n",
      "After OverSampling, counts of label '1': 29511\n",
      "After OverSampling, counts of label '0': 29511\n",
      "bucket :  (6, 10)\n",
      "bucket :  (10, 14)\n",
      "bucket :  (14, 17)\n",
      "bucket :  (17, 20)\n",
      "bucket :  (20, 23)\n",
      "bucket :  (23, 26)\n",
      "bucket :  (26, 29)\n",
      "bucket :  (29, 32)\n",
      "bucket :  (32, 35)\n",
      "bucket :  (35, 38)\n",
      "bucket :  (38, 41)\n"
     ]
    },
    {
     "name": "stderr",
     "output_type": "stream",
     "text": [
      " 70%|███████   | 14/20 [31:50<13:35, 135.98s/it]"
     ]
    },
    {
     "name": "stdout",
     "output_type": "stream",
     "text": [
      "{'bucketing': 12, 'encoding': 'index', 'drop_act': 2, 'models': 'Decision Tree', 'Decision Tree': {'max_depth': 11, 'min_samples_leaf': 77, 'criterion': 'gini'}}\n",
      "bucket :  (2, 6)\n",
      "After OverSampling, the shape of train_X: (59022, 25)\n",
      "After OverSampling, the shape of train_y: (59022,) \n",
      "\n",
      "After OverSampling, counts of label '1': 29511\n",
      "After OverSampling, counts of label '0': 29511\n",
      "bucket :  (6, 10)\n",
      "bucket :  (10, 14)\n",
      "bucket :  (14, 17)\n",
      "bucket :  (17, 20)\n",
      "bucket :  (20, 23)\n",
      "bucket :  (23, 26)\n",
      "bucket :  (26, 29)\n",
      "bucket :  (29, 32)\n",
      "bucket :  (32, 35)\n",
      "bucket :  (35, 38)\n",
      "bucket :  (38, 41)\n"
     ]
    },
    {
     "name": "stderr",
     "output_type": "stream",
     "text": [
      " 75%|███████▌  | 15/20 [34:05<11:18, 135.68s/it]"
     ]
    },
    {
     "name": "stdout",
     "output_type": "stream",
     "text": [
      "{'bucketing': 12, 'encoding': 'index', 'drop_act': 8, 'models': 'LightGBM', 'Decision Tree': {'max_depth': 11, 'min_samples_leaf': 77, 'criterion': 'gini'}}\n",
      "bucket :  (2, 6)\n",
      "After OverSampling, the shape of train_X: (58864, 20)\n",
      "After OverSampling, the shape of train_y: (58864,) \n",
      "\n",
      "After OverSampling, counts of label '1': 29432\n",
      "After OverSampling, counts of label '0': 29432\n",
      "bucket :  (6, 10)\n",
      "bucket :  (10, 14)\n",
      "bucket :  (14, 17)\n",
      "bucket :  (17, 20)\n",
      "bucket :  (20, 23)\n",
      "bucket :  (23, 26)\n",
      "bucket :  (26, 29)\n",
      "bucket :  (29, 32)\n",
      "bucket :  (32, 35)\n",
      "bucket :  (35, 38)\n",
      "bucket :  (38, 41)\n"
     ]
    },
    {
     "name": "stderr",
     "output_type": "stream",
     "text": [
      " 80%|████████  | 16/20 [36:16<08:56, 134.21s/it]"
     ]
    },
    {
     "name": "stdout",
     "output_type": "stream",
     "text": [
      "{'bucketing': 12, 'encoding': 'index', 'drop_act': 8, 'models': 'LightGBM', 'LightGBM': {'max_depth': 9, 'num_leaves': 326, 'min_child_samples': 3}}\n",
      "bucket :  (2, 6)\n",
      "After OverSampling, the shape of train_X: (58864, 20)\n",
      "After OverSampling, the shape of train_y: (58864,) \n",
      "\n",
      "After OverSampling, counts of label '1': 29432\n",
      "After OverSampling, counts of label '0': 29432\n",
      "bucket :  (6, 10)\n",
      "bucket :  (10, 14)\n",
      "bucket :  (14, 17)\n",
      "bucket :  (17, 20)\n",
      "bucket :  (20, 23)\n",
      "bucket :  (23, 26)\n",
      "bucket :  (26, 29)\n",
      "bucket :  (29, 32)\n",
      "bucket :  (32, 35)\n",
      "bucket :  (35, 38)\n",
      "bucket :  (38, 41)\n"
     ]
    },
    {
     "name": "stderr",
     "output_type": "stream",
     "text": [
      " 85%|████████▌ | 17/20 [38:28<06:40, 133.36s/it]"
     ]
    },
    {
     "name": "stdout",
     "output_type": "stream",
     "text": [
      "{'bucketing': 12, 'encoding': 'index', 'drop_act': 2, 'models': 'LightGBM', 'LightGBM': {'max_depth': 9, 'num_leaves': 326, 'min_child_samples': 3}}\n",
      "bucket :  (2, 6)\n",
      "After OverSampling, the shape of train_X: (59022, 25)\n",
      "After OverSampling, the shape of train_y: (59022,) \n",
      "\n",
      "After OverSampling, counts of label '1': 29511\n",
      "After OverSampling, counts of label '0': 29511\n",
      "bucket :  (6, 10)\n",
      "bucket :  (10, 14)\n",
      "bucket :  (14, 17)\n",
      "bucket :  (17, 20)\n",
      "bucket :  (20, 23)\n",
      "bucket :  (23, 26)\n",
      "bucket :  (26, 29)\n",
      "bucket :  (29, 32)\n",
      "bucket :  (32, 35)\n",
      "bucket :  (35, 38)\n",
      "bucket :  (38, 41)\n"
     ]
    },
    {
     "name": "stderr",
     "output_type": "stream",
     "text": [
      " 90%|█████████ | 18/20 [40:42<04:27, 133.79s/it]"
     ]
    },
    {
     "name": "stdout",
     "output_type": "stream",
     "text": [
      "{'bucketing': 12, 'encoding': 'index', 'drop_act': 2, 'models': 'Decision Tree', 'Decision Tree': {'max_depth': 11, 'min_samples_leaf': 77, 'criterion': 'gini'}}\n",
      "bucket :  (2, 6)\n",
      "After OverSampling, the shape of train_X: (59022, 25)\n",
      "After OverSampling, the shape of train_y: (59022,) \n",
      "\n",
      "After OverSampling, counts of label '1': 29511\n",
      "After OverSampling, counts of label '0': 29511\n",
      "bucket :  (6, 10)\n",
      "bucket :  (10, 14)\n",
      "bucket :  (14, 17)\n",
      "bucket :  (17, 20)\n",
      "bucket :  (20, 23)\n",
      "bucket :  (23, 26)\n",
      "bucket :  (26, 29)\n",
      "bucket :  (29, 32)\n",
      "bucket :  (32, 35)\n",
      "bucket :  (35, 38)\n",
      "bucket :  (38, 41)\n"
     ]
    },
    {
     "name": "stderr",
     "output_type": "stream",
     "text": [
      " 95%|█████████▌| 19/20 [42:58<02:14, 134.37s/it]"
     ]
    },
    {
     "name": "stdout",
     "output_type": "stream",
     "text": [
      "{'bucketing': 12, 'encoding': 'index', 'drop_act': 2, 'models': 'Decision Tree', 'Decision Tree': {'max_depth': 11, 'min_samples_leaf': 77, 'criterion': 'gini'}}\n",
      "bucket :  (2, 6)\n",
      "After OverSampling, the shape of train_X: (59022, 25)\n",
      "After OverSampling, the shape of train_y: (59022,) \n",
      "\n",
      "After OverSampling, counts of label '1': 29511\n",
      "After OverSampling, counts of label '0': 29511\n",
      "bucket :  (6, 10)\n",
      "bucket :  (10, 14)\n",
      "bucket :  (14, 17)\n",
      "bucket :  (17, 20)\n",
      "bucket :  (20, 23)\n",
      "bucket :  (23, 26)\n",
      "bucket :  (26, 29)\n",
      "bucket :  (29, 32)\n",
      "bucket :  (32, 35)\n",
      "bucket :  (35, 38)\n",
      "bucket :  (38, 41)\n"
     ]
    },
    {
     "name": "stderr",
     "output_type": "stream",
     "text": [
      "100%|██████████| 20/20 [45:13<00:00, 135.70s/it]\n",
      "  0%|          | 0/20 [00:00<?, ?it/s]"
     ]
    },
    {
     "name": "stdout",
     "output_type": "stream",
     "text": [
      "{'bucketing': 12, 'encoding': 'index', 'drop_act': 2, 'models': 'Decision Tree', 'Decision Tree': {'max_depth': 15, 'min_samples_leaf': 29, 'criterion': 'entropy'}}\n",
      "bucket :  (2, 6)\n",
      "After OverSampling, the shape of train_X: (59022, 25)\n",
      "After OverSampling, the shape of train_y: (59022,) \n",
      "\n",
      "After OverSampling, counts of label '1': 29511\n",
      "After OverSampling, counts of label '0': 29511\n",
      "bucket :  (6, 10)\n",
      "bucket :  (10, 14)\n",
      "bucket :  (14, 17)\n",
      "bucket :  (17, 20)\n",
      "bucket :  (20, 23)\n",
      "bucket :  (23, 26)\n",
      "bucket :  (26, 29)\n",
      "bucket :  (29, 32)\n",
      "bucket :  (32, 35)\n",
      "bucket :  (35, 38)\n",
      "bucket :  (38, 41)\n"
     ]
    },
    {
     "name": "stderr",
     "output_type": "stream",
     "text": [
      "  5%|▌         | 1/20 [02:15<42:48, 135.19s/it]"
     ]
    },
    {
     "name": "stdout",
     "output_type": "stream",
     "text": [
      "{'bucketing': 12, 'encoding': 'index', 'drop_act': 2, 'models': 'Decision Tree', 'Decision Tree': {'max_depth': 11, 'min_samples_leaf': 77, 'criterion': 'gini'}}\n",
      "bucket :  (2, 6)\n",
      "After OverSampling, the shape of train_X: (59022, 25)\n",
      "After OverSampling, the shape of train_y: (59022,) \n",
      "\n",
      "After OverSampling, counts of label '1': 29511\n",
      "After OverSampling, counts of label '0': 29511\n",
      "bucket :  (6, 10)\n",
      "bucket :  (10, 14)\n",
      "bucket :  (14, 17)\n",
      "bucket :  (17, 20)\n",
      "bucket :  (20, 23)\n",
      "bucket :  (23, 26)\n",
      "bucket :  (26, 29)\n",
      "bucket :  (29, 32)\n",
      "bucket :  (32, 35)\n",
      "bucket :  (35, 38)\n",
      "bucket :  (38, 41)\n"
     ]
    },
    {
     "name": "stderr",
     "output_type": "stream",
     "text": [
      " 10%|█         | 2/20 [04:31<40:41, 135.62s/it]"
     ]
    },
    {
     "name": "stdout",
     "output_type": "stream",
     "text": [
      "{'bucketing': 12, 'encoding': 'index', 'drop_act': 2, 'models': 'Decision Tree', 'LightGBM': {'max_depth': 9, 'num_leaves': 326, 'min_child_samples': 3}}\n",
      "bucket :  (2, 6)\n",
      "After OverSampling, the shape of train_X: (59022, 25)\n",
      "After OverSampling, the shape of train_y: (59022,) \n",
      "\n",
      "After OverSampling, counts of label '1': 29511\n",
      "After OverSampling, counts of label '0': 29511\n",
      "bucket :  (6, 10)\n",
      "bucket :  (10, 14)\n",
      "bucket :  (14, 17)\n",
      "bucket :  (17, 20)\n",
      "bucket :  (20, 23)\n",
      "bucket :  (23, 26)\n",
      "bucket :  (26, 29)\n",
      "bucket :  (29, 32)\n",
      "bucket :  (32, 35)\n",
      "bucket :  (35, 38)\n",
      "bucket :  (38, 41)\n"
     ]
    },
    {
     "name": "stderr",
     "output_type": "stream",
     "text": [
      " 15%|█▌        | 3/20 [06:46<38:25, 135.61s/it]"
     ]
    },
    {
     "name": "stdout",
     "output_type": "stream",
     "text": [
      "{'bucketing': 12, 'encoding': 'index', 'drop_act': 2, 'models': 'Decision Tree', 'LightGBM': {'max_depth': 9, 'num_leaves': 326, 'min_child_samples': 3}}\n",
      "bucket :  (2, 6)\n",
      "After OverSampling, the shape of train_X: (59022, 25)\n",
      "After OverSampling, the shape of train_y: (59022,) \n",
      "\n",
      "After OverSampling, counts of label '1': 29511\n",
      "After OverSampling, counts of label '0': 29511\n",
      "bucket :  (6, 10)\n",
      "bucket :  (10, 14)\n",
      "bucket :  (14, 17)\n",
      "bucket :  (17, 20)\n",
      "bucket :  (20, 23)\n",
      "bucket :  (23, 26)\n",
      "bucket :  (26, 29)\n",
      "bucket :  (29, 32)\n",
      "bucket :  (32, 35)\n",
      "bucket :  (35, 38)\n",
      "bucket :  (38, 41)\n"
     ]
    },
    {
     "name": "stderr",
     "output_type": "stream",
     "text": [
      " 20%|██        | 4/20 [09:02<36:08, 135.54s/it]"
     ]
    },
    {
     "name": "stdout",
     "output_type": "stream",
     "text": [
      "{'bucketing': 12, 'encoding': 'index', 'drop_act': 2, 'models': 'Xgboost', 'Xgboost': {'max_depth': 10, 'n_estimators': 204, 'learning_rate': 0.01}}\n",
      "bucket :  (2, 6)\n",
      "After OverSampling, the shape of train_X: (59022, 25)\n",
      "After OverSampling, the shape of train_y: (59022,) \n",
      "\n",
      "After OverSampling, counts of label '1': 29511\n",
      "After OverSampling, counts of label '0': 29511\n",
      "bucket :  (6, 10)\n",
      "bucket :  (10, 14)\n",
      "bucket :  (14, 17)\n",
      "bucket :  (17, 20)\n",
      "bucket :  (20, 23)\n",
      "bucket :  (23, 26)\n",
      "bucket :  (26, 29)\n",
      "bucket :  (29, 32)\n",
      "bucket :  (32, 35)\n",
      "bucket :  (35, 38)\n",
      "bucket :  (38, 41)\n"
     ]
    },
    {
     "name": "stderr",
     "output_type": "stream",
     "text": [
      " 25%|██▌       | 5/20 [11:34<35:26, 141.77s/it]"
     ]
    },
    {
     "name": "stdout",
     "output_type": "stream",
     "text": [
      "{'bucketing': 12, 'encoding': 'index', 'drop_act': 2, 'models': 'Decision Tree', 'LightGBM': {'max_depth': 9, 'num_leaves': 326, 'min_child_samples': 3}}\n",
      "bucket :  (2, 6)\n",
      "After OverSampling, the shape of train_X: (59022, 25)\n",
      "After OverSampling, the shape of train_y: (59022,) \n",
      "\n",
      "After OverSampling, counts of label '1': 29511\n",
      "After OverSampling, counts of label '0': 29511\n",
      "bucket :  (6, 10)\n",
      "bucket :  (10, 14)\n",
      "bucket :  (14, 17)\n",
      "bucket :  (17, 20)\n",
      "bucket :  (20, 23)\n",
      "bucket :  (23, 26)\n",
      "bucket :  (26, 29)\n",
      "bucket :  (29, 32)\n",
      "bucket :  (32, 35)\n",
      "bucket :  (35, 38)\n",
      "bucket :  (38, 41)\n"
     ]
    },
    {
     "name": "stderr",
     "output_type": "stream",
     "text": [
      " 30%|███       | 6/20 [13:50<32:35, 139.64s/it]"
     ]
    },
    {
     "name": "stdout",
     "output_type": "stream",
     "text": [
      "{'bucketing': 12, 'encoding': 'index', 'drop_act': 2, 'models': 'Decision Tree', 'LightGBM': {'max_depth': 9, 'num_leaves': 326, 'min_child_samples': 3}}\n",
      "bucket :  (2, 6)\n",
      "After OverSampling, the shape of train_X: (59022, 25)\n",
      "After OverSampling, the shape of train_y: (59022,) \n",
      "\n",
      "After OverSampling, counts of label '1': 29511\n",
      "After OverSampling, counts of label '0': 29511\n",
      "bucket :  (6, 10)\n",
      "bucket :  (10, 14)\n",
      "bucket :  (14, 17)\n",
      "bucket :  (17, 20)\n",
      "bucket :  (20, 23)\n",
      "bucket :  (23, 26)\n",
      "bucket :  (26, 29)\n",
      "bucket :  (29, 32)\n",
      "bucket :  (32, 35)\n",
      "bucket :  (35, 38)\n",
      "bucket :  (38, 41)\n"
     ]
    },
    {
     "name": "stderr",
     "output_type": "stream",
     "text": [
      " 35%|███▌      | 7/20 [16:05<29:55, 138.15s/it]"
     ]
    },
    {
     "name": "stdout",
     "output_type": "stream",
     "text": [
      "{'bucketing': 12, 'encoding': 'index', 'drop_act': 2, 'models': 'Decision Tree', 'LightGBM': {'max_depth': 9, 'num_leaves': 326, 'min_child_samples': 3}}\n",
      "bucket :  (2, 6)\n",
      "After OverSampling, the shape of train_X: (59022, 25)\n",
      "After OverSampling, the shape of train_y: (59022,) \n",
      "\n",
      "After OverSampling, counts of label '1': 29511\n",
      "After OverSampling, counts of label '0': 29511\n",
      "bucket :  (6, 10)\n",
      "bucket :  (10, 14)\n",
      "bucket :  (14, 17)\n",
      "bucket :  (17, 20)\n",
      "bucket :  (20, 23)\n",
      "bucket :  (23, 26)\n",
      "bucket :  (26, 29)\n",
      "bucket :  (29, 32)\n",
      "bucket :  (32, 35)\n",
      "bucket :  (35, 38)\n",
      "bucket :  (38, 41)\n"
     ]
    },
    {
     "name": "stderr",
     "output_type": "stream",
     "text": [
      " 40%|████      | 8/20 [18:21<27:28, 137.40s/it]"
     ]
    },
    {
     "name": "stdout",
     "output_type": "stream",
     "text": [
      "{'bucketing': 12, 'encoding': 'index', 'drop_act': 2, 'models': 'Decision Tree', 'LightGBM': {'max_depth': 9, 'num_leaves': 326, 'min_child_samples': 3}}\n",
      "bucket :  (2, 6)\n",
      "After OverSampling, the shape of train_X: (59022, 25)\n",
      "After OverSampling, the shape of train_y: (59022,) \n",
      "\n",
      "After OverSampling, counts of label '1': 29511\n",
      "After OverSampling, counts of label '0': 29511\n",
      "bucket :  (6, 10)\n",
      "bucket :  (10, 14)\n",
      "bucket :  (14, 17)\n",
      "bucket :  (17, 20)\n",
      "bucket :  (20, 23)\n",
      "bucket :  (23, 26)\n",
      "bucket :  (26, 29)\n",
      "bucket :  (29, 32)\n",
      "bucket :  (32, 35)\n",
      "bucket :  (35, 38)\n",
      "bucket :  (38, 41)\n"
     ]
    },
    {
     "name": "stderr",
     "output_type": "stream",
     "text": [
      " 45%|████▌     | 9/20 [20:36<25:03, 136.68s/it]"
     ]
    },
    {
     "name": "stdout",
     "output_type": "stream",
     "text": [
      "{'bucketing': 12, 'encoding': 'index', 'drop_act': 2, 'models': 'Decision Tree', 'Decision Tree': {'max_depth': 11, 'min_samples_leaf': 77, 'criterion': 'gini'}}\n",
      "bucket :  (2, 6)\n",
      "After OverSampling, the shape of train_X: (59022, 25)\n",
      "After OverSampling, the shape of train_y: (59022,) \n",
      "\n",
      "After OverSampling, counts of label '1': 29511\n",
      "After OverSampling, counts of label '0': 29511\n",
      "bucket :  (6, 10)\n",
      "bucket :  (10, 14)\n",
      "bucket :  (14, 17)\n",
      "bucket :  (17, 20)\n",
      "bucket :  (20, 23)\n",
      "bucket :  (23, 26)\n",
      "bucket :  (26, 29)\n",
      "bucket :  (29, 32)\n",
      "bucket :  (32, 35)\n",
      "bucket :  (35, 38)\n",
      "bucket :  (38, 41)\n"
     ]
    },
    {
     "name": "stderr",
     "output_type": "stream",
     "text": [
      " 50%|█████     | 10/20 [22:52<22:44, 136.41s/it]"
     ]
    },
    {
     "name": "stdout",
     "output_type": "stream",
     "text": [
      "{'bucketing': 12, 'encoding': 'index', 'drop_act': 2, 'models': 'Decision Tree', 'Decision Tree': {'max_depth': 11, 'min_samples_leaf': 77, 'criterion': 'gini'}}\n",
      "bucket :  (2, 6)\n",
      "After OverSampling, the shape of train_X: (59022, 25)\n",
      "After OverSampling, the shape of train_y: (59022,) \n",
      "\n",
      "After OverSampling, counts of label '1': 29511\n",
      "After OverSampling, counts of label '0': 29511\n",
      "bucket :  (6, 10)\n",
      "bucket :  (10, 14)\n",
      "bucket :  (14, 17)\n",
      "bucket :  (17, 20)\n",
      "bucket :  (20, 23)\n",
      "bucket :  (23, 26)\n",
      "bucket :  (26, 29)\n",
      "bucket :  (29, 32)\n",
      "bucket :  (32, 35)\n",
      "bucket :  (35, 38)\n",
      "bucket :  (38, 41)\n"
     ]
    },
    {
     "name": "stderr",
     "output_type": "stream",
     "text": [
      " 55%|█████▌    | 11/20 [25:08<20:25, 136.21s/it]"
     ]
    },
    {
     "name": "stdout",
     "output_type": "stream",
     "text": [
      "{'bucketing': 12, 'encoding': 'index', 'drop_act': 2, 'models': 'Decision Tree', 'LightGBM': {'max_depth': 9, 'num_leaves': 326, 'min_child_samples': 3}}\n",
      "bucket :  (2, 6)\n",
      "After OverSampling, the shape of train_X: (59022, 25)\n",
      "After OverSampling, the shape of train_y: (59022,) \n",
      "\n",
      "After OverSampling, counts of label '1': 29511\n",
      "After OverSampling, counts of label '0': 29511\n",
      "bucket :  (6, 10)\n",
      "bucket :  (10, 14)\n",
      "bucket :  (14, 17)\n",
      "bucket :  (17, 20)\n",
      "bucket :  (20, 23)\n",
      "bucket :  (23, 26)\n",
      "bucket :  (26, 29)\n",
      "bucket :  (29, 32)\n",
      "bucket :  (32, 35)\n",
      "bucket :  (35, 38)\n",
      "bucket :  (38, 41)\n"
     ]
    },
    {
     "name": "stderr",
     "output_type": "stream",
     "text": [
      " 60%|██████    | 12/20 [27:24<18:09, 136.20s/it]"
     ]
    },
    {
     "name": "stdout",
     "output_type": "stream",
     "text": [
      "{'bucketing': 12, 'encoding': 'index', 'drop_act': 2, 'models': 'LightGBM', 'LightGBM': {'max_depth': 9, 'num_leaves': 326, 'min_child_samples': 3}}\n",
      "bucket :  (2, 6)\n",
      "After OverSampling, the shape of train_X: (59022, 25)\n",
      "After OverSampling, the shape of train_y: (59022,) \n",
      "\n",
      "After OverSampling, counts of label '1': 29511\n",
      "After OverSampling, counts of label '0': 29511\n",
      "bucket :  (6, 10)\n",
      "bucket :  (10, 14)\n",
      "bucket :  (14, 17)\n",
      "bucket :  (17, 20)\n",
      "bucket :  (20, 23)\n",
      "bucket :  (23, 26)\n",
      "bucket :  (26, 29)\n",
      "bucket :  (29, 32)\n",
      "bucket :  (32, 35)\n",
      "bucket :  (35, 38)\n",
      "bucket :  (38, 41)\n"
     ]
    },
    {
     "name": "stderr",
     "output_type": "stream",
     "text": [
      " 65%|██████▌   | 13/20 [29:39<15:50, 135.84s/it]"
     ]
    },
    {
     "name": "stdout",
     "output_type": "stream",
     "text": [
      "{'bucketing': 12, 'encoding': 'index', 'drop_act': 2, 'models': 'Decision Tree', 'LightGBM': {'max_depth': 9, 'num_leaves': 326, 'min_child_samples': 3}}\n",
      "bucket :  (2, 6)\n",
      "After OverSampling, the shape of train_X: (59022, 25)\n",
      "After OverSampling, the shape of train_y: (59022,) \n",
      "\n",
      "After OverSampling, counts of label '1': 29511\n",
      "After OverSampling, counts of label '0': 29511\n",
      "bucket :  (6, 10)\n",
      "bucket :  (10, 14)\n",
      "bucket :  (14, 17)\n",
      "bucket :  (17, 20)\n",
      "bucket :  (20, 23)\n",
      "bucket :  (23, 26)\n",
      "bucket :  (26, 29)\n",
      "bucket :  (29, 32)\n",
      "bucket :  (32, 35)\n",
      "bucket :  (35, 38)\n",
      "bucket :  (38, 41)\n"
     ]
    },
    {
     "name": "stderr",
     "output_type": "stream",
     "text": [
      " 70%|███████   | 14/20 [31:55<13:35, 135.84s/it]"
     ]
    },
    {
     "name": "stdout",
     "output_type": "stream",
     "text": [
      "{'bucketing': 12, 'encoding': 'index', 'drop_act': 2, 'models': 'Decision Tree', 'Decision Tree': {'max_depth': 11, 'min_samples_leaf': 77, 'criterion': 'gini'}}\n",
      "bucket :  (2, 6)\n",
      "After OverSampling, the shape of train_X: (59022, 25)\n",
      "After OverSampling, the shape of train_y: (59022,) \n",
      "\n",
      "After OverSampling, counts of label '1': 29511\n",
      "After OverSampling, counts of label '0': 29511\n",
      "bucket :  (6, 10)\n",
      "bucket :  (10, 14)\n",
      "bucket :  (14, 17)\n",
      "bucket :  (17, 20)\n",
      "bucket :  (20, 23)\n",
      "bucket :  (23, 26)\n",
      "bucket :  (26, 29)\n",
      "bucket :  (29, 32)\n",
      "bucket :  (32, 35)\n",
      "bucket :  (35, 38)\n",
      "bucket :  (38, 41)\n"
     ]
    },
    {
     "name": "stderr",
     "output_type": "stream",
     "text": [
      " 75%|███████▌  | 15/20 [34:10<11:17, 135.58s/it]"
     ]
    },
    {
     "name": "stdout",
     "output_type": "stream",
     "text": [
      "{'bucketing': 12, 'encoding': 'index', 'drop_act': 2, 'models': 'Decision Tree', 'LightGBM': {'max_depth': 9, 'num_leaves': 326, 'min_child_samples': 3}}\n",
      "bucket :  (2, 6)\n",
      "After OverSampling, the shape of train_X: (59022, 25)\n",
      "After OverSampling, the shape of train_y: (59022,) \n",
      "\n",
      "After OverSampling, counts of label '1': 29511\n",
      "After OverSampling, counts of label '0': 29511\n",
      "bucket :  (6, 10)\n",
      "bucket :  (10, 14)\n",
      "bucket :  (14, 17)\n",
      "bucket :  (17, 20)\n",
      "bucket :  (20, 23)\n",
      "bucket :  (23, 26)\n",
      "bucket :  (26, 29)\n",
      "bucket :  (29, 32)\n",
      "bucket :  (32, 35)\n",
      "bucket :  (35, 38)\n",
      "bucket :  (38, 41)\n"
     ]
    },
    {
     "name": "stderr",
     "output_type": "stream",
     "text": [
      " 80%|████████  | 16/20 [36:25<09:02, 135.62s/it]"
     ]
    },
    {
     "name": "stdout",
     "output_type": "stream",
     "text": [
      "{'bucketing': 12, 'encoding': 'index', 'drop_act': 2, 'models': 'Xgboost', 'Xgboost': {'max_depth': 10, 'n_estimators': 204, 'learning_rate': 0.01}}\n",
      "bucket :  (2, 6)\n",
      "After OverSampling, the shape of train_X: (59022, 25)\n",
      "After OverSampling, the shape of train_y: (59022,) \n",
      "\n",
      "After OverSampling, counts of label '1': 29511\n",
      "After OverSampling, counts of label '0': 29511\n",
      "bucket :  (6, 10)\n",
      "bucket :  (10, 14)\n",
      "bucket :  (14, 17)\n",
      "bucket :  (17, 20)\n",
      "bucket :  (20, 23)\n",
      "bucket :  (23, 26)\n",
      "bucket :  (26, 29)\n",
      "bucket :  (29, 32)\n",
      "bucket :  (32, 35)\n",
      "bucket :  (35, 38)\n",
      "bucket :  (38, 41)\n"
     ]
    },
    {
     "name": "stderr",
     "output_type": "stream",
     "text": [
      " 85%|████████▌ | 17/20 [38:59<07:03, 141.20s/it]"
     ]
    },
    {
     "name": "stdout",
     "output_type": "stream",
     "text": [
      "{'bucketing': 12, 'encoding': 'index', 'drop_act': 2, 'models': 'Decision Tree', 'LightGBM': {'max_depth': 9, 'num_leaves': 326, 'min_child_samples': 3}}\n",
      "bucket :  (2, 6)\n",
      "After OverSampling, the shape of train_X: (59022, 25)\n",
      "After OverSampling, the shape of train_y: (59022,) \n",
      "\n",
      "After OverSampling, counts of label '1': 29511\n",
      "After OverSampling, counts of label '0': 29511\n",
      "bucket :  (6, 10)\n",
      "bucket :  (10, 14)\n",
      "bucket :  (14, 17)\n",
      "bucket :  (17, 20)\n",
      "bucket :  (20, 23)\n",
      "bucket :  (23, 26)\n",
      "bucket :  (26, 29)\n",
      "bucket :  (29, 32)\n",
      "bucket :  (32, 35)\n",
      "bucket :  (35, 38)\n",
      "bucket :  (38, 41)\n"
     ]
    },
    {
     "name": "stderr",
     "output_type": "stream",
     "text": [
      " 90%|█████████ | 18/20 [41:15<04:39, 139.64s/it]"
     ]
    },
    {
     "name": "stdout",
     "output_type": "stream",
     "text": [
      "{'bucketing': 12, 'encoding': 'index', 'drop_act': 2, 'models': 'Decision Tree', 'Decision Tree': {'max_depth': 11, 'min_samples_leaf': 77, 'criterion': 'gini'}}\n",
      "bucket :  (2, 6)\n",
      "After OverSampling, the shape of train_X: (59022, 25)\n",
      "After OverSampling, the shape of train_y: (59022,) \n",
      "\n",
      "After OverSampling, counts of label '1': 29511\n",
      "After OverSampling, counts of label '0': 29511\n",
      "bucket :  (6, 10)\n",
      "bucket :  (10, 14)\n",
      "bucket :  (14, 17)\n",
      "bucket :  (17, 20)\n",
      "bucket :  (20, 23)\n",
      "bucket :  (23, 26)\n",
      "bucket :  (26, 29)\n",
      "bucket :  (29, 32)\n",
      "bucket :  (32, 35)\n",
      "bucket :  (35, 38)\n",
      "bucket :  (38, 41)\n"
     ]
    },
    {
     "name": "stderr",
     "output_type": "stream",
     "text": [
      " 95%|█████████▌| 19/20 [43:31<02:18, 138.43s/it]"
     ]
    },
    {
     "name": "stdout",
     "output_type": "stream",
     "text": [
      "{'bucketing': 12, 'encoding': 'index', 'drop_act': 2, 'models': 'Decision Tree', 'LightGBM': {'max_depth': 9, 'num_leaves': 326, 'min_child_samples': 3}}\n",
      "bucket :  (2, 6)\n",
      "After OverSampling, the shape of train_X: (59022, 25)\n",
      "After OverSampling, the shape of train_y: (59022,) \n",
      "\n",
      "After OverSampling, counts of label '1': 29511\n",
      "After OverSampling, counts of label '0': 29511\n",
      "bucket :  (6, 10)\n",
      "bucket :  (10, 14)\n",
      "bucket :  (14, 17)\n",
      "bucket :  (17, 20)\n",
      "bucket :  (20, 23)\n",
      "bucket :  (23, 26)\n",
      "bucket :  (26, 29)\n",
      "bucket :  (29, 32)\n",
      "bucket :  (32, 35)\n",
      "bucket :  (35, 38)\n",
      "bucket :  (38, 41)\n"
     ]
    },
    {
     "name": "stderr",
     "output_type": "stream",
     "text": [
      "100%|██████████| 20/20 [45:46<00:00, 137.32s/it]\n",
      "  0%|          | 0/20 [00:00<?, ?it/s]"
     ]
    },
    {
     "name": "stdout",
     "output_type": "stream",
     "text": [
      "{'bucketing': 12, 'encoding': 'index', 'drop_act': 2, 'models': 'Decision Tree', 'LightGBM': {'max_depth': 9, 'num_leaves': 326, 'min_child_samples': 3}}\n",
      "bucket :  (2, 6)\n",
      "After OverSampling, the shape of train_X: (59022, 25)\n",
      "After OverSampling, the shape of train_y: (59022,) \n",
      "\n",
      "After OverSampling, counts of label '1': 29511\n",
      "After OverSampling, counts of label '0': 29511\n",
      "bucket :  (6, 10)\n",
      "bucket :  (10, 14)\n",
      "bucket :  (14, 17)\n",
      "bucket :  (17, 20)\n",
      "bucket :  (20, 23)\n",
      "bucket :  (23, 26)\n",
      "bucket :  (26, 29)\n",
      "bucket :  (29, 32)\n",
      "bucket :  (32, 35)\n",
      "bucket :  (35, 38)\n",
      "bucket :  (38, 41)\n"
     ]
    },
    {
     "name": "stderr",
     "output_type": "stream",
     "text": [
      "  5%|▌         | 1/20 [02:15<42:45, 135.05s/it]"
     ]
    },
    {
     "name": "stdout",
     "output_type": "stream",
     "text": [
      "{'bucketing': 12, 'encoding': 'index', 'drop_act': 2, 'models': 'Decision Tree', 'LightGBM': {'max_depth': 9, 'num_leaves': 326, 'min_child_samples': 3}}\n",
      "bucket :  (2, 6)\n",
      "After OverSampling, the shape of train_X: (59022, 25)\n",
      "After OverSampling, the shape of train_y: (59022,) \n",
      "\n",
      "After OverSampling, counts of label '1': 29511\n",
      "After OverSampling, counts of label '0': 29511\n",
      "bucket :  (6, 10)\n",
      "bucket :  (10, 14)\n",
      "bucket :  (14, 17)\n",
      "bucket :  (17, 20)\n",
      "bucket :  (20, 23)\n",
      "bucket :  (23, 26)\n",
      "bucket :  (26, 29)\n",
      "bucket :  (29, 32)\n",
      "bucket :  (32, 35)\n",
      "bucket :  (35, 38)\n",
      "bucket :  (38, 41)\n"
     ]
    },
    {
     "name": "stderr",
     "output_type": "stream",
     "text": [
      " 10%|█         | 2/20 [04:30<40:36, 135.39s/it]"
     ]
    },
    {
     "name": "stdout",
     "output_type": "stream",
     "text": [
      "{'bucketing': 12, 'encoding': 'index', 'drop_act': 2, 'models': 'Decision Tree', 'Decision Tree': {'max_depth': 11, 'min_samples_leaf': 77, 'criterion': 'gini'}}\n",
      "bucket :  (2, 6)\n",
      "After OverSampling, the shape of train_X: (59022, 25)\n",
      "After OverSampling, the shape of train_y: (59022,) \n",
      "\n",
      "After OverSampling, counts of label '1': 29511\n",
      "After OverSampling, counts of label '0': 29511\n",
      "bucket :  (6, 10)\n",
      "bucket :  (10, 14)\n",
      "bucket :  (14, 17)\n",
      "bucket :  (17, 20)\n",
      "bucket :  (20, 23)\n",
      "bucket :  (23, 26)\n",
      "bucket :  (26, 29)\n",
      "bucket :  (29, 32)\n",
      "bucket :  (32, 35)\n",
      "bucket :  (35, 38)\n",
      "bucket :  (38, 41)\n"
     ]
    },
    {
     "name": "stderr",
     "output_type": "stream",
     "text": [
      " 15%|█▌        | 3/20 [06:46<38:26, 135.68s/it]"
     ]
    },
    {
     "name": "stdout",
     "output_type": "stream",
     "text": [
      "{'bucketing': 12, 'encoding': 'index', 'drop_act': 2, 'models': 'Decision Tree', 'Decision Tree': {'max_depth': 11, 'min_samples_leaf': 77, 'criterion': 'gini'}}\n",
      "bucket :  (2, 6)\n",
      "After OverSampling, the shape of train_X: (59022, 25)\n",
      "After OverSampling, the shape of train_y: (59022,) \n",
      "\n",
      "After OverSampling, counts of label '1': 29511\n",
      "After OverSampling, counts of label '0': 29511\n",
      "bucket :  (6, 10)\n",
      "bucket :  (10, 14)\n",
      "bucket :  (14, 17)\n",
      "bucket :  (17, 20)\n",
      "bucket :  (20, 23)\n",
      "bucket :  (23, 26)\n",
      "bucket :  (26, 29)\n",
      "bucket :  (29, 32)\n",
      "bucket :  (32, 35)\n",
      "bucket :  (35, 38)\n",
      "bucket :  (38, 41)\n"
     ]
    },
    {
     "name": "stderr",
     "output_type": "stream",
     "text": [
      " 20%|██        | 4/20 [09:02<36:11, 135.73s/it]"
     ]
    },
    {
     "name": "stdout",
     "output_type": "stream",
     "text": [
      "{'bucketing': 12, 'encoding': 'index', 'drop_act': 2, 'models': 'Decision Tree', 'Decision Tree': {'max_depth': 15, 'min_samples_leaf': 29, 'criterion': 'entropy'}}\n",
      "bucket :  (2, 6)\n",
      "After OverSampling, the shape of train_X: (59022, 25)\n",
      "After OverSampling, the shape of train_y: (59022,) \n",
      "\n",
      "After OverSampling, counts of label '1': 29511\n",
      "After OverSampling, counts of label '0': 29511\n",
      "bucket :  (6, 10)\n",
      "bucket :  (10, 14)\n",
      "bucket :  (14, 17)\n",
      "bucket :  (17, 20)\n",
      "bucket :  (20, 23)\n",
      "bucket :  (23, 26)\n",
      "bucket :  (26, 29)\n",
      "bucket :  (29, 32)\n",
      "bucket :  (32, 35)\n",
      "bucket :  (35, 38)\n",
      "bucket :  (38, 41)\n"
     ]
    },
    {
     "name": "stderr",
     "output_type": "stream",
     "text": [
      " 25%|██▌       | 5/20 [11:17<33:51, 135.41s/it]"
     ]
    },
    {
     "name": "stdout",
     "output_type": "stream",
     "text": [
      "{'bucketing': 12, 'encoding': 'index', 'drop_act': 2, 'models': 'Decision Tree', 'LightGBM': {'max_depth': 9, 'num_leaves': 326, 'min_child_samples': 3}}\n",
      "bucket :  (2, 6)\n",
      "After OverSampling, the shape of train_X: (59022, 25)\n",
      "After OverSampling, the shape of train_y: (59022,) \n",
      "\n",
      "After OverSampling, counts of label '1': 29511\n",
      "After OverSampling, counts of label '0': 29511\n",
      "bucket :  (6, 10)\n",
      "bucket :  (10, 14)\n",
      "bucket :  (14, 17)\n",
      "bucket :  (17, 20)\n",
      "bucket :  (20, 23)\n",
      "bucket :  (23, 26)\n",
      "bucket :  (26, 29)\n",
      "bucket :  (29, 32)\n",
      "bucket :  (32, 35)\n",
      "bucket :  (35, 38)\n",
      "bucket :  (38, 41)\n"
     ]
    },
    {
     "name": "stderr",
     "output_type": "stream",
     "text": [
      " 30%|███       | 6/20 [13:32<31:35, 135.38s/it]"
     ]
    },
    {
     "name": "stdout",
     "output_type": "stream",
     "text": [
      "{'bucketing': 12, 'encoding': 'index', 'drop_act': 2, 'models': 'Decision Tree', 'LightGBM': {'max_depth': 9, 'num_leaves': 326, 'min_child_samples': 3}}\n",
      "bucket :  (2, 6)\n",
      "After OverSampling, the shape of train_X: (59022, 25)\n",
      "After OverSampling, the shape of train_y: (59022,) \n",
      "\n",
      "After OverSampling, counts of label '1': 29511\n",
      "After OverSampling, counts of label '0': 29511\n",
      "bucket :  (6, 10)\n",
      "bucket :  (10, 14)\n",
      "bucket :  (14, 17)\n",
      "bucket :  (17, 20)\n",
      "bucket :  (20, 23)\n",
      "bucket :  (23, 26)\n",
      "bucket :  (26, 29)\n",
      "bucket :  (29, 32)\n",
      "bucket :  (32, 35)\n",
      "bucket :  (35, 38)\n",
      "bucket :  (38, 41)\n"
     ]
    },
    {
     "name": "stderr",
     "output_type": "stream",
     "text": [
      " 35%|███▌      | 7/20 [15:48<29:20, 135.39s/it]"
     ]
    },
    {
     "name": "stdout",
     "output_type": "stream",
     "text": [
      "{'bucketing': 12, 'encoding': 'index', 'drop_act': 2, 'models': 'Decision Tree', 'Decision Tree': {'max_depth': 15, 'min_samples_leaf': 29, 'criterion': 'entropy'}}\n",
      "bucket :  (2, 6)\n",
      "After OverSampling, the shape of train_X: (59022, 25)\n",
      "After OverSampling, the shape of train_y: (59022,) \n",
      "\n",
      "After OverSampling, counts of label '1': 29511\n",
      "After OverSampling, counts of label '0': 29511\n",
      "bucket :  (6, 10)\n",
      "bucket :  (10, 14)\n",
      "bucket :  (14, 17)\n",
      "bucket :  (17, 20)\n",
      "bucket :  (20, 23)\n",
      "bucket :  (23, 26)\n",
      "bucket :  (26, 29)\n",
      "bucket :  (29, 32)\n",
      "bucket :  (32, 35)\n",
      "bucket :  (35, 38)\n",
      "bucket :  (38, 41)\n"
     ]
    },
    {
     "name": "stderr",
     "output_type": "stream",
     "text": [
      " 40%|████      | 8/20 [18:03<27:06, 135.56s/it]"
     ]
    },
    {
     "name": "stdout",
     "output_type": "stream",
     "text": [
      "{'bucketing': 12, 'encoding': 'index', 'drop_act': 2, 'models': 'Decision Tree', 'LightGBM': {'max_depth': 9, 'num_leaves': 326, 'min_child_samples': 3}}\n",
      "bucket :  (2, 6)\n",
      "After OverSampling, the shape of train_X: (59022, 25)\n",
      "After OverSampling, the shape of train_y: (59022,) \n",
      "\n",
      "After OverSampling, counts of label '1': 29511\n",
      "After OverSampling, counts of label '0': 29511\n",
      "bucket :  (6, 10)\n",
      "bucket :  (10, 14)\n",
      "bucket :  (14, 17)\n",
      "bucket :  (17, 20)\n",
      "bucket :  (20, 23)\n",
      "bucket :  (23, 26)\n",
      "bucket :  (26, 29)\n",
      "bucket :  (29, 32)\n",
      "bucket :  (32, 35)\n",
      "bucket :  (35, 38)\n",
      "bucket :  (38, 41)\n"
     ]
    },
    {
     "name": "stderr",
     "output_type": "stream",
     "text": [
      " 45%|████▌     | 9/20 [20:19<24:50, 135.50s/it]"
     ]
    },
    {
     "name": "stdout",
     "output_type": "stream",
     "text": [
      "{'bucketing': 12, 'encoding': 'index', 'drop_act': 2, 'models': 'Decision Tree', 'LightGBM': {'max_depth': 9, 'num_leaves': 326, 'min_child_samples': 3}}\n",
      "bucket :  (2, 6)\n",
      "After OverSampling, the shape of train_X: (59022, 25)\n",
      "After OverSampling, the shape of train_y: (59022,) \n",
      "\n",
      "After OverSampling, counts of label '1': 29511\n",
      "After OverSampling, counts of label '0': 29511\n",
      "bucket :  (6, 10)\n",
      "bucket :  (10, 14)\n",
      "bucket :  (14, 17)\n",
      "bucket :  (17, 20)\n",
      "bucket :  (20, 23)\n",
      "bucket :  (23, 26)\n",
      "bucket :  (26, 29)\n",
      "bucket :  (29, 32)\n",
      "bucket :  (32, 35)\n",
      "bucket :  (35, 38)\n",
      "bucket :  (38, 41)\n"
     ]
    },
    {
     "name": "stderr",
     "output_type": "stream",
     "text": [
      " 50%|█████     | 10/20 [22:34<22:34, 135.48s/it]"
     ]
    },
    {
     "name": "stdout",
     "output_type": "stream",
     "text": [
      "{'bucketing': 12, 'encoding': 'index', 'drop_act': 2, 'models': 'Decision Tree', 'LightGBM': {'max_depth': 9, 'num_leaves': 326, 'min_child_samples': 3}}\n",
      "bucket :  (2, 6)\n",
      "After OverSampling, the shape of train_X: (59022, 25)\n",
      "After OverSampling, the shape of train_y: (59022,) \n",
      "\n",
      "After OverSampling, counts of label '1': 29511\n",
      "After OverSampling, counts of label '0': 29511\n",
      "bucket :  (6, 10)\n",
      "bucket :  (10, 14)\n",
      "bucket :  (14, 17)\n",
      "bucket :  (17, 20)\n",
      "bucket :  (20, 23)\n",
      "bucket :  (23, 26)\n",
      "bucket :  (26, 29)\n",
      "bucket :  (29, 32)\n",
      "bucket :  (32, 35)\n",
      "bucket :  (35, 38)\n",
      "bucket :  (38, 41)\n"
     ]
    },
    {
     "name": "stderr",
     "output_type": "stream",
     "text": [
      " 55%|█████▌    | 11/20 [24:49<20:15, 135.10s/it]"
     ]
    },
    {
     "name": "stdout",
     "output_type": "stream",
     "text": [
      "{'bucketing': 12, 'encoding': 'index', 'drop_act': 2, 'models': 'Decision Tree', 'Decision Tree': {'max_depth': 11, 'min_samples_leaf': 77, 'criterion': 'gini'}}\n",
      "bucket :  (2, 6)\n",
      "After OverSampling, the shape of train_X: (59022, 25)\n",
      "After OverSampling, the shape of train_y: (59022,) \n",
      "\n",
      "After OverSampling, counts of label '1': 29511\n",
      "After OverSampling, counts of label '0': 29511\n",
      "bucket :  (6, 10)\n",
      "bucket :  (10, 14)\n",
      "bucket :  (14, 17)\n",
      "bucket :  (17, 20)\n",
      "bucket :  (20, 23)\n",
      "bucket :  (23, 26)\n",
      "bucket :  (26, 29)\n",
      "bucket :  (29, 32)\n",
      "bucket :  (32, 35)\n",
      "bucket :  (35, 38)\n",
      "bucket :  (38, 41)\n"
     ]
    },
    {
     "name": "stderr",
     "output_type": "stream",
     "text": [
      " 60%|██████    | 12/20 [27:03<17:59, 134.94s/it]"
     ]
    },
    {
     "name": "stdout",
     "output_type": "stream",
     "text": [
      "{'bucketing': 12, 'encoding': 'index', 'drop_act': 2, 'models': 'Decision Tree', 'Decision Tree': {'max_depth': 11, 'min_samples_leaf': 77, 'criterion': 'gini'}}\n",
      "bucket :  (2, 6)\n",
      "After OverSampling, the shape of train_X: (59022, 25)\n",
      "After OverSampling, the shape of train_y: (59022,) \n",
      "\n",
      "After OverSampling, counts of label '1': 29511\n",
      "After OverSampling, counts of label '0': 29511\n",
      "bucket :  (6, 10)\n",
      "bucket :  (10, 14)\n",
      "bucket :  (14, 17)\n",
      "bucket :  (17, 20)\n",
      "bucket :  (20, 23)\n",
      "bucket :  (23, 26)\n",
      "bucket :  (26, 29)\n",
      "bucket :  (29, 32)\n",
      "bucket :  (32, 35)\n",
      "bucket :  (35, 38)\n",
      "bucket :  (38, 41)\n"
     ]
    },
    {
     "name": "stderr",
     "output_type": "stream",
     "text": [
      " 65%|██████▌   | 13/20 [29:17<15:43, 134.76s/it]"
     ]
    },
    {
     "name": "stdout",
     "output_type": "stream",
     "text": [
      "{'bucketing': 12, 'encoding': 'index', 'drop_act': 2, 'models': 'Decision Tree', 'Decision Tree': {'max_depth': 11, 'min_samples_leaf': 77, 'criterion': 'gini'}}\n",
      "bucket :  (2, 6)\n",
      "After OverSampling, the shape of train_X: (59022, 25)\n",
      "After OverSampling, the shape of train_y: (59022,) \n",
      "\n",
      "After OverSampling, counts of label '1': 29511\n",
      "After OverSampling, counts of label '0': 29511\n",
      "bucket :  (6, 10)\n",
      "bucket :  (10, 14)\n",
      "bucket :  (14, 17)\n",
      "bucket :  (17, 20)\n",
      "bucket :  (20, 23)\n",
      "bucket :  (23, 26)\n",
      "bucket :  (26, 29)\n",
      "bucket :  (29, 32)\n",
      "bucket :  (32, 35)\n",
      "bucket :  (35, 38)\n",
      "bucket :  (38, 41)\n"
     ]
    },
    {
     "name": "stderr",
     "output_type": "stream",
     "text": [
      " 70%|███████   | 14/20 [31:32<13:27, 134.65s/it]"
     ]
    },
    {
     "name": "stdout",
     "output_type": "stream",
     "text": [
      "{'bucketing': 12, 'encoding': 'index', 'drop_act': 2, 'models': 'Decision Tree', 'LightGBM': {'max_depth': 9, 'num_leaves': 326, 'min_child_samples': 3}}\n",
      "bucket :  (2, 6)\n",
      "After OverSampling, the shape of train_X: (59022, 25)\n",
      "After OverSampling, the shape of train_y: (59022,) \n",
      "\n",
      "After OverSampling, counts of label '1': 29511\n",
      "After OverSampling, counts of label '0': 29511\n",
      "bucket :  (6, 10)\n",
      "bucket :  (10, 14)\n",
      "bucket :  (14, 17)\n",
      "bucket :  (17, 20)\n",
      "bucket :  (20, 23)\n",
      "bucket :  (23, 26)\n",
      "bucket :  (26, 29)\n",
      "bucket :  (29, 32)\n",
      "bucket :  (32, 35)\n",
      "bucket :  (35, 38)\n",
      "bucket :  (38, 41)\n"
     ]
    },
    {
     "name": "stderr",
     "output_type": "stream",
     "text": [
      " 75%|███████▌  | 15/20 [33:46<11:11, 134.38s/it]"
     ]
    },
    {
     "name": "stdout",
     "output_type": "stream",
     "text": [
      "{'bucketing': 12, 'encoding': 'index', 'drop_act': 2, 'models': 'Xgboost', 'Xgboost': {'max_depth': 10, 'n_estimators': 204, 'learning_rate': 0.01}}\n",
      "bucket :  (2, 6)\n",
      "After OverSampling, the shape of train_X: (59022, 25)\n",
      "After OverSampling, the shape of train_y: (59022,) \n",
      "\n",
      "After OverSampling, counts of label '1': 29511\n",
      "After OverSampling, counts of label '0': 29511\n",
      "bucket :  (6, 10)\n",
      "bucket :  (10, 14)\n",
      "bucket :  (14, 17)\n",
      "bucket :  (17, 20)\n",
      "bucket :  (20, 23)\n",
      "bucket :  (23, 26)\n",
      "bucket :  (26, 29)\n",
      "bucket :  (29, 32)\n",
      "bucket :  (32, 35)\n",
      "bucket :  (35, 38)\n",
      "bucket :  (38, 41)\n"
     ]
    },
    {
     "name": "stderr",
     "output_type": "stream",
     "text": [
      " 80%|████████  | 16/20 [36:18<09:19, 139.89s/it]"
     ]
    },
    {
     "name": "stdout",
     "output_type": "stream",
     "text": [
      "{'bucketing': 12, 'encoding': 'index', 'drop_act': 2, 'models': 'Decision Tree', 'Decision Tree': {'max_depth': 11, 'min_samples_leaf': 77, 'criterion': 'gini'}}\n",
      "bucket :  (2, 6)\n",
      "After OverSampling, the shape of train_X: (59022, 25)\n",
      "After OverSampling, the shape of train_y: (59022,) \n",
      "\n",
      "After OverSampling, counts of label '1': 29511\n",
      "After OverSampling, counts of label '0': 29511\n",
      "bucket :  (6, 10)\n",
      "bucket :  (10, 14)\n",
      "bucket :  (14, 17)\n",
      "bucket :  (17, 20)\n",
      "bucket :  (20, 23)\n",
      "bucket :  (23, 26)\n",
      "bucket :  (26, 29)\n",
      "bucket :  (29, 32)\n",
      "bucket :  (32, 35)\n",
      "bucket :  (35, 38)\n",
      "bucket :  (38, 41)\n"
     ]
    },
    {
     "name": "stderr",
     "output_type": "stream",
     "text": [
      " 85%|████████▌ | 17/20 [38:32<06:54, 138.16s/it]"
     ]
    },
    {
     "name": "stdout",
     "output_type": "stream",
     "text": [
      "{'bucketing': 12, 'encoding': 'index', 'drop_act': 2, 'models': 'Decision Tree', 'LightGBM': {'max_depth': 9, 'num_leaves': 326, 'min_child_samples': 3}}\n",
      "bucket :  (2, 6)\n",
      "After OverSampling, the shape of train_X: (59022, 25)\n",
      "After OverSampling, the shape of train_y: (59022,) \n",
      "\n",
      "After OverSampling, counts of label '1': 29511\n",
      "After OverSampling, counts of label '0': 29511\n",
      "bucket :  (6, 10)\n",
      "bucket :  (10, 14)\n",
      "bucket :  (14, 17)\n",
      "bucket :  (17, 20)\n",
      "bucket :  (20, 23)\n",
      "bucket :  (23, 26)\n",
      "bucket :  (26, 29)\n",
      "bucket :  (29, 32)\n",
      "bucket :  (32, 35)\n",
      "bucket :  (35, 38)\n",
      "bucket :  (38, 41)\n"
     ]
    },
    {
     "name": "stderr",
     "output_type": "stream",
     "text": [
      " 90%|█████████ | 18/20 [40:47<04:34, 137.14s/it]"
     ]
    },
    {
     "name": "stdout",
     "output_type": "stream",
     "text": [
      "{'bucketing': 12, 'encoding': 'index', 'drop_act': 2, 'models': 'Decision Tree', 'LightGBM': {'max_depth': 9, 'num_leaves': 326, 'min_child_samples': 3}}\n",
      "bucket :  (2, 6)\n",
      "After OverSampling, the shape of train_X: (59022, 25)\n",
      "After OverSampling, the shape of train_y: (59022,) \n",
      "\n",
      "After OverSampling, counts of label '1': 29511\n",
      "After OverSampling, counts of label '0': 29511\n",
      "bucket :  (6, 10)\n",
      "bucket :  (10, 14)\n",
      "bucket :  (14, 17)\n",
      "bucket :  (17, 20)\n",
      "bucket :  (20, 23)\n",
      "bucket :  (23, 26)\n",
      "bucket :  (26, 29)\n",
      "bucket :  (29, 32)\n",
      "bucket :  (32, 35)\n",
      "bucket :  (35, 38)\n",
      "bucket :  (38, 41)\n"
     ]
    },
    {
     "name": "stderr",
     "output_type": "stream",
     "text": [
      " 95%|█████████▌| 19/20 [43:02<02:16, 136.37s/it]"
     ]
    },
    {
     "name": "stdout",
     "output_type": "stream",
     "text": [
      "{'bucketing': 12, 'encoding': 'index', 'drop_act': 2, 'models': 'Decision Tree', 'Decision Tree': {'max_depth': 11, 'min_samples_leaf': 77, 'criterion': 'gini'}}\n",
      "bucket :  (2, 6)\n",
      "After OverSampling, the shape of train_X: (59022, 25)\n",
      "After OverSampling, the shape of train_y: (59022,) \n",
      "\n",
      "After OverSampling, counts of label '1': 29511\n",
      "After OverSampling, counts of label '0': 29511\n",
      "bucket :  (6, 10)\n",
      "bucket :  (10, 14)\n",
      "bucket :  (14, 17)\n",
      "bucket :  (17, 20)\n",
      "bucket :  (20, 23)\n",
      "bucket :  (23, 26)\n",
      "bucket :  (26, 29)\n",
      "bucket :  (29, 32)\n",
      "bucket :  (32, 35)\n",
      "bucket :  (35, 38)\n",
      "bucket :  (38, 41)\n"
     ]
    },
    {
     "name": "stderr",
     "output_type": "stream",
     "text": [
      "100%|██████████| 20/20 [45:16<00:00, 135.84s/it]\n",
      "  0%|          | 0/20 [00:00<?, ?it/s]"
     ]
    },
    {
     "name": "stdout",
     "output_type": "stream",
     "text": [
      "{'bucketing': 12, 'encoding': 'index', 'drop_act': 2, 'models': 'Decision Tree', 'Decision Tree': {'max_depth': 15, 'min_samples_leaf': 29, 'criterion': 'entropy'}}\n",
      "bucket :  (2, 6)\n",
      "After OverSampling, the shape of train_X: (59022, 25)\n",
      "After OverSampling, the shape of train_y: (59022,) \n",
      "\n",
      "After OverSampling, counts of label '1': 29511\n",
      "After OverSampling, counts of label '0': 29511\n",
      "bucket :  (6, 10)\n",
      "bucket :  (10, 14)\n",
      "bucket :  (14, 17)\n",
      "bucket :  (17, 20)\n",
      "bucket :  (20, 23)\n",
      "bucket :  (23, 26)\n",
      "bucket :  (26, 29)\n",
      "bucket :  (29, 32)\n",
      "bucket :  (32, 35)\n",
      "bucket :  (35, 38)\n",
      "bucket :  (38, 41)\n"
     ]
    },
    {
     "name": "stderr",
     "output_type": "stream",
     "text": [
      "  5%|▌         | 1/20 [02:14<42:33, 134.41s/it]"
     ]
    },
    {
     "name": "stdout",
     "output_type": "stream",
     "text": [
      "{'bucketing': 12, 'encoding': 'index', 'drop_act': 2, 'models': 'Decision Tree', 'LightGBM': {'max_depth': 9, 'num_leaves': 326, 'min_child_samples': 3}}\n",
      "bucket :  (2, 6)\n",
      "After OverSampling, the shape of train_X: (59022, 25)\n",
      "After OverSampling, the shape of train_y: (59022,) \n",
      "\n",
      "After OverSampling, counts of label '1': 29511\n",
      "After OverSampling, counts of label '0': 29511\n",
      "bucket :  (6, 10)\n",
      "bucket :  (10, 14)\n",
      "bucket :  (14, 17)\n",
      "bucket :  (17, 20)\n",
      "bucket :  (20, 23)\n",
      "bucket :  (23, 26)\n",
      "bucket :  (26, 29)\n",
      "bucket :  (29, 32)\n",
      "bucket :  (32, 35)\n",
      "bucket :  (35, 38)\n",
      "bucket :  (38, 41)\n"
     ]
    },
    {
     "name": "stderr",
     "output_type": "stream",
     "text": [
      " 10%|█         | 2/20 [04:28<40:20, 134.49s/it]"
     ]
    },
    {
     "name": "stdout",
     "output_type": "stream",
     "text": [
      "{'bucketing': 12, 'encoding': 'index', 'drop_act': 2, 'models': 'Decision Tree', 'LightGBM': {'max_depth': 9, 'num_leaves': 326, 'min_child_samples': 3}}\n",
      "bucket :  (2, 6)\n",
      "After OverSampling, the shape of train_X: (59022, 25)\n",
      "After OverSampling, the shape of train_y: (59022,) \n",
      "\n",
      "After OverSampling, counts of label '1': 29511\n",
      "After OverSampling, counts of label '0': 29511\n",
      "bucket :  (6, 10)\n",
      "bucket :  (10, 14)\n",
      "bucket :  (14, 17)\n",
      "bucket :  (17, 20)\n",
      "bucket :  (20, 23)\n",
      "bucket :  (23, 26)\n",
      "bucket :  (26, 29)\n",
      "bucket :  (29, 32)\n",
      "bucket :  (32, 35)\n",
      "bucket :  (35, 38)\n",
      "bucket :  (38, 41)\n"
     ]
    },
    {
     "name": "stderr",
     "output_type": "stream",
     "text": [
      " 15%|█▌        | 3/20 [06:43<38:08, 134.64s/it]"
     ]
    },
    {
     "name": "stdout",
     "output_type": "stream",
     "text": [
      "{'bucketing': 12, 'encoding': 'index', 'drop_act': 2, 'models': 'Decision Tree', 'LightGBM': {'max_depth': 9, 'num_leaves': 326, 'min_child_samples': 3}}\n",
      "bucket :  (2, 6)\n",
      "After OverSampling, the shape of train_X: (59022, 25)\n",
      "After OverSampling, the shape of train_y: (59022,) \n",
      "\n",
      "After OverSampling, counts of label '1': 29511\n",
      "After OverSampling, counts of label '0': 29511\n",
      "bucket :  (6, 10)\n",
      "bucket :  (10, 14)\n",
      "bucket :  (14, 17)\n",
      "bucket :  (17, 20)\n",
      "bucket :  (20, 23)\n",
      "bucket :  (23, 26)\n",
      "bucket :  (26, 29)\n",
      "bucket :  (29, 32)\n",
      "bucket :  (32, 35)\n",
      "bucket :  (35, 38)\n",
      "bucket :  (38, 41)\n"
     ]
    },
    {
     "name": "stderr",
     "output_type": "stream",
     "text": [
      " 20%|██        | 4/20 [08:58<35:52, 134.53s/it]"
     ]
    },
    {
     "name": "stdout",
     "output_type": "stream",
     "text": [
      "{'bucketing': 12, 'encoding': 'index', 'drop_act': 2, 'models': 'Decision Tree', 'LightGBM': {'max_depth': 9, 'num_leaves': 326, 'min_child_samples': 3}}\n",
      "bucket :  (2, 6)\n",
      "After OverSampling, the shape of train_X: (59022, 25)\n",
      "After OverSampling, the shape of train_y: (59022,) \n",
      "\n",
      "After OverSampling, counts of label '1': 29511\n",
      "After OverSampling, counts of label '0': 29511\n",
      "bucket :  (6, 10)\n",
      "bucket :  (10, 14)\n",
      "bucket :  (14, 17)\n",
      "bucket :  (17, 20)\n",
      "bucket :  (20, 23)\n",
      "bucket :  (23, 26)\n",
      "bucket :  (26, 29)\n",
      "bucket :  (29, 32)\n",
      "bucket :  (32, 35)\n",
      "bucket :  (35, 38)\n",
      "bucket :  (38, 41)\n"
     ]
    },
    {
     "name": "stderr",
     "output_type": "stream",
     "text": [
      " 25%|██▌       | 5/20 [11:12<33:38, 134.56s/it]"
     ]
    },
    {
     "name": "stdout",
     "output_type": "stream",
     "text": [
      "{'bucketing': 12, 'encoding': 'index', 'drop_act': 2, 'models': 'Decision Tree', 'Decision Tree': {'max_depth': 15, 'min_samples_leaf': 29, 'criterion': 'entropy'}}\n",
      "bucket :  (2, 6)\n",
      "After OverSampling, the shape of train_X: (59022, 25)\n",
      "After OverSampling, the shape of train_y: (59022,) \n",
      "\n",
      "After OverSampling, counts of label '1': 29511\n",
      "After OverSampling, counts of label '0': 29511\n",
      "bucket :  (6, 10)\n",
      "bucket :  (10, 14)\n",
      "bucket :  (14, 17)\n",
      "bucket :  (17, 20)\n",
      "bucket :  (20, 23)\n",
      "bucket :  (23, 26)\n",
      "bucket :  (26, 29)\n",
      "bucket :  (29, 32)\n",
      "bucket :  (32, 35)\n",
      "bucket :  (35, 38)\n",
      "bucket :  (38, 41)\n"
     ]
    },
    {
     "name": "stderr",
     "output_type": "stream",
     "text": [
      " 30%|███       | 6/20 [13:26<31:21, 134.40s/it]"
     ]
    },
    {
     "name": "stdout",
     "output_type": "stream",
     "text": [
      "{'bucketing': 12, 'encoding': 'index', 'drop_act': 2, 'models': 'Decision Tree', 'LightGBM': {'max_depth': 9, 'num_leaves': 326, 'min_child_samples': 3}}\n",
      "bucket :  (2, 6)\n",
      "After OverSampling, the shape of train_X: (59022, 25)\n",
      "After OverSampling, the shape of train_y: (59022,) \n",
      "\n",
      "After OverSampling, counts of label '1': 29511\n",
      "After OverSampling, counts of label '0': 29511\n",
      "bucket :  (6, 10)\n",
      "bucket :  (10, 14)\n",
      "bucket :  (14, 17)\n",
      "bucket :  (17, 20)\n",
      "bucket :  (20, 23)\n",
      "bucket :  (23, 26)\n",
      "bucket :  (26, 29)\n",
      "bucket :  (29, 32)\n",
      "bucket :  (32, 35)\n",
      "bucket :  (35, 38)\n",
      "bucket :  (38, 41)\n"
     ]
    },
    {
     "name": "stderr",
     "output_type": "stream",
     "text": [
      " 35%|███▌      | 7/20 [15:41<29:07, 134.45s/it]"
     ]
    },
    {
     "name": "stdout",
     "output_type": "stream",
     "text": [
      "{'bucketing': 12, 'encoding': 'index', 'drop_act': 2, 'models': 'Decision Tree', 'LightGBM': {'max_depth': 9, 'num_leaves': 326, 'min_child_samples': 3}}\n",
      "bucket :  (2, 6)\n",
      "After OverSampling, the shape of train_X: (59022, 25)\n",
      "After OverSampling, the shape of train_y: (59022,) \n",
      "\n",
      "After OverSampling, counts of label '1': 29511\n",
      "After OverSampling, counts of label '0': 29511\n",
      "bucket :  (6, 10)\n",
      "bucket :  (10, 14)\n",
      "bucket :  (14, 17)\n",
      "bucket :  (17, 20)\n",
      "bucket :  (20, 23)\n",
      "bucket :  (23, 26)\n",
      "bucket :  (26, 29)\n",
      "bucket :  (29, 32)\n",
      "bucket :  (32, 35)\n",
      "bucket :  (35, 38)\n",
      "bucket :  (38, 41)\n"
     ]
    },
    {
     "name": "stderr",
     "output_type": "stream",
     "text": [
      " 40%|████      | 8/20 [17:55<26:52, 134.38s/it]"
     ]
    },
    {
     "name": "stdout",
     "output_type": "stream",
     "text": [
      "{'bucketing': 12, 'encoding': 'index', 'drop_act': 2, 'models': 'Decision Tree', 'LightGBM': {'max_depth': 9, 'num_leaves': 326, 'min_child_samples': 3}}\n",
      "bucket :  (2, 6)\n",
      "After OverSampling, the shape of train_X: (59022, 25)\n",
      "After OverSampling, the shape of train_y: (59022,) \n",
      "\n",
      "After OverSampling, counts of label '1': 29511\n",
      "After OverSampling, counts of label '0': 29511\n",
      "bucket :  (6, 10)\n",
      "bucket :  (10, 14)\n",
      "bucket :  (14, 17)\n",
      "bucket :  (17, 20)\n",
      "bucket :  (20, 23)\n",
      "bucket :  (23, 26)\n",
      "bucket :  (26, 29)\n",
      "bucket :  (29, 32)\n",
      "bucket :  (32, 35)\n",
      "bucket :  (35, 38)\n",
      "bucket :  (38, 41)\n"
     ]
    },
    {
     "name": "stderr",
     "output_type": "stream",
     "text": [
      " 45%|████▌     | 9/20 [20:10<24:38, 134.41s/it]"
     ]
    },
    {
     "name": "stdout",
     "output_type": "stream",
     "text": [
      "{'bucketing': 12, 'encoding': 'index', 'drop_act': 2, 'models': 'Decision Tree', 'LightGBM': {'max_depth': 9, 'num_leaves': 326, 'min_child_samples': 3}}\n",
      "bucket :  (2, 6)\n",
      "After OverSampling, the shape of train_X: (59022, 25)\n",
      "After OverSampling, the shape of train_y: (59022,) \n",
      "\n",
      "After OverSampling, counts of label '1': 29511\n",
      "After OverSampling, counts of label '0': 29511\n",
      "bucket :  (6, 10)\n",
      "bucket :  (10, 14)\n",
      "bucket :  (14, 17)\n",
      "bucket :  (17, 20)\n",
      "bucket :  (20, 23)\n",
      "bucket :  (23, 26)\n",
      "bucket :  (26, 29)\n",
      "bucket :  (29, 32)\n",
      "bucket :  (32, 35)\n",
      "bucket :  (35, 38)\n",
      "bucket :  (38, 41)\n"
     ]
    },
    {
     "name": "stderr",
     "output_type": "stream",
     "text": [
      " 50%|█████     | 10/20 [22:24<22:24, 134.43s/it]"
     ]
    },
    {
     "name": "stdout",
     "output_type": "stream",
     "text": [
      "{'bucketing': 12, 'encoding': 'index', 'drop_act': 2, 'models': 'Decision Tree', 'Decision Tree': {'max_depth': 11, 'min_samples_leaf': 77, 'criterion': 'gini'}}\n",
      "bucket :  (2, 6)\n",
      "After OverSampling, the shape of train_X: (59022, 25)\n",
      "After OverSampling, the shape of train_y: (59022,) \n",
      "\n",
      "After OverSampling, counts of label '1': 29511\n",
      "After OverSampling, counts of label '0': 29511\n",
      "bucket :  (6, 10)\n",
      "bucket :  (10, 14)\n",
      "bucket :  (14, 17)\n",
      "bucket :  (17, 20)\n",
      "bucket :  (20, 23)\n",
      "bucket :  (23, 26)\n",
      "bucket :  (26, 29)\n",
      "bucket :  (29, 32)\n",
      "bucket :  (32, 35)\n",
      "bucket :  (35, 38)\n",
      "bucket :  (38, 41)\n"
     ]
    },
    {
     "name": "stderr",
     "output_type": "stream",
     "text": [
      " 55%|█████▌    | 11/20 [24:39<20:10, 134.49s/it]"
     ]
    },
    {
     "name": "stdout",
     "output_type": "stream",
     "text": [
      "{'bucketing': 12, 'encoding': 'index', 'drop_act': 2, 'models': 'Decision Tree', 'LightGBM': {'max_depth': 9, 'num_leaves': 326, 'min_child_samples': 3}}\n",
      "bucket :  (2, 6)\n",
      "After OverSampling, the shape of train_X: (59022, 25)\n",
      "After OverSampling, the shape of train_y: (59022,) \n",
      "\n",
      "After OverSampling, counts of label '1': 29511\n",
      "After OverSampling, counts of label '0': 29511\n",
      "bucket :  (6, 10)\n",
      "bucket :  (10, 14)\n",
      "bucket :  (14, 17)\n",
      "bucket :  (17, 20)\n",
      "bucket :  (20, 23)\n",
      "bucket :  (23, 26)\n",
      "bucket :  (26, 29)\n",
      "bucket :  (29, 32)\n",
      "bucket :  (32, 35)\n",
      "bucket :  (35, 38)\n",
      "bucket :  (38, 41)\n"
     ]
    },
    {
     "name": "stderr",
     "output_type": "stream",
     "text": [
      " 60%|██████    | 12/20 [26:53<17:56, 134.51s/it]"
     ]
    },
    {
     "name": "stdout",
     "output_type": "stream",
     "text": [
      "{'bucketing': 12, 'encoding': 'index', 'drop_act': 2, 'models': 'Decision Tree', 'Decision Tree': {'max_depth': 11, 'min_samples_leaf': 77, 'criterion': 'gini'}}\n",
      "bucket :  (2, 6)\n",
      "After OverSampling, the shape of train_X: (59022, 25)\n",
      "After OverSampling, the shape of train_y: (59022,) \n",
      "\n",
      "After OverSampling, counts of label '1': 29511\n",
      "After OverSampling, counts of label '0': 29511\n",
      "bucket :  (6, 10)\n",
      "bucket :  (10, 14)\n",
      "bucket :  (14, 17)\n",
      "bucket :  (17, 20)\n",
      "bucket :  (20, 23)\n",
      "bucket :  (23, 26)\n",
      "bucket :  (26, 29)\n",
      "bucket :  (29, 32)\n",
      "bucket :  (32, 35)\n",
      "bucket :  (35, 38)\n",
      "bucket :  (38, 41)\n"
     ]
    },
    {
     "name": "stderr",
     "output_type": "stream",
     "text": [
      " 65%|██████▌   | 13/20 [29:08<15:41, 134.55s/it]"
     ]
    },
    {
     "name": "stdout",
     "output_type": "stream",
     "text": [
      "{'bucketing': 12, 'encoding': 'index', 'drop_act': 2, 'models': 'Decision Tree', 'Decision Tree': {'max_depth': 15, 'min_samples_leaf': 29, 'criterion': 'entropy'}}\n",
      "bucket :  (2, 6)\n",
      "After OverSampling, the shape of train_X: (59022, 25)\n",
      "After OverSampling, the shape of train_y: (59022,) \n",
      "\n",
      "After OverSampling, counts of label '1': 29511\n",
      "After OverSampling, counts of label '0': 29511\n",
      "bucket :  (6, 10)\n",
      "bucket :  (10, 14)\n",
      "bucket :  (14, 17)\n",
      "bucket :  (17, 20)\n",
      "bucket :  (20, 23)\n",
      "bucket :  (23, 26)\n",
      "bucket :  (26, 29)\n",
      "bucket :  (29, 32)\n",
      "bucket :  (32, 35)\n",
      "bucket :  (35, 38)\n",
      "bucket :  (38, 41)\n"
     ]
    },
    {
     "name": "stderr",
     "output_type": "stream",
     "text": [
      " 70%|███████   | 14/20 [31:22<13:26, 134.42s/it]"
     ]
    },
    {
     "name": "stdout",
     "output_type": "stream",
     "text": [
      "{'bucketing': 12, 'encoding': 'index', 'drop_act': 2, 'models': 'Decision Tree', 'LightGBM': {'max_depth': 9, 'num_leaves': 326, 'min_child_samples': 3}}\n",
      "bucket :  (2, 6)\n",
      "After OverSampling, the shape of train_X: (59022, 25)\n",
      "After OverSampling, the shape of train_y: (59022,) \n",
      "\n",
      "After OverSampling, counts of label '1': 29511\n",
      "After OverSampling, counts of label '0': 29511\n",
      "bucket :  (6, 10)\n",
      "bucket :  (10, 14)\n",
      "bucket :  (14, 17)\n",
      "bucket :  (17, 20)\n",
      "bucket :  (20, 23)\n",
      "bucket :  (23, 26)\n",
      "bucket :  (26, 29)\n",
      "bucket :  (29, 32)\n",
      "bucket :  (32, 35)\n",
      "bucket :  (35, 38)\n",
      "bucket :  (38, 41)\n"
     ]
    },
    {
     "name": "stderr",
     "output_type": "stream",
     "text": [
      " 75%|███████▌  | 15/20 [33:36<11:11, 134.36s/it]"
     ]
    },
    {
     "name": "stdout",
     "output_type": "stream",
     "text": [
      "{'bucketing': 12, 'encoding': 'index', 'drop_act': 2, 'models': 'Decision Tree', 'LightGBM': {'max_depth': 9, 'num_leaves': 326, 'min_child_samples': 3}}\n",
      "bucket :  (2, 6)\n",
      "After OverSampling, the shape of train_X: (59022, 25)\n",
      "After OverSampling, the shape of train_y: (59022,) \n",
      "\n",
      "After OverSampling, counts of label '1': 29511\n",
      "After OverSampling, counts of label '0': 29511\n",
      "bucket :  (6, 10)\n",
      "bucket :  (10, 14)\n",
      "bucket :  (14, 17)\n",
      "bucket :  (17, 20)\n",
      "bucket :  (20, 23)\n",
      "bucket :  (23, 26)\n",
      "bucket :  (26, 29)\n",
      "bucket :  (29, 32)\n",
      "bucket :  (32, 35)\n",
      "bucket :  (35, 38)\n",
      "bucket :  (38, 41)\n"
     ]
    },
    {
     "name": "stderr",
     "output_type": "stream",
     "text": [
      " 80%|████████  | 16/20 [35:51<08:57, 134.45s/it]"
     ]
    },
    {
     "name": "stdout",
     "output_type": "stream",
     "text": [
      "{'bucketing': 12, 'encoding': 'index', 'drop_act': 2, 'models': 'Decision Tree', 'LightGBM': {'max_depth': 9, 'num_leaves': 326, 'min_child_samples': 3}}\n",
      "bucket :  (2, 6)\n",
      "After OverSampling, the shape of train_X: (59022, 25)\n",
      "After OverSampling, the shape of train_y: (59022,) \n",
      "\n",
      "After OverSampling, counts of label '1': 29511\n",
      "After OverSampling, counts of label '0': 29511\n",
      "bucket :  (6, 10)\n",
      "bucket :  (10, 14)\n",
      "bucket :  (14, 17)\n",
      "bucket :  (17, 20)\n",
      "bucket :  (20, 23)\n",
      "bucket :  (23, 26)\n",
      "bucket :  (26, 29)\n",
      "bucket :  (29, 32)\n",
      "bucket :  (32, 35)\n",
      "bucket :  (35, 38)\n",
      "bucket :  (38, 41)\n"
     ]
    },
    {
     "name": "stderr",
     "output_type": "stream",
     "text": [
      " 85%|████████▌ | 17/20 [38:05<06:43, 134.42s/it]"
     ]
    },
    {
     "name": "stdout",
     "output_type": "stream",
     "text": [
      "{'bucketing': 12, 'encoding': 'index', 'drop_act': 2, 'models': 'Decision Tree', 'LightGBM': {'max_depth': 9, 'num_leaves': 326, 'min_child_samples': 3}}\n",
      "bucket :  (2, 6)\n",
      "After OverSampling, the shape of train_X: (59022, 25)\n",
      "After OverSampling, the shape of train_y: (59022,) \n",
      "\n",
      "After OverSampling, counts of label '1': 29511\n",
      "After OverSampling, counts of label '0': 29511\n",
      "bucket :  (6, 10)\n",
      "bucket :  (10, 14)\n",
      "bucket :  (14, 17)\n",
      "bucket :  (17, 20)\n",
      "bucket :  (20, 23)\n",
      "bucket :  (23, 26)\n",
      "bucket :  (26, 29)\n",
      "bucket :  (29, 32)\n",
      "bucket :  (32, 35)\n",
      "bucket :  (35, 38)\n",
      "bucket :  (38, 41)\n"
     ]
    },
    {
     "name": "stderr",
     "output_type": "stream",
     "text": [
      " 90%|█████████ | 18/20 [40:20<04:28, 134.48s/it]"
     ]
    },
    {
     "name": "stdout",
     "output_type": "stream",
     "text": [
      "{'bucketing': 12, 'encoding': 'index', 'drop_act': 2, 'models': 'Decision Tree', 'LightGBM': {'max_depth': 9, 'num_leaves': 326, 'min_child_samples': 3}}\n",
      "bucket :  (2, 6)\n",
      "After OverSampling, the shape of train_X: (59022, 25)\n",
      "After OverSampling, the shape of train_y: (59022,) \n",
      "\n",
      "After OverSampling, counts of label '1': 29511\n",
      "After OverSampling, counts of label '0': 29511\n",
      "bucket :  (6, 10)\n",
      "bucket :  (10, 14)\n",
      "bucket :  (14, 17)\n",
      "bucket :  (17, 20)\n",
      "bucket :  (20, 23)\n",
      "bucket :  (23, 26)\n",
      "bucket :  (26, 29)\n",
      "bucket :  (29, 32)\n",
      "bucket :  (32, 35)\n",
      "bucket :  (35, 38)\n",
      "bucket :  (38, 41)\n"
     ]
    },
    {
     "name": "stderr",
     "output_type": "stream",
     "text": [
      " 95%|█████████▌| 19/20 [42:34<02:14, 134.45s/it]"
     ]
    },
    {
     "name": "stdout",
     "output_type": "stream",
     "text": [
      "{'bucketing': 12, 'encoding': 'index', 'drop_act': 2, 'models': 'Decision Tree', 'LightGBM': {'max_depth': 9, 'num_leaves': 326, 'min_child_samples': 3}}\n",
      "bucket :  (2, 6)\n",
      "After OverSampling, the shape of train_X: (59022, 25)\n",
      "After OverSampling, the shape of train_y: (59022,) \n",
      "\n",
      "After OverSampling, counts of label '1': 29511\n",
      "After OverSampling, counts of label '0': 29511\n",
      "bucket :  (6, 10)\n",
      "bucket :  (10, 14)\n",
      "bucket :  (14, 17)\n",
      "bucket :  (17, 20)\n",
      "bucket :  (20, 23)\n",
      "bucket :  (23, 26)\n",
      "bucket :  (26, 29)\n",
      "bucket :  (29, 32)\n",
      "bucket :  (32, 35)\n",
      "bucket :  (35, 38)\n",
      "bucket :  (38, 41)\n"
     ]
    },
    {
     "name": "stderr",
     "output_type": "stream",
     "text": [
      "100%|██████████| 20/20 [44:48<00:00, 134.45s/it]\n",
      "  0%|          | 0/20 [00:00<?, ?it/s]"
     ]
    },
    {
     "name": "stdout",
     "output_type": "stream",
     "text": [
      "{'bucketing': 12, 'encoding': 'index', 'drop_act': 2, 'models': 'Decision Tree', 'Decision Tree': {'max_depth': 15, 'min_samples_leaf': 29, 'criterion': 'entropy'}}\n",
      "bucket :  (2, 6)\n",
      "After OverSampling, the shape of train_X: (59022, 25)\n",
      "After OverSampling, the shape of train_y: (59022,) \n",
      "\n",
      "After OverSampling, counts of label '1': 29511\n",
      "After OverSampling, counts of label '0': 29511\n",
      "bucket :  (6, 10)\n",
      "bucket :  (10, 14)\n",
      "bucket :  (14, 17)\n",
      "bucket :  (17, 20)\n",
      "bucket :  (20, 23)\n",
      "bucket :  (23, 26)\n",
      "bucket :  (26, 29)\n",
      "bucket :  (29, 32)\n",
      "bucket :  (32, 35)\n",
      "bucket :  (35, 38)\n",
      "bucket :  (38, 41)\n"
     ]
    },
    {
     "name": "stderr",
     "output_type": "stream",
     "text": [
      "  5%|▌         | 1/20 [02:14<42:34, 134.46s/it]"
     ]
    },
    {
     "name": "stdout",
     "output_type": "stream",
     "text": [
      "{'bucketing': 12, 'encoding': 'index', 'drop_act': 2, 'models': 'Decision Tree', 'LightGBM': {'max_depth': 9, 'num_leaves': 326, 'min_child_samples': 3}}\n",
      "bucket :  (2, 6)\n",
      "After OverSampling, the shape of train_X: (59022, 25)\n",
      "After OverSampling, the shape of train_y: (59022,) \n",
      "\n",
      "After OverSampling, counts of label '1': 29511\n",
      "After OverSampling, counts of label '0': 29511\n",
      "bucket :  (6, 10)\n",
      "bucket :  (10, 14)\n",
      "bucket :  (14, 17)\n",
      "bucket :  (17, 20)\n",
      "bucket :  (20, 23)\n",
      "bucket :  (23, 26)\n",
      "bucket :  (26, 29)\n",
      "bucket :  (29, 32)\n",
      "bucket :  (32, 35)\n",
      "bucket :  (35, 38)\n",
      "bucket :  (38, 41)\n"
     ]
    },
    {
     "name": "stderr",
     "output_type": "stream",
     "text": [
      " 10%|█         | 2/20 [04:28<40:18, 134.37s/it]"
     ]
    },
    {
     "name": "stdout",
     "output_type": "stream",
     "text": [
      "{'bucketing': 12, 'encoding': 'index', 'drop_act': 2, 'models': 'Decision Tree', 'LightGBM': {'max_depth': 9, 'num_leaves': 326, 'min_child_samples': 3}}\n",
      "bucket :  (2, 6)\n",
      "After OverSampling, the shape of train_X: (59022, 25)\n",
      "After OverSampling, the shape of train_y: (59022,) \n",
      "\n",
      "After OverSampling, counts of label '1': 29511\n",
      "After OverSampling, counts of label '0': 29511\n",
      "bucket :  (6, 10)\n",
      "bucket :  (10, 14)\n",
      "bucket :  (14, 17)\n",
      "bucket :  (17, 20)\n",
      "bucket :  (20, 23)\n",
      "bucket :  (23, 26)\n",
      "bucket :  (26, 29)\n",
      "bucket :  (29, 32)\n",
      "bucket :  (32, 35)\n",
      "bucket :  (35, 38)\n",
      "bucket :  (38, 41)\n"
     ]
    },
    {
     "name": "stderr",
     "output_type": "stream",
     "text": [
      " 15%|█▌        | 3/20 [06:42<38:02, 134.28s/it]"
     ]
    },
    {
     "name": "stdout",
     "output_type": "stream",
     "text": [
      "{'bucketing': 12, 'encoding': 'index', 'drop_act': 2, 'models': 'Decision Tree', 'LightGBM': {'max_depth': 9, 'num_leaves': 326, 'min_child_samples': 3}}\n",
      "bucket :  (2, 6)\n",
      "After OverSampling, the shape of train_X: (59022, 25)\n",
      "After OverSampling, the shape of train_y: (59022,) \n",
      "\n",
      "After OverSampling, counts of label '1': 29511\n",
      "After OverSampling, counts of label '0': 29511\n",
      "bucket :  (6, 10)\n",
      "bucket :  (10, 14)\n",
      "bucket :  (14, 17)\n",
      "bucket :  (17, 20)\n",
      "bucket :  (20, 23)\n",
      "bucket :  (23, 26)\n",
      "bucket :  (26, 29)\n",
      "bucket :  (29, 32)\n",
      "bucket :  (32, 35)\n",
      "bucket :  (35, 38)\n",
      "bucket :  (38, 41)\n"
     ]
    },
    {
     "name": "stderr",
     "output_type": "stream",
     "text": [
      " 20%|██        | 4/20 [08:57<35:51, 134.44s/it]"
     ]
    },
    {
     "name": "stdout",
     "output_type": "stream",
     "text": [
      "{'bucketing': 12, 'encoding': 'index', 'drop_act': 2, 'models': 'Decision Tree', 'LightGBM': {'max_depth': 9, 'num_leaves': 326, 'min_child_samples': 3}}\n",
      "bucket :  (2, 6)\n",
      "After OverSampling, the shape of train_X: (59022, 25)\n",
      "After OverSampling, the shape of train_y: (59022,) \n",
      "\n",
      "After OverSampling, counts of label '1': 29511\n",
      "After OverSampling, counts of label '0': 29511\n",
      "bucket :  (6, 10)\n",
      "bucket :  (10, 14)\n",
      "bucket :  (14, 17)\n",
      "bucket :  (17, 20)\n",
      "bucket :  (20, 23)\n",
      "bucket :  (23, 26)\n",
      "bucket :  (26, 29)\n",
      "bucket :  (29, 32)\n",
      "bucket :  (32, 35)\n",
      "bucket :  (35, 38)\n",
      "bucket :  (38, 41)\n"
     ]
    },
    {
     "name": "stderr",
     "output_type": "stream",
     "text": [
      " 25%|██▌       | 5/20 [11:11<33:34, 134.28s/it]"
     ]
    },
    {
     "name": "stdout",
     "output_type": "stream",
     "text": [
      "{'bucketing': 12, 'encoding': 'index', 'drop_act': 2, 'models': 'Decision Tree', 'LightGBM': {'max_depth': 9, 'num_leaves': 326, 'min_child_samples': 3}}\n",
      "bucket :  (2, 6)\n",
      "After OverSampling, the shape of train_X: (59022, 25)\n",
      "After OverSampling, the shape of train_y: (59022,) \n",
      "\n",
      "After OverSampling, counts of label '1': 29511\n",
      "After OverSampling, counts of label '0': 29511\n",
      "bucket :  (6, 10)\n",
      "bucket :  (10, 14)\n",
      "bucket :  (14, 17)\n",
      "bucket :  (17, 20)\n",
      "bucket :  (20, 23)\n",
      "bucket :  (23, 26)\n",
      "bucket :  (26, 29)\n",
      "bucket :  (29, 32)\n",
      "bucket :  (32, 35)\n",
      "bucket :  (35, 38)\n",
      "bucket :  (38, 41)\n"
     ]
    },
    {
     "name": "stderr",
     "output_type": "stream",
     "text": [
      " 30%|███       | 6/20 [13:26<31:21, 134.38s/it]"
     ]
    },
    {
     "name": "stdout",
     "output_type": "stream",
     "text": [
      "{'bucketing': 12, 'encoding': 'index', 'drop_act': 2, 'models': 'Decision Tree', 'Decision Tree': {'max_depth': 15, 'min_samples_leaf': 29, 'criterion': 'entropy'}}\n",
      "bucket :  (2, 6)\n",
      "After OverSampling, the shape of train_X: (59022, 25)\n",
      "After OverSampling, the shape of train_y: (59022,) \n",
      "\n",
      "After OverSampling, counts of label '1': 29511\n",
      "After OverSampling, counts of label '0': 29511\n",
      "bucket :  (6, 10)\n",
      "bucket :  (10, 14)\n",
      "bucket :  (14, 17)\n",
      "bucket :  (17, 20)\n",
      "bucket :  (20, 23)\n",
      "bucket :  (23, 26)\n",
      "bucket :  (26, 29)\n",
      "bucket :  (29, 32)\n",
      "bucket :  (32, 35)\n",
      "bucket :  (35, 38)\n",
      "bucket :  (38, 41)\n"
     ]
    },
    {
     "name": "stderr",
     "output_type": "stream",
     "text": [
      " 35%|███▌      | 7/20 [15:40<29:04, 134.22s/it]"
     ]
    },
    {
     "name": "stdout",
     "output_type": "stream",
     "text": [
      "{'bucketing': 12, 'encoding': 'index', 'drop_act': 2, 'models': 'Decision Tree', 'LightGBM': {'max_depth': 9, 'num_leaves': 326, 'min_child_samples': 3}}\n",
      "bucket :  (2, 6)\n",
      "After OverSampling, the shape of train_X: (59022, 25)\n",
      "After OverSampling, the shape of train_y: (59022,) \n",
      "\n",
      "After OverSampling, counts of label '1': 29511\n",
      "After OverSampling, counts of label '0': 29511\n",
      "bucket :  (6, 10)\n",
      "bucket :  (10, 14)\n",
      "bucket :  (14, 17)\n",
      "bucket :  (17, 20)\n",
      "bucket :  (20, 23)\n",
      "bucket :  (23, 26)\n",
      "bucket :  (26, 29)\n",
      "bucket :  (29, 32)\n",
      "bucket :  (32, 35)\n",
      "bucket :  (35, 38)\n",
      "bucket :  (38, 41)\n"
     ]
    },
    {
     "name": "stderr",
     "output_type": "stream",
     "text": [
      " 40%|████      | 8/20 [17:54<26:52, 134.33s/it]"
     ]
    },
    {
     "name": "stdout",
     "output_type": "stream",
     "text": [
      "{'bucketing': 12, 'encoding': 'index', 'drop_act': 2, 'models': 'Decision Tree', 'LightGBM': {'max_depth': 9, 'num_leaves': 326, 'min_child_samples': 3}}\n",
      "bucket :  (2, 6)\n",
      "After OverSampling, the shape of train_X: (59022, 25)\n",
      "After OverSampling, the shape of train_y: (59022,) \n",
      "\n",
      "After OverSampling, counts of label '1': 29511\n",
      "After OverSampling, counts of label '0': 29511\n",
      "bucket :  (6, 10)\n",
      "bucket :  (10, 14)\n",
      "bucket :  (14, 17)\n",
      "bucket :  (17, 20)\n",
      "bucket :  (20, 23)\n",
      "bucket :  (23, 26)\n",
      "bucket :  (26, 29)\n",
      "bucket :  (29, 32)\n",
      "bucket :  (32, 35)\n",
      "bucket :  (35, 38)\n",
      "bucket :  (38, 41)\n"
     ]
    },
    {
     "name": "stderr",
     "output_type": "stream",
     "text": [
      " 45%|████▌     | 9/20 [20:09<24:38, 134.39s/it]"
     ]
    },
    {
     "name": "stdout",
     "output_type": "stream",
     "text": [
      "{'bucketing': 12, 'encoding': 'index', 'drop_act': 2, 'models': 'Decision Tree', 'Decision Tree': {'max_depth': 11, 'min_samples_leaf': 77, 'criterion': 'gini'}}\n",
      "bucket :  (2, 6)\n",
      "After OverSampling, the shape of train_X: (59022, 25)\n",
      "After OverSampling, the shape of train_y: (59022,) \n",
      "\n",
      "After OverSampling, counts of label '1': 29511\n",
      "After OverSampling, counts of label '0': 29511\n",
      "bucket :  (6, 10)\n",
      "bucket :  (10, 14)\n",
      "bucket :  (14, 17)\n",
      "bucket :  (17, 20)\n",
      "bucket :  (20, 23)\n",
      "bucket :  (23, 26)\n",
      "bucket :  (26, 29)\n",
      "bucket :  (29, 32)\n",
      "bucket :  (32, 35)\n",
      "bucket :  (35, 38)\n",
      "bucket :  (38, 41)\n"
     ]
    },
    {
     "name": "stderr",
     "output_type": "stream",
     "text": [
      " 50%|█████     | 10/20 [22:24<22:25, 134.58s/it]"
     ]
    },
    {
     "name": "stdout",
     "output_type": "stream",
     "text": [
      "{'bucketing': 12, 'encoding': 'index', 'drop_act': 2, 'models': 'Decision Tree', 'LightGBM': {'max_depth': 9, 'num_leaves': 326, 'min_child_samples': 3}}\n",
      "bucket :  (2, 6)\n",
      "After OverSampling, the shape of train_X: (59022, 25)\n",
      "After OverSampling, the shape of train_y: (59022,) \n",
      "\n",
      "After OverSampling, counts of label '1': 29511\n",
      "After OverSampling, counts of label '0': 29511\n",
      "bucket :  (6, 10)\n",
      "bucket :  (10, 14)\n",
      "bucket :  (14, 17)\n",
      "bucket :  (17, 20)\n",
      "bucket :  (20, 23)\n",
      "bucket :  (23, 26)\n",
      "bucket :  (26, 29)\n",
      "bucket :  (29, 32)\n",
      "bucket :  (32, 35)\n",
      "bucket :  (35, 38)\n",
      "bucket :  (38, 41)\n"
     ]
    },
    {
     "name": "stderr",
     "output_type": "stream",
     "text": [
      " 55%|█████▌    | 11/20 [24:38<20:09, 134.41s/it]"
     ]
    },
    {
     "name": "stdout",
     "output_type": "stream",
     "text": [
      "{'bucketing': 12, 'encoding': 'index', 'drop_act': 2, 'models': 'Decision Tree', 'LightGBM': {'max_depth': 9, 'num_leaves': 326, 'min_child_samples': 3}}\n",
      "bucket :  (2, 6)\n",
      "After OverSampling, the shape of train_X: (59022, 25)\n",
      "After OverSampling, the shape of train_y: (59022,) \n",
      "\n",
      "After OverSampling, counts of label '1': 29511\n",
      "After OverSampling, counts of label '0': 29511\n",
      "bucket :  (6, 10)\n",
      "bucket :  (10, 14)\n",
      "bucket :  (14, 17)\n",
      "bucket :  (17, 20)\n",
      "bucket :  (20, 23)\n",
      "bucket :  (23, 26)\n",
      "bucket :  (26, 29)\n",
      "bucket :  (29, 32)\n",
      "bucket :  (32, 35)\n",
      "bucket :  (35, 38)\n",
      "bucket :  (38, 41)\n"
     ]
    },
    {
     "name": "stderr",
     "output_type": "stream",
     "text": [
      " 60%|██████    | 12/20 [26:52<17:54, 134.35s/it]"
     ]
    },
    {
     "name": "stdout",
     "output_type": "stream",
     "text": [
      "{'bucketing': 12, 'encoding': 'index', 'drop_act': 2, 'models': 'Decision Tree', 'LightGBM': {'max_depth': 9, 'num_leaves': 326, 'min_child_samples': 3}}\n",
      "bucket :  (2, 6)\n",
      "After OverSampling, the shape of train_X: (59022, 25)\n",
      "After OverSampling, the shape of train_y: (59022,) \n",
      "\n",
      "After OverSampling, counts of label '1': 29511\n",
      "After OverSampling, counts of label '0': 29511\n",
      "bucket :  (6, 10)\n",
      "bucket :  (10, 14)\n",
      "bucket :  (14, 17)\n",
      "bucket :  (17, 20)\n",
      "bucket :  (20, 23)\n",
      "bucket :  (23, 26)\n",
      "bucket :  (26, 29)\n",
      "bucket :  (29, 32)\n",
      "bucket :  (32, 35)\n",
      "bucket :  (35, 38)\n",
      "bucket :  (38, 41)\n"
     ]
    },
    {
     "name": "stderr",
     "output_type": "stream",
     "text": [
      " 65%|██████▌   | 13/20 [29:07<15:41, 134.43s/it]"
     ]
    },
    {
     "name": "stdout",
     "output_type": "stream",
     "text": [
      "{'bucketing': 12, 'encoding': 'index', 'drop_act': 2, 'models': 'Decision Tree', 'LightGBM': {'max_depth': 9, 'num_leaves': 326, 'min_child_samples': 3}}\n",
      "bucket :  (2, 6)\n",
      "After OverSampling, the shape of train_X: (59022, 25)\n",
      "After OverSampling, the shape of train_y: (59022,) \n",
      "\n",
      "After OverSampling, counts of label '1': 29511\n",
      "After OverSampling, counts of label '0': 29511\n",
      "bucket :  (6, 10)\n",
      "bucket :  (10, 14)\n",
      "bucket :  (14, 17)\n",
      "bucket :  (17, 20)\n",
      "bucket :  (20, 23)\n",
      "bucket :  (23, 26)\n",
      "bucket :  (26, 29)\n",
      "bucket :  (29, 32)\n",
      "bucket :  (32, 35)\n",
      "bucket :  (35, 38)\n",
      "bucket :  (38, 41)\n"
     ]
    },
    {
     "name": "stderr",
     "output_type": "stream",
     "text": [
      " 70%|███████   | 14/20 [31:21<13:25, 134.32s/it]"
     ]
    },
    {
     "name": "stdout",
     "output_type": "stream",
     "text": [
      "{'bucketing': 12, 'encoding': 'index', 'drop_act': 2, 'models': 'Decision Tree', 'LightGBM': {'max_depth': 9, 'num_leaves': 326, 'min_child_samples': 3}}\n",
      "bucket :  (2, 6)\n",
      "After OverSampling, the shape of train_X: (59022, 25)\n",
      "After OverSampling, the shape of train_y: (59022,) \n",
      "\n",
      "After OverSampling, counts of label '1': 29511\n",
      "After OverSampling, counts of label '0': 29511\n",
      "bucket :  (6, 10)\n",
      "bucket :  (10, 14)\n",
      "bucket :  (14, 17)\n",
      "bucket :  (17, 20)\n",
      "bucket :  (20, 23)\n",
      "bucket :  (23, 26)\n",
      "bucket :  (26, 29)\n",
      "bucket :  (29, 32)\n",
      "bucket :  (32, 35)\n",
      "bucket :  (35, 38)\n",
      "bucket :  (38, 41)\n"
     ]
    },
    {
     "name": "stderr",
     "output_type": "stream",
     "text": [
      " 75%|███████▌  | 15/20 [33:35<11:11, 134.40s/it]"
     ]
    },
    {
     "name": "stdout",
     "output_type": "stream",
     "text": [
      "{'bucketing': 12, 'encoding': 'index', 'drop_act': 2, 'models': 'Decision Tree', 'Decision Tree': {'max_depth': 15, 'min_samples_leaf': 29, 'criterion': 'entropy'}}\n",
      "bucket :  (2, 6)\n",
      "After OverSampling, the shape of train_X: (59022, 25)\n",
      "After OverSampling, the shape of train_y: (59022,) \n",
      "\n",
      "After OverSampling, counts of label '1': 29511\n",
      "After OverSampling, counts of label '0': 29511\n",
      "bucket :  (6, 10)\n",
      "bucket :  (10, 14)\n",
      "bucket :  (14, 17)\n",
      "bucket :  (17, 20)\n",
      "bucket :  (20, 23)\n",
      "bucket :  (23, 26)\n",
      "bucket :  (26, 29)\n",
      "bucket :  (29, 32)\n",
      "bucket :  (32, 35)\n",
      "bucket :  (35, 38)\n",
      "bucket :  (38, 41)\n"
     ]
    },
    {
     "name": "stderr",
     "output_type": "stream",
     "text": [
      " 80%|████████  | 16/20 [35:50<08:57, 134.50s/it]"
     ]
    },
    {
     "name": "stdout",
     "output_type": "stream",
     "text": [
      "{'bucketing': 12, 'encoding': 'index', 'drop_act': 2, 'models': 'Decision Tree', 'Decision Tree': {'max_depth': 15, 'min_samples_leaf': 29, 'criterion': 'entropy'}}\n",
      "bucket :  (2, 6)\n",
      "After OverSampling, the shape of train_X: (59022, 25)\n",
      "After OverSampling, the shape of train_y: (59022,) \n",
      "\n",
      "After OverSampling, counts of label '1': 29511\n",
      "After OverSampling, counts of label '0': 29511\n",
      "bucket :  (6, 10)\n",
      "bucket :  (10, 14)\n",
      "bucket :  (14, 17)\n",
      "bucket :  (17, 20)\n",
      "bucket :  (20, 23)\n",
      "bucket :  (23, 26)\n",
      "bucket :  (26, 29)\n",
      "bucket :  (29, 32)\n",
      "bucket :  (32, 35)\n",
      "bucket :  (35, 38)\n",
      "bucket :  (38, 41)\n"
     ]
    },
    {
     "name": "stderr",
     "output_type": "stream",
     "text": [
      " 85%|████████▌ | 17/20 [38:05<06:43, 134.62s/it]"
     ]
    },
    {
     "name": "stdout",
     "output_type": "stream",
     "text": [
      "{'bucketing': 12, 'encoding': 'index', 'drop_act': 2, 'models': 'Decision Tree', 'Decision Tree': {'max_depth': 15, 'min_samples_leaf': 29, 'criterion': 'entropy'}}\n",
      "bucket :  (2, 6)\n",
      "After OverSampling, the shape of train_X: (59022, 25)\n",
      "After OverSampling, the shape of train_y: (59022,) \n",
      "\n",
      "After OverSampling, counts of label '1': 29511\n",
      "After OverSampling, counts of label '0': 29511\n",
      "bucket :  (6, 10)\n",
      "bucket :  (10, 14)\n",
      "bucket :  (14, 17)\n",
      "bucket :  (17, 20)\n",
      "bucket :  (20, 23)\n",
      "bucket :  (23, 26)\n",
      "bucket :  (26, 29)\n",
      "bucket :  (29, 32)\n",
      "bucket :  (32, 35)\n",
      "bucket :  (35, 38)\n",
      "bucket :  (38, 41)\n"
     ]
    },
    {
     "name": "stderr",
     "output_type": "stream",
     "text": [
      " 90%|█████████ | 18/20 [40:19<04:28, 134.37s/it]"
     ]
    },
    {
     "name": "stdout",
     "output_type": "stream",
     "text": [
      "{'bucketing': 12, 'encoding': 'index', 'drop_act': 2, 'models': 'Decision Tree', 'Decision Tree': {'max_depth': 15, 'min_samples_leaf': 29, 'criterion': 'entropy'}}\n",
      "bucket :  (2, 6)\n",
      "After OverSampling, the shape of train_X: (59022, 25)\n",
      "After OverSampling, the shape of train_y: (59022,) \n",
      "\n",
      "After OverSampling, counts of label '1': 29511\n",
      "After OverSampling, counts of label '0': 29511\n",
      "bucket :  (6, 10)\n",
      "bucket :  (10, 14)\n",
      "bucket :  (14, 17)\n",
      "bucket :  (17, 20)\n",
      "bucket :  (20, 23)\n",
      "bucket :  (23, 26)\n",
      "bucket :  (26, 29)\n",
      "bucket :  (29, 32)\n",
      "bucket :  (32, 35)\n",
      "bucket :  (35, 38)\n",
      "bucket :  (38, 41)\n"
     ]
    },
    {
     "name": "stderr",
     "output_type": "stream",
     "text": [
      " 95%|█████████▌| 19/20 [42:33<02:14, 134.27s/it]"
     ]
    },
    {
     "name": "stdout",
     "output_type": "stream",
     "text": [
      "{'bucketing': 12, 'encoding': 'index', 'drop_act': 2, 'models': 'Decision Tree', 'LightGBM': {'max_depth': 9, 'num_leaves': 326, 'min_child_samples': 3}}\n",
      "bucket :  (2, 6)\n",
      "After OverSampling, the shape of train_X: (59022, 25)\n",
      "After OverSampling, the shape of train_y: (59022,) \n",
      "\n",
      "After OverSampling, counts of label '1': 29511\n",
      "After OverSampling, counts of label '0': 29511\n",
      "bucket :  (6, 10)\n",
      "bucket :  (10, 14)\n",
      "bucket :  (14, 17)\n",
      "bucket :  (17, 20)\n",
      "bucket :  (20, 23)\n",
      "bucket :  (23, 26)\n",
      "bucket :  (26, 29)\n",
      "bucket :  (29, 32)\n",
      "bucket :  (32, 35)\n",
      "bucket :  (35, 38)\n",
      "bucket :  (38, 41)\n"
     ]
    },
    {
     "name": "stderr",
     "output_type": "stream",
     "text": [
      "100%|██████████| 20/20 [44:47<00:00, 134.36s/it]\n",
      "  0%|          | 0/20 [00:00<?, ?it/s]"
     ]
    },
    {
     "name": "stdout",
     "output_type": "stream",
     "text": [
      "{'bucketing': 12, 'encoding': 'index', 'drop_act': 2, 'models': 'Decision Tree', 'LightGBM': {'max_depth': 9, 'num_leaves': 326, 'min_child_samples': 3}}\n",
      "bucket :  (2, 6)\n",
      "After OverSampling, the shape of train_X: (59022, 25)\n",
      "After OverSampling, the shape of train_y: (59022,) \n",
      "\n",
      "After OverSampling, counts of label '1': 29511\n",
      "After OverSampling, counts of label '0': 29511\n",
      "bucket :  (6, 10)\n",
      "bucket :  (10, 14)\n",
      "bucket :  (14, 17)\n",
      "bucket :  (17, 20)\n",
      "bucket :  (20, 23)\n",
      "bucket :  (23, 26)\n",
      "bucket :  (26, 29)\n",
      "bucket :  (29, 32)\n",
      "bucket :  (32, 35)\n",
      "bucket :  (35, 38)\n",
      "bucket :  (38, 41)\n"
     ]
    },
    {
     "name": "stderr",
     "output_type": "stream",
     "text": [
      "  5%|▌         | 1/20 [02:14<42:33, 134.37s/it]"
     ]
    },
    {
     "name": "stdout",
     "output_type": "stream",
     "text": [
      "{'bucketing': 12, 'encoding': 'index', 'drop_act': 2, 'models': 'Decision Tree', 'LightGBM': {'max_depth': 9, 'num_leaves': 326, 'min_child_samples': 3}}\n",
      "bucket :  (2, 6)\n",
      "After OverSampling, the shape of train_X: (59022, 25)\n",
      "After OverSampling, the shape of train_y: (59022,) \n",
      "\n",
      "After OverSampling, counts of label '1': 29511\n",
      "After OverSampling, counts of label '0': 29511\n",
      "bucket :  (6, 10)\n",
      "bucket :  (10, 14)\n",
      "bucket :  (14, 17)\n",
      "bucket :  (17, 20)\n",
      "bucket :  (20, 23)\n",
      "bucket :  (23, 26)\n",
      "bucket :  (26, 29)\n",
      "bucket :  (29, 32)\n",
      "bucket :  (32, 35)\n",
      "bucket :  (35, 38)\n",
      "bucket :  (38, 41)\n"
     ]
    },
    {
     "name": "stderr",
     "output_type": "stream",
     "text": [
      " 10%|█         | 2/20 [04:28<40:14, 134.12s/it]"
     ]
    },
    {
     "name": "stdout",
     "output_type": "stream",
     "text": [
      "{'bucketing': 12, 'encoding': 'index', 'drop_act': 2, 'models': 'Decision Tree', 'Decision Tree': {'max_depth': 15, 'min_samples_leaf': 29, 'criterion': 'entropy'}}\n",
      "bucket :  (2, 6)\n",
      "After OverSampling, the shape of train_X: (59022, 25)\n",
      "After OverSampling, the shape of train_y: (59022,) \n",
      "\n",
      "After OverSampling, counts of label '1': 29511\n",
      "After OverSampling, counts of label '0': 29511\n",
      "bucket :  (6, 10)\n",
      "bucket :  (10, 14)\n",
      "bucket :  (14, 17)\n",
      "bucket :  (17, 20)\n",
      "bucket :  (20, 23)\n",
      "bucket :  (23, 26)\n",
      "bucket :  (26, 29)\n",
      "bucket :  (29, 32)\n",
      "bucket :  (32, 35)\n",
      "bucket :  (35, 38)\n",
      "bucket :  (38, 41)\n"
     ]
    },
    {
     "name": "stderr",
     "output_type": "stream",
     "text": [
      " 15%|█▌        | 3/20 [06:42<38:00, 134.15s/it]"
     ]
    },
    {
     "name": "stdout",
     "output_type": "stream",
     "text": [
      "{'bucketing': 12, 'encoding': 'index', 'drop_act': 2, 'models': 'Decision Tree', 'LightGBM': {'max_depth': 9, 'num_leaves': 326, 'min_child_samples': 3}}\n",
      "bucket :  (2, 6)\n",
      "After OverSampling, the shape of train_X: (59022, 25)\n",
      "After OverSampling, the shape of train_y: (59022,) \n",
      "\n",
      "After OverSampling, counts of label '1': 29511\n",
      "After OverSampling, counts of label '0': 29511\n",
      "bucket :  (6, 10)\n",
      "bucket :  (10, 14)\n",
      "bucket :  (14, 17)\n",
      "bucket :  (17, 20)\n",
      "bucket :  (20, 23)\n",
      "bucket :  (23, 26)\n",
      "bucket :  (26, 29)\n",
      "bucket :  (29, 32)\n",
      "bucket :  (32, 35)\n",
      "bucket :  (35, 38)\n",
      "bucket :  (38, 41)\n"
     ]
    },
    {
     "name": "stderr",
     "output_type": "stream",
     "text": [
      " 20%|██        | 4/20 [08:56<35:45, 134.12s/it]"
     ]
    },
    {
     "name": "stdout",
     "output_type": "stream",
     "text": [
      "{'bucketing': 12, 'encoding': 'index', 'drop_act': 2, 'models': 'Decision Tree', 'LightGBM': {'max_depth': 9, 'num_leaves': 326, 'min_child_samples': 3}}\n",
      "bucket :  (2, 6)\n",
      "After OverSampling, the shape of train_X: (59022, 25)\n",
      "After OverSampling, the shape of train_y: (59022,) \n",
      "\n",
      "After OverSampling, counts of label '1': 29511\n",
      "After OverSampling, counts of label '0': 29511\n",
      "bucket :  (6, 10)\n",
      "bucket :  (10, 14)\n",
      "bucket :  (14, 17)\n",
      "bucket :  (17, 20)\n",
      "bucket :  (20, 23)\n",
      "bucket :  (23, 26)\n",
      "bucket :  (26, 29)\n",
      "bucket :  (29, 32)\n",
      "bucket :  (32, 35)\n",
      "bucket :  (35, 38)\n",
      "bucket :  (38, 41)\n"
     ]
    },
    {
     "name": "stderr",
     "output_type": "stream",
     "text": [
      " 25%|██▌       | 5/20 [11:10<33:31, 134.12s/it]"
     ]
    },
    {
     "name": "stdout",
     "output_type": "stream",
     "text": [
      "{'bucketing': 12, 'encoding': 'index', 'drop_act': 2, 'models': 'Decision Tree', 'LightGBM': {'max_depth': 9, 'num_leaves': 326, 'min_child_samples': 3}}\n",
      "bucket :  (2, 6)\n",
      "After OverSampling, the shape of train_X: (59022, 25)\n",
      "After OverSampling, the shape of train_y: (59022,) \n",
      "\n",
      "After OverSampling, counts of label '1': 29511\n",
      "After OverSampling, counts of label '0': 29511\n",
      "bucket :  (6, 10)\n",
      "bucket :  (10, 14)\n",
      "bucket :  (14, 17)\n",
      "bucket :  (17, 20)\n",
      "bucket :  (20, 23)\n",
      "bucket :  (23, 26)\n",
      "bucket :  (26, 29)\n",
      "bucket :  (29, 32)\n",
      "bucket :  (32, 35)\n",
      "bucket :  (35, 38)\n",
      "bucket :  (38, 41)\n"
     ]
    },
    {
     "name": "stderr",
     "output_type": "stream",
     "text": [
      " 30%|███       | 6/20 [13:24<31:16, 134.04s/it]"
     ]
    },
    {
     "name": "stdout",
     "output_type": "stream",
     "text": [
      "{'bucketing': 12, 'encoding': 'index', 'drop_act': 2, 'models': 'Decision Tree', 'LightGBM': {'max_depth': 9, 'num_leaves': 326, 'min_child_samples': 3}}\n",
      "bucket :  (2, 6)\n",
      "After OverSampling, the shape of train_X: (59022, 25)\n",
      "After OverSampling, the shape of train_y: (59022,) \n",
      "\n",
      "After OverSampling, counts of label '1': 29511\n",
      "After OverSampling, counts of label '0': 29511\n",
      "bucket :  (6, 10)\n",
      "bucket :  (10, 14)\n",
      "bucket :  (14, 17)\n",
      "bucket :  (17, 20)\n",
      "bucket :  (20, 23)\n",
      "bucket :  (23, 26)\n",
      "bucket :  (26, 29)\n",
      "bucket :  (29, 32)\n",
      "bucket :  (32, 35)\n",
      "bucket :  (35, 38)\n",
      "bucket :  (38, 41)\n"
     ]
    },
    {
     "name": "stderr",
     "output_type": "stream",
     "text": [
      " 35%|███▌      | 7/20 [15:39<29:04, 134.18s/it]"
     ]
    },
    {
     "name": "stdout",
     "output_type": "stream",
     "text": [
      "{'bucketing': 12, 'encoding': 'index', 'drop_act': 2, 'models': 'Decision Tree', 'LightGBM': {'max_depth': 9, 'num_leaves': 326, 'min_child_samples': 3}}\n",
      "bucket :  (2, 6)\n",
      "After OverSampling, the shape of train_X: (59022, 25)\n",
      "After OverSampling, the shape of train_y: (59022,) \n",
      "\n",
      "After OverSampling, counts of label '1': 29511\n",
      "After OverSampling, counts of label '0': 29511\n",
      "bucket :  (6, 10)\n",
      "bucket :  (10, 14)\n",
      "bucket :  (14, 17)\n",
      "bucket :  (17, 20)\n",
      "bucket :  (20, 23)\n",
      "bucket :  (23, 26)\n",
      "bucket :  (26, 29)\n",
      "bucket :  (29, 32)\n",
      "bucket :  (32, 35)\n",
      "bucket :  (35, 38)\n",
      "bucket :  (38, 41)\n"
     ]
    },
    {
     "name": "stderr",
     "output_type": "stream",
     "text": [
      " 40%|████      | 8/20 [17:53<26:49, 134.15s/it]"
     ]
    },
    {
     "name": "stdout",
     "output_type": "stream",
     "text": [
      "{'bucketing': 12, 'encoding': 'index', 'drop_act': 2, 'models': 'Decision Tree', 'Decision Tree': {'max_depth': 15, 'min_samples_leaf': 29, 'criterion': 'entropy'}}\n",
      "bucket :  (2, 6)\n",
      "After OverSampling, the shape of train_X: (59022, 25)\n",
      "After OverSampling, the shape of train_y: (59022,) \n",
      "\n",
      "After OverSampling, counts of label '1': 29511\n",
      "After OverSampling, counts of label '0': 29511\n",
      "bucket :  (6, 10)\n",
      "bucket :  (10, 14)\n",
      "bucket :  (14, 17)\n",
      "bucket :  (17, 20)\n",
      "bucket :  (20, 23)\n",
      "bucket :  (23, 26)\n",
      "bucket :  (26, 29)\n",
      "bucket :  (29, 32)\n",
      "bucket :  (32, 35)\n",
      "bucket :  (35, 38)\n",
      "bucket :  (38, 41)\n"
     ]
    },
    {
     "name": "stderr",
     "output_type": "stream",
     "text": [
      " 45%|████▌     | 9/20 [20:07<24:34, 134.09s/it]"
     ]
    },
    {
     "name": "stdout",
     "output_type": "stream",
     "text": [
      "{'bucketing': 12, 'encoding': 'index', 'drop_act': 2, 'models': 'Decision Tree', 'Decision Tree': {'max_depth': 15, 'min_samples_leaf': 29, 'criterion': 'entropy'}}\n",
      "bucket :  (2, 6)\n",
      "After OverSampling, the shape of train_X: (59022, 25)\n",
      "After OverSampling, the shape of train_y: (59022,) \n",
      "\n",
      "After OverSampling, counts of label '1': 29511\n",
      "After OverSampling, counts of label '0': 29511\n",
      "bucket :  (6, 10)\n",
      "bucket :  (10, 14)\n",
      "bucket :  (14, 17)\n",
      "bucket :  (17, 20)\n",
      "bucket :  (20, 23)\n",
      "bucket :  (23, 26)\n",
      "bucket :  (26, 29)\n",
      "bucket :  (29, 32)\n",
      "bucket :  (32, 35)\n",
      "bucket :  (35, 38)\n",
      "bucket :  (38, 41)\n"
     ]
    },
    {
     "name": "stderr",
     "output_type": "stream",
     "text": [
      " 50%|█████     | 10/20 [22:21<22:22, 134.22s/it]"
     ]
    },
    {
     "name": "stdout",
     "output_type": "stream",
     "text": [
      "{'bucketing': 12, 'encoding': 'index', 'drop_act': 2, 'models': 'Decision Tree', 'LightGBM': {'max_depth': 9, 'num_leaves': 326, 'min_child_samples': 3}}\n",
      "bucket :  (2, 6)\n",
      "After OverSampling, the shape of train_X: (59022, 25)\n",
      "After OverSampling, the shape of train_y: (59022,) \n",
      "\n",
      "After OverSampling, counts of label '1': 29511\n",
      "After OverSampling, counts of label '0': 29511\n",
      "bucket :  (6, 10)\n",
      "bucket :  (10, 14)\n",
      "bucket :  (14, 17)\n",
      "bucket :  (17, 20)\n",
      "bucket :  (20, 23)\n",
      "bucket :  (23, 26)\n",
      "bucket :  (26, 29)\n",
      "bucket :  (29, 32)\n",
      "bucket :  (32, 35)\n",
      "bucket :  (35, 38)\n",
      "bucket :  (38, 41)\n"
     ]
    },
    {
     "name": "stderr",
     "output_type": "stream",
     "text": [
      " 55%|█████▌    | 11/20 [24:35<20:07, 134.15s/it]"
     ]
    },
    {
     "name": "stdout",
     "output_type": "stream",
     "text": [
      "{'bucketing': 12, 'encoding': 'index', 'drop_act': 2, 'models': 'Decision Tree', 'LightGBM': {'max_depth': 9, 'num_leaves': 326, 'min_child_samples': 3}}\n",
      "bucket :  (2, 6)\n",
      "After OverSampling, the shape of train_X: (59022, 25)\n",
      "After OverSampling, the shape of train_y: (59022,) \n",
      "\n",
      "After OverSampling, counts of label '1': 29511\n",
      "After OverSampling, counts of label '0': 29511\n",
      "bucket :  (6, 10)\n",
      "bucket :  (10, 14)\n",
      "bucket :  (14, 17)\n",
      "bucket :  (17, 20)\n",
      "bucket :  (20, 23)\n",
      "bucket :  (23, 26)\n",
      "bucket :  (26, 29)\n",
      "bucket :  (29, 32)\n",
      "bucket :  (32, 35)\n",
      "bucket :  (35, 38)\n",
      "bucket :  (38, 41)\n"
     ]
    },
    {
     "name": "stderr",
     "output_type": "stream",
     "text": [
      " 60%|██████    | 12/20 [26:50<17:54, 134.29s/it]"
     ]
    },
    {
     "name": "stdout",
     "output_type": "stream",
     "text": [
      "{'bucketing': 12, 'encoding': 'index', 'drop_act': 2, 'models': 'Decision Tree', 'Decision Tree': {'max_depth': 15, 'min_samples_leaf': 29, 'criterion': 'entropy'}}\n",
      "bucket :  (2, 6)\n",
      "After OverSampling, the shape of train_X: (59022, 25)\n",
      "After OverSampling, the shape of train_y: (59022,) \n",
      "\n",
      "After OverSampling, counts of label '1': 29511\n",
      "After OverSampling, counts of label '0': 29511\n",
      "bucket :  (6, 10)\n",
      "bucket :  (10, 14)\n",
      "bucket :  (14, 17)\n",
      "bucket :  (17, 20)\n",
      "bucket :  (20, 23)\n",
      "bucket :  (23, 26)\n",
      "bucket :  (26, 29)\n",
      "bucket :  (29, 32)\n",
      "bucket :  (32, 35)\n",
      "bucket :  (35, 38)\n",
      "bucket :  (38, 41)\n"
     ]
    },
    {
     "name": "stderr",
     "output_type": "stream",
     "text": [
      " 65%|██████▌   | 13/20 [29:04<15:40, 134.35s/it]"
     ]
    },
    {
     "name": "stdout",
     "output_type": "stream",
     "text": [
      "{'bucketing': 12, 'encoding': 'index', 'drop_act': 2, 'models': 'Decision Tree', 'LightGBM': {'max_depth': 9, 'num_leaves': 326, 'min_child_samples': 3}}\n",
      "bucket :  (2, 6)\n",
      "After OverSampling, the shape of train_X: (59022, 25)\n",
      "After OverSampling, the shape of train_y: (59022,) \n",
      "\n",
      "After OverSampling, counts of label '1': 29511\n",
      "After OverSampling, counts of label '0': 29511\n",
      "bucket :  (6, 10)\n",
      "bucket :  (10, 14)\n",
      "bucket :  (14, 17)\n",
      "bucket :  (17, 20)\n",
      "bucket :  (20, 23)\n",
      "bucket :  (23, 26)\n",
      "bucket :  (26, 29)\n",
      "bucket :  (29, 32)\n",
      "bucket :  (32, 35)\n",
      "bucket :  (35, 38)\n",
      "bucket :  (38, 41)\n"
     ]
    },
    {
     "name": "stderr",
     "output_type": "stream",
     "text": [
      " 70%|███████   | 14/20 [31:19<13:26, 134.47s/it]"
     ]
    },
    {
     "name": "stdout",
     "output_type": "stream",
     "text": [
      "{'bucketing': 12, 'encoding': 'index', 'drop_act': 2, 'models': 'Decision Tree', 'Decision Tree': {'max_depth': 15, 'min_samples_leaf': 29, 'criterion': 'entropy'}}\n",
      "bucket :  (2, 6)\n",
      "After OverSampling, the shape of train_X: (59022, 25)\n",
      "After OverSampling, the shape of train_y: (59022,) \n",
      "\n",
      "After OverSampling, counts of label '1': 29511\n",
      "After OverSampling, counts of label '0': 29511\n",
      "bucket :  (6, 10)\n",
      "bucket :  (10, 14)\n",
      "bucket :  (14, 17)\n",
      "bucket :  (17, 20)\n",
      "bucket :  (20, 23)\n",
      "bucket :  (23, 26)\n",
      "bucket :  (26, 29)\n",
      "bucket :  (29, 32)\n",
      "bucket :  (32, 35)\n",
      "bucket :  (35, 38)\n",
      "bucket :  (38, 41)\n"
     ]
    },
    {
     "name": "stderr",
     "output_type": "stream",
     "text": [
      " 75%|███████▌  | 15/20 [33:33<11:12, 134.44s/it]"
     ]
    },
    {
     "name": "stdout",
     "output_type": "stream",
     "text": [
      "{'bucketing': 12, 'encoding': 'index', 'drop_act': 2, 'models': 'Decision Tree', 'LightGBM': {'max_depth': 9, 'num_leaves': 326, 'min_child_samples': 3}}\n",
      "bucket :  (2, 6)\n",
      "After OverSampling, the shape of train_X: (59022, 25)\n",
      "After OverSampling, the shape of train_y: (59022,) \n",
      "\n",
      "After OverSampling, counts of label '1': 29511\n",
      "After OverSampling, counts of label '0': 29511\n",
      "bucket :  (6, 10)\n",
      "bucket :  (10, 14)\n",
      "bucket :  (14, 17)\n",
      "bucket :  (17, 20)\n",
      "bucket :  (20, 23)\n",
      "bucket :  (23, 26)\n",
      "bucket :  (26, 29)\n",
      "bucket :  (29, 32)\n",
      "bucket :  (32, 35)\n",
      "bucket :  (35, 38)\n",
      "bucket :  (38, 41)\n"
     ]
    },
    {
     "name": "stderr",
     "output_type": "stream",
     "text": [
      " 80%|████████  | 16/20 [35:48<08:57, 134.49s/it]"
     ]
    },
    {
     "name": "stdout",
     "output_type": "stream",
     "text": [
      "{'bucketing': 12, 'encoding': 'index', 'drop_act': 2, 'models': 'Decision Tree', 'Decision Tree': {'max_depth': 15, 'min_samples_leaf': 29, 'criterion': 'entropy'}}\n",
      "bucket :  (2, 6)\n",
      "After OverSampling, the shape of train_X: (59022, 25)\n",
      "After OverSampling, the shape of train_y: (59022,) \n",
      "\n",
      "After OverSampling, counts of label '1': 29511\n",
      "After OverSampling, counts of label '0': 29511\n",
      "bucket :  (6, 10)\n",
      "bucket :  (10, 14)\n",
      "bucket :  (14, 17)\n",
      "bucket :  (17, 20)\n",
      "bucket :  (20, 23)\n",
      "bucket :  (23, 26)\n",
      "bucket :  (26, 29)\n",
      "bucket :  (29, 32)\n",
      "bucket :  (32, 35)\n",
      "bucket :  (35, 38)\n",
      "bucket :  (38, 41)\n"
     ]
    },
    {
     "name": "stderr",
     "output_type": "stream",
     "text": [
      " 85%|████████▌ | 17/20 [38:02<06:43, 134.41s/it]"
     ]
    },
    {
     "name": "stdout",
     "output_type": "stream",
     "text": [
      "{'bucketing': 12, 'encoding': 'index', 'drop_act': 2, 'models': 'Decision Tree', 'LightGBM': {'max_depth': 9, 'num_leaves': 326, 'min_child_samples': 3}}\n",
      "bucket :  (2, 6)\n",
      "After OverSampling, the shape of train_X: (59022, 25)\n",
      "After OverSampling, the shape of train_y: (59022,) \n",
      "\n",
      "After OverSampling, counts of label '1': 29511\n",
      "After OverSampling, counts of label '0': 29511\n",
      "bucket :  (6, 10)\n",
      "bucket :  (10, 14)\n",
      "bucket :  (14, 17)\n",
      "bucket :  (17, 20)\n",
      "bucket :  (20, 23)\n",
      "bucket :  (23, 26)\n",
      "bucket :  (26, 29)\n",
      "bucket :  (29, 32)\n",
      "bucket :  (32, 35)\n",
      "bucket :  (35, 38)\n",
      "bucket :  (38, 41)\n"
     ]
    },
    {
     "name": "stderr",
     "output_type": "stream",
     "text": [
      " 90%|█████████ | 18/20 [40:16<04:28, 134.24s/it]"
     ]
    },
    {
     "name": "stdout",
     "output_type": "stream",
     "text": [
      "{'bucketing': 12, 'encoding': 'index', 'drop_act': 2, 'models': 'Decision Tree', 'Decision Tree': {'max_depth': 11, 'min_samples_leaf': 77, 'criterion': 'gini'}}\n",
      "bucket :  (2, 6)\n",
      "After OverSampling, the shape of train_X: (59022, 25)\n",
      "After OverSampling, the shape of train_y: (59022,) \n",
      "\n",
      "After OverSampling, counts of label '1': 29511\n",
      "After OverSampling, counts of label '0': 29511\n",
      "bucket :  (6, 10)\n",
      "bucket :  (10, 14)\n",
      "bucket :  (14, 17)\n",
      "bucket :  (17, 20)\n",
      "bucket :  (20, 23)\n",
      "bucket :  (23, 26)\n",
      "bucket :  (26, 29)\n",
      "bucket :  (29, 32)\n",
      "bucket :  (32, 35)\n",
      "bucket :  (35, 38)\n",
      "bucket :  (38, 41)\n"
     ]
    },
    {
     "name": "stderr",
     "output_type": "stream",
     "text": [
      " 95%|█████████▌| 19/20 [42:30<02:14, 134.26s/it]"
     ]
    },
    {
     "name": "stdout",
     "output_type": "stream",
     "text": [
      "{'bucketing': 12, 'encoding': 'index', 'drop_act': 2, 'models': 'Decision Tree', 'LightGBM': {'max_depth': 9, 'num_leaves': 326, 'min_child_samples': 3}}\n",
      "bucket :  (2, 6)\n",
      "After OverSampling, the shape of train_X: (59022, 25)\n",
      "After OverSampling, the shape of train_y: (59022,) \n",
      "\n",
      "After OverSampling, counts of label '1': 29511\n",
      "After OverSampling, counts of label '0': 29511\n",
      "bucket :  (6, 10)\n",
      "bucket :  (10, 14)\n",
      "bucket :  (14, 17)\n",
      "bucket :  (17, 20)\n",
      "bucket :  (20, 23)\n",
      "bucket :  (23, 26)\n",
      "bucket :  (26, 29)\n",
      "bucket :  (29, 32)\n",
      "bucket :  (32, 35)\n",
      "bucket :  (35, 38)\n",
      "bucket :  (38, 41)\n"
     ]
    },
    {
     "name": "stderr",
     "output_type": "stream",
     "text": [
      "100%|██████████| 20/20 [44:44<00:00, 134.23s/it]\n",
      "  0%|          | 0/20 [00:00<?, ?it/s]"
     ]
    },
    {
     "name": "stdout",
     "output_type": "stream",
     "text": [
      "{'bucketing': 12, 'encoding': 'index', 'drop_act': 2, 'models': 'Decision Tree', 'LightGBM': {'max_depth': 9, 'num_leaves': 326, 'min_child_samples': 3}}\n",
      "bucket :  (2, 6)\n",
      "After OverSampling, the shape of train_X: (59022, 25)\n",
      "After OverSampling, the shape of train_y: (59022,) \n",
      "\n",
      "After OverSampling, counts of label '1': 29511\n",
      "After OverSampling, counts of label '0': 29511\n",
      "bucket :  (6, 10)\n",
      "bucket :  (10, 14)\n",
      "bucket :  (14, 17)\n",
      "bucket :  (17, 20)\n",
      "bucket :  (20, 23)\n",
      "bucket :  (23, 26)\n",
      "bucket :  (26, 29)\n",
      "bucket :  (29, 32)\n",
      "bucket :  (32, 35)\n",
      "bucket :  (35, 38)\n",
      "bucket :  (38, 41)\n"
     ]
    },
    {
     "name": "stderr",
     "output_type": "stream",
     "text": [
      "  5%|▌         | 1/20 [02:14<42:26, 134.00s/it]"
     ]
    },
    {
     "name": "stdout",
     "output_type": "stream",
     "text": [
      "{'bucketing': 12, 'encoding': 'index', 'drop_act': 2, 'models': 'Decision Tree', 'LightGBM': {'max_depth': 9, 'num_leaves': 326, 'min_child_samples': 3}}\n",
      "bucket :  (2, 6)\n",
      "After OverSampling, the shape of train_X: (59022, 25)\n",
      "After OverSampling, the shape of train_y: (59022,) \n",
      "\n",
      "After OverSampling, counts of label '1': 29511\n",
      "After OverSampling, counts of label '0': 29511\n",
      "bucket :  (6, 10)\n",
      "bucket :  (10, 14)\n",
      "bucket :  (14, 17)\n",
      "bucket :  (17, 20)\n",
      "bucket :  (20, 23)\n",
      "bucket :  (23, 26)\n",
      "bucket :  (26, 29)\n",
      "bucket :  (29, 32)\n",
      "bucket :  (32, 35)\n",
      "bucket :  (35, 38)\n",
      "bucket :  (38, 41)\n"
     ]
    },
    {
     "name": "stderr",
     "output_type": "stream",
     "text": [
      " 10%|█         | 2/20 [04:29<40:24, 134.67s/it]"
     ]
    },
    {
     "name": "stdout",
     "output_type": "stream",
     "text": [
      "{'bucketing': 12, 'encoding': 'index', 'drop_act': 2, 'models': 'Decision Tree', 'LightGBM': {'max_depth': 9, 'num_leaves': 326, 'min_child_samples': 3}}\n",
      "bucket :  (2, 6)\n",
      "After OverSampling, the shape of train_X: (59022, 25)\n",
      "After OverSampling, the shape of train_y: (59022,) \n",
      "\n",
      "After OverSampling, counts of label '1': 29511\n",
      "After OverSampling, counts of label '0': 29511\n",
      "bucket :  (6, 10)\n",
      "bucket :  (10, 14)\n",
      "bucket :  (14, 17)\n",
      "bucket :  (17, 20)\n",
      "bucket :  (20, 23)\n",
      "bucket :  (23, 26)\n",
      "bucket :  (26, 29)\n",
      "bucket :  (29, 32)\n",
      "bucket :  (32, 35)\n",
      "bucket :  (35, 38)\n",
      "bucket :  (38, 41)\n"
     ]
    },
    {
     "name": "stderr",
     "output_type": "stream",
     "text": [
      " 15%|█▌        | 3/20 [06:43<38:03, 134.30s/it]"
     ]
    },
    {
     "name": "stdout",
     "output_type": "stream",
     "text": [
      "{'bucketing': 12, 'encoding': 'index', 'drop_act': 2, 'models': 'Decision Tree', 'Decision Tree': {'max_depth': 15, 'min_samples_leaf': 29, 'criterion': 'entropy'}}\n",
      "bucket :  (2, 6)\n",
      "After OverSampling, the shape of train_X: (59022, 25)\n",
      "After OverSampling, the shape of train_y: (59022,) \n",
      "\n",
      "After OverSampling, counts of label '1': 29511\n",
      "After OverSampling, counts of label '0': 29511\n",
      "bucket :  (6, 10)\n",
      "bucket :  (10, 14)\n",
      "bucket :  (14, 17)\n",
      "bucket :  (17, 20)\n",
      "bucket :  (20, 23)\n",
      "bucket :  (23, 26)\n",
      "bucket :  (26, 29)\n",
      "bucket :  (29, 32)\n",
      "bucket :  (32, 35)\n",
      "bucket :  (35, 38)\n",
      "bucket :  (38, 41)\n"
     ]
    },
    {
     "name": "stderr",
     "output_type": "stream",
     "text": [
      " 20%|██        | 4/20 [08:57<35:49, 134.32s/it]"
     ]
    },
    {
     "name": "stdout",
     "output_type": "stream",
     "text": [
      "{'bucketing': 12, 'encoding': 'index', 'drop_act': 2, 'models': 'Decision Tree', 'LightGBM': {'max_depth': 9, 'num_leaves': 326, 'min_child_samples': 3}}\n",
      "bucket :  (2, 6)\n",
      "After OverSampling, the shape of train_X: (59022, 25)\n",
      "After OverSampling, the shape of train_y: (59022,) \n",
      "\n",
      "After OverSampling, counts of label '1': 29511\n",
      "After OverSampling, counts of label '0': 29511\n",
      "bucket :  (6, 10)\n",
      "bucket :  (10, 14)\n",
      "bucket :  (14, 17)\n",
      "bucket :  (17, 20)\n",
      "bucket :  (20, 23)\n",
      "bucket :  (23, 26)\n",
      "bucket :  (26, 29)\n",
      "bucket :  (29, 32)\n",
      "bucket :  (32, 35)\n",
      "bucket :  (35, 38)\n",
      "bucket :  (38, 41)\n"
     ]
    },
    {
     "name": "stderr",
     "output_type": "stream",
     "text": [
      " 25%|██▌       | 5/20 [11:11<33:33, 134.21s/it]"
     ]
    },
    {
     "name": "stdout",
     "output_type": "stream",
     "text": [
      "{'bucketing': 12, 'encoding': 'index', 'drop_act': 2, 'models': 'Decision Tree', 'LightGBM': {'max_depth': 9, 'num_leaves': 326, 'min_child_samples': 3}}\n",
      "bucket :  (2, 6)\n",
      "After OverSampling, the shape of train_X: (59022, 25)\n",
      "After OverSampling, the shape of train_y: (59022,) \n",
      "\n",
      "After OverSampling, counts of label '1': 29511\n",
      "After OverSampling, counts of label '0': 29511\n",
      "bucket :  (6, 10)\n",
      "bucket :  (10, 14)\n",
      "bucket :  (14, 17)\n",
      "bucket :  (17, 20)\n",
      "bucket :  (20, 23)\n",
      "bucket :  (23, 26)\n",
      "bucket :  (26, 29)\n",
      "bucket :  (29, 32)\n",
      "bucket :  (32, 35)\n",
      "bucket :  (35, 38)\n",
      "bucket :  (38, 41)\n"
     ]
    },
    {
     "name": "stderr",
     "output_type": "stream",
     "text": [
      " 30%|███       | 6/20 [13:25<31:18, 134.21s/it]"
     ]
    },
    {
     "name": "stdout",
     "output_type": "stream",
     "text": [
      "{'bucketing': 12, 'encoding': 'index', 'drop_act': 2, 'models': 'Decision Tree', 'LightGBM': {'max_depth': 9, 'num_leaves': 326, 'min_child_samples': 3}}\n",
      "bucket :  (2, 6)\n",
      "After OverSampling, the shape of train_X: (59022, 25)\n",
      "After OverSampling, the shape of train_y: (59022,) \n",
      "\n",
      "After OverSampling, counts of label '1': 29511\n",
      "After OverSampling, counts of label '0': 29511\n",
      "bucket :  (6, 10)\n",
      "bucket :  (10, 14)\n",
      "bucket :  (14, 17)\n",
      "bucket :  (17, 20)\n",
      "bucket :  (20, 23)\n",
      "bucket :  (23, 26)\n",
      "bucket :  (26, 29)\n",
      "bucket :  (29, 32)\n",
      "bucket :  (32, 35)\n",
      "bucket :  (35, 38)\n",
      "bucket :  (38, 41)\n"
     ]
    },
    {
     "name": "stderr",
     "output_type": "stream",
     "text": [
      " 35%|███▌      | 7/20 [15:40<29:06, 134.33s/it]"
     ]
    },
    {
     "name": "stdout",
     "output_type": "stream",
     "text": [
      "{'bucketing': 12, 'encoding': 'index', 'drop_act': 2, 'models': 'Decision Tree', 'Decision Tree': {'max_depth': 11, 'min_samples_leaf': 77, 'criterion': 'gini'}}\n",
      "bucket :  (2, 6)\n",
      "After OverSampling, the shape of train_X: (59022, 25)\n",
      "After OverSampling, the shape of train_y: (59022,) \n",
      "\n",
      "After OverSampling, counts of label '1': 29511\n",
      "After OverSampling, counts of label '0': 29511\n",
      "bucket :  (6, 10)\n",
      "bucket :  (10, 14)\n",
      "bucket :  (14, 17)\n",
      "bucket :  (17, 20)\n",
      "bucket :  (20, 23)\n",
      "bucket :  (23, 26)\n",
      "bucket :  (26, 29)\n",
      "bucket :  (29, 32)\n",
      "bucket :  (32, 35)\n",
      "bucket :  (35, 38)\n",
      "bucket :  (38, 41)\n"
     ]
    },
    {
     "name": "stderr",
     "output_type": "stream",
     "text": [
      " 40%|████      | 8/20 [17:54<26:52, 134.41s/it]"
     ]
    },
    {
     "name": "stdout",
     "output_type": "stream",
     "text": [
      "{'bucketing': 12, 'encoding': 'index', 'drop_act': 2, 'models': 'Decision Tree', 'Decision Tree': {'max_depth': 15, 'min_samples_leaf': 29, 'criterion': 'entropy'}}\n",
      "bucket :  (2, 6)\n",
      "After OverSampling, the shape of train_X: (59022, 25)\n",
      "After OverSampling, the shape of train_y: (59022,) \n",
      "\n",
      "After OverSampling, counts of label '1': 29511\n",
      "After OverSampling, counts of label '0': 29511\n",
      "bucket :  (6, 10)\n",
      "bucket :  (10, 14)\n",
      "bucket :  (14, 17)\n",
      "bucket :  (17, 20)\n",
      "bucket :  (20, 23)\n",
      "bucket :  (23, 26)\n",
      "bucket :  (26, 29)\n",
      "bucket :  (29, 32)\n",
      "bucket :  (32, 35)\n",
      "bucket :  (35, 38)\n",
      "bucket :  (38, 41)\n"
     ]
    },
    {
     "name": "stderr",
     "output_type": "stream",
     "text": [
      " 45%|████▌     | 9/20 [20:09<24:38, 134.43s/it]"
     ]
    },
    {
     "name": "stdout",
     "output_type": "stream",
     "text": [
      "{'bucketing': 12, 'encoding': 'index', 'drop_act': 2, 'models': 'Decision Tree', 'LightGBM': {'max_depth': 9, 'num_leaves': 326, 'min_child_samples': 3}}\n",
      "bucket :  (2, 6)\n",
      "After OverSampling, the shape of train_X: (59022, 25)\n",
      "After OverSampling, the shape of train_y: (59022,) \n",
      "\n",
      "After OverSampling, counts of label '1': 29511\n",
      "After OverSampling, counts of label '0': 29511\n",
      "bucket :  (6, 10)\n",
      "bucket :  (10, 14)\n",
      "bucket :  (14, 17)\n",
      "bucket :  (17, 20)\n",
      "bucket :  (20, 23)\n",
      "bucket :  (23, 26)\n",
      "bucket :  (26, 29)\n",
      "bucket :  (29, 32)\n",
      "bucket :  (32, 35)\n",
      "bucket :  (35, 38)\n",
      "bucket :  (38, 41)\n"
     ]
    },
    {
     "name": "stderr",
     "output_type": "stream",
     "text": [
      " 50%|█████     | 10/20 [22:23<22:24, 134.48s/it]"
     ]
    },
    {
     "name": "stdout",
     "output_type": "stream",
     "text": [
      "{'bucketing': 12, 'encoding': 'index', 'drop_act': 2, 'models': 'Decision Tree', 'LightGBM': {'max_depth': 9, 'num_leaves': 326, 'min_child_samples': 3}}\n",
      "bucket :  (2, 6)\n",
      "After OverSampling, the shape of train_X: (59022, 25)\n",
      "After OverSampling, the shape of train_y: (59022,) \n",
      "\n",
      "After OverSampling, counts of label '1': 29511\n",
      "After OverSampling, counts of label '0': 29511\n",
      "bucket :  (6, 10)\n",
      "bucket :  (10, 14)\n",
      "bucket :  (14, 17)\n",
      "bucket :  (17, 20)\n",
      "bucket :  (20, 23)\n",
      "bucket :  (23, 26)\n",
      "bucket :  (26, 29)\n",
      "bucket :  (29, 32)\n",
      "bucket :  (32, 35)\n",
      "bucket :  (35, 38)\n",
      "bucket :  (38, 41)\n"
     ]
    },
    {
     "name": "stderr",
     "output_type": "stream",
     "text": [
      " 55%|█████▌    | 11/20 [24:37<20:09, 134.38s/it]"
     ]
    },
    {
     "name": "stdout",
     "output_type": "stream",
     "text": [
      "{'bucketing': 12, 'encoding': 'index', 'drop_act': 2, 'models': 'Decision Tree', 'Decision Tree': {'max_depth': 15, 'min_samples_leaf': 29, 'criterion': 'entropy'}}\n",
      "bucket :  (2, 6)\n",
      "After OverSampling, the shape of train_X: (59022, 25)\n",
      "After OverSampling, the shape of train_y: (59022,) \n",
      "\n",
      "After OverSampling, counts of label '1': 29511\n",
      "After OverSampling, counts of label '0': 29511\n",
      "bucket :  (6, 10)\n",
      "bucket :  (10, 14)\n",
      "bucket :  (14, 17)\n",
      "bucket :  (17, 20)\n",
      "bucket :  (20, 23)\n",
      "bucket :  (23, 26)\n",
      "bucket :  (26, 29)\n",
      "bucket :  (29, 32)\n",
      "bucket :  (32, 35)\n",
      "bucket :  (35, 38)\n",
      "bucket :  (38, 41)\n"
     ]
    },
    {
     "name": "stderr",
     "output_type": "stream",
     "text": [
      " 60%|██████    | 12/20 [26:52<17:55, 134.39s/it]"
     ]
    },
    {
     "name": "stdout",
     "output_type": "stream",
     "text": [
      "{'bucketing': 12, 'encoding': 'index', 'drop_act': 2, 'models': 'Decision Tree', 'LightGBM': {'max_depth': 9, 'num_leaves': 326, 'min_child_samples': 3}}\n",
      "bucket :  (2, 6)\n",
      "After OverSampling, the shape of train_X: (59022, 25)\n",
      "After OverSampling, the shape of train_y: (59022,) \n",
      "\n",
      "After OverSampling, counts of label '1': 29511\n",
      "After OverSampling, counts of label '0': 29511\n",
      "bucket :  (6, 10)\n",
      "bucket :  (10, 14)\n",
      "bucket :  (14, 17)\n",
      "bucket :  (17, 20)\n",
      "bucket :  (20, 23)\n",
      "bucket :  (23, 26)\n",
      "bucket :  (26, 29)\n",
      "bucket :  (29, 32)\n",
      "bucket :  (32, 35)\n",
      "bucket :  (35, 38)\n",
      "bucket :  (38, 41)\n"
     ]
    },
    {
     "name": "stderr",
     "output_type": "stream",
     "text": [
      " 65%|██████▌   | 13/20 [29:07<15:41, 134.51s/it]"
     ]
    },
    {
     "name": "stdout",
     "output_type": "stream",
     "text": [
      "{'bucketing': 12, 'encoding': 'index', 'drop_act': 2, 'models': 'Decision Tree', 'Decision Tree': {'max_depth': 15, 'min_samples_leaf': 29, 'criterion': 'entropy'}}\n",
      "bucket :  (2, 6)\n",
      "After OverSampling, the shape of train_X: (59022, 25)\n",
      "After OverSampling, the shape of train_y: (59022,) \n",
      "\n",
      "After OverSampling, counts of label '1': 29511\n",
      "After OverSampling, counts of label '0': 29511\n",
      "bucket :  (6, 10)\n",
      "bucket :  (10, 14)\n",
      "bucket :  (14, 17)\n",
      "bucket :  (17, 20)\n",
      "bucket :  (20, 23)\n",
      "bucket :  (23, 26)\n",
      "bucket :  (26, 29)\n",
      "bucket :  (29, 32)\n",
      "bucket :  (32, 35)\n",
      "bucket :  (35, 38)\n",
      "bucket :  (38, 41)\n"
     ]
    },
    {
     "name": "stderr",
     "output_type": "stream",
     "text": [
      " 70%|███████   | 14/20 [31:21<13:26, 134.46s/it]"
     ]
    },
    {
     "name": "stdout",
     "output_type": "stream",
     "text": [
      "{'bucketing': 12, 'encoding': 'index', 'drop_act': 2, 'models': 'Decision Tree', 'Decision Tree': {'max_depth': 15, 'min_samples_leaf': 29, 'criterion': 'entropy'}}\n",
      "bucket :  (2, 6)\n",
      "After OverSampling, the shape of train_X: (59022, 25)\n",
      "After OverSampling, the shape of train_y: (59022,) \n",
      "\n",
      "After OverSampling, counts of label '1': 29511\n",
      "After OverSampling, counts of label '0': 29511\n",
      "bucket :  (6, 10)\n",
      "bucket :  (10, 14)\n",
      "bucket :  (14, 17)\n",
      "bucket :  (17, 20)\n",
      "bucket :  (20, 23)\n",
      "bucket :  (23, 26)\n",
      "bucket :  (26, 29)\n",
      "bucket :  (29, 32)\n",
      "bucket :  (32, 35)\n",
      "bucket :  (35, 38)\n",
      "bucket :  (38, 41)\n"
     ]
    },
    {
     "name": "stderr",
     "output_type": "stream",
     "text": [
      " 75%|███████▌  | 15/20 [33:35<11:11, 134.29s/it]"
     ]
    },
    {
     "name": "stdout",
     "output_type": "stream",
     "text": [
      "{'bucketing': 12, 'encoding': 'index', 'drop_act': 2, 'models': 'Decision Tree', 'Decision Tree': {'max_depth': 11, 'min_samples_leaf': 77, 'criterion': 'gini'}}\n",
      "bucket :  (2, 6)\n",
      "After OverSampling, the shape of train_X: (59022, 25)\n",
      "After OverSampling, the shape of train_y: (59022,) \n",
      "\n",
      "After OverSampling, counts of label '1': 29511\n",
      "After OverSampling, counts of label '0': 29511\n",
      "bucket :  (6, 10)\n",
      "bucket :  (10, 14)\n",
      "bucket :  (14, 17)\n",
      "bucket :  (17, 20)\n",
      "bucket :  (20, 23)\n",
      "bucket :  (23, 26)\n",
      "bucket :  (26, 29)\n",
      "bucket :  (29, 32)\n",
      "bucket :  (32, 35)\n",
      "bucket :  (35, 38)\n",
      "bucket :  (38, 41)\n"
     ]
    },
    {
     "name": "stderr",
     "output_type": "stream",
     "text": [
      " 80%|████████  | 16/20 [35:49<08:57, 134.31s/it]"
     ]
    },
    {
     "name": "stdout",
     "output_type": "stream",
     "text": [
      "{'bucketing': 12, 'encoding': 'index', 'drop_act': 2, 'models': 'Decision Tree', 'LightGBM': {'max_depth': 9, 'num_leaves': 326, 'min_child_samples': 3}}\n",
      "bucket :  (2, 6)\n",
      "After OverSampling, the shape of train_X: (59022, 25)\n",
      "After OverSampling, the shape of train_y: (59022,) \n",
      "\n",
      "After OverSampling, counts of label '1': 29511\n",
      "After OverSampling, counts of label '0': 29511\n",
      "bucket :  (6, 10)\n",
      "bucket :  (10, 14)\n",
      "bucket :  (14, 17)\n",
      "bucket :  (17, 20)\n",
      "bucket :  (20, 23)\n",
      "bucket :  (23, 26)\n",
      "bucket :  (26, 29)\n",
      "bucket :  (29, 32)\n",
      "bucket :  (32, 35)\n",
      "bucket :  (35, 38)\n",
      "bucket :  (38, 41)\n"
     ]
    },
    {
     "name": "stderr",
     "output_type": "stream",
     "text": [
      " 85%|████████▌ | 17/20 [38:03<06:42, 134.25s/it]"
     ]
    },
    {
     "name": "stdout",
     "output_type": "stream",
     "text": [
      "{'bucketing': 12, 'encoding': 'index', 'drop_act': 2, 'models': 'Decision Tree', 'Decision Tree': {'max_depth': 11, 'min_samples_leaf': 77, 'criterion': 'gini'}}\n",
      "bucket :  (2, 6)\n",
      "After OverSampling, the shape of train_X: (59022, 25)\n",
      "After OverSampling, the shape of train_y: (59022,) \n",
      "\n",
      "After OverSampling, counts of label '1': 29511\n",
      "After OverSampling, counts of label '0': 29511\n",
      "bucket :  (6, 10)\n",
      "bucket :  (10, 14)\n",
      "bucket :  (14, 17)\n",
      "bucket :  (17, 20)\n",
      "bucket :  (20, 23)\n",
      "bucket :  (23, 26)\n",
      "bucket :  (26, 29)\n",
      "bucket :  (29, 32)\n",
      "bucket :  (32, 35)\n",
      "bucket :  (35, 38)\n",
      "bucket :  (38, 41)\n"
     ]
    },
    {
     "name": "stderr",
     "output_type": "stream",
     "text": [
      " 90%|█████████ | 18/20 [40:18<04:28, 134.28s/it]"
     ]
    },
    {
     "name": "stdout",
     "output_type": "stream",
     "text": [
      "{'bucketing': 12, 'encoding': 'index', 'drop_act': 2, 'models': 'Decision Tree', 'Decision Tree': {'max_depth': 15, 'min_samples_leaf': 29, 'criterion': 'entropy'}}\n",
      "bucket :  (2, 6)\n",
      "After OverSampling, the shape of train_X: (59022, 25)\n",
      "After OverSampling, the shape of train_y: (59022,) \n",
      "\n",
      "After OverSampling, counts of label '1': 29511\n",
      "After OverSampling, counts of label '0': 29511\n",
      "bucket :  (6, 10)\n",
      "bucket :  (10, 14)\n",
      "bucket :  (14, 17)\n",
      "bucket :  (17, 20)\n",
      "bucket :  (20, 23)\n",
      "bucket :  (23, 26)\n",
      "bucket :  (26, 29)\n",
      "bucket :  (29, 32)\n",
      "bucket :  (32, 35)\n",
      "bucket :  (35, 38)\n",
      "bucket :  (38, 41)\n"
     ]
    },
    {
     "name": "stderr",
     "output_type": "stream",
     "text": [
      " 95%|█████████▌| 19/20 [42:32<02:14, 134.39s/it]"
     ]
    },
    {
     "name": "stdout",
     "output_type": "stream",
     "text": [
      "{'bucketing': 12, 'encoding': 'index', 'drop_act': 2, 'models': 'Decision Tree', 'LightGBM': {'max_depth': 9, 'num_leaves': 326, 'min_child_samples': 3}}\n",
      "bucket :  (2, 6)\n",
      "After OverSampling, the shape of train_X: (59022, 25)\n",
      "After OverSampling, the shape of train_y: (59022,) \n",
      "\n",
      "After OverSampling, counts of label '1': 29511\n",
      "After OverSampling, counts of label '0': 29511\n",
      "bucket :  (6, 10)\n",
      "bucket :  (10, 14)\n",
      "bucket :  (14, 17)\n",
      "bucket :  (17, 20)\n",
      "bucket :  (20, 23)\n",
      "bucket :  (23, 26)\n",
      "bucket :  (26, 29)\n",
      "bucket :  (29, 32)\n",
      "bucket :  (32, 35)\n",
      "bucket :  (35, 38)\n",
      "bucket :  (38, 41)\n"
     ]
    },
    {
     "name": "stderr",
     "output_type": "stream",
     "text": [
      "100%|██████████| 20/20 [44:47<00:00, 134.36s/it]\n"
     ]
    }
   ],
   "source": [
    "cnt = 0\n",
    "\n",
    "best_pop = []\n",
    "\n",
    "populations = GA.initial_populations(5)\n",
    "\n",
    "\n",
    "generation_fitness = []\n",
    "generation_score = []\n",
    "generation_time = []\n",
    "generation_failure_rate = []\n",
    "for n_iter in range(max_iter):\n",
    "    new_population = []\n",
    "    tot_score = []\n",
    "    tot_time = []\n",
    "    failure_rate = []\n",
    "    for pop in tqdm(populations):\n",
    "        start_time = time.time()\n",
    "        new_population.append(pop)\n",
    "        print(pop)\n",
    "        if pop['drop_act'] == 2:\n",
    "            df_list = df_list1\n",
    "        elif pop['drop_act'] == 4:\n",
    "            df_list = df_list2\n",
    "        elif pop['drop_act'] == 6:\n",
    "            df_list = df_list3\n",
    "        else:\n",
    "            df_list = df_list4\n",
    "\n",
    "        if pop['encoding'] == 'last_state':\n",
    "            if pop['bucketing'] < 5:\n",
    "                pop['bucketing'] = 5\n",
    "            bound_list = prefix_bound(pop['bucketing'], drop_low=True)\n",
    "        else:\n",
    "            bound_list = prefix_bound(pop['bucketing'])\n",
    "\n",
    "        score = []\n",
    "        for bounds in bound_list:\n",
    "            lower, upper = bounds\n",
    "            merge_df = pd.DataFrame()\n",
    "            print('bucket : ',(lower, upper))\n",
    "            for idx in range(lower, upper):\n",
    "                prefix_df = df_list[idx-2]\n",
    "                prefix_df = GA.encoding(prefix_df, pop['encoding'], idx)\n",
    "                merge_df = pd.concat([merge_df, prefix_df], sort=False)\n",
    "\n",
    "            merge_df = merge_df.fillna(0)\n",
    "\n",
    "            X_train, y_train, X_test, y_test = GA.train_test_set_split(merge_df, pop['encoding'])    \n",
    "\n",
    "            # if 'Decision Tree' in pop:\n",
    "            #     score.append(GA.decision_tree(pop['Decision Tree'], X_train, y_train, X_test, y_test))\n",
    "            # elif 'Random Forest' in pop:\n",
    "            #     score.append(GA.random_forest(pop['Random Forest'], X_train, y_train, X_test, y_test))\n",
    "            # elif 'LightGBM' in pop:\n",
    "            #     score.append(GA.light_gbm(pop['LightGBM'], X_train, y_train, X_test, y_test))\n",
    "            # else: \n",
    "            #     score.append(GA.xgboost(pop['Xgboost'], X_train, y_train, X_test, y_test))                    \n",
    "                \n",
    "            start = time.time()\n",
    "            if pop['models'] == 'Decision Tree':\n",
    "                model = DecisionTreeClassifier()\n",
    "                model.fit(X_train, y_train)\n",
    "                score.append(round((accuracy_score(y_test, model.predict(X_test))+roc_auc_score(y_test, model.predict_proba(X_test)[:, 1]))/2, 4))\n",
    "                \n",
    "            elif pop['models'] == 'Random Forest':\n",
    "                model = RandomForestClassifier()\n",
    "                model.fit(X_train, y_train)\n",
    "                score.append(round((accuracy_score(y_test, model.predict(X_test))+roc_auc_score(y_test, model.predict_proba(X_test)[:, 1]))/2, 4))\n",
    "            elif pop['models'] == 'LightGBM':\n",
    "                model = LGBMClassifier()\n",
    "                model.fit(X_train, y_train)\n",
    "                score.append(round((accuracy_score(y_test, model.predict(X_test))+roc_auc_score(y_test, model.predict_proba(X_test)[:, 1]))/2, 4))\n",
    "            else: \n",
    "                model = XGBClassifier()\n",
    "                model.fit(X_train, y_train)\n",
    "                score.append(round((accuracy_score(y_test, model.predict(X_test))+roc_auc_score(y_test, model.predict_proba(X_test)[:, 1]))/2, 4))\n",
    "    \n",
    "        end_time = time.time()\n",
    "\n",
    "        elapsed_time = round(end_time-start_time,4)\n",
    "\n",
    "        tot_time.append(elapsed_time)\n",
    "        tot_score.append(round(sum(score)/len(score),4))\n",
    "\n",
    "        min_proba = 0.7\n",
    "        failure_rate.append(len([i for i in score if i < min_proba])/len(score))\n",
    "\n",
    "    fitness = GA.fitness(tot_score, failure_rate, tot_time)\n",
    "    best_pop.append(populations[np.argmax(fitness)])\n",
    "\n",
    "    N = len(new_population)\n",
    "    pop1 = GA.select_population(new_population, fitness, N*sr)\n",
    "    pop2 = GA.crossover(new_population, fitness, N, cr)\n",
    "    pop3 = GA.mutation(new_population, N, mr)\n",
    "\n",
    "    populations = pop1 + pop2 + pop3\n",
    "\n",
    "    generation_fitness.append(round(sum(fitness)/len(fitness),4))\n",
    "    generation_time.append(sum(tot_time))\n",
    "    generation_score.append(round(sum(tot_score)/len(tot_score),4))\n",
    "    generation_failure_rate.append(round(sum(failure_rate)/len(failure_rate),4))\n",
    "    \n",
    "    if cnt > 5:\n",
    "        break\n",
    "    \n",
    "    elif len(generation_fitness) > 1:\n",
    "        if abs(generation_fitness[-1]-generation_fitness[-2]) < 0.001:\n",
    "            break \n",
    "        elif (generation_fitness[-1]-generation_fitness[-2]) < 0:\n",
    "            cnt += 1\n",
    "            "
   ]
  },
  {
   "cell_type": "code",
   "execution_count": 37,
   "id": "fddfadb6",
   "metadata": {},
   "outputs": [
    {
     "name": "stdout",
     "output_type": "stream",
     "text": [
      "[0.682, 0.639, 0.691, 0.7905, 0.8485, 0.8565, 0.861, 0.8335, 0.8345, 0.8975, 0.8725, 0.941, 0.946, 0.778, 0.7715, 0.7345, 0.814]\n",
      "48350.143899999995\n",
      "[0.8354, 0.8052, 0.835, 0.8861, 0.924, 0.9309, 0.9409, 0.9179, 0.9125, 0.9459, 0.9687, 0.9771, 0.9797, 0.9803, 0.9803, 0.9804, 0.9805]\n",
      "[0.09, 0.2184, 0.1215, 0.0528, 0.0262, 0.0143, 0.0042, 0.0143, 0.0256, 0.0167, 0.0, 0.0, 0.0, 0.0, 0.0, 0.0, 0.0]\n",
      "{'bucketing': 12, 'encoding': 'index', 'drop_act': 2, 'models': 'Decision Tree', 'LightGBM': {'max_depth': 9, 'num_leaves': 326, 'min_child_samples': 3}}\n",
      "0.9808\n"
     ]
    }
   ],
   "source": [
    "print(generation_fitness)\n",
    "print(sum(generation_time))\n",
    "print(generation_score)\n",
    "print(generation_failure_rate)\n",
    "print(best_pop[-1])\n",
    "print(tot_score[np.argmax(fitness)])"
   ]
  },
  {
   "cell_type": "markdown",
   "id": "542533c1",
   "metadata": {},
   "source": [
    "### - Random Search"
   ]
  },
  {
   "cell_type": "code",
   "execution_count": 39,
   "id": "ed13881d",
   "metadata": {},
   "outputs": [],
   "source": [
    "from sklearn.model_selection import RandomizedSearchCV"
   ]
  },
  {
   "cell_type": "code",
   "execution_count": 40,
   "id": "3170ab0f",
   "metadata": {},
   "outputs": [
    {
     "name": "stdout",
     "output_type": "stream",
     "text": [
      "bucket :  (2, 6)\n",
      "After OverSampling, the shape of train_X: (59022, 25)\n",
      "After OverSampling, the shape of train_y: (59022,) \n",
      "\n",
      "After OverSampling, counts of label '1': 29511\n",
      "After OverSampling, counts of label '0': 29511\n"
     ]
    },
    {
     "name": "stderr",
     "output_type": "stream",
     "text": [
      "C:\\Users\\yeon1\\AppData\\Local\\Packages\\PythonSoftwareFoundation.Python.3.10_qbz5n2kfra8p0\\LocalCache\\local-packages\\Python310\\site-packages\\sklearn\\model_selection\\_search.py:306: UserWarning: The total space of parameters 8 is smaller than n_iter=20. Running 8 iterations. For exhaustive searches, use GridSearchCV.\n",
      "  warnings.warn(\n"
     ]
    },
    {
     "name": "stdout",
     "output_type": "stream",
     "text": [
      "Best Score: 0.902338653407735\n",
      "Best Hyperparameters: {'min_samples_leaf': 5, 'max_depth': 2, 'criterion': 'gini'}\n",
      "bucket :  (6, 10)\n"
     ]
    },
    {
     "name": "stderr",
     "output_type": "stream",
     "text": [
      "C:\\Users\\yeon1\\AppData\\Local\\Packages\\PythonSoftwareFoundation.Python.3.10_qbz5n2kfra8p0\\LocalCache\\local-packages\\Python310\\site-packages\\sklearn\\model_selection\\_search.py:306: UserWarning: The total space of parameters 8 is smaller than n_iter=20. Running 8 iterations. For exhaustive searches, use GridSearchCV.\n",
      "  warnings.warn(\n"
     ]
    },
    {
     "name": "stdout",
     "output_type": "stream",
     "text": [
      "Best Score: 0.8369378673875927\n",
      "Best Hyperparameters: {'min_samples_leaf': 100, 'max_depth': 20, 'criterion': 'gini'}\n",
      "bucket :  (10, 14)\n"
     ]
    },
    {
     "name": "stderr",
     "output_type": "stream",
     "text": [
      "C:\\Users\\yeon1\\AppData\\Local\\Packages\\PythonSoftwareFoundation.Python.3.10_qbz5n2kfra8p0\\LocalCache\\local-packages\\Python310\\site-packages\\sklearn\\model_selection\\_search.py:306: UserWarning: The total space of parameters 8 is smaller than n_iter=20. Running 8 iterations. For exhaustive searches, use GridSearchCV.\n",
      "  warnings.warn(\n"
     ]
    },
    {
     "name": "stdout",
     "output_type": "stream",
     "text": [
      "Best Score: 0.9016726354759917\n",
      "Best Hyperparameters: {'min_samples_leaf': 5, 'max_depth': 20, 'criterion': 'gini'}\n",
      "bucket :  (14, 17)\n"
     ]
    },
    {
     "name": "stderr",
     "output_type": "stream",
     "text": [
      "C:\\Users\\yeon1\\AppData\\Local\\Packages\\PythonSoftwareFoundation.Python.3.10_qbz5n2kfra8p0\\LocalCache\\local-packages\\Python310\\site-packages\\sklearn\\model_selection\\_search.py:306: UserWarning: The total space of parameters 8 is smaller than n_iter=20. Running 8 iterations. For exhaustive searches, use GridSearchCV.\n",
      "  warnings.warn(\n"
     ]
    },
    {
     "name": "stdout",
     "output_type": "stream",
     "text": [
      "Best Score: 0.902323979195532\n",
      "Best Hyperparameters: {'min_samples_leaf': 5, 'max_depth': 20, 'criterion': 'gini'}\n",
      "bucket :  (17, 20)\n"
     ]
    },
    {
     "name": "stderr",
     "output_type": "stream",
     "text": [
      "C:\\Users\\yeon1\\AppData\\Local\\Packages\\PythonSoftwareFoundation.Python.3.10_qbz5n2kfra8p0\\LocalCache\\local-packages\\Python310\\site-packages\\sklearn\\model_selection\\_search.py:306: UserWarning: The total space of parameters 8 is smaller than n_iter=20. Running 8 iterations. For exhaustive searches, use GridSearchCV.\n",
      "  warnings.warn(\n"
     ]
    },
    {
     "name": "stdout",
     "output_type": "stream",
     "text": [
      "Best Score: 0.914145871608938\n",
      "Best Hyperparameters: {'min_samples_leaf': 5, 'max_depth': 20, 'criterion': 'gini'}\n",
      "bucket :  (20, 23)\n"
     ]
    },
    {
     "name": "stderr",
     "output_type": "stream",
     "text": [
      "C:\\Users\\yeon1\\AppData\\Local\\Packages\\PythonSoftwareFoundation.Python.3.10_qbz5n2kfra8p0\\LocalCache\\local-packages\\Python310\\site-packages\\sklearn\\model_selection\\_search.py:306: UserWarning: The total space of parameters 8 is smaller than n_iter=20. Running 8 iterations. For exhaustive searches, use GridSearchCV.\n",
      "  warnings.warn(\n"
     ]
    },
    {
     "name": "stdout",
     "output_type": "stream",
     "text": [
      "Best Score: 0.920578134602762\n",
      "Best Hyperparameters: {'min_samples_leaf': 5, 'max_depth': 20, 'criterion': 'entropy'}\n",
      "bucket :  (23, 26)\n"
     ]
    },
    {
     "name": "stderr",
     "output_type": "stream",
     "text": [
      "C:\\Users\\yeon1\\AppData\\Local\\Packages\\PythonSoftwareFoundation.Python.3.10_qbz5n2kfra8p0\\LocalCache\\local-packages\\Python310\\site-packages\\sklearn\\model_selection\\_search.py:306: UserWarning: The total space of parameters 8 is smaller than n_iter=20. Running 8 iterations. For exhaustive searches, use GridSearchCV.\n",
      "  warnings.warn(\n"
     ]
    },
    {
     "name": "stdout",
     "output_type": "stream",
     "text": [
      "Best Score: 0.929971519462472\n",
      "Best Hyperparameters: {'min_samples_leaf': 5, 'max_depth': 20, 'criterion': 'gini'}\n",
      "bucket :  (26, 29)\n"
     ]
    },
    {
     "name": "stderr",
     "output_type": "stream",
     "text": [
      "C:\\Users\\yeon1\\AppData\\Local\\Packages\\PythonSoftwareFoundation.Python.3.10_qbz5n2kfra8p0\\LocalCache\\local-packages\\Python310\\site-packages\\sklearn\\model_selection\\_search.py:306: UserWarning: The total space of parameters 8 is smaller than n_iter=20. Running 8 iterations. For exhaustive searches, use GridSearchCV.\n",
      "  warnings.warn(\n"
     ]
    },
    {
     "name": "stdout",
     "output_type": "stream",
     "text": [
      "Best Score: 0.9379784031758076\n",
      "Best Hyperparameters: {'min_samples_leaf': 5, 'max_depth': 20, 'criterion': 'gini'}\n",
      "bucket :  (29, 32)\n"
     ]
    },
    {
     "name": "stderr",
     "output_type": "stream",
     "text": [
      "C:\\Users\\yeon1\\AppData\\Local\\Packages\\PythonSoftwareFoundation.Python.3.10_qbz5n2kfra8p0\\LocalCache\\local-packages\\Python310\\site-packages\\sklearn\\model_selection\\_search.py:306: UserWarning: The total space of parameters 8 is smaller than n_iter=20. Running 8 iterations. For exhaustive searches, use GridSearchCV.\n",
      "  warnings.warn(\n"
     ]
    },
    {
     "name": "stdout",
     "output_type": "stream",
     "text": [
      "Best Score: 0.9455936922895812\n",
      "Best Hyperparameters: {'min_samples_leaf': 5, 'max_depth': 20, 'criterion': 'gini'}\n",
      "bucket :  (32, 35)\n"
     ]
    },
    {
     "name": "stderr",
     "output_type": "stream",
     "text": [
      "C:\\Users\\yeon1\\AppData\\Local\\Packages\\PythonSoftwareFoundation.Python.3.10_qbz5n2kfra8p0\\LocalCache\\local-packages\\Python310\\site-packages\\sklearn\\model_selection\\_search.py:306: UserWarning: The total space of parameters 8 is smaller than n_iter=20. Running 8 iterations. For exhaustive searches, use GridSearchCV.\n",
      "  warnings.warn(\n"
     ]
    },
    {
     "name": "stdout",
     "output_type": "stream",
     "text": [
      "Best Score: 0.953215551675554\n",
      "Best Hyperparameters: {'min_samples_leaf': 5, 'max_depth': 20, 'criterion': 'gini'}\n",
      "bucket :  (35, 38)\n"
     ]
    },
    {
     "name": "stderr",
     "output_type": "stream",
     "text": [
      "C:\\Users\\yeon1\\AppData\\Local\\Packages\\PythonSoftwareFoundation.Python.3.10_qbz5n2kfra8p0\\LocalCache\\local-packages\\Python310\\site-packages\\sklearn\\model_selection\\_search.py:306: UserWarning: The total space of parameters 8 is smaller than n_iter=20. Running 8 iterations. For exhaustive searches, use GridSearchCV.\n",
      "  warnings.warn(\n"
     ]
    },
    {
     "name": "stdout",
     "output_type": "stream",
     "text": [
      "Best Score: 0.9577729304580089\n",
      "Best Hyperparameters: {'min_samples_leaf': 5, 'max_depth': 20, 'criterion': 'entropy'}\n",
      "bucket :  (38, 41)\n"
     ]
    },
    {
     "name": "stderr",
     "output_type": "stream",
     "text": [
      "C:\\Users\\yeon1\\AppData\\Local\\Packages\\PythonSoftwareFoundation.Python.3.10_qbz5n2kfra8p0\\LocalCache\\local-packages\\Python310\\site-packages\\sklearn\\model_selection\\_search.py:306: UserWarning: The total space of parameters 8 is smaller than n_iter=20. Running 8 iterations. For exhaustive searches, use GridSearchCV.\n",
      "  warnings.warn(\n"
     ]
    },
    {
     "name": "stdout",
     "output_type": "stream",
     "text": [
      "Best Score: 0.9644813956521302\n",
      "Best Hyperparameters: {'min_samples_leaf': 5, 'max_depth': 20, 'criterion': 'entropy'}\n",
      "275.4128\n",
      "[0.7996, 0.7815, 0.868, 0.8894, 0.9012, 0.9017, 0.9101, 0.9274, 0.9398, 0.9434, 0.9403, 0.9473]\n"
     ]
    }
   ],
   "source": [
    "model = {'Decision Tree' : DecisionTreeClassifier(), 'Random Forest' : RandomForestClassifier(), 'LightGBM' : LGBMClassifier(), 'Xgboost' : XGBClassifier()}\n",
    "\n",
    "start_time = time.time()\n",
    "\n",
    "pop = best_pop[-1]\n",
    "\n",
    "best_params = []\n",
    "\n",
    "if pop['drop_act'] == 2:\n",
    "    df_list = df_list1\n",
    "elif pop['drop_act'] == 4:\n",
    "    df_list = df_list2\n",
    "elif pop['drop_act'] == 6:\n",
    "    df_list = df_list3\n",
    "else:\n",
    "    df_list = df_list4\n",
    "\n",
    "bound_list = prefix_bound(pop['bucketing'])\n",
    "\n",
    "score = []\n",
    "for bounds in bound_list:\n",
    "    lower, upper = bounds\n",
    "    merge_df = pd.DataFrame()\n",
    "    print('bucket : ',(lower, upper))\n",
    "    for idx in range(lower, upper):\n",
    "        prefix_df = df_list[idx-2]\n",
    "        prefix_df = GA.encoding(prefix_df, pop['encoding'], idx)\n",
    "        merge_df = pd.concat([merge_df, prefix_df], sort=False)\n",
    "\n",
    "    merge_df = merge_df.fillna(0)\n",
    "\n",
    "    X_train, y_train, X_test, y_test = GA.train_test_set_split(merge_df, pop['encoding']) \n",
    "\n",
    "    space = options['params'][pop['models']]\n",
    "\n",
    "    search = RandomizedSearchCV(RandomForestClassifier(), space, n_iter=20, scoring='roc_auc', n_jobs=-1, random_state=1)\n",
    "    result = search.fit(X_train, y_train)\n",
    "    random_search_params = result.best_params_\n",
    "    best_params.append(random_search_params)\n",
    "\n",
    "    print('Best Score: %s' % result.best_score_)\n",
    "    print('Best Hyperparameters: %s' % result.best_params_)\n",
    "    \n",
    "    model = RandomForestClassifier(**random_search_params, random_state = 42)\n",
    "    model.fit(X_train, y_train)\n",
    "    score.append(round((accuracy_score(y_test, model.predict(X_test))+roc_auc_score(y_test, model.predict_proba(X_test)[:, 1]))/2, 4))\n",
    "\n",
    "\n",
    "end_time = time.time()\n",
    "elapsed_time = round(end_time-start_time,4)\n",
    "\n",
    "print(elapsed_time)\n",
    "print(score)"
   ]
  },
  {
   "cell_type": "markdown",
   "id": "9bcc900a",
   "metadata": {},
   "source": [
    "# Experiment 3\n",
    "### - Genetic Algorithm"
   ]
  },
  {
   "cell_type": "code",
   "execution_count": null,
   "id": "ed497201",
   "metadata": {},
   "outputs": [],
   "source": [
    "\"\"\"\n",
    "GA : Genetic Algorithm\n",
    "RS : Random Search\n",
    "\"\"\"\n",
    "# phase = 1 # drop_activity(GA) + encoding(GA) + bucketing(GA) + ML params(GA) + hyperparameter opt(GA)\n",
    "# phase = 2 # drop_activity(GA) + encoding(GA) + bucketing(GA) + ML params(GA) + hyperparameter opt(RS)\n",
    "phase = 3 # drop_activity(GA) + encoding(GA) + bucketing(GA) + ML params(RS) + hyperparameter opt(RS)\n",
    "# phase = 4 # drop_activity(RS) + encoding(RS) + bucketing(RS) + ML params(RS) + hyperparameter opt(RS)\n",
    "\n",
    "GA = Genetic_Algorithm(df, options, combi, caseid, activity, ts, label, other_features, phase)\n",
    "GA.feature_type()\n"
   ]
  },
  {
   "cell_type": "code",
   "execution_count": null,
   "id": "66520dae",
   "metadata": {},
   "outputs": [],
   "source": [
    "populations = GA.initial_populations(20)\n",
    "\n",
    "best_pop = []\n",
    "generation_fitness = []\n",
    "generation_score = []\n",
    "generation_time = []\n",
    "generation_failure_rate = []\n",
    "for n_iter in range(max_iter):\n",
    "    new_population = []\n",
    "    tot_score = []\n",
    "    tot_time = []\n",
    "    failure_rate = []\n",
    "    for pop in tqdm(populations):\n",
    "        new_population.append(pop)\n",
    "        start_time = time.time()\n",
    "        print(pop)\n",
    "        if pop['drop_act'] == 2:\n",
    "            df_list = df_list1\n",
    "        elif pop['drop_act'] == 4:\n",
    "            df_list = df_list2\n",
    "        elif pop['drop_act'] == 6:\n",
    "            df_list = df_list3\n",
    "        else:\n",
    "            df_list = df_list4\n",
    "            \n",
    "        if pop['encoding'] == 'last_state':\n",
    "            bound_list = prefix_bound(pop['bucketing'], drop_low=True)\n",
    "        else:\n",
    "            bound_list = prefix_bound(pop['bucketing'])\n",
    "\n",
    "        score = []\n",
    "        for bounds in bound_list:\n",
    "            lower, upper = bounds\n",
    "            merge_df = pd.DataFrame()\n",
    "            print('bucket : ',(lower, upper))\n",
    "            for idx in range(lower, upper):\n",
    "                prefix_df = df_list[idx-2]\n",
    "                prefix_df = GA.encoding(prefix_df, pop['encoding'], idx)\n",
    "                merge_df = pd.concat([merge_df, prefix_df], sort=False)\n",
    "\n",
    "            merge_df = merge_df.fillna(0)\n",
    "\n",
    "            X_train, y_train, X_test, y_test = GA.train_test_set_split(merge_df, pop['encoding'])    \n",
    "\n",
    "            #start = time.time()\n",
    "            model = XGBClassifier()\n",
    "            model.fit(X_train, y_train)\n",
    "            score.append(round((accuracy_score(y_test, model.predict(X_test))+roc_auc_score(y_test, model.predict_proba(X_test)[:, 1]))/2, 4))\n",
    "            \n",
    "\n",
    "        end_time = time.time()\n",
    "\n",
    "        elapsed_time = round(end_time-start_time,2)\n",
    "        tot_time.append(elapsed_time)\n",
    "        tot_score.append(round(sum(score)/len(score),2))\n",
    "\n",
    "        min_proba = 0.7\n",
    "        failure_rate.append(len([i for i in score if i < min_proba])/len(score))\n",
    "\n",
    "    fitness = GA.fitness(tot_score, failure_rate, tot_time)\n",
    "    best_pop.append(populations[np.argmax(fitness)])\n",
    "\n",
    "    N = len(new_population)\n",
    "    pop1 = GA.select_population(new_population, fitness, N*sr)\n",
    "    pop2 = GA.crossover(new_population, fitness, N, cr)\n",
    "    pop3 = GA.mutation(new_population, N, mr)\n",
    "    \n",
    "    populations = pop1 + pop2 + pop3\n",
    "    \n",
    "    generation_fitness.append(round(sum(fitness)/len(fitness),2))\n",
    "    generation_time.append(sum(tot_time))\n",
    "    generation_score.append(round(sum(tot_score)/len(tot_score),2))\n",
    "    generation_failure_rate.append(round(sum(failure_rate)/len(failure_rate),2))"
   ]
  },
  {
   "cell_type": "markdown",
   "id": "665a183b",
   "metadata": {},
   "source": [
    "### - Random Search"
   ]
  },
  {
   "cell_type": "code",
   "execution_count": null,
   "id": "ec528bed",
   "metadata": {},
   "outputs": [],
   "source": [
    "# random search\n",
    "models = {'Decision Tree' : DecisionTreeClassifier(), 'Random Forest' : RandomForestClassifier(), 'LightGBM' : LGBMClassifier(), 'Xgboost' : XGBClassifier()}\n",
    "\n",
    "start_time = time.time()\n",
    "\n",
    "pop = best_pop[-1]\n",
    "\n",
    "if pop['drop_act'] == 2:\n",
    "    df_list = df_list1\n",
    "elif pop['drop_act'] == 4:\n",
    "    df_list = df_list2\n",
    "elif pop['drop_act'] == 6:\n",
    "    df_list = df_list3\n",
    "else:\n",
    "    df_list = df_list4\n",
    "\n",
    "bound_list = prefix_bound(pop['bucketing'])\n",
    "\n",
    "score = {'DT':[], 'RF':[], 'LGBM':[], 'XGB':[]}\n",
    "best_param = {'DT':[], 'RF':[], 'LGBM':[], 'XGB':[]}\n",
    "avg_score = []\n",
    "\n",
    "for bounds in bound_list:\n",
    "    lower, upper = bounds\n",
    "    merge_df = pd.DataFrame()\n",
    "    print('bucket : ',(lower, upper))\n",
    "    for idx in range(lower, upper):\n",
    "        prefix_df = df_list1[idx-2]\n",
    "        prefix_df = GA.encoding(prefix_df, pop['encoding'], idx)\n",
    "        merge_df = pd.concat([merge_df, prefix_df], sort=False)\n",
    "\n",
    "    merge_df = merge_df.fillna(0)\n",
    "\n",
    "    X_train, y_train, X_test, y_test = GA.train_test_set_split(merge_df, pop['encoding']) \n",
    "    avg = 0\n",
    "    for model in models.keys():\n",
    "        if model == 'Decision Tree':\n",
    "            space = options['params']['Decision Tree']\n",
    "            search = RandomizedSearchCV(models['Decision Tree'], space, n_iter=20, scoring='roc_auc', n_jobs=-1, random_state=1)\n",
    "            result = search.fit(X_train, y_train)\n",
    "            random_search_params = result.best_params_\n",
    "            best_param['DT'].append(random_search_params)\n",
    "            model = DecisionTreeClassifier(**random_search_params, random_state = 42)\n",
    "            model.fit(X_train, y_train)\n",
    "            sc = round((accuracy_score(y_test, model.predict(X_test))+roc_auc_score(y_test, model.predict_proba(X_test)[:, 1]))/2, 4)\n",
    "            score['DT'].append(sc)\n",
    "            avg += sc\n",
    "        elif model == 'Random Forest':\n",
    "            space = options['params']['Random Forest']\n",
    "            search = RandomizedSearchCV(models['Random Forest'], space, n_iter=20, scoring='roc_auc', n_jobs=-1, random_state=1)\n",
    "            result = search.fit(X_train, y_train)\n",
    "            random_search_params = result.best_params_\n",
    "            best_param['RF'].append(random_search_params)\n",
    "            model = RandomForestClassifier(**random_search_params, random_state = 42)\n",
    "            model.fit(X_train, y_train)\n",
    "            sc = round((accuracy_score(y_test, model.predict(X_test))+roc_auc_score(y_test, model.predict_proba(X_test)[:, 1]))/2, 4)            \n",
    "            score['RF'].append(sc)\n",
    "            avg += sc\n",
    "        elif model == 'LightGBM':\n",
    "            space = options['params']['LightGBM']\n",
    "            search = RandomizedSearchCV(models['LightGBM'], space, n_iter=20, scoring='roc_auc', n_jobs=-1, random_state=1)\n",
    "            result = search.fit(X_train, y_train)\n",
    "            random_search_params = result.best_params_\n",
    "            best_param['LGBM'].append(random_search_params)\n",
    "            model = LGBMClassifier(**random_search_params, random_state = 42)\n",
    "            model.fit(X_train, y_train)\n",
    "            sc = round((accuracy_score(y_test, model.predict(X_test))+roc_auc_score(y_test, model.predict_proba(X_test)[:, 1]))/2, 4)\n",
    "            score['LGBM'].append(sc)\n",
    "            avg += sc\n",
    "        elif model == 'Xgboost':\n",
    "            space = options['params']['Xgboost']\n",
    "            search = RandomizedSearchCV(models['Xgboost'], space, n_iter=20, scoring='roc_auc', n_jobs=-1, random_state=1)\n",
    "            result = search.fit(X_train, y_train)\n",
    "            random_search_params = result.best_params_\n",
    "            best_param['XGB'].append(random_search_params)\n",
    "            model = XGBClassifier(**random_search_params, random_state = 42)\n",
    "            model.fit(X_train, y_train)\n",
    "            sc = round((accuracy_score(y_test, model.predict(X_test))+roc_auc_score(y_test, model.predict_proba(X_test)[:, 1]))/2, 4)\n",
    "            score['XGB'].append(sc)\n",
    "            avg += sc\n",
    "            \n",
    "    avg_score.append(round(avg/4, 4))\n",
    "\n",
    "end_time = time.time()\n",
    "elapsed_time = round(end_time-start_time,4)\n",
    "\n",
    "print(elapsed_time)\n",
    "print(score)\n",
    "print(np.mean(score))"
   ]
  },
  {
   "cell_type": "markdown",
   "id": "28f5844b",
   "metadata": {},
   "source": [
    "# Experiment 4\n",
    "### - Random search"
   ]
  },
  {
   "cell_type": "code",
   "execution_count": null,
   "id": "465ab845",
   "metadata": {},
   "outputs": [],
   "source": [
    "\"\"\"\n",
    "GA : Genetic Algorithm\n",
    "RS : Random Search\n",
    "\"\"\"\n",
    "# phase = 1 # drop_activity(GA) + encoding(GA) + bucketing(GA) + ML params(GA) + hyperparameter opt(GA)\n",
    "# phase = 2 # drop_activity(GA) + encoding(GA) + bucketing(GA) + ML params(GA) + hyperparameter opt(RS)\n",
    "# phase = 3 # drop_activity(GA) + encoding(GA) + bucketing(GA) + ML params(RS) + hyperparameter opt(RS)\n",
    "phase = 4 # drop_activity(RS) + encoding(RS) + bucketing(RS) + ML params(RS) + hyperparameter opt(RS)\n",
    "\n",
    "GA = Genetic_Algorithm(df, options, combi, caseid, activity, ts, label, other_features, phase)\n",
    "GA.feature_type()"
   ]
  },
  {
   "cell_type": "code",
   "execution_count": null,
   "id": "76e0432a",
   "metadata": {},
   "outputs": [],
   "source": [
    "score = []\n",
    "\n",
    "start_time = time.time()\n",
    "\n",
    "populations = GA.initial_populations(100)\n",
    "\n",
    "for pop in tqdm(populations):\n",
    "    print(pop)\n",
    "    if pop['drop_act'] == 2:\n",
    "        df_list = df_list1\n",
    "    elif pop['drop_act'] == 4:\n",
    "        df_list = df_list2\n",
    "    elif pop['drop_act'] == 6:\n",
    "        df_list = df_list3\n",
    "    else:\n",
    "        df_list = df_list4\n",
    "\n",
    "    bound_list = prefix_bound(pop['bucketing'])\n",
    "\n",
    "    for bounds in bound_list:\n",
    "        lower, upper = bounds\n",
    "        merge_df = pd.DataFrame()\n",
    "        print('bucket : ',(lower, upper))\n",
    "        for idx in range(lower, upper):\n",
    "            prefix_df = df_list[idx-2]\n",
    "            prefix_df = GA.encoding(prefix_df, pop['encoding'], idx)\n",
    "            merge_df = pd.concat([merge_df, prefix_df], sort=False)\n",
    "\n",
    "        merge_df = merge_df.fillna(0)\n",
    "\n",
    "        X_train, y_train, X_test, y_test = GA.train_test_set_split(merge_df, pop['encoding'])\n",
    "\n",
    "        #start = time.time()\n",
    "        if 'Decision Tree' in pop:\n",
    "            score.append(GA.decision_tree(pop['Decision Tree'], X_train, y_train, X_test, y_test))\n",
    "        elif 'Random Forest' in pop:\n",
    "            score.append(GA.random_forest(pop['Random Forest'], X_train, y_train, X_test, y_test))\n",
    "        elif 'LightGBM' in pop:\n",
    "            score.append(GA.light_gbm(pop['LightGBM'], X_train, y_train, X_test, y_test))\n",
    "        else: \n",
    "            score.append(GA.xgboost(pop['Xgboost'], X_train, y_train, X_test, y_test))\n",
    "\n",
    "end_time = time.time()\n",
    "tot_time = round(end_time-start_time,4)\n",
    "tot_score = (round(sum(score)/len(score),4))\n",
    "\n",
    "best_pop = populations[np.argmax(score)]\n",
    "best_score = max(score)\n",
    "\n",
    "print('best instance is ', best_pop)        \n",
    "print('best score is ', best_score)        \n",
    "print('total time is ', tot_time)"
   ]
  }
 ],
 "metadata": {
  "kernelspec": {
   "display_name": "Python 3.10.8 64-bit (microsoft store)",
   "language": "python",
   "name": "python3"
  },
  "language_info": {
   "codemirror_mode": {
    "name": "ipython",
    "version": 3
   },
   "file_extension": ".py",
   "mimetype": "text/x-python",
   "name": "python",
   "nbconvert_exporter": "python",
   "pygments_lexer": "ipython3",
   "version": "3.10.8"
  },
  "vscode": {
   "interpreter": {
    "hash": "89ea80d57eb15db2b2c34f3c90a65f136145061d7e5ac43992953d1b221026f6"
   }
  }
 },
 "nbformat": 4,
 "nbformat_minor": 5
}
